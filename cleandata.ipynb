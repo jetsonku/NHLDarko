{
 "cells": [
  {
   "cell_type": "code",
   "execution_count": 3,
   "metadata": {},
   "outputs": [],
   "source": [
    "import pandas as pd\n",
    "import numpy as np"
   ]
  },
  {
   "cell_type": "code",
   "execution_count": 11,
   "metadata": {},
   "outputs": [],
   "source": [
    "\n",
    "master = []\n",
    "for year in range(2007, 2023):\n",
    "    skaters = pd.read_csv(f'cleaned/{year}{year+1}_skaters.csv', encoding='utf-8')\n",
    "    skaters['Season'] = str(year) + str(year+1)\n",
    "    skaters['Player'] = skaters['Player'].str.replace('\\xa0', ' ')\n",
    "    skaters['Player'] = skaters['Player'].str.replace('Tim Stützle', 'Tim Stutzle')\n",
    "    skaters['Player'] = skaters['Player'].str.replace('Alexis Lafrenière', 'Alexis Lafreniere')\n",
    "\n",
    "    skaters['Date'] = skaters['Date'].str.replace('/', '-')\n",
    "    skaters.to_csv(f'cleaned/{year}{year+1}_skaters.csv')\n",
    "    master.append(skaters)\n",
    "skaters['Season'] = skaters['Season'].astype(object)\n",
    "skaters = pd.concat(master)\n",
    "skaters = skaters.reset_index(drop=True)\n",
    "skaters.to_csv('cleaned/master_skaters.csv', encoding='utf-8')"
   ]
  },
  {
   "cell_type": "code",
   "execution_count": 4,
   "metadata": {},
   "outputs": [],
   "source": [
    "skaters = pd.read_csv(f'cleaned/master_skaters.csv')\n",
    "skaters['exGF'] = skaters['TOI']*0.032+0.055\n",
    "skaters['exGA'] = skaters['TOI']*0.032+0.055\n",
    "skaters['eGF'] = skaters['TOI']*0.032+0.055\n",
    "skaters['eGA'] = skaters['TOI']*0.032+0.055\n",
    "skaters['GFAA'] = skaters['GF'] - skaters['eGF']\n",
    "skaters['GAAA'] =  skaters['eGA'] - skaters['GA']\n",
    "skaters['xGFAA'] = skaters['xGF'] - skaters['exGF']\n",
    "skaters['xGAAA'] =  skaters['exGA'] - skaters['xGA']\n",
    "skaters['Production'] = (0.75*skaters['Goals']) + (0.7*skaters['First Assists']) + (0.55*skaters['Second Assists']) + (0.5*skaters['ixG']) + (0.05*skaters['Shots Blocked']) \n",
    "skaters['Misc'] = (0.15*(skaters['Penalties Drawn'] - skaters['Total Penalties'])) + (0.01*(skaters['Faceoffs Won'] - skaters['Faceoffs Lost']))\n",
    "skaters['Offense'] = np.where(skaters['Position'] == 'D', \n",
    "((0.425*(skaters['GF'] + skaters['GFAA'])) + (1.7*(skaters['xGF'] + skaters['xGFAA'])))/2.125 - 0.75,\n",
    "(((0.625*(skaters['GF'] + skaters['GFAA'])) + (0.625*(skaters['xGF'] + skaters['xGFAA'])))/2) - 0.4)\n",
    "skaters['Defense'] = np.where(skaters['Position'] == 'D', \n",
    "(((0.575*(-skaters['GA'] + skaters['GAAA'])) + (2.3*(-skaters['xGA'] + skaters['xGAAA'])))/2) + 1.05, \n",
    "(((0.4375*(-skaters['GA'] + skaters['GAAA'])) + (1.7*(-skaters['xGA'] + skaters['xGAAA'])))/2) + 0.6)\n",
    "skaters['Score'] = skaters['Production'] + skaters['Misc'] + skaters['Offense'] + skaters['Defense']\n",
    "skaters = skaters.loc[:, ~skaters.columns.str.contains('^Unnamed')]\n",
    "births = pd.read_csv('birthdates.csv')\n",
    "\n",
    "merged = skaters.merge(births[['Player', 'Season', 'dob']], how='left', on=['Player', 'Season'])\n",
    "merged['dob'] = np.where(((merged.Player == 'Sebastian Aho') & (merged.Team == 'New York Islanders')),'1999-07-26', merged['dob'])\n",
    "merged['dob'] = np.where(((merged.Player == 'Sebastian Aho') & (merged.Team != 'New York Islanders')),'1996-02-17', merged['dob'])\n",
    "merged[[\"Date\", \"dob\"]] = merged[[\"Date\", \"dob\"]].apply(pd.to_datetime)\n",
    "merged['Age'] = (merged[\"Date\"] - merged[\"dob\"]).dt.days/365\n",
    "\n"
   ]
  },
  {
   "cell_type": "code",
   "execution_count": null,
   "metadata": {},
   "outputs": [],
   "source": [
    "goalies = pd.read_csv(f'cleaned/master_goalies.csv')\n",
    "goalies['Score'] = goalies['Expected Goals Against'] - goalies['Goals Against']\n",
    "goalies.sort_values(by='Score', ascending=False)"
   ]
  },
  {
   "cell_type": "code",
   "execution_count": 7,
   "metadata": {},
   "outputs": [
    {
     "ename": "NameError",
     "evalue": "name 'tdhepscrape' is not defined",
     "output_type": "error",
     "traceback": [
      "\u001b[1;31m---------------------------------------------------------------------------\u001b[0m",
      "\u001b[1;31mNameError\u001b[0m                                 Traceback (most recent call last)",
      "Cell \u001b[1;32mIn[7], line 4\u001b[0m\n\u001b[0;32m      2\u001b[0m lst \u001b[39m=\u001b[39m []\n\u001b[0;32m      3\u001b[0m \u001b[39mfor\u001b[39;00m year \u001b[39min\u001b[39;00m \u001b[39mrange\u001b[39m(\u001b[39m2007\u001b[39m, \u001b[39m2022\u001b[39m):\n\u001b[1;32m----> 4\u001b[0m     output \u001b[39m=\u001b[39m tdhepscrape\u001b[39m.\u001b[39mget_skaters(\u001b[39m\"\u001b[39m\u001b[39mnhl\u001b[39m\u001b[39m\"\u001b[39m, \u001b[39mf\u001b[39m\u001b[39m\"\u001b[39m\u001b[39m{\u001b[39;00myear\u001b[39m}\u001b[39;00m\u001b[39m-\u001b[39m\u001b[39m{\u001b[39;00myear\u001b[39m+\u001b[39m\u001b[39m1\u001b[39m\u001b[39m}\u001b[39;00m\u001b[39m\"\u001b[39m)\n\u001b[0;32m      5\u001b[0m     results \u001b[39m=\u001b[39m tdhepscrape\u001b[39m.\u001b[39madd_player_information(output)\n\u001b[0;32m      6\u001b[0m     results[\u001b[39m'\u001b[39m\u001b[39mseason\u001b[39m\u001b[39m'\u001b[39m] \u001b[39m=\u001b[39m \u001b[39mstr\u001b[39m(year) \u001b[39m+\u001b[39m \u001b[39mstr\u001b[39m(year\u001b[39m+\u001b[39m\u001b[39m1\u001b[39m)\n",
      "\u001b[1;31mNameError\u001b[0m: name 'tdhepscrape' is not defined"
     ]
    }
   ],
   "source": [
    "import unidecode\n",
    "lst = []\n",
    "for year in range(2007, 2022):\n",
    "    output = tdhepscrape.get_skaters(\"nhl\", f\"{year}-{year+1}\")\n",
    "    results = tdhepscrape.add_player_information(output)\n",
    "    results['season'] = str(year) + str(year+1)\n",
    "    condensed = results[['player', 'season', 'team', 'dob']]\n",
    "    lst.append(condensed)\n",
    "\n",
    "births = pd.concat(lst)\n",
    "births[['player','pos']] = births['player'].str.split('( ',expand=True)\n",
    "births['pos'] = births['pos'].str.replace(')', '')\n",
    "births['Team'] = births['Team'].str.replace('.', '')\n",
    "births['Player'] = births['Player'].str.replace('Alex ', 'Alexander ')\n",
    "births['Player'] = births['Player'].str.replace('Yevgeni ', 'Evgeni ')\n",
    "\n",
    "decoded = [unidecode.unidecode(e) for e in births['player']]\n",
    "births['player'] = decoded\n",
    "births = births.rename(columns={'player':'Player', 'team':'Team', 'season':'Season'})"
   ]
  },
  {
   "cell_type": "code",
   "execution_count": 105,
   "metadata": {},
   "outputs": [],
   "source": [
    "import plotly.graph_objects as go\n",
    "import numpy as np\n",
    "from moepy import lowess\n",
    "def get_test_projections(alpha):\n",
    "    player = 'Tage Thompson'\n",
    "    df = merged[merged.Player == player]\n",
    "    df = df.sort_values(by='Date')\n",
    "    df['Career Game'] = range(1, len(df) + 1)\n",
    "    df[[\"Date\", \"dob\"]] = df[[\"Date\", \"dob\"]].apply(pd.to_datetime)\n",
    "    projections = [0]\n",
    "    scores = df['Score'].to_list()\n",
    "    total = 0\n",
    "\n",
    "    for i in range(1, len(df)):\n",
    "        curr = 0\n",
    "\n",
    "        j = i-1\n",
    "        if j >= 0:\n",
    "\n",
    "            weight = alpha**(df['Date'].to_list()[i] - df['Date'].to_list()[j]).days\n",
    "        else:\n",
    "            weight = alpha**(-1*j)\n",
    "        \n",
    "        curr += weight * projections[-1] * total\n",
    "        curr += weight * scores[j]\n",
    "        total += 1\n",
    "        total *= weight\n",
    "        projections.append((curr/total))            \n",
    "\n",
    "        \n",
    "\n",
    "    df['Projection'] = projections           \n",
    "\n",
    "        \n",
    "\n",
    "    df['Projection'] = projections\n",
    "    df['Error'] = df['Projection'] - df['Score']\n",
    "    df['AError'] = abs(df['Error'])\n",
    "\n",
    "    return df['AError'].mean()\n"
   ]
  },
  {
   "cell_type": "code",
   "execution_count": 130,
   "metadata": {},
   "outputs": [],
   "source": [
    "import numpy as np\n",
    "\n",
    "def de(fobj, bounds, mut=0.8, crossp=0.7, popsize=20, its=100):\n",
    "    dimensions = len(bounds)\n",
    "    pop = np.random.rand(popsize, dimensions)\n",
    "    min_b, max_b = np.asarray(bounds).T\n",
    "    diff = np.fabs(min_b - max_b)\n",
    "    pop_denorm = min_b + pop * diff\n",
    "    fitness = np.asarray([fobj(ind) for ind in pop_denorm])\n",
    "    best_idx = np.argmin(fitness)\n",
    "    best = pop_denorm[best_idx]\n",
    "    for i in range(its):\n",
    "        for j in range(popsize):\n",
    "            idxs = [idx for idx in range(popsize) if idx != j]\n",
    "            a, b, c = pop[np.random.choice(idxs, 3, replace = False)]\n",
    "            mutant = np.clip(a + mut * (b - c), 0, 1)\n",
    "            cross_points = np.random.rand(dimensions) < crossp\n",
    "            if not np.any(cross_points):\n",
    "                cross_points[np.random.randint(0, dimensions)] = True\n",
    "            trial = np.where(cross_points, mutant, pop[j])\n",
    "            trial_denorm = min_b + trial * diff\n",
    "            f = fobj(trial_denorm)\n",
    "            if f < fitness[j]:\n",
    "                fitness[j] = f\n",
    "                pop[j] = trial\n",
    "                if f < fitness[best_idx]:\n",
    "                    best_idx = j\n",
    "                    best = trial_denorm\n",
    "        yield best, fitness[best_idx]"
   ]
  },
  {
   "cell_type": "code",
   "execution_count": 142,
   "metadata": {},
   "outputs": [
    {
     "name": "stdout",
     "output_type": "stream",
     "text": [
      "(array([0.99809326]), array([0.96051178]))\n"
     ]
    }
   ],
   "source": [
    "it = list(de(lambda x: get_test_projections(x), bounds=[(0.99, 1)]))\n",
    "print(it[-1])"
   ]
  },
  {
   "cell_type": "code",
   "execution_count": 43,
   "metadata": {},
   "outputs": [],
   "source": [
    "import plotly.graph_objects as go\n",
    "import numpy as np\n",
    "from moepy import lowess\n",
    "from collections import namedtuple\n",
    "import pickle\n",
    "from numpy import asarray\n",
    "from pandas import read_csv\n",
    "from pandas import DataFrame\n",
    "from pandas import concat\n",
    "from xgboost import XGBRegressor\n",
    "from scipy.stats import norm\n",
    "from datetime import datetime\n",
    "start_dates = {season: datetime.strptime((str(season)[:4] + '-10-04'), '%Y-%m-%d') for season in skaters.groupby(['Season']).count().index}\n",
    "# transform a time series dataset into a supervised learning dataset\n",
    "def series_to_supervised(data, n_in=1, n_out=1, dropnan=True):\n",
    "    n_vars = 1 if type(data) is list else data.shape[1]\n",
    "    df = DataFrame(data)\n",
    "    cols = list()\n",
    "    # input sequence (t-n, ... t-1)\n",
    "    for i in range(n_in, 0, -1):\n",
    "        cols.append(df.shift(i))\n",
    "    # forecast sequence (t, t+1, ... t+n)\n",
    "    for i in range(0, n_out):\n",
    "        cols.append(df.shift(-i))\n",
    "    # put it all together\n",
    "    agg = concat(cols, axis=1)\n",
    "    # drop rows with NaN values\n",
    "    if dropnan:\n",
    "        agg.dropna(inplace=True)\n",
    "    return agg.values\n",
    "gaussian = namedtuple('Gaussian', ['mean', 'var'])\n",
    "gaussian.__repr__ = lambda s: f'𝒩(μ={s[0]:.3f}, 𝜎²={s[1]:.3f})'\n",
    "def update(prior, measurement):\n",
    "    x, P = prior        # mean and variance of prior\n",
    "    z, R = measurement  # mean and variance of measurement\n",
    "    \n",
    "    y = z - x        # residual\n",
    "    K = P / (P + R)  # Kalman gain\n",
    "\n",
    "    x = x + K*y      # posterior\n",
    "    P = (1 - K) * P  # posterior variance\n",
    "    return gaussian(x, P)\n",
    "\n",
    "def predict(posterior, movement):\n",
    "    x, P = posterior # mean and variance of posterior\n",
    "    dx, Q = movement # mean and variance of movement\n",
    "    x = x + dx\n",
    "    P = P + Q\n",
    "    return gaussian(x, P)\n",
    "\n",
    "def get_projections(player, time_type):\n",
    "    alpha = 0.99809326\n",
    "    df = merged[merged.Player == player]\n",
    "    df = df.sort_values(by='Date')\n",
    "    df['Career Game'] = range(1, len(df) + 1)\n",
    "    df['Adjusted'] = df['Score']*(50/1.55) + 50\n",
    "    df[[\"Date\", \"dob\"]] = df[[\"Date\", \"dob\"]].apply(pd.to_datetime)\n",
    "    projections = [0]\n",
    "    scores = np.concatenate((np.zeros(10),  df['Score'].to_list()))\n",
    "    total = 0\n",
    "\n",
    "    for i in range(-9, len(df)):\n",
    "        curr = 0\n",
    "\n",
    "        j = i-1\n",
    "        if j >= 0:\n",
    "\n",
    "            weight = alpha**(df['Date'].to_list()[i] - df['Date'].to_list()[j]).days\n",
    "        else:\n",
    "            weight = alpha**(-1*j)\n",
    "        \n",
    "        curr += weight * projections[-1] * total\n",
    "        curr += weight * scores[j+10]\n",
    "        total += 1\n",
    "        total *= weight\n",
    "        projections.append((curr/total))            \n",
    "\n",
    "        \n",
    "\n",
    "    df['Projection'] = projections[10:]\n",
    "\n",
    "\n",
    "\n",
    "    sensor_var = 1.3330171065772254\n",
    "    process_var = 0.0013513089896074557\n",
    "    process_model = gaussian(0., process_var)\n",
    "    pos = gaussian(0., 100.)\n",
    "    N = len(df) + 10\n",
    "    zs = np.concatenate((np.zeros(10), df['Score'].to_list()))\n",
    "    ps = []\n",
    "    for i in range(N):\n",
    "        prior = predict(pos, process_model)    \n",
    "        pos = update(prior, gaussian(zs[i], sensor_var))\n",
    "        ps.append(pos.mean)\n",
    "    df['Kalman'] = ps[10:]\n",
    "\n",
    "    # load the dataset\n",
    "    series = df[['Projection', 'Kalman']]\n",
    "    values = series.values\n",
    "\n",
    "    # fit model\n",
    "    model = pickle.load(open('finalized_model.sav', 'rb'))\n",
    "    # construct an input for a new preduction\n",
    "    preds = df['Kalman'].to_list()[:82]\n",
    "    for i in range(82, len(df)):\n",
    "        row = values[i-82:i].flatten()\n",
    "    # make a one-step prediction\n",
    "        yhat = model.predict(asarray([row]))\n",
    "        preds.append(yhat[0])\n",
    "    df['XGB'] = preds\n",
    "\n",
    "    ages = range(18, 48)\n",
    "    A = [-0.14396,-0.05957,0.021176,0.080782,0.144998,0.176731,\n",
    "            0.181012,0.179595,0.162485,0.137085,0.114395,0.094328,\n",
    "            0.071203,0.043198,0.013411,0.002706,-0.01087,-0.030415,\n",
    "            -0.04996,-0.03732,-0.06303,-0.03521,-0.038033904,-0.033721952,\n",
    "            -0.02941,-0.04036,-0.05131,-0.08806,-0.08892,-0.08978]\n",
    "    poly  = np.polyfit(ages, A, 4)\n",
    "    for i in range(1, len(preds)):\n",
    "        prev_age = df['Age'].to_list()[i-1]\n",
    "        prev_expected = np.polyval(poly, prev_age)\n",
    "        curr_expected = np.polyval(poly, df['Age'].to_list()[i])\n",
    "        multiplier = curr_expected/prev_expected\n",
    "        if preds[i] < 0:\n",
    "            preds[i] = preds[i]/multiplier\n",
    "        else:\n",
    "            preds[i] = preds[i] * multiplier\n",
    "\n",
    "\n",
    "\n",
    "    for i in range(0, len(df)):\n",
    "        season = df['Season'].to_list()[i]\n",
    "        since_start = (df['Date'].to_list()[i] - start_dates[season]).days\n",
    "        season_adjust = (-0.00109 * since_start  + 1.1)\n",
    "        if df['Venue'].to_list()[i] == 'Home':\n",
    "            preds[i] = preds[i]*1.35*season_adjust*1.2\n",
    "        else:\n",
    "            preds[i] = preds[i]*1.35*season_adjust*0.8\n",
    "\n",
    "\n",
    "        prev = merged[(merged.Season == season) & (merged.Date < df['Date'].to_list()[i])]\n",
    "        opps = prev.groupby(['Opposition']).mean(numeric_only=True)[['Score']]\n",
    "        opps['Multiplier'] = (opps['Score']+5)/5.438829866884756\n",
    "        mult = opps[opps.index == (df['Opposition'].to_list()[i])]['Multiplier']\n",
    "        if len(mult) > 0:\n",
    "            mult = mult[0]\n",
    "        else:\n",
    "            mult = 1\n",
    "        preds[i] = preds[i] * mult\n",
    "\n",
    "    df['adjXGB'] = preds\n",
    "      \n",
    "    # Model fitting\n",
    "    frac = 0.25\n",
    "    quant_reg_func = lowess.calc_quant_reg_betas\n",
    "    quantile_model = lowess.Lowess(reg_func=quant_reg_func)\n",
    "    quantile_model.fit(np.asarray(df[time_type]), np.asarray(df['XGB']), frac=frac, q=0.5, robust_iters=3)\n",
    "    df_quantiles = lowess.quantile_model(np.asarray(df[time_type]), np.asarray(df['XGB']), frac=frac, num_fits=20, robust_iters=3)\n",
    "    df['XGB_Lowess'] = df_quantiles[0.5].to_list()\n",
    "\n",
    "    quant_reg_func = lowess.calc_quant_reg_betas\n",
    "    quantile_model = lowess.Lowess(reg_func=quant_reg_func)\n",
    "    quantile_model.fit(np.asarray(df[time_type]), np.asarray(df['adjXGB']), frac=frac, q=0.5, robust_iters=3)\n",
    "    df_quantiles = lowess.quantile_model(np.asarray(df[time_type]), np.asarray(df['adjXGB']), frac=frac, num_fits=20, robust_iters=3)\n",
    "    df['adjXGB_Lowess'] = df_quantiles[0.5].to_list()\n",
    "    pots = []\n",
    "    mults = []\n",
    "    for i in range(0, len(df)):\n",
    "        curr_age = df['Age'].to_list()[i]\n",
    "        if curr_age <= 24.26795064:\n",
    "            curr_expected = np.polyval(poly, curr_age)\n",
    "            multiplier = (0.37233423)/(curr_expected+0.2)\n",
    "            mults.append(multiplier)\n",
    "            if df['XGB_Lowess'].to_list()[i] < 0:\n",
    "                pots.append(df['XGB_Lowess'].to_list()[i]/multiplier)\n",
    "            else:\n",
    "                pots.append(df['XGB_Lowess'].to_list()[i]  * multiplier)\n",
    "\n",
    "        elif curr_age <= 38.62152643:\n",
    "            mults.append(1)\n",
    "\n",
    "            pots.append(df['XGB_Lowess'].to_list()[i] )\n",
    "        elif curr_age <= 42.25458411:\n",
    "            curr_expected = np.polyval(poly, curr_age)\n",
    "            multiplier = 0.24220954/(curr_expected+0.2)\n",
    "            mults.append(multiplier)\n",
    "\n",
    "            if df['XGB_Lowess'].to_list()[i] < 0:\n",
    "                pots.append(df['XGB_Lowess'].to_list()[i]/multiplier)\n",
    "            else:\n",
    "                pots.append(df['XGB_Lowess'].to_list()[i]  * multiplier)        \n",
    "        else:\n",
    "            mults.append(1)\n",
    "\n",
    "            pots.append(df['XGB_Lowess'].to_list()[i] )\n",
    "    df['multiplier'] = mults\n",
    "    df['Potential'] = pots\n",
    "    df.reset_index(inplace=True, drop=True)\n",
    "    df_quantiles.reset_index(inplace=True, drop=True)\n",
    "    return df, df_quantiles\n",
    "\n"
   ]
  },
  {
   "cell_type": "code",
   "execution_count": 46,
   "metadata": {},
   "outputs": [
    {
     "name": "stdout",
     "output_type": "stream",
     "text": [
      "A.J. Greer\n",
      "Aaron Ekblad\n",
      "Aatu Raty\n",
      "Adam Beckman\n",
      "Adam Boqvist\n",
      "Adam Erne\n",
      "Adam Fox\n",
      "Adam Henrique\n",
      "Adam Larsson\n",
      "Adam Lowry\n"
     ]
    },
    {
     "name": "stderr",
     "output_type": "stream",
     "text": [
      "100%|██████████| 9/9 [00:01<00:00,  6.38it/s]\n",
      "100%|██████████| 9/9 [00:01<00:00,  5.98it/s]\n"
     ]
    },
    {
     "name": "stdout",
     "output_type": "stream",
     "text": [
      "Adam Pelech\n"
     ]
    },
    {
     "name": "stderr",
     "output_type": "stream",
     "text": [
      "100%|██████████| 9/9 [00:04<00:00,  2.21it/s]\n",
      "100%|██████████| 9/9 [00:04<00:00,  2.16it/s]\n"
     ]
    },
    {
     "name": "stdout",
     "output_type": "stream",
     "text": [
      "Adam Ruzicka\n"
     ]
    },
    {
     "name": "stderr",
     "output_type": "stream",
     "text": [
      "100%|██████████| 9/9 [00:04<00:00,  2.10it/s]\n",
      "100%|██████████| 9/9 [00:04<00:00,  1.86it/s]\n"
     ]
    },
    {
     "name": "stdout",
     "output_type": "stream",
     "text": [
      "Adrian Kempe\n"
     ]
    },
    {
     "name": "stderr",
     "output_type": "stream",
     "text": [
      "100%|██████████| 9/9 [00:03<00:00,  2.31it/s]\n",
      "100%|██████████| 9/9 [00:03<00:00,  2.64it/s]\n"
     ]
    },
    {
     "name": "stdout",
     "output_type": "stream",
     "text": [
      "Alec Martinez\n"
     ]
    },
    {
     "name": "stderr",
     "output_type": "stream",
     "text": [
      "100%|██████████| 9/9 [00:04<00:00,  1.90it/s]\n",
      "100%|██████████| 9/9 [00:04<00:00,  1.90it/s]\n"
     ]
    },
    {
     "name": "stdout",
     "output_type": "stream",
     "text": [
      "Alec Regula\n"
     ]
    },
    {
     "name": "stderr",
     "output_type": "stream",
     "text": [
      "100%|██████████| 9/9 [00:04<00:00,  2.03it/s]\n",
      "100%|██████████| 9/9 [00:06<00:00,  1.29it/s]\n"
     ]
    },
    {
     "name": "stdout",
     "output_type": "stream",
     "text": [
      "Aleksander Barkov\n"
     ]
    },
    {
     "name": "stderr",
     "output_type": "stream",
     "text": [
      "100%|██████████| 9/9 [00:03<00:00,  2.46it/s]\n",
      "100%|██████████| 9/9 [00:03<00:00,  2.28it/s]\n"
     ]
    },
    {
     "name": "stdout",
     "output_type": "stream",
     "text": [
      "Aleksi Heponiemi\n"
     ]
    },
    {
     "name": "stderr",
     "output_type": "stream",
     "text": [
      "100%|██████████| 9/9 [00:04<00:00,  1.81it/s]\n",
      "100%|██████████| 9/9 [00:04<00:00,  1.96it/s]\n"
     ]
    },
    {
     "name": "stdout",
     "output_type": "stream",
     "text": [
      "Alex Barré-Boulet\n"
     ]
    },
    {
     "name": "stderr",
     "output_type": "stream",
     "text": [
      "100%|██████████| 9/9 [00:04<00:00,  1.94it/s]\n",
      "100%|██████████| 9/9 [00:17<00:00,  1.93s/it]\n"
     ]
    },
    {
     "name": "stdout",
     "output_type": "stream",
     "text": [
      "Alex Belzile\n"
     ]
    },
    {
     "name": "stderr",
     "output_type": "stream",
     "text": [
      "100%|██████████| 9/9 [00:04<00:00,  2.19it/s]\n",
      "100%|██████████| 9/9 [00:04<00:00,  2.20it/s]\n"
     ]
    },
    {
     "name": "stdout",
     "output_type": "stream",
     "text": [
      "Alex Chiasson\n"
     ]
    },
    {
     "name": "stderr",
     "output_type": "stream",
     "text": [
      "100%|██████████| 9/9 [00:03<00:00,  2.35it/s]\n",
      "100%|██████████| 9/9 [00:04<00:00,  2.23it/s]\n"
     ]
    },
    {
     "name": "stdout",
     "output_type": "stream",
     "text": [
      "Alex DeBrincat\n"
     ]
    },
    {
     "name": "stderr",
     "output_type": "stream",
     "text": [
      "100%|██████████| 9/9 [00:03<00:00,  2.54it/s]\n",
      "100%|██████████| 9/9 [00:03<00:00,  2.26it/s]\n"
     ]
    },
    {
     "name": "stdout",
     "output_type": "stream",
     "text": [
      "Alex Galchenyuk\n"
     ]
    },
    {
     "name": "stderr",
     "output_type": "stream",
     "text": [
      "100%|██████████| 9/9 [00:04<00:00,  2.10it/s]\n",
      "100%|██████████| 9/9 [00:04<00:00,  1.99it/s]\n"
     ]
    },
    {
     "name": "stdout",
     "output_type": "stream",
     "text": [
      "Alex Goligoski\n"
     ]
    },
    {
     "name": "stderr",
     "output_type": "stream",
     "text": [
      "100%|██████████| 9/9 [00:04<00:00,  1.82it/s]\n",
      "100%|██████████| 9/9 [00:04<00:00,  1.91it/s]\n"
     ]
    },
    {
     "name": "stdout",
     "output_type": "stream",
     "text": [
      "Alex Iafallo\n"
     ]
    },
    {
     "name": "stderr",
     "output_type": "stream",
     "text": [
      "100%|██████████| 9/9 [00:03<00:00,  2.41it/s]\n",
      "100%|██████████| 9/9 [00:04<00:00,  2.21it/s]\n"
     ]
    },
    {
     "name": "stdout",
     "output_type": "stream",
     "text": [
      "Alex Killorn\n"
     ]
    },
    {
     "name": "stderr",
     "output_type": "stream",
     "text": [
      "100%|██████████| 9/9 [00:03<00:00,  2.33it/s]\n",
      "100%|██████████| 9/9 [00:04<00:00,  2.14it/s]\n"
     ]
    },
    {
     "name": "stdout",
     "output_type": "stream",
     "text": [
      "Alex Newhook\n"
     ]
    },
    {
     "name": "stderr",
     "output_type": "stream",
     "text": [
      "100%|██████████| 9/9 [00:04<00:00,  2.17it/s]\n",
      "100%|██████████| 9/9 [00:04<00:00,  1.95it/s]\n"
     ]
    },
    {
     "name": "stdout",
     "output_type": "stream",
     "text": [
      "Alex Nylander\n"
     ]
    },
    {
     "name": "stderr",
     "output_type": "stream",
     "text": [
      "100%|██████████| 9/9 [00:03<00:00,  2.35it/s]\n",
      "100%|██████████| 9/9 [00:03<00:00,  2.38it/s]\n"
     ]
    },
    {
     "name": "stdout",
     "output_type": "stream",
     "text": [
      "Alex Ovechkin\n"
     ]
    },
    {
     "name": "stderr",
     "output_type": "stream",
     "text": [
      "100%|██████████| 9/9 [00:04<00:00,  1.96it/s]\n",
      "100%|██████████| 9/9 [00:05<00:00,  1.77it/s]\n"
     ]
    },
    {
     "name": "stdout",
     "output_type": "stream",
     "text": [
      "Alex Pietrangelo\n"
     ]
    },
    {
     "name": "stderr",
     "output_type": "stream",
     "text": [
      "100%|██████████| 9/9 [00:04<00:00,  2.14it/s]\n",
      "100%|██████████| 9/9 [00:04<00:00,  1.95it/s]\n"
     ]
    },
    {
     "name": "stdout",
     "output_type": "stream",
     "text": [
      "Alex Steeves\n"
     ]
    },
    {
     "name": "stderr",
     "output_type": "stream",
     "text": [
      "100%|██████████| 9/9 [00:02<00:00,  4.12it/s]\n",
      "100%|██████████| 9/9 [00:02<00:00,  4.28it/s]\n"
     ]
    },
    {
     "name": "stdout",
     "output_type": "stream",
     "text": [
      "Alex Tuch\n"
     ]
    },
    {
     "name": "stderr",
     "output_type": "stream",
     "text": [
      "100%|██████████| 9/9 [00:03<00:00,  2.27it/s]\n",
      "100%|██████████| 9/9 [00:03<00:00,  2.26it/s]\n"
     ]
    },
    {
     "name": "stdout",
     "output_type": "stream",
     "text": [
      "Alex Turcotte\n"
     ]
    },
    {
     "name": "stderr",
     "output_type": "stream",
     "text": [
      "100%|██████████| 9/9 [00:02<00:00,  3.49it/s]\n",
      "100%|██████████| 9/9 [00:03<00:00,  2.96it/s]\n"
     ]
    },
    {
     "name": "stdout",
     "output_type": "stream",
     "text": [
      "Alex Wennberg\n"
     ]
    },
    {
     "name": "stderr",
     "output_type": "stream",
     "text": [
      "100%|██████████| 9/9 [00:04<00:00,  2.12it/s]\n",
      "100%|██████████| 9/9 [00:03<00:00,  2.51it/s]\n"
     ]
    },
    {
     "name": "stdout",
     "output_type": "stream",
     "text": [
      "Alexander Alexeyev\n"
     ]
    },
    {
     "name": "stderr",
     "output_type": "stream",
     "text": [
      "100%|██████████| 9/9 [00:03<00:00,  2.80it/s]\n",
      "100%|██████████| 9/9 [00:17<00:00,  1.97s/it]\n"
     ]
    },
    {
     "name": "stdout",
     "output_type": "stream",
     "text": [
      "Alexander Barabanov\n"
     ]
    },
    {
     "name": "stderr",
     "output_type": "stream",
     "text": [
      "100%|██████████| 9/9 [00:03<00:00,  2.33it/s]\n",
      "100%|██████████| 9/9 [00:03<00:00,  2.29it/s]\n"
     ]
    },
    {
     "name": "stdout",
     "output_type": "stream",
     "text": [
      "Alexander Edler\n"
     ]
    },
    {
     "name": "stderr",
     "output_type": "stream",
     "text": [
      "100%|██████████| 9/9 [00:05<00:00,  1.79it/s]\n",
      "100%|██████████| 9/9 [00:04<00:00,  1.87it/s]\n"
     ]
    },
    {
     "name": "stdout",
     "output_type": "stream",
     "text": [
      "Alexander Holtz\n"
     ]
    },
    {
     "name": "stderr",
     "output_type": "stream",
     "text": [
      "100%|██████████| 9/9 [00:03<00:00,  2.91it/s]\n",
      "100%|██████████| 9/9 [00:17<00:00,  1.92s/it]\n"
     ]
    },
    {
     "name": "stdout",
     "output_type": "stream",
     "text": [
      "Alexander Kerfoot\n"
     ]
    },
    {
     "name": "stderr",
     "output_type": "stream",
     "text": [
      "100%|██████████| 9/9 [00:03<00:00,  2.28it/s]\n",
      "100%|██████████| 9/9 [00:04<00:00,  2.12it/s]\n"
     ]
    },
    {
     "name": "stdout",
     "output_type": "stream",
     "text": [
      "Alexander Romanov\n"
     ]
    },
    {
     "name": "stderr",
     "output_type": "stream",
     "text": [
      "100%|██████████| 9/9 [00:04<00:00,  2.14it/s]\n",
      "100%|██████████| 9/9 [00:04<00:00,  2.06it/s]\n"
     ]
    },
    {
     "name": "stdout",
     "output_type": "stream",
     "text": [
      "Alexandre Carrier\n"
     ]
    },
    {
     "name": "stderr",
     "output_type": "stream",
     "text": [
      "100%|██████████| 9/9 [00:04<00:00,  2.05it/s]\n",
      "100%|██████████| 9/9 [00:04<00:00,  2.09it/s]\n"
     ]
    },
    {
     "name": "stdout",
     "output_type": "stream",
     "text": [
      "Alexey Toropchenko\n"
     ]
    },
    {
     "name": "stderr",
     "output_type": "stream",
     "text": [
      "100%|██████████| 9/9 [00:03<00:00,  2.27it/s]\n",
      "100%|██████████| 9/9 [00:17<00:00,  1.96s/it]\n"
     ]
    },
    {
     "name": "stdout",
     "output_type": "stream",
     "text": [
      "Alexis Lafreniere\n"
     ]
    },
    {
     "name": "stderr",
     "output_type": "stream",
     "text": [
      "100%|██████████| 9/9 [00:03<00:00,  2.59it/s]\n",
      "100%|██████████| 9/9 [00:04<00:00,  2.22it/s]\n"
     ]
    },
    {
     "name": "stdout",
     "output_type": "stream",
     "text": [
      "Aliaksei Protas\n"
     ]
    },
    {
     "name": "stderr",
     "output_type": "stream",
     "text": [
      "100%|██████████| 9/9 [00:04<00:00,  2.08it/s]\n",
      "100%|██████████| 9/9 [00:04<00:00,  1.89it/s]\n"
     ]
    },
    {
     "name": "stdout",
     "output_type": "stream",
     "text": [
      "Anders Bjork\n"
     ]
    },
    {
     "name": "stderr",
     "output_type": "stream",
     "text": [
      "100%|██████████| 9/9 [00:04<00:00,  1.86it/s]\n",
      "100%|██████████| 9/9 [00:04<00:00,  1.98it/s]\n"
     ]
    },
    {
     "name": "stdout",
     "output_type": "stream",
     "text": [
      "Anders Lee\n"
     ]
    },
    {
     "name": "stderr",
     "output_type": "stream",
     "text": [
      "100%|██████████| 9/9 [00:03<00:00,  2.38it/s]\n",
      "100%|██████████| 9/9 [00:04<00:00,  2.12it/s]\n"
     ]
    },
    {
     "name": "stdout",
     "output_type": "stream",
     "text": [
      "Andre Burakovsky\n"
     ]
    },
    {
     "name": "stderr",
     "output_type": "stream",
     "text": [
      "100%|██████████| 9/9 [00:04<00:00,  2.13it/s]\n",
      "100%|██████████| 9/9 [00:04<00:00,  1.86it/s]\n"
     ]
    },
    {
     "name": "stdout",
     "output_type": "stream",
     "text": [
      "Andreas Athanasiou\n"
     ]
    },
    {
     "name": "stderr",
     "output_type": "stream",
     "text": [
      "100%|██████████| 9/9 [00:04<00:00,  2.20it/s]\n",
      "100%|██████████| 9/9 [00:04<00:00,  2.21it/s]\n"
     ]
    },
    {
     "name": "stdout",
     "output_type": "stream",
     "text": [
      "Andreas Englund\n"
     ]
    },
    {
     "name": "stderr",
     "output_type": "stream",
     "text": [
      "100%|██████████| 9/9 [00:03<00:00,  2.85it/s]\n",
      "100%|██████████| 9/9 [00:03<00:00,  2.79it/s]\n"
     ]
    },
    {
     "name": "stdout",
     "output_type": "stream",
     "text": [
      "Andreas Johnsson\n"
     ]
    },
    {
     "name": "stderr",
     "output_type": "stream",
     "text": [
      "100%|██████████| 9/9 [00:04<00:00,  2.24it/s]\n",
      "100%|██████████| 9/9 [00:04<00:00,  2.21it/s]\n"
     ]
    },
    {
     "name": "stdout",
     "output_type": "stream",
     "text": [
      "Andrei Kuzmenko\n"
     ]
    },
    {
     "name": "stderr",
     "output_type": "stream",
     "text": [
      "100%|██████████| 9/9 [00:04<00:00,  1.98it/s]\n",
      "100%|██████████| 9/9 [00:05<00:00,  1.59it/s]\n"
     ]
    },
    {
     "name": "stdout",
     "output_type": "stream",
     "text": [
      "Andrei Svechnikov\n"
     ]
    },
    {
     "name": "stderr",
     "output_type": "stream",
     "text": [
      "100%|██████████| 9/9 [00:04<00:00,  2.11it/s]\n",
      "100%|██████████| 9/9 [00:04<00:00,  1.90it/s]\n"
     ]
    },
    {
     "name": "stdout",
     "output_type": "stream",
     "text": [
      "Andrew Agozzino\n"
     ]
    },
    {
     "name": "stderr",
     "output_type": "stream",
     "text": [
      "100%|██████████| 9/9 [00:04<00:00,  2.18it/s]\n",
      "100%|██████████| 9/9 [00:17<00:00,  1.91s/it]\n"
     ]
    },
    {
     "name": "stdout",
     "output_type": "stream",
     "text": [
      "Andrew Cogliano\n"
     ]
    },
    {
     "name": "stderr",
     "output_type": "stream",
     "text": [
      "100%|██████████| 9/9 [00:04<00:00,  1.84it/s]\n",
      "100%|██████████| 9/9 [00:04<00:00,  1.85it/s]\n"
     ]
    },
    {
     "name": "stdout",
     "output_type": "stream",
     "text": [
      "Andrew Copp\n"
     ]
    },
    {
     "name": "stderr",
     "output_type": "stream",
     "text": [
      "100%|██████████| 9/9 [00:03<00:00,  2.32it/s]\n",
      "100%|██████████| 9/9 [00:04<00:00,  2.20it/s]\n"
     ]
    },
    {
     "name": "stdout",
     "output_type": "stream",
     "text": [
      "Andrew Mangiapane\n"
     ]
    },
    {
     "name": "stderr",
     "output_type": "stream",
     "text": [
      "100%|██████████| 9/9 [00:03<00:00,  2.46it/s]\n",
      "100%|██████████| 9/9 [00:03<00:00,  2.47it/s]\n"
     ]
    },
    {
     "name": "stdout",
     "output_type": "stream",
     "text": [
      "Andrew Peeke\n"
     ]
    },
    {
     "name": "stderr",
     "output_type": "stream",
     "text": [
      "100%|██████████| 9/9 [00:03<00:00,  2.30it/s]\n",
      "100%|██████████| 9/9 [00:03<00:00,  2.31it/s]\n"
     ]
    },
    {
     "name": "stdout",
     "output_type": "stream",
     "text": [
      "Andy Andreoff\n"
     ]
    },
    {
     "name": "stderr",
     "output_type": "stream",
     "text": [
      "100%|██████████| 9/9 [00:03<00:00,  2.40it/s]\n",
      "100%|██████████| 9/9 [00:03<00:00,  2.45it/s]\n"
     ]
    },
    {
     "name": "stdout",
     "output_type": "stream",
     "text": [
      "Anthony Beauvillier\n"
     ]
    },
    {
     "name": "stderr",
     "output_type": "stream",
     "text": [
      "100%|██████████| 9/9 [00:03<00:00,  2.44it/s]\n",
      "100%|██████████| 9/9 [00:03<00:00,  2.59it/s]\n"
     ]
    },
    {
     "name": "stdout",
     "output_type": "stream",
     "text": [
      "Anthony Cirelli\n"
     ]
    },
    {
     "name": "stderr",
     "output_type": "stream",
     "text": [
      "100%|██████████| 9/9 [00:04<00:00,  2.04it/s]\n",
      "100%|██████████| 9/9 [00:04<00:00,  1.93it/s]\n"
     ]
    },
    {
     "name": "stdout",
     "output_type": "stream",
     "text": [
      "Anthony Duclair\n"
     ]
    },
    {
     "name": "stderr",
     "output_type": "stream",
     "text": [
      "100%|██████████| 9/9 [00:04<00:00,  2.18it/s]\n",
      "100%|██████████| 9/9 [00:05<00:00,  1.77it/s]\n"
     ]
    },
    {
     "name": "stdout",
     "output_type": "stream",
     "text": [
      "Anthony Mantha\n"
     ]
    },
    {
     "name": "stderr",
     "output_type": "stream",
     "text": [
      "100%|██████████| 9/9 [00:05<00:00,  1.71it/s]\n",
      "100%|██████████| 9/9 [00:04<00:00,  2.16it/s]\n"
     ]
    },
    {
     "name": "stdout",
     "output_type": "stream",
     "text": [
      "Anthony Richard\n"
     ]
    },
    {
     "name": "stderr",
     "output_type": "stream",
     "text": [
      "100%|██████████| 9/9 [00:03<00:00,  3.00it/s]\n",
      "100%|██████████| 9/9 [00:03<00:00,  2.55it/s]\n"
     ]
    },
    {
     "name": "stdout",
     "output_type": "stream",
     "text": [
      "Anton Blidh\n"
     ]
    },
    {
     "name": "stderr",
     "output_type": "stream",
     "text": [
      "100%|██████████| 9/9 [00:04<00:00,  2.24it/s]\n",
      "100%|██████████| 9/9 [00:04<00:00,  2.07it/s]\n",
      "c:\\Users\\jetso\\AppData\\Local\\Programs\\Python\\Python311\\Lib\\site-packages\\moepy\\lowess.py:38: RuntimeWarning:\n",
      "\n",
      "divide by zero encountered in divide\n",
      "\n",
      "c:\\Users\\jetso\\AppData\\Local\\Programs\\Python\\Python311\\Lib\\site-packages\\moepy\\lowess.py:38: RuntimeWarning:\n",
      "\n",
      "invalid value encountered in divide\n",
      "\n"
     ]
    },
    {
     "name": "stdout",
     "output_type": "stream",
     "text": [
      "Anton Levtchi\n"
     ]
    },
    {
     "name": "stderr",
     "output_type": "stream",
     "text": [
      "100%|██████████| 9/9 [00:00<00:00, 17.60it/s]\n",
      "c:\\Users\\jetso\\AppData\\Local\\Programs\\Python\\Python311\\Lib\\site-packages\\moepy\\lowess.py:38: RuntimeWarning:\n",
      "\n",
      "divide by zero encountered in divide\n",
      "\n",
      "c:\\Users\\jetso\\AppData\\Local\\Programs\\Python\\Python311\\Lib\\site-packages\\moepy\\lowess.py:38: RuntimeWarning:\n",
      "\n",
      "invalid value encountered in divide\n",
      "\n",
      "100%|██████████| 9/9 [00:00<00:00, 18.33it/s]\n"
     ]
    },
    {
     "name": "stdout",
     "output_type": "stream",
     "text": [
      "Anton Lundell\n"
     ]
    },
    {
     "name": "stderr",
     "output_type": "stream",
     "text": [
      "100%|██████████| 9/9 [00:05<00:00,  1.72it/s]\n",
      "100%|██████████| 9/9 [00:04<00:00,  1.81it/s]\n"
     ]
    },
    {
     "name": "stdout",
     "output_type": "stream",
     "text": [
      "Anton Stralman\n"
     ]
    },
    {
     "name": "stderr",
     "output_type": "stream",
     "text": [
      "100%|██████████| 9/9 [00:04<00:00,  1.98it/s]\n",
      "100%|██████████| 9/9 [00:04<00:00,  2.15it/s]\n"
     ]
    },
    {
     "name": "stdout",
     "output_type": "stream",
     "text": [
      "Anze Kopitar\n"
     ]
    },
    {
     "name": "stderr",
     "output_type": "stream",
     "text": [
      "100%|██████████| 9/9 [00:04<00:00,  1.98it/s]\n",
      "100%|██████████| 9/9 [00:04<00:00,  1.99it/s]\n"
     ]
    },
    {
     "name": "stdout",
     "output_type": "stream",
     "text": [
      "Arber Xhekaj\n"
     ]
    },
    {
     "name": "stderr",
     "output_type": "stream",
     "text": [
      "100%|██████████| 9/9 [00:02<00:00,  3.20it/s]\n",
      "100%|██████████| 9/9 [00:03<00:00,  2.69it/s]\n"
     ]
    },
    {
     "name": "stdout",
     "output_type": "stream",
     "text": [
      "Arnaud Durandeau\n"
     ]
    },
    {
     "name": "stderr",
     "output_type": "stream",
     "text": [
      "c:\\Users\\jetso\\AppData\\Local\\Programs\\Python\\Python311\\Lib\\site-packages\\moepy\\lowess.py:38: RuntimeWarning:\n",
      "\n",
      "divide by zero encountered in divide\n",
      "\n",
      "c:\\Users\\jetso\\AppData\\Local\\Programs\\Python\\Python311\\Lib\\site-packages\\moepy\\lowess.py:38: RuntimeWarning:\n",
      "\n",
      "invalid value encountered in divide\n",
      "\n",
      "100%|██████████| 9/9 [00:00<00:00, 18.20it/s]\n",
      "c:\\Users\\jetso\\AppData\\Local\\Programs\\Python\\Python311\\Lib\\site-packages\\moepy\\lowess.py:38: RuntimeWarning:\n",
      "\n",
      "divide by zero encountered in divide\n",
      "\n",
      "c:\\Users\\jetso\\AppData\\Local\\Programs\\Python\\Python311\\Lib\\site-packages\\moepy\\lowess.py:38: RuntimeWarning:\n",
      "\n",
      "invalid value encountered in divide\n",
      "\n",
      "100%|██████████| 9/9 [00:00<00:00, 20.77it/s]\n"
     ]
    },
    {
     "name": "stdout",
     "output_type": "stream",
     "text": [
      "Artem Zub\n"
     ]
    },
    {
     "name": "stderr",
     "output_type": "stream",
     "text": [
      "100%|██████████| 9/9 [00:03<00:00,  2.45it/s]\n",
      "100%|██████████| 9/9 [00:03<00:00,  2.51it/s]\n"
     ]
    },
    {
     "name": "stdout",
     "output_type": "stream",
     "text": [
      "Artemi Panarin\n"
     ]
    },
    {
     "name": "stderr",
     "output_type": "stream",
     "text": [
      "100%|██████████| 9/9 [00:04<00:00,  2.11it/s]\n",
      "100%|██████████| 9/9 [00:05<00:00,  1.68it/s]\n"
     ]
    },
    {
     "name": "stdout",
     "output_type": "stream",
     "text": [
      "Arthur Kaliyev\n"
     ]
    },
    {
     "name": "stderr",
     "output_type": "stream",
     "text": [
      "100%|██████████| 9/9 [00:04<00:00,  2.07it/s]\n",
      "100%|██████████| 9/9 [00:03<00:00,  2.33it/s]\n"
     ]
    },
    {
     "name": "stdout",
     "output_type": "stream",
     "text": [
      "Artturi Lehkonen\n"
     ]
    },
    {
     "name": "stderr",
     "output_type": "stream",
     "text": [
      "100%|██████████| 9/9 [00:03<00:00,  2.26it/s]\n",
      "100%|██████████| 9/9 [00:03<00:00,  2.26it/s]\n"
     ]
    },
    {
     "name": "stdout",
     "output_type": "stream",
     "text": [
      "Austin Czarnik\n"
     ]
    },
    {
     "name": "stderr",
     "output_type": "stream",
     "text": [
      "100%|██████████| 9/9 [00:03<00:00,  2.29it/s]\n",
      "100%|██████████| 9/9 [00:03<00:00,  2.41it/s]\n"
     ]
    },
    {
     "name": "stdout",
     "output_type": "stream",
     "text": [
      "Austin Strand\n"
     ]
    },
    {
     "name": "stderr",
     "output_type": "stream",
     "text": [
      "100%|██████████| 9/9 [00:03<00:00,  2.59it/s]\n",
      "100%|██████████| 9/9 [00:03<00:00,  2.35it/s]\n"
     ]
    },
    {
     "name": "stdout",
     "output_type": "stream",
     "text": [
      "Austin Watson\n"
     ]
    },
    {
     "name": "stderr",
     "output_type": "stream",
     "text": [
      "100%|██████████| 9/9 [00:03<00:00,  2.68it/s]\n",
      "100%|██████████| 9/9 [00:03<00:00,  2.76it/s]\n"
     ]
    },
    {
     "name": "stdout",
     "output_type": "stream",
     "text": [
      "Auston Matthews\n"
     ]
    },
    {
     "name": "stderr",
     "output_type": "stream",
     "text": [
      "100%|██████████| 9/9 [00:03<00:00,  2.30it/s]\n",
      "100%|██████████| 9/9 [00:04<00:00,  1.94it/s]\n"
     ]
    },
    {
     "name": "stdout",
     "output_type": "stream",
     "text": [
      "Axel Jonsson-Fjallby\n"
     ]
    },
    {
     "name": "stderr",
     "output_type": "stream",
     "text": [
      "100%|██████████| 9/9 [00:03<00:00,  2.43it/s]\n",
      "100%|██████████| 9/9 [00:16<00:00,  1.83s/it]\n"
     ]
    },
    {
     "name": "stdout",
     "output_type": "stream",
     "text": [
      "Barclay Goodrow\n"
     ]
    },
    {
     "name": "stderr",
     "output_type": "stream",
     "text": [
      "100%|██████████| 9/9 [00:03<00:00,  2.48it/s]\n",
      "100%|██████████| 9/9 [00:03<00:00,  2.27it/s]\n"
     ]
    },
    {
     "name": "stdout",
     "output_type": "stream",
     "text": [
      "Barrett Hayton\n"
     ]
    },
    {
     "name": "stderr",
     "output_type": "stream",
     "text": [
      "100%|██████████| 9/9 [00:03<00:00,  2.42it/s]\n",
      "100%|██████████| 9/9 [00:03<00:00,  2.49it/s]\n"
     ]
    },
    {
     "name": "stdout",
     "output_type": "stream",
     "text": [
      "Beck Malenstyn\n"
     ]
    },
    {
     "name": "stderr",
     "output_type": "stream",
     "text": [
      "100%|██████████| 9/9 [00:03<00:00,  2.42it/s]\n",
      "100%|██████████| 9/9 [00:03<00:00,  2.42it/s]\n"
     ]
    },
    {
     "name": "stdout",
     "output_type": "stream",
     "text": [
      "Ben Chiarot\n"
     ]
    },
    {
     "name": "stderr",
     "output_type": "stream",
     "text": [
      "100%|██████████| 9/9 [00:04<00:00,  1.96it/s]\n",
      "100%|██████████| 9/9 [00:06<00:00,  1.33it/s]\n"
     ]
    },
    {
     "name": "stdout",
     "output_type": "stream",
     "text": [
      "Ben Harpur\n"
     ]
    },
    {
     "name": "stderr",
     "output_type": "stream",
     "text": [
      "100%|██████████| 9/9 [00:04<00:00,  1.98it/s]\n",
      "100%|██████████| 9/9 [00:05<00:00,  1.62it/s]\n"
     ]
    },
    {
     "name": "stdout",
     "output_type": "stream",
     "text": [
      "Ben Hutton\n"
     ]
    },
    {
     "name": "stderr",
     "output_type": "stream",
     "text": [
      "100%|██████████| 9/9 [00:15<00:00,  1.76s/it]\n",
      "100%|██████████| 9/9 [00:06<00:00,  1.50it/s]\n"
     ]
    },
    {
     "name": "stdout",
     "output_type": "stream",
     "text": [
      "Ben Meyers\n"
     ]
    },
    {
     "name": "stderr",
     "output_type": "stream",
     "text": [
      "100%|██████████| 9/9 [00:04<00:00,  2.15it/s]\n",
      "100%|██████████| 9/9 [00:03<00:00,  2.50it/s]\n",
      "c:\\Users\\jetso\\AppData\\Local\\Programs\\Python\\Python311\\Lib\\site-packages\\moepy\\lowess.py:38: RuntimeWarning:\n",
      "\n",
      "invalid value encountered in divide\n",
      "\n"
     ]
    },
    {
     "name": "stdout",
     "output_type": "stream",
     "text": [
      "Billy Sweezey\n"
     ]
    },
    {
     "name": "stderr",
     "output_type": "stream",
     "text": [
      "100%|██████████| 9/9 [00:00<00:00, 17.87it/s]\n",
      "c:\\Users\\jetso\\AppData\\Local\\Programs\\Python\\Python311\\Lib\\site-packages\\moepy\\lowess.py:38: RuntimeWarning:\n",
      "\n",
      "invalid value encountered in divide\n",
      "\n",
      "100%|██████████| 9/9 [00:00<00:00, 17.19it/s]\n"
     ]
    },
    {
     "name": "stdout",
     "output_type": "stream",
     "text": [
      "Blake Coleman\n"
     ]
    },
    {
     "name": "stderr",
     "output_type": "stream",
     "text": [
      "100%|██████████| 9/9 [00:03<00:00,  2.72it/s]\n",
      "100%|██████████| 9/9 [00:03<00:00,  2.59it/s]\n"
     ]
    },
    {
     "name": "stdout",
     "output_type": "stream",
     "text": [
      "Blake Lizotte\n"
     ]
    },
    {
     "name": "stderr",
     "output_type": "stream",
     "text": [
      "100%|██████████| 9/9 [00:03<00:00,  2.44it/s]\n",
      "100%|██████████| 9/9 [00:03<00:00,  2.36it/s]\n"
     ]
    },
    {
     "name": "stdout",
     "output_type": "stream",
     "text": [
      "Blake Wheeler\n"
     ]
    },
    {
     "name": "stderr",
     "output_type": "stream",
     "text": [
      "100%|██████████| 9/9 [00:04<00:00,  2.20it/s]\n",
      "100%|██████████| 9/9 [00:04<00:00,  2.08it/s]\n"
     ]
    },
    {
     "name": "stdout",
     "output_type": "stream",
     "text": [
      "Bo Horvat\n"
     ]
    },
    {
     "name": "stderr",
     "output_type": "stream",
     "text": [
      "100%|██████████| 9/9 [00:03<00:00,  2.36it/s]\n",
      "100%|██████████| 9/9 [00:03<00:00,  2.29it/s]\n"
     ]
    },
    {
     "name": "stdout",
     "output_type": "stream",
     "text": [
      "Bobby McMann\n"
     ]
    },
    {
     "name": "stderr",
     "output_type": "stream",
     "text": [
      "100%|██████████| 9/9 [00:03<00:00,  2.55it/s]\n",
      "100%|██████████| 9/9 [00:03<00:00,  2.40it/s]\n"
     ]
    },
    {
     "name": "stdout",
     "output_type": "stream",
     "text": [
      "Bokondji Imama\n"
     ]
    },
    {
     "name": "stderr",
     "output_type": "stream",
     "text": [
      "100%|██████████| 9/9 [00:03<00:00,  2.55it/s]\n",
      "100%|██████████| 9/9 [00:04<00:00,  1.98it/s]\n"
     ]
    },
    {
     "name": "stdout",
     "output_type": "stream",
     "text": [
      "Boone Jenner\n"
     ]
    },
    {
     "name": "stderr",
     "output_type": "stream",
     "text": [
      "100%|██████████| 9/9 [00:03<00:00,  2.29it/s]\n",
      "100%|██████████| 9/9 [00:04<00:00,  2.22it/s]\n"
     ]
    },
    {
     "name": "stdout",
     "output_type": "stream",
     "text": [
      "Boris Katchouk\n"
     ]
    },
    {
     "name": "stderr",
     "output_type": "stream",
     "text": [
      "100%|██████████| 9/9 [00:04<00:00,  2.21it/s]\n",
      "100%|██████████| 9/9 [00:04<00:00,  2.21it/s]\n"
     ]
    },
    {
     "name": "stdout",
     "output_type": "stream",
     "text": [
      "Bowen Byram\n"
     ]
    },
    {
     "name": "stderr",
     "output_type": "stream",
     "text": [
      "100%|██████████| 9/9 [00:05<00:00,  1.79it/s]\n",
      "100%|██████████| 9/9 [00:05<00:00,  1.76it/s]\n"
     ]
    },
    {
     "name": "stdout",
     "output_type": "stream",
     "text": [
      "Brad Hunt\n"
     ]
    },
    {
     "name": "stderr",
     "output_type": "stream",
     "text": [
      "100%|██████████| 9/9 [00:03<00:00,  2.34it/s]\n",
      "100%|██████████| 9/9 [00:03<00:00,  2.46it/s]\n"
     ]
    },
    {
     "name": "stdout",
     "output_type": "stream",
     "text": [
      "Brad Malone\n"
     ]
    },
    {
     "name": "stderr",
     "output_type": "stream",
     "text": [
      "100%|██████████| 9/9 [00:04<00:00,  2.18it/s]\n",
      "100%|██████████| 9/9 [00:04<00:00,  1.96it/s]\n"
     ]
    },
    {
     "name": "stdout",
     "output_type": "stream",
     "text": [
      "Brad Marchand\n"
     ]
    },
    {
     "name": "stderr",
     "output_type": "stream",
     "text": [
      "100%|██████████| 9/9 [00:03<00:00,  2.35it/s]\n",
      "100%|██████████| 9/9 [00:04<00:00,  2.11it/s]\n"
     ]
    },
    {
     "name": "stdout",
     "output_type": "stream",
     "text": [
      "Braden Schneider\n"
     ]
    },
    {
     "name": "stderr",
     "output_type": "stream",
     "text": [
      "100%|██████████| 9/9 [00:03<00:00,  2.47it/s]\n",
      "100%|██████████| 9/9 [00:04<00:00,  2.24it/s]\n"
     ]
    },
    {
     "name": "stdout",
     "output_type": "stream",
     "text": [
      "Brady Skjei\n"
     ]
    },
    {
     "name": "stderr",
     "output_type": "stream",
     "text": [
      "100%|██████████| 9/9 [00:04<00:00,  2.08it/s]\n",
      "100%|██████████| 9/9 [00:04<00:00,  2.05it/s]\n"
     ]
    },
    {
     "name": "stdout",
     "output_type": "stream",
     "text": [
      "Brady Tkachuk\n"
     ]
    },
    {
     "name": "stderr",
     "output_type": "stream",
     "text": [
      "100%|██████████| 9/9 [00:04<00:00,  2.12it/s]\n",
      "100%|██████████| 9/9 [00:04<00:00,  2.00it/s]\n"
     ]
    },
    {
     "name": "stdout",
     "output_type": "stream",
     "text": [
      "Brandon Carlo\n"
     ]
    },
    {
     "name": "stderr",
     "output_type": "stream",
     "text": [
      "100%|██████████| 9/9 [00:03<00:00,  2.43it/s]\n",
      "100%|██████████| 9/9 [00:04<00:00,  2.23it/s]\n"
     ]
    },
    {
     "name": "stdout",
     "output_type": "stream",
     "text": [
      "Brandon Duhaime\n"
     ]
    },
    {
     "name": "stderr",
     "output_type": "stream",
     "text": [
      "100%|██████████| 9/9 [00:03<00:00,  2.41it/s]\n",
      "100%|██████████| 9/9 [00:03<00:00,  2.43it/s]\n"
     ]
    },
    {
     "name": "stdout",
     "output_type": "stream",
     "text": [
      "Brandon Hagel\n"
     ]
    },
    {
     "name": "stderr",
     "output_type": "stream",
     "text": [
      "100%|██████████| 9/9 [00:03<00:00,  2.51it/s]\n",
      "100%|██████████| 9/9 [00:03<00:00,  2.80it/s]\n"
     ]
    },
    {
     "name": "stdout",
     "output_type": "stream",
     "text": [
      "Brandon Montour\n"
     ]
    },
    {
     "name": "stderr",
     "output_type": "stream",
     "text": [
      "100%|██████████| 9/9 [00:04<00:00,  2.06it/s]\n",
      "100%|██████████| 9/9 [00:04<00:00,  2.00it/s]\n"
     ]
    },
    {
     "name": "stdout",
     "output_type": "stream",
     "text": [
      "Brandon Saad\n"
     ]
    },
    {
     "name": "stderr",
     "output_type": "stream",
     "text": [
      "100%|██████████| 9/9 [00:04<00:00,  2.02it/s]\n",
      "100%|██████████| 9/9 [00:04<00:00,  1.86it/s]\n"
     ]
    },
    {
     "name": "stdout",
     "output_type": "stream",
     "text": [
      "Brandon Tanev\n"
     ]
    },
    {
     "name": "stderr",
     "output_type": "stream",
     "text": [
      "100%|██████████| 9/9 [00:03<00:00,  2.51it/s]\n",
      "100%|██████████| 9/9 [00:03<00:00,  2.64it/s]\n"
     ]
    },
    {
     "name": "stdout",
     "output_type": "stream",
     "text": [
      "Brandt Clarke\n"
     ]
    },
    {
     "name": "stderr",
     "output_type": "stream",
     "text": [
      "100%|██████████| 9/9 [00:04<00:00,  2.11it/s]\n",
      "100%|██████████| 9/9 [00:04<00:00,  1.90it/s]\n"
     ]
    },
    {
     "name": "stdout",
     "output_type": "stream",
     "text": [
      "Brayden McNabb\n"
     ]
    },
    {
     "name": "stderr",
     "output_type": "stream",
     "text": [
      "100%|██████████| 9/9 [00:03<00:00,  2.37it/s]\n",
      "100%|██████████| 9/9 [00:03<00:00,  2.41it/s]\n"
     ]
    },
    {
     "name": "stdout",
     "output_type": "stream",
     "text": [
      "Brayden Pachal\n"
     ]
    },
    {
     "name": "stderr",
     "output_type": "stream",
     "text": [
      "100%|██████████| 9/9 [00:03<00:00,  2.65it/s]\n",
      "100%|██████████| 9/9 [00:03<00:00,  2.60it/s]\n"
     ]
    },
    {
     "name": "stdout",
     "output_type": "stream",
     "text": [
      "Brayden Point\n"
     ]
    },
    {
     "name": "stderr",
     "output_type": "stream",
     "text": [
      "100%|██████████| 9/9 [00:04<00:00,  2.17it/s]\n",
      "100%|██████████| 9/9 [00:04<00:00,  2.24it/s]\n"
     ]
    },
    {
     "name": "stdout",
     "output_type": "stream",
     "text": [
      "Brayden Schenn\n"
     ]
    },
    {
     "name": "stderr",
     "output_type": "stream",
     "text": [
      "100%|██████████| 9/9 [00:04<00:00,  2.10it/s]\n",
      "100%|██████████| 9/9 [00:04<00:00,  2.14it/s]\n"
     ]
    },
    {
     "name": "stdout",
     "output_type": "stream",
     "text": [
      "Brendan Gallagher\n"
     ]
    },
    {
     "name": "stderr",
     "output_type": "stream",
     "text": [
      "100%|██████████| 9/9 [00:04<00:00,  1.98it/s]\n",
      "100%|██████████| 9/9 [00:04<00:00,  1.96it/s]\n"
     ]
    },
    {
     "name": "stdout",
     "output_type": "stream",
     "text": [
      "Brendan Gaunce\n"
     ]
    },
    {
     "name": "stderr",
     "output_type": "stream",
     "text": [
      "100%|██████████| 9/9 [00:03<00:00,  2.55it/s]\n",
      "100%|██████████| 9/9 [00:03<00:00,  2.69it/s]\n"
     ]
    },
    {
     "name": "stdout",
     "output_type": "stream",
     "text": [
      "Brendan Lemieux\n"
     ]
    },
    {
     "name": "stderr",
     "output_type": "stream",
     "text": [
      "100%|██████████| 9/9 [00:03<00:00,  2.29it/s]\n",
      "100%|██████████| 9/9 [00:03<00:00,  2.31it/s]\n"
     ]
    },
    {
     "name": "stdout",
     "output_type": "stream",
     "text": [
      "Brendan Smith\n"
     ]
    },
    {
     "name": "stderr",
     "output_type": "stream",
     "text": [
      "100%|██████████| 9/9 [00:05<00:00,  1.73it/s]\n",
      "100%|██████████| 9/9 [00:05<00:00,  1.79it/s]\n"
     ]
    },
    {
     "name": "stdout",
     "output_type": "stream",
     "text": [
      "Brenden Dillon\n"
     ]
    },
    {
     "name": "stderr",
     "output_type": "stream",
     "text": [
      "100%|██████████| 9/9 [00:03<00:00,  2.30it/s]\n",
      "100%|██████████| 9/9 [00:04<00:00,  2.25it/s]\n"
     ]
    },
    {
     "name": "stdout",
     "output_type": "stream",
     "text": [
      "Brent Burns\n"
     ]
    },
    {
     "name": "stderr",
     "output_type": "stream",
     "text": [
      "100%|██████████| 9/9 [00:04<00:00,  2.03it/s]\n",
      "100%|██████████| 9/9 [00:04<00:00,  2.05it/s]\n"
     ]
    },
    {
     "name": "stdout",
     "output_type": "stream",
     "text": [
      "Brett Howden\n"
     ]
    },
    {
     "name": "stderr",
     "output_type": "stream",
     "text": [
      "100%|██████████| 9/9 [00:04<00:00,  2.13it/s]\n",
      "100%|██████████| 9/9 [00:04<00:00,  2.11it/s]\n"
     ]
    },
    {
     "name": "stdout",
     "output_type": "stream",
     "text": [
      "Brett Kulak\n"
     ]
    },
    {
     "name": "stderr",
     "output_type": "stream",
     "text": [
      "100%|██████████| 9/9 [00:03<00:00,  2.47it/s]\n",
      "100%|██████████| 9/9 [00:03<00:00,  2.43it/s]\n"
     ]
    },
    {
     "name": "stdout",
     "output_type": "stream",
     "text": [
      "Brett Leason\n"
     ]
    },
    {
     "name": "stderr",
     "output_type": "stream",
     "text": [
      "100%|██████████| 9/9 [00:04<00:00,  2.17it/s]\n",
      "100%|██████████| 9/9 [00:04<00:00,  1.96it/s]\n"
     ]
    },
    {
     "name": "stdout",
     "output_type": "stream",
     "text": [
      "Brett Pesce\n"
     ]
    },
    {
     "name": "stderr",
     "output_type": "stream",
     "text": [
      "100%|██████████| 9/9 [00:03<00:00,  2.41it/s]\n",
      "100%|██████████| 9/9 [00:04<00:00,  1.95it/s]\n"
     ]
    },
    {
     "name": "stdout",
     "output_type": "stream",
     "text": [
      "Brett Ritchie\n"
     ]
    },
    {
     "name": "stderr",
     "output_type": "stream",
     "text": [
      "100%|██████████| 9/9 [00:04<00:00,  2.18it/s]\n",
      "100%|██████████| 9/9 [00:04<00:00,  2.22it/s]\n"
     ]
    },
    {
     "name": "stdout",
     "output_type": "stream",
     "text": [
      "Brett Seney\n"
     ]
    },
    {
     "name": "stderr",
     "output_type": "stream",
     "text": [
      "100%|██████████| 9/9 [00:03<00:00,  2.90it/s]\n",
      "100%|██████████| 9/9 [00:03<00:00,  2.60it/s]\n"
     ]
    },
    {
     "name": "stdout",
     "output_type": "stream",
     "text": [
      "Brian Dumoulin\n"
     ]
    },
    {
     "name": "stderr",
     "output_type": "stream",
     "text": [
      "100%|██████████| 9/9 [00:04<00:00,  2.00it/s]\n",
      "100%|██████████| 9/9 [00:04<00:00,  2.14it/s]\n"
     ]
    },
    {
     "name": "stdout",
     "output_type": "stream",
     "text": [
      "Brock Boeser\n"
     ]
    },
    {
     "name": "stderr",
     "output_type": "stream",
     "text": [
      "100%|██████████| 9/9 [00:04<00:00,  2.11it/s]\n",
      "100%|██████████| 9/9 [00:04<00:00,  1.96it/s]\n"
     ]
    },
    {
     "name": "stdout",
     "output_type": "stream",
     "text": [
      "Brock McGinn\n"
     ]
    },
    {
     "name": "stderr",
     "output_type": "stream",
     "text": [
      "100%|██████████| 9/9 [00:03<00:00,  2.78it/s]\n",
      "100%|██████████| 9/9 [00:03<00:00,  2.49it/s]\n"
     ]
    },
    {
     "name": "stdout",
     "output_type": "stream",
     "text": [
      "Brock Nelson\n"
     ]
    },
    {
     "name": "stderr",
     "output_type": "stream",
     "text": [
      "100%|██████████| 9/9 [00:04<00:00,  2.10it/s]\n",
      "100%|██████████| 9/9 [00:04<00:00,  2.11it/s]\n"
     ]
    },
    {
     "name": "stdout",
     "output_type": "stream",
     "text": [
      "Bryan Rust\n"
     ]
    },
    {
     "name": "stderr",
     "output_type": "stream",
     "text": [
      "100%|██████████| 9/9 [00:03<00:00,  2.39it/s]\n",
      "100%|██████████| 9/9 [00:03<00:00,  2.26it/s]\n"
     ]
    },
    {
     "name": "stdout",
     "output_type": "stream",
     "text": [
      "Buddy Robinson\n"
     ]
    },
    {
     "name": "stderr",
     "output_type": "stream",
     "text": [
      "100%|██████████| 9/9 [00:04<00:00,  2.08it/s]\n",
      "100%|██████████| 9/9 [00:04<00:00,  2.10it/s]\n"
     ]
    },
    {
     "name": "stdout",
     "output_type": "stream",
     "text": [
      "Byron Froese\n"
     ]
    },
    {
     "name": "stderr",
     "output_type": "stream",
     "text": [
      "100%|██████████| 9/9 [00:03<00:00,  2.32it/s]\n",
      "100%|██████████| 9/9 [00:03<00:00,  2.40it/s]\n"
     ]
    },
    {
     "name": "stdout",
     "output_type": "stream",
     "text": [
      "CJ Suess\n"
     ]
    },
    {
     "name": "stderr",
     "output_type": "stream",
     "text": [
      "100%|██████████| 9/9 [00:02<00:00,  3.21it/s]\n",
      "100%|██████████| 9/9 [00:17<00:00,  1.94s/it]\n"
     ]
    },
    {
     "name": "stdout",
     "output_type": "stream",
     "text": [
      "Cal Clutterbuck\n"
     ]
    },
    {
     "name": "stderr",
     "output_type": "stream",
     "text": [
      "100%|██████████| 9/9 [00:04<00:00,  1.97it/s]\n",
      "100%|██████████| 9/9 [00:04<00:00,  2.04it/s]\n"
     ]
    },
    {
     "name": "stdout",
     "output_type": "stream",
     "text": [
      "Cal Foote\n"
     ]
    },
    {
     "name": "stderr",
     "output_type": "stream",
     "text": [
      "100%|██████████| 9/9 [00:03<00:00,  2.38it/s]\n",
      "100%|██████████| 9/9 [00:03<00:00,  2.38it/s]\n"
     ]
    },
    {
     "name": "stdout",
     "output_type": "stream",
     "text": [
      "Cale Fleury\n"
     ]
    },
    {
     "name": "stderr",
     "output_type": "stream",
     "text": [
      "100%|██████████| 9/9 [00:03<00:00,  2.44it/s]\n",
      "100%|██████████| 9/9 [00:03<00:00,  2.62it/s]\n"
     ]
    },
    {
     "name": "stdout",
     "output_type": "stream",
     "text": [
      "Cale Makar\n"
     ]
    },
    {
     "name": "stderr",
     "output_type": "stream",
     "text": [
      "100%|██████████| 9/9 [00:06<00:00,  1.49it/s]\n",
      "100%|██████████| 9/9 [00:05<00:00,  1.74it/s]\n"
     ]
    },
    {
     "name": "stdout",
     "output_type": "stream",
     "text": [
      "Caleb Jones\n"
     ]
    },
    {
     "name": "stderr",
     "output_type": "stream",
     "text": [
      "100%|██████████| 9/9 [00:04<00:00,  2.07it/s]\n",
      "100%|██████████| 9/9 [00:04<00:00,  2.07it/s]\n"
     ]
    },
    {
     "name": "stdout",
     "output_type": "stream",
     "text": [
      "Calen Addison\n"
     ]
    },
    {
     "name": "stderr",
     "output_type": "stream",
     "text": [
      "100%|██████████| 9/9 [00:04<00:00,  2.00it/s]\n",
      "100%|██████████| 9/9 [00:04<00:00,  1.80it/s]\n",
      "c:\\Users\\jetso\\AppData\\Local\\Programs\\Python\\Python311\\Lib\\site-packages\\moepy\\lowess.py:38: RuntimeWarning:\n",
      "\n",
      "divide by zero encountered in divide\n",
      "\n",
      "c:\\Users\\jetso\\AppData\\Local\\Programs\\Python\\Python311\\Lib\\site-packages\\moepy\\lowess.py:38: RuntimeWarning:\n",
      "\n",
      "invalid value encountered in divide\n",
      "\n"
     ]
    },
    {
     "name": "stdout",
     "output_type": "stream",
     "text": [
      "Callahan Burke\n"
     ]
    },
    {
     "name": "stderr",
     "output_type": "stream",
     "text": [
      "100%|██████████| 9/9 [00:00<00:00, 14.81it/s]\n",
      "c:\\Users\\jetso\\AppData\\Local\\Programs\\Python\\Python311\\Lib\\site-packages\\moepy\\lowess.py:38: RuntimeWarning:\n",
      "\n",
      "divide by zero encountered in divide\n",
      "\n",
      "c:\\Users\\jetso\\AppData\\Local\\Programs\\Python\\Python311\\Lib\\site-packages\\moepy\\lowess.py:38: RuntimeWarning:\n",
      "\n",
      "invalid value encountered in divide\n",
      "\n",
      "100%|██████████| 9/9 [00:00<00:00, 21.37it/s]\n"
     ]
    },
    {
     "name": "stdout",
     "output_type": "stream",
     "text": [
      "Calle Jarnkrok\n"
     ]
    },
    {
     "name": "stderr",
     "output_type": "stream",
     "text": [
      "100%|██████████| 9/9 [00:04<00:00,  2.00it/s]\n",
      "100%|██████████| 9/9 [00:04<00:00,  1.97it/s]\n"
     ]
    },
    {
     "name": "stdout",
     "output_type": "stream",
     "text": [
      "Calle Rosen\n"
     ]
    },
    {
     "name": "stderr",
     "output_type": "stream",
     "text": [
      "100%|██████████| 9/9 [00:03<00:00,  2.54it/s]\n",
      "100%|██████████| 9/9 [00:04<00:00,  2.17it/s]\n"
     ]
    },
    {
     "name": "stdout",
     "output_type": "stream",
     "text": [
      "Calvin de Haan\n"
     ]
    },
    {
     "name": "stderr",
     "output_type": "stream",
     "text": [
      "100%|██████████| 9/9 [00:04<00:00,  1.96it/s]\n",
      "100%|██████████| 9/9 [00:04<00:00,  1.82it/s]\n"
     ]
    },
    {
     "name": "stdout",
     "output_type": "stream",
     "text": [
      "Cam Fowler\n"
     ]
    },
    {
     "name": "stderr",
     "output_type": "stream",
     "text": [
      "100%|██████████| 9/9 [00:04<00:00,  2.22it/s]\n",
      "100%|██████████| 9/9 [00:04<00:00,  2.00it/s]\n"
     ]
    },
    {
     "name": "stdout",
     "output_type": "stream",
     "text": [
      "Cam York\n"
     ]
    },
    {
     "name": "stderr",
     "output_type": "stream",
     "text": [
      "100%|██████████| 9/9 [00:04<00:00,  2.22it/s]\n",
      "100%|██████████| 9/9 [00:03<00:00,  2.35it/s]\n"
     ]
    },
    {
     "name": "stdout",
     "output_type": "stream",
     "text": [
      "Carl Grundstrom\n"
     ]
    },
    {
     "name": "stderr",
     "output_type": "stream",
     "text": [
      "100%|██████████| 9/9 [00:04<00:00,  2.18it/s]\n",
      "100%|██████████| 9/9 [00:04<00:00,  1.92it/s]\n"
     ]
    },
    {
     "name": "stdout",
     "output_type": "stream",
     "text": [
      "Carson Meyer\n"
     ]
    },
    {
     "name": "stderr",
     "output_type": "stream",
     "text": [
      "100%|██████████| 9/9 [00:03<00:00,  2.38it/s]\n",
      "100%|██████████| 9/9 [00:04<00:00,  2.05it/s]\n"
     ]
    },
    {
     "name": "stdout",
     "output_type": "stream",
     "text": [
      "Carson Soucy\n"
     ]
    },
    {
     "name": "stderr",
     "output_type": "stream",
     "text": [
      "100%|██████████| 9/9 [00:04<00:00,  2.07it/s]\n",
      "100%|██████████| 9/9 [00:04<00:00,  1.83it/s]\n"
     ]
    },
    {
     "name": "stdout",
     "output_type": "stream",
     "text": [
      "Carter Verhaeghe\n"
     ]
    },
    {
     "name": "stderr",
     "output_type": "stream",
     "text": [
      "100%|██████████| 9/9 [00:04<00:00,  2.10it/s]\n",
      "100%|██████████| 9/9 [00:04<00:00,  2.16it/s]\n"
     ]
    },
    {
     "name": "stdout",
     "output_type": "stream",
     "text": [
      "Casey Cizikas\n"
     ]
    },
    {
     "name": "stderr",
     "output_type": "stream",
     "text": [
      "100%|██████████| 9/9 [00:04<00:00,  2.24it/s]\n",
      "100%|██████████| 9/9 [00:04<00:00,  2.14it/s]\n"
     ]
    },
    {
     "name": "stdout",
     "output_type": "stream",
     "text": [
      "Casey Fitzgerald\n"
     ]
    },
    {
     "name": "stderr",
     "output_type": "stream",
     "text": [
      "100%|██████████| 9/9 [00:04<00:00,  2.22it/s]\n",
      "100%|██████████| 9/9 [00:03<00:00,  2.47it/s]\n"
     ]
    },
    {
     "name": "stdout",
     "output_type": "stream",
     "text": [
      "Casey Mittelstadt\n"
     ]
    },
    {
     "name": "stderr",
     "output_type": "stream",
     "text": [
      "100%|██████████| 9/9 [00:04<00:00,  2.07it/s]\n",
      "100%|██████████| 9/9 [00:04<00:00,  2.03it/s]\n"
     ]
    },
    {
     "name": "stdout",
     "output_type": "stream",
     "text": [
      "Chad Ruhwedel\n"
     ]
    },
    {
     "name": "stderr",
     "output_type": "stream",
     "text": [
      "100%|██████████| 9/9 [00:03<00:00,  2.66it/s]\n",
      "100%|██████████| 9/9 [00:03<00:00,  2.40it/s]\n"
     ]
    },
    {
     "name": "stdout",
     "output_type": "stream",
     "text": [
      "Chandler Stephenson\n"
     ]
    },
    {
     "name": "stderr",
     "output_type": "stream",
     "text": [
      "100%|██████████| 9/9 [00:03<00:00,  2.30it/s]\n",
      "100%|██████████| 9/9 [00:03<00:00,  2.31it/s]\n"
     ]
    },
    {
     "name": "stdout",
     "output_type": "stream",
     "text": [
      "Charles Hudon\n"
     ]
    },
    {
     "name": "stderr",
     "output_type": "stream",
     "text": [
      "100%|██████████| 9/9 [00:04<00:00,  1.84it/s]\n",
      "100%|██████████| 9/9 [00:04<00:00,  1.86it/s]\n"
     ]
    },
    {
     "name": "stdout",
     "output_type": "stream",
     "text": [
      "Charlie Coyle\n"
     ]
    },
    {
     "name": "stderr",
     "output_type": "stream",
     "text": [
      "100%|██████████| 9/9 [00:04<00:00,  2.15it/s]\n",
      "100%|██████████| 9/9 [00:04<00:00,  1.96it/s]\n"
     ]
    },
    {
     "name": "stdout",
     "output_type": "stream",
     "text": [
      "Charlie McAvoy\n"
     ]
    },
    {
     "name": "stderr",
     "output_type": "stream",
     "text": [
      "100%|██████████| 9/9 [00:04<00:00,  2.08it/s]\n",
      "100%|██████████| 9/9 [00:04<00:00,  1.97it/s]\n"
     ]
    },
    {
     "name": "stdout",
     "output_type": "stream",
     "text": [
      "Chris Kreider\n"
     ]
    },
    {
     "name": "stderr",
     "output_type": "stream",
     "text": [
      "100%|██████████| 9/9 [00:03<00:00,  2.30it/s]\n",
      "100%|██████████| 9/9 [00:04<00:00,  2.01it/s]\n"
     ]
    },
    {
     "name": "stdout",
     "output_type": "stream",
     "text": [
      "Chris Tanev\n"
     ]
    },
    {
     "name": "stderr",
     "output_type": "stream",
     "text": [
      "100%|██████████| 9/9 [00:04<00:00,  1.90it/s]\n",
      "100%|██████████| 9/9 [00:04<00:00,  2.02it/s]\n"
     ]
    },
    {
     "name": "stdout",
     "output_type": "stream",
     "text": [
      "Chris Tierney\n"
     ]
    },
    {
     "name": "stderr",
     "output_type": "stream",
     "text": [
      "100%|██████████| 9/9 [00:03<00:00,  2.26it/s]\n",
      "100%|██████████| 9/9 [00:04<00:00,  2.18it/s]\n"
     ]
    },
    {
     "name": "stdout",
     "output_type": "stream",
     "text": [
      "Chris Wagner\n"
     ]
    },
    {
     "name": "stderr",
     "output_type": "stream",
     "text": [
      "100%|██████████| 9/9 [00:03<00:00,  2.66it/s]\n",
      "100%|██████████| 9/9 [00:03<00:00,  2.69it/s]\n"
     ]
    },
    {
     "name": "stdout",
     "output_type": "stream",
     "text": [
      "Chris Wideman\n"
     ]
    },
    {
     "name": "stderr",
     "output_type": "stream",
     "text": [
      "100%|██████████| 9/9 [00:04<00:00,  2.22it/s]\n",
      "100%|██████████| 9/9 [00:04<00:00,  2.21it/s]\n"
     ]
    },
    {
     "name": "stdout",
     "output_type": "stream",
     "text": [
      "Christian Dvorak\n"
     ]
    },
    {
     "name": "stderr",
     "output_type": "stream",
     "text": [
      "100%|██████████| 9/9 [00:03<00:00,  2.38it/s]\n",
      "100%|██████████| 9/9 [00:04<00:00,  2.10it/s]\n"
     ]
    },
    {
     "name": "stdout",
     "output_type": "stream",
     "text": [
      "Christian Fischer\n"
     ]
    },
    {
     "name": "stderr",
     "output_type": "stream",
     "text": [
      "100%|██████████| 9/9 [00:04<00:00,  2.03it/s]\n",
      "100%|██████████| 9/9 [00:04<00:00,  1.93it/s]\n"
     ]
    },
    {
     "name": "stdout",
     "output_type": "stream",
     "text": [
      "Christian Wolanin\n"
     ]
    },
    {
     "name": "stderr",
     "output_type": "stream",
     "text": [
      "100%|██████████| 9/9 [00:03<00:00,  2.28it/s]\n",
      "100%|██████████| 9/9 [00:04<00:00,  2.15it/s]\n"
     ]
    },
    {
     "name": "stdout",
     "output_type": "stream",
     "text": [
      "Claude Giroux\n"
     ]
    },
    {
     "name": "stderr",
     "output_type": "stream",
     "text": [
      "100%|██████████| 9/9 [00:04<00:00,  2.14it/s]\n",
      "100%|██████████| 9/9 [00:03<00:00,  2.41it/s]\n"
     ]
    },
    {
     "name": "stdout",
     "output_type": "stream",
     "text": [
      "Clayton Keller\n"
     ]
    },
    {
     "name": "stderr",
     "output_type": "stream",
     "text": [
      "100%|██████████| 9/9 [00:03<00:00,  2.58it/s]\n",
      "100%|██████████| 9/9 [00:03<00:00,  2.52it/s]\n"
     ]
    },
    {
     "name": "stdout",
     "output_type": "stream",
     "text": [
      "Cody Ceci\n"
     ]
    },
    {
     "name": "stderr",
     "output_type": "stream",
     "text": [
      "100%|██████████| 9/9 [00:04<00:00,  2.06it/s]\n",
      "100%|██████████| 9/9 [00:04<00:00,  2.12it/s]\n"
     ]
    },
    {
     "name": "stdout",
     "output_type": "stream",
     "text": [
      "Cody Glass\n"
     ]
    },
    {
     "name": "stderr",
     "output_type": "stream",
     "text": [
      "100%|██████████| 9/9 [00:03<00:00,  2.42it/s]\n",
      "100%|██████████| 9/9 [00:03<00:00,  2.38it/s]\n"
     ]
    },
    {
     "name": "stdout",
     "output_type": "stream",
     "text": [
      "Cole Bardreau\n"
     ]
    },
    {
     "name": "stderr",
     "output_type": "stream",
     "text": [
      "100%|██████████| 9/9 [00:02<00:00,  3.37it/s]\n",
      "100%|██████████| 9/9 [00:02<00:00,  3.12it/s]\n"
     ]
    },
    {
     "name": "stdout",
     "output_type": "stream",
     "text": [
      "Cole Caufield\n"
     ]
    },
    {
     "name": "stderr",
     "output_type": "stream",
     "text": [
      "100%|██████████| 9/9 [00:03<00:00,  2.50it/s]\n",
      "100%|██████████| 9/9 [00:03<00:00,  2.41it/s]\n"
     ]
    },
    {
     "name": "stdout",
     "output_type": "stream",
     "text": [
      "Cole Guttman\n"
     ]
    },
    {
     "name": "stderr",
     "output_type": "stream",
     "text": [
      "100%|██████████| 9/9 [00:04<00:00,  2.13it/s]\n",
      "100%|██████████| 9/9 [00:04<00:00,  2.13it/s]\n"
     ]
    },
    {
     "name": "stdout",
     "output_type": "stream",
     "text": [
      "Cole Koepke\n"
     ]
    },
    {
     "name": "stderr",
     "output_type": "stream",
     "text": [
      "100%|██████████| 9/9 [00:02<00:00,  3.25it/s]\n",
      "100%|██████████| 9/9 [00:03<00:00,  2.32it/s]\n"
     ]
    },
    {
     "name": "stdout",
     "output_type": "stream",
     "text": [
      "Cole Perfetti\n"
     ]
    },
    {
     "name": "stderr",
     "output_type": "stream",
     "text": [
      "100%|██████████| 9/9 [00:03<00:00,  2.26it/s]\n",
      "100%|██████████| 9/9 [00:04<00:00,  2.12it/s]\n"
     ]
    },
    {
     "name": "stdout",
     "output_type": "stream",
     "text": [
      "Cole Sillinger\n"
     ]
    },
    {
     "name": "stderr",
     "output_type": "stream",
     "text": [
      "100%|██████████| 9/9 [00:04<00:00,  2.07it/s]\n",
      "100%|██████████| 9/9 [00:05<00:00,  1.74it/s]\n"
     ]
    },
    {
     "name": "stdout",
     "output_type": "stream",
     "text": [
      "Cole Smith\n"
     ]
    },
    {
     "name": "stderr",
     "output_type": "stream",
     "text": [
      "100%|██████████| 9/9 [00:03<00:00,  2.55it/s]\n",
      "100%|██████████| 9/9 [00:04<00:00,  2.11it/s]\n"
     ]
    },
    {
     "name": "stdout",
     "output_type": "stream",
     "text": [
      "Colin Blackwell\n"
     ]
    },
    {
     "name": "stderr",
     "output_type": "stream",
     "text": [
      "100%|██████████| 9/9 [00:05<00:00,  1.60it/s]\n",
      "100%|██████████| 9/9 [00:04<00:00,  2.06it/s]\n"
     ]
    },
    {
     "name": "stdout",
     "output_type": "stream",
     "text": [
      "Colin Miller\n"
     ]
    },
    {
     "name": "stderr",
     "output_type": "stream",
     "text": [
      "100%|██████████| 9/9 [00:03<00:00,  2.55it/s]\n",
      "100%|██████████| 9/9 [00:04<00:00,  2.24it/s]\n"
     ]
    },
    {
     "name": "stdout",
     "output_type": "stream",
     "text": [
      "Colin White\n"
     ]
    },
    {
     "name": "stderr",
     "output_type": "stream",
     "text": [
      "100%|██████████| 9/9 [00:04<00:00,  1.97it/s]\n",
      "100%|██████████| 9/9 [00:03<00:00,  2.52it/s]\n"
     ]
    },
    {
     "name": "stdout",
     "output_type": "stream",
     "text": [
      "Colton Parayko\n"
     ]
    },
    {
     "name": "stderr",
     "output_type": "stream",
     "text": [
      "100%|██████████| 9/9 [00:06<00:00,  1.44it/s]\n",
      "100%|██████████| 9/9 [00:05<00:00,  1.71it/s]\n"
     ]
    },
    {
     "name": "stdout",
     "output_type": "stream",
     "text": [
      "Colton Sissons\n"
     ]
    },
    {
     "name": "stderr",
     "output_type": "stream",
     "text": [
      "100%|██████████| 9/9 [00:03<00:00,  2.42it/s]\n",
      "100%|██████████| 9/9 [00:03<00:00,  2.34it/s]\n"
     ]
    },
    {
     "name": "stdout",
     "output_type": "stream",
     "text": [
      "Colton White\n"
     ]
    },
    {
     "name": "stderr",
     "output_type": "stream",
     "text": [
      "100%|██████████| 9/9 [00:03<00:00,  2.56it/s]\n",
      "100%|██████████| 9/9 [00:03<00:00,  2.45it/s]\n"
     ]
    },
    {
     "name": "stdout",
     "output_type": "stream",
     "text": [
      "Connor Brown\n"
     ]
    },
    {
     "name": "stderr",
     "output_type": "stream",
     "text": [
      "100%|██████████| 9/9 [00:03<00:00,  2.76it/s]\n",
      "100%|██████████| 9/9 [00:03<00:00,  2.53it/s]\n"
     ]
    },
    {
     "name": "stdout",
     "output_type": "stream",
     "text": [
      "Connor Clifton\n"
     ]
    },
    {
     "name": "stderr",
     "output_type": "stream",
     "text": [
      "100%|██████████| 9/9 [00:03<00:00,  2.52it/s]\n",
      "100%|██████████| 9/9 [00:03<00:00,  2.46it/s]\n"
     ]
    },
    {
     "name": "stdout",
     "output_type": "stream",
     "text": [
      "Connor Dewar\n"
     ]
    },
    {
     "name": "stderr",
     "output_type": "stream",
     "text": [
      "100%|██████████| 9/9 [00:03<00:00,  2.84it/s]\n",
      "100%|██████████| 9/9 [00:03<00:00,  2.56it/s]\n"
     ]
    },
    {
     "name": "stdout",
     "output_type": "stream",
     "text": [
      "Connor Mackey\n"
     ]
    },
    {
     "name": "stderr",
     "output_type": "stream",
     "text": [
      "100%|██████████| 9/9 [00:03<00:00,  2.59it/s]\n",
      "100%|██████████| 9/9 [00:03<00:00,  2.53it/s]\n"
     ]
    },
    {
     "name": "stdout",
     "output_type": "stream",
     "text": [
      "Connor McDavid\n"
     ]
    },
    {
     "name": "stderr",
     "output_type": "stream",
     "text": [
      "100%|██████████| 9/9 [00:04<00:00,  2.14it/s]\n",
      "100%|██████████| 9/9 [00:04<00:00,  2.15it/s]\n"
     ]
    },
    {
     "name": "stdout",
     "output_type": "stream",
     "text": [
      "Connor McMichael\n"
     ]
    },
    {
     "name": "stderr",
     "output_type": "stream",
     "text": [
      "100%|██████████| 9/9 [00:04<00:00,  1.95it/s]\n",
      "100%|██████████| 9/9 [00:04<00:00,  2.10it/s]\n"
     ]
    },
    {
     "name": "stdout",
     "output_type": "stream",
     "text": [
      "Connor Murphy\n"
     ]
    },
    {
     "name": "stderr",
     "output_type": "stream",
     "text": [
      "100%|██████████| 9/9 [00:04<00:00,  2.20it/s]\n",
      "100%|██████████| 9/9 [00:04<00:00,  2.06it/s]\n"
     ]
    },
    {
     "name": "stdout",
     "output_type": "stream",
     "text": [
      "Conor Garland\n"
     ]
    },
    {
     "name": "stderr",
     "output_type": "stream",
     "text": [
      "100%|██████████| 9/9 [00:04<00:00,  2.17it/s]\n",
      "100%|██████████| 9/9 [00:03<00:00,  2.37it/s]\n"
     ]
    },
    {
     "name": "stdout",
     "output_type": "stream",
     "text": [
      "Conor Sheary\n"
     ]
    },
    {
     "name": "stderr",
     "output_type": "stream",
     "text": [
      "100%|██████████| 9/9 [00:03<00:00,  2.38it/s]\n",
      "100%|██████████| 9/9 [00:04<00:00,  2.14it/s]\n"
     ]
    },
    {
     "name": "stdout",
     "output_type": "stream",
     "text": [
      "Conor Timmins\n"
     ]
    },
    {
     "name": "stderr",
     "output_type": "stream",
     "text": [
      "100%|██████████| 9/9 [00:03<00:00,  2.33it/s]\n",
      "100%|██████████| 9/9 [00:04<00:00,  2.13it/s]\n"
     ]
    },
    {
     "name": "stdout",
     "output_type": "stream",
     "text": [
      "Corey Perry\n"
     ]
    },
    {
     "name": "stderr",
     "output_type": "stream",
     "text": [
      "100%|██████████| 9/9 [00:03<00:00,  2.28it/s]\n",
      "100%|██████████| 9/9 [00:04<00:00,  2.03it/s]\n"
     ]
    },
    {
     "name": "stdout",
     "output_type": "stream",
     "text": [
      "Corey Schueneman\n"
     ]
    },
    {
     "name": "stderr",
     "output_type": "stream",
     "text": [
      "100%|██████████| 9/9 [00:03<00:00,  2.35it/s]\n",
      "100%|██████████| 9/9 [00:04<00:00,  2.22it/s]\n"
     ]
    },
    {
     "name": "stdout",
     "output_type": "stream",
     "text": [
      "Craig Smith\n"
     ]
    },
    {
     "name": "stderr",
     "output_type": "stream",
     "text": [
      "100%|██████████| 9/9 [00:03<00:00,  2.37it/s]\n",
      "100%|██████████| 9/9 [00:03<00:00,  2.33it/s]\n"
     ]
    },
    {
     "name": "stdout",
     "output_type": "stream",
     "text": [
      "Curtis Lazar\n"
     ]
    },
    {
     "name": "stderr",
     "output_type": "stream",
     "text": [
      "100%|██████████| 9/9 [00:03<00:00,  2.52it/s]\n",
      "100%|██████████| 9/9 [00:03<00:00,  2.69it/s]\n"
     ]
    },
    {
     "name": "stdout",
     "output_type": "stream",
     "text": [
      "Dakota Joshua\n"
     ]
    },
    {
     "name": "stderr",
     "output_type": "stream",
     "text": [
      "100%|██████████| 9/9 [00:03<00:00,  2.30it/s]\n",
      "100%|██████████| 9/9 [00:04<00:00,  2.14it/s]\n"
     ]
    },
    {
     "name": "stdout",
     "output_type": "stream",
     "text": [
      "Dakota Mermis\n"
     ]
    },
    {
     "name": "stderr",
     "output_type": "stream",
     "text": [
      "100%|██████████| 9/9 [00:04<00:00,  1.86it/s]\n",
      "100%|██████████| 9/9 [00:04<00:00,  2.01it/s]\n"
     ]
    },
    {
     "name": "stdout",
     "output_type": "stream",
     "text": [
      "Damon Severson\n"
     ]
    },
    {
     "name": "stderr",
     "output_type": "stream",
     "text": [
      "100%|██████████| 9/9 [00:03<00:00,  2.38it/s]\n",
      "100%|██████████| 9/9 [00:03<00:00,  2.50it/s]\n"
     ]
    },
    {
     "name": "stdout",
     "output_type": "stream",
     "text": [
      "Dan Renouf\n"
     ]
    },
    {
     "name": "stderr",
     "output_type": "stream",
     "text": [
      "100%|██████████| 9/9 [00:04<00:00,  2.04it/s]\n",
      "100%|██████████| 9/9 [00:05<00:00,  1.78it/s]\n"
     ]
    },
    {
     "name": "stdout",
     "output_type": "stream",
     "text": [
      "Daniel Sprong\n"
     ]
    },
    {
     "name": "stderr",
     "output_type": "stream",
     "text": [
      "100%|██████████| 9/9 [00:03<00:00,  2.54it/s]\n",
      "100%|██████████| 9/9 [00:03<00:00,  2.41it/s]\n"
     ]
    },
    {
     "name": "stdout",
     "output_type": "stream",
     "text": [
      "Daniil Miromanov\n"
     ]
    },
    {
     "name": "stderr",
     "output_type": "stream",
     "text": [
      "100%|██████████| 9/9 [00:03<00:00,  2.28it/s]\n",
      "100%|██████████| 9/9 [00:03<00:00,  2.52it/s]\n"
     ]
    },
    {
     "name": "stdout",
     "output_type": "stream",
     "text": [
      "Dante Fabbro\n"
     ]
    },
    {
     "name": "stderr",
     "output_type": "stream",
     "text": [
      "100%|██████████| 9/9 [00:03<00:00,  2.33it/s]\n",
      "100%|██████████| 9/9 [00:03<00:00,  2.56it/s]\n"
     ]
    },
    {
     "name": "stdout",
     "output_type": "stream",
     "text": [
      "Danton Heinen\n"
     ]
    },
    {
     "name": "stderr",
     "output_type": "stream",
     "text": [
      "100%|██████████| 9/9 [00:04<00:00,  2.15it/s]\n",
      "100%|██████████| 9/9 [00:03<00:00,  2.50it/s]\n"
     ]
    },
    {
     "name": "stdout",
     "output_type": "stream",
     "text": [
      "Darnell Nurse\n"
     ]
    },
    {
     "name": "stderr",
     "output_type": "stream",
     "text": [
      "100%|██████████| 9/9 [00:03<00:00,  2.31it/s]\n",
      "100%|██████████| 9/9 [00:03<00:00,  2.35it/s]\n"
     ]
    },
    {
     "name": "stdout",
     "output_type": "stream",
     "text": [
      "Darren Helm\n"
     ]
    },
    {
     "name": "stderr",
     "output_type": "stream",
     "text": [
      "100%|██████████| 9/9 [00:04<00:00,  2.00it/s]\n",
      "100%|██████████| 9/9 [00:03<00:00,  2.28it/s]\n"
     ]
    },
    {
     "name": "stdout",
     "output_type": "stream",
     "text": [
      "Darren Raddysh\n"
     ]
    },
    {
     "name": "stderr",
     "output_type": "stream",
     "text": [
      "100%|██████████| 9/9 [00:03<00:00,  2.48it/s]\n",
      "100%|██████████| 9/9 [00:03<00:00,  2.44it/s]\n"
     ]
    },
    {
     "name": "stdout",
     "output_type": "stream",
     "text": [
      "David Gust\n"
     ]
    },
    {
     "name": "stderr",
     "output_type": "stream",
     "text": [
      "c:\\Users\\jetso\\AppData\\Local\\Programs\\Python\\Python311\\Lib\\site-packages\\moepy\\lowess.py:38: RuntimeWarning:\n",
      "\n",
      "divide by zero encountered in divide\n",
      "\n",
      "c:\\Users\\jetso\\AppData\\Local\\Programs\\Python\\Python311\\Lib\\site-packages\\moepy\\lowess.py:38: RuntimeWarning:\n",
      "\n",
      "invalid value encountered in divide\n",
      "\n",
      "100%|██████████| 9/9 [00:00<00:00, 18.22it/s]\n",
      "c:\\Users\\jetso\\AppData\\Local\\Programs\\Python\\Python311\\Lib\\site-packages\\moepy\\lowess.py:38: RuntimeWarning:\n",
      "\n",
      "divide by zero encountered in divide\n",
      "\n",
      "c:\\Users\\jetso\\AppData\\Local\\Programs\\Python\\Python311\\Lib\\site-packages\\moepy\\lowess.py:38: RuntimeWarning:\n",
      "\n",
      "invalid value encountered in divide\n",
      "\n",
      "100%|██████████| 9/9 [00:14<00:00,  1.62s/it]\n"
     ]
    },
    {
     "name": "stdout",
     "output_type": "stream",
     "text": [
      "David Gustafsson\n"
     ]
    },
    {
     "name": "stderr",
     "output_type": "stream",
     "text": [
      "100%|██████████| 9/9 [00:03<00:00,  2.77it/s]\n",
      "100%|██████████| 9/9 [00:03<00:00,  2.87it/s]\n",
      "c:\\Users\\jetso\\AppData\\Local\\Programs\\Python\\Python311\\Lib\\site-packages\\moepy\\lowess.py:38: RuntimeWarning:\n",
      "\n",
      "divide by zero encountered in divide\n",
      "\n",
      "c:\\Users\\jetso\\AppData\\Local\\Programs\\Python\\Python311\\Lib\\site-packages\\moepy\\lowess.py:38: RuntimeWarning:\n",
      "\n",
      "invalid value encountered in divide\n",
      "\n"
     ]
    },
    {
     "name": "stdout",
     "output_type": "stream",
     "text": [
      "David Jiricek\n"
     ]
    },
    {
     "name": "stderr",
     "output_type": "stream",
     "text": [
      "100%|██████████| 9/9 [00:00<00:00, 18.50it/s]\n",
      "c:\\Users\\jetso\\AppData\\Local\\Programs\\Python\\Python311\\Lib\\site-packages\\moepy\\lowess.py:38: RuntimeWarning:\n",
      "\n",
      "divide by zero encountered in divide\n",
      "\n",
      "c:\\Users\\jetso\\AppData\\Local\\Programs\\Python\\Python311\\Lib\\site-packages\\moepy\\lowess.py:38: RuntimeWarning:\n",
      "\n",
      "invalid value encountered in divide\n",
      "\n",
      "100%|██████████| 9/9 [00:00<00:00, 22.23it/s]\n"
     ]
    },
    {
     "name": "stdout",
     "output_type": "stream",
     "text": [
      "David Kampf\n"
     ]
    },
    {
     "name": "stderr",
     "output_type": "stream",
     "text": [
      "100%|██████████| 9/9 [00:02<00:00,  3.13it/s]\n",
      "100%|██████████| 9/9 [00:03<00:00,  2.61it/s]\n"
     ]
    },
    {
     "name": "stdout",
     "output_type": "stream",
     "text": [
      "David Krejci\n"
     ]
    },
    {
     "name": "stderr",
     "output_type": "stream",
     "text": [
      "100%|██████████| 9/9 [00:03<00:00,  2.42it/s]\n",
      "100%|██████████| 9/9 [00:03<00:00,  2.42it/s]\n"
     ]
    },
    {
     "name": "stdout",
     "output_type": "stream",
     "text": [
      "David Pastrnak\n"
     ]
    },
    {
     "name": "stderr",
     "output_type": "stream",
     "text": [
      "100%|██████████| 9/9 [00:04<00:00,  2.23it/s]\n",
      "100%|██████████| 9/9 [00:04<00:00,  2.13it/s]\n"
     ]
    },
    {
     "name": "stdout",
     "output_type": "stream",
     "text": [
      "David Perron\n"
     ]
    },
    {
     "name": "stderr",
     "output_type": "stream",
     "text": [
      "100%|██████████| 9/9 [00:05<00:00,  1.75it/s]\n",
      "100%|██████████| 9/9 [00:04<00:00,  2.19it/s]\n"
     ]
    },
    {
     "name": "stdout",
     "output_type": "stream",
     "text": [
      "David Savard\n"
     ]
    },
    {
     "name": "stderr",
     "output_type": "stream",
     "text": [
      "100%|██████████| 9/9 [00:04<00:00,  2.11it/s]\n",
      "100%|██████████| 9/9 [00:03<00:00,  2.28it/s]\n"
     ]
    },
    {
     "name": "stdout",
     "output_type": "stream",
     "text": [
      "Dawson Mercer\n"
     ]
    },
    {
     "name": "stderr",
     "output_type": "stream",
     "text": [
      "100%|██████████| 9/9 [00:04<00:00,  2.16it/s]\n",
      "100%|██████████| 9/9 [00:04<00:00,  2.04it/s]\n"
     ]
    },
    {
     "name": "stdout",
     "output_type": "stream",
     "text": [
      "Denis Gurianov\n"
     ]
    },
    {
     "name": "stderr",
     "output_type": "stream",
     "text": [
      "100%|██████████| 9/9 [00:03<00:00,  2.66it/s]\n",
      "100%|██████████| 9/9 [00:03<00:00,  2.52it/s]\n"
     ]
    },
    {
     "name": "stdout",
     "output_type": "stream",
     "text": [
      "Denis Malgin\n"
     ]
    },
    {
     "name": "stderr",
     "output_type": "stream",
     "text": [
      "100%|██████████| 9/9 [00:03<00:00,  2.40it/s]\n",
      "100%|██████████| 9/9 [00:03<00:00,  2.40it/s]\n"
     ]
    },
    {
     "name": "stdout",
     "output_type": "stream",
     "text": [
      "Dennis Cholowski\n"
     ]
    },
    {
     "name": "stderr",
     "output_type": "stream",
     "text": [
      "100%|██████████| 9/9 [00:03<00:00,  2.29it/s]\n",
      "100%|██████████| 9/9 [00:03<00:00,  2.42it/s]\n"
     ]
    },
    {
     "name": "stdout",
     "output_type": "stream",
     "text": [
      "Dennis Gilbert\n"
     ]
    },
    {
     "name": "stderr",
     "output_type": "stream",
     "text": [
      "100%|██████████| 9/9 [00:03<00:00,  2.34it/s]\n",
      "100%|██████████| 9/9 [00:04<00:00,  2.18it/s]\n"
     ]
    },
    {
     "name": "stdout",
     "output_type": "stream",
     "text": [
      "Derek Forbort\n"
     ]
    },
    {
     "name": "stderr",
     "output_type": "stream",
     "text": [
      "100%|██████████| 9/9 [00:04<00:00,  2.22it/s]\n",
      "100%|██████████| 9/9 [00:04<00:00,  2.07it/s]\n"
     ]
    },
    {
     "name": "stdout",
     "output_type": "stream",
     "text": [
      "Derek Grant\n"
     ]
    },
    {
     "name": "stderr",
     "output_type": "stream",
     "text": [
      "100%|██████████| 9/9 [00:03<00:00,  2.60it/s]\n",
      "100%|██████████| 9/9 [00:03<00:00,  2.57it/s]\n"
     ]
    },
    {
     "name": "stdout",
     "output_type": "stream",
     "text": [
      "Derek Ryan\n"
     ]
    },
    {
     "name": "stderr",
     "output_type": "stream",
     "text": [
      "100%|██████████| 9/9 [00:03<00:00,  2.53it/s]\n",
      "100%|██████████| 9/9 [00:03<00:00,  2.50it/s]\n"
     ]
    },
    {
     "name": "stdout",
     "output_type": "stream",
     "text": [
      "Derek Stepan\n"
     ]
    },
    {
     "name": "stderr",
     "output_type": "stream",
     "text": [
      "100%|██████████| 9/9 [00:04<00:00,  2.19it/s]\n",
      "100%|██████████| 9/9 [00:04<00:00,  2.17it/s]\n"
     ]
    },
    {
     "name": "stdout",
     "output_type": "stream",
     "text": [
      "Derick Brassard\n"
     ]
    },
    {
     "name": "stderr",
     "output_type": "stream",
     "text": [
      "100%|██████████| 9/9 [00:03<00:00,  2.43it/s]\n",
      "100%|██████████| 9/9 [00:03<00:00,  2.38it/s]\n"
     ]
    },
    {
     "name": "stdout",
     "output_type": "stream",
     "text": [
      "Derrick Pouliot\n"
     ]
    },
    {
     "name": "stderr",
     "output_type": "stream",
     "text": [
      "100%|██████████| 9/9 [00:03<00:00,  2.35it/s]\n",
      "100%|██████████| 9/9 [00:04<00:00,  2.15it/s]\n"
     ]
    },
    {
     "name": "stdout",
     "output_type": "stream",
     "text": [
      "Devin Shore\n"
     ]
    },
    {
     "name": "stderr",
     "output_type": "stream",
     "text": [
      "100%|██████████| 9/9 [00:03<00:00,  2.79it/s]\n",
      "100%|██████████| 9/9 [00:03<00:00,  2.40it/s]\n"
     ]
    },
    {
     "name": "stdout",
     "output_type": "stream",
     "text": [
      "Devon Toews\n"
     ]
    },
    {
     "name": "stderr",
     "output_type": "stream",
     "text": [
      "100%|██████████| 9/9 [00:04<00:00,  2.12it/s]\n",
      "100%|██████████| 9/9 [00:04<00:00,  1.92it/s]\n"
     ]
    },
    {
     "name": "stdout",
     "output_type": "stream",
     "text": [
      "Dillon Dube\n"
     ]
    },
    {
     "name": "stderr",
     "output_type": "stream",
     "text": [
      "100%|██████████| 9/9 [00:03<00:00,  2.84it/s]\n",
      "100%|██████████| 9/9 [00:03<00:00,  2.47it/s]\n"
     ]
    },
    {
     "name": "stdout",
     "output_type": "stream",
     "text": [
      "Dillon Heatherington\n"
     ]
    },
    {
     "name": "stderr",
     "output_type": "stream",
     "text": [
      "100%|██████████| 9/9 [00:04<00:00,  2.14it/s]\n",
      "100%|██████████| 9/9 [00:04<00:00,  2.05it/s]\n"
     ]
    },
    {
     "name": "stdout",
     "output_type": "stream",
     "text": [
      "Dmitry Kulikov\n"
     ]
    },
    {
     "name": "stderr",
     "output_type": "stream",
     "text": [
      "100%|██████████| 9/9 [00:04<00:00,  1.92it/s]\n",
      "100%|██████████| 9/9 [00:04<00:00,  2.18it/s]\n"
     ]
    },
    {
     "name": "stdout",
     "output_type": "stream",
     "text": [
      "Dmitry Orlov\n"
     ]
    },
    {
     "name": "stderr",
     "output_type": "stream",
     "text": [
      "100%|██████████| 9/9 [00:04<00:00,  2.15it/s]\n",
      "100%|██████████| 9/9 [00:03<00:00,  2.26it/s]\n"
     ]
    },
    {
     "name": "stdout",
     "output_type": "stream",
     "text": [
      "Dominic Toninato\n"
     ]
    },
    {
     "name": "stderr",
     "output_type": "stream",
     "text": [
      "100%|██████████| 9/9 [00:03<00:00,  2.40it/s]\n",
      "100%|██████████| 9/9 [00:04<00:00,  2.22it/s]\n"
     ]
    },
    {
     "name": "stdout",
     "output_type": "stream",
     "text": [
      "Dominik Kubalik\n"
     ]
    },
    {
     "name": "stderr",
     "output_type": "stream",
     "text": [
      "100%|██████████| 9/9 [00:04<00:00,  2.08it/s]\n",
      "100%|██████████| 9/9 [00:04<00:00,  1.95it/s]\n"
     ]
    },
    {
     "name": "stdout",
     "output_type": "stream",
     "text": [
      "Dougie Hamilton\n"
     ]
    },
    {
     "name": "stderr",
     "output_type": "stream",
     "text": [
      "100%|██████████| 9/9 [00:04<00:00,  2.22it/s]\n",
      "100%|██████████| 9/9 [00:03<00:00,  2.34it/s]\n"
     ]
    },
    {
     "name": "stdout",
     "output_type": "stream",
     "text": [
      "Drake Batherson\n"
     ]
    },
    {
     "name": "stderr",
     "output_type": "stream",
     "text": [
      "100%|██████████| 9/9 [00:03<00:00,  2.45it/s]\n",
      "100%|██████████| 9/9 [00:04<00:00,  2.22it/s]\n"
     ]
    },
    {
     "name": "stdout",
     "output_type": "stream",
     "text": [
      "Drake Caggiula\n"
     ]
    },
    {
     "name": "stderr",
     "output_type": "stream",
     "text": [
      "100%|██████████| 9/9 [00:03<00:00,  2.64it/s]\n",
      "100%|██████████| 9/9 [00:03<00:00,  2.32it/s]\n"
     ]
    },
    {
     "name": "stdout",
     "output_type": "stream",
     "text": [
      "Drew Doughty\n"
     ]
    },
    {
     "name": "stderr",
     "output_type": "stream",
     "text": [
      "100%|██████████| 9/9 [00:04<00:00,  2.14it/s]\n",
      "100%|██████████| 9/9 [00:04<00:00,  2.09it/s]\n"
     ]
    },
    {
     "name": "stdout",
     "output_type": "stream",
     "text": [
      "Drew O'Connor\n"
     ]
    },
    {
     "name": "stderr",
     "output_type": "stream",
     "text": [
      "100%|██████████| 9/9 [00:03<00:00,  2.36it/s]\n",
      "100%|██████████| 9/9 [00:04<00:00,  2.01it/s]\n"
     ]
    },
    {
     "name": "stdout",
     "output_type": "stream",
     "text": [
      "Dryden Hunt\n"
     ]
    },
    {
     "name": "stderr",
     "output_type": "stream",
     "text": [
      "100%|██████████| 9/9 [00:03<00:00,  2.36it/s]\n",
      "100%|██████████| 9/9 [00:03<00:00,  2.43it/s]\n"
     ]
    },
    {
     "name": "stdout",
     "output_type": "stream",
     "text": [
      "Dylan Coghlan\n"
     ]
    },
    {
     "name": "stderr",
     "output_type": "stream",
     "text": [
      "100%|██████████| 9/9 [00:03<00:00,  2.57it/s]\n",
      "100%|██████████| 9/9 [00:03<00:00,  2.83it/s]\n"
     ]
    },
    {
     "name": "stdout",
     "output_type": "stream",
     "text": [
      "Dylan Cozens\n"
     ]
    },
    {
     "name": "stderr",
     "output_type": "stream",
     "text": [
      "100%|██████████| 9/9 [00:03<00:00,  2.46it/s]\n",
      "100%|██████████| 9/9 [00:03<00:00,  2.32it/s]\n"
     ]
    },
    {
     "name": "stdout",
     "output_type": "stream",
     "text": [
      "Dylan DeMelo\n"
     ]
    },
    {
     "name": "stderr",
     "output_type": "stream",
     "text": [
      "100%|██████████| 9/9 [00:03<00:00,  2.57it/s]\n",
      "100%|██████████| 9/9 [00:03<00:00,  2.48it/s]\n"
     ]
    },
    {
     "name": "stdout",
     "output_type": "stream",
     "text": [
      "Dylan Gambrell\n"
     ]
    },
    {
     "name": "stderr",
     "output_type": "stream",
     "text": [
      "100%|██████████| 9/9 [00:03<00:00,  2.56it/s]\n",
      "100%|██████████| 9/9 [00:03<00:00,  2.51it/s]\n"
     ]
    },
    {
     "name": "stdout",
     "output_type": "stream",
     "text": [
      "Dylan Guenther\n"
     ]
    },
    {
     "name": "stderr",
     "output_type": "stream",
     "text": [
      "100%|██████████| 9/9 [00:03<00:00,  2.49it/s]\n",
      "100%|██████████| 9/9 [00:03<00:00,  2.29it/s]\n"
     ]
    },
    {
     "name": "stdout",
     "output_type": "stream",
     "text": [
      "Dylan Holloway\n"
     ]
    },
    {
     "name": "stderr",
     "output_type": "stream",
     "text": [
      "100%|██████████| 9/9 [00:03<00:00,  2.46it/s]\n",
      "100%|██████████| 9/9 [00:03<00:00,  2.45it/s]\n"
     ]
    },
    {
     "name": "stdout",
     "output_type": "stream",
     "text": [
      "Dylan Larkin\n"
     ]
    },
    {
     "name": "stderr",
     "output_type": "stream",
     "text": [
      "100%|██████████| 9/9 [00:03<00:00,  2.45it/s]\n",
      "100%|██████████| 9/9 [00:04<00:00,  2.23it/s]\n"
     ]
    },
    {
     "name": "stdout",
     "output_type": "stream",
     "text": [
      "Dylan McIlrath\n"
     ]
    },
    {
     "name": "stderr",
     "output_type": "stream",
     "text": [
      "100%|██████████| 9/9 [00:04<00:00,  2.11it/s]\n",
      "100%|██████████| 9/9 [00:04<00:00,  2.11it/s]\n"
     ]
    },
    {
     "name": "stdout",
     "output_type": "stream",
     "text": [
      "Dylan Samberg\n"
     ]
    },
    {
     "name": "stderr",
     "output_type": "stream",
     "text": [
      "100%|██████████| 9/9 [00:04<00:00,  1.97it/s]\n",
      "100%|██████████| 9/9 [00:04<00:00,  2.03it/s]\n"
     ]
    },
    {
     "name": "stdout",
     "output_type": "stream",
     "text": [
      "Dylan Strome\n"
     ]
    },
    {
     "name": "stderr",
     "output_type": "stream",
     "text": [
      "100%|██████████| 9/9 [00:03<00:00,  2.33it/s]\n",
      "100%|██████████| 9/9 [00:03<00:00,  2.55it/s]\n"
     ]
    },
    {
     "name": "stdout",
     "output_type": "stream",
     "text": [
      "Dysin Mayo\n"
     ]
    },
    {
     "name": "stderr",
     "output_type": "stream",
     "text": [
      "100%|██████████| 9/9 [00:04<00:00,  2.17it/s]\n",
      "100%|██████████| 9/9 [00:04<00:00,  2.14it/s]\n"
     ]
    },
    {
     "name": "stdout",
     "output_type": "stream",
     "text": [
      "Eeli Tolvanen\n"
     ]
    },
    {
     "name": "stderr",
     "output_type": "stream",
     "text": [
      "100%|██████████| 9/9 [00:04<00:00,  2.18it/s]\n",
      "100%|██████████| 9/9 [00:03<00:00,  2.55it/s]\n"
     ]
    },
    {
     "name": "stdout",
     "output_type": "stream",
     "text": [
      "Eetu Luostarinen\n"
     ]
    },
    {
     "name": "stderr",
     "output_type": "stream",
     "text": [
      "100%|██████████| 9/9 [00:04<00:00,  1.94it/s]\n",
      "100%|██████████| 9/9 [00:03<00:00,  2.33it/s]\n"
     ]
    },
    {
     "name": "stdout",
     "output_type": "stream",
     "text": [
      "Egor Afanasyev\n"
     ]
    },
    {
     "name": "stderr",
     "output_type": "stream",
     "text": [
      "100%|██████████| 9/9 [00:02<00:00,  3.93it/s]\n",
      "100%|██████████| 9/9 [00:16<00:00,  1.82s/it]\n"
     ]
    },
    {
     "name": "stdout",
     "output_type": "stream",
     "text": [
      "Egor Zamula\n"
     ]
    },
    {
     "name": "stderr",
     "output_type": "stream",
     "text": [
      "100%|██████████| 9/9 [00:03<00:00,  2.34it/s]\n",
      "100%|██████████| 9/9 [00:15<00:00,  1.74s/it]\n"
     ]
    },
    {
     "name": "stdout",
     "output_type": "stream",
     "text": [
      "Elias Lindholm\n"
     ]
    },
    {
     "name": "stderr",
     "output_type": "stream",
     "text": [
      "100%|██████████| 9/9 [00:03<00:00,  2.76it/s]\n",
      "100%|██████████| 9/9 [00:03<00:00,  2.79it/s]\n"
     ]
    },
    {
     "name": "stdout",
     "output_type": "stream",
     "text": [
      "Elias Pettersson\n"
     ]
    },
    {
     "name": "stderr",
     "output_type": "stream",
     "text": [
      "100%|██████████| 9/9 [00:04<00:00,  2.07it/s]\n",
      "100%|██████████| 9/9 [00:04<00:00,  1.88it/s]\n"
     ]
    },
    {
     "name": "stdout",
     "output_type": "stream",
     "text": [
      "Elliot Desnoyers\n"
     ]
    },
    {
     "name": "stderr",
     "output_type": "stream",
     "text": [
      "c:\\Users\\jetso\\AppData\\Local\\Programs\\Python\\Python311\\Lib\\site-packages\\moepy\\lowess.py:38: RuntimeWarning:\n",
      "\n",
      "divide by zero encountered in divide\n",
      "\n",
      "c:\\Users\\jetso\\AppData\\Local\\Programs\\Python\\Python311\\Lib\\site-packages\\moepy\\lowess.py:38: RuntimeWarning:\n",
      "\n",
      "invalid value encountered in divide\n",
      "\n",
      "100%|██████████| 9/9 [00:00<00:00, 16.73it/s]\n",
      "c:\\Users\\jetso\\AppData\\Local\\Programs\\Python\\Python311\\Lib\\site-packages\\moepy\\lowess.py:38: RuntimeWarning:\n",
      "\n",
      "divide by zero encountered in divide\n",
      "\n",
      "c:\\Users\\jetso\\AppData\\Local\\Programs\\Python\\Python311\\Lib\\site-packages\\moepy\\lowess.py:38: RuntimeWarning:\n",
      "\n",
      "invalid value encountered in divide\n",
      "\n",
      "100%|██████████| 9/9 [00:00<00:00, 18.31it/s]\n"
     ]
    },
    {
     "name": "stdout",
     "output_type": "stream",
     "text": [
      "Elmer Soderblom\n"
     ]
    },
    {
     "name": "stderr",
     "output_type": "stream",
     "text": [
      "100%|██████████| 9/9 [00:03<00:00,  2.35it/s]\n",
      "100%|██████████| 9/9 [00:04<00:00,  1.86it/s]\n"
     ]
    },
    {
     "name": "stdout",
     "output_type": "stream",
     "text": [
      "Emil Bemstrom\n"
     ]
    },
    {
     "name": "stderr",
     "output_type": "stream",
     "text": [
      "100%|██████████| 9/9 [00:03<00:00,  2.42it/s]\n",
      "100%|██████████| 9/9 [00:03<00:00,  2.47it/s]\n"
     ]
    },
    {
     "name": "stdout",
     "output_type": "stream",
     "text": [
      "Eric Robinson\n"
     ]
    },
    {
     "name": "stderr",
     "output_type": "stream",
     "text": [
      "100%|██████████| 9/9 [00:03<00:00,  2.47it/s]\n",
      "100%|██████████| 9/9 [00:03<00:00,  2.40it/s]\n"
     ]
    },
    {
     "name": "stdout",
     "output_type": "stream",
     "text": [
      "Eric Staal\n"
     ]
    },
    {
     "name": "stderr",
     "output_type": "stream",
     "text": [
      "100%|██████████| 9/9 [00:04<00:00,  1.88it/s]\n",
      "100%|██████████| 9/9 [00:04<00:00,  2.03it/s]\n"
     ]
    },
    {
     "name": "stdout",
     "output_type": "stream",
     "text": [
      "Erik Brannstrom\n"
     ]
    },
    {
     "name": "stderr",
     "output_type": "stream",
     "text": [
      "100%|██████████| 9/9 [00:03<00:00,  2.39it/s]\n",
      "100%|██████████| 9/9 [00:03<00:00,  2.34it/s]\n"
     ]
    },
    {
     "name": "stdout",
     "output_type": "stream",
     "text": [
      "Erik Cernak\n"
     ]
    },
    {
     "name": "stderr",
     "output_type": "stream",
     "text": [
      "100%|██████████| 9/9 [00:03<00:00,  2.62it/s]\n",
      "100%|██████████| 9/9 [00:04<00:00,  2.03it/s]\n"
     ]
    },
    {
     "name": "stdout",
     "output_type": "stream",
     "text": [
      "Erik Gudbranson\n"
     ]
    },
    {
     "name": "stderr",
     "output_type": "stream",
     "text": [
      "100%|██████████| 9/9 [00:04<00:00,  1.88it/s]\n",
      "100%|██████████| 9/9 [00:04<00:00,  1.88it/s]\n"
     ]
    },
    {
     "name": "stdout",
     "output_type": "stream",
     "text": [
      "Erik Gustafsson\n"
     ]
    },
    {
     "name": "stderr",
     "output_type": "stream",
     "text": [
      "100%|██████████| 9/9 [00:03<00:00,  2.47it/s]\n",
      "100%|██████████| 9/9 [00:03<00:00,  2.49it/s]\n"
     ]
    },
    {
     "name": "stdout",
     "output_type": "stream",
     "text": [
      "Erik Haula\n"
     ]
    },
    {
     "name": "stderr",
     "output_type": "stream",
     "text": [
      "100%|██████████| 9/9 [00:02<00:00,  3.08it/s]\n",
      "100%|██████████| 9/9 [00:03<00:00,  2.46it/s]\n"
     ]
    },
    {
     "name": "stdout",
     "output_type": "stream",
     "text": [
      "Erik Johnson\n"
     ]
    },
    {
     "name": "stderr",
     "output_type": "stream",
     "text": [
      "100%|██████████| 9/9 [00:04<00:00,  2.24it/s]\n",
      "100%|██████████| 9/9 [00:03<00:00,  2.44it/s]\n"
     ]
    },
    {
     "name": "stdout",
     "output_type": "stream",
     "text": [
      "Erik Karlsson\n"
     ]
    },
    {
     "name": "stderr",
     "output_type": "stream",
     "text": [
      "100%|██████████| 9/9 [00:03<00:00,  2.50it/s]\n",
      "100%|██████████| 9/9 [00:03<00:00,  2.37it/s]\n"
     ]
    },
    {
     "name": "stdout",
     "output_type": "stream",
     "text": [
      "Esa Lindell\n"
     ]
    },
    {
     "name": "stderr",
     "output_type": "stream",
     "text": [
      "100%|██████████| 9/9 [00:03<00:00,  2.35it/s]\n",
      "100%|██████████| 9/9 [00:03<00:00,  2.63it/s]\n"
     ]
    },
    {
     "name": "stdout",
     "output_type": "stream",
     "text": [
      "Ethan Bear\n"
     ]
    },
    {
     "name": "stderr",
     "output_type": "stream",
     "text": [
      "100%|██████████| 9/9 [00:03<00:00,  2.50it/s]\n",
      "100%|██████████| 9/9 [00:03<00:00,  2.44it/s]\n"
     ]
    },
    {
     "name": "stdout",
     "output_type": "stream",
     "text": [
      "Evan Bouchard\n"
     ]
    },
    {
     "name": "stderr",
     "output_type": "stream",
     "text": [
      "100%|██████████| 9/9 [00:04<00:00,  2.08it/s]\n",
      "100%|██████████| 9/9 [00:03<00:00,  2.33it/s]\n"
     ]
    },
    {
     "name": "stdout",
     "output_type": "stream",
     "text": [
      "Evan Rodrigues\n"
     ]
    },
    {
     "name": "stderr",
     "output_type": "stream",
     "text": [
      "100%|██████████| 9/9 [00:03<00:00,  2.63it/s]\n",
      "100%|██████████| 9/9 [00:03<00:00,  2.43it/s]\n"
     ]
    },
    {
     "name": "stdout",
     "output_type": "stream",
     "text": [
      "Evander Kane\n"
     ]
    },
    {
     "name": "stderr",
     "output_type": "stream",
     "text": [
      "100%|██████████| 9/9 [00:03<00:00,  2.70it/s]\n",
      "100%|██████████| 9/9 [00:03<00:00,  2.36it/s]\n"
     ]
    },
    {
     "name": "stdout",
     "output_type": "stream",
     "text": [
      "Evgeni Malkin\n"
     ]
    },
    {
     "name": "stderr",
     "output_type": "stream",
     "text": [
      "100%|██████████| 9/9 [00:04<00:00,  2.13it/s]\n",
      "100%|██████████| 9/9 [00:04<00:00,  1.96it/s]\n"
     ]
    },
    {
     "name": "stdout",
     "output_type": "stream",
     "text": [
      "Evgenii Dadonov\n"
     ]
    },
    {
     "name": "stderr",
     "output_type": "stream",
     "text": [
      "100%|██████████| 9/9 [00:04<00:00,  2.14it/s]\n",
      "100%|██████████| 9/9 [00:04<00:00,  2.00it/s]\n"
     ]
    },
    {
     "name": "stdout",
     "output_type": "stream",
     "text": [
      "Evgeny Kuznetsov\n"
     ]
    },
    {
     "name": "stderr",
     "output_type": "stream",
     "text": [
      "100%|██████████| 9/9 [00:03<00:00,  2.45it/s]\n",
      "100%|██████████| 9/9 [00:03<00:00,  2.28it/s]\n"
     ]
    },
    {
     "name": "stdout",
     "output_type": "stream",
     "text": [
      "Evgeny Svechnikov\n"
     ]
    },
    {
     "name": "stderr",
     "output_type": "stream",
     "text": [
      "100%|██████████| 9/9 [00:03<00:00,  2.70it/s]\n",
      "100%|██████████| 9/9 [00:03<00:00,  2.62it/s]\n"
     ]
    },
    {
     "name": "stdout",
     "output_type": "stream",
     "text": [
      "Fabian Zetterlund\n"
     ]
    },
    {
     "name": "stderr",
     "output_type": "stream",
     "text": [
      "100%|██████████| 9/9 [00:05<00:00,  1.80it/s]\n",
      "100%|██████████| 9/9 [00:04<00:00,  1.84it/s]\n"
     ]
    },
    {
     "name": "stdout",
     "output_type": "stream",
     "text": [
      "Filip Chytil\n"
     ]
    },
    {
     "name": "stderr",
     "output_type": "stream",
     "text": [
      "100%|██████████| 9/9 [00:03<00:00,  2.46it/s]\n",
      "100%|██████████| 9/9 [00:03<00:00,  2.57it/s]\n"
     ]
    },
    {
     "name": "stdout",
     "output_type": "stream",
     "text": [
      "Filip Forsberg\n"
     ]
    },
    {
     "name": "stderr",
     "output_type": "stream",
     "text": [
      "100%|██████████| 9/9 [00:04<00:00,  2.23it/s]\n",
      "100%|██████████| 9/9 [00:03<00:00,  2.27it/s]\n",
      "c:\\Users\\jetso\\AppData\\Local\\Programs\\Python\\Python311\\Lib\\site-packages\\moepy\\lowess.py:38: RuntimeWarning:\n",
      "\n",
      "divide by zero encountered in divide\n",
      "\n",
      "c:\\Users\\jetso\\AppData\\Local\\Programs\\Python\\Python311\\Lib\\site-packages\\moepy\\lowess.py:38: RuntimeWarning:\n",
      "\n",
      "invalid value encountered in divide\n",
      "\n"
     ]
    },
    {
     "name": "stdout",
     "output_type": "stream",
     "text": [
      "Filip Hallander\n"
     ]
    },
    {
     "name": "stderr",
     "output_type": "stream",
     "text": [
      "100%|██████████| 9/9 [00:00<00:00, 17.46it/s]\n",
      "c:\\Users\\jetso\\AppData\\Local\\Programs\\Python\\Python311\\Lib\\site-packages\\moepy\\lowess.py:38: RuntimeWarning:\n",
      "\n",
      "divide by zero encountered in divide\n",
      "\n",
      "c:\\Users\\jetso\\AppData\\Local\\Programs\\Python\\Python311\\Lib\\site-packages\\moepy\\lowess.py:38: RuntimeWarning:\n",
      "\n",
      "invalid value encountered in divide\n",
      "\n",
      "100%|██████████| 9/9 [00:00<00:00, 18.99it/s]\n"
     ]
    },
    {
     "name": "stdout",
     "output_type": "stream",
     "text": [
      "Filip Hronek\n"
     ]
    },
    {
     "name": "stderr",
     "output_type": "stream",
     "text": [
      "100%|██████████| 9/9 [00:02<00:00,  3.10it/s]\n",
      "100%|██████████| 9/9 [00:03<00:00,  2.51it/s]\n",
      "c:\\Users\\jetso\\AppData\\Local\\Programs\\Python\\Python311\\Lib\\site-packages\\moepy\\lowess.py:38: RuntimeWarning:\n",
      "\n",
      "divide by zero encountered in divide\n",
      "\n",
      "c:\\Users\\jetso\\AppData\\Local\\Programs\\Python\\Python311\\Lib\\site-packages\\moepy\\lowess.py:38: RuntimeWarning:\n",
      "\n",
      "invalid value encountered in divide\n",
      "\n"
     ]
    },
    {
     "name": "stdout",
     "output_type": "stream",
     "text": [
      "Filip Kral\n"
     ]
    },
    {
     "name": "stderr",
     "output_type": "stream",
     "text": [
      "100%|██████████| 9/9 [00:00<00:00, 18.75it/s]\n",
      "c:\\Users\\jetso\\AppData\\Local\\Programs\\Python\\Python311\\Lib\\site-packages\\moepy\\lowess.py:38: RuntimeWarning:\n",
      "\n",
      "divide by zero encountered in divide\n",
      "\n",
      "c:\\Users\\jetso\\AppData\\Local\\Programs\\Python\\Python311\\Lib\\site-packages\\moepy\\lowess.py:38: RuntimeWarning:\n",
      "\n",
      "invalid value encountered in divide\n",
      "\n",
      "100%|██████████| 9/9 [00:00<00:00, 18.28it/s]\n"
     ]
    },
    {
     "name": "stdout",
     "output_type": "stream",
     "text": [
      "Filip Roos\n"
     ]
    },
    {
     "name": "stderr",
     "output_type": "stream",
     "text": [
      "100%|██████████| 9/9 [00:04<00:00,  2.12it/s]\n",
      "100%|██████████| 9/9 [00:04<00:00,  2.16it/s]\n"
     ]
    },
    {
     "name": "stdout",
     "output_type": "stream",
     "text": [
      "Filip Zadina\n"
     ]
    },
    {
     "name": "stderr",
     "output_type": "stream",
     "text": [
      "100%|██████████| 9/9 [00:03<00:00,  2.63it/s]\n",
      "100%|██████████| 9/9 [00:03<00:00,  2.90it/s]\n"
     ]
    },
    {
     "name": "stdout",
     "output_type": "stream",
     "text": [
      "Frank Vatrano\n"
     ]
    },
    {
     "name": "stderr",
     "output_type": "stream",
     "text": [
      "100%|██████████| 9/9 [00:03<00:00,  2.33it/s]\n",
      "100%|██████████| 9/9 [00:04<00:00,  2.19it/s]\n",
      "c:\\Users\\jetso\\AppData\\Local\\Programs\\Python\\Python311\\Lib\\site-packages\\moepy\\lowess.py:38: RuntimeWarning:\n",
      "\n",
      "divide by zero encountered in divide\n",
      "\n",
      "c:\\Users\\jetso\\AppData\\Local\\Programs\\Python\\Python311\\Lib\\site-packages\\moepy\\lowess.py:38: RuntimeWarning:\n",
      "\n",
      "invalid value encountered in divide\n",
      "\n"
     ]
    },
    {
     "name": "stdout",
     "output_type": "stream",
     "text": [
      "Frederic Allard\n"
     ]
    },
    {
     "name": "stderr",
     "output_type": "stream",
     "text": [
      "100%|██████████| 9/9 [00:00<00:00, 18.64it/s]\n",
      "c:\\Users\\jetso\\AppData\\Local\\Programs\\Python\\Python311\\Lib\\site-packages\\moepy\\lowess.py:38: RuntimeWarning:\n",
      "\n",
      "divide by zero encountered in divide\n",
      "\n",
      "c:\\Users\\jetso\\AppData\\Local\\Programs\\Python\\Python311\\Lib\\site-packages\\moepy\\lowess.py:38: RuntimeWarning:\n",
      "\n",
      "invalid value encountered in divide\n",
      "\n",
      "100%|██████████| 9/9 [00:00<00:00, 18.56it/s]\n"
     ]
    },
    {
     "name": "stdout",
     "output_type": "stream",
     "text": [
      "Frederick Gaudreau\n"
     ]
    },
    {
     "name": "stderr",
     "output_type": "stream",
     "text": [
      "100%|██████████| 9/9 [00:03<00:00,  2.38it/s]\n",
      "100%|██████████| 9/9 [00:03<00:00,  2.33it/s]\n"
     ]
    },
    {
     "name": "stdout",
     "output_type": "stream",
     "text": [
      "Fredrik Karlstrom\n"
     ]
    },
    {
     "name": "stderr",
     "output_type": "stream",
     "text": [
      "100%|██████████| 9/9 [00:02<00:00,  3.18it/s]\n",
      "100%|██████████| 9/9 [00:02<00:00,  3.77it/s]\n"
     ]
    },
    {
     "name": "stdout",
     "output_type": "stream",
     "text": [
      "Fredrik Olofsson\n"
     ]
    },
    {
     "name": "stderr",
     "output_type": "stream",
     "text": [
      "100%|██████████| 9/9 [00:03<00:00,  2.32it/s]\n",
      "100%|██████████| 9/9 [00:04<00:00,  1.95it/s]\n"
     ]
    },
    {
     "name": "stdout",
     "output_type": "stream",
     "text": [
      "Gabriel Carlsson\n"
     ]
    },
    {
     "name": "stderr",
     "output_type": "stream",
     "text": [
      "100%|██████████| 9/9 [00:03<00:00,  2.72it/s]\n",
      "100%|██████████| 9/9 [00:03<00:00,  2.32it/s]\n"
     ]
    },
    {
     "name": "stdout",
     "output_type": "stream",
     "text": [
      "Gabriel Fortier\n"
     ]
    },
    {
     "name": "stderr",
     "output_type": "stream",
     "text": [
      "100%|██████████| 9/9 [00:03<00:00,  2.90it/s]\n",
      "100%|██████████| 9/9 [00:03<00:00,  2.63it/s]\n"
     ]
    },
    {
     "name": "stdout",
     "output_type": "stream",
     "text": [
      "Gabriel Vilardi\n"
     ]
    },
    {
     "name": "stderr",
     "output_type": "stream",
     "text": [
      "100%|██████████| 9/9 [00:03<00:00,  2.43it/s]\n",
      "100%|██████████| 9/9 [00:03<00:00,  2.36it/s]\n"
     ]
    },
    {
     "name": "stdout",
     "output_type": "stream",
     "text": [
      "Garnet Hathaway\n"
     ]
    },
    {
     "name": "stderr",
     "output_type": "stream",
     "text": [
      "100%|██████████| 9/9 [00:03<00:00,  2.72it/s]\n",
      "100%|██████████| 9/9 [00:03<00:00,  2.34it/s]\n"
     ]
    },
    {
     "name": "stdout",
     "output_type": "stream",
     "text": [
      "Gavin Bayreuther\n"
     ]
    },
    {
     "name": "stderr",
     "output_type": "stream",
     "text": [
      "100%|██████████| 9/9 [00:03<00:00,  2.37it/s]\n",
      "100%|██████████| 9/9 [00:04<00:00,  2.18it/s]\n"
     ]
    },
    {
     "name": "stdout",
     "output_type": "stream",
     "text": [
      "Givani Smith\n"
     ]
    },
    {
     "name": "stderr",
     "output_type": "stream",
     "text": [
      "100%|██████████| 9/9 [00:03<00:00,  2.51it/s]\n",
      "100%|██████████| 9/9 [00:03<00:00,  2.64it/s]\n"
     ]
    },
    {
     "name": "stdout",
     "output_type": "stream",
     "text": [
      "Glenn Gawdin\n"
     ]
    },
    {
     "name": "stderr",
     "output_type": "stream",
     "text": [
      "100%|██████████| 9/9 [00:02<00:00,  3.42it/s]\n",
      "100%|██████████| 9/9 [00:02<00:00,  3.23it/s]\n"
     ]
    },
    {
     "name": "stdout",
     "output_type": "stream",
     "text": [
      "Grigori Denisenko\n"
     ]
    },
    {
     "name": "stderr",
     "output_type": "stream",
     "text": [
      "100%|██████████| 9/9 [00:03<00:00,  2.26it/s]\n",
      "100%|██████████| 9/9 [00:04<00:00,  2.16it/s]\n"
     ]
    },
    {
     "name": "stdout",
     "output_type": "stream",
     "text": [
      "Guillaume Brisebois\n"
     ]
    },
    {
     "name": "stderr",
     "output_type": "stream",
     "text": [
      "100%|██████████| 9/9 [00:03<00:00,  2.39it/s]\n",
      "100%|██████████| 9/9 [00:03<00:00,  2.36it/s]\n"
     ]
    },
    {
     "name": "stdout",
     "output_type": "stream",
     "text": [
      "Gustav Forsling\n"
     ]
    },
    {
     "name": "stderr",
     "output_type": "stream",
     "text": [
      "100%|██████████| 9/9 [00:03<00:00,  2.27it/s]\n",
      "100%|██████████| 9/9 [00:03<00:00,  2.36it/s]\n"
     ]
    }
   ],
   "source": [
    "players = list(merged[merged.Season == 20222023].Player.unique())\n",
    "players.sort()\n",
    "recents = []\n",
    "errors = []\n",
    "for player in players[:300]:\n",
    "    print(player)\n",
    "    try:\n",
    "        df = pd.read_csv('projections/20222023/'+(player.replace(' ', '_'))+'.csv')\n",
    "    except:\n",
    "        df, df_quantiles = get_projections(player, 'Career Game')\n",
    "        df.to_csv('projections/20222023/'+(player.replace(' ', '_'))+'.csv')\n",
    "        recents.append(df[df.index == len(df)-1])"
   ]
  },
  {
   "cell_type": "code",
   "execution_count": 170,
   "metadata": {},
   "outputs": [
    {
     "name": "stderr",
     "output_type": "stream",
     "text": [
      "C:\\Users\\jetso\\AppData\\Local\\Temp\\ipykernel_368\\1045383819.py:1: FutureWarning:\n",
      "\n",
      "The default value of numeric_only in DataFrameGroupBy.var is deprecated. In a future version, numeric_only will default to False. Either specify numeric_only or select only columns which should be valid for the function.\n",
      "\n"
     ]
    },
    {
     "data": {
      "text/plain": [
       "1.1545636000572794"
      ]
     },
     "execution_count": 170,
     "metadata": {},
     "output_type": "execute_result"
    }
   ],
   "source": [
    "skaters.groupby(['Player']).var().Score.mean()"
   ]
  },
  {
   "cell_type": "code",
   "execution_count": 48,
   "metadata": {},
   "outputs": [
    {
     "name": "stderr",
     "output_type": "stream",
     "text": [
      "100%|██████████| 9/9 [00:01<00:00,  8.81it/s]\n",
      "100%|██████████| 9/9 [00:00<00:00,  9.82it/s]\n"
     ]
    },
    {
     "data": {
      "application/vnd.plotly.v1+json": {
       "config": {
        "plotlyServerURL": "https://plot.ly"
       },
       "data": [
        {
         "marker": {
          "color": "rgba(204, 25, 25, 1)"
         },
         "mode": "markers",
         "opacity": 0.15,
         "type": "scatter",
         "x": [
          1,
          2,
          3,
          4,
          5,
          6,
          7,
          8,
          9,
          10,
          11,
          12,
          13,
          14,
          15,
          16,
          17,
          18,
          19,
          20,
          21,
          22,
          23,
          24,
          25,
          26,
          27,
          28,
          29,
          30,
          31,
          32,
          33,
          34,
          35,
          36,
          37,
          38,
          39,
          40,
          41,
          42,
          43,
          44,
          45,
          46,
          47,
          48,
          49,
          50,
          51,
          52,
          53,
          54,
          55,
          56,
          57,
          58,
          59,
          60,
          61,
          62,
          63,
          64,
          65,
          66,
          67,
          68,
          69,
          70,
          71,
          72,
          73,
          74,
          75,
          76,
          77,
          78,
          79,
          80,
          81,
          82,
          83,
          84,
          85,
          86,
          87,
          88,
          89,
          90,
          91,
          92,
          93,
          94,
          95,
          96,
          97,
          98,
          99,
          100,
          101,
          102,
          103,
          104,
          105,
          106,
          107,
          108,
          109,
          110,
          111,
          112,
          113,
          114,
          115,
          116,
          117,
          118,
          119,
          120,
          121,
          122,
          123,
          124,
          125,
          126,
          127,
          128,
          129,
          130,
          131,
          132,
          133,
          134,
          135,
          136,
          137,
          138,
          139,
          140,
          141,
          142,
          143,
          144,
          145,
          146,
          147,
          148,
          149
         ],
         "y": [
          0.22198804062353153,
          0.18018932230738502,
          0.19498458106224895,
          0.12131403690523267,
          0.13735984650882327,
          0.13102976512540718,
          0.25323509341852046,
          0.17081702236766577,
          0.21256806564636463,
          0.3998651349259623,
          0.3830261575245776,
          0.40004117464016803,
          0.37759339952579274,
          0.34115489884129285,
          0.3527571859735375,
          0.37239336239280457,
          0.247038225236963,
          0.2654132074759097,
          0.27928707742383513,
          0.24336191561900097,
          0.18586693185854875,
          0.22218268901507238,
          0.13780266403370653,
          0.015270450984582906,
          0.05742189730822539,
          0.04214286276313335,
          0.056561942378796075,
          0.008098142439133128,
          0.02766452484808422,
          0.09165777952594294,
          0.09823471799024476,
          0.16206640519340687,
          0.17350226466169494,
          0.2992258568829287,
          0.3129201600701442,
          0.30514295503400524,
          0.26638628219063976,
          0.3250638690506702,
          0.3816947783575208,
          0.4364725497163235,
          0.4748693362138591,
          0.4202832427117971,
          0.3610278300801862,
          0.36265118809735014,
          0.4028293906650199,
          0.4455407210909845,
          0.48148883259034253,
          0.49444366651865923,
          0.510277444467583,
          0.533631882290194,
          0.5243169545737479,
          0.5563840850411887,
          0.5787910881002247,
          0.5613245346898894,
          0.5218402832536497,
          0.5817931136549478,
          0.712491168597418,
          0.7138516837688778,
          0.7421808989112856,
          0.7236312362995441,
          0.7188118849678052,
          0.6755224549844137,
          0.6985682402293564,
          0.680037113318026,
          0.6967968925664679,
          0.6540987416264332,
          0.629327604133966,
          0.5603488997102026,
          0.5403723595666826,
          0.584079604200619,
          0.618262845038403,
          0.5987754529691839,
          0.6396811108299846,
          0.5503730618915075,
          0.5916005850530345,
          0.629215088686515,
          0.6211545115065852,
          0.5301613730569431,
          0.5927031174455861,
          0.6162247308034989,
          0.6085650638884372,
          0.6345897816512625,
          0.6385483258377177,
          0.5852134540832974,
          0.5581259457515305,
          0.6594758924147376,
          0.636813840886171,
          0.593608611041086,
          0.6153148266999414,
          0.5961837855166706,
          0.624763101371969,
          0.6184849684361776,
          0.6109345620982659,
          0.5615207602471032,
          0.5214052529849544,
          0.49251958467492973,
          0.47880061399002916,
          0.5142500331776021,
          0.5395518281199724,
          0.5484125981892105,
          0.5320367279657672,
          0.5678878662788699,
          0.5632129549612057,
          0.5753715068463062,
          0.4976253899856762,
          0.42907289063133813,
          0.48503084346889846,
          0.5313164792257626,
          0.5453732219382847,
          0.5831185942709716,
          0.6251070756628957,
          0.660050441415791,
          0.6555933140727791,
          0.6430640765997497,
          0.6651738003660356,
          0.7434667556505421,
          0.8008361570440469,
          0.8893665465481847,
          0.9091462431177482,
          0.8462790208435612,
          0.8747706115221855,
          0.8888665490762795,
          0.8684662334276569,
          0.8709123609338192,
          0.7705879881232945,
          0.7857623751707079,
          0.837612678479964,
          0.850665625395857,
          0.8479405765326703,
          0.8073634190807398,
          0.8204966116433627,
          0.806443113139578,
          0.7452491715065778,
          0.761097557664296,
          0.6838802805818321,
          0.7372301010432695,
          0.719707997329029,
          0.8087190451294588,
          0.8267989403571142,
          0.8434794093472344,
          0.9054368062309816,
          0.8997963824962352,
          0.8908268815495777,
          0.9505144271326296,
          0.8593901620260617,
          0.756876469511865,
          0.6950670194487236,
          0.5565761184279493,
          0.5875153733113928
         ]
        },
        {
         "marker": {
          "color": "rgba(25, 114, 204, 1)"
         },
         "mode": "markers",
         "opacity": 0.15,
         "type": "scatter",
         "x": [
          1,
          2,
          3,
          4,
          5,
          6,
          7,
          8,
          9,
          10,
          11,
          12,
          13,
          14,
          15,
          16,
          17,
          18,
          19,
          20,
          21,
          22,
          23,
          24,
          25,
          26,
          27,
          28,
          29,
          30,
          31,
          32,
          33,
          34,
          35,
          36,
          37,
          38,
          39,
          40,
          41,
          42,
          43,
          44,
          45,
          46,
          47,
          48,
          49,
          50,
          51,
          52,
          53,
          54,
          55,
          56,
          57,
          58,
          59,
          60,
          61,
          62,
          63,
          64,
          65,
          66,
          67,
          68,
          69,
          70,
          71,
          72,
          73,
          74,
          75,
          76,
          77,
          78,
          79,
          80,
          81,
          82,
          83,
          84,
          85,
          86,
          87,
          88,
          89,
          90,
          91,
          92,
          93,
          94,
          95,
          96,
          97,
          98,
          99,
          100,
          101,
          102,
          103,
          104,
          105,
          106,
          107,
          108,
          109,
          110,
          111,
          112,
          113,
          114,
          115,
          116,
          117,
          118,
          119,
          120,
          121,
          122,
          123,
          124,
          125,
          126,
          127,
          128,
          129,
          130,
          131,
          132,
          133,
          134,
          135,
          136,
          137,
          138,
          139,
          140,
          141,
          142,
          143,
          144,
          145,
          146,
          147,
          148,
          149
         ],
         "y": [
          0,
          0.22291411202155603,
          0.1811399602903163,
          0.19569406675113685,
          0.12331490706355393,
          0.13883836320111528,
          0.13261280920038454,
          0.27072784048098464,
          0.17807999314079315,
          0.22311382805591481,
          0.42554030975580487,
          0.4061297233616223,
          0.4227087677866624,
          0.39838930069699335,
          0.3604195667442812,
          0.37107374599184045,
          0.3894689840143527,
          0.2677214683181809,
          0.2843078471952506,
          0.2965146194014821,
          0.26284478138394435,
          0.21012094494678404,
          0.2415694938994464,
          0.16692203684976167,
          0.05997094325537092,
          0.09437565178133672,
          0.08037262109861176,
          0.0911384076839299,
          0.05022741491950171,
          0.07702575397224014,
          0.17776272488387415,
          0.1831004882954914,
          0.273409729537434,
          0.28409579503986393,
          0.45180323978860343,
          0.4628582694486775,
          0.4461715109130401,
          0.3919472571154421,
          0.4790560638697041,
          0.5576566602504546,
          0.6292503459458904,
          0.6741774726190317,
          0.5906550161538849,
          0.5054850053440885,
          0.5014248969652164,
          0.544925141684033,
          0.5900067587634149,
          0.6259129333189312,
          0.6350698972223253,
          0.6472372740199709,
          0.6671366386568222,
          0.6531035152838004,
          0.6809462364581402,
          0.6988825254238911,
          0.6785323873225318,
          0.6383060120634763,
          0.6892048516771156,
          0.8020164252978624,
          0.80069823932592,
          0.8223482906075957,
          0.8047929379628649,
          0.7987440284955855,
          0.7622001106178286,
          0.7787930908149859,
          0.7618269839652767,
          0.7730011920470801,
          0.7380158464951251,
          0.7170775923392742,
          0.6631640383326718,
          0.6460010797128501,
          0.6753615748768079,
          0.6977541894604501,
          0.6822860599193733,
          0.7086617501664196,
          0.6462046665464396,
          0.6718878357070447,
          0.6950815324415329,
          0.6884852276033602,
          0.6287719833275186,
          0.6662829687641706,
          0.6794826567260132,
          0.6735631265356655,
          0.6880449731200078,
          0.6893985705924391,
          0.6571728155614649,
          0.6399090577136654,
          0.6971775361641224,
          0.6835436270630886,
          0.6583537641534473,
          0.6743992514355779,
          0.6576710311198738,
          0.6784706027278133,
          0.6723773201357477,
          0.665432674798397,
          0.627762882282039,
          0.5972572779277584,
          0.5750266320902,
          0.5636398441144572,
          0.5860824157622564,
          0.6016152426865727,
          0.6062036932749701,
          0.5943521240894308,
          0.6160771844405688,
          0.6121673986463017,
          0.618762130812945,
          0.5703121082448657,
          0.527584643725974,
          0.5590024707929037,
          0.5847498522178897,
          0.5918967592285821,
          0.612549539207426,
          0.6355570588443804,
          0.654688787789112,
          0.6523498170842037,
          0.6456485500753943,
          0.6573960023436095,
          0.6987460066324632,
          0.7293027556044651,
          0.7760049864929924,
          0.7878644559192802,
          0.7582034815777533,
          0.7737425287477967,
          0.7824196393571027,
          0.7739440595318682,
          0.776599764164744,
          0.7294314781501277,
          0.7373327592216979,
          0.7626125690162678,
          0.7698296438122894,
          0.7697405130694562,
          0.7521590551261191,
          0.7589411602385542,
          0.7534663792086228,
          0.726858210678639,
          0.7341251788814035,
          0.700608300155337,
          0.7238679917896512,
          0.7164256345877402,
          0.7549706594380993,
          0.7634530200970714,
          0.7714776023833133,
          0.7990264905962846,
          0.7980468201258609,
          0.7956089860621096,
          0.8217928282661213,
          0.7856735200681891,
          0.7445712755611946,
          0.7196016728251345,
          0.6634914425506144
         ]
        },
        {
         "marker": {
          "color": "rgba(25, 204, 114, 1)"
         },
         "mode": "markers",
         "opacity": 0.15,
         "type": "scatter",
         "x": [
          1,
          2,
          3,
          4,
          5,
          6,
          7,
          8,
          9,
          10,
          11,
          12,
          13,
          14,
          15,
          16,
          17,
          18,
          19,
          20,
          21,
          22,
          23,
          24,
          25,
          26,
          27,
          28,
          29,
          30,
          31,
          32,
          33,
          34,
          35,
          36,
          37,
          38,
          39,
          40,
          41,
          42,
          43,
          44,
          45,
          46,
          47,
          48,
          49,
          50,
          51,
          52,
          53,
          54,
          55,
          56,
          57,
          58,
          59,
          60,
          61,
          62,
          63,
          64,
          65,
          66,
          67,
          68,
          69,
          70,
          71,
          72,
          73,
          74,
          75,
          76,
          77,
          78,
          79,
          80,
          81,
          82,
          83,
          84,
          85,
          86,
          87,
          88,
          89,
          90,
          91,
          92,
          93,
          94,
          95,
          96,
          97,
          98,
          99,
          100,
          101,
          102,
          103,
          104,
          105,
          106,
          107,
          108,
          109,
          110,
          111,
          112,
          113,
          114,
          115,
          116,
          117,
          118,
          119,
          120,
          121,
          122,
          123,
          124,
          125,
          126,
          127,
          128,
          129,
          130,
          131,
          132,
          133,
          134,
          135,
          136,
          137,
          138,
          139,
          140,
          141,
          142,
          143,
          144,
          145,
          146,
          147,
          148,
          149
         ],
         "y": [
          0.22198804062353153,
          0.18018932230738502,
          0.19498458106224895,
          0.12131403690523267,
          0.13735984650882327,
          0.13102976512540718,
          0.25323509341852046,
          0.17081702236766577,
          0.21256806564636463,
          0.3998651349259623,
          0.3830261575245776,
          0.40004117464016803,
          0.37759339952579274,
          0.34115489884129285,
          0.3527571859735375,
          0.37239336239280457,
          0.247038225236963,
          0.2654132074759097,
          0.27928707742383513,
          0.24336191561900097,
          0.18586693185854875,
          0.22218268901507238,
          0.13780266403370653,
          0.015270450984582906,
          0.05742189730822539,
          0.04214286276313335,
          0.056561942378796075,
          0.008098142439133128,
          0.02766452484808422,
          0.09165777952594294,
          0.09823471799024476,
          0.16206640519340687,
          0.17350226466169494,
          0.2992258568829287,
          0.3129201600701442,
          0.30514295503400524,
          0.26638628219063976,
          0.3250638690506702,
          0.3816947783575208,
          0.4364725497163235,
          0.4748693362138591,
          0.4202832427117971,
          0.3610278300801862,
          0.36265118809735014,
          0.4028293906650199,
          0.4455407210909845,
          0.48148883259034253,
          0.49444366651865923,
          0.510277444467583,
          0.533631882290194,
          0.5243169545737479,
          0.5563840850411887,
          0.5787910881002247,
          0.5613245346898894,
          0.5218402832536497,
          0.5817931136549478,
          0.712491168597418,
          0.7138516837688778,
          0.7421808989112856,
          0.7236312362995441,
          0.7188118849678052,
          0.6755224549844137,
          0.6985682402293564,
          0.680037113318026,
          0.6967968925664679,
          0.6540987416264332,
          0.629327604133966,
          0.5603488997102026,
          0.5403723595666826,
          0.584079604200619,
          0.618262845038403,
          0.5987754529691839,
          0.6396811108299846,
          0.5503730618915075,
          0.5916005850530345,
          0.629215088686515,
          0.6211545115065852,
          0.5301613730569431,
          0.5927031174455861,
          0.6162247308034989,
          0.6085650638884372,
          0.6345897816512625,
          0.6784558892250061,
          0.6826032400131226,
          0.6812505125999451,
          0.6712151169776917,
          0.6583796739578247,
          0.6840899586677551,
          0.6753845810890198,
          0.6761835217475891,
          0.6694185733795166,
          0.663214385509491,
          0.6701924204826355,
          0.668901264667511,
          0.6677491068840027,
          0.6527103781700134,
          0.6114455461502075,
          0.5927139520645142,
          0.5691860914230347,
          0.5792459845542908,
          0.6006094217300415,
          0.6081146001815796,
          0.6072744727134705,
          0.6199037432670593,
          0.614811897277832,
          0.6167516708374023,
          0.5768231749534607,
          0.5289618968963623,
          0.5663458108901978,
          0.5785821080207825,
          0.605239748954773,
          0.612045168876648,
          0.6244655847549438,
          0.6544297933578491,
          0.6424635052680969,
          0.6353158950805664,
          0.656883180141449,
          0.6875109076499939,
          0.7152463793754578,
          0.7675804495811462,
          0.7592204213142395,
          0.756905198097229,
          0.7828787565231323,
          0.77797532081604,
          0.7720906734466553,
          0.7660968899726868,
          0.7228286862373352,
          0.7446893453598022,
          0.76005619764328,
          0.7616531252861023,
          0.7580249309539795,
          0.7497667670249939,
          0.7554511427879333,
          0.7552205324172974,
          0.7295610308647156,
          0.7313097715377808,
          0.7135747671127319,
          0.7222539782524109,
          0.7244512438774109,
          0.7558366060256958,
          0.7588094472885132,
          0.784920871257782,
          0.7911183834075928,
          0.7960957884788513,
          0.7993208169937134,
          0.8112657070159912,
          0.7719759941101074,
          0.7418092489242554,
          0.713884711265564
         ]
        }
       ],
       "layout": {
        "autosize": false,
        "height": 500,
        "template": {
         "data": {
          "bar": [
           {
            "error_x": {
             "color": "#2a3f5f"
            },
            "error_y": {
             "color": "#2a3f5f"
            },
            "marker": {
             "line": {
              "color": "#E5ECF6",
              "width": 0.5
             },
             "pattern": {
              "fillmode": "overlay",
              "size": 10,
              "solidity": 0.2
             }
            },
            "type": "bar"
           }
          ],
          "barpolar": [
           {
            "marker": {
             "line": {
              "color": "#E5ECF6",
              "width": 0.5
             },
             "pattern": {
              "fillmode": "overlay",
              "size": 10,
              "solidity": 0.2
             }
            },
            "type": "barpolar"
           }
          ],
          "carpet": [
           {
            "aaxis": {
             "endlinecolor": "#2a3f5f",
             "gridcolor": "white",
             "linecolor": "white",
             "minorgridcolor": "white",
             "startlinecolor": "#2a3f5f"
            },
            "baxis": {
             "endlinecolor": "#2a3f5f",
             "gridcolor": "white",
             "linecolor": "white",
             "minorgridcolor": "white",
             "startlinecolor": "#2a3f5f"
            },
            "type": "carpet"
           }
          ],
          "choropleth": [
           {
            "colorbar": {
             "outlinewidth": 0,
             "ticks": ""
            },
            "type": "choropleth"
           }
          ],
          "contour": [
           {
            "colorbar": {
             "outlinewidth": 0,
             "ticks": ""
            },
            "colorscale": [
             [
              0,
              "#0d0887"
             ],
             [
              0.1111111111111111,
              "#46039f"
             ],
             [
              0.2222222222222222,
              "#7201a8"
             ],
             [
              0.3333333333333333,
              "#9c179e"
             ],
             [
              0.4444444444444444,
              "#bd3786"
             ],
             [
              0.5555555555555556,
              "#d8576b"
             ],
             [
              0.6666666666666666,
              "#ed7953"
             ],
             [
              0.7777777777777778,
              "#fb9f3a"
             ],
             [
              0.8888888888888888,
              "#fdca26"
             ],
             [
              1,
              "#f0f921"
             ]
            ],
            "type": "contour"
           }
          ],
          "contourcarpet": [
           {
            "colorbar": {
             "outlinewidth": 0,
             "ticks": ""
            },
            "type": "contourcarpet"
           }
          ],
          "heatmap": [
           {
            "colorbar": {
             "outlinewidth": 0,
             "ticks": ""
            },
            "colorscale": [
             [
              0,
              "#0d0887"
             ],
             [
              0.1111111111111111,
              "#46039f"
             ],
             [
              0.2222222222222222,
              "#7201a8"
             ],
             [
              0.3333333333333333,
              "#9c179e"
             ],
             [
              0.4444444444444444,
              "#bd3786"
             ],
             [
              0.5555555555555556,
              "#d8576b"
             ],
             [
              0.6666666666666666,
              "#ed7953"
             ],
             [
              0.7777777777777778,
              "#fb9f3a"
             ],
             [
              0.8888888888888888,
              "#fdca26"
             ],
             [
              1,
              "#f0f921"
             ]
            ],
            "type": "heatmap"
           }
          ],
          "heatmapgl": [
           {
            "colorbar": {
             "outlinewidth": 0,
             "ticks": ""
            },
            "colorscale": [
             [
              0,
              "#0d0887"
             ],
             [
              0.1111111111111111,
              "#46039f"
             ],
             [
              0.2222222222222222,
              "#7201a8"
             ],
             [
              0.3333333333333333,
              "#9c179e"
             ],
             [
              0.4444444444444444,
              "#bd3786"
             ],
             [
              0.5555555555555556,
              "#d8576b"
             ],
             [
              0.6666666666666666,
              "#ed7953"
             ],
             [
              0.7777777777777778,
              "#fb9f3a"
             ],
             [
              0.8888888888888888,
              "#fdca26"
             ],
             [
              1,
              "#f0f921"
             ]
            ],
            "type": "heatmapgl"
           }
          ],
          "histogram": [
           {
            "marker": {
             "pattern": {
              "fillmode": "overlay",
              "size": 10,
              "solidity": 0.2
             }
            },
            "type": "histogram"
           }
          ],
          "histogram2d": [
           {
            "colorbar": {
             "outlinewidth": 0,
             "ticks": ""
            },
            "colorscale": [
             [
              0,
              "#0d0887"
             ],
             [
              0.1111111111111111,
              "#46039f"
             ],
             [
              0.2222222222222222,
              "#7201a8"
             ],
             [
              0.3333333333333333,
              "#9c179e"
             ],
             [
              0.4444444444444444,
              "#bd3786"
             ],
             [
              0.5555555555555556,
              "#d8576b"
             ],
             [
              0.6666666666666666,
              "#ed7953"
             ],
             [
              0.7777777777777778,
              "#fb9f3a"
             ],
             [
              0.8888888888888888,
              "#fdca26"
             ],
             [
              1,
              "#f0f921"
             ]
            ],
            "type": "histogram2d"
           }
          ],
          "histogram2dcontour": [
           {
            "colorbar": {
             "outlinewidth": 0,
             "ticks": ""
            },
            "colorscale": [
             [
              0,
              "#0d0887"
             ],
             [
              0.1111111111111111,
              "#46039f"
             ],
             [
              0.2222222222222222,
              "#7201a8"
             ],
             [
              0.3333333333333333,
              "#9c179e"
             ],
             [
              0.4444444444444444,
              "#bd3786"
             ],
             [
              0.5555555555555556,
              "#d8576b"
             ],
             [
              0.6666666666666666,
              "#ed7953"
             ],
             [
              0.7777777777777778,
              "#fb9f3a"
             ],
             [
              0.8888888888888888,
              "#fdca26"
             ],
             [
              1,
              "#f0f921"
             ]
            ],
            "type": "histogram2dcontour"
           }
          ],
          "mesh3d": [
           {
            "colorbar": {
             "outlinewidth": 0,
             "ticks": ""
            },
            "type": "mesh3d"
           }
          ],
          "parcoords": [
           {
            "line": {
             "colorbar": {
              "outlinewidth": 0,
              "ticks": ""
             }
            },
            "type": "parcoords"
           }
          ],
          "pie": [
           {
            "automargin": true,
            "type": "pie"
           }
          ],
          "scatter": [
           {
            "fillpattern": {
             "fillmode": "overlay",
             "size": 10,
             "solidity": 0.2
            },
            "type": "scatter"
           }
          ],
          "scatter3d": [
           {
            "line": {
             "colorbar": {
              "outlinewidth": 0,
              "ticks": ""
             }
            },
            "marker": {
             "colorbar": {
              "outlinewidth": 0,
              "ticks": ""
             }
            },
            "type": "scatter3d"
           }
          ],
          "scattercarpet": [
           {
            "marker": {
             "colorbar": {
              "outlinewidth": 0,
              "ticks": ""
             }
            },
            "type": "scattercarpet"
           }
          ],
          "scattergeo": [
           {
            "marker": {
             "colorbar": {
              "outlinewidth": 0,
              "ticks": ""
             }
            },
            "type": "scattergeo"
           }
          ],
          "scattergl": [
           {
            "marker": {
             "colorbar": {
              "outlinewidth": 0,
              "ticks": ""
             }
            },
            "type": "scattergl"
           }
          ],
          "scattermapbox": [
           {
            "marker": {
             "colorbar": {
              "outlinewidth": 0,
              "ticks": ""
             }
            },
            "type": "scattermapbox"
           }
          ],
          "scatterpolar": [
           {
            "marker": {
             "colorbar": {
              "outlinewidth": 0,
              "ticks": ""
             }
            },
            "type": "scatterpolar"
           }
          ],
          "scatterpolargl": [
           {
            "marker": {
             "colorbar": {
              "outlinewidth": 0,
              "ticks": ""
             }
            },
            "type": "scatterpolargl"
           }
          ],
          "scatterternary": [
           {
            "marker": {
             "colorbar": {
              "outlinewidth": 0,
              "ticks": ""
             }
            },
            "type": "scatterternary"
           }
          ],
          "surface": [
           {
            "colorbar": {
             "outlinewidth": 0,
             "ticks": ""
            },
            "colorscale": [
             [
              0,
              "#0d0887"
             ],
             [
              0.1111111111111111,
              "#46039f"
             ],
             [
              0.2222222222222222,
              "#7201a8"
             ],
             [
              0.3333333333333333,
              "#9c179e"
             ],
             [
              0.4444444444444444,
              "#bd3786"
             ],
             [
              0.5555555555555556,
              "#d8576b"
             ],
             [
              0.6666666666666666,
              "#ed7953"
             ],
             [
              0.7777777777777778,
              "#fb9f3a"
             ],
             [
              0.8888888888888888,
              "#fdca26"
             ],
             [
              1,
              "#f0f921"
             ]
            ],
            "type": "surface"
           }
          ],
          "table": [
           {
            "cells": {
             "fill": {
              "color": "#EBF0F8"
             },
             "line": {
              "color": "white"
             }
            },
            "header": {
             "fill": {
              "color": "#C8D4E3"
             },
             "line": {
              "color": "white"
             }
            },
            "type": "table"
           }
          ]
         },
         "layout": {
          "annotationdefaults": {
           "arrowcolor": "#2a3f5f",
           "arrowhead": 0,
           "arrowwidth": 1
          },
          "autotypenumbers": "strict",
          "coloraxis": {
           "colorbar": {
            "outlinewidth": 0,
            "ticks": ""
           }
          },
          "colorscale": {
           "diverging": [
            [
             0,
             "#8e0152"
            ],
            [
             0.1,
             "#c51b7d"
            ],
            [
             0.2,
             "#de77ae"
            ],
            [
             0.3,
             "#f1b6da"
            ],
            [
             0.4,
             "#fde0ef"
            ],
            [
             0.5,
             "#f7f7f7"
            ],
            [
             0.6,
             "#e6f5d0"
            ],
            [
             0.7,
             "#b8e186"
            ],
            [
             0.8,
             "#7fbc41"
            ],
            [
             0.9,
             "#4d9221"
            ],
            [
             1,
             "#276419"
            ]
           ],
           "sequential": [
            [
             0,
             "#0d0887"
            ],
            [
             0.1111111111111111,
             "#46039f"
            ],
            [
             0.2222222222222222,
             "#7201a8"
            ],
            [
             0.3333333333333333,
             "#9c179e"
            ],
            [
             0.4444444444444444,
             "#bd3786"
            ],
            [
             0.5555555555555556,
             "#d8576b"
            ],
            [
             0.6666666666666666,
             "#ed7953"
            ],
            [
             0.7777777777777778,
             "#fb9f3a"
            ],
            [
             0.8888888888888888,
             "#fdca26"
            ],
            [
             1,
             "#f0f921"
            ]
           ],
           "sequentialminus": [
            [
             0,
             "#0d0887"
            ],
            [
             0.1111111111111111,
             "#46039f"
            ],
            [
             0.2222222222222222,
             "#7201a8"
            ],
            [
             0.3333333333333333,
             "#9c179e"
            ],
            [
             0.4444444444444444,
             "#bd3786"
            ],
            [
             0.5555555555555556,
             "#d8576b"
            ],
            [
             0.6666666666666666,
             "#ed7953"
            ],
            [
             0.7777777777777778,
             "#fb9f3a"
            ],
            [
             0.8888888888888888,
             "#fdca26"
            ],
            [
             1,
             "#f0f921"
            ]
           ]
          },
          "colorway": [
           "#636efa",
           "#EF553B",
           "#00cc96",
           "#ab63fa",
           "#FFA15A",
           "#19d3f3",
           "#FF6692",
           "#B6E880",
           "#FF97FF",
           "#FECB52"
          ],
          "font": {
           "color": "#2a3f5f"
          },
          "geo": {
           "bgcolor": "white",
           "lakecolor": "white",
           "landcolor": "#E5ECF6",
           "showlakes": true,
           "showland": true,
           "subunitcolor": "white"
          },
          "hoverlabel": {
           "align": "left"
          },
          "hovermode": "closest",
          "mapbox": {
           "style": "light"
          },
          "paper_bgcolor": "white",
          "plot_bgcolor": "#E5ECF6",
          "polar": {
           "angularaxis": {
            "gridcolor": "white",
            "linecolor": "white",
            "ticks": ""
           },
           "bgcolor": "#E5ECF6",
           "radialaxis": {
            "gridcolor": "white",
            "linecolor": "white",
            "ticks": ""
           }
          },
          "scene": {
           "xaxis": {
            "backgroundcolor": "#E5ECF6",
            "gridcolor": "white",
            "gridwidth": 2,
            "linecolor": "white",
            "showbackground": true,
            "ticks": "",
            "zerolinecolor": "white"
           },
           "yaxis": {
            "backgroundcolor": "#E5ECF6",
            "gridcolor": "white",
            "gridwidth": 2,
            "linecolor": "white",
            "showbackground": true,
            "ticks": "",
            "zerolinecolor": "white"
           },
           "zaxis": {
            "backgroundcolor": "#E5ECF6",
            "gridcolor": "white",
            "gridwidth": 2,
            "linecolor": "white",
            "showbackground": true,
            "ticks": "",
            "zerolinecolor": "white"
           }
          },
          "shapedefaults": {
           "line": {
            "color": "#2a3f5f"
           }
          },
          "ternary": {
           "aaxis": {
            "gridcolor": "white",
            "linecolor": "white",
            "ticks": ""
           },
           "baxis": {
            "gridcolor": "white",
            "linecolor": "white",
            "ticks": ""
           },
           "bgcolor": "#E5ECF6",
           "caxis": {
            "gridcolor": "white",
            "linecolor": "white",
            "ticks": ""
           }
          },
          "title": {
           "x": 0.05
          },
          "xaxis": {
           "automargin": true,
           "gridcolor": "white",
           "linecolor": "white",
           "ticks": "",
           "title": {
            "standoff": 15
           },
           "zerolinecolor": "white",
           "zerolinewidth": 2
          },
          "yaxis": {
           "automargin": true,
           "gridcolor": "white",
           "linecolor": "white",
           "ticks": "",
           "title": {
            "standoff": 15
           },
           "zerolinecolor": "white",
           "zerolinewidth": 2
          }
         }
        },
        "width": 1600
       }
      }
     },
     "metadata": {},
     "output_type": "display_data"
    }
   ],
   "source": [
    "fig = go.Figure()\n",
    "i = 0\n",
    "colors = ['rgba(204, 25, 25', 'rgba(25, 114, 204', 'rgba(25, 204, 114', ]\n",
    "for alpha in [0.99809326]:\n",
    "    time_type = 'Career Game'\n",
    "    df, df_quantiles = get_projections('Rasmus Sandin', time_type)\n",
    "    fig.add_trace(go.Scatter(x=df[time_type], y=df['Kalman'], mode='markers', opacity=0.15, marker=dict(color=colors[i] + ', 1)')))\n",
    "    i+=1\n",
    "    fig.add_trace(go.Scatter(x=df[time_type], y=df['Projection'], mode='markers', opacity=0.15, marker=dict(color=colors[i] + ', 1)')))\n",
    "\n",
    "    i += 1\n",
    "    fig.add_trace(go.Scatter(x=df[time_type], y=df['XGB'], mode='markers', opacity=0.15, marker=dict(color=colors[i] + ', 1)')))\n",
    "\n",
    "fig.update_layout(autosize=False, width=1600, height=500)\n",
    "    # Model fitting\n",
    "fig.show()"
   ]
  },
  {
   "cell_type": "code",
   "execution_count": 92,
   "metadata": {},
   "outputs": [
    {
     "data": {
      "text/html": [
       "<div>\n",
       "<style scoped>\n",
       "    .dataframe tbody tr th:only-of-type {\n",
       "        vertical-align: middle;\n",
       "    }\n",
       "\n",
       "    .dataframe tbody tr th {\n",
       "        vertical-align: top;\n",
       "    }\n",
       "\n",
       "    .dataframe thead th {\n",
       "        text-align: right;\n",
       "    }\n",
       "</style>\n",
       "<table border=\"1\" class=\"dataframe\">\n",
       "  <thead>\n",
       "    <tr style=\"text-align: right;\">\n",
       "      <th></th>\n",
       "      <th>Score</th>\n",
       "      <th>Projection</th>\n",
       "      <th>Date</th>\n",
       "    </tr>\n",
       "  </thead>\n",
       "  <tbody>\n",
       "    <tr>\n",
       "      <th>0</th>\n",
       "      <td>0.231163</td>\n",
       "      <td>0.000000</td>\n",
       "      <td>2015-10-08</td>\n",
       "    </tr>\n",
       "    <tr>\n",
       "      <th>1</th>\n",
       "      <td>0.596236</td>\n",
       "      <td>0.231163</td>\n",
       "      <td>2015-10-10</td>\n",
       "    </tr>\n",
       "    <tr>\n",
       "      <th>2</th>\n",
       "      <td>-0.128410</td>\n",
       "      <td>0.417857</td>\n",
       "      <td>2015-10-13</td>\n",
       "    </tr>\n",
       "    <tr>\n",
       "      <th>3</th>\n",
       "      <td>-2.147070</td>\n",
       "      <td>0.099082</td>\n",
       "      <td>2015-10-15</td>\n",
       "    </tr>\n",
       "    <tr>\n",
       "      <th>4</th>\n",
       "      <td>4.263456</td>\n",
       "      <td>-0.530134</td>\n",
       "      <td>2015-10-17</td>\n",
       "    </tr>\n",
       "    <tr>\n",
       "      <th>...</th>\n",
       "      <td>...</td>\n",
       "      <td>...</td>\n",
       "      <td>...</td>\n",
       "    </tr>\n",
       "    <tr>\n",
       "      <th>553</th>\n",
       "      <td>3.166086</td>\n",
       "      <td>0.093334</td>\n",
       "      <td>2023-03-14</td>\n",
       "    </tr>\n",
       "    <tr>\n",
       "      <th>554</th>\n",
       "      <td>0.213446</td>\n",
       "      <td>0.090931</td>\n",
       "      <td>2023-03-16</td>\n",
       "    </tr>\n",
       "    <tr>\n",
       "      <th>555</th>\n",
       "      <td>3.499303</td>\n",
       "      <td>0.008424</td>\n",
       "      <td>2023-03-18</td>\n",
       "    </tr>\n",
       "    <tr>\n",
       "      <th>556</th>\n",
       "      <td>3.819926</td>\n",
       "      <td>0.096332</td>\n",
       "      <td>2023-03-20</td>\n",
       "    </tr>\n",
       "    <tr>\n",
       "      <th>557</th>\n",
       "      <td>2.227110</td>\n",
       "      <td>0.106745</td>\n",
       "      <td>2023-03-22</td>\n",
       "    </tr>\n",
       "  </tbody>\n",
       "</table>\n",
       "<p>558 rows × 3 columns</p>\n",
       "</div>"
      ],
      "text/plain": [
       "        Score  Projection       Date\n",
       "0    0.231163    0.000000 2015-10-08\n",
       "1    0.596236    0.231163 2015-10-10\n",
       "2   -0.128410    0.417857 2015-10-13\n",
       "3   -2.147070    0.099082 2015-10-15\n",
       "4    4.263456   -0.530134 2015-10-17\n",
       "..        ...         ...        ...\n",
       "553  3.166086    0.093334 2023-03-14\n",
       "554  0.213446    0.090931 2023-03-16\n",
       "555  3.499303    0.008424 2023-03-18\n",
       "556  3.819926    0.096332 2023-03-20\n",
       "557  2.227110    0.106745 2023-03-22\n",
       "\n",
       "[558 rows x 3 columns]"
      ]
     },
     "execution_count": 92,
     "metadata": {},
     "output_type": "execute_result"
    }
   ],
   "source": [
    "df[['Score', 'Projection', 'Date']]"
   ]
  },
  {
   "cell_type": "code",
   "execution_count": 41,
   "metadata": {},
   "outputs": [
    {
     "name": "stderr",
     "output_type": "stream",
     "text": [
      "100%|██████████| 9/9 [00:01<00:00,  7.63it/s]\n",
      "100%|██████████| 9/9 [00:01<00:00,  7.26it/s]\n",
      "100%|██████████| 9/9 [00:01<00:00,  8.02it/s]\n",
      "100%|██████████| 9/9 [00:01<00:00,  8.12it/s]\n"
     ]
    },
    {
     "data": {
      "application/vnd.plotly.v1+json": {
       "config": {
        "plotlyServerURL": "https://plot.ly"
       },
       "data": [
        {
         "marker": {
          "color": "rgba(204, 25, 25, 1)"
         },
         "mode": "markers",
         "opacity": 0.15,
         "type": "scatter",
         "x": [
          1,
          2,
          3,
          4,
          5,
          6,
          7,
          8,
          9,
          10,
          11,
          12,
          13,
          14,
          15,
          16,
          17,
          18,
          19,
          20,
          21,
          22,
          23,
          24,
          25,
          26,
          27,
          28,
          29,
          30,
          31,
          32,
          33,
          34,
          35,
          36,
          37,
          38,
          39,
          40,
          41,
          42,
          43,
          44,
          45,
          46,
          47,
          48,
          49,
          50,
          51,
          52,
          53,
          54,
          55,
          56,
          57,
          58,
          59,
          60,
          61,
          62,
          63,
          64,
          65,
          66,
          67,
          68,
          69,
          70,
          71,
          72,
          73,
          74,
          75,
          76,
          77,
          78,
          79,
          80,
          81,
          82,
          83,
          84,
          85,
          86,
          87,
          88,
          89,
          90,
          91,
          92,
          93,
          94,
          95,
          96,
          97,
          98,
          99,
          100,
          101,
          102,
          103,
          104,
          105,
          106,
          107,
          108,
          109,
          110,
          111,
          112,
          113,
          114,
          115,
          116,
          117,
          118,
          119,
          120,
          121,
          122,
          123,
          124,
          125,
          126,
          127,
          128,
          129,
          130,
          131,
          132,
          133,
          134,
          135,
          136,
          137,
          138,
          139,
          140,
          141,
          142,
          143,
          144,
          145,
          146,
          147,
          148,
          149,
          150,
          151,
          152,
          153,
          154,
          155,
          156,
          157,
          158,
          159,
          160,
          161,
          162,
          163,
          164,
          165,
          166,
          167,
          168,
          169,
          170,
          171,
          172,
          173,
          174,
          175,
          176,
          177,
          178,
          179,
          180,
          181,
          182,
          183,
          184,
          185,
          186,
          187,
          188,
          189,
          190,
          191,
          192,
          193,
          194,
          195,
          196,
          197,
          198,
          199,
          200,
          201,
          202,
          203,
          204,
          205,
          206,
          207,
          208,
          209,
          210,
          211,
          212,
          213,
          214,
          215,
          216,
          217,
          218,
          219,
          220,
          221,
          222,
          223,
          224,
          225,
          226,
          227,
          228,
          229,
          230,
          231,
          232,
          233,
          234,
          235,
          236,
          237,
          238,
          239,
          240,
          241,
          242,
          243,
          244,
          245,
          246,
          247,
          248,
          249,
          250,
          251,
          252,
          253,
          254,
          255,
          256,
          257,
          258,
          259,
          260,
          261,
          262,
          263,
          264,
          265,
          266,
          267,
          268,
          269,
          270,
          271,
          272,
          273,
          274,
          275,
          276,
          277,
          278,
          279,
          280,
          281,
          282,
          283,
          284,
          285,
          286,
          287,
          288,
          289,
          290,
          291,
          292,
          293,
          294,
          295,
          296,
          297,
          298,
          299,
          300,
          301,
          302,
          303,
          304,
          305,
          306,
          307,
          308,
          309,
          310,
          311,
          312,
          313,
          314,
          315,
          316,
          317,
          318,
          319,
          320,
          321,
          322,
          323,
          324,
          325,
          326,
          327,
          328,
          329,
          330,
          331,
          332,
          333,
          334,
          335,
          336,
          337,
          338,
          339,
          340,
          341,
          342,
          343,
          344,
          345,
          346,
          347,
          348,
          349,
          350,
          351,
          352,
          353,
          354,
          355,
          356,
          357,
          358,
          359,
          360,
          361,
          362,
          363,
          364,
          365,
          366,
          367,
          368,
          369,
          370,
          371,
          372,
          373,
          374,
          375,
          376,
          377,
          378,
          379,
          380,
          381,
          382,
          383,
          384,
          385,
          386,
          387,
          388,
          389,
          390,
          391,
          392,
          393,
          394,
          395,
          396,
          397,
          398,
          399,
          400,
          401,
          402,
          403,
          404,
          405,
          406,
          407,
          408,
          409,
          410,
          411,
          412,
          413,
          414,
          415,
          416,
          417,
          418,
          419,
          420,
          421,
          422,
          423,
          424,
          425,
          426,
          427,
          428,
          429,
          430,
          431,
          432,
          433,
          434,
          435,
          436,
          437,
          438,
          439,
          440,
          441,
          442,
          443,
          444,
          445,
          446,
          447,
          448,
          449,
          450,
          451,
          452,
          453,
          454,
          455,
          456,
          457,
          458,
          459,
          460,
          461,
          462,
          463,
          464,
          465,
          466,
          467,
          468,
          469
         ],
         "y": [
          0.6146194661580963,
          0.5419121888736432,
          0.621411074637025,
          0.5866145861928229,
          0.7061435856903522,
          0.7733108944061705,
          0.6940794177000318,
          0.6554392413127428,
          0.5861490380860459,
          0.5260120704031532,
          0.48948370317023787,
          0.479413944299093,
          0.38428122862191877,
          0.4375654489215319,
          0.42553394301128056,
          0.38075337501669143,
          0.43139821957449603,
          0.4286846219674849,
          0.4456354340667171,
          0.5218528773249079,
          0.5564615097872461,
          0.47825682359337574,
          0.5272646046381518,
          0.5335343626765433,
          0.5967638917318578,
          0.5991835279862621,
          0.6594709608926286,
          0.6467999248586663,
          0.6339410456578548,
          0.6637804995188811,
          0.678724025015934,
          0.6853829431198066,
          0.7702597357261307,
          0.8409674448775705,
          0.8807873726792721,
          0.9068486607231949,
          0.8854596357983615,
          0.8533778066450622,
          0.8439252838392531,
          0.7966249677926597,
          0.8160384496222922,
          0.7370320654697745,
          0.7048628969317361,
          0.6982929383308413,
          0.7448832029602698,
          0.6580919716469934,
          0.6811967725001856,
          0.6136607645613409,
          0.6957579996489931,
          0.673709016844653,
          0.6943626460818043,
          0.6191420519661623,
          0.5999468543019882,
          0.6866864708461149,
          0.6965679753958884,
          0.7451900855500866,
          0.7871493722782494,
          0.8109697141537234,
          0.7709417023168534,
          0.8486550288080187,
          0.8240211851840487,
          0.7928350490489096,
          0.7810887478445986,
          0.7344494102774193,
          0.7188312288495865,
          0.6549247496616151,
          0.6392126805037424,
          0.6109981422152783,
          0.5998567894520263,
          0.6116842324130276,
          0.610587003916505,
          0.6550735040602076,
          0.6829012415289448,
          0.6745897460678318,
          0.6945627056456865,
          0.7203195745807214,
          0.7580581289314289,
          0.7218096257821736,
          0.7075986789048427,
          0.7603557275115387,
          0.7488572052789574,
          0.8255745958042604,
          0.7179789543151855,
          0.7541141510009766,
          0.7888041734695435,
          0.8144417405128479,
          0.8554714322090149,
          0.8505236506462097,
          0.8430405855178833,
          0.8699304461479187,
          0.8669540286064148,
          0.8662878274917603,
          0.8822109699249268,
          0.9071117639541626,
          0.9089139699935913,
          0.8956995010375977,
          0.9069627523422241,
          0.9072350263595581,
          0.9127722978591919,
          0.9312754273414612,
          0.9354367852210999,
          0.9540883898735046,
          0.9338518381118774,
          0.9297740459442139,
          0.9281325340270996,
          0.908449649810791,
          0.902148425579071,
          0.876152753829956,
          0.8946499228477478,
          0.9084819555282593,
          0.9348989725112915,
          0.9067104458808899,
          0.9341445565223694,
          0.9105634093284607,
          0.9261423349380493,
          0.9203541278839111,
          0.9000476598739624,
          0.8794384598731995,
          0.8893990516662598,
          0.8955900073051453,
          0.9083530902862549,
          0.9105066657066345,
          0.8936774134635925,
          0.9084838032722473,
          0.9145867824554443,
          0.931727409362793,
          0.9286393523216248,
          0.9668195247650146,
          0.9234538674354553,
          0.9358943104743958,
          0.9482282400131226,
          0.9220324158668518,
          0.9243658781051636,
          0.9356535077095032,
          0.9040753841400146,
          0.9175788164138794,
          0.9043747782707214,
          0.9140908718109131,
          0.9013023376464844,
          0.9022687673568726,
          0.9247550368309021,
          0.9233149290084839,
          0.9530713558197021,
          0.9573301076889038,
          0.9586255550384521,
          0.9354829788208008,
          0.9579881429672241,
          0.9692952632904053,
          0.9752112030982971,
          0.9605802297592163,
          0.997577428817749,
          0.9917670488357544,
          0.9737212657928467,
          0.9589404463768005,
          0.9572840332984924,
          0.9599791169166565,
          0.9928365349769592,
          0.9860525131225586,
          1.023892879486084,
          1.0247509479522705,
          1.0254460573196411,
          1.0216468572616577,
          1.024803638458252,
          1.03333580493927,
          1.0454485416412354,
          1.0711696147918701,
          1.0620790719985962,
          1.0711926221847534,
          1.0479315519332886,
          1.0341300964355469,
          1.05299711227417,
          1.0759074687957764,
          1.0250091552734375,
          1.031011700630188,
          1.0401830673217773,
          1.046687364578247,
          1.0133745670318604,
          0.9946043491363525,
          0.9887561202049255,
          0.9874496459960938,
          0.9858660101890564,
          0.9981330037117004,
          0.9974395632743835,
          0.975117564201355,
          0.960561215877533,
          0.9683157801628113,
          0.9779989719390869,
          0.9956032633781433,
          0.9811211228370667,
          0.9819092750549316,
          0.979794442653656,
          0.9812925457954407,
          0.980318546295166,
          0.9651007056236267,
          0.9382624626159668,
          0.9531019926071167,
          0.930266261100769,
          0.908420979976654,
          0.9114477038383484,
          0.9216899275779724,
          0.9436447024345398,
          0.9533786773681641,
          0.9506040215492249,
          0.9440312385559082,
          0.9614409804344177,
          0.959466278553009,
          0.9608252644538879,
          0.9747891426086426,
          0.973945677280426,
          0.9669041633605957,
          0.9515538215637207,
          0.9283500909805298,
          0.9259132742881775,
          0.9655278921127319,
          0.9630946516990662,
          0.9751982092857361,
          0.9832552075386047,
          0.9990416169166565,
          0.9756007790565491,
          0.9807224273681641,
          0.9681639075279236,
          0.9636982679367065,
          0.9757266640663147,
          0.9650031924247742,
          0.9741596579551697,
          0.9830032587051392,
          0.9971960783004761,
          0.9819158315658569,
          1.0165126323699951,
          0.9962949752807617,
          1.0254929065704346,
          1.0344992876052856,
          1.0426396131515503,
          1.0277466773986816,
          1.0240669250488281,
          1.022148609161377,
          1.030456304550171,
          1.0340855121612549,
          1.0367687940597534,
          1.0203893184661865,
          1.0206348896026611,
          0.9948729872703552,
          0.9833669662475586,
          0.9995154738426208,
          1.0064893960952759,
          1.0009732246398926,
          0.9801421761512756,
          0.9981493949890137,
          1.0286327600479126,
          1.0330548286437988,
          1.0532180070877075,
          1.0443912744522095,
          1.0712915658950806,
          1.0679926872253418,
          1.0633225440979004,
          1.0723586082458496,
          1.0813173055648804,
          1.0946630239486694,
          1.0946507453918457,
          1.1203769445419312,
          1.125046968460083,
          1.1121822595596313,
          1.096779704093933,
          1.0932005643844604,
          1.0945113897323608,
          1.0907927751541138,
          1.0897724628448486,
          1.1116588115692139,
          1.1228723526000977,
          1.1098207235336304,
          1.0943647623062134,
          1.0833171606063843,
          1.0853263139724731,
          1.081000804901123,
          1.0825079679489136,
          1.0922073125839233,
          1.0864536762237549,
          1.1006662845611572,
          1.111596703529358,
          1.1280982494354248,
          1.1250203847885132,
          1.1316192150115967,
          1.1336262226104736,
          1.1073247194290161,
          1.105823040008545,
          1.1003142595291138,
          1.1168744564056396,
          1.1292418241500854,
          1.1334776878356934,
          1.1338963508605957,
          1.1315464973449707,
          1.1156965494155884,
          1.145416259765625,
          1.195047378540039,
          1.1907697916030884,
          1.1814340353012085,
          1.1823686361312866,
          1.2082266807556152,
          1.218480110168457,
          1.2518247365951538,
          1.2821030616760254,
          1.271543025970459,
          1.2791422605514526,
          1.2367767095565796,
          1.2423561811447144,
          1.2210135459899902,
          1.2219340801239014,
          1.2216684818267822,
          1.215801477432251,
          1.2161188125610352,
          1.216072678565979,
          1.2152341604232788,
          1.2183377742767334,
          1.2304800748825073,
          1.270753264427185,
          1.2865597009658813,
          1.271397590637207,
          1.2940733432769775,
          1.3134392499923706,
          1.33944833278656,
          1.3598226308822632,
          1.3597259521484375,
          1.3576117753982544,
          1.3433928489685059,
          1.341443657875061,
          1.357276439666748,
          1.3457401990890503,
          1.3714147806167603,
          1.3647440671920776,
          1.3965398073196411,
          1.4239280223846436,
          1.4240423440933228,
          1.4163655042648315,
          1.417393445968628,
          1.4154161214828491,
          1.3909193277359009,
          1.362351417541504,
          1.366916537284851,
          1.3467720746994019,
          1.3449598550796509,
          1.3324041366577148,
          1.3668149709701538,
          1.368980884552002,
          1.3695732355117798,
          1.3692430257797241,
          1.3692219257354736,
          1.3693461418151855,
          1.368959665298462,
          1.3996449708938599,
          1.3680745363235474,
          1.3691781759262085,
          1.3702452182769775,
          1.4016530513763428,
          1.4016932249069214,
          1.405585765838623,
          1.421790599822998,
          1.4134665727615356,
          1.4264668226242065,
          1.417445182800293,
          1.4239100217819214,
          1.4208190441131592,
          1.4157309532165527,
          1.4207900762557983,
          1.4261220693588257,
          1.4345263242721558,
          1.4362452030181885,
          1.4651285409927368,
          1.4649423360824585,
          1.463864803314209,
          1.433736801147461,
          1.4234623908996582,
          1.429955005645752,
          1.4762383699417114,
          1.4971833229064941,
          1.53050696849823,
          1.5339630842208862,
          1.5357054471969604,
          1.53146231174469,
          1.5268051624298096,
          1.4860960245132446,
          1.4929921627044678,
          1.4944415092468262,
          1.5404645204544067,
          1.5591042041778564,
          1.5488898754119873,
          1.5525109767913818,
          1.5597766637802124,
          1.5979619026184082,
          1.6015821695327759,
          1.6145786046981812,
          1.6095073223114014,
          1.6183103322982788,
          1.6225639581680298,
          1.6204601526260376,
          1.6303045749664307,
          1.6200153827667236,
          1.6166166067123413,
          1.6491018533706665,
          1.6717817783355713,
          1.678405523300171,
          1.6627877950668335,
          1.7354700565338135,
          1.6725194454193115,
          1.727613925933838,
          1.7352699041366577,
          1.7295259237289429,
          1.740257740020752,
          1.7332241535186768,
          1.7414242029190063,
          1.7297430038452148,
          1.729000449180603,
          1.7325512170791626,
          1.7347790002822876,
          1.7279644012451172,
          1.7219092845916748,
          1.7110520601272583,
          1.6545714139938354,
          1.6614314317703247,
          1.6603912115097046,
          1.6714510917663574,
          1.6380726099014282,
          1.6584217548370361,
          1.6281397342681885,
          1.638188362121582,
          1.6688469648361206,
          1.628263235092163,
          1.6315979957580566,
          1.628764033317566,
          1.6335631608963013,
          1.635621428489685,
          1.6345847845077515,
          1.646579623222351,
          1.6440502405166626,
          1.6296589374542236,
          1.650342345237732,
          1.6744849681854248,
          1.7214672565460205,
          1.7211840152740479,
          1.6653610467910767,
          1.7205997705459595,
          1.7175590991973877,
          1.7197355031967163,
          1.7210657596588135,
          1.72588312625885,
          1.6620936393737793,
          1.7238435745239258,
          1.7249571084976196,
          1.661247968673706,
          1.662770390510559,
          1.6618773937225342,
          1.6619137525558472,
          1.6536387205123901,
          1.6448311805725098,
          1.6435294151306152,
          1.646715521812439,
          1.6634167432785034,
          1.6601940393447876,
          1.6429024934768677,
          1.620378851890564,
          1.6261534690856934,
          1.6265870332717896,
          1.6151418685913086,
          1.6219114065170288,
          1.5966997146606445,
          1.608270525932312,
          1.605547308921814,
          1.611141324043274,
          1.6269409656524658,
          1.6195850372314453
         ]
        },
        {
         "marker": {
          "color": "rgba(204, 25, 25, 0.05)"
         },
         "type": "scatter",
         "x": [
          0,
          1,
          2,
          3,
          4,
          5,
          6,
          7,
          8,
          9,
          10,
          11,
          12,
          13,
          14,
          15,
          16,
          17,
          18,
          19,
          20,
          21,
          22,
          23,
          24,
          25,
          26,
          27,
          28,
          29,
          30,
          31,
          32,
          33,
          34,
          35,
          36,
          37,
          38,
          39,
          40,
          41,
          42,
          43,
          44,
          45,
          46,
          47,
          48,
          49,
          50,
          51,
          52,
          53,
          54,
          55,
          56,
          57,
          58,
          59,
          60,
          61,
          62,
          63,
          64,
          65,
          66,
          67,
          68,
          69,
          70,
          71,
          72,
          73,
          74,
          75,
          76,
          77,
          78,
          79,
          80,
          81,
          82,
          83,
          84,
          85,
          86,
          87,
          88,
          89,
          90,
          91,
          92,
          93,
          94,
          95,
          96,
          97,
          98,
          99,
          100,
          101,
          102,
          103,
          104,
          105,
          106,
          107,
          108,
          109,
          110,
          111,
          112,
          113,
          114,
          115,
          116,
          117,
          118,
          119,
          120,
          121,
          122,
          123,
          124,
          125,
          126,
          127,
          128,
          129,
          130,
          131,
          132,
          133,
          134,
          135,
          136,
          137,
          138,
          139,
          140,
          141,
          142,
          143,
          144,
          145,
          146,
          147,
          148,
          149,
          150,
          151,
          152,
          153,
          154,
          155,
          156,
          157,
          158,
          159,
          160,
          161,
          162,
          163,
          164,
          165,
          166,
          167,
          168,
          169,
          170,
          171,
          172,
          173,
          174,
          175,
          176,
          177,
          178,
          179,
          180,
          181,
          182,
          183,
          184,
          185,
          186,
          187,
          188,
          189,
          190,
          191,
          192,
          193,
          194,
          195,
          196,
          197,
          198,
          199,
          200,
          201,
          202,
          203,
          204,
          205,
          206,
          207,
          208,
          209,
          210,
          211,
          212,
          213,
          214,
          215,
          216,
          217,
          218,
          219,
          220,
          221,
          222,
          223,
          224,
          225,
          226,
          227,
          228,
          229,
          230,
          231,
          232,
          233,
          234,
          235,
          236,
          237,
          238,
          239,
          240,
          241,
          242,
          243,
          244,
          245,
          246,
          247,
          248,
          249,
          250,
          251,
          252,
          253,
          254,
          255,
          256,
          257,
          258,
          259,
          260,
          261,
          262,
          263,
          264,
          265,
          266,
          267,
          268,
          269,
          270,
          271,
          272,
          273,
          274,
          275,
          276,
          277,
          278,
          279,
          280,
          281,
          282,
          283,
          284,
          285,
          286,
          287,
          288,
          289,
          290,
          291,
          292,
          293,
          294,
          295,
          296,
          297,
          298,
          299,
          300,
          301,
          302,
          303,
          304,
          305,
          306,
          307,
          308,
          309,
          310,
          311,
          312,
          313,
          314,
          315,
          316,
          317,
          318,
          319,
          320,
          321,
          322,
          323,
          324,
          325,
          326,
          327,
          328,
          329,
          330,
          331,
          332,
          333,
          334,
          335,
          336,
          337,
          338,
          339,
          340,
          341,
          342,
          343,
          344,
          345,
          346,
          347,
          348,
          349,
          350,
          351,
          352,
          353,
          354,
          355,
          356,
          357,
          358,
          359,
          360,
          361,
          362,
          363,
          364,
          365,
          366,
          367,
          368,
          369,
          370,
          371,
          372,
          373,
          374,
          375,
          376,
          377,
          378,
          379,
          380,
          381,
          382,
          383,
          384,
          385,
          386,
          387,
          388,
          389,
          390,
          391,
          392,
          393,
          394,
          395,
          396,
          397,
          398,
          399,
          400,
          401,
          402,
          403,
          404,
          405,
          406,
          407,
          408,
          409,
          410,
          411,
          412,
          413,
          414,
          415,
          416,
          417,
          418,
          419,
          420,
          421,
          422,
          423,
          424,
          425,
          426,
          427,
          428,
          429,
          430,
          431,
          432,
          433,
          434,
          435,
          436,
          437,
          438,
          439,
          440,
          441,
          442,
          443,
          444,
          445,
          446,
          447,
          448,
          449,
          450,
          451,
          452,
          453,
          454,
          455,
          456,
          457,
          458,
          459,
          460,
          461,
          462,
          463,
          464,
          465,
          466,
          467,
          468
         ],
         "y": [
          0.7397318099558194,
          0.7392644966289961,
          0.7389322306272356,
          0.7388237163411064,
          0.7389913996311732,
          0.7394579959126727,
          0.7402244807761573,
          0.7412774712825541,
          0.7425951286916841,
          0.7441514490157946,
          0.745919156925785,
          0.7478715268072406,
          0.749983442293811,
          0.7522319473479044,
          0.7545964764404864,
          0.7570588946198931,
          0.7596034345805209,
          0.7622165864632162,
          0.7648869745711327,
          0.7676052408509217,
          0.7703639456648277,
          0.7731574903837621,
          0.7760855195228,
          0.7795464952833338,
          0.7837625372530064,
          0.7887218895199906,
          0.7942554750262364,
          0.8001124667581606,
          0.8060229390300309,
          0.8117436407227451,
          0.8170829143618814,
          0.8219078147506177,
          0.8261392823313924,
          0.8297411878095672,
          0.8327075882585109,
          0.8350507680999053,
          0.8367912136803204,
          0.8379497623714159,
          0.8385417069054921,
          0.8385724831542742,
          0.8380346030969879,
          0.8369056382554583,
          0.8351472795203202,
          0.8327057938169624,
          0.8295145730433763,
          0.8254999103419709,
          0.8205895563329783,
          0.8144058853377238,
          0.8061770454251862,
          0.7956925804505975,
          0.7834249973553464,
          0.7703973037526499,
          0.7578652375746802,
          0.7469487340947562,
          0.7383574401002936,
          0.7322832876156651,
          0.7284362660746918,
          0.7262755162563928,
          0.7255851470232029,
          0.726260333107102,
          0.7282141883767099,
          0.7313899641948329,
          0.7357672951636888,
          0.7413644356013993,
          0.7482373671796803,
          0.7564756051020796,
          0.7661934773985486,
          0.7775145991110227,
          0.7905463826356436,
          0.8053412843186847,
          0.8218433140204328,
          0.8400041931773984,
          0.8601620083960214,
          0.8820013109946029,
          0.9043985423857183,
          0.9258650689283702,
          0.9452006793403585,
          0.9620468317719578,
          0.9770966254118819,
          0.9910163830270247,
          1.0037671216448376,
          1.0153528298043433,
          1.0258295254805607,
          1.0352748312164968,
          1.043766970290449,
          1.051371469457871,
          1.0581333675661417,
          1.0640731078403731,
          1.0691849474649326,
          1.073437417039635,
          1.0767760580234549,
          1.0791293760318714,
          1.0804196544389195,
          1.0805808061702908,
          1.0795853138094231,
          1.0774805447032496,
          1.074185787029845,
          1.0690168272411942,
          1.0618273643239065,
          1.053226518473585,
          1.0442512389389795,
          1.0358364648732896,
          1.0283471226063903,
          1.021564934010934,
          1.0156091023972666,
          1.0106345638043055,
          1.006682106782557,
          1.0037186887916814,
          1.0016705684373972,
          1.0004472612921655,
          0.9999574612459736,
          1.0001190153934227,
          1.0008649417530442,
          1.0021470142601112,
          1.0039379146185008,
          1.0062324547308803,
          1.0090478912267657,
          1.0124228352710782,
          1.0164136800618082,
          1.021086905428271,
          1.0265010679604356,
          1.0325565607402163,
          1.0390022956308818,
          1.045608234612017,
          1.0521742666839295,
          1.0585515373438459,
          1.0646725290080132,
          1.0705759777361925,
          1.076393619703663,
          1.0822187940073142,
          1.0880988221156531,
          1.0940548879739893,
          1.1000884402292375,
          1.1061870223514039,
          1.1123288556874389,
          1.1184861783779447,
          1.124627639156195,
          1.130720144907431,
          1.1367305891199067,
          1.1426279097865304,
          1.1483859589535377,
          1.1539876887495897,
          1.1594310913167587,
          1.164737011760781,
          1.1699581304515445,
          1.1750342996706884,
          1.1794306673932315,
          1.1827729820910344,
          1.185041744018665,
          1.186510146468138,
          1.1875580879040288,
          1.1884533816374598,
          1.1892187138760029,
          1.1899376817182983,
          1.1907773239769768,
          1.1918275432283711,
          1.1931152895713661,
          1.1946219647870384,
          1.19629787332762,
          1.1980730280247545,
          1.1998648434339212,
          1.2015837132924294,
          1.2031375954927848,
          1.2044367685104849,
          1.2053999888813345,
          1.2059633735908972,
          1.2060933405172403,
          1.205804580059796,
          1.2051827771258865,
          1.204408914335165,
          1.2035095865639818,
          1.2017430469847414,
          1.198714970438525,
          1.1946206143200495,
          1.190002843374298,
          1.1853524319373876,
          1.1807514954921912,
          1.1759071641012053,
          1.1710309764126758,
          1.1663939353918051,
          1.162134890166863,
          1.1582904112350545,
          1.154824179646125,
          1.1516509518903826,
          1.1486542650876947,
          1.1456989602680037,
          1.1426402776991287,
          1.1393314292516852,
          1.1356315810358928,
          1.131416250799168,
          1.1265922214659438,
          1.121118978103158,
          1.1150378904266907,
          1.1085080138985577,
          1.10182438038726,
          1.0952847872839742,
          1.0894274154722698,
          1.085062546088672,
          1.0829370785626176,
          1.083364388729906,
          1.0859973185773657,
          1.089836596244818,
          1.0938213947042423,
          1.0978241965097575,
          1.1018676479155176,
          1.1059605185112085,
          1.1101013654979752,
          1.1142817166327568,
          1.1184885076433964,
          1.122705832622017,
          1.1269161972766464,
          1.1311015039310526,
          1.1352440061211844,
          1.1393274797829487,
          1.1433388733159437,
          1.147270702561295,
          1.151124398950623,
          1.154914603752049,
          1.1586738865236041,
          1.162366768186596,
          1.1656770980680429,
          1.168382800250511,
          1.1704687879062223,
          1.1720872775867346,
          1.1734476300291758,
          1.1746909376470789,
          1.1758373972668592,
          1.1769756983205806,
          1.1782024498693724,
          1.1795677205706003,
          1.1810853698975448,
          1.1827433831060266,
          1.1845123520830814,
          1.1863517617724602,
          1.1882144312858585,
          1.19004970693905,
          1.1918060607917509,
          1.1934337567531763,
          1.1948882693678753,
          1.1961351786554408,
          1.1971572534353414,
          1.1979642183235664,
          1.1986049912317263,
          1.1991804511620368,
          1.1997122421150441,
          1.1999682891782086,
          1.1999138529389537,
          1.1997331264124298,
          1.1996881561635726,
          1.1999370036276404,
          1.2004026459079467,
          1.2008389588921222,
          1.2012898350445878,
          1.2018507191535692,
          1.2025680073395664,
          1.2034507658355356,
          1.2044818438091254,
          1.2056267644425307,
          1.206840223027477,
          1.2080706691493897,
          1.2092636650351267,
          1.2103647519404888,
          1.2113225615415586,
          1.2120929323184086,
          1.2126448145592592,
          1.2129686750166497,
          1.213087733691098,
          1.2130713318454152,
          1.2130146487199645,
          1.2129092801497285,
          1.2128562085071397,
          1.2131019461903003,
          1.2139162818742686,
          1.2154433865370435,
          1.2175973237414772,
          1.2200434744178243,
          1.2225045837320812,
          1.225003563455248,
          1.2275676549957328,
          1.2302057359090395,
          1.232913415218296,
          1.235677312589862,
          1.2384782735349709,
          1.241293656059788,
          1.244098970538733,
          1.2468691927765951,
          1.249580077464242,
          1.2522098108154864,
          1.2547413605829287,
          1.2571658798555871,
          1.2594874232947708,
          1.2617289021301514,
          1.2639384408107077,
          1.266157648995353,
          1.2683445029158273,
          1.270523913604705,
          1.2727926939419247,
          1.2752542756923748,
          1.277944018164588,
          1.2807825827898482,
          1.2836214953987135,
          1.2864618462329016,
          1.2893374623387388,
          1.292265611104308,
          1.2952507918820655,
          1.2982884552937919,
          1.301368030903281,
          1.3044751580563347,
          1.3075932537161965,
          1.3107046339472102,
          1.3137914215480238,
          1.3168364719025245,
          1.3198245539325508,
          1.3227440329060416,
          1.3255892941392813,
          1.3283640672130037,
          1.3310855624492566,
          1.3337923856606437,
          1.336777533754524,
          1.3406537426206098,
          1.3458726958431873,
          1.3525890390552355,
          1.36063882070565,
          1.3696340921336148,
          1.3791243990392992,
          1.3887528177486437,
          1.3983271381177351,
          1.4077426684428647,
          1.416952794489162,
          1.4259542481092522,
          1.4347737510468512,
          1.4434575729706849,
          1.4520639898446566,
          1.4606579665055655,
          1.4693071852945851,
          1.4780785125573335,
          1.4870339874161205,
          1.4962253849964513,
          1.5056863878952174,
          1.5154215386882681,
          1.5253917357963624,
          1.535497538882262,
          1.5455221872321605,
          1.5549866217136024,
          1.563313843876697,
          1.5700275067576512,
          1.5749303434290023,
          1.578200066181902,
          1.580352323766916,
          1.582091574656909,
          1.5838217732016493,
          1.585618785139531,
          1.5875171906301149,
          1.5895264395285205,
          1.5916380634183642,
          1.593831597195407,
          1.5960789690210215,
          1.598347598479989,
          1.6006026159883269,
          1.6028086550328378,
          1.6049316730753802,
          1.6069412708859128,
          1.6088140050377628,
          1.6105381812027728,
          1.6121204703771772,
          1.6135942122132825,
          1.6150281889393217,
          1.6165235842204002,
          1.618208534938166,
          1.6202733331939831,
          1.6229061558558693,
          1.6261994490375034,
          1.6300844508339387,
          1.6343268196590097,
          1.6386341339723673,
          1.6429416112634319,
          1.6472506491887566,
          1.6515619526823575,
          1.6558756954720812,
          1.660191676927257,
          1.6645094489836034,
          1.6688284092789412,
          1.6731478664408468,
          1.6774670867740058,
          1.6817853321510943,
          1.6861018988193663,
          1.6904161669667954,
          1.6947276712030672,
          1.6990362016135292,
          1.7033419414359754,
          1.707645636648525,
          1.7119763410185742,
          1.7168851846688724,
          1.7232184507950041,
          1.7314556068392488,
          1.7416089178410896,
          1.7532875951095406,
          1.7659093519576476,
          1.778952391210295,
          1.7920976483453257,
          1.805108095602452,
          1.8178357846162587,
          1.8302217420575102,
          1.8422722819771917,
          1.8540383101619868,
          1.8655994561301117,
          1.8770527149024279,
          1.8885044078897995,
          1.9000640278854366,
          1.911838502683099,
          1.923925391302432,
          1.9364034670735735,
          1.9493191343661,
          1.9625315273915327,
          1.9752803924747562,
          1.986595735609348,
          1.9955216649543577,
          2.001291604798744,
          2.003534093630064,
          2.002411213141457,
          1.9985844092356972,
          1.9930097112121576,
          1.9867219000091558,
          1.9806037280566975,
          1.9749587445215742,
          1.969800407991975,
          1.9650870490967247,
          1.9607432392798148,
          1.9566745630449645,
          1.9527779629569948,
          1.9489490300293915,
          1.9450875399529572,
          1.9411023505135234,
          1.936916587865456,
          1.932473875139162,
          1.9277461531153397,
          1.9227433214332017,
          1.9175243653961065,
          1.912208690894016,
          1.9069849893279702,
          1.9021132200657331,
          1.8979137653716742,
          1.8947375685380397,
          1.8929135134447794,
          1.8926746199450548,
          1.894065829553572,
          1.8968663620280717,
          1.9005383816916275,
          1.9043773232230108,
          1.9082076104901367,
          1.91201819238562,
          1.915797736303904,
          1.9195345462808702,
          1.9232164749469784,
          1.9268308393349605,
          1.9303643552287908,
          1.9338031121003072,
          1.9371326217343332,
          1.9403379895646382,
          1.9434042796538396,
          1.9463171725767883,
          1.9490640485098911,
          1.951635658975642,
          1.9540285636294659,
          1.9562484703068392,
          1.9583144709619305,
          1.9602638344877112,
          1.9621564256445736,
          1.9640769773334217
         ]
        },
        {
         "fill": "tonexty",
         "fillcolor": "rgba(204, 25, 25, 0.1)",
         "marker": {
          "color": "rgba(204, 25, 25, 0.05)"
         },
         "type": "scatter",
         "x": [
          0,
          1,
          2,
          3,
          4,
          5,
          6,
          7,
          8,
          9,
          10,
          11,
          12,
          13,
          14,
          15,
          16,
          17,
          18,
          19,
          20,
          21,
          22,
          23,
          24,
          25,
          26,
          27,
          28,
          29,
          30,
          31,
          32,
          33,
          34,
          35,
          36,
          37,
          38,
          39,
          40,
          41,
          42,
          43,
          44,
          45,
          46,
          47,
          48,
          49,
          50,
          51,
          52,
          53,
          54,
          55,
          56,
          57,
          58,
          59,
          60,
          61,
          62,
          63,
          64,
          65,
          66,
          67,
          68,
          69,
          70,
          71,
          72,
          73,
          74,
          75,
          76,
          77,
          78,
          79,
          80,
          81,
          82,
          83,
          84,
          85,
          86,
          87,
          88,
          89,
          90,
          91,
          92,
          93,
          94,
          95,
          96,
          97,
          98,
          99,
          100,
          101,
          102,
          103,
          104,
          105,
          106,
          107,
          108,
          109,
          110,
          111,
          112,
          113,
          114,
          115,
          116,
          117,
          118,
          119,
          120,
          121,
          122,
          123,
          124,
          125,
          126,
          127,
          128,
          129,
          130,
          131,
          132,
          133,
          134,
          135,
          136,
          137,
          138,
          139,
          140,
          141,
          142,
          143,
          144,
          145,
          146,
          147,
          148,
          149,
          150,
          151,
          152,
          153,
          154,
          155,
          156,
          157,
          158,
          159,
          160,
          161,
          162,
          163,
          164,
          165,
          166,
          167,
          168,
          169,
          170,
          171,
          172,
          173,
          174,
          175,
          176,
          177,
          178,
          179,
          180,
          181,
          182,
          183,
          184,
          185,
          186,
          187,
          188,
          189,
          190,
          191,
          192,
          193,
          194,
          195,
          196,
          197,
          198,
          199,
          200,
          201,
          202,
          203,
          204,
          205,
          206,
          207,
          208,
          209,
          210,
          211,
          212,
          213,
          214,
          215,
          216,
          217,
          218,
          219,
          220,
          221,
          222,
          223,
          224,
          225,
          226,
          227,
          228,
          229,
          230,
          231,
          232,
          233,
          234,
          235,
          236,
          237,
          238,
          239,
          240,
          241,
          242,
          243,
          244,
          245,
          246,
          247,
          248,
          249,
          250,
          251,
          252,
          253,
          254,
          255,
          256,
          257,
          258,
          259,
          260,
          261,
          262,
          263,
          264,
          265,
          266,
          267,
          268,
          269,
          270,
          271,
          272,
          273,
          274,
          275,
          276,
          277,
          278,
          279,
          280,
          281,
          282,
          283,
          284,
          285,
          286,
          287,
          288,
          289,
          290,
          291,
          292,
          293,
          294,
          295,
          296,
          297,
          298,
          299,
          300,
          301,
          302,
          303,
          304,
          305,
          306,
          307,
          308,
          309,
          310,
          311,
          312,
          313,
          314,
          315,
          316,
          317,
          318,
          319,
          320,
          321,
          322,
          323,
          324,
          325,
          326,
          327,
          328,
          329,
          330,
          331,
          332,
          333,
          334,
          335,
          336,
          337,
          338,
          339,
          340,
          341,
          342,
          343,
          344,
          345,
          346,
          347,
          348,
          349,
          350,
          351,
          352,
          353,
          354,
          355,
          356,
          357,
          358,
          359,
          360,
          361,
          362,
          363,
          364,
          365,
          366,
          367,
          368,
          369,
          370,
          371,
          372,
          373,
          374,
          375,
          376,
          377,
          378,
          379,
          380,
          381,
          382,
          383,
          384,
          385,
          386,
          387,
          388,
          389,
          390,
          391,
          392,
          393,
          394,
          395,
          396,
          397,
          398,
          399,
          400,
          401,
          402,
          403,
          404,
          405,
          406,
          407,
          408,
          409,
          410,
          411,
          412,
          413,
          414,
          415,
          416,
          417,
          418,
          419,
          420,
          421,
          422,
          423,
          424,
          425,
          426,
          427,
          428,
          429,
          430,
          431,
          432,
          433,
          434,
          435,
          436,
          437,
          438,
          439,
          440,
          441,
          442,
          443,
          444,
          445,
          446,
          447,
          448,
          449,
          450,
          451,
          452,
          453,
          454,
          455,
          456,
          457,
          458,
          459,
          460,
          461,
          462,
          463,
          464,
          465,
          466,
          467,
          468
         ],
         "y": [
          0.44573274423466364,
          0.4469758889841755,
          0.44840701722280146,
          0.45014632326807896,
          0.45226456039369806,
          0.4547920124954785,
          0.4577294236388848,
          0.46105807155308814,
          0.4647478104477152,
          0.46876290883932614,
          0.4730659812128897,
          0.4776204577067496,
          0.48239201751974226,
          0.4873493314411182,
          0.4924643691265166,
          0.49771244915710133,
          0.5030721503076248,
          0.5085251596740543,
          0.5140561039654776,
          0.519652390758648,
          0.5253040738299057,
          0.5310037485208952,
          0.5369437012597544,
          0.5438957024374836,
          0.5523169922645789,
          0.5622296008112465,
          0.5733537416547604,
          0.5852442384160802,
          0.5974074230706218,
          0.6093882842078557,
          0.6208202814405518,
          0.6314423597684571,
          0.6410932567327468,
          0.6496935878789412,
          0.657223781569984,
          0.6637028139295238,
          0.6691700857489652,
          0.6736710654176208,
          0.6772464071278865,
          0.6799239024256458,
          0.6817126145508272,
          0.6825987332382569,
          0.6825430030035649,
          0.6814800067098135,
          0.6793201420634096,
          0.675955808746493,
          0.6712717228961625,
          0.6647819395153468,
          0.6554733127459492,
          0.6429159966296553,
          0.627477267195056,
          0.6102433870229491,
          0.592696961411412,
          0.5762798212693778,
          0.5620185618394263,
          0.5503260945009489,
          0.5409763706737527,
          0.5333493167155521,
          0.527204899907661,
          0.5224327086742075,
          0.5189287355117816,
          0.5166107611884483,
          0.5154269946180015,
          0.5153602300370235,
          0.5164288070460865,
          0.518684675851322,
          0.5222078991875541,
          0.5270959484748932,
          0.533445269394015,
          0.5413221922834098,
          0.55072126884621,
          0.561582553691298,
          0.5739374289392388,
          0.5875189869517398,
          0.601678337197439,
          0.6155903334772886,
          0.6286090637832791,
          0.6406058345236213,
          0.6521356981384299,
          0.6637011204850862,
          0.6752536809463328,
          0.6867468843634175,
          0.6981639656768935,
          0.7095103622129868,
          0.7208072435611117,
          0.7320865567432301,
          0.7433874264313072,
          0.7547534901950679,
          0.7662306543517767,
          0.7778647073699813,
          0.7896981683815789,
          0.8017656737731189,
          0.8140871705885739,
          0.8266583380551888,
          0.8394382771445633,
          0.8523360012473251,
          0.8650400110148022,
          0.8765904896751839,
          0.8860458035171411,
          0.8928712738544008,
          0.8970936922229753,
          0.8992517547197155,
          0.9001678915805533,
          0.9006136668570791,
          0.9009669161614077,
          0.9014270070491199,
          0.9021002519263475,
          0.9030195433306312,
          0.9041643523137033,
          0.9054773528537904,
          0.9068768702701631,
          0.90826577380466,
          0.9095379755642885,
          0.9105838541915956,
          0.9112959814116897,
          0.9115766202185708,
          0.9113485844293475,
          0.9105710593370326,
          0.9092615348885471,
          0.907523461779819,
          0.9055690288302364,
          0.9035549549836858,
          0.901697528297631,
          0.9005114587759258,
          0.9005975989357109,
          0.9023419192325737,
          0.9056719102147515,
          0.909987185939723,
          0.9144490409102844,
          0.9189189011141417,
          0.9234459406768538,
          0.9280521648591695,
          0.9327390677484773,
          0.9374936939801726,
          0.9422934033256141,
          0.9471093415359658,
          0.951908928463632,
          0.9566577781457627,
          0.9613214947783674,
          0.9658678106610546,
          0.9702695670308611,
          0.9745090621115209,
          0.9785842205636739,
          0.9825167077655526,
          0.9863612576164339,
          0.9900441483629838,
          0.9929590972371107,
          0.9946736821366766,
          0.9951503051199749,
          0.9946838035656889,
          0.9936994857648909,
          0.9925104457579317,
          0.9911652825520868,
          0.9897681399992944,
          0.9885057111040797,
          0.9874783880397442,
          0.9867162673017307,
          0.986198583452722,
          0.9858698454621639,
          0.9856519027168684,
          0.985452535721173,
          0.9851716841652567,
          0.9847065667962069,
          0.9839569928172627,
          0.9828322378807361,
          0.9812609630303025,
          0.9792056653332653,
          0.9766827469490322,
          0.973787889108447,
          0.9707231921143775,
          0.9678832169630565,
          0.9660025044952215,
          0.9657874145263456,
          0.9676504040675047,
          0.9715381531871636,
          0.9768852607174102,
          0.9827188913163885,
          0.9880140753641321,
          0.9925089877394335,
          0.9962027403490974,
          0.9991320360209196,
          1.0013486873275834,
          1.0029038501845773,
          1.0038381405268444,
          1.0041760471670305,
          1.0039232053856264,
          1.0030655688770282,
          1.0015700499280311,
          0.9993867175973199,
          0.9964531593723456,
          0.9927021318598608,
          0.9880740836634873,
          0.9825362835540835,
          0.9761095732073162,
          0.968891050377331,
          0.9610208459377818,
          0.9529168783007439,
          0.9453162755694816,
          0.9390253429937103,
          0.9346012327458707,
          0.9321152803517642,
          0.9310994974895999,
          0.9309054548371851,
          0.9313793685076427,
          0.9324568278751324,
          0.9340803779508631,
          0.9362083285503404,
          0.9388190472004685,
          0.9419124545518487,
          0.9455099284915838,
          0.9496532373627387,
          0.9544025923504121,
          0.9598334264400987,
          0.966031024521677,
          0.9730816210775622,
          0.9810581120271555,
          0.9899983507631992,
          0.9998747094451648,
          1.0105562306155444,
          1.0218436261958326,
          1.0335546532002695,
          1.045162882232454,
          1.0558978679369804,
          1.0650788161226772,
          1.072463357943154,
          1.0784378105370471,
          1.0838440715613187,
          1.0889251612751094,
          1.0936625891357994,
          1.098061678466873,
          1.1021407931087661,
          1.1059229647250153,
          1.1094302395769948,
          1.1126801805228372,
          1.1156838793346635,
          1.118444972263914,
          1.1209593529634758,
          1.1232154837860249,
          1.1251954106369737,
          1.1268767936081145,
          1.1282364664874271,
          1.12925617393518,
          1.1299310480244247,
          1.1302805845850536,
          1.1301600154157967,
          1.1290162341920917,
          1.126582736996013,
          1.123008799610007,
          1.118738736668941,
          1.1142713477049118,
          1.1099199120675765,
          1.1057476360765588,
          1.1018926233372466,
          1.0984689059736472,
          1.0955181550379374,
          1.0930319952614114,
          1.0909710835751443,
          1.0892793615762875,
          1.0878938707874108,
          1.0867512259551952,
          1.0857919184245808,
          1.0849634688772176,
          1.084223258076772,
          1.0835416953113264,
          1.0829062157513847,
          1.0823263467068263,
          1.0818396051369863,
          1.0815170998883652,
          1.0814521788255278,
          1.0817078486016798,
          1.0824057290003388,
          1.0837004655869749,
          1.0856895397662811,
          1.0883416187770463,
          1.0914798861049406,
          1.094822040961247,
          1.098175992683688,
          1.1015417419891864,
          1.1049277887493703,
          1.1083369038033744,
          1.111767718302755,
          1.115216058555296,
          1.118675949013657,
          1.1221403256278597,
          1.1256015474512506,
          1.1290518063164718,
          1.1324835366682184,
          1.135889931265071,
          1.1392656745307346,
          1.1426080047865208,
          1.1459181861067462,
          1.1492033668413784,
          1.152478563616273,
          1.1557550397117953,
          1.1590120053348048,
          1.162250855429102,
          1.1654996148412355,
          1.1687926393837376,
          1.1721457304499814,
          1.175539155460143,
          1.1789300794992768,
          1.182321579530886,
          1.185726099333861,
          1.1891499887946315,
          1.1925949000171872,
          1.1960591564418168,
          1.1995388671954506,
          1.2030287480657302,
          1.2065226984130315,
          1.210014213775918,
          1.213496719725049,
          1.2169639123313492,
          1.2204101923561088,
          1.2238312838710454,
          1.2272251251504296,
          1.2305930904494078,
          1.2339415101318394,
          1.237286394297311,
          1.240853470904089,
          1.2451284818589021,
          1.2504457157923123,
          1.2568912331454838,
          1.2643061702353742,
          1.2723805991650838,
          1.280789606437011,
          1.2893000699811357,
          1.297764627179357,
          1.3060944433192105,
          1.3142499646175692,
          1.3222284180557367,
          1.3300524781249772,
          1.3377614064160013,
          1.3454046522590073,
          1.3530373406912406,
          1.3607169026045804,
          1.3685000764442004,
          1.3764395045419082,
          1.3845791198279187,
          1.3929475030575433,
          1.4015485086455564,
          1.410348957431196,
          1.419264470768655,
          1.4281125141421445,
          1.4364928375201098,
          1.4439211437324715,
          1.4499952608762428,
          1.4545463243094519,
          1.4577212396097021,
          1.459953142582943,
          1.4618366144236734,
          1.4637123708689153,
          1.4656432094552516,
          1.4676576498482496,
          1.469763486745784,
          1.4719537373612992,
          1.4742115247967957,
          1.4765136983625107,
          1.478833388603614,
          1.4811418376551686,
          1.483409877340622,
          1.485609430947942,
          1.4877154261195114,
          1.4897085268978594,
          1.4915790871298602,
          1.493332607436714,
          1.4949965837667196,
          1.496627744228433,
          1.4982721464000746,
          1.4998689577900575,
          1.5014374889660573,
          1.503086827374574,
          1.5049392554020091,
          1.5070416637358461,
          1.5093095145531985,
          1.51157724148276,
          1.5138502494387622,
          1.5161699998492912,
          1.5185573837682482,
          1.52101752572279,
          1.5235444453366256,
          1.526124828031584,
          1.528740790991033,
          1.5313718214282392,
          1.5339961620319336,
          1.536591934664452,
          1.539138290382748,
          1.5416168774759709,
          1.5440139281650533,
          1.5463232496028931,
          1.548550297671298,
          1.550717193172805,
          1.5528751839371178,
          1.5552447449480877,
          1.5581701410375932,
          1.5619192701487272,
          1.566604807553034,
          1.5721514199103273,
          1.5783292573490544,
          1.5848347471165436,
          1.5914039361629324,
          1.5979327960377412,
          1.6043770790551535,
          1.6107191482467011,
          1.6169608926784458,
          1.6231175376939524,
          1.6292128990598695,
          1.6352759859276742,
          1.641338596497203,
          1.6474334771943042,
          1.6535926070697515,
          1.659845162990639,
          1.6662147033390577,
          1.672715105706615,
          1.6792204459065248,
          1.6851127639654084,
          1.6897144565192643,
          1.6924820994682561,
          1.693108483712403,
          1.691611412541229,
          1.6883473546141796,
          1.683903342913747,
          1.678899594984151,
          1.6738382202894124,
          1.6690083348720053,
          1.6645040385510361,
          1.660336290038385,
          1.6564730023500542,
          1.652854836717414,
          1.6494067566707702,
          1.6460461843198917,
          1.6426888204114838,
          1.6392531509147839,
          1.6356645325929713,
          1.6318596152223,
          1.6277917308278906,
          1.6234377239465534,
          1.6188064363457921,
          1.6139485866977705,
          1.6089669789968077,
          1.6040247581355809,
          1.599347904560038,
          1.5952167757751143,
          1.591941200861199,
          1.5898156538299504,
          1.589054827675979,
          1.5897038884404262,
          1.5915726915206059,
          1.5941971723661914,
          1.59696644990094,
          1.5997187323632303,
          1.6024323355628174,
          1.6050850221858077,
          1.6076538411539563,
          1.6101149548365155,
          1.6124434738166011,
          1.6146133280313753,
          1.6165972175488377,
          1.6183667079387734,
          1.619892566442302,
          1.6211454781464452,
          1.622097336964915,
          1.6227233710805125,
          1.6230054236427076,
          1.6229367349238444,
          1.6225284972574472,
          1.621818168399968,
          1.6208788781368346,
          1.6198281016131715,
          1.6188321203826932
         ]
        },
        {
         "marker": {
          "color": "rgba(204, 25, 25, 1)"
         },
         "mode": "lines",
         "name": "Auston Matthews",
         "type": "scatter",
         "x": [
          1,
          2,
          3,
          4,
          5,
          6,
          7,
          8,
          9,
          10,
          11,
          12,
          13,
          14,
          15,
          16,
          17,
          18,
          19,
          20,
          21,
          22,
          23,
          24,
          25,
          26,
          27,
          28,
          29,
          30,
          31,
          32,
          33,
          34,
          35,
          36,
          37,
          38,
          39,
          40,
          41,
          42,
          43,
          44,
          45,
          46,
          47,
          48,
          49,
          50,
          51,
          52,
          53,
          54,
          55,
          56,
          57,
          58,
          59,
          60,
          61,
          62,
          63,
          64,
          65,
          66,
          67,
          68,
          69,
          70,
          71,
          72,
          73,
          74,
          75,
          76,
          77,
          78,
          79,
          80,
          81,
          82,
          83,
          84,
          85,
          86,
          87,
          88,
          89,
          90,
          91,
          92,
          93,
          94,
          95,
          96,
          97,
          98,
          99,
          100,
          101,
          102,
          103,
          104,
          105,
          106,
          107,
          108,
          109,
          110,
          111,
          112,
          113,
          114,
          115,
          116,
          117,
          118,
          119,
          120,
          121,
          122,
          123,
          124,
          125,
          126,
          127,
          128,
          129,
          130,
          131,
          132,
          133,
          134,
          135,
          136,
          137,
          138,
          139,
          140,
          141,
          142,
          143,
          144,
          145,
          146,
          147,
          148,
          149,
          150,
          151,
          152,
          153,
          154,
          155,
          156,
          157,
          158,
          159,
          160,
          161,
          162,
          163,
          164,
          165,
          166,
          167,
          168,
          169,
          170,
          171,
          172,
          173,
          174,
          175,
          176,
          177,
          178,
          179,
          180,
          181,
          182,
          183,
          184,
          185,
          186,
          187,
          188,
          189,
          190,
          191,
          192,
          193,
          194,
          195,
          196,
          197,
          198,
          199,
          200,
          201,
          202,
          203,
          204,
          205,
          206,
          207,
          208,
          209,
          210,
          211,
          212,
          213,
          214,
          215,
          216,
          217,
          218,
          219,
          220,
          221,
          222,
          223,
          224,
          225,
          226,
          227,
          228,
          229,
          230,
          231,
          232,
          233,
          234,
          235,
          236,
          237,
          238,
          239,
          240,
          241,
          242,
          243,
          244,
          245,
          246,
          247,
          248,
          249,
          250,
          251,
          252,
          253,
          254,
          255,
          256,
          257,
          258,
          259,
          260,
          261,
          262,
          263,
          264,
          265,
          266,
          267,
          268,
          269,
          270,
          271,
          272,
          273,
          274,
          275,
          276,
          277,
          278,
          279,
          280,
          281,
          282,
          283,
          284,
          285,
          286,
          287,
          288,
          289,
          290,
          291,
          292,
          293,
          294,
          295,
          296,
          297,
          298,
          299,
          300,
          301,
          302,
          303,
          304,
          305,
          306,
          307,
          308,
          309,
          310,
          311,
          312,
          313,
          314,
          315,
          316,
          317,
          318,
          319,
          320,
          321,
          322,
          323,
          324,
          325,
          326,
          327,
          328,
          329,
          330,
          331,
          332,
          333,
          334,
          335,
          336,
          337,
          338,
          339,
          340,
          341,
          342,
          343,
          344,
          345,
          346,
          347,
          348,
          349,
          350,
          351,
          352,
          353,
          354,
          355,
          356,
          357,
          358,
          359,
          360,
          361,
          362,
          363,
          364,
          365,
          366,
          367,
          368,
          369,
          370,
          371,
          372,
          373,
          374,
          375,
          376,
          377,
          378,
          379,
          380,
          381,
          382,
          383,
          384,
          385,
          386,
          387,
          388,
          389,
          390,
          391,
          392,
          393,
          394,
          395,
          396,
          397,
          398,
          399,
          400,
          401,
          402,
          403,
          404,
          405,
          406,
          407,
          408,
          409,
          410,
          411,
          412,
          413,
          414,
          415,
          416,
          417,
          418,
          419,
          420,
          421,
          422,
          423,
          424,
          425,
          426,
          427,
          428,
          429,
          430,
          431,
          432,
          433,
          434,
          435,
          436,
          437,
          438,
          439,
          440,
          441,
          442,
          443,
          444,
          445,
          446,
          447,
          448,
          449,
          450,
          451,
          452,
          453,
          454,
          455,
          456,
          457,
          458,
          459,
          460,
          461,
          462,
          463,
          464,
          465,
          466,
          467,
          468,
          469
         ],
         "y": [
          0.5472380681311348,
          0.5447733725540972,
          0.5426271881302919,
          0.5410052395921453,
          0.5400288300350171,
          0.5397501149752282,
          0.5401707430013004,
          0.5412590509453254,
          0.5429638010123987,
          0.5452241571483181,
          0.5479764077112026,
          0.5511581911873432,
          0.5547109510786529,
          0.558581209533002,
          0.5627210962748883,
          0.5670884370347176,
          0.5716466039208186,
          0.5763642571308714,
          0.5812150572671946,
          0.5861773941877186,
          0.5912341566471088,
          0.5963725530410589,
          0.6014134780355249,
          0.6056643424729716,
          0.6086703997708709,
          0.6103367126178384,
          0.6108349364698635,
          0.6104952329623635,
          0.6097057207931084,
          0.6088383911703332,
          0.6082034209332228,
          0.60802960784194,
          0.6084639202749247,
          0.6095821437476864,
          0.6114040741760888,
          0.6139089948211283,
          0.6170492330877686,
          0.6207610362002564,
          0.624972844375751,
          0.6296114428827491,
          0.6346066164996977,
          0.6398949423237642,
          0.6454233168672765,
          0.6511527510469479,
          0.657062870003557,
          0.6631573671907273,
          0.6694685112045905,
          0.6757575901387304,
          0.6812879775235582,
          0.6855738519356976,
          0.688522275946164,
          0.6904169043479932,
          0.6917735814165614,
          0.6931469197788481,
          0.6949540512293515,
          0.6973644427577419,
          0.7002630892011052,
          0.7033610856607964,
          0.7065973306557448,
          0.7099443094846918,
          0.7133324095282659,
          0.7166626241503353,
          0.7198159161436364,
          0.7226605554118306,
          0.7250590042782977,
          0.7268761193445694,
          0.7279906797970641,
          0.7283124815075896,
          0.7278071740276731,
          0.7265300396357178,
          0.7246669535779874,
          0.7226424301857647,
          0.7213819993359337,
          0.7219877952970293,
          0.7253858551529703,
          0.7320024363002822,
          0.7415505915758811,
          0.7530384791449258,
          0.7649791874920447,
          0.7764002651168265,
          0.787190596100704,
          0.7973395734682962,
          0.8068726566080549,
          0.8158329834686515,
          0.8242683274233842,
          0.8322226044149588,
          0.83973070569363,
          0.8468155633215082,
          0.8534866816069222,
          0.859739729317226,
          0.8655571444129764,
          0.8709100634068168,
          0.8757622571717248,
          0.8800770830610485,
          0.8838285642462027,
          0.8870171703936996,
          0.8895181722171223,
          0.89071926648002,
          0.8902992036091186,
          0.888444126817922,
          0.8857136757387027,
          0.8827465465911905,
          0.8799524526608024,
          0.8774176087612995,
          0.8753029959760984,
          0.8737417526579991,
          0.8727824275931095,
          0.8724155384936148,
          0.8725963664273994,
          0.873261979927332,
          0.8743429004319586,
          0.8757706850363967,
          0.8774827854932785,
          0.87942583212105,
          0.8815582246241522,
          0.8838526684649362,
          0.8862990670078685,
          0.8889079040180108,
          0.891713827018326,
          0.8947784534367532,
          0.8981874672042571,
          0.9019536245309782,
          0.9060115828187159,
          0.9103208968783475,
          0.9148421951125539,
          0.9195081286417971,
          0.9242057933104242,
          0.9287799678738594,
          0.9330877967130174,
          0.9371556572319389,
          0.941040049185608,
          0.9447775182676671,
          0.9483855633543907,
          0.9518649148174657,
          0.9552020617106473,
          0.9583715501016901,
          0.9613379962515967,
          0.9640580247929627,
          0.9664825374315331,
          0.9685599038419264,
          0.9702408689164073,
          0.9714861588475019,
          0.9722778135132226,
          0.9726348787851437,
          0.9726327440905376,
          0.9723266125320901,
          0.9715690090802516,
          0.9704435108170895,
          0.9693010907761436,
          0.9685850942027668,
          0.968596217622681,
          0.9693137485681184,
          0.9703734211909556,
          0.971622383448761,
          0.9731276386372518,
          0.9749175909701233,
          0.976990420019327,
          0.9793253974677137,
          0.9818914856405843,
          0.9846533189834035,
          0.9875751532973636,
          0.9906234466100061,
          0.9937686557739683,
          0.996986718237684,
          1.0002605834916893,
          1.003582061143674,
          1.006954128086741,
          1.0103936229391608,
          1.013933867133623,
          1.0176261200263297,
          1.0215128609529738,
          1.0255213408887607,
          1.0295028333481457,
          1.0332856833771515,
          1.0367148684516014,
          1.039669784637475,
          1.0420525109104544,
          1.043788910631086,
          1.0449408862405063,
          1.045601206906585,
          1.0458440290744533,
          1.045719084279889,
          1.0452505109996528,
          1.0444380325219522,
          1.0432590557914665,
          1.041671034118026,
          1.0396140086759522,
          1.0370136771693548,
          1.0337857203086656,
          1.029842510839244,
          1.0251037359279822,
          1.0195127591781712,
          1.013060385372215,
          1.005816369894018,
          0.9979316228582266,
          0.989340213689097,
          0.98017100862676,
          0.9710402009305701,
          0.9627930155722128,
          0.9561146014682661,
          0.951187327439193,
          0.9475467103023069,
          0.9444923457671885,
          0.941971314992095,
          0.9400068850987535,
          0.9385847909241224,
          0.9376707670260833,
          0.9372233719884009,
          0.9372025260828878,
          0.93757480502572,
          0.9383165156722115,
          0.9394153193361907,
          0.9408708503398098,
          0.9426944597674198,
          0.9449078974723456,
          0.9475404205142881,
          0.950623512810455,
          0.9541822501231975,
          0.9582226601488151,
          0.9626791212337935,
          0.9673043097799509,
          0.9718052570654099,
          0.9759223200501987,
          0.9794949763394419,
          0.9825142279859604,
          0.985136397230081,
          0.9876259490679089,
          0.9901117248604099,
          0.9926383301860512,
          0.9952288335296731,
          0.9978896167748723,
          1.0006151389746023,
          1.0033918452239394,
          1.0062010639591301,
          1.0090210536792874,
          1.011828474385557,
          1.0145995849477207,
          1.0173114714716898,
          1.0199436223184941,
          1.0224801830083772,
          1.0249132191579364,
          1.0272472154709513,
          1.0295047124402494,
          1.0317321862897364,
          1.0339390410668676,
          1.036016403732736,
          1.0379467833709006,
          1.0398145888014083,
          1.041741115492342,
          1.0438003711623316,
          1.0459580971462097,
          1.048101750961321,
          1.0502521956764703,
          1.0524538321014496,
          1.054728242919937,
          1.057079644700277,
          1.059500057880154,
          1.0619734430823549,
          1.064478724131725,
          1.0669919197358946,
          1.0694877058005796,
          1.071940748855253,
          1.0743271534212597,
          1.076626376854846,
          1.07882397618408,
          1.0809155176779721,
          1.0829118037808665,
          1.0848450913401233,
          1.0867659945759767,
          1.0887138037762485,
          1.090779036007982,
          1.093096180069356,
          1.0957838200696277,
          1.098881901665149,
          1.1023167522076789,
          1.105906446898807,
          1.1095060422874756,
          1.1131135720808265,
          1.1167346631717852,
          1.1203711441295314,
          1.124022100648809,
          1.127684761507216,
          1.131355163997233,
          1.1350286270176375,
          1.1387000902049227,
          1.142364385310437,
          1.1460165074558342,
          1.1496519562235592,
          1.1532672204787788,
          1.1568604803792184,
          1.1604325797873367,
          1.1639882536667756,
          1.1675374375285321,
          1.171137938697037,
          1.1750007280276953,
          1.1793137573871693,
          1.1841600708300077,
          1.18950204550497,
          1.1952109306058456,
          1.2011266699992063,
          1.2071184790708651,
          1.2131081732928717,
          1.2190485982785422,
          1.2249156886564192,
          1.2307031795456846,
          1.2364174197511861,
          1.2420731498832098,
          1.2476903918349418,
          1.2532922628673462,
          1.258903412158228,
          1.2645487556512878,
          1.2702521857148137,
          1.2760349254760879,
          1.2819131840105773,
          1.2878947793848505,
          1.2939745072903162,
          1.3001283784588302,
          1.3063062395500131,
          1.3123369949016774,
          1.3178903510664555,
          1.3226750563175387,
          1.3265343715727276,
          1.3294986706000034,
          1.331772338116424,
          1.3336628846343062,
          1.3354628258802559,
          1.3372858372100842,
          1.3391766170808252,
          1.3411550688301608,
          1.3432225895404923,
          1.3453677719903734,
          1.3475708625593055,
          1.3498069809647166,
          1.3520483904602147,
          1.354266193395754,
          1.3564318398802806,
          1.3585188404694621,
          1.360505087576065,
          1.3623761981720228,
          1.3641302310146082,
          1.3657838799308235,
          1.3673796025815057,
          1.3689875106219418,
          1.370711590702717,
          1.3727127863963065,
          1.3751618584005785,
          1.3781667720995625,
          1.3817142307682635,
          1.385655035861468,
          1.389739511085434,
          1.3938282279701326,
          1.3979141944887568,
          1.4019959052650686,
          1.40607294145995,
          1.410145661017469,
          1.414214943799402,
          1.418282002337187,
          1.4223482480608434,
          1.4264151952756567,
          1.4304843833931509,
          1.4345572976453052,
          1.4386352678129743,
          1.4427193233194366,
          1.446809983255523,
          1.4509069661632712,
          1.4550088252171869,
          1.459112561694094,
          1.4632045707783086,
          1.4672570582967048,
          1.4712871108846963,
          1.4753521580588422,
          1.4795233544626694,
          1.483861027823803,
          1.4884042092254235,
          1.493172928048544,
          1.4981621622867927,
          1.5033551662719464,
          1.508733132422078,
          1.5142794723080195,
          1.519982295960911,
          1.5258356222851455,
          1.5318398065272503,
          1.5380015120013346,
          1.544333383550624,
          1.5508534273469072,
          1.557583960299206,
          1.564549849676651,
          1.571775616813474,
          1.5792808559309979,
          1.5870734107015065,
          1.5951400516316083,
          1.6034286109696128,
          1.6117035407048665,
          1.6195498732791693,
          1.6265614008374576,
          1.632459651222271,
          1.637184430024563,
          1.6409088699503676,
          1.6439759102877727,
          1.646745440466242,
          1.649361167236773,
          1.6518894562876683,
          1.6543664361584232,
          1.6568028629023033,
          1.6591894028573528,
          1.6615012296095084,
          1.6637016663404425,
          1.6657450572661767,
          1.6675792873715705,
          1.669148521021242,
          1.6703968764634847,
          1.6712739192100785,
          1.671742998514932,
          1.6717143608289124,
          1.6708756963849216,
          1.6690430052749157,
          1.6662833451733672,
          1.6629184921906273,
          1.6594605060944023,
          1.6564703802585372,
          1.654373898121356,
          1.6533013660916744,
          1.6530322072234964,
          1.6530772725096867,
          1.653250784580611,
          1.6535564920140144,
          1.6539807693932773,
          1.6544980668275995,
          1.6550758665140317,
          1.6556781996340932,
          1.6562681756722473,
          1.6568099644529284,
          1.6572706192992754,
          1.657622075203973,
          1.6578436037649327,
          1.6579249403877159,
          1.6578701848947626,
          1.6577023648800724,
          1.6574681858727205,
          1.6572419378753205,
          1.657126826048676,
          1.6572513483310467,
          1.6577581828932135,
          1.6587839439264163,
          1.660429692364387,
          1.6627175636429694,
          1.6655611540257182,
          1.6687493897438652,
          1.672003685617061,
          1.675247871549234,
          1.6784690372480624,
          1.6816539435804887,
          1.6847889269408556,
          1.6878597963919604,
          1.6908517353093107,
          1.693749224686092,
          1.6965360138541294,
          1.6991951772902545,
          1.7017093147774216,
          1.7040609777866584,
          1.706233438037609,
          1.7082119527969628,
          1.7099857178604196,
          1.7115507142778128,
          1.7129136102901694,
          1.7140967098683113,
          1.7151435518091716,
          1.7161240720317097,
          1.7171372580777315
         ]
        },
        {
         "marker": {
          "color": "rgba(25, 114, 204, 1)"
         },
         "mode": "markers",
         "opacity": 0.15,
         "type": "scatter",
         "x": [
          1,
          2,
          3,
          4,
          5,
          6,
          7,
          8,
          9,
          10,
          11,
          12,
          13,
          14,
          15,
          16,
          17,
          18,
          19,
          20,
          21,
          22,
          23,
          24,
          25,
          26,
          27,
          28,
          29,
          30,
          31,
          32,
          33,
          34,
          35,
          36,
          37,
          38,
          39,
          40,
          41,
          42,
          43,
          44,
          45,
          46,
          47,
          48,
          49,
          50,
          51,
          52,
          53,
          54,
          55,
          56,
          57,
          58,
          59,
          60,
          61,
          62,
          63,
          64,
          65,
          66,
          67,
          68,
          69,
          70,
          71,
          72,
          73,
          74,
          75,
          76,
          77,
          78,
          79,
          80,
          81,
          82,
          83,
          84,
          85,
          86,
          87,
          88,
          89,
          90,
          91,
          92,
          93,
          94,
          95,
          96,
          97,
          98,
          99,
          100,
          101,
          102,
          103,
          104,
          105,
          106,
          107,
          108,
          109,
          110,
          111,
          112,
          113,
          114,
          115,
          116,
          117,
          118,
          119,
          120,
          121,
          122,
          123,
          124,
          125,
          126,
          127,
          128,
          129,
          130,
          131,
          132,
          133,
          134,
          135,
          136,
          137,
          138,
          139,
          140,
          141,
          142,
          143,
          144,
          145,
          146,
          147,
          148,
          149,
          150,
          151,
          152,
          153,
          154,
          155,
          156,
          157,
          158,
          159,
          160,
          161,
          162,
          163,
          164,
          165,
          166,
          167,
          168,
          169,
          170,
          171,
          172,
          173,
          174,
          175,
          176,
          177,
          178,
          179,
          180,
          181,
          182,
          183,
          184,
          185,
          186,
          187,
          188,
          189,
          190,
          191,
          192,
          193,
          194,
          195,
          196,
          197,
          198,
          199,
          200,
          201,
          202,
          203,
          204,
          205,
          206,
          207,
          208,
          209,
          210,
          211,
          212,
          213,
          214,
          215,
          216,
          217,
          218,
          219,
          220,
          221,
          222,
          223,
          224,
          225,
          226,
          227,
          228,
          229,
          230,
          231,
          232,
          233,
          234,
          235,
          236,
          237,
          238,
          239,
          240,
          241,
          242,
          243,
          244,
          245,
          246,
          247,
          248,
          249,
          250,
          251,
          252,
          253,
          254,
          255,
          256,
          257,
          258,
          259,
          260,
          261,
          262,
          263,
          264,
          265,
          266,
          267,
          268,
          269,
          270,
          271,
          272,
          273,
          274,
          275,
          276,
          277,
          278,
          279,
          280,
          281,
          282,
          283,
          284,
          285,
          286,
          287,
          288,
          289,
          290,
          291,
          292,
          293,
          294,
          295,
          296,
          297,
          298,
          299,
          300,
          301,
          302,
          303,
          304,
          305,
          306,
          307,
          308,
          309,
          310,
          311,
          312,
          313,
          314,
          315,
          316,
          317,
          318,
          319,
          320,
          321,
          322,
          323,
          324,
          325,
          326,
          327,
          328,
          329,
          330,
          331,
          332,
          333,
          334,
          335,
          336,
          337,
          338,
          339,
          340,
          341,
          342,
          343,
          344,
          345,
          346,
          347,
          348,
          349,
          350,
          351,
          352,
          353,
          354,
          355,
          356,
          357,
          358,
          359,
          360,
          361,
          362,
          363,
          364,
          365,
          366,
          367,
          368,
          369,
          370,
          371,
          372,
          373,
          374,
          375,
          376,
          377,
          378,
          379,
          380,
          381,
          382,
          383,
          384,
          385,
          386,
          387,
          388,
          389,
          390,
          391,
          392,
          393,
          394,
          395,
          396,
          397,
          398,
          399,
          400,
          401,
          402,
          403,
          404,
          405,
          406,
          407,
          408,
          409,
          410,
          411,
          412,
          413,
          414,
          415,
          416,
          417,
          418,
          419,
          420,
          421,
          422,
          423,
          424,
          425,
          426,
          427,
          428,
          429,
          430,
          431,
          432,
          433,
          434,
          435,
          436,
          437,
          438,
          439,
          440,
          441,
          442,
          443,
          444,
          445,
          446,
          447,
          448,
          449,
          450,
          451,
          452,
          453,
          454,
          455,
          456,
          457,
          458,
          459,
          460,
          461,
          462,
          463,
          464,
          465,
          466,
          467,
          468,
          469,
          470,
          471,
          472,
          473,
          474,
          475,
          476,
          477,
          478,
          479,
          480,
          481,
          482,
          483,
          484,
          485,
          486,
          487,
          488,
          489,
          490,
          491,
          492,
          493,
          494,
          495,
          496,
          497,
          498,
          499,
          500,
          501,
          502,
          503,
          504,
          505,
          506,
          507,
          508,
          509,
          510,
          511,
          512,
          513,
          514,
          515,
          516,
          517,
          518,
          519,
          520,
          521,
          522,
          523,
          524,
          525,
          526,
          527,
          528,
          529,
          530,
          531,
          532,
          533,
          534,
          535,
          536,
          537,
          538,
          539,
          540,
          541,
          542,
          543,
          544,
          545,
          546,
          547,
          548,
          549,
          550,
          551,
          552,
          553,
          554,
          555,
          556,
          557,
          558
         ],
         "y": [
          0.021729121558969177,
          0.07157838137035945,
          0.05543957627115913,
          -0.11093746434394637,
          0.20012465284861725,
          0.24358940551390587,
          0.3545769465457159,
          0.39307217360139296,
          0.477021169751139,
          0.4533115818182345,
          0.5899329678792018,
          0.4723420513888692,
          0.42748510147084773,
          0.5744503954008682,
          0.6444147419738983,
          0.6245931532099519,
          0.6178286445158688,
          0.667244661185269,
          0.9120473801717541,
          0.8401851031552984,
          0.8217546610109101,
          0.8335114932693511,
          0.7874879138124325,
          0.8110401327026762,
          0.7170355690682281,
          0.6878571082250883,
          0.7283259415859052,
          0.7950091718220158,
          0.8401409062288756,
          0.8833818543117429,
          0.8662080789234233,
          0.8548118305737863,
          0.8627565532142473,
          0.8066546509304114,
          0.8205789675304841,
          0.813454292055452,
          0.8247533444556505,
          0.8247855093367024,
          0.8183526136454574,
          0.9063954688414633,
          0.9706223486567519,
          0.9099423884678974,
          0.8205798675935976,
          0.9099990015518028,
          0.8541165090635506,
          0.9793841008381378,
          1.0512723403856874,
          1.0024630270772497,
          0.9973888771041582,
          1.0554144172971334,
          1.0585945695237178,
          1.129212912442784,
          1.110498718826951,
          1.095344391566577,
          1.0206851960338443,
          0.9562751756085293,
          0.9176698185726146,
          0.9248183790652532,
          1.022001782110809,
          0.9987886891554176,
          1.0342161758539834,
          1.0147473098415425,
          0.9519595448545461,
          1.0523115208690579,
          1.0761122354612769,
          1.180143301794185,
          1.185897043396313,
          1.2094591265829113,
          1.2619625992582137,
          1.3112484170584,
          1.2835806837644053,
          1.1945257565878613,
          1.2244988252215248,
          1.2271456524138424,
          1.1819976156128917,
          1.1365842987913088,
          1.113535586746382,
          1.0732009645465574,
          1.07950011312078,
          1.0473643021988788,
          1.1034811717127473,
          1.0802169205791048,
          1.0944468975067139,
          1.0847727060317993,
          1.0692178010940552,
          1.058538556098938,
          1.078539490699768,
          1.0845774412155151,
          1.1097259521484375,
          1.1147602796554565,
          1.1033812761306763,
          1.1105637550354004,
          1.0932385921478271,
          1.1062672138214111,
          1.1084527969360352,
          1.0919020175933838,
          1.0999010801315308,
          1.1120232343673706,
          1.1109864711761475,
          1.094692587852478,
          1.0879625082015991,
          1.085078477859497,
          1.0974342823028564,
          1.1203144788742065,
          1.1554261445999146,
          1.1449172496795654,
          1.1362969875335693,
          1.1321884393692017,
          1.1412112712860107,
          1.1341496706008911,
          1.1389131546020508,
          1.1481943130493164,
          1.14243745803833,
          1.1329610347747803,
          1.1162354946136475,
          1.1026891469955444,
          1.1148558855056763,
          1.1628973484039307,
          1.1885570287704468,
          1.1879931688308716,
          1.1930055618286133,
          1.1925818920135498,
          1.1965832710266113,
          1.220603346824646,
          1.237861156463623,
          1.2101874351501465,
          1.2192182540893555,
          1.2292965650558472,
          1.2806347608566284,
          1.3083343505859375,
          1.2859011888504028,
          1.2644574642181396,
          1.2705141305923462,
          1.2687844038009644,
          1.283176064491272,
          1.2728650569915771,
          1.285538673400879,
          1.3091038465499878,
          1.2883045673370361,
          1.2866909503936768,
          1.2826049327850342,
          1.2655812501907349,
          1.2563227415084839,
          1.2543686628341675,
          1.2316687107086182,
          1.2327743768692017,
          1.279890537261963,
          1.247563123703003,
          1.2207967042922974,
          1.2095366716384888,
          1.2094513177871704,
          1.1921101808547974,
          1.1937788724899292,
          1.179074764251709,
          1.1649433374404907,
          1.1838648319244385,
          1.1972919702529907,
          1.1971275806427002,
          1.202248215675354,
          1.2213459014892578,
          1.2178279161453247,
          1.2207345962524414,
          1.2264045476913452,
          1.214898943901062,
          1.2152491807937622,
          1.2088173627853394,
          1.2160754203796387,
          1.2042548656463623,
          1.2097007036209106,
          1.218756914138794,
          1.2147784233093262,
          1.1993550062179565,
          1.208071231842041,
          1.2114185094833374,
          1.2067291736602783,
          1.2055965662002563,
          1.1971886157989502,
          1.2206145524978638,
          1.2401825189590454,
          1.27871835231781,
          1.2836884260177612,
          1.2683463096618652,
          1.267962098121643,
          1.2668557167053223,
          1.2473584413528442,
          1.233101725578308,
          1.2614917755126953,
          1.2544076442718506,
          1.2609351873397827,
          1.2625559568405151,
          1.2790151834487915,
          1.275203824043274,
          1.2762175798416138,
          1.2740890979766846,
          1.2729607820510864,
          1.2732534408569336,
          1.2571161985397339,
          1.2596412897109985,
          1.2753301858901978,
          1.270661473274231,
          1.24677574634552,
          1.2459163665771484,
          1.2857786417007446,
          1.3003721237182617,
          1.3038569688796997,
          1.2991681098937988,
          1.3082247972488403,
          1.2772612571716309,
          1.2635408639907837,
          1.2794877290725708,
          1.2784632444381714,
          1.2804592847824097,
          1.2805917263031006,
          1.3008232116699219,
          1.32730233669281,
          1.3201828002929688,
          1.312199592590332,
          1.3110538721084595,
          1.3168336153030396,
          1.3146768808364868,
          1.3275548219680786,
          1.3286550045013428,
          1.332089900970459,
          1.3435814380645752,
          1.3379695415496826,
          1.321641206741333,
          1.3168113231658936,
          1.3056225776672363,
          1.3178424835205078,
          1.3206599950790405,
          1.306715726852417,
          1.327837586402893,
          1.3234705924987793,
          1.3198330402374268,
          1.305470585823059,
          1.297834873199463,
          1.2873117923736572,
          1.2892383337020874,
          1.3042056560516357,
          1.2978376150131226,
          1.3206855058670044,
          1.304033875465393,
          1.2960566282272339,
          1.2684968709945679,
          1.2668004035949707,
          1.2608627080917358,
          1.2766785621643066,
          1.2847572565078735,
          1.2961857318878174,
          1.2892272472381592,
          1.2671599388122559,
          1.2552978992462158,
          1.2523560523986816,
          1.2655287981033325,
          1.250113844871521,
          1.2476003170013428,
          1.2428349256515503,
          1.20802640914917,
          1.227428674697876,
          1.2319906949996948,
          1.2244056463241577,
          1.2247107028961182,
          1.222656488418579,
          1.2102628946304321,
          1.204485297203064,
          1.2033843994140625,
          1.2121318578720093,
          1.2057318687438965,
          1.1878383159637451,
          1.2074029445648193,
          1.2303805351257324,
          1.2218959331512451,
          1.22735595703125,
          1.2153657674789429,
          1.2165111303329468,
          1.2208982706069946,
          1.2216224670410156,
          1.2018195390701294,
          1.2022656202316284,
          1.2112796306610107,
          1.2255935668945312,
          1.231032133102417,
          1.2430025339126587,
          1.2082901000976562,
          1.2115693092346191,
          1.1943150758743286,
          1.1687523126602173,
          1.1719545125961304,
          1.1785866022109985,
          1.2014154195785522,
          1.2092907428741455,
          1.2214547395706177,
          1.2236862182617188,
          1.2215960025787354,
          1.2186137437820435,
          1.2113264799118042,
          1.2006016969680786,
          1.2025477886199951,
          1.2177174091339111,
          1.2161532640457153,
          1.2223517894744873,
          1.2213718891143799,
          1.2010440826416016,
          1.2026287317276,
          1.198420524597168,
          1.1982202529907227,
          1.197050929069519,
          1.203849196434021,
          1.2260879278182983,
          1.2596172094345093,
          1.2693253755569458,
          1.2526997327804565,
          1.2662911415100098,
          1.2420603036880493,
          1.2265650033950806,
          1.231379747390747,
          1.2362117767333984,
          1.210583209991455,
          1.2094924449920654,
          1.204805612564087,
          1.2085343599319458,
          1.2030439376831055,
          1.1725894212722778,
          1.1701856851577759,
          1.1468745470046997,
          1.150355339050293,
          1.146103024482727,
          1.1391401290893555,
          1.137839913368225,
          1.1373428106307983,
          1.1412886381149292,
          1.1604810953140259,
          1.1896600723266602,
          1.1835678815841675,
          1.1774253845214844,
          1.1785491704940796,
          1.1783839464187622,
          1.1371456384658813,
          1.1613056659698486,
          1.15557062625885,
          1.1322243213653564,
          1.128881573677063,
          1.1089904308319092,
          1.1053552627563477,
          1.1316161155700684,
          1.1319465637207031,
          1.143860936164856,
          1.1606525182724,
          1.1421605348587036,
          1.1243120431900024,
          1.1238137483596802,
          1.1150447130203247,
          1.124483585357666,
          1.1657027006149292,
          1.1547387838363647,
          1.1315624713897705,
          1.1480820178985596,
          1.1668308973312378,
          1.2059168815612793,
          1.2062110900878906,
          1.2197030782699585,
          1.2559218406677246,
          1.2689851522445679,
          1.2751206159591675,
          1.281162977218628,
          1.2709764242172241,
          1.261438012123108,
          1.2693917751312256,
          1.28231942653656,
          1.304736614227295,
          1.3039075136184692,
          1.3359501361846924,
          1.335632085800171,
          1.3203763961791992,
          1.286288857460022,
          1.2803322076797485,
          1.2762328386306763,
          1.28556227684021,
          1.329384684562683,
          1.3448688983917236,
          1.3618361949920654,
          1.36250638961792,
          1.344507098197937,
          1.370595932006836,
          1.400091290473938,
          1.4205741882324219,
          1.4549592733383179,
          1.411949634552002,
          1.3670471906661987,
          1.35767662525177,
          1.3532053232192993,
          1.36324942111969,
          1.356365442276001,
          1.3475054502487183,
          1.3559801578521729,
          1.3605495691299438,
          1.406870722770691,
          1.4202961921691895,
          1.4172452688217163,
          1.4029426574707031,
          1.4270539283752441,
          1.4673749208450317,
          1.4652440547943115,
          1.4795047044754028,
          1.4808555841445923,
          1.487074613571167,
          1.4893872737884521,
          1.4883023500442505,
          1.4818469285964966,
          1.4772238731384277,
          1.4955356121063232,
          1.5310837030410767,
          1.5337083339691162,
          1.5318831205368042,
          1.553800106048584,
          1.5284183025360107,
          1.5304993391036987,
          1.5566368103027344,
          1.5539557933807373,
          1.5268840789794922,
          1.524922490119934,
          1.4899139404296875,
          1.4905376434326172,
          1.489593505859375,
          1.519161581993103,
          1.4988517761230469,
          1.5441049337387085,
          1.4930591583251953,
          1.551050066947937,
          1.5466279983520508,
          1.550546407699585,
          1.5260828733444214,
          1.5452786684036255,
          1.516562819480896,
          1.4835652112960815,
          1.489892601966858,
          1.5214309692382812,
          1.5187636613845825,
          1.5194844007492065,
          1.5187019109725952,
          1.5131676197052002,
          1.4834632873535156,
          1.4875857830047607,
          1.48237943649292,
          1.4882692098617554,
          1.494004726409912,
          1.4908651113510132,
          1.4919230937957764,
          1.4900296926498413,
          1.4760558605194092,
          1.4850645065307617,
          1.4896671772003174,
          1.4934340715408325,
          1.4934483766555786,
          1.524481177330017,
          1.5183677673339844,
          1.5227848291397095,
          1.5231573581695557,
          1.522339105606079,
          1.5276288986206055,
          1.5259902477264404,
          1.517606496810913,
          1.5194318294525146,
          1.4968849420547485,
          1.498197317123413,
          1.5210384130477905,
          1.5248868465423584,
          1.5572049617767334,
          1.5542734861373901,
          1.5473246574401855,
          1.5596261024475098,
          1.5441843271255493,
          1.5272899866104126,
          1.5588794946670532,
          1.5658243894577026,
          1.5691864490509033,
          1.5873929262161255,
          1.5639880895614624,
          1.5919232368469238,
          1.5665260553359985,
          1.554349660873413,
          1.5561538934707642,
          1.5576558113098145,
          1.5671823024749756,
          1.5946924686431885,
          1.604299545288086,
          1.612194299697876,
          1.6080574989318848,
          1.6111785173416138,
          1.604736089706421,
          1.6021291017532349,
          1.6063982248306274,
          1.5929749011993408,
          1.5927318334579468,
          1.5967730283737183,
          1.6025580167770386,
          1.6124393939971924,
          1.6223177909851074,
          1.6140458583831787,
          1.6229671239852905,
          1.6203113794326782,
          1.6175721883773804,
          1.617184042930603,
          1.5906983613967896,
          1.5891963243484497,
          1.5880529880523682,
          1.5614407062530518,
          1.5493072271347046,
          1.5570544004440308,
          1.5657901763916016,
          1.5872042179107666,
          1.5986219644546509,
          1.5907496213912964,
          1.59710693359375,
          1.604697585105896,
          1.5953152179718018,
          1.6027652025222778,
          1.6171423196792603,
          1.606618046760559,
          1.6167315244674683,
          1.60577392578125,
          1.6070964336395264,
          1.59322190284729,
          1.6013753414154053,
          1.6170672178268433,
          1.6189236640930176,
          1.6227542161941528,
          1.616067886352539,
          1.6155884265899658,
          1.608992576599121,
          1.621984839439392,
          1.6315991878509521,
          1.630940556526184,
          1.625152587890625,
          1.6302502155303955,
          1.6476657390594482,
          1.6255522966384888,
          1.6518257856369019,
          1.655420184135437,
          1.6578952074050903,
          1.652474045753479,
          1.625142216682434,
          1.6566158533096313,
          1.6544220447540283,
          1.635097861289978,
          1.660229206085205,
          1.7322957515716553,
          1.7272813320159912,
          1.7407875061035156,
          1.7365498542785645,
          1.729303002357483,
          1.733364224433899,
          1.7261515855789185,
          1.7330541610717773,
          1.731345295906067,
          1.7256524562835693,
          1.7282418012619019,
          1.742617130279541
         ]
        },
        {
         "marker": {
          "color": "rgba(25, 114, 204, 0.05)"
         },
         "type": "scatter",
         "x": [
          0,
          1,
          2,
          3,
          4,
          5,
          6,
          7,
          8,
          9,
          10,
          11,
          12,
          13,
          14,
          15,
          16,
          17,
          18,
          19,
          20,
          21,
          22,
          23,
          24,
          25,
          26,
          27,
          28,
          29,
          30,
          31,
          32,
          33,
          34,
          35,
          36,
          37,
          38,
          39,
          40,
          41,
          42,
          43,
          44,
          45,
          46,
          47,
          48,
          49,
          50,
          51,
          52,
          53,
          54,
          55,
          56,
          57,
          58,
          59,
          60,
          61,
          62,
          63,
          64,
          65,
          66,
          67,
          68,
          69,
          70,
          71,
          72,
          73,
          74,
          75,
          76,
          77,
          78,
          79,
          80,
          81,
          82,
          83,
          84,
          85,
          86,
          87,
          88,
          89,
          90,
          91,
          92,
          93,
          94,
          95,
          96,
          97,
          98,
          99,
          100,
          101,
          102,
          103,
          104,
          105,
          106,
          107,
          108,
          109,
          110,
          111,
          112,
          113,
          114,
          115,
          116,
          117,
          118,
          119,
          120,
          121,
          122,
          123,
          124,
          125,
          126,
          127,
          128,
          129,
          130,
          131,
          132,
          133,
          134,
          135,
          136,
          137,
          138,
          139,
          140,
          141,
          142,
          143,
          144,
          145,
          146,
          147,
          148,
          149,
          150,
          151,
          152,
          153,
          154,
          155,
          156,
          157,
          158,
          159,
          160,
          161,
          162,
          163,
          164,
          165,
          166,
          167,
          168,
          169,
          170,
          171,
          172,
          173,
          174,
          175,
          176,
          177,
          178,
          179,
          180,
          181,
          182,
          183,
          184,
          185,
          186,
          187,
          188,
          189,
          190,
          191,
          192,
          193,
          194,
          195,
          196,
          197,
          198,
          199,
          200,
          201,
          202,
          203,
          204,
          205,
          206,
          207,
          208,
          209,
          210,
          211,
          212,
          213,
          214,
          215,
          216,
          217,
          218,
          219,
          220,
          221,
          222,
          223,
          224,
          225,
          226,
          227,
          228,
          229,
          230,
          231,
          232,
          233,
          234,
          235,
          236,
          237,
          238,
          239,
          240,
          241,
          242,
          243,
          244,
          245,
          246,
          247,
          248,
          249,
          250,
          251,
          252,
          253,
          254,
          255,
          256,
          257,
          258,
          259,
          260,
          261,
          262,
          263,
          264,
          265,
          266,
          267,
          268,
          269,
          270,
          271,
          272,
          273,
          274,
          275,
          276,
          277,
          278,
          279,
          280,
          281,
          282,
          283,
          284,
          285,
          286,
          287,
          288,
          289,
          290,
          291,
          292,
          293,
          294,
          295,
          296,
          297,
          298,
          299,
          300,
          301,
          302,
          303,
          304,
          305,
          306,
          307,
          308,
          309,
          310,
          311,
          312,
          313,
          314,
          315,
          316,
          317,
          318,
          319,
          320,
          321,
          322,
          323,
          324,
          325,
          326,
          327,
          328,
          329,
          330,
          331,
          332,
          333,
          334,
          335,
          336,
          337,
          338,
          339,
          340,
          341,
          342,
          343,
          344,
          345,
          346,
          347,
          348,
          349,
          350,
          351,
          352,
          353,
          354,
          355,
          356,
          357,
          358,
          359,
          360,
          361,
          362,
          363,
          364,
          365,
          366,
          367,
          368,
          369,
          370,
          371,
          372,
          373,
          374,
          375,
          376,
          377,
          378,
          379,
          380,
          381,
          382,
          383,
          384,
          385,
          386,
          387,
          388,
          389,
          390,
          391,
          392,
          393,
          394,
          395,
          396,
          397,
          398,
          399,
          400,
          401,
          402,
          403,
          404,
          405,
          406,
          407,
          408,
          409,
          410,
          411,
          412,
          413,
          414,
          415,
          416,
          417,
          418,
          419,
          420,
          421,
          422,
          423,
          424,
          425,
          426,
          427,
          428,
          429,
          430,
          431,
          432,
          433,
          434,
          435,
          436,
          437,
          438,
          439,
          440,
          441,
          442,
          443,
          444,
          445,
          446,
          447,
          448,
          449,
          450,
          451,
          452,
          453,
          454,
          455,
          456,
          457,
          458,
          459,
          460,
          461,
          462,
          463,
          464,
          465,
          466,
          467,
          468,
          469,
          470,
          471,
          472,
          473,
          474,
          475,
          476,
          477,
          478,
          479,
          480,
          481,
          482,
          483,
          484,
          485,
          486,
          487,
          488,
          489,
          490,
          491,
          492,
          493,
          494,
          495,
          496,
          497,
          498,
          499,
          500,
          501,
          502,
          503,
          504,
          505,
          506,
          507,
          508,
          509,
          510,
          511,
          512,
          513,
          514,
          515,
          516,
          517,
          518,
          519,
          520,
          521,
          522,
          523,
          524,
          525,
          526,
          527,
          528,
          529,
          530,
          531,
          532,
          533,
          534,
          535,
          536,
          537,
          538,
          539,
          540,
          541,
          542,
          543,
          544,
          545,
          546,
          547,
          548,
          549,
          550,
          551,
          552,
          553,
          554,
          555,
          556,
          557
         ],
         "y": [
          0.3989395320696883,
          0.4194054283565267,
          0.43979027926872394,
          0.4600356046580965,
          0.48010183529939615,
          0.4999664569675657,
          0.519620822331676,
          0.5390666457764492,
          0.5583127841149352,
          0.5773725776083277,
          0.5962618120152897,
          0.6149972473402316,
          0.6335956117304211,
          0.6520729512556553,
          0.6704442378423132,
          0.6887231560921578,
          0.70692200858025,
          0.7250516956267652,
          0.7431217386214919,
          0.7611403258704856,
          0.7791143671395595,
          0.7970495481798063,
          0.8149503800761735,
          0.8328202407055663,
          0.8506614072716767,
          0.8684750800611505,
          0.8863005064889939,
          0.9044698840121612,
          0.9232898173881684,
          0.9428577176865371,
          0.9631102621500056,
          0.9838759544245934,
          1.004925784997084,
          1.0260151213233997,
          1.0469156100556056,
          1.0674350874311709,
          1.0874265188440746,
          1.106788507357856,
          1.1254603589252103,
          1.1434143692049148,
          1.160647306321646,
          1.1771723264544116,
          1.1930119513813324,
          1.208192315358001,
          1.2227386390537285,
          1.2366717694119231,
          1.2500055933551968,
          1.262745157088109,
          1.274885380527389,
          1.286410338015473,
          1.2972931794694298,
          1.3074968916471086,
          1.3169762465594022,
          1.3256814418411582,
          1.3335640698941233,
          1.3405857690893206,
          1.3463968455430093,
          1.3498640264933388,
          1.3501446086295374,
          1.3469801019639145,
          1.3407360318277628,
          1.3322962903773359,
          1.3228273257406442,
          1.313490660719515,
          1.3051886405240039,
          1.2984040501895642,
          1.2931387958300968,
          1.28906127016527,
          1.286093782623613,
          1.284207310791785,
          1.2833282158818469,
          1.2833575218498106,
          1.284184933082905,
          1.285698672122361,
          1.2877923149386108,
          1.2903696831418596,
          1.2933486688459028,
          1.2966646839765439,
          1.300274254904506,
          1.304159105281721,
          1.308330839759785,
          1.3128359933361775,
          1.3177606707484104,
          1.3232332185217395,
          1.3294224046593819,
          1.336344313705005,
          1.3433838109545564,
          1.349983551634168,
          1.3558399257131732,
          1.360876236899666,
          1.3651569254463767,
          1.368770361048745,
          1.371720219700564,
          1.3739525509298907,
          1.3757053173368958,
          1.3772368600793832,
          1.3787216624302627,
          1.3802588771544408,
          1.3818850780576022,
          1.3835873852228195,
          1.385315055461798,
          1.3869889236604362,
          1.3885088253070716,
          1.3897595136150191,
          1.3906157743308625,
          1.3909475546780827,
          1.3906260273470532,
          1.3895316298128781,
          1.387565231632645,
          1.384663604319116,
          1.3808201255638584,
          1.3761108449159762,
          1.3707242542334135,
          1.3649899242361097,
          1.359527863151617,
          1.3558692318104437,
          1.3556391937260257,
          1.3599460788800386,
          1.3691333262683834,
          1.3826758411266795,
          1.3992800604400932,
          1.4171348419254415,
          1.4344536148045157,
          1.4505885415650188,
          1.4653187833491337,
          1.478548229019984,
          1.490270649991919,
          1.5005373546355028,
          1.5094308708752244,
          1.5170452878130736,
          1.5234724592363527,
          1.5287927945479494,
          1.5330693916076763,
          1.536344514423845,
          1.538637735669774,
          1.5399453880381406,
          1.5402412869287267,
          1.5394790073245663,
          1.537596324473189,
          1.5345227380406055,
          1.5301912083651268,
          1.5245551523782126,
          1.5176110469951571,
          1.5094243518643333,
          1.5000115764945094,
          1.4893003276938521,
          1.4775284140259841,
          1.4652256515781816,
          1.45304648995313,
          1.4415362327508867,
          1.4309229842843225,
          1.421005247850254,
          1.4115687250096383,
          1.4026792504519157,
          1.3943751716118356,
          1.3866604156916886,
          1.3795170500616958,
          1.372915705422511,
          1.3668234071558087,
          1.3612090461504271,
          1.3560469732213667,
          1.3513192131911924,
          1.3470166976500981,
          1.3431397815572388,
          1.3396981691843985,
          1.3367102374027808,
          1.334201607531687,
          1.3322026806217937,
          1.3307447268226134,
          1.3298540450946799,
          1.3295437665417964,
          1.3298032034888065,
          1.3305854367309529,
          1.3317485541866332,
          1.3329556753892564,
          1.3338964107569444,
          1.334359451585292,
          1.3342595779368736,
          1.3336576901886807,
          1.3327645139658995,
          1.3319288721380769,
          1.3315454825511601,
          1.33173522099604,
          1.3325097738549494,
          1.3338563881028787,
          1.3357489840312202,
          1.3381569281683272,
          1.3410513193435438,
          1.3444091539764842,
          1.3482158804855402,
          1.3524668037460374,
          1.357167672390835,
          1.3623346317618452,
          1.367993574317632,
          1.3741787694066872,
          1.3809305022212202,
          1.3882912999438795,
          1.3963001928978878,
          1.404984407966841,
          1.4143480377922268,
          1.4243577645386116,
          1.4349268869569138,
          1.445863923572078,
          1.4567300296414247,
          1.4669884942317215,
          1.4761395567175113,
          1.4838383627515535,
          1.4899957191154904,
          1.4948214979443784,
          1.4987996877332814,
          1.5025126155116526,
          1.5061676889138498,
          1.5098391023496573,
          1.5135749268093839,
          1.5174007151334994,
          1.5213240752320396,
          1.5253390908041125,
          1.5294300754249681,
          1.533574530668036,
          1.5377453857914383,
          1.5419126899348035,
          1.5460449615382788,
          1.550110409638365,
          1.5540782479164077,
          1.5579203329133353,
          1.5616133702985202,
          1.5651419331585115,
          1.5685024929846934,
          1.5717085237182293,
          1.5747964238571566,
          1.5778314252742809,
          1.5809048841445141,
          1.5836995021721711,
          1.5853737485440487,
          1.585391016834813,
          1.583618115025166,
          1.5802693717602543,
          1.5757415768219256,
          1.5704080993097207,
          1.5644511780926555,
          1.558094832797523,
          1.5516725725386251,
          1.54542150737807,
          1.5394843501653055,
          1.5339258089635042,
          1.5287503850682356,
          1.5239184007039426,
          1.519359051794321,
          1.5149804313738815,
          1.5106770348873484,
          1.5063354837914011,
          1.501839267873573,
          1.4970733191319665,
          1.4919292456784177,
          1.4863120856425507,
          1.4801494615943915,
          1.4734039494951165,
          1.4660891784016608,
          1.4582894192923277,
          1.45018090764533,
          1.4420506259716133,
          1.43422830334783,
          1.4269337149169916,
          1.4205842251463512,
          1.415724990110002,
          1.412808484056662,
          1.4119744526727311,
          1.4129177217254485,
          1.4148765686216997,
          1.4169350509228988,
          1.4189542694946946,
          1.4210008891977397,
          1.4231169429195105,
          1.4253235934675663,
          1.4276256125336184,
          1.430015588805324,
          1.4324774407785164,
          1.4349891557356695,
          1.4375248558632983,
          1.4400563697372366,
          1.4425545130762378,
          1.4449902891752369,
          1.447336223934761,
          1.4495680582651338,
          1.4516670265302825,
          1.4536229354877113,
          1.4554381882203913,
          1.4571327140316028,
          1.4587493915112602,
          1.4603589195583981,
          1.4619617604532804,
          1.4632415982103724,
          1.4639636456128264,
          1.4640831745632656,
          1.4637115676733923,
          1.4630348228815668,
          1.462207548039273,
          1.461263243032181,
          1.4601342428930875,
          1.4589279996937576,
          1.4577722782273872,
          1.4567485709177683,
          1.455898901849898,
          1.4552341229469345,
          1.454741799667235,
          1.4543928412662501,
          1.4541466905918239,
          1.4539552366138402,
          1.4537657657639251,
          1.4535233201274373,
          1.4531728433929738,
          1.4526615031869674,
          1.451941593749854,
          1.4509744401524483,
          1.4497357173909347,
          1.4482225081696343,
          1.4464621558570854,
          1.4445223875884838,
          1.4425211435982583,
          1.4406219334146184,
          1.4386922696471827,
          1.4363523462255108,
          1.4334648619379502,
          1.4301153055096614,
          1.426506609252925,
          1.4228074048548824,
          1.419017375037724,
          1.4149168807527304,
          1.4105230687497463,
          1.4060495630350198,
          1.401648381406523,
          1.3974113201113547,
          1.39338014401457,
          1.389557678557365,
          1.3859178255614364,
          1.3824137486764514,
          1.3789841914199883,
          1.3755582484221265,
          1.3720590592844595,
          1.3684069452570806,
          1.3645225297612198,
          1.360330408575713,
          1.3557639710823897,
          1.3507720000898726,
          1.3453276389417554,
          1.3394401055453298,
          1.33316898607046,
          1.3266398394838497,
          1.3200580058909557,
          1.3136828678820864,
          1.3077800597706433,
          1.3027563722870843,
          1.299071190947401,
          1.297067262414916,
          1.296815680797392,
          1.2980387103933881,
          1.3001245689799314,
          1.3023908622581688,
          1.304718432814078,
          1.3071187922841572,
          1.309596817906735,
          1.3121526379994863,
          1.314783347921329,
          1.3174843899836257,
          1.3202505768344384,
          1.3230768070888317,
          1.3259585432376166,
          1.3288921183565665,
          1.3318749243223045,
          1.3349055174899784,
          1.3379836609503033,
          1.3411103059838376,
          1.344287498649772,
          1.3475181803183947,
          1.3508058347146235,
          1.354153923477723,
          1.357565057912188,
          1.3610398943177804,
          1.3647432551084917,
          1.3694303293096337,
          1.3757815182752444,
          1.3841455465164878,
          1.3945017717893482,
          1.4065232988173686,
          1.4197283854256364,
          1.4336594825798472,
          1.4479954542194293,
          1.4624502102859998,
          1.4767996660002094,
          1.490901860525826,
          1.5046845787738303,
          1.5181304640277178,
          1.5312629568553329,
          1.54413451972931,
          1.556817444679249,
          1.569396933271821,
          1.5819658748718926,
          1.5946206623685957,
          1.6074573653051325,
          1.620567569482998,
          1.6340331684970368,
          1.647919368462574,
          1.6622651932751293,
          1.677070958267001,
          1.6922826892930534,
          1.7077745439396772,
          1.723332183549069,
          1.7386528416236346,
          1.7534907489957705,
          1.7674791339371152,
          1.7800199891163428,
          1.7905117393311571,
          1.7985972657401703,
          1.8043412414725866,
          1.8082674904696385,
          1.8111922380159964,
          1.8134058343399269,
          1.8149122276879504,
          1.8157390886088431,
          1.815926502931573,
          1.815516779786667,
          1.814547358380541,
          1.8130463040541989,
          1.811029718319071,
          1.8085004637697217,
          1.8054477746810453,
          1.8018475131768619,
          1.7976630129896998,
          1.7928466270836259,
          1.78734226969781,
          1.7810894224112024,
          1.7740292468239092,
          1.766113569999578,
          1.7573174827866218,
          1.747655931871762,
          1.737203718217248,
          1.7261164306117076,
          1.7145175752438988,
          1.7022442934628876,
          1.6894270552644177,
          1.676542703414744,
          1.664218649275345,
          1.6529745188951495,
          1.6430009631076088,
          1.6340395469534281,
          1.625660042515221,
          1.6179108315028177,
          1.6108734901727235,
          1.604575628905447,
          1.5990078560020113,
          1.5941386765905614,
          1.5899261629196606,
          1.5863264082925066,
          1.5832992938611454,
          1.5808122187114177,
          1.5788423692303648,
          1.5773779527491056,
          1.5764186501970685,
          1.5759753728105053,
          1.5760692403657295,
          1.576729530454577,
          1.5779901862986692,
          1.5798843452723421,
          1.5824363374005737,
          1.585650844155819,
          1.5894996113204019,
          1.593988330256885,
          1.5993454901313262,
          1.6056882927224543,
          1.6129218334680469,
          1.6207798426365907,
          1.628932455818004,
          1.6371264284306883,
          1.645306316485797,
          1.6535964611615683,
          1.661935151359884,
          1.6702211963746967,
          1.6783908428017789,
          1.686412027075675,
          1.6942775338348999,
          1.7019985654634215,
          1.70959937331243,
          1.7171130746587764,
          1.724578505845412,
          1.7320378447329623,
          1.7395346977624848,
          1.7471123391298284,
          1.754811785300049,
          1.7626693783761975,
          1.7707135432129573,
          1.7789604003140345,
          1.7874080090461943,
          1.7959910272908683,
          1.8044506300506917,
          1.812437638201663,
          1.8195752521610782,
          1.8255116341257556,
          1.8299890978717306,
          1.832908457328632,
          1.8343621611951326,
          1.8346126668033131,
          1.8340368857239646,
          1.8330626273412094,
          1.8320740206551427,
          1.8311980317483492,
          1.8304573923321878,
          1.829855702483887,
          1.8293827839234513,
          1.829019039705059,
          1.8287388420911543,
          1.828513081221545,
          1.8283110751324005,
          1.8281020510046078,
          1.8278563918186603,
          1.8275468197145912,
          1.827149664427962,
          1.8266463422898336,
          1.8260251435380812,
          1.8252833840629534,
          1.8244299095875158,
          1.8234878308546094,
          1.8224972045411536,
          1.821517153225766,
          1.8206266595104506,
          1.8199230361062622,
          1.8195169794142285,
          1.819523311666438,
          1.8200471363616733,
          1.8211661062950828,
          1.8229065125796724,
          1.8252210551022734,
          1.827980494711158,
          1.8309643873144772,
          1.8339711857760281,
          1.836971119475527,
          1.8399557782627327,
          1.8429165785469872,
          1.8458447197671526,
          1.8487311363634729,
          1.8515664487645387,
          1.8543409181171762,
          1.8570444113655542,
          1.8596663860358977,
          1.8621959079671784,
          1.8646217205510411,
          1.866932391111526,
          1.8691165690711395,
          1.871163401408573,
          1.8730631628103689,
          1.8748081686887617,
          1.8763940443312148,
          1.8778214145502305,
          1.879098041809136,
          1.8802413577240549,
          1.881281180860862,
          1.8822621770495258,
          1.883245307956728,
          1.8843071982309123
         ]
        },
        {
         "fill": "tonexty",
         "fillcolor": "rgba(25, 114, 204, 0.1)",
         "marker": {
          "color": "rgba(25, 114, 204, 0.05)"
         },
         "type": "scatter",
         "x": [
          0,
          1,
          2,
          3,
          4,
          5,
          6,
          7,
          8,
          9,
          10,
          11,
          12,
          13,
          14,
          15,
          16,
          17,
          18,
          19,
          20,
          21,
          22,
          23,
          24,
          25,
          26,
          27,
          28,
          29,
          30,
          31,
          32,
          33,
          34,
          35,
          36,
          37,
          38,
          39,
          40,
          41,
          42,
          43,
          44,
          45,
          46,
          47,
          48,
          49,
          50,
          51,
          52,
          53,
          54,
          55,
          56,
          57,
          58,
          59,
          60,
          61,
          62,
          63,
          64,
          65,
          66,
          67,
          68,
          69,
          70,
          71,
          72,
          73,
          74,
          75,
          76,
          77,
          78,
          79,
          80,
          81,
          82,
          83,
          84,
          85,
          86,
          87,
          88,
          89,
          90,
          91,
          92,
          93,
          94,
          95,
          96,
          97,
          98,
          99,
          100,
          101,
          102,
          103,
          104,
          105,
          106,
          107,
          108,
          109,
          110,
          111,
          112,
          113,
          114,
          115,
          116,
          117,
          118,
          119,
          120,
          121,
          122,
          123,
          124,
          125,
          126,
          127,
          128,
          129,
          130,
          131,
          132,
          133,
          134,
          135,
          136,
          137,
          138,
          139,
          140,
          141,
          142,
          143,
          144,
          145,
          146,
          147,
          148,
          149,
          150,
          151,
          152,
          153,
          154,
          155,
          156,
          157,
          158,
          159,
          160,
          161,
          162,
          163,
          164,
          165,
          166,
          167,
          168,
          169,
          170,
          171,
          172,
          173,
          174,
          175,
          176,
          177,
          178,
          179,
          180,
          181,
          182,
          183,
          184,
          185,
          186,
          187,
          188,
          189,
          190,
          191,
          192,
          193,
          194,
          195,
          196,
          197,
          198,
          199,
          200,
          201,
          202,
          203,
          204,
          205,
          206,
          207,
          208,
          209,
          210,
          211,
          212,
          213,
          214,
          215,
          216,
          217,
          218,
          219,
          220,
          221,
          222,
          223,
          224,
          225,
          226,
          227,
          228,
          229,
          230,
          231,
          232,
          233,
          234,
          235,
          236,
          237,
          238,
          239,
          240,
          241,
          242,
          243,
          244,
          245,
          246,
          247,
          248,
          249,
          250,
          251,
          252,
          253,
          254,
          255,
          256,
          257,
          258,
          259,
          260,
          261,
          262,
          263,
          264,
          265,
          266,
          267,
          268,
          269,
          270,
          271,
          272,
          273,
          274,
          275,
          276,
          277,
          278,
          279,
          280,
          281,
          282,
          283,
          284,
          285,
          286,
          287,
          288,
          289,
          290,
          291,
          292,
          293,
          294,
          295,
          296,
          297,
          298,
          299,
          300,
          301,
          302,
          303,
          304,
          305,
          306,
          307,
          308,
          309,
          310,
          311,
          312,
          313,
          314,
          315,
          316,
          317,
          318,
          319,
          320,
          321,
          322,
          323,
          324,
          325,
          326,
          327,
          328,
          329,
          330,
          331,
          332,
          333,
          334,
          335,
          336,
          337,
          338,
          339,
          340,
          341,
          342,
          343,
          344,
          345,
          346,
          347,
          348,
          349,
          350,
          351,
          352,
          353,
          354,
          355,
          356,
          357,
          358,
          359,
          360,
          361,
          362,
          363,
          364,
          365,
          366,
          367,
          368,
          369,
          370,
          371,
          372,
          373,
          374,
          375,
          376,
          377,
          378,
          379,
          380,
          381,
          382,
          383,
          384,
          385,
          386,
          387,
          388,
          389,
          390,
          391,
          392,
          393,
          394,
          395,
          396,
          397,
          398,
          399,
          400,
          401,
          402,
          403,
          404,
          405,
          406,
          407,
          408,
          409,
          410,
          411,
          412,
          413,
          414,
          415,
          416,
          417,
          418,
          419,
          420,
          421,
          422,
          423,
          424,
          425,
          426,
          427,
          428,
          429,
          430,
          431,
          432,
          433,
          434,
          435,
          436,
          437,
          438,
          439,
          440,
          441,
          442,
          443,
          444,
          445,
          446,
          447,
          448,
          449,
          450,
          451,
          452,
          453,
          454,
          455,
          456,
          457,
          458,
          459,
          460,
          461,
          462,
          463,
          464,
          465,
          466,
          467,
          468,
          469,
          470,
          471,
          472,
          473,
          474,
          475,
          476,
          477,
          478,
          479,
          480,
          481,
          482,
          483,
          484,
          485,
          486,
          487,
          488,
          489,
          490,
          491,
          492,
          493,
          494,
          495,
          496,
          497,
          498,
          499,
          500,
          501,
          502,
          503,
          504,
          505,
          506,
          507,
          508,
          509,
          510,
          511,
          512,
          513,
          514,
          515,
          516,
          517,
          518,
          519,
          520,
          521,
          522,
          523,
          524,
          525,
          526,
          527,
          528,
          529,
          530,
          531,
          532,
          533,
          534,
          535,
          536,
          537,
          538,
          539,
          540,
          541,
          542,
          543,
          544,
          545,
          546,
          547,
          548,
          549,
          550,
          551,
          552,
          553,
          554,
          555,
          556,
          557
         ],
         "y": [
          0.058926193516690664,
          0.08930281166552839,
          0.11946319977655787,
          0.14908099371920713,
          0.17792373221845575,
          0.20584641095965123,
          0.23277717334081427,
          0.25870047062784773,
          0.28364101083798765,
          0.3076501352982898,
          0.3307951245176698,
          0.35315129135573253,
          0.37479642888451214,
          0.395807103730759,
          0.4162563194259079,
          0.43621215293477883,
          0.45573705500819095,
          0.47488758428874894,
          0.4937144100960561,
          0.5122624689819575,
          0.5305711973276148,
          0.5486747890220001,
          0.5666024461163564,
          0.5843786034170417,
          0.6020231169457324,
          0.6195514123480619,
          0.636991905475288,
          0.6544938176164637,
          0.6721756243573641,
          0.6900491107444721,
          0.7080489729379417,
          0.7260596662818601,
          0.743947838701136,
          0.7615866398811874,
          0.7788692973734341,
          0.795715787929975,
          0.8120739221174185,
          0.8279166374674116,
          0.8432372557286483,
          0.8580440850221722,
          0.8723552703667381,
          0.8861943695988157,
          0.8995868214890006,
          0.912557283332779,
          0.9251277220349533,
          0.9373161147975713,
          0.949135626834403,
          0.9605941662175814,
          0.9716942599073138,
          0.9824332458392364,
          0.9928038326064337,
          1.002795140500602,
          1.012394402704305,
          1.0215895632459595,
          1.0303730347449531,
          1.0387469522435664,
          1.0468606113103336,
          1.0551812820780693,
          1.0640649253500865,
          1.0736779417861928,
          1.084008093723643,
          1.0948955694194331,
          1.1060813750377918,
          1.1172695628149014,
          1.1281783848784148,
          1.1385653522142172,
          1.1482226550088346,
          1.156988111825409,
          1.1648537321940753,
          1.1718647096129198,
          1.1780722912523878,
          1.1835249912165147,
          1.1882628087191125,
          1.1923136645578873,
          1.195691417809801,
          1.198395036503007,
          1.2004087190206447,
          1.201702983060299,
          1.2022369577985828,
          1.2019623327155498,
          1.2008296146028963,
          1.1987974624032751,
          1.1958457774403422,
          1.1919926999081185,
          1.1873143979825054,
          1.181748323831808,
          1.1746276136590454,
          1.1656291793798808,
          1.154997271578334,
          1.1434018732555329,
          1.1316634592315096,
          1.1204389773026961,
          1.10997960757134,
          1.1001714625558123,
          1.0911788173023707,
          1.0831842999264443,
          1.0762713038945055,
          1.0704507870382378,
          1.0656861678576728,
          1.0619136430913854,
          1.0590574489568654,
          1.0570406706487796,
          1.0557925724592845,
          1.055253410575445,
          1.055377517427039,
          1.0561352233828394,
          1.057513954504403,
          1.0595186222106476,
          1.062171193240561,
          1.0655090859164502,
          1.0695817865510304,
          1.074444862742502,
          1.0801504864214526,
          1.086733892252665,
          1.0943083683114487,
          1.1035553428585434,
          1.1150105279041342,
          1.1286909349283714,
          1.1441392560451713,
          1.1606035267757195,
          1.1773060155844226,
          1.1936948733881918,
          1.209529522632895,
          1.2245774455627223,
          1.238663843413346,
          1.2517072884604574,
          1.2636948748867745,
          1.2746587242192293,
          1.2846566271600808,
          1.2937574290789817,
          1.3020306647565436,
          1.3095395528051759,
          1.3163364480402275,
          1.3224600078306987,
          1.3279335413520497,
          1.3327642299410782,
          1.336943120996289,
          1.3404460125718378,
          1.3432355681311288,
          1.3452652241579468,
          1.346485635857741,
          1.346854442727289,
          1.3463498290340459,
          1.3449872202621398,
          1.3428035760327395,
          1.3398547289669203,
          1.336315144162448,
          1.3324687991040614,
          1.3286382085287454,
          1.325078674239014,
          1.3218792862572017,
          1.3189051079153036,
          1.316011740516142,
          1.313210458197167,
          1.3105125634258261,
          1.307921614944198,
          1.305435891481995,
          1.3030505236230296,
          1.30075915041684,
          1.2985551146021308,
          1.2964322771191603,
          1.2943855453352977,
          1.2924111975130934,
          1.2905070644933236,
          1.28867260588509,
          1.286908894745895,
          1.2852185018389688,
          1.283605247538038,
          1.2820737668789235,
          1.2806288148555118,
          1.2792742344432333,
          1.278011537415248,
          1.2768381354910077,
          1.2756248464574242,
          1.2738419611428746,
          1.2710823225422005,
          1.2672161273173903,
          1.2623746313815811,
          1.2568736858205207,
          1.2511016192190134,
          1.245412231833076,
          1.24006227464484,
          1.2352244535038097,
          1.2310019254981683,
          1.2274399050970817,
          1.2245417817680029,
          1.222283922408036,
          1.2206276540888794,
          1.2195282024805993,
          1.218940978934043,
          1.2188258082367498,
          1.219149669373298,
          1.2198884092995312,
          1.2210277499171909,
          1.2225637668648335,
          1.2245028796305402,
          1.2268612510876855,
          1.2296633471088974,
          1.2329392618114972,
          1.2367203073384414,
          1.2410323828806895,
          1.2458869233170424,
          1.251206965670702,
          1.2566143598075301,
          1.2616977847385067,
          1.2661373831650475,
          1.269747557345843,
          1.272499841902498,
          1.2745120857689534,
          1.2760117043107448,
          1.2772640402923043,
          1.2784348553326357,
          1.2796287250224259,
          1.2809134036632523,
          1.2823249062520092,
          1.2838739546736293,
          1.2855522088492075,
          1.2873375581967736,
          1.289198291134142,
          1.2910962519185505,
          1.2929892257808118,
          1.2948328408982288,
          1.2965822897586496,
          1.298194181230825,
          1.2996288495030095,
          1.3008534636278197,
          1.30184628151548,
          1.3026023312025798,
          1.3031406044475595,
          1.3035124032368093,
          1.3038096674636137,
          1.3041653633361383,
          1.3044085833616066,
          1.3039809736536452,
          1.3025832655825775,
          1.3002143356064093,
          1.2970868949612522,
          1.2934709879228468,
          1.2895302651947793,
          1.2852137993532415,
          1.2805910122956405,
          1.2759172022027487,
          1.2713761055409125,
          1.267078308542252,
          1.2630739506551876,
          1.2593665169536123,
          1.2559252584993101,
          1.2526953072535005,
          1.2496054434058808,
          1.246573911326074,
          1.2435128548118795,
          1.240331991888675,
          1.236942159031908,
          1.2332593667743916,
          1.2292100330674405,
          1.2247380766681424,
          1.2198145012770867,
          1.214449870395557,
          1.2087094856235643,
          1.2027299081811709,
          1.196733512017601,
          1.1910034232493867,
          1.185835759628994,
          1.181668244670164,
          1.1789835120125987,
          1.1781319129981924,
          1.1791710671986189,
          1.1817870916451474,
          1.1853141160928233,
          1.1889872367991772,
          1.1926513983117168,
          1.1963218039579855,
          1.200008039763166,
          1.2037149322849268,
          1.2074435700013963,
          1.2111922629501477,
          1.2149573438166774,
          1.21873379255777,
          1.2225157075834572,
          1.2262966641412363,
          1.2300700064020427,
          1.2338291212336054,
          1.2375677426754952,
          1.2412803379244588,
          1.2449626269823066,
          1.24861228487936,
          1.2522298594318175,
          1.2558198956359425,
          1.2593921725581345,
          1.2629628143411569,
          1.2664393556009625,
          1.269327482660257,
          1.2711879758805782,
          1.2718040387506593,
          1.2711972959341928,
          1.269578785457337,
          1.2672446147595844,
          1.264458610775002,
          1.2613923854812714,
          1.2582325312293736,
          1.2551338941327526,
          1.2521952404005339,
          1.2494675023281507,
          1.2469638327682955,
          1.24466916217089,
          1.2425482341284961,
          1.2405518951641916,
          1.2386218365451187,
          1.2366941711864778,
          1.23470229169562,
          1.2325794711987066,
          1.230261677954949,
          1.2276910933448693,
          1.2248208437193695,
          1.2216214470732334,
          1.218089367002257,
          1.2142577424146839,
          1.2102086566857808,
          1.2060850508251304,
          1.202092507714786,
          1.1983203551669142,
          1.1947870749787424,
          1.1916690920393798,
          1.1892107975225035,
          1.1875916429695272,
          1.186800455385249,
          1.1865689470057894,
          1.1864064861488788,
          1.1861461124558976,
          1.1858826519547874,
          1.1856842592425678,
          1.1855909682786179,
          1.1856198367039048,
          1.1857703544131715,
          1.1860292361232527,
          1.1863742855283248,
          1.1867773430113226,
          1.1872064843025112,
          1.187627696480177,
          1.1880062722828502,
          1.1883081650143879,
          1.188501549501297,
          1.1885588424587086,
          1.1884594394059944,
          1.188193401458654,
          1.1877662302023462,
          1.1872046340907592,
          1.1865627288752996,
          1.1859273588374035,
          1.1854185974531455,
          1.1851976473909462,
          1.1854733508621607,
          1.1864482210486302,
          1.1882485506920244,
          1.1908682972855382,
          1.1941504545997657,
          1.197806921324598,
          1.2015340404356871,
          1.2052649823134984,
          1.2089919593311618,
          1.21271009201239,
          1.2164169533112679,
          1.2201120332966262,
          1.223796239468514,
          1.227471481451242,
          1.2311403483082723,
          1.2348058659235845,
          1.2384713131181204,
          1.2421400724214153,
          1.245815490890347,
          1.249500726062902,
          1.2531985514428845,
          1.2569110954595335,
          1.260639489727269,
          1.2643834107304697,
          1.2681405203526834,
          1.2719058536052557,
          1.2756712740517464,
          1.2794362678759008,
          1.2832349449254663,
          1.2870921145952399,
          1.2910116424508524,
          1.2949805775093786,
          1.298978442810263,
          1.302988900996231,
          1.3070094207902097,
          1.3110486152752165,
          1.3150950944548827,
          1.3191350398750465,
          1.3231596987524425,
          1.3271646199360827,
          1.3311487353053977,
          1.3351134922901364,
          1.3390621274793375,
          1.3429990996181866,
          1.346929662802045,
          1.3508595444470872,
          1.3547946872767436,
          1.358741013386702,
          1.3627041677912421,
          1.3666891974079682,
          1.370700119956616,
          1.3747393388652744,
          1.378806871413929,
          1.3828993887349612,
          1.3870091328336362,
          1.3911228923843242,
          1.3952195731465358,
          1.399236388358636,
          1.4030800720293606,
          1.406675335662205,
          1.4099830137063372,
          1.4130101121240923,
          1.415807013139513,
          1.4184533151560423,
          1.4210349340241877,
          1.4235974391636943,
          1.4261620515604538,
          1.4287430333698128,
          1.431348560704445,
          1.4339818834153937,
          1.4366425129676401,
          1.4393272609796934,
          1.4420310697918395,
          1.4447476430263486,
          1.4474699152930248,
          1.450190411571304,
          1.452901549301397,
          1.4555959362813677,
          1.4582667181150033,
          1.4609080305652176,
          1.4635156125366138,
          1.4660876290426652,
          1.468625730386754,
          1.4711363185161752,
          1.47363188518433,
          1.4761321155633325,
          1.478592806645427,
          1.4807271933242485,
          1.4822913192132852,
          1.483180876110213,
          1.4834293379644694,
          1.4831668774416311,
          1.4825542819961317,
          1.4817144458194813,
          1.480724903928664,
          1.4796976091443206,
          1.4787221926130993,
          1.47785454808955,
          1.4771222188104867,
          1.4765306630618271,
          1.47606907424024,
          1.4757152021666973,
          1.4754390891921336,
          1.4752058724314052,
          1.474977902214762,
          1.4747164562717152,
          1.4743833332361846,
          1.473942610673436,
          1.473362858877386,
          1.4726201048723957,
          1.4717018174467855,
          1.4706120872646098,
          1.4693779319196376,
          1.4680561673333823,
          1.4667394708250123,
          1.465571407106503,
          1.4647912960616667,
          1.4646864395014232,
          1.4655128123936274,
          1.4674150558132983,
          1.4703690172851585,
          1.4741697284222577,
          1.478465861743404,
          1.4828842021919502,
          1.487315681042648,
          1.4917329982907113,
          1.4961189526191894,
          1.500464891547493,
          1.5047688662120626,
          1.5090338969044672,
          1.5132665248956574,
          1.51747568405233,
          1.521671851928963,
          1.5258664083587195,
          1.5300711193496999,
          1.5342976619780275,
          1.5385571048060607,
          1.5428592557223377,
          1.547211786762229,
          1.5516190500851434,
          1.5560805242340752,
          1.560580855389227,
          1.5650602593515033,
          1.5694331157524462,
          1.573601884229057,
          1.5774708471702479,
          1.5809648802030227,
          1.5840478735877177,
          1.5867336672087744,
          1.5890828258666525,
          1.5911895975836758,
          1.5931654108238293,
          1.5951127772526252,
          1.597065196008694,
          1.59902847117125,
          1.6010038315539767,
          1.6029890997989853,
          1.604979665695343,
          1.6069692608028647,
          1.6089505574872858,
          1.6109156348475817,
          1.612856359438265,
          1.6147647278469164,
          1.616633215271126,
          1.6184551709242267,
          1.620225297276121,
          1.621940244276672,
          1.6235993389676597,
          1.6252054511419696,
          1.6267659618942978,
          1.6282937491896288,
          1.6298080309925052,
          1.6313348175778135,
          1.6329066394263845,
          1.6345611727100473,
          1.6363384328102137,
          1.6382763956163502,
          1.6404051911936857,
          1.642736978340652,
          1.6452569057096498,
          1.6479232649353506,
          1.6506644981856284,
          1.6534136277754379,
          1.6561571876134185,
          1.6588883533062972,
          1.6616001597484682,
          1.6642854658000652,
          1.6669369153152809,
          1.6695468973717085,
          1.6721075095370699,
          1.674610529533948,
          1.6770474028946527,
          1.6794092573499069,
          1.6816869590141983,
          1.6838712311652162,
          1.6859528637306032,
          1.687923050406261,
          1.6897738999838874,
          1.6914991772042314,
          1.693095332585068,
          1.6945628734531728,
          1.6959080988787503,
          1.697145153800246,
          1.6982982343048114,
          1.699403583967422,
          1.7005106692191287,
          1.7016816657716378
         ]
        },
        {
         "marker": {
          "color": "rgba(25, 114, 204, 1)"
         },
         "mode": "lines",
         "name": "Connor McDavid",
         "type": "scatter",
         "x": [
          1,
          2,
          3,
          4,
          5,
          6,
          7,
          8,
          9,
          10,
          11,
          12,
          13,
          14,
          15,
          16,
          17,
          18,
          19,
          20,
          21,
          22,
          23,
          24,
          25,
          26,
          27,
          28,
          29,
          30,
          31,
          32,
          33,
          34,
          35,
          36,
          37,
          38,
          39,
          40,
          41,
          42,
          43,
          44,
          45,
          46,
          47,
          48,
          49,
          50,
          51,
          52,
          53,
          54,
          55,
          56,
          57,
          58,
          59,
          60,
          61,
          62,
          63,
          64,
          65,
          66,
          67,
          68,
          69,
          70,
          71,
          72,
          73,
          74,
          75,
          76,
          77,
          78,
          79,
          80,
          81,
          82,
          83,
          84,
          85,
          86,
          87,
          88,
          89,
          90,
          91,
          92,
          93,
          94,
          95,
          96,
          97,
          98,
          99,
          100,
          101,
          102,
          103,
          104,
          105,
          106,
          107,
          108,
          109,
          110,
          111,
          112,
          113,
          114,
          115,
          116,
          117,
          118,
          119,
          120,
          121,
          122,
          123,
          124,
          125,
          126,
          127,
          128,
          129,
          130,
          131,
          132,
          133,
          134,
          135,
          136,
          137,
          138,
          139,
          140,
          141,
          142,
          143,
          144,
          145,
          146,
          147,
          148,
          149,
          150,
          151,
          152,
          153,
          154,
          155,
          156,
          157,
          158,
          159,
          160,
          161,
          162,
          163,
          164,
          165,
          166,
          167,
          168,
          169,
          170,
          171,
          172,
          173,
          174,
          175,
          176,
          177,
          178,
          179,
          180,
          181,
          182,
          183,
          184,
          185,
          186,
          187,
          188,
          189,
          190,
          191,
          192,
          193,
          194,
          195,
          196,
          197,
          198,
          199,
          200,
          201,
          202,
          203,
          204,
          205,
          206,
          207,
          208,
          209,
          210,
          211,
          212,
          213,
          214,
          215,
          216,
          217,
          218,
          219,
          220,
          221,
          222,
          223,
          224,
          225,
          226,
          227,
          228,
          229,
          230,
          231,
          232,
          233,
          234,
          235,
          236,
          237,
          238,
          239,
          240,
          241,
          242,
          243,
          244,
          245,
          246,
          247,
          248,
          249,
          250,
          251,
          252,
          253,
          254,
          255,
          256,
          257,
          258,
          259,
          260,
          261,
          262,
          263,
          264,
          265,
          266,
          267,
          268,
          269,
          270,
          271,
          272,
          273,
          274,
          275,
          276,
          277,
          278,
          279,
          280,
          281,
          282,
          283,
          284,
          285,
          286,
          287,
          288,
          289,
          290,
          291,
          292,
          293,
          294,
          295,
          296,
          297,
          298,
          299,
          300,
          301,
          302,
          303,
          304,
          305,
          306,
          307,
          308,
          309,
          310,
          311,
          312,
          313,
          314,
          315,
          316,
          317,
          318,
          319,
          320,
          321,
          322,
          323,
          324,
          325,
          326,
          327,
          328,
          329,
          330,
          331,
          332,
          333,
          334,
          335,
          336,
          337,
          338,
          339,
          340,
          341,
          342,
          343,
          344,
          345,
          346,
          347,
          348,
          349,
          350,
          351,
          352,
          353,
          354,
          355,
          356,
          357,
          358,
          359,
          360,
          361,
          362,
          363,
          364,
          365,
          366,
          367,
          368,
          369,
          370,
          371,
          372,
          373,
          374,
          375,
          376,
          377,
          378,
          379,
          380,
          381,
          382,
          383,
          384,
          385,
          386,
          387,
          388,
          389,
          390,
          391,
          392,
          393,
          394,
          395,
          396,
          397,
          398,
          399,
          400,
          401,
          402,
          403,
          404,
          405,
          406,
          407,
          408,
          409,
          410,
          411,
          412,
          413,
          414,
          415,
          416,
          417,
          418,
          419,
          420,
          421,
          422,
          423,
          424,
          425,
          426,
          427,
          428,
          429,
          430,
          431,
          432,
          433,
          434,
          435,
          436,
          437,
          438,
          439,
          440,
          441,
          442,
          443,
          444,
          445,
          446,
          447,
          448,
          449,
          450,
          451,
          452,
          453,
          454,
          455,
          456,
          457,
          458,
          459,
          460,
          461,
          462,
          463,
          464,
          465,
          466,
          467,
          468,
          469,
          470,
          471,
          472,
          473,
          474,
          475,
          476,
          477,
          478,
          479,
          480,
          481,
          482,
          483,
          484,
          485,
          486,
          487,
          488,
          489,
          490,
          491,
          492,
          493,
          494,
          495,
          496,
          497,
          498,
          499,
          500,
          501,
          502,
          503,
          504,
          505,
          506,
          507,
          508,
          509,
          510,
          511,
          512,
          513,
          514,
          515,
          516,
          517,
          518,
          519,
          520,
          521,
          522,
          523,
          524,
          525,
          526,
          527,
          528,
          529,
          530,
          531,
          532,
          533,
          534,
          535,
          536,
          537,
          538,
          539,
          540,
          541,
          542,
          543,
          544,
          545,
          546,
          547,
          548,
          549,
          550,
          551,
          552,
          553,
          554,
          555,
          556,
          557,
          558
         ],
         "y": [
          0.410402320946943,
          0.4245149893823244,
          0.4385988900473354,
          0.4526099885503261,
          0.4665169002062517,
          0.48030002707186303,
          0.49394963328603725,
          0.5074635776597404,
          0.5208451512939317,
          0.5341012415441327,
          0.5472408902953265,
          0.5602742276635203,
          0.5732117229864492,
          0.586063684571747,
          0.5988399441703479,
          0.6115496727118451,
          0.6242012856102188,
          0.6368024066245781,
          0.6493598680153987,
          0.6618797314964431,
          0.6743673194939652,
          0.6868272498334096,
          0.6992634695160853,
          0.7116792850104796,
          0.7240773876919617,
          0.736459873893972,
          0.7488399499999585,
          0.7613131560612946,
          0.7739513000886795,
          0.7867517767203552,
          0.7996597492988218,
          0.812589412572106,
          0.8254441199960867,
          0.8381317479562734,
          0.8505744431576496,
          0.8627133473395298,
          0.8745092478457646,
          0.8859404695606606,
          0.896999288029396,
          0.90768786642835,
          0.9180143696616825,
          0.9279895984064845,
          0.9376242613929768,
          0.946926868531011,
          0.955902162925262,
          0.9645499942463958,
          0.9728645510713149,
          0.9808339037765195,
          0.9884398564511065,
          0.9956581645849031,
          1.002459245811714,
          1.0088095941658506,
          1.014674199932335,
          1.0200203615037808,
          1.0248233148395158,
          1.0290740506951934,
          1.0328139180619882,
          1.0361753306992916,
          1.0393138199650587,
          1.042403385303073,
          1.0456326739032185,
          1.0491769126279942,
          1.053156703857411,
          1.0576105566883676,
          1.0624802153042674,
          1.0676065056201243,
          1.0727272496220266,
          1.077547805253959,
          1.082015982430411,
          1.0861520766706858,
          1.0899751438013976,
          1.0935003792770446,
          1.0967375231510321,
          1.0996899934527407,
          1.1023545360381295,
          1.1047212758506701,
          1.1067741507423272,
          1.1084918036923885,
          1.1098491045792103,
          1.110819566766269,
          1.111379002702411,
          1.1115107893410057,
          1.1112130145684382,
          1.1105074304527405,
          1.1094493983000266,
          1.1079826350352768,
          1.1056040352960255,
          1.1020379987455198,
          1.0973953961856215,
          1.0920825356016044,
          1.0866242751249509,
          1.0814620247814788,
          1.076797752259027,
          1.0726117446647796,
          1.0690368562059192,
          1.0662014830854247,
          1.0641629472896366,
          1.0629270173348986,
          1.062465931318156,
          1.0627330424065242,
          1.0636737795162219,
          1.0652333822339375,
          1.0673621224071796,
          1.070018708381102,
          1.0731724360481616,
          1.0768044841212703,
          1.0809085815379351,
          1.085491108169555,
          1.0905705200466007,
          1.0961758114620035,
          1.1023435464007316,
          1.1091128506240966,
          1.1165177500051982,
          1.124576544435336,
          1.13333935813764,
          1.1431306703209452,
          1.1541259012826863,
          1.1661681931954548,
          1.1788364565672744,
          1.191589895277402,
          1.2039458495102615,
          1.2156224033080305,
          1.2265549684685007,
          1.236661262443531,
          1.2458852184086258,
          1.254221159754964,
          1.2616953999936213,
          1.2683506593072624,
          1.2742342326103802,
          1.279389691728676,
          1.283851441756878,
          1.287641391171686,
          1.290767125273785,
          1.2932211716529651,
          1.2949811599282768,
          1.2960108904080347,
          1.2962625395236125,
          1.2956804471590382,
          1.2942071409880551,
          1.2917924092208257,
          1.2884062262712839,
          1.28405596306102,
          1.278807271651743,
          1.272804359904706,
          1.266015779493149,
          1.258105289093147,
          1.249133431718838,
          1.2395562744826196,
          1.230025871157735,
          1.2211134116041271,
          1.2130654398040304,
          1.2056725874108298,
          1.19876532330381,
          1.1925131299312592,
          1.187025373131715,
          1.1823446822579382,
          1.1784665641252965,
          1.1753568230833238,
          1.1729653673802103,
          1.1712363506962349,
          1.170115217895641,
          1.1695533919563408,
          1.1695112809612636,
          1.1699601365091583,
          1.1708831254242131,
          1.172275809850638,
          1.1741460687149583,
          1.1765133294074106,
          1.1794068080510227,
          1.1828622906890198,
          1.1869168699814434,
          1.1916010822695404,
          1.1969282399367935,
          1.20280496954523,
          1.208823259982378,
          1.2145507864740095,
          1.2196460522835304,
          1.2239033859710697,
          1.2272786095613715,
          1.2298836461300688,
          1.2319533149645827,
          1.233771159030055,
          1.2355085467995266,
          1.2372697393921208,
          1.239121189428446,
          1.2410970486035209,
          1.2432058896605973,
          1.2454370950095492,
          1.2477662303608266,
          1.2501592602327372,
          1.2525757463844176,
          1.2549712965187625,
          1.2572995764428194,
          1.25951421448644,
          1.2615709393107588,
          1.263430309932482,
          1.2650614115247678,
          1.2664468733096266,
          1.2675894578011206,
          1.2685201790444662,
          1.2693073040508474,
          1.2700645595585551,
          1.2708781246526721,
          1.2715736559787576,
          1.2720620050390608,
          1.2724231586747006,
          1.2728345450727718,
          1.2734639332221758,
          1.2743586387282444,
          1.2753729512565772,
          1.2762496734534143,
          1.2770386189041791,
          1.2778524413825993,
          1.2787641275697585,
          1.2798124723545707,
          1.281009023551957,
          1.2823447947916171,
          1.2837959659879625,
          1.2853283750778792,
          1.2869009187959368,
          1.2884681220806113,
          1.289982186956931,
          1.2913948468206997,
          1.2926593614788575,
          1.2937330042836792,
          1.294580411621496,
          1.2951781651188488,
          1.2955209111950845,
          1.2956291095428099,
          1.2955580233467239,
          1.295406689052379,
          1.2953195050346744,
          1.2951892787510142,
          1.2945892802967438,
          1.2933243428668517,
          1.291445174394708,
          1.2891560063474343,
          1.2866672120271212,
          1.2840541440935198,
          1.2811762818731145,
          1.2780398504006412,
          1.2748600770390153,
          1.2717930040855794,
          1.2689325496939263,
          1.2663212963952073,
          1.263962204482471,
          1.2618291601926572,
          1.2598755659645318,
          1.2580409369829622,
          1.2562558404884472,
          1.2544456625051668,
          1.252533728750099,
          1.2504443146560493,
          1.248106089711265,
          1.2454565620491125,
          1.2424481027297953,
          1.2390560853797312,
          1.235289480880558,
          1.231203748063712,
          1.2269148652126247,
          1.222611689869786,
          1.218471690693511,
          1.2144595439615509,
          1.2106863976303464,
          1.207424878151347,
          1.2049730915878045,
          1.2034954380821568,
          1.2029017908862416,
          1.202799055753772,
          1.202663395421698,
          1.2024712357718128,
          1.2023185778826198,
          1.2022659499487323,
          1.2023438253847991,
          1.202559073368913,
          1.2029010191638982,
          1.2033465030215962,
          1.2038638246151985,
          1.204415718438594,
          1.204961616854456,
          1.205459494429825,
          1.205867596562797,
          1.2061463618805763,
          1.2062608591998392,
          1.2061840683056464,
          1.205901313335208,
          1.205416056802682,
          1.2047569980287265,
          1.2039858815439164,
          1.2032045104035967,
          1.2024711797635257,
          1.2015932365769941,
          1.200472700914844,
          1.1991737799991005,
          1.1978592043663552,
          1.1966918197746679,
          1.1957318572423588,
          1.1948680659993403,
          1.193886574239499,
          1.1928411999125128,
          1.191837655303098,
          1.1909433660659614,
          1.1901931013690639,
          1.189595838518189,
          1.189141287834357,
          1.1888053786907122,
          1.1885545536393856,
          1.188349005681978,
          1.188145120218957,
          1.1878974262029929,
          1.187560371656934,
          1.1870902450995566,
          1.1864475770980647,
          1.1856003704251006,
          1.1845285007877795,
          1.183229556016519,
          1.1817261604235216,
          1.1800743499212119,
          1.17837170396866,
          1.1767577991928815,
          1.1752680795905053,
          1.1738671683513497,
          1.1726426221067705,
          1.171749538439957,
          1.1713195679467718,
          1.1713686293897563,
          1.1717415578059511,
          1.1721263878092163,
          1.172427919095583,
          1.1727268696338238,
          1.17308074936331,
          1.1735233387567447,
          1.1740690301014503,
          1.174717391658771,
          1.1754572119315863,
          1.1762697604429284,
          1.1771312751465026,
          1.1780148177336627,
          1.1788916878842226,
          1.1797325998006407,
          1.1805088254662293,
          1.1811935117439136,
          1.1817633850897955,
          1.1822010608434546,
          1.1824981539572668,
          1.1826593077615948,
          1.1827070592725724,
          1.1826870706301424,
          1.1826726186010583,
          1.1827762346022244,
          1.1831897558396416,
          1.1841512912182761,
          1.1858779369861314,
          1.1884975205870125,
          1.1919998533966347,
          1.1962284043824971,
          1.2009103483209667,
          1.2057647113688106,
          1.2107098491658272,
          1.2157169740445162,
          1.220765373956846,
          1.2258421156103867,
          1.23094112451268,
          1.2360620722172413,
          1.2412093100242854,
          1.246390949426045,
          1.25161810182966,
          1.2569042387735294,
          1.262264603218966,
          1.2677155804697304,
          1.2732739163518039,
          1.2789556476615527,
          1.2847745883526906,
          1.2907402054567454,
          1.2968547448622514,
          1.3031095697462391,
          1.3094809123400104,
          1.3159256739853673,
          1.322408263988801,
          1.3289641948315418,
          1.3355747042224182,
          1.3421537836484037,
          1.3485874059275524,
          1.3547850111829443,
          1.3607257980639464,
          1.3664835048318626,
          1.3721847504966864,
          1.3778303819086635,
          1.3833930024727448,
          1.3888576939392991,
          1.3942192453257625,
          1.3994793679760829,
          1.4046443037887237,
          1.4097229533743558,
          1.4147254978731119,
          1.4196624228261725,
          1.4245438368881471,
          1.4293789857935375,
          1.4341758776148352,
          1.4389409518294127,
          1.4436787400674174,
          1.448391481989249,
          1.453078679372274,
          1.4577366011457242,
          1.462357799179896,
          1.4669307653061916,
          1.4714399527928275,
          1.4758588584713281,
          1.4800124843932343,
          1.483632109331056,
          1.4865380343143857,
          1.4886750762781784,
          1.4901143514458226,
          1.4910164338781207,
          1.491571732144572,
          1.4919412554220004,
          1.4922371263081378,
          1.492540958047532,
          1.4929078549746466,
          1.4933694130931157,
          1.4939381979284514,
          1.4946123317031144,
          1.4953795042581177,
          1.4962201810303446,
          1.4971100386968752,
          1.4980217796338242,
          1.4989265203398072,
          1.4997949586835113,
          1.5005985251278315,
          1.5013107256306286,
          1.5019088901869782,
          1.5023765424468085,
          1.5027065812719078,
          1.5029053757488393,
          1.502997661564399,
          1.5030317156554962,
          1.5030836249892063,
          1.5032213135067036,
          1.5034192697287665,
          1.5037063257808723,
          1.504173881176852,
          1.5049236057291728,
          1.5060068079970583,
          1.5073798084014887,
          1.5088855766251326,
          1.5103545910058407,
          1.5118068245666618,
          1.5132821312859464,
          1.5148053638004009,
          1.5163887687531086,
          1.5180347728222028,
          1.5197385706336057,
          1.5214902685660268,
          1.523276546009654,
          1.5250819013737817,
          1.5268895940471539,
          1.5286824065972038,
          1.5304433533043422,
          1.5321564618425603,
          1.5338077576053282,
          1.5353865815907395,
          1.5368873622619368,
          1.538311918765563,
          1.539672264318393,
          1.5409936613864006,
          1.5423173174304354,
          1.5436816324801226,
          1.5450773565925604,
          1.5465274034604544,
          1.5480905244768017,
          1.5498316742612124,
          1.5517874256429234,
          1.5539385573449793,
          1.5561989691149645,
          1.5584536966416942,
          1.5606980702883235,
          1.56295364268037,
          1.5652339931566188,
          1.5675459516681483,
          1.569891055784606,
          1.5722669201830857,
          1.5746683800581134,
          1.5770883820173003,
          1.5795186543055213,
          1.5819502131910979,
          1.5843737704083916,
          1.5867801082161348,
          1.589160489544379,
          1.5915071727756627,
          1.5938141025465948,
          1.5960778443068537,
          1.5982988106735956,
          1.6004426264150566,
          1.602337823300039,
          1.6038287362744006,
          1.6048295466529612,
          1.6053351250264138,
          1.605422419902756,
          1.605234309638308,
          1.6049449917984715,
          1.6047099288782458,
          1.6046233420982083,
          1.6046982343535774,
          1.6048811360782798,
          1.6051703743967307,
          1.6055808762160326,
          1.6061146042390722,
          1.6067642792588794,
          1.6075164450609318,
          1.6083538255439422,
          1.609257076022839,
          1.6102060727799379,
          1.6111808869881061,
          1.6121625745040071,
          1.6131338939924147,
          1.6140800472927566,
          1.6149895181187677,
          1.615855065229937,
          1.6166748989060375,
          1.6174540277893745,
          1.61820569889026,
          1.6189527601343798,
          1.6197286517765686,
          1.6205775936584565,
          1.621553415978495,
          1.6227164464571644,
          1.6241279997798181,
          1.6258423820656622,
          1.6278969175921951,
          1.630301605637861,
          1.6330289968925022,
          1.6360055897959103,
          1.6391065591903766,
          1.6422198765251355,
          1.6453338278201648,
          1.6484491904295593,
          1.6515667577166508,
          1.654687343077149,
          1.657811784377867,
          1.6609409484863016,
          1.6640757354540758,
          1.6672170817436596,
          1.6703659616336348,
          1.6735233855788305,
          1.6766903938097513,
          1.679868042802617,
          1.683057381418162,
          1.6862594125038908,
          1.6894750346551697,
          1.692704957835402,
          1.6959495860851534,
          1.699208861372679,
          1.702482066002104,
          1.7057675886734256,
          1.7090626733343208,
          1.7123631918379192,
          1.7156635101127278,
          1.7189565466982937
         ]
        }
       ],
       "layout": {
        "autosize": false,
        "height": 500,
        "template": {
         "data": {
          "bar": [
           {
            "error_x": {
             "color": "#2a3f5f"
            },
            "error_y": {
             "color": "#2a3f5f"
            },
            "marker": {
             "line": {
              "color": "#E5ECF6",
              "width": 0.5
             },
             "pattern": {
              "fillmode": "overlay",
              "size": 10,
              "solidity": 0.2
             }
            },
            "type": "bar"
           }
          ],
          "barpolar": [
           {
            "marker": {
             "line": {
              "color": "#E5ECF6",
              "width": 0.5
             },
             "pattern": {
              "fillmode": "overlay",
              "size": 10,
              "solidity": 0.2
             }
            },
            "type": "barpolar"
           }
          ],
          "carpet": [
           {
            "aaxis": {
             "endlinecolor": "#2a3f5f",
             "gridcolor": "white",
             "linecolor": "white",
             "minorgridcolor": "white",
             "startlinecolor": "#2a3f5f"
            },
            "baxis": {
             "endlinecolor": "#2a3f5f",
             "gridcolor": "white",
             "linecolor": "white",
             "minorgridcolor": "white",
             "startlinecolor": "#2a3f5f"
            },
            "type": "carpet"
           }
          ],
          "choropleth": [
           {
            "colorbar": {
             "outlinewidth": 0,
             "ticks": ""
            },
            "type": "choropleth"
           }
          ],
          "contour": [
           {
            "colorbar": {
             "outlinewidth": 0,
             "ticks": ""
            },
            "colorscale": [
             [
              0,
              "#0d0887"
             ],
             [
              0.1111111111111111,
              "#46039f"
             ],
             [
              0.2222222222222222,
              "#7201a8"
             ],
             [
              0.3333333333333333,
              "#9c179e"
             ],
             [
              0.4444444444444444,
              "#bd3786"
             ],
             [
              0.5555555555555556,
              "#d8576b"
             ],
             [
              0.6666666666666666,
              "#ed7953"
             ],
             [
              0.7777777777777778,
              "#fb9f3a"
             ],
             [
              0.8888888888888888,
              "#fdca26"
             ],
             [
              1,
              "#f0f921"
             ]
            ],
            "type": "contour"
           }
          ],
          "contourcarpet": [
           {
            "colorbar": {
             "outlinewidth": 0,
             "ticks": ""
            },
            "type": "contourcarpet"
           }
          ],
          "heatmap": [
           {
            "colorbar": {
             "outlinewidth": 0,
             "ticks": ""
            },
            "colorscale": [
             [
              0,
              "#0d0887"
             ],
             [
              0.1111111111111111,
              "#46039f"
             ],
             [
              0.2222222222222222,
              "#7201a8"
             ],
             [
              0.3333333333333333,
              "#9c179e"
             ],
             [
              0.4444444444444444,
              "#bd3786"
             ],
             [
              0.5555555555555556,
              "#d8576b"
             ],
             [
              0.6666666666666666,
              "#ed7953"
             ],
             [
              0.7777777777777778,
              "#fb9f3a"
             ],
             [
              0.8888888888888888,
              "#fdca26"
             ],
             [
              1,
              "#f0f921"
             ]
            ],
            "type": "heatmap"
           }
          ],
          "heatmapgl": [
           {
            "colorbar": {
             "outlinewidth": 0,
             "ticks": ""
            },
            "colorscale": [
             [
              0,
              "#0d0887"
             ],
             [
              0.1111111111111111,
              "#46039f"
             ],
             [
              0.2222222222222222,
              "#7201a8"
             ],
             [
              0.3333333333333333,
              "#9c179e"
             ],
             [
              0.4444444444444444,
              "#bd3786"
             ],
             [
              0.5555555555555556,
              "#d8576b"
             ],
             [
              0.6666666666666666,
              "#ed7953"
             ],
             [
              0.7777777777777778,
              "#fb9f3a"
             ],
             [
              0.8888888888888888,
              "#fdca26"
             ],
             [
              1,
              "#f0f921"
             ]
            ],
            "type": "heatmapgl"
           }
          ],
          "histogram": [
           {
            "marker": {
             "pattern": {
              "fillmode": "overlay",
              "size": 10,
              "solidity": 0.2
             }
            },
            "type": "histogram"
           }
          ],
          "histogram2d": [
           {
            "colorbar": {
             "outlinewidth": 0,
             "ticks": ""
            },
            "colorscale": [
             [
              0,
              "#0d0887"
             ],
             [
              0.1111111111111111,
              "#46039f"
             ],
             [
              0.2222222222222222,
              "#7201a8"
             ],
             [
              0.3333333333333333,
              "#9c179e"
             ],
             [
              0.4444444444444444,
              "#bd3786"
             ],
             [
              0.5555555555555556,
              "#d8576b"
             ],
             [
              0.6666666666666666,
              "#ed7953"
             ],
             [
              0.7777777777777778,
              "#fb9f3a"
             ],
             [
              0.8888888888888888,
              "#fdca26"
             ],
             [
              1,
              "#f0f921"
             ]
            ],
            "type": "histogram2d"
           }
          ],
          "histogram2dcontour": [
           {
            "colorbar": {
             "outlinewidth": 0,
             "ticks": ""
            },
            "colorscale": [
             [
              0,
              "#0d0887"
             ],
             [
              0.1111111111111111,
              "#46039f"
             ],
             [
              0.2222222222222222,
              "#7201a8"
             ],
             [
              0.3333333333333333,
              "#9c179e"
             ],
             [
              0.4444444444444444,
              "#bd3786"
             ],
             [
              0.5555555555555556,
              "#d8576b"
             ],
             [
              0.6666666666666666,
              "#ed7953"
             ],
             [
              0.7777777777777778,
              "#fb9f3a"
             ],
             [
              0.8888888888888888,
              "#fdca26"
             ],
             [
              1,
              "#f0f921"
             ]
            ],
            "type": "histogram2dcontour"
           }
          ],
          "mesh3d": [
           {
            "colorbar": {
             "outlinewidth": 0,
             "ticks": ""
            },
            "type": "mesh3d"
           }
          ],
          "parcoords": [
           {
            "line": {
             "colorbar": {
              "outlinewidth": 0,
              "ticks": ""
             }
            },
            "type": "parcoords"
           }
          ],
          "pie": [
           {
            "automargin": true,
            "type": "pie"
           }
          ],
          "scatter": [
           {
            "fillpattern": {
             "fillmode": "overlay",
             "size": 10,
             "solidity": 0.2
            },
            "type": "scatter"
           }
          ],
          "scatter3d": [
           {
            "line": {
             "colorbar": {
              "outlinewidth": 0,
              "ticks": ""
             }
            },
            "marker": {
             "colorbar": {
              "outlinewidth": 0,
              "ticks": ""
             }
            },
            "type": "scatter3d"
           }
          ],
          "scattercarpet": [
           {
            "marker": {
             "colorbar": {
              "outlinewidth": 0,
              "ticks": ""
             }
            },
            "type": "scattercarpet"
           }
          ],
          "scattergeo": [
           {
            "marker": {
             "colorbar": {
              "outlinewidth": 0,
              "ticks": ""
             }
            },
            "type": "scattergeo"
           }
          ],
          "scattergl": [
           {
            "marker": {
             "colorbar": {
              "outlinewidth": 0,
              "ticks": ""
             }
            },
            "type": "scattergl"
           }
          ],
          "scattermapbox": [
           {
            "marker": {
             "colorbar": {
              "outlinewidth": 0,
              "ticks": ""
             }
            },
            "type": "scattermapbox"
           }
          ],
          "scatterpolar": [
           {
            "marker": {
             "colorbar": {
              "outlinewidth": 0,
              "ticks": ""
             }
            },
            "type": "scatterpolar"
           }
          ],
          "scatterpolargl": [
           {
            "marker": {
             "colorbar": {
              "outlinewidth": 0,
              "ticks": ""
             }
            },
            "type": "scatterpolargl"
           }
          ],
          "scatterternary": [
           {
            "marker": {
             "colorbar": {
              "outlinewidth": 0,
              "ticks": ""
             }
            },
            "type": "scatterternary"
           }
          ],
          "surface": [
           {
            "colorbar": {
             "outlinewidth": 0,
             "ticks": ""
            },
            "colorscale": [
             [
              0,
              "#0d0887"
             ],
             [
              0.1111111111111111,
              "#46039f"
             ],
             [
              0.2222222222222222,
              "#7201a8"
             ],
             [
              0.3333333333333333,
              "#9c179e"
             ],
             [
              0.4444444444444444,
              "#bd3786"
             ],
             [
              0.5555555555555556,
              "#d8576b"
             ],
             [
              0.6666666666666666,
              "#ed7953"
             ],
             [
              0.7777777777777778,
              "#fb9f3a"
             ],
             [
              0.8888888888888888,
              "#fdca26"
             ],
             [
              1,
              "#f0f921"
             ]
            ],
            "type": "surface"
           }
          ],
          "table": [
           {
            "cells": {
             "fill": {
              "color": "#EBF0F8"
             },
             "line": {
              "color": "white"
             }
            },
            "header": {
             "fill": {
              "color": "#C8D4E3"
             },
             "line": {
              "color": "white"
             }
            },
            "type": "table"
           }
          ]
         },
         "layout": {
          "annotationdefaults": {
           "arrowcolor": "#2a3f5f",
           "arrowhead": 0,
           "arrowwidth": 1
          },
          "autotypenumbers": "strict",
          "coloraxis": {
           "colorbar": {
            "outlinewidth": 0,
            "ticks": ""
           }
          },
          "colorscale": {
           "diverging": [
            [
             0,
             "#8e0152"
            ],
            [
             0.1,
             "#c51b7d"
            ],
            [
             0.2,
             "#de77ae"
            ],
            [
             0.3,
             "#f1b6da"
            ],
            [
             0.4,
             "#fde0ef"
            ],
            [
             0.5,
             "#f7f7f7"
            ],
            [
             0.6,
             "#e6f5d0"
            ],
            [
             0.7,
             "#b8e186"
            ],
            [
             0.8,
             "#7fbc41"
            ],
            [
             0.9,
             "#4d9221"
            ],
            [
             1,
             "#276419"
            ]
           ],
           "sequential": [
            [
             0,
             "#0d0887"
            ],
            [
             0.1111111111111111,
             "#46039f"
            ],
            [
             0.2222222222222222,
             "#7201a8"
            ],
            [
             0.3333333333333333,
             "#9c179e"
            ],
            [
             0.4444444444444444,
             "#bd3786"
            ],
            [
             0.5555555555555556,
             "#d8576b"
            ],
            [
             0.6666666666666666,
             "#ed7953"
            ],
            [
             0.7777777777777778,
             "#fb9f3a"
            ],
            [
             0.8888888888888888,
             "#fdca26"
            ],
            [
             1,
             "#f0f921"
            ]
           ],
           "sequentialminus": [
            [
             0,
             "#0d0887"
            ],
            [
             0.1111111111111111,
             "#46039f"
            ],
            [
             0.2222222222222222,
             "#7201a8"
            ],
            [
             0.3333333333333333,
             "#9c179e"
            ],
            [
             0.4444444444444444,
             "#bd3786"
            ],
            [
             0.5555555555555556,
             "#d8576b"
            ],
            [
             0.6666666666666666,
             "#ed7953"
            ],
            [
             0.7777777777777778,
             "#fb9f3a"
            ],
            [
             0.8888888888888888,
             "#fdca26"
            ],
            [
             1,
             "#f0f921"
            ]
           ]
          },
          "colorway": [
           "#636efa",
           "#EF553B",
           "#00cc96",
           "#ab63fa",
           "#FFA15A",
           "#19d3f3",
           "#FF6692",
           "#B6E880",
           "#FF97FF",
           "#FECB52"
          ],
          "font": {
           "color": "#2a3f5f"
          },
          "geo": {
           "bgcolor": "white",
           "lakecolor": "white",
           "landcolor": "#E5ECF6",
           "showlakes": true,
           "showland": true,
           "subunitcolor": "white"
          },
          "hoverlabel": {
           "align": "left"
          },
          "hovermode": "closest",
          "mapbox": {
           "style": "light"
          },
          "paper_bgcolor": "white",
          "plot_bgcolor": "#E5ECF6",
          "polar": {
           "angularaxis": {
            "gridcolor": "white",
            "linecolor": "white",
            "ticks": ""
           },
           "bgcolor": "#E5ECF6",
           "radialaxis": {
            "gridcolor": "white",
            "linecolor": "white",
            "ticks": ""
           }
          },
          "scene": {
           "xaxis": {
            "backgroundcolor": "#E5ECF6",
            "gridcolor": "white",
            "gridwidth": 2,
            "linecolor": "white",
            "showbackground": true,
            "ticks": "",
            "zerolinecolor": "white"
           },
           "yaxis": {
            "backgroundcolor": "#E5ECF6",
            "gridcolor": "white",
            "gridwidth": 2,
            "linecolor": "white",
            "showbackground": true,
            "ticks": "",
            "zerolinecolor": "white"
           },
           "zaxis": {
            "backgroundcolor": "#E5ECF6",
            "gridcolor": "white",
            "gridwidth": 2,
            "linecolor": "white",
            "showbackground": true,
            "ticks": "",
            "zerolinecolor": "white"
           }
          },
          "shapedefaults": {
           "line": {
            "color": "#2a3f5f"
           }
          },
          "ternary": {
           "aaxis": {
            "gridcolor": "white",
            "linecolor": "white",
            "ticks": ""
           },
           "baxis": {
            "gridcolor": "white",
            "linecolor": "white",
            "ticks": ""
           },
           "bgcolor": "#E5ECF6",
           "caxis": {
            "gridcolor": "white",
            "linecolor": "white",
            "ticks": ""
           }
          },
          "title": {
           "x": 0.05
          },
          "xaxis": {
           "automargin": true,
           "gridcolor": "white",
           "linecolor": "white",
           "ticks": "",
           "title": {
            "standoff": 15
           },
           "zerolinecolor": "white",
           "zerolinewidth": 2
          },
          "yaxis": {
           "automargin": true,
           "gridcolor": "white",
           "linecolor": "white",
           "ticks": "",
           "title": {
            "standoff": 15
           },
           "zerolinecolor": "white",
           "zerolinewidth": 2
          }
         }
        },
        "width": 1600
       }
      }
     },
     "metadata": {},
     "output_type": "display_data"
    }
   ],
   "source": [
    "fig = go.Figure()\n",
    "i = 0\n",
    "colors = ['rgba(204, 25, 25', 'rgba(25, 114, 204', 'rgba(25, 204, 114', ]\n",
    "for player in ['Auston Matthews', 'Connor McDavid']:\n",
    "    time_type = 'Career Game'\n",
    "    df, df_quantiles = get_projections(player, time_type)\n",
    "    fig.add_trace(go.Scatter(x=df[time_type], y=df['XGB'], mode='markers', opacity=0.15, marker=dict(color=colors[i] + ', 1)')))\n",
    "    fig.add_trace(go.Scatter(x=df_quantiles.index, y=df_quantiles[0.8], marker=dict(color=colors[i] + ', 0.05)')))\n",
    "    fig.add_trace(go.Scatter(x=df_quantiles.index, y=df_quantiles[0.2], fill='tonexty', fillcolor=colors[i] + ', 0.1)', marker=dict(color=colors[i] + ', 0.05)'))) # fill to trace0 y\n",
    "    fig.add_trace(go.Scatter(x=df[time_type], y=df['XGB_Lowess'], name=player, mode='lines', marker=dict(color=colors[i] + ', 1)'))) # fill to trace0 y\n",
    "    i += 1\n",
    "fig.update_layout(autosize=False, width=1600, height=500)\n",
    "    # Model fitting\n",
    "fig.show()"
   ]
  },
  {
   "cell_type": "code",
   "execution_count": 334,
   "metadata": {},
   "outputs": [
    {
     "name": "stdout",
     "output_type": "stream",
     "text": [
      "Input: [2.25499834 2.75045775 2.47025409 2.66460765 2.39107017 2.37314419\n",
      " 2.23280521 2.35120465 2.24227579 1.94373795 2.08019513 2.12642492], Predicted: 2.001\n"
     ]
    }
   ],
   "source": [
    "\n",
    "# finalize model and make a prediction for monthly births with xgboost\n",
    "from numpy import asarray\n",
    "from pandas import read_csv\n",
    "from pandas import DataFrame\n",
    "from pandas import concat\n",
    "from xgboost import XGBRegressor\n",
    " \n",
    "# transform a time series dataset into a supervised learning dataset\n",
    "def series_to_supervised(data, n_in=1, n_out=1, dropnan=True):\n",
    "    n_vars = 1 if type(data) is list else data.shape[1]\n",
    "    df = DataFrame(data)\n",
    "    cols = list()\n",
    "    # input sequence (t-n, ... t-1)\n",
    "    for i in range(n_in, 0, -1):\n",
    "        cols.append(df.shift(i))\n",
    "    # forecast sequence (t, t+1, ... t+n)\n",
    "    for i in range(0, n_out):\n",
    "        cols.append(df.shift(-i))\n",
    "    # put it all together\n",
    "    agg = concat(cols, axis=1)\n",
    "    # drop rows with NaN values\n",
    "    if dropnan:\n",
    "        agg.dropna(inplace=True)\n",
    "    return agg.values\n",
    " \n",
    "# load the dataset\n",
    "series = connor[['Projection', 'Kalman']]\n",
    "values = series.values\n",
    "# transform the time series data into supervised learning\n",
    "train = series_to_supervised(values, n_in=6)\n",
    "# split into input and output columns\n",
    "trainX, trainy = train[:, :-2], train[:, -2]\n",
    "# fit model\n",
    "model = XGBRegressor(objective='reg:squarederror', n_estimators=1000)\n",
    "model.fit(trainX, trainy)\n",
    "# construct an input for a new preduction\n",
    "row = values[-6:].flatten()\n",
    "# make a one-step prediction\n",
    "yhat = model.predict(asarray([row]))\n",
    "print('Input: %s, Predicted: %.3f' % (row, yhat[0]))"
   ]
  },
  {
   "cell_type": "code",
   "execution_count": 164,
   "metadata": {},
   "outputs": [
    {
     "name": "stderr",
     "output_type": "stream",
     "text": [
      "100%|██████████| 9/9 [00:00<00:00,  9.78it/s]\n",
      "100%|██████████| 9/9 [00:01<00:00,  8.07it/s]\n",
      "100%|██████████| 9/9 [00:03<00:00,  2.85it/s]\n",
      "100%|██████████| 9/9 [00:02<00:00,  3.38it/s]\n",
      "100%|██████████| 9/9 [00:00<00:00,  9.41it/s]\n",
      "100%|██████████| 9/9 [00:00<00:00,  9.54it/s]\n",
      "100%|██████████| 9/9 [00:01<00:00,  8.37it/s]\n",
      "100%|██████████| 9/9 [00:00<00:00,  9.36it/s]\n",
      "100%|██████████| 9/9 [00:00<00:00,  9.82it/s]\n",
      "100%|██████████| 9/9 [00:01<00:00,  8.86it/s]\n",
      "100%|██████████| 9/9 [00:01<00:00,  7.91it/s]\n",
      "100%|██████████| 9/9 [00:01<00:00,  7.56it/s]\n",
      "100%|██████████| 9/9 [00:00<00:00, 10.51it/s]\n",
      "100%|██████████| 9/9 [00:00<00:00, 10.75it/s]\n",
      "100%|██████████| 9/9 [00:01<00:00,  7.85it/s]\n",
      "100%|██████████| 9/9 [00:01<00:00,  7.92it/s]\n",
      "100%|██████████| 9/9 [00:01<00:00,  8.64it/s]\n",
      "100%|██████████| 9/9 [00:01<00:00,  8.61it/s]\n",
      "100%|██████████| 9/9 [00:01<00:00,  7.40it/s]\n",
      "100%|██████████| 9/9 [00:01<00:00,  8.08it/s]\n",
      "100%|██████████| 9/9 [00:01<00:00,  7.86it/s]\n",
      "100%|██████████| 9/9 [00:01<00:00,  7.66it/s]\n"
     ]
    }
   ],
   "source": [
    "train = []\n",
    "for player in ['Ryan Johansen', 'Mark Giordano', 'Jakub Voracek', 'Zack Kassian', 'Ryan Reaves', 'Connor McDavid', 'Simon Benoit', 'Tim Gleason', 'Sidney Crosby', 'Adam Fox', 'Pavel Datsyuk']:\n",
    "    df, df2 = get_projections(player, 'Career Game')\n",
    "    train.append(df)\n",
    "train = pd.concat(train)\n",
    "trainset = train"
   ]
  },
  {
   "cell_type": "code",
   "execution_count": 49,
   "metadata": {},
   "outputs": [
    {
     "ename": "NameError",
     "evalue": "name 'trainset' is not defined",
     "output_type": "error",
     "traceback": [
      "\u001b[1;31m---------------------------------------------------------------------------\u001b[0m",
      "\u001b[1;31mNameError\u001b[0m                                 Traceback (most recent call last)",
      "Cell \u001b[1;32mIn[49], line 1\u001b[0m\n\u001b[1;32m----> 1\u001b[0m series \u001b[39m=\u001b[39m trainset[[\u001b[39m'\u001b[39m\u001b[39mProjection\u001b[39m\u001b[39m'\u001b[39m, \u001b[39m'\u001b[39m\u001b[39mKalman\u001b[39m\u001b[39m'\u001b[39m]]\n\u001b[0;32m      2\u001b[0m values \u001b[39m=\u001b[39m series\u001b[39m.\u001b[39mvalues\n\u001b[0;32m      3\u001b[0m \u001b[39m# transform the time series data into supervised learning\u001b[39;00m\n",
      "\u001b[1;31mNameError\u001b[0m: name 'trainset' is not defined"
     ]
    }
   ],
   "source": [
    "series = trainset[['Projection', 'Kalman']]\n",
    "values = series.values\n",
    "# transform the time series data into supervised learning\n",
    "train = series_to_supervised(values, n_in=15)\n",
    "# split into input and output columns\n",
    "trainX, trainy = train[:, :-2], train[:, -2]\n",
    "# fit model\n",
    "model = XGBRegressor(objective='reg:squarederror', n_estimators=500)\n",
    "model.fit(trainX, trainy)\n",
    "# construct an input for a new preduction\n",
    "row = values[-15:].flatten()\n",
    "# make a one-step prediction\n",
    "yhat = model.predict(asarray([row]))\n",
    "print('Input: %s, Predicted: %.3f' % (row, yhat[0]))"
   ]
  },
  {
   "cell_type": "code",
   "execution_count": 227,
   "metadata": {},
   "outputs": [],
   "source": [
    "import pickle\n",
    "\n",
    "filename = 'finalized_model.sav'\n",
    "pickle.dump(model, open(filename, 'wb'))"
   ]
  },
  {
   "cell_type": "code",
   "execution_count": 730,
   "metadata": {},
   "outputs": [
    {
     "data": {
      "text/plain": [
       "0.051401741169419424"
      ]
     },
     "execution_count": 730,
     "metadata": {},
     "output_type": "execute_result"
    },
    {
     "data": {
      "image/png": "[encoded data removed]",
      "text/plain": [
       "<Figure size 640x480 with 1 Axes>"
      ]
     },
     "metadata": {},
     "output_type": "display_data"
    }
   ],
   "source": [
    "import matplotlib.pyplot as plt\n",
    "\n",
    "ages = range(18, 48)\n",
    "A = [-0.14396,-0.05957,0.021176,0.080782,0.144998,0.176731,\n",
    "0.181012,0.179595,0.162485,0.137085,0.114395,0.094328,\n",
    "0.071203,0.043198,0.013411,0.002706,-0.01087,-0.030415,\n",
    "-0.04996,-0.03732,-0.06303,-0.03521,-0.038033904,-0.033721952,\n",
    "-0.02941,-0.04036,-0.05131,-0.08806,-0.08892,-0.08978]\n",
    "poly  = np.polyfit(ages, A, 4)\n",
    "fig, ax = plt.subplots()\n",
    "ax.plot(ages, A, label='data')\n",
    "ax.plot(ages, np.polyval(poly, ages), label='fit')\n",
    "ax.set_xlim(18, 50)\n",
    "ax.legend()\n",
    "np.polyval(poly, 20.2)"
   ]
  },
  {
   "cell_type": "code",
   "execution_count": 167,
   "metadata": {},
   "outputs": [
    {
     "name": "stderr",
     "output_type": "stream",
     "text": [
      "C:\\Users\\jetso\\AppData\\Local\\Temp\\ipykernel_368\\1148530922.py:1: FutureWarning:\n",
      "\n",
      "The default value of numeric_only in DataFrameGroupBy.var is deprecated. In a future version, numeric_only will default to False. Either specify numeric_only or select only columns which should be valid for the function.\n",
      "\n"
     ]
    },
    {
     "data": {
      "text/plain": [
       "0.03676015491816453"
      ]
     },
     "execution_count": 167,
     "metadata": {},
     "output_type": "execute_result"
    }
   ],
   "source": [
    "trainset.groupby(['Player']).var()['Projection'].mean()"
   ]
  },
  {
   "cell_type": "code",
   "execution_count": 24,
   "metadata": {},
   "outputs": [
    {
     "name": "stderr",
     "output_type": "stream",
     "text": [
      "100%|██████████| 9/9 [00:01<00:00,  7.00it/s]\n",
      "100%|██████████| 9/9 [00:01<00:00,  7.31it/s]\n"
     ]
    }
   ],
   "source": [
    "df, df1 = get_projections('Auston Matthews', 'Career Game')"
   ]
  },
  {
   "cell_type": "code",
   "execution_count": 39,
   "metadata": {},
   "outputs": [
    {
     "data": {
      "text/plain": [
       "[0.35461799646405234,\n",
       " 0.35223578154649926,\n",
       " 0.2815646748047127,\n",
       " 0.32871139753144757,\n",
       " 0.32309581754859984,\n",
       " 0.2898585146781473,\n",
       " 0.33586485674755534,\n",
       " 0.3371465637863367,\n",
       " 0.35509624013546953,\n",
       " 0.42448362545749196,\n",
       " 0.45829446268339136,\n",
       " 0.39285789062227316,\n",
       " 0.43947560991193757,\n",
       " 0.4482023309264871,\n",
       " 0.5082195464868176,\n",
       " 0.5135082611204419,\n",
       " 0.5715263682478999,\n",
       " 0.5629235996830103,\n",
       " 0.5539283406397204,\n",
       " 0.5843378603005317,\n",
       " 0.6009595683039096,\n",
       " 0.6098171733964084,\n",
       " 0.6921346177543615,\n",
       " 0.76146397568514,\n",
       " 0.8018198802080968,\n",
       " 0.8292026291072654,\n",
       " 0.8113833811788366,\n",
       " 0.7831552734538604,\n",
       " 0.7764010218074291,\n",
       " 0.7331505670750138,\n",
       " 0.7539293890257848,\n",
       " 0.6796554779722391,\n",
       " 0.6503874299106893,\n",
       " 0.6457831221779434,\n",
       " 0.692749669067777,\n",
       " 0.60995752030963,\n",
       " 0.6340355248978818,\n",
       " 0.5696059565863678,\n",
       " 0.6513055461538418,\n",
       " 0.6311399626670817,\n",
       " 0.6527551860373028,\n",
       " 0.5802408196487776,\n",
       " 0.5626180223766521,\n",
       " 0.6491513031072995,\n",
       " 0.6600798563464638,\n",
       " 0.7091734477797729,\n",
       " 0.7517191851919196,\n",
       " 0.7763675282815596,\n",
       " 0.737908455833204,\n",
       " 0.8158130933287063,\n",
       " 0.7924754112734573,\n",
       " 0.7625916186029723,\n",
       " 0.7519099214215211,\n",
       " 0.7065928978713563,\n",
       " 0.6919810097504767,\n",
       " 0.6294048069039392,\n",
       " 0.6146099924170915,\n",
       " 0.5873595300924981,\n",
       " 0.5770335649284335,\n",
       " 0.5895117608150818,\n",
       " 0.5891196630788548,\n",
       " 0.6340536484994252,\n",
       " 0.66240915273924,\n",
       " 0.6547807911030696,\n",
       " 0.6752924451810052,\n",
       " 0.7015529957503838,\n",
       " 0.7397406301797929,\n",
       " 0.7041959291386991,\n",
       " 0.6905858984121158,\n",
       " 0.7437144781443495,\n",
       " 0.7327725662683191,\n",
       " 0.8097862398476755,\n",
       " 0.8474113398206103,\n",
       " 0.9111853381721757,\n",
       " 0.9439623228547529,\n",
       " 0.9544189971002944,\n",
       " 0.9323763701546062,\n",
       " 0.9859136212732518,\n",
       " 1.0116489204235495,\n",
       " 0.9901801500459607,\n",
       " 1.004374259479028,\n",
       " 1.0635245406346456,\n",
       " 1.0715859784568693,\n",
       " 1.018322711890219,\n",
       " 1.056586897824879,\n",
       " 1.0482130351363796,\n",
       " 1.0363381720134532,\n",
       " 1.1007912177114367,\n",
       " 1.0826928514631013,\n",
       " 1.0949782708431501,\n",
       " 1.0614996602089959,\n",
       " 1.0680587270263535,\n",
       " 1.0753380569216906,\n",
       " 1.0222180260601117,\n",
       " 0.9829161551376805,\n",
       " 0.9423102510512998,\n",
       " 0.9324495767524386,\n",
       " 0.992368011813541,\n",
       " 1.0325800679927646,\n",
       " 0.9795768151818125,\n",
       " 1.034039529989106,\n",
       " 0.9809759227722098,\n",
       " 1.010915263361602,\n",
       " 1.0097087868355135,\n",
       " 0.9533259904138378,\n",
       " 0.9182989357190703,\n",
       " 0.8978228785545301,\n",
       " 0.892027859918706,\n",
       " 0.962324019720504,\n",
       " 0.980558991686783,\n",
       " 0.943134135438339,\n",
       " 0.9445303549714277,\n",
       " 0.9864935014633308,\n",
       " 1.0223713863191484,\n",
       " 0.9778568700951082,\n",
       " 1.1074011292199841,\n",
       " 0.99143173471621,\n",
       " 1.0100750495657076,\n",
       " 1.0893016868396126,\n",
       " 0.9835237216082097,\n",
       " 0.9790009599451671,\n",
       " 1.0079404214760774,\n",
       " 0.9591960670042324,\n",
       " 0.9280758704001041,\n",
       " 0.9471487692483018,\n",
       " 0.9334255394781511,\n",
       " 0.9192847444873508,\n",
       " 0.8893496694022439,\n",
       " 0.966685813069216,\n",
       " 0.9668726046436907,\n",
       " 1.0552349544350081,\n",
       " 1.0321353365990622,\n",
       " 1.0405290809822443,\n",
       " 0.9954615588075175,\n",
       " 1.0285129722882613,\n",
       " 1.0871032903390787,\n",
       " 1.0925013036084052,\n",
       " 1.0503205061573888,\n",
       " 1.1139874675113735,\n",
       " 1.109913039438705,\n",
       " 1.0484127252299857,\n",
       " 1.0368098899969598,\n",
       " 1.0265169605457292,\n",
       " 1.0031247939839192,\n",
       " 1.0833347533917235,\n",
       " 1.0662741838684837,\n",
       " 1.1434317623450478,\n",
       " 1.1274798347588775,\n",
       " 1.13561551050021,\n",
       " 1.1445231368546087,\n",
       " 1.1502262196529918,\n",
       " 1.140516314506571,\n",
       " 1.1961079855694858,\n",
       " 1.284920933326772,\n",
       " 1.2539943192801783,\n",
       " 1.24239606474535,\n",
       " 1.1787779555005067,\n",
       " 1.1207695062803724,\n",
       " 1.0922614959046755,\n",
       " 1.2049882358198,\n",
       " 1.1343114966753431,\n",
       " 1.0965629797954948,\n",
       " 1.0921161238497048,\n",
       " 1.1255890987712893,\n",
       " 1.1060764383128783,\n",
       " 1.0297906365525884,\n",
       " 0.9653929355666022,\n",
       " 0.9343241578155964,\n",
       " 0.9708083312411059,\n",
       " 1.013556707703492,\n",
       " 1.0019664209665766,\n",
       " 0.9398090054207983,\n",
       " 0.9001763977961349,\n",
       " 0.8954330140555025,\n",
       " 0.949099894616183,\n",
       " 1.0405864360497208,\n",
       " 0.9928149765470371,\n",
       " 0.9749015220226676,\n",
       " 0.9829067325031624,\n",
       " 0.9366959465403857,\n",
       " 0.9394211670024271,\n",
       " 0.9427981221275052,\n",
       " 0.8526616126365626,\n",
       " 0.8747688583400564,\n",
       " 0.8341831112652301,\n",
       " 0.8099669775443659,\n",
       " 0.8049491870069242,\n",
       " 0.7876465830286905,\n",
       " 0.8711879250108961,\n",
       " 0.9458669122351275,\n",
       " 0.9172305945028403,\n",
       " 0.8824089159687301,\n",
       " 0.9637664345886985,\n",
       " 0.9601112679209485,\n",
       " 0.966210287143845,\n",
       " 0.998665598513133,\n",
       " 0.9985442433391981,\n",
       " 0.9766422810847613,\n",
       " 0.9251177433241833,\n",
       " 0.879972044146879,\n",
       " 0.8196465380919645,\n",
       " 0.8825700393756598,\n",
       " 0.9202087704584883,\n",
       " 0.9548478297752224,\n",
       " 0.9709575103401245,\n",
       " 0.9982833648904273,\n",
       " 0.9588613732722141,\n",
       " 0.9806677565506406,\n",
       " 0.9542927671615069,\n",
       " 0.9339572547035592,\n",
       " 0.9829461348118825,\n",
       " 0.9344134830834968,\n",
       " 0.9666200693509552,\n",
       " 0.9859380830847142,\n",
       " 1.0487344923187343,\n",
       " 0.9915821471414107,\n",
       " 1.054313351650943,\n",
       " 1.0250915091024997,\n",
       " 1.0693501545835715,\n",
       " 1.1601392113833557,\n",
       " 1.1569199523722065,\n",
       " 1.174391952381073,\n",
       " 1.0928062444279776,\n",
       " 1.0717624308897893,\n",
       " 1.0986562026079512,\n",
       " 1.114619690992596,\n",
       " 1.1194563228538992,\n",
       " 1.065381352025487,\n",
       " 1.0589428603197155,\n",
       " 0.9810613798925992,\n",
       " 0.952003178626685,\n",
       " 0.9760711328552429,\n",
       " 1.013910148858751,\n",
       " 0.9863680311880879,\n",
       " 0.91121243026178,\n",
       " 0.9609149692120027,\n",
       " 1.0340181382882723,\n",
       " 1.107889152984225,\n",
       " 1.2222503440074997,\n",
       " 1.1281818260691674,\n",
       " 1.1886837701250865,\n",
       " 1.2228737081173473,\n",
       " 1.1704078325066958,\n",
       " 1.1972499357698239,\n",
       " 1.2035158025425838,\n",
       " 1.2606602627538075,\n",
       " 1.2885801496943794,\n",
       " 1.360336219945242,\n",
       " 1.3017132298247716,\n",
       " 1.2234562333039392,\n",
       " 1.2264054904547765,\n",
       " 1.235937039524581,\n",
       " 1.2111339076602983,\n",
       " 1.1817543296547302,\n",
       " 1.1586583733123599,\n",
       " 1.2812273637732914,\n",
       " 1.2598074845745055,\n",
       " 1.1603026516752972,\n",
       " 1.1637946591632464,\n",
       " 1.148319859967623,\n",
       " 1.1196418172099252,\n",
       " 1.1205158176543977,\n",
       " 1.1399423810885692,\n",
       " 1.1519630600067587,\n",
       " 1.1371693505944174,\n",
       " 1.2191713293244237,\n",
       " 1.250963184482958,\n",
       " 1.3010863318854986,\n",
       " 1.2772451388670598,\n",
       " 1.2286731587385826,\n",
       " 1.2244149824721944,\n",
       " 1.2064504095660187,\n",
       " 1.130310993581152,\n",
       " 1.1874643763664363,\n",
       " 1.2185879441318683,\n",
       " 1.2414768794308486,\n",
       " 1.2051839259806165,\n",
       " 1.2072120761949987,\n",
       " 1.2011735167337594,\n",
       " 1.1909057816616668,\n",
       " 1.2526078781748693,\n",
       " 1.3629603685494731,\n",
       " 1.3745312273560921,\n",
       " 1.3411721440099797,\n",
       " 1.3271112077271514,\n",
       " 1.396469920095008,\n",
       " 1.3875123588592388,\n",
       " 1.4737633236654255,\n",
       " 1.5536976160941252,\n",
       " 1.5153373920908384,\n",
       " 1.5347160660320447,\n",
       " 1.4682509956545953,\n",
       " 1.409141938382189,\n",
       " 1.383010835426259,\n",
       " 1.3831068938001467,\n",
       " 1.393967261420874,\n",
       " 1.3236087380838164,\n",
       " 1.335295278444413,\n",
       " 1.338697059816876,\n",
       " 1.3276088326429394,\n",
       " 1.3265519913686277,\n",
       " 1.373234776762975,\n",
       " 1.4078724751362242,\n",
       " 1.4961473353403028,\n",
       " 1.4778754898578288,\n",
       " 1.5170172190578681,\n",
       " 1.5609090406922954,\n",
       " 1.5999826591137316,\n",
       " 1.7258993650104932,\n",
       " 1.691355101467467,\n",
       " 1.6482241278450354,\n",
       " 1.600741947645666,\n",
       " 1.578102634646669,\n",
       " 1.614767015146071,\n",
       " 1.5985651431072403,\n",
       " 1.6057348950964958,\n",
       " 1.672125746822824,\n",
       " 1.7266377583250174,\n",
       " 1.7266044947122337,\n",
       " 1.7583305487801728,\n",
       " 1.763540471318264,\n",
       " 1.7261746637437245,\n",
       " 1.690317143903255,\n",
       " 1.6718219819456417,\n",
       " 1.6168970046980542,\n",
       " 1.5810487079023987,\n",
       " 1.5280357578665713,\n",
       " 1.4885327618176625,\n",
       " 1.4512749922833663,\n",
       " 1.5418516246351646,\n",
       " 1.5171123800926378,\n",
       " 1.5656048174752304,\n",
       " 1.5329638469399303,\n",
       " 1.5495536077155834,\n",
       " 1.554784011820012,\n",
       " 1.5211264164956881,\n",
       " 1.5755978788721408,\n",
       " 1.5478891266678168,\n",
       " 1.507599487015629,\n",
       " 1.5112096265335075,\n",
       " 1.5684622829355395,\n",
       " 1.584486683632741,\n",
       " 1.5732482635209328,\n",
       " 1.649987991031499,\n",
       " 1.6266242051643216,\n",
       " 1.5847978891605345,\n",
       " 1.6286719325901553,\n",
       " 1.6028242133661588,\n",
       " 1.603331296530508,\n",
       " 1.6095475047329393,\n",
       " 1.5847868717879459,\n",
       " 1.5624152243584526,\n",
       " 1.6227071056047655,\n",
       " 1.625670854414987,\n",
       " 1.6506682052545496,\n",
       " 1.672879330702814,\n",
       " 1.6324649666759377,\n",
       " 1.5546189447856074,\n",
       " 1.57201399001503,\n",
       " 1.5358033325831517,\n",
       " 1.6788065900559908,\n",
       " 1.7376943588673295,\n",
       " 1.7939864131459562,\n",
       " 1.7729220209401149,\n",
       " 1.7562965358426013,\n",
       " 1.7722890492759362,\n",
       " 1.7716641181877681,\n",
       " 1.715846724147118,\n",
       " 1.6499879883388808,\n",
       " 1.710433956961424,\n",
       " 1.7436547635107742,\n",
       " 1.871337510294045,\n",
       " 1.8700051610087522,\n",
       " 1.7858235847630017,\n",
       " 1.816313872964876,\n",
       " 1.88681010923744,\n",
       " 1.9404279628824528,\n",
       " 1.9610710336274932,\n",
       " 1.926718390773194,\n",
       " 1.9805142877536108,\n",
       " 1.939475656200899,\n",
       " 1.9621302684306607,\n",
       " 1.9944878788875808,\n",
       " 1.9770192670631377,\n",
       " 1.9672306909077173,\n",
       " 1.9317328259773259,\n",
       " 2.0328064143134617,\n",
       " 2.0374003971678936,\n",
       " 2.0697558100582114,\n",
       " 2.1165508681487175,\n",
       " 2.058274939504631,\n",
       " 2.0991476963281546,\n",
       " 2.1386847144453287,\n",
       " 2.1441415399740906,\n",
       " 2.107243548048561,\n",
       " 2.1504696953683013,\n",
       " 2.0875628387825085,\n",
       " 2.071383555217896,\n",
       " 2.0904871132517795,\n",
       " 2.0675771027359082,\n",
       " 2.0350396788872382,\n",
       " 2.057235298975927,\n",
       " 1.999933786591764,\n",
       " 1.96924561446366,\n",
       " 1.8884605522353088,\n",
       " 1.8307700977313495,\n",
       " 1.8226046050611302,\n",
       " 1.8431781102603857,\n",
       " 1.8014051522979144,\n",
       " 1.8070042303496556,\n",
       " 1.7421587757452566,\n",
       " 1.7631772284186527,\n",
       " 1.8020582905594946,\n",
       " 1.7841394694252468,\n",
       " 1.7471702003532414,\n",
       " 1.7514953046228303,\n",
       " 1.6709398418273365,\n",
       " 1.6675752684017224,\n",
       " 1.7455753263462104,\n",
       " 1.7575571603848719,\n",
       " 1.7575343609015974,\n",
       " 1.7264802686833256,\n",
       " 1.7497456873730912,\n",
       " 1.8071134709766095,\n",
       " 1.8890614212789594,\n",
       " 1.892864739942211,\n",
       " 1.8453880766535877,\n",
       " 1.8778292144769528,\n",
       " 1.85724783388419,\n",
       " 1.8947201069876505,\n",
       " 1.8946352739925567,\n",
       " 1.8306514270982504,\n",
       " 1.822538328640293,\n",
       " 1.8889147625508182,\n",
       " 1.8427762577659215,\n",
       " 1.791875547306725,\n",
       " 1.7607679375023029,\n",
       " 1.7660255728548342,\n",
       " 1.763797696342597,\n",
       " 1.785141556811596,\n",
       " 1.73141206805594,\n",
       " 1.6743848484653945,\n",
       " 1.6455873635290539,\n",
       " 1.7412723451306273,\n",
       " 1.7527377479381585,\n",
       " 1.6988593227894004,\n",
       " 1.6473842286134508,\n",
       " 1.5794768117541145,\n",
       " 1.657750595068917,\n",
       " 1.5987181152154637,\n",
       " 1.547159809103347,\n",
       " 1.5140255551833797,\n",
       " 1.4351881426677904,\n",
       " 1.514181049539188,\n",
       " 1.571097215256124,\n",
       " 1.5597007397003302,\n",
       " 1.5972350718310098,\n",
       " 1.659498107841572,\n",
       " 1.5718866946809165]"
      ]
     },
     "execution_count": 39,
     "metadata": {},
     "output_type": "execute_result"
    }
   ],
   "source": [
    "\n",
    "sensor_var = 1.3330171065772254\n",
    "process_var = 0.0013513089896074557\n",
    "process_model = gaussian(0., process_var)\n",
    "pos = gaussian(0., 100.)\n",
    "N = len(df) + 20\n",
    "zs = np.concatenate((np.zeros(20), df['Score'].to_list()))\n",
    "ps = []\n",
    "for i in range(N):\n",
    "    prior = predict(pos, process_model)    \n",
    "    pos = update(prior, gaussian(zs[i], sensor_var))\n",
    "    ps.append(pos.mean)\n",
    "\n",
    "ps[30:]"
   ]
  }
 ],
 "metadata": {
  "kernelspec": {
   "display_name": "Python 3",
   "language": "python",
   "name": "python3"
  },
  "language_info": {
   "codemirror_mode": {
    "name": "ipython",
    "version": 3
   },
   "file_extension": ".py",
   "mimetype": "text/x-python",
   "name": "python",
   "nbconvert_exporter": "python",
   "pygments_lexer": "ipython3",
   "version": "3.11.2"
  },
  "orig_nbformat": 4,
  "vscode": {
   "interpreter": {
    "hash": "5067fa2fba54dff224229939409dcaebfa910c462b54507c4967b587e4220943"
   }
  }
 },
 "nbformat": 4,
 "nbformat_minor": 2
}
