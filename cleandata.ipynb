{
 "cells": [
  {
   "cell_type": "code",
   "execution_count": 1,
   "metadata": {},
   "outputs": [],
   "source": [
    "import pandas as pd\n",
    "import numpy as np"
   ]
  },
  {
   "cell_type": "code",
   "execution_count": 4,
   "metadata": {},
   "outputs": [],
   "source": [
    "\n",
    "master = []\n",
    "for year in range(2007, 2023):\n",
    "    skaters = pd.read_csv(f'cleaned/{year}{year+1}_skaters.csv', encoding='utf-8')\n",
    "    skaters['Season'] = str(year) + str(year+1)\n",
    "    skaters['Player'] = skaters['Player'].str.replace('\\xa0', ' ')\n",
    "    skaters['Player'] = skaters['Player'].str.replace('Tim Stützle', 'Tim Stutzle')\n",
    "    skaters['Player'] = skaters['Player'].str.replace('Alexis Lafrenière', 'Alexis Lafreniere')\n",
    "\n",
    "    skaters['Date'] = skaters['Date'].str.replace('/', '-')\n",
    "    skaters.to_csv(f'cleaned/{year}{year+1}_skaters.csv')\n",
    "    master.append(skaters)\n",
    "skaters['Season'] = skaters['Season'].astype(object)\n",
    "skaters = pd.concat(master)\n",
    "skaters = skaters.reset_index(drop=True)\n",
    "skaters.to_csv('cleaned/master_skaters.csv', encoding='utf-8')"
   ]
  },
  {
   "cell_type": "code",
   "execution_count": 5,
   "metadata": {},
   "outputs": [],
   "source": [
    "skaters = pd.read_csv(f'cleaned/master_skaters.csv')\n",
    "skaters['exGF'] = skaters['TOI']*0.032+0.055\n",
    "skaters['exGA'] = skaters['TOI']*0.032+0.055\n",
    "skaters['eGF'] = skaters['TOI']*0.032+0.055\n",
    "skaters['eGA'] = skaters['TOI']*0.032+0.055\n",
    "skaters['GFAA'] = skaters['GF'] - skaters['eGF']\n",
    "skaters['GAAA'] =  skaters['eGA'] - skaters['GA']\n",
    "skaters['xGFAA'] = skaters['xGF'] - skaters['exGF']\n",
    "skaters['xGAAA'] =  skaters['exGA'] - skaters['xGA']\n",
    "skaters['Production'] = (0.75*skaters['Goals']) + (0.7*skaters['First Assists']) + (0.55*skaters['Second Assists']) + (0.5*skaters['ixG']) + (0.05*skaters['Shots Blocked']) \n",
    "skaters['Misc'] = (0.15*(skaters['Penalties Drawn'] - skaters['Total Penalties'])) + (0.01*(skaters['Faceoffs Won'] - skaters['Faceoffs Lost']))\n",
    "skaters['Offense'] = np.where(skaters['Position'] == 'D', \n",
    "((0.425*(skaters['GF'] + skaters['GFAA'])) + (1.7*(skaters['xGF'] + skaters['xGFAA'])))/2.125 - 0.75,\n",
    "(((0.625*(skaters['GF'] + skaters['GFAA'])) + (0.625*(skaters['xGF'] + skaters['xGFAA'])))/2) - 0.4)\n",
    "skaters['Defense'] = np.where(skaters['Position'] == 'D', \n",
    "(((0.575*(-skaters['GA'] + skaters['GAAA'])) + (2.3*(-skaters['xGA'] + skaters['xGAAA'])))/2) + 1.05, \n",
    "(((0.4375*(-skaters['GA'] + skaters['GAAA'])) + (1.7*(-skaters['xGA'] + skaters['xGAAA'])))/2) + 0.6)\n",
    "skaters['Score'] = skaters['Production'] + skaters['Misc'] + skaters['Offense'] + skaters['Defense']\n",
    "skaters = skaters.loc[:, ~skaters.columns.str.contains('^Unnamed')]\n",
    "births = pd.read_csv('birthdates.csv')\n",
    "\n",
    "merged = skaters.merge(births[['Player', 'Season', 'dob']], how='left', on=['Player', 'Season'])\n",
    "merged['dob'] = np.where(((merged.Player == 'Sebastian Aho') & (merged.Team == 'New York Islanders')),'1999-07-26', merged['dob'])\n",
    "merged['dob'] = np.where(((merged.Player == 'Sebastian Aho') & (merged.Team != 'New York Islanders')),'1996-02-17', merged['dob'])\n",
    "merged[[\"Date\", \"dob\"]] = merged[[\"Date\", \"dob\"]].apply(pd.to_datetime)\n",
    "merged['Age'] = (merged[\"Date\"] - merged[\"dob\"]).dt.days/365\n",
    "\n"
   ]
  },
  {
   "cell_type": "code",
   "execution_count": null,
   "metadata": {},
   "outputs": [],
   "source": [
    "goalies = pd.read_csv(f'cleaned/master_goalies.csv')\n",
    "goalies['Score'] = goalies['Expected Goals Against'] - goalies['Goals Against']\n",
    "goalies.sort_values(by='Score', ascending=False)"
   ]
  },
  {
   "cell_type": "code",
   "execution_count": 7,
   "metadata": {},
   "outputs": [
    {
     "ename": "NameError",
     "evalue": "name 'tdhepscrape' is not defined",
     "output_type": "error",
     "traceback": [
      "\u001b[1;31m---------------------------------------------------------------------------\u001b[0m",
      "\u001b[1;31mNameError\u001b[0m                                 Traceback (most recent call last)",
      "Cell \u001b[1;32mIn[7], line 4\u001b[0m\n\u001b[0;32m      2\u001b[0m lst \u001b[39m=\u001b[39m []\n\u001b[0;32m      3\u001b[0m \u001b[39mfor\u001b[39;00m year \u001b[39min\u001b[39;00m \u001b[39mrange\u001b[39m(\u001b[39m2007\u001b[39m, \u001b[39m2022\u001b[39m):\n\u001b[1;32m----> 4\u001b[0m     output \u001b[39m=\u001b[39m tdhepscrape\u001b[39m.\u001b[39mget_skaters(\u001b[39m\"\u001b[39m\u001b[39mnhl\u001b[39m\u001b[39m\"\u001b[39m, \u001b[39mf\u001b[39m\u001b[39m\"\u001b[39m\u001b[39m{\u001b[39;00myear\u001b[39m}\u001b[39;00m\u001b[39m-\u001b[39m\u001b[39m{\u001b[39;00myear\u001b[39m+\u001b[39m\u001b[39m1\u001b[39m\u001b[39m}\u001b[39;00m\u001b[39m\"\u001b[39m)\n\u001b[0;32m      5\u001b[0m     results \u001b[39m=\u001b[39m tdhepscrape\u001b[39m.\u001b[39madd_player_information(output)\n\u001b[0;32m      6\u001b[0m     results[\u001b[39m'\u001b[39m\u001b[39mseason\u001b[39m\u001b[39m'\u001b[39m] \u001b[39m=\u001b[39m \u001b[39mstr\u001b[39m(year) \u001b[39m+\u001b[39m \u001b[39mstr\u001b[39m(year\u001b[39m+\u001b[39m\u001b[39m1\u001b[39m)\n",
      "\u001b[1;31mNameError\u001b[0m: name 'tdhepscrape' is not defined"
     ]
    }
   ],
   "source": [
    "import unidecode\n",
    "lst = []\n",
    "for year in range(2007, 2022):\n",
    "    output = tdhepscrape.get_skaters(\"nhl\", f\"{year}-{year+1}\")\n",
    "    results = tdhepscrape.add_player_information(output)\n",
    "    results['season'] = str(year) + str(year+1)\n",
    "    condensed = results[['player', 'season', 'team', 'dob']]\n",
    "    lst.append(condensed)\n",
    "\n",
    "births = pd.concat(lst)\n",
    "births[['player','pos']] = births['player'].str.split('( ',expand=True)\n",
    "births['pos'] = births['pos'].str.replace(')', '')\n",
    "births['Team'] = births['Team'].str.replace('.', '')\n",
    "births['Player'] = births['Player'].str.replace('Alex ', 'Alexander ')\n",
    "births['Player'] = births['Player'].str.replace('Yevgeni ', 'Evgeni ')\n",
    "\n",
    "decoded = [unidecode.unidecode(e) for e in births['player']]\n",
    "births['player'] = decoded\n",
    "births = births.rename(columns={'player':'Player', 'team':'Team', 'season':'Season'})"
   ]
  },
  {
   "cell_type": "code",
   "execution_count": 105,
   "metadata": {},
   "outputs": [],
   "source": [
    "import plotly.graph_objects as go\n",
    "import numpy as np\n",
    "from moepy import lowess\n",
    "def get_test_projections(alpha):\n",
    "    player = 'Tage Thompson'\n",
    "    df = merged[merged.Player == player]\n",
    "    df = df.sort_values(by='Date')\n",
    "    df['Career Game'] = range(1, len(df) + 1)\n",
    "    df[[\"Date\", \"dob\"]] = df[[\"Date\", \"dob\"]].apply(pd.to_datetime)\n",
    "    projections = [0]\n",
    "    scores = df['Score'].to_list()\n",
    "    total = 0\n",
    "\n",
    "    for i in range(1, len(df)):\n",
    "        curr = 0\n",
    "\n",
    "        j = i-1\n",
    "        if j >= 0:\n",
    "\n",
    "            weight = alpha**(df['Date'].to_list()[i] - df['Date'].to_list()[j]).days\n",
    "        else:\n",
    "            weight = alpha**(-1*j)\n",
    "        \n",
    "        curr += weight * projections[-1] * total\n",
    "        curr += weight * scores[j]\n",
    "        total += 1\n",
    "        total *= weight\n",
    "        projections.append((curr/total))            \n",
    "\n",
    "        \n",
    "\n",
    "    df['Projection'] = projections           \n",
    "\n",
    "        \n",
    "\n",
    "    df['Projection'] = projections\n",
    "    df['Error'] = df['Projection'] - df['Score']\n",
    "    df['AError'] = abs(df['Error'])\n",
    "\n",
    "    return df['AError'].mean()\n"
   ]
  },
  {
   "cell_type": "code",
   "execution_count": 130,
   "metadata": {},
   "outputs": [],
   "source": [
    "import numpy as np\n",
    "\n",
    "def de(fobj, bounds, mut=0.8, crossp=0.7, popsize=20, its=100):\n",
    "    dimensions = len(bounds)\n",
    "    pop = np.random.rand(popsize, dimensions)\n",
    "    min_b, max_b = np.asarray(bounds).T\n",
    "    diff = np.fabs(min_b - max_b)\n",
    "    pop_denorm = min_b + pop * diff\n",
    "    fitness = np.asarray([fobj(ind) for ind in pop_denorm])\n",
    "    best_idx = np.argmin(fitness)\n",
    "    best = pop_denorm[best_idx]\n",
    "    for i in range(its):\n",
    "        for j in range(popsize):\n",
    "            idxs = [idx for idx in range(popsize) if idx != j]\n",
    "            a, b, c = pop[np.random.choice(idxs, 3, replace = False)]\n",
    "            mutant = np.clip(a + mut * (b - c), 0, 1)\n",
    "            cross_points = np.random.rand(dimensions) < crossp\n",
    "            if not np.any(cross_points):\n",
    "                cross_points[np.random.randint(0, dimensions)] = True\n",
    "            trial = np.where(cross_points, mutant, pop[j])\n",
    "            trial_denorm = min_b + trial * diff\n",
    "            f = fobj(trial_denorm)\n",
    "            if f < fitness[j]:\n",
    "                fitness[j] = f\n",
    "                pop[j] = trial\n",
    "                if f < fitness[best_idx]:\n",
    "                    best_idx = j\n",
    "                    best = trial_denorm\n",
    "        yield best, fitness[best_idx]"
   ]
  },
  {
   "cell_type": "code",
   "execution_count": 142,
   "metadata": {},
   "outputs": [
    {
     "name": "stdout",
     "output_type": "stream",
     "text": [
      "(array([0.99809326]), array([0.96051178]))\n"
     ]
    }
   ],
   "source": [
    "it = list(de(lambda x: get_test_projections(x), bounds=[(0.99, 1)]))\n",
    "print(it[-1])"
   ]
  },
  {
   "cell_type": "code",
   "execution_count": 8,
   "metadata": {},
   "outputs": [],
   "source": [
    "import plotly.graph_objects as go\n",
    "import numpy as np\n",
    "from moepy import lowess\n",
    "from collections import namedtuple\n",
    "import pickle\n",
    "from numpy import asarray\n",
    "from pandas import read_csv\n",
    "from pandas import DataFrame\n",
    "from pandas import concat\n",
    "from xgboost import XGBRegressor\n",
    "from scipy.stats import norm\n",
    "from datetime import datetime\n",
    "start_dates = {season: datetime.strptime((str(season)[:4] + '-10-04'), '%Y-%m-%d') for season in skaters.groupby(['Season']).count().index}\n",
    "# transform a time series dataset into a supervised learning dataset\n",
    "def series_to_supervised(data, n_in=1, n_out=1, dropnan=True):\n",
    "    n_vars = 1 if type(data) is list else data.shape[1]\n",
    "    df = DataFrame(data)\n",
    "    cols = list()\n",
    "    # input sequence (t-n, ... t-1)\n",
    "    for i in range(n_in, 0, -1):\n",
    "        cols.append(df.shift(i))\n",
    "    # forecast sequence (t, t+1, ... t+n)\n",
    "    for i in range(0, n_out):\n",
    "        cols.append(df.shift(-i))\n",
    "    # put it all together\n",
    "    agg = concat(cols, axis=1)\n",
    "    # drop rows with NaN values\n",
    "    if dropnan:\n",
    "        agg.dropna(inplace=True)\n",
    "    return agg.values\n",
    "gaussian = namedtuple('Gaussian', ['mean', 'var'])\n",
    "gaussian.__repr__ = lambda s: f'𝒩(μ={s[0]:.3f}, 𝜎²={s[1]:.3f})'\n",
    "def update(prior, measurement):\n",
    "    x, P = prior        # mean and variance of prior\n",
    "    z, R = measurement  # mean and variance of measurement\n",
    "    \n",
    "    y = z - x        # residual\n",
    "    K = P / (P + R)  # Kalman gain\n",
    "\n",
    "    x = x + K*y      # posterior\n",
    "    P = (1 - K) * P  # posterior variance\n",
    "    return gaussian(x, P)\n",
    "\n",
    "def predict(posterior, movement):\n",
    "    x, P = posterior # mean and variance of posterior\n",
    "    dx, Q = movement # mean and variance of movement\n",
    "    x = x + dx\n",
    "    P = P + Q\n",
    "    return gaussian(x, P)\n",
    "\n",
    "def get_projections(player, time_type):\n",
    "    alpha = 0.99809326\n",
    "    df = merged[merged.Player == player]\n",
    "    df = df.sort_values(by='Date')\n",
    "    df['Career Game'] = range(1, len(df) + 1)\n",
    "    df['Adjusted'] = df['Score']*(50/1.55) + 50\n",
    "    df[[\"Date\", \"dob\"]] = df[[\"Date\", \"dob\"]].apply(pd.to_datetime)\n",
    "    projections = [0]\n",
    "    scores = np.concatenate((np.zeros(10),  df['Score'].to_list()))\n",
    "    total = 0\n",
    "\n",
    "    for i in range(-9, len(df)):\n",
    "        curr = 0\n",
    "\n",
    "        j = i-1\n",
    "        if j >= 0:\n",
    "\n",
    "            weight = alpha**(df['Date'].to_list()[i] - df['Date'].to_list()[j]).days\n",
    "        else:\n",
    "            weight = alpha**(-1*j)\n",
    "        \n",
    "        curr += weight * projections[-1] * total\n",
    "        curr += weight * scores[j+10]\n",
    "        total += 1\n",
    "        total *= weight\n",
    "        projections.append((curr/total))            \n",
    "\n",
    "        \n",
    "\n",
    "    df['Projection'] = projections[10:]\n",
    "\n",
    "\n",
    "\n",
    "    sensor_var = 1.3330171065772254\n",
    "    process_var = 0.0013513089896074557\n",
    "    process_model = gaussian(0., process_var)\n",
    "    pos = gaussian(0., 100.)\n",
    "    N = len(df) + 10\n",
    "    zs = np.concatenate((np.zeros(10), df['Score'].to_list()))\n",
    "    ps = []\n",
    "    for i in range(N):\n",
    "        prior = predict(pos, process_model)    \n",
    "        pos = update(prior, gaussian(zs[i], sensor_var))\n",
    "        ps.append(pos.mean)\n",
    "    df['Kalman'] = ps[10:]\n",
    "\n",
    "    # load the dataset\n",
    "    series = df[['Projection', 'Kalman']]\n",
    "    values = series.values\n",
    "\n",
    "    # fit model\n",
    "    model = pickle.load(open('finalized_model.sav', 'rb'))\n",
    "    # construct an input for a new preduction\n",
    "    preds = df['Kalman'].to_list()[:82]\n",
    "    for i in range(82, len(df)):\n",
    "        row = values[i-82:i].flatten()\n",
    "    # make a one-step prediction\n",
    "        yhat = model.predict(asarray([row]))\n",
    "        preds.append(yhat[0])\n",
    "    df['XGB'] = preds\n",
    "\n",
    "    ages = range(18, 48)\n",
    "    A = [-0.14396,-0.05957,0.021176,0.080782,0.144998,0.176731,\n",
    "            0.181012,0.179595,0.162485,0.137085,0.114395,0.094328,\n",
    "            0.071203,0.043198,0.013411,0.002706,-0.01087,-0.030415,\n",
    "            -0.04996,-0.03732,-0.06303,-0.03521,-0.038033904,-0.033721952,\n",
    "            -0.02941,-0.04036,-0.05131,-0.08806,-0.08892,-0.08978]\n",
    "    poly  = np.polyfit(ages, A, 4)\n",
    "    for i in range(1, len(preds)):\n",
    "        prev_age = df['Age'].to_list()[i-1]\n",
    "        prev_expected = np.polyval(poly, prev_age)\n",
    "        curr_expected = np.polyval(poly, df['Age'].to_list()[i])\n",
    "        multiplier = curr_expected/prev_expected\n",
    "        if preds[i] < 0:\n",
    "            preds[i] = preds[i]/multiplier\n",
    "        else:\n",
    "            preds[i] = preds[i] * multiplier\n",
    "\n",
    "\n",
    "\n",
    "    for i in range(0, len(df)):\n",
    "        season = df['Season'].to_list()[i]\n",
    "        since_start = (df['Date'].to_list()[i] - start_dates[season]).days\n",
    "        season_adjust = (-0.00109 * since_start  + 1.1)\n",
    "        if df['Venue'].to_list()[i] == 'Home':\n",
    "            preds[i] = preds[i]*1.35*season_adjust*1.2\n",
    "        else:\n",
    "            preds[i] = preds[i]*1.35*season_adjust*0.8\n",
    "\n",
    "\n",
    "        prev = merged[(merged.Season == season) & (merged.Date < df['Date'].to_list()[i])]\n",
    "        opps = prev.groupby(['Opposition']).mean(numeric_only=True)[['Score']]\n",
    "        opps['Multiplier'] = (opps['Score']+5)/5.438829866884756\n",
    "        mult = opps[opps.index == (df['Opposition'].to_list()[i])]['Multiplier']\n",
    "        if len(mult) > 0:\n",
    "            mult = mult[0]\n",
    "        else:\n",
    "            mult = 1\n",
    "        preds[i] = preds[i] * mult\n",
    "\n",
    "    df['adjXGB'] = preds\n",
    "      \n",
    "    # Model fitting\n",
    "    frac = 0.25\n",
    "    quant_reg_func = lowess.calc_quant_reg_betas\n",
    "    quantile_model = lowess.Lowess(reg_func=quant_reg_func)\n",
    "    quantile_model.fit(np.asarray(df[time_type]), np.asarray(df['XGB']), frac=frac, q=0.5, robust_iters=3)\n",
    "    df_quantiles = lowess.quantile_model(np.asarray(df[time_type]), np.asarray(df['XGB']), frac=frac, num_fits=20, robust_iters=3)\n",
    "    df['XGB_Lowess'] = df_quantiles[0.5].to_list()\n",
    "\n",
    "    quant_reg_func = lowess.calc_quant_reg_betas\n",
    "    quantile_model = lowess.Lowess(reg_func=quant_reg_func)\n",
    "    quantile_model.fit(np.asarray(df[time_type]), np.asarray(df['adjXGB']), frac=frac, q=0.5, robust_iters=3)\n",
    "    df_quantiles = lowess.quantile_model(np.asarray(df[time_type]), np.asarray(df['adjXGB']), frac=frac, num_fits=20, robust_iters=3)\n",
    "    df['adjXGB_Lowess'] = df_quantiles[0.5].to_list()\n",
    "    pots = []\n",
    "    mults = []\n",
    "    for i in range(0, len(df)):\n",
    "        curr_age = df['Age'].to_list()[i]\n",
    "        if curr_age <= 24.26795064:\n",
    "            curr_expected = np.polyval(poly, curr_age)\n",
    "            multiplier = (0.37233423)/(curr_expected+0.2)\n",
    "            mults.append(multiplier)\n",
    "            if df['XGB_Lowess'].to_list()[i] < 0:\n",
    "                pots.append(df['XGB_Lowess'].to_list()[i]/multiplier)\n",
    "            else:\n",
    "                pots.append(df['XGB_Lowess'].to_list()[i]  * multiplier)\n",
    "\n",
    "        elif curr_age <= 38.62152643:\n",
    "            mults.append(1)\n",
    "\n",
    "            pots.append(df['XGB_Lowess'].to_list()[i] )\n",
    "        elif curr_age <= 42.25458411:\n",
    "            curr_expected = np.polyval(poly, curr_age)\n",
    "            multiplier = 0.24220954/(curr_expected+0.2)\n",
    "            mults.append(multiplier)\n",
    "\n",
    "            if df['XGB_Lowess'].to_list()[i] < 0:\n",
    "                pots.append(df['XGB_Lowess'].to_list()[i]/multiplier)\n",
    "            else:\n",
    "                pots.append(df['XGB_Lowess'].to_list()[i]  * multiplier)        \n",
    "        else:\n",
    "            mults.append(1)\n",
    "\n",
    "            pots.append(df['XGB_Lowess'].to_list()[i] )\n",
    "    df['multiplier'] = mults\n",
    "    df['Potential'] = pots\n",
    "    df.reset_index(inplace=True, drop=True)\n",
    "    df_quantiles.reset_index(inplace=True, drop=True)\n",
    "    return df, df_quantiles\n",
    "\n"
   ]
  },
  {
   "cell_type": "code",
   "execution_count": 46,
   "metadata": {},
   "outputs": [
    {
     "name": "stdout",
     "output_type": "stream",
     "text": [
      "A.J. Greer\n",
      "Aaron Ekblad\n",
      "Aatu Raty\n",
      "Adam Beckman\n",
      "Adam Boqvist\n",
      "Adam Erne\n",
      "Adam Fox\n",
      "Adam Henrique\n",
      "Adam Larsson\n",
      "Adam Lowry\n"
     ]
    },
    {
     "name": "stderr",
     "output_type": "stream",
     "text": [
      "100%|██████████| 9/9 [00:01<00:00,  6.38it/s]\n",
      "100%|██████████| 9/9 [00:01<00:00,  5.98it/s]\n"
     ]
    },
    {
     "name": "stdout",
     "output_type": "stream",
     "text": [
      "Adam Pelech\n"
     ]
    },
    {
     "name": "stderr",
     "output_type": "stream",
     "text": [
      "100%|██████████| 9/9 [00:04<00:00,  2.21it/s]\n",
      "100%|██████████| 9/9 [00:04<00:00,  2.16it/s]\n"
     ]
    },
    {
     "name": "stdout",
     "output_type": "stream",
     "text": [
      "Adam Ruzicka\n"
     ]
    },
    {
     "name": "stderr",
     "output_type": "stream",
     "text": [
      "100%|██████████| 9/9 [00:04<00:00,  2.10it/s]\n",
      "100%|██████████| 9/9 [00:04<00:00,  1.86it/s]\n"
     ]
    },
    {
     "name": "stdout",
     "output_type": "stream",
     "text": [
      "Adrian Kempe\n"
     ]
    },
    {
     "name": "stderr",
     "output_type": "stream",
     "text": [
      "100%|██████████| 9/9 [00:03<00:00,  2.31it/s]\n",
      "100%|██████████| 9/9 [00:03<00:00,  2.64it/s]\n"
     ]
    },
    {
     "name": "stdout",
     "output_type": "stream",
     "text": [
      "Alec Martinez\n"
     ]
    },
    {
     "name": "stderr",
     "output_type": "stream",
     "text": [
      "100%|██████████| 9/9 [00:04<00:00,  1.90it/s]\n",
      "100%|██████████| 9/9 [00:04<00:00,  1.90it/s]\n"
     ]
    },
    {
     "name": "stdout",
     "output_type": "stream",
     "text": [
      "Alec Regula\n"
     ]
    },
    {
     "name": "stderr",
     "output_type": "stream",
     "text": [
      "100%|██████████| 9/9 [00:04<00:00,  2.03it/s]\n",
      "100%|██████████| 9/9 [00:06<00:00,  1.29it/s]\n"
     ]
    },
    {
     "name": "stdout",
     "output_type": "stream",
     "text": [
      "Aleksander Barkov\n"
     ]
    },
    {
     "name": "stderr",
     "output_type": "stream",
     "text": [
      "100%|██████████| 9/9 [00:03<00:00,  2.46it/s]\n",
      "100%|██████████| 9/9 [00:03<00:00,  2.28it/s]\n"
     ]
    },
    {
     "name": "stdout",
     "output_type": "stream",
     "text": [
      "Aleksi Heponiemi\n"
     ]
    },
    {
     "name": "stderr",
     "output_type": "stream",
     "text": [
      "100%|██████████| 9/9 [00:04<00:00,  1.81it/s]\n",
      "100%|██████████| 9/9 [00:04<00:00,  1.96it/s]\n"
     ]
    },
    {
     "name": "stdout",
     "output_type": "stream",
     "text": [
      "Alex Barré-Boulet\n"
     ]
    },
    {
     "name": "stderr",
     "output_type": "stream",
     "text": [
      "100%|██████████| 9/9 [00:04<00:00,  1.94it/s]\n",
      "100%|██████████| 9/9 [00:17<00:00,  1.93s/it]\n"
     ]
    },
    {
     "name": "stdout",
     "output_type": "stream",
     "text": [
      "Alex Belzile\n"
     ]
    },
    {
     "name": "stderr",
     "output_type": "stream",
     "text": [
      "100%|██████████| 9/9 [00:04<00:00,  2.19it/s]\n",
      "100%|██████████| 9/9 [00:04<00:00,  2.20it/s]\n"
     ]
    },
    {
     "name": "stdout",
     "output_type": "stream",
     "text": [
      "Alex Chiasson\n"
     ]
    },
    {
     "name": "stderr",
     "output_type": "stream",
     "text": [
      "100%|██████████| 9/9 [00:03<00:00,  2.35it/s]\n",
      "100%|██████████| 9/9 [00:04<00:00,  2.23it/s]\n"
     ]
    },
    {
     "name": "stdout",
     "output_type": "stream",
     "text": [
      "Alex DeBrincat\n"
     ]
    },
    {
     "name": "stderr",
     "output_type": "stream",
     "text": [
      "100%|██████████| 9/9 [00:03<00:00,  2.54it/s]\n",
      "100%|██████████| 9/9 [00:03<00:00,  2.26it/s]\n"
     ]
    },
    {
     "name": "stdout",
     "output_type": "stream",
     "text": [
      "Alex Galchenyuk\n"
     ]
    },
    {
     "name": "stderr",
     "output_type": "stream",
     "text": [
      "100%|██████████| 9/9 [00:04<00:00,  2.10it/s]\n",
      "100%|██████████| 9/9 [00:04<00:00,  1.99it/s]\n"
     ]
    },
    {
     "name": "stdout",
     "output_type": "stream",
     "text": [
      "Alex Goligoski\n"
     ]
    },
    {
     "name": "stderr",
     "output_type": "stream",
     "text": [
      "100%|██████████| 9/9 [00:04<00:00,  1.82it/s]\n",
      "100%|██████████| 9/9 [00:04<00:00,  1.91it/s]\n"
     ]
    },
    {
     "name": "stdout",
     "output_type": "stream",
     "text": [
      "Alex Iafallo\n"
     ]
    },
    {
     "name": "stderr",
     "output_type": "stream",
     "text": [
      "100%|██████████| 9/9 [00:03<00:00,  2.41it/s]\n",
      "100%|██████████| 9/9 [00:04<00:00,  2.21it/s]\n"
     ]
    },
    {
     "name": "stdout",
     "output_type": "stream",
     "text": [
      "Alex Killorn\n"
     ]
    },
    {
     "name": "stderr",
     "output_type": "stream",
     "text": [
      "100%|██████████| 9/9 [00:03<00:00,  2.33it/s]\n",
      "100%|██████████| 9/9 [00:04<00:00,  2.14it/s]\n"
     ]
    },
    {
     "name": "stdout",
     "output_type": "stream",
     "text": [
      "Alex Newhook\n"
     ]
    },
    {
     "name": "stderr",
     "output_type": "stream",
     "text": [
      "100%|██████████| 9/9 [00:04<00:00,  2.17it/s]\n",
      "100%|██████████| 9/9 [00:04<00:00,  1.95it/s]\n"
     ]
    },
    {
     "name": "stdout",
     "output_type": "stream",
     "text": [
      "Alex Nylander\n"
     ]
    },
    {
     "name": "stderr",
     "output_type": "stream",
     "text": [
      "100%|██████████| 9/9 [00:03<00:00,  2.35it/s]\n",
      "100%|██████████| 9/9 [00:03<00:00,  2.38it/s]\n"
     ]
    },
    {
     "name": "stdout",
     "output_type": "stream",
     "text": [
      "Alex Ovechkin\n"
     ]
    },
    {
     "name": "stderr",
     "output_type": "stream",
     "text": [
      "100%|██████████| 9/9 [00:04<00:00,  1.96it/s]\n",
      "100%|██████████| 9/9 [00:05<00:00,  1.77it/s]\n"
     ]
    },
    {
     "name": "stdout",
     "output_type": "stream",
     "text": [
      "Alex Pietrangelo\n"
     ]
    },
    {
     "name": "stderr",
     "output_type": "stream",
     "text": [
      "100%|██████████| 9/9 [00:04<00:00,  2.14it/s]\n",
      "100%|██████████| 9/9 [00:04<00:00,  1.95it/s]\n"
     ]
    },
    {
     "name": "stdout",
     "output_type": "stream",
     "text": [
      "Alex Steeves\n"
     ]
    },
    {
     "name": "stderr",
     "output_type": "stream",
     "text": [
      "100%|██████████| 9/9 [00:02<00:00,  4.12it/s]\n",
      "100%|██████████| 9/9 [00:02<00:00,  4.28it/s]\n"
     ]
    },
    {
     "name": "stdout",
     "output_type": "stream",
     "text": [
      "Alex Tuch\n"
     ]
    },
    {
     "name": "stderr",
     "output_type": "stream",
     "text": [
      "100%|██████████| 9/9 [00:03<00:00,  2.27it/s]\n",
      "100%|██████████| 9/9 [00:03<00:00,  2.26it/s]\n"
     ]
    },
    {
     "name": "stdout",
     "output_type": "stream",
     "text": [
      "Alex Turcotte\n"
     ]
    },
    {
     "name": "stderr",
     "output_type": "stream",
     "text": [
      "100%|██████████| 9/9 [00:02<00:00,  3.49it/s]\n",
      "100%|██████████| 9/9 [00:03<00:00,  2.96it/s]\n"
     ]
    },
    {
     "name": "stdout",
     "output_type": "stream",
     "text": [
      "Alex Wennberg\n"
     ]
    },
    {
     "name": "stderr",
     "output_type": "stream",
     "text": [
      "100%|██████████| 9/9 [00:04<00:00,  2.12it/s]\n",
      "100%|██████████| 9/9 [00:03<00:00,  2.51it/s]\n"
     ]
    },
    {
     "name": "stdout",
     "output_type": "stream",
     "text": [
      "Alexander Alexeyev\n"
     ]
    },
    {
     "name": "stderr",
     "output_type": "stream",
     "text": [
      "100%|██████████| 9/9 [00:03<00:00,  2.80it/s]\n",
      "100%|██████████| 9/9 [00:17<00:00,  1.97s/it]\n"
     ]
    },
    {
     "name": "stdout",
     "output_type": "stream",
     "text": [
      "Alexander Barabanov\n"
     ]
    },
    {
     "name": "stderr",
     "output_type": "stream",
     "text": [
      "100%|██████████| 9/9 [00:03<00:00,  2.33it/s]\n",
      "100%|██████████| 9/9 [00:03<00:00,  2.29it/s]\n"
     ]
    },
    {
     "name": "stdout",
     "output_type": "stream",
     "text": [
      "Alexander Edler\n"
     ]
    },
    {
     "name": "stderr",
     "output_type": "stream",
     "text": [
      "100%|██████████| 9/9 [00:05<00:00,  1.79it/s]\n",
      "100%|██████████| 9/9 [00:04<00:00,  1.87it/s]\n"
     ]
    },
    {
     "name": "stdout",
     "output_type": "stream",
     "text": [
      "Alexander Holtz\n"
     ]
    },
    {
     "name": "stderr",
     "output_type": "stream",
     "text": [
      "100%|██████████| 9/9 [00:03<00:00,  2.91it/s]\n",
      "100%|██████████| 9/9 [00:17<00:00,  1.92s/it]\n"
     ]
    },
    {
     "name": "stdout",
     "output_type": "stream",
     "text": [
      "Alexander Kerfoot\n"
     ]
    },
    {
     "name": "stderr",
     "output_type": "stream",
     "text": [
      "100%|██████████| 9/9 [00:03<00:00,  2.28it/s]\n",
      "100%|██████████| 9/9 [00:04<00:00,  2.12it/s]\n"
     ]
    },
    {
     "name": "stdout",
     "output_type": "stream",
     "text": [
      "Alexander Romanov\n"
     ]
    },
    {
     "name": "stderr",
     "output_type": "stream",
     "text": [
      "100%|██████████| 9/9 [00:04<00:00,  2.14it/s]\n",
      "100%|██████████| 9/9 [00:04<00:00,  2.06it/s]\n"
     ]
    },
    {
     "name": "stdout",
     "output_type": "stream",
     "text": [
      "Alexandre Carrier\n"
     ]
    },
    {
     "name": "stderr",
     "output_type": "stream",
     "text": [
      "100%|██████████| 9/9 [00:04<00:00,  2.05it/s]\n",
      "100%|██████████| 9/9 [00:04<00:00,  2.09it/s]\n"
     ]
    },
    {
     "name": "stdout",
     "output_type": "stream",
     "text": [
      "Alexey Toropchenko\n"
     ]
    },
    {
     "name": "stderr",
     "output_type": "stream",
     "text": [
      "100%|██████████| 9/9 [00:03<00:00,  2.27it/s]\n",
      "100%|██████████| 9/9 [00:17<00:00,  1.96s/it]\n"
     ]
    },
    {
     "name": "stdout",
     "output_type": "stream",
     "text": [
      "Alexis Lafreniere\n"
     ]
    },
    {
     "name": "stderr",
     "output_type": "stream",
     "text": [
      "100%|██████████| 9/9 [00:03<00:00,  2.59it/s]\n",
      "100%|██████████| 9/9 [00:04<00:00,  2.22it/s]\n"
     ]
    },
    {
     "name": "stdout",
     "output_type": "stream",
     "text": [
      "Aliaksei Protas\n"
     ]
    },
    {
     "name": "stderr",
     "output_type": "stream",
     "text": [
      "100%|██████████| 9/9 [00:04<00:00,  2.08it/s]\n",
      "100%|██████████| 9/9 [00:04<00:00,  1.89it/s]\n"
     ]
    },
    {
     "name": "stdout",
     "output_type": "stream",
     "text": [
      "Anders Bjork\n"
     ]
    },
    {
     "name": "stderr",
     "output_type": "stream",
     "text": [
      "100%|██████████| 9/9 [00:04<00:00,  1.86it/s]\n",
      "100%|██████████| 9/9 [00:04<00:00,  1.98it/s]\n"
     ]
    },
    {
     "name": "stdout",
     "output_type": "stream",
     "text": [
      "Anders Lee\n"
     ]
    },
    {
     "name": "stderr",
     "output_type": "stream",
     "text": [
      "100%|██████████| 9/9 [00:03<00:00,  2.38it/s]\n",
      "100%|██████████| 9/9 [00:04<00:00,  2.12it/s]\n"
     ]
    },
    {
     "name": "stdout",
     "output_type": "stream",
     "text": [
      "Andre Burakovsky\n"
     ]
    },
    {
     "name": "stderr",
     "output_type": "stream",
     "text": [
      "100%|██████████| 9/9 [00:04<00:00,  2.13it/s]\n",
      "100%|██████████| 9/9 [00:04<00:00,  1.86it/s]\n"
     ]
    },
    {
     "name": "stdout",
     "output_type": "stream",
     "text": [
      "Andreas Athanasiou\n"
     ]
    },
    {
     "name": "stderr",
     "output_type": "stream",
     "text": [
      "100%|██████████| 9/9 [00:04<00:00,  2.20it/s]\n",
      "100%|██████████| 9/9 [00:04<00:00,  2.21it/s]\n"
     ]
    },
    {
     "name": "stdout",
     "output_type": "stream",
     "text": [
      "Andreas Englund\n"
     ]
    },
    {
     "name": "stderr",
     "output_type": "stream",
     "text": [
      "100%|██████████| 9/9 [00:03<00:00,  2.85it/s]\n",
      "100%|██████████| 9/9 [00:03<00:00,  2.79it/s]\n"
     ]
    },
    {
     "name": "stdout",
     "output_type": "stream",
     "text": [
      "Andreas Johnsson\n"
     ]
    },
    {
     "name": "stderr",
     "output_type": "stream",
     "text": [
      "100%|██████████| 9/9 [00:04<00:00,  2.24it/s]\n",
      "100%|██████████| 9/9 [00:04<00:00,  2.21it/s]\n"
     ]
    },
    {
     "name": "stdout",
     "output_type": "stream",
     "text": [
      "Andrei Kuzmenko\n"
     ]
    },
    {
     "name": "stderr",
     "output_type": "stream",
     "text": [
      "100%|██████████| 9/9 [00:04<00:00,  1.98it/s]\n",
      "100%|██████████| 9/9 [00:05<00:00,  1.59it/s]\n"
     ]
    },
    {
     "name": "stdout",
     "output_type": "stream",
     "text": [
      "Andrei Svechnikov\n"
     ]
    },
    {
     "name": "stderr",
     "output_type": "stream",
     "text": [
      "100%|██████████| 9/9 [00:04<00:00,  2.11it/s]\n",
      "100%|██████████| 9/9 [00:04<00:00,  1.90it/s]\n"
     ]
    },
    {
     "name": "stdout",
     "output_type": "stream",
     "text": [
      "Andrew Agozzino\n"
     ]
    },
    {
     "name": "stderr",
     "output_type": "stream",
     "text": [
      "100%|██████████| 9/9 [00:04<00:00,  2.18it/s]\n",
      "100%|██████████| 9/9 [00:17<00:00,  1.91s/it]\n"
     ]
    },
    {
     "name": "stdout",
     "output_type": "stream",
     "text": [
      "Andrew Cogliano\n"
     ]
    },
    {
     "name": "stderr",
     "output_type": "stream",
     "text": [
      "100%|██████████| 9/9 [00:04<00:00,  1.84it/s]\n",
      "100%|██████████| 9/9 [00:04<00:00,  1.85it/s]\n"
     ]
    },
    {
     "name": "stdout",
     "output_type": "stream",
     "text": [
      "Andrew Copp\n"
     ]
    },
    {
     "name": "stderr",
     "output_type": "stream",
     "text": [
      "100%|██████████| 9/9 [00:03<00:00,  2.32it/s]\n",
      "100%|██████████| 9/9 [00:04<00:00,  2.20it/s]\n"
     ]
    },
    {
     "name": "stdout",
     "output_type": "stream",
     "text": [
      "Andrew Mangiapane\n"
     ]
    },
    {
     "name": "stderr",
     "output_type": "stream",
     "text": [
      "100%|██████████| 9/9 [00:03<00:00,  2.46it/s]\n",
      "100%|██████████| 9/9 [00:03<00:00,  2.47it/s]\n"
     ]
    },
    {
     "name": "stdout",
     "output_type": "stream",
     "text": [
      "Andrew Peeke\n"
     ]
    },
    {
     "name": "stderr",
     "output_type": "stream",
     "text": [
      "100%|██████████| 9/9 [00:03<00:00,  2.30it/s]\n",
      "100%|██████████| 9/9 [00:03<00:00,  2.31it/s]\n"
     ]
    },
    {
     "name": "stdout",
     "output_type": "stream",
     "text": [
      "Andy Andreoff\n"
     ]
    },
    {
     "name": "stderr",
     "output_type": "stream",
     "text": [
      "100%|██████████| 9/9 [00:03<00:00,  2.40it/s]\n",
      "100%|██████████| 9/9 [00:03<00:00,  2.45it/s]\n"
     ]
    },
    {
     "name": "stdout",
     "output_type": "stream",
     "text": [
      "Anthony Beauvillier\n"
     ]
    },
    {
     "name": "stderr",
     "output_type": "stream",
     "text": [
      "100%|██████████| 9/9 [00:03<00:00,  2.44it/s]\n",
      "100%|██████████| 9/9 [00:03<00:00,  2.59it/s]\n"
     ]
    },
    {
     "name": "stdout",
     "output_type": "stream",
     "text": [
      "Anthony Cirelli\n"
     ]
    },
    {
     "name": "stderr",
     "output_type": "stream",
     "text": [
      "100%|██████████| 9/9 [00:04<00:00,  2.04it/s]\n",
      "100%|██████████| 9/9 [00:04<00:00,  1.93it/s]\n"
     ]
    },
    {
     "name": "stdout",
     "output_type": "stream",
     "text": [
      "Anthony Duclair\n"
     ]
    },
    {
     "name": "stderr",
     "output_type": "stream",
     "text": [
      "100%|██████████| 9/9 [00:04<00:00,  2.18it/s]\n",
      "100%|██████████| 9/9 [00:05<00:00,  1.77it/s]\n"
     ]
    },
    {
     "name": "stdout",
     "output_type": "stream",
     "text": [
      "Anthony Mantha\n"
     ]
    },
    {
     "name": "stderr",
     "output_type": "stream",
     "text": [
      "100%|██████████| 9/9 [00:05<00:00,  1.71it/s]\n",
      "100%|██████████| 9/9 [00:04<00:00,  2.16it/s]\n"
     ]
    },
    {
     "name": "stdout",
     "output_type": "stream",
     "text": [
      "Anthony Richard\n"
     ]
    },
    {
     "name": "stderr",
     "output_type": "stream",
     "text": [
      "100%|██████████| 9/9 [00:03<00:00,  3.00it/s]\n",
      "100%|██████████| 9/9 [00:03<00:00,  2.55it/s]\n"
     ]
    },
    {
     "name": "stdout",
     "output_type": "stream",
     "text": [
      "Anton Blidh\n"
     ]
    },
    {
     "name": "stderr",
     "output_type": "stream",
     "text": [
      "100%|██████████| 9/9 [00:04<00:00,  2.24it/s]\n",
      "100%|██████████| 9/9 [00:04<00:00,  2.07it/s]\n",
      "c:\\Users\\jetso\\AppData\\Local\\Programs\\Python\\Python311\\Lib\\site-packages\\moepy\\lowess.py:38: RuntimeWarning:\n",
      "\n",
      "divide by zero encountered in divide\n",
      "\n",
      "c:\\Users\\jetso\\AppData\\Local\\Programs\\Python\\Python311\\Lib\\site-packages\\moepy\\lowess.py:38: RuntimeWarning:\n",
      "\n",
      "invalid value encountered in divide\n",
      "\n"
     ]
    },
    {
     "name": "stdout",
     "output_type": "stream",
     "text": [
      "Anton Levtchi\n"
     ]
    },
    {
     "name": "stderr",
     "output_type": "stream",
     "text": [
      "100%|██████████| 9/9 [00:00<00:00, 17.60it/s]\n",
      "c:\\Users\\jetso\\AppData\\Local\\Programs\\Python\\Python311\\Lib\\site-packages\\moepy\\lowess.py:38: RuntimeWarning:\n",
      "\n",
      "divide by zero encountered in divide\n",
      "\n",
      "c:\\Users\\jetso\\AppData\\Local\\Programs\\Python\\Python311\\Lib\\site-packages\\moepy\\lowess.py:38: RuntimeWarning:\n",
      "\n",
      "invalid value encountered in divide\n",
      "\n",
      "100%|██████████| 9/9 [00:00<00:00, 18.33it/s]\n"
     ]
    },
    {
     "name": "stdout",
     "output_type": "stream",
     "text": [
      "Anton Lundell\n"
     ]
    },
    {
     "name": "stderr",
     "output_type": "stream",
     "text": [
      "100%|██████████| 9/9 [00:05<00:00,  1.72it/s]\n",
      "100%|██████████| 9/9 [00:04<00:00,  1.81it/s]\n"
     ]
    },
    {
     "name": "stdout",
     "output_type": "stream",
     "text": [
      "Anton Stralman\n"
     ]
    },
    {
     "name": "stderr",
     "output_type": "stream",
     "text": [
      "100%|██████████| 9/9 [00:04<00:00,  1.98it/s]\n",
      "100%|██████████| 9/9 [00:04<00:00,  2.15it/s]\n"
     ]
    },
    {
     "name": "stdout",
     "output_type": "stream",
     "text": [
      "Anze Kopitar\n"
     ]
    },
    {
     "name": "stderr",
     "output_type": "stream",
     "text": [
      "100%|██████████| 9/9 [00:04<00:00,  1.98it/s]\n",
      "100%|██████████| 9/9 [00:04<00:00,  1.99it/s]\n"
     ]
    },
    {
     "name": "stdout",
     "output_type": "stream",
     "text": [
      "Arber Xhekaj\n"
     ]
    },
    {
     "name": "stderr",
     "output_type": "stream",
     "text": [
      "100%|██████████| 9/9 [00:02<00:00,  3.20it/s]\n",
      "100%|██████████| 9/9 [00:03<00:00,  2.69it/s]\n"
     ]
    },
    {
     "name": "stdout",
     "output_type": "stream",
     "text": [
      "Arnaud Durandeau\n"
     ]
    },
    {
     "name": "stderr",
     "output_type": "stream",
     "text": [
      "c:\\Users\\jetso\\AppData\\Local\\Programs\\Python\\Python311\\Lib\\site-packages\\moepy\\lowess.py:38: RuntimeWarning:\n",
      "\n",
      "divide by zero encountered in divide\n",
      "\n",
      "c:\\Users\\jetso\\AppData\\Local\\Programs\\Python\\Python311\\Lib\\site-packages\\moepy\\lowess.py:38: RuntimeWarning:\n",
      "\n",
      "invalid value encountered in divide\n",
      "\n",
      "100%|██████████| 9/9 [00:00<00:00, 18.20it/s]\n",
      "c:\\Users\\jetso\\AppData\\Local\\Programs\\Python\\Python311\\Lib\\site-packages\\moepy\\lowess.py:38: RuntimeWarning:\n",
      "\n",
      "divide by zero encountered in divide\n",
      "\n",
      "c:\\Users\\jetso\\AppData\\Local\\Programs\\Python\\Python311\\Lib\\site-packages\\moepy\\lowess.py:38: RuntimeWarning:\n",
      "\n",
      "invalid value encountered in divide\n",
      "\n",
      "100%|██████████| 9/9 [00:00<00:00, 20.77it/s]\n"
     ]
    },
    {
     "name": "stdout",
     "output_type": "stream",
     "text": [
      "Artem Zub\n"
     ]
    },
    {
     "name": "stderr",
     "output_type": "stream",
     "text": [
      "100%|██████████| 9/9 [00:03<00:00,  2.45it/s]\n",
      "100%|██████████| 9/9 [00:03<00:00,  2.51it/s]\n"
     ]
    },
    {
     "name": "stdout",
     "output_type": "stream",
     "text": [
      "Artemi Panarin\n"
     ]
    },
    {
     "name": "stderr",
     "output_type": "stream",
     "text": [
      "100%|██████████| 9/9 [00:04<00:00,  2.11it/s]\n",
      "100%|██████████| 9/9 [00:05<00:00,  1.68it/s]\n"
     ]
    },
    {
     "name": "stdout",
     "output_type": "stream",
     "text": [
      "Arthur Kaliyev\n"
     ]
    },
    {
     "name": "stderr",
     "output_type": "stream",
     "text": [
      "100%|██████████| 9/9 [00:04<00:00,  2.07it/s]\n",
      "100%|██████████| 9/9 [00:03<00:00,  2.33it/s]\n"
     ]
    },
    {
     "name": "stdout",
     "output_type": "stream",
     "text": [
      "Artturi Lehkonen\n"
     ]
    },
    {
     "name": "stderr",
     "output_type": "stream",
     "text": [
      "100%|██████████| 9/9 [00:03<00:00,  2.26it/s]\n",
      "100%|██████████| 9/9 [00:03<00:00,  2.26it/s]\n"
     ]
    },
    {
     "name": "stdout",
     "output_type": "stream",
     "text": [
      "Austin Czarnik\n"
     ]
    },
    {
     "name": "stderr",
     "output_type": "stream",
     "text": [
      "100%|██████████| 9/9 [00:03<00:00,  2.29it/s]\n",
      "100%|██████████| 9/9 [00:03<00:00,  2.41it/s]\n"
     ]
    },
    {
     "name": "stdout",
     "output_type": "stream",
     "text": [
      "Austin Strand\n"
     ]
    },
    {
     "name": "stderr",
     "output_type": "stream",
     "text": [
      "100%|██████████| 9/9 [00:03<00:00,  2.59it/s]\n",
      "100%|██████████| 9/9 [00:03<00:00,  2.35it/s]\n"
     ]
    },
    {
     "name": "stdout",
     "output_type": "stream",
     "text": [
      "Austin Watson\n"
     ]
    },
    {
     "name": "stderr",
     "output_type": "stream",
     "text": [
      "100%|██████████| 9/9 [00:03<00:00,  2.68it/s]\n",
      "100%|██████████| 9/9 [00:03<00:00,  2.76it/s]\n"
     ]
    },
    {
     "name": "stdout",
     "output_type": "stream",
     "text": [
      "Auston Matthews\n"
     ]
    },
    {
     "name": "stderr",
     "output_type": "stream",
     "text": [
      "100%|██████████| 9/9 [00:03<00:00,  2.30it/s]\n",
      "100%|██████████| 9/9 [00:04<00:00,  1.94it/s]\n"
     ]
    },
    {
     "name": "stdout",
     "output_type": "stream",
     "text": [
      "Axel Jonsson-Fjallby\n"
     ]
    },
    {
     "name": "stderr",
     "output_type": "stream",
     "text": [
      "100%|██████████| 9/9 [00:03<00:00,  2.43it/s]\n",
      "100%|██████████| 9/9 [00:16<00:00,  1.83s/it]\n"
     ]
    },
    {
     "name": "stdout",
     "output_type": "stream",
     "text": [
      "Barclay Goodrow\n"
     ]
    },
    {
     "name": "stderr",
     "output_type": "stream",
     "text": [
      "100%|██████████| 9/9 [00:03<00:00,  2.48it/s]\n",
      "100%|██████████| 9/9 [00:03<00:00,  2.27it/s]\n"
     ]
    },
    {
     "name": "stdout",
     "output_type": "stream",
     "text": [
      "Barrett Hayton\n"
     ]
    },
    {
     "name": "stderr",
     "output_type": "stream",
     "text": [
      "100%|██████████| 9/9 [00:03<00:00,  2.42it/s]\n",
      "100%|██████████| 9/9 [00:03<00:00,  2.49it/s]\n"
     ]
    },
    {
     "name": "stdout",
     "output_type": "stream",
     "text": [
      "Beck Malenstyn\n"
     ]
    },
    {
     "name": "stderr",
     "output_type": "stream",
     "text": [
      "100%|██████████| 9/9 [00:03<00:00,  2.42it/s]\n",
      "100%|██████████| 9/9 [00:03<00:00,  2.42it/s]\n"
     ]
    },
    {
     "name": "stdout",
     "output_type": "stream",
     "text": [
      "Ben Chiarot\n"
     ]
    },
    {
     "name": "stderr",
     "output_type": "stream",
     "text": [
      "100%|██████████| 9/9 [00:04<00:00,  1.96it/s]\n",
      "100%|██████████| 9/9 [00:06<00:00,  1.33it/s]\n"
     ]
    },
    {
     "name": "stdout",
     "output_type": "stream",
     "text": [
      "Ben Harpur\n"
     ]
    },
    {
     "name": "stderr",
     "output_type": "stream",
     "text": [
      "100%|██████████| 9/9 [00:04<00:00,  1.98it/s]\n",
      "100%|██████████| 9/9 [00:05<00:00,  1.62it/s]\n"
     ]
    },
    {
     "name": "stdout",
     "output_type": "stream",
     "text": [
      "Ben Hutton\n"
     ]
    },
    {
     "name": "stderr",
     "output_type": "stream",
     "text": [
      "100%|██████████| 9/9 [00:15<00:00,  1.76s/it]\n",
      "100%|██████████| 9/9 [00:06<00:00,  1.50it/s]\n"
     ]
    },
    {
     "name": "stdout",
     "output_type": "stream",
     "text": [
      "Ben Meyers\n"
     ]
    },
    {
     "name": "stderr",
     "output_type": "stream",
     "text": [
      "100%|██████████| 9/9 [00:04<00:00,  2.15it/s]\n",
      "100%|██████████| 9/9 [00:03<00:00,  2.50it/s]\n",
      "c:\\Users\\jetso\\AppData\\Local\\Programs\\Python\\Python311\\Lib\\site-packages\\moepy\\lowess.py:38: RuntimeWarning:\n",
      "\n",
      "invalid value encountered in divide\n",
      "\n"
     ]
    },
    {
     "name": "stdout",
     "output_type": "stream",
     "text": [
      "Billy Sweezey\n"
     ]
    },
    {
     "name": "stderr",
     "output_type": "stream",
     "text": [
      "100%|██████████| 9/9 [00:00<00:00, 17.87it/s]\n",
      "c:\\Users\\jetso\\AppData\\Local\\Programs\\Python\\Python311\\Lib\\site-packages\\moepy\\lowess.py:38: RuntimeWarning:\n",
      "\n",
      "invalid value encountered in divide\n",
      "\n",
      "100%|██████████| 9/9 [00:00<00:00, 17.19it/s]\n"
     ]
    },
    {
     "name": "stdout",
     "output_type": "stream",
     "text": [
      "Blake Coleman\n"
     ]
    },
    {
     "name": "stderr",
     "output_type": "stream",
     "text": [
      "100%|██████████| 9/9 [00:03<00:00,  2.72it/s]\n",
      "100%|██████████| 9/9 [00:03<00:00,  2.59it/s]\n"
     ]
    },
    {
     "name": "stdout",
     "output_type": "stream",
     "text": [
      "Blake Lizotte\n"
     ]
    },
    {
     "name": "stderr",
     "output_type": "stream",
     "text": [
      "100%|██████████| 9/9 [00:03<00:00,  2.44it/s]\n",
      "100%|██████████| 9/9 [00:03<00:00,  2.36it/s]\n"
     ]
    },
    {
     "name": "stdout",
     "output_type": "stream",
     "text": [
      "Blake Wheeler\n"
     ]
    },
    {
     "name": "stderr",
     "output_type": "stream",
     "text": [
      "100%|██████████| 9/9 [00:04<00:00,  2.20it/s]\n",
      "100%|██████████| 9/9 [00:04<00:00,  2.08it/s]\n"
     ]
    },
    {
     "name": "stdout",
     "output_type": "stream",
     "text": [
      "Bo Horvat\n"
     ]
    },
    {
     "name": "stderr",
     "output_type": "stream",
     "text": [
      "100%|██████████| 9/9 [00:03<00:00,  2.36it/s]\n",
      "100%|██████████| 9/9 [00:03<00:00,  2.29it/s]\n"
     ]
    },
    {
     "name": "stdout",
     "output_type": "stream",
     "text": [
      "Bobby McMann\n"
     ]
    },
    {
     "name": "stderr",
     "output_type": "stream",
     "text": [
      "100%|██████████| 9/9 [00:03<00:00,  2.55it/s]\n",
      "100%|██████████| 9/9 [00:03<00:00,  2.40it/s]\n"
     ]
    },
    {
     "name": "stdout",
     "output_type": "stream",
     "text": [
      "Bokondji Imama\n"
     ]
    },
    {
     "name": "stderr",
     "output_type": "stream",
     "text": [
      "100%|██████████| 9/9 [00:03<00:00,  2.55it/s]\n",
      "100%|██████████| 9/9 [00:04<00:00,  1.98it/s]\n"
     ]
    },
    {
     "name": "stdout",
     "output_type": "stream",
     "text": [
      "Boone Jenner\n"
     ]
    },
    {
     "name": "stderr",
     "output_type": "stream",
     "text": [
      "100%|██████████| 9/9 [00:03<00:00,  2.29it/s]\n",
      "100%|██████████| 9/9 [00:04<00:00,  2.22it/s]\n"
     ]
    },
    {
     "name": "stdout",
     "output_type": "stream",
     "text": [
      "Boris Katchouk\n"
     ]
    },
    {
     "name": "stderr",
     "output_type": "stream",
     "text": [
      "100%|██████████| 9/9 [00:04<00:00,  2.21it/s]\n",
      "100%|██████████| 9/9 [00:04<00:00,  2.21it/s]\n"
     ]
    },
    {
     "name": "stdout",
     "output_type": "stream",
     "text": [
      "Bowen Byram\n"
     ]
    },
    {
     "name": "stderr",
     "output_type": "stream",
     "text": [
      "100%|██████████| 9/9 [00:05<00:00,  1.79it/s]\n",
      "100%|██████████| 9/9 [00:05<00:00,  1.76it/s]\n"
     ]
    },
    {
     "name": "stdout",
     "output_type": "stream",
     "text": [
      "Brad Hunt\n"
     ]
    },
    {
     "name": "stderr",
     "output_type": "stream",
     "text": [
      "100%|██████████| 9/9 [00:03<00:00,  2.34it/s]\n",
      "100%|██████████| 9/9 [00:03<00:00,  2.46it/s]\n"
     ]
    },
    {
     "name": "stdout",
     "output_type": "stream",
     "text": [
      "Brad Malone\n"
     ]
    },
    {
     "name": "stderr",
     "output_type": "stream",
     "text": [
      "100%|██████████| 9/9 [00:04<00:00,  2.18it/s]\n",
      "100%|██████████| 9/9 [00:04<00:00,  1.96it/s]\n"
     ]
    },
    {
     "name": "stdout",
     "output_type": "stream",
     "text": [
      "Brad Marchand\n"
     ]
    },
    {
     "name": "stderr",
     "output_type": "stream",
     "text": [
      "100%|██████████| 9/9 [00:03<00:00,  2.35it/s]\n",
      "100%|██████████| 9/9 [00:04<00:00,  2.11it/s]\n"
     ]
    },
    {
     "name": "stdout",
     "output_type": "stream",
     "text": [
      "Braden Schneider\n"
     ]
    },
    {
     "name": "stderr",
     "output_type": "stream",
     "text": [
      "100%|██████████| 9/9 [00:03<00:00,  2.47it/s]\n",
      "100%|██████████| 9/9 [00:04<00:00,  2.24it/s]\n"
     ]
    },
    {
     "name": "stdout",
     "output_type": "stream",
     "text": [
      "Brady Skjei\n"
     ]
    },
    {
     "name": "stderr",
     "output_type": "stream",
     "text": [
      "100%|██████████| 9/9 [00:04<00:00,  2.08it/s]\n",
      "100%|██████████| 9/9 [00:04<00:00,  2.05it/s]\n"
     ]
    },
    {
     "name": "stdout",
     "output_type": "stream",
     "text": [
      "Brady Tkachuk\n"
     ]
    },
    {
     "name": "stderr",
     "output_type": "stream",
     "text": [
      "100%|██████████| 9/9 [00:04<00:00,  2.12it/s]\n",
      "100%|██████████| 9/9 [00:04<00:00,  2.00it/s]\n"
     ]
    },
    {
     "name": "stdout",
     "output_type": "stream",
     "text": [
      "Brandon Carlo\n"
     ]
    },
    {
     "name": "stderr",
     "output_type": "stream",
     "text": [
      "100%|██████████| 9/9 [00:03<00:00,  2.43it/s]\n",
      "100%|██████████| 9/9 [00:04<00:00,  2.23it/s]\n"
     ]
    },
    {
     "name": "stdout",
     "output_type": "stream",
     "text": [
      "Brandon Duhaime\n"
     ]
    },
    {
     "name": "stderr",
     "output_type": "stream",
     "text": [
      "100%|██████████| 9/9 [00:03<00:00,  2.41it/s]\n",
      "100%|██████████| 9/9 [00:03<00:00,  2.43it/s]\n"
     ]
    },
    {
     "name": "stdout",
     "output_type": "stream",
     "text": [
      "Brandon Hagel\n"
     ]
    },
    {
     "name": "stderr",
     "output_type": "stream",
     "text": [
      "100%|██████████| 9/9 [00:03<00:00,  2.51it/s]\n",
      "100%|██████████| 9/9 [00:03<00:00,  2.80it/s]\n"
     ]
    },
    {
     "name": "stdout",
     "output_type": "stream",
     "text": [
      "Brandon Montour\n"
     ]
    },
    {
     "name": "stderr",
     "output_type": "stream",
     "text": [
      "100%|██████████| 9/9 [00:04<00:00,  2.06it/s]\n",
      "100%|██████████| 9/9 [00:04<00:00,  2.00it/s]\n"
     ]
    },
    {
     "name": "stdout",
     "output_type": "stream",
     "text": [
      "Brandon Saad\n"
     ]
    },
    {
     "name": "stderr",
     "output_type": "stream",
     "text": [
      "100%|██████████| 9/9 [00:04<00:00,  2.02it/s]\n",
      "100%|██████████| 9/9 [00:04<00:00,  1.86it/s]\n"
     ]
    },
    {
     "name": "stdout",
     "output_type": "stream",
     "text": [
      "Brandon Tanev\n"
     ]
    },
    {
     "name": "stderr",
     "output_type": "stream",
     "text": [
      "100%|██████████| 9/9 [00:03<00:00,  2.51it/s]\n",
      "100%|██████████| 9/9 [00:03<00:00,  2.64it/s]\n"
     ]
    },
    {
     "name": "stdout",
     "output_type": "stream",
     "text": [
      "Brandt Clarke\n"
     ]
    },
    {
     "name": "stderr",
     "output_type": "stream",
     "text": [
      "100%|██████████| 9/9 [00:04<00:00,  2.11it/s]\n",
      "100%|██████████| 9/9 [00:04<00:00,  1.90it/s]\n"
     ]
    },
    {
     "name": "stdout",
     "output_type": "stream",
     "text": [
      "Brayden McNabb\n"
     ]
    },
    {
     "name": "stderr",
     "output_type": "stream",
     "text": [
      "100%|██████████| 9/9 [00:03<00:00,  2.37it/s]\n",
      "100%|██████████| 9/9 [00:03<00:00,  2.41it/s]\n"
     ]
    },
    {
     "name": "stdout",
     "output_type": "stream",
     "text": [
      "Brayden Pachal\n"
     ]
    },
    {
     "name": "stderr",
     "output_type": "stream",
     "text": [
      "100%|██████████| 9/9 [00:03<00:00,  2.65it/s]\n",
      "100%|██████████| 9/9 [00:03<00:00,  2.60it/s]\n"
     ]
    },
    {
     "name": "stdout",
     "output_type": "stream",
     "text": [
      "Brayden Point\n"
     ]
    },
    {
     "name": "stderr",
     "output_type": "stream",
     "text": [
      "100%|██████████| 9/9 [00:04<00:00,  2.17it/s]\n",
      "100%|██████████| 9/9 [00:04<00:00,  2.24it/s]\n"
     ]
    },
    {
     "name": "stdout",
     "output_type": "stream",
     "text": [
      "Brayden Schenn\n"
     ]
    },
    {
     "name": "stderr",
     "output_type": "stream",
     "text": [
      "100%|██████████| 9/9 [00:04<00:00,  2.10it/s]\n",
      "100%|██████████| 9/9 [00:04<00:00,  2.14it/s]\n"
     ]
    },
    {
     "name": "stdout",
     "output_type": "stream",
     "text": [
      "Brendan Gallagher\n"
     ]
    },
    {
     "name": "stderr",
     "output_type": "stream",
     "text": [
      "100%|██████████| 9/9 [00:04<00:00,  1.98it/s]\n",
      "100%|██████████| 9/9 [00:04<00:00,  1.96it/s]\n"
     ]
    },
    {
     "name": "stdout",
     "output_type": "stream",
     "text": [
      "Brendan Gaunce\n"
     ]
    },
    {
     "name": "stderr",
     "output_type": "stream",
     "text": [
      "100%|██████████| 9/9 [00:03<00:00,  2.55it/s]\n",
      "100%|██████████| 9/9 [00:03<00:00,  2.69it/s]\n"
     ]
    },
    {
     "name": "stdout",
     "output_type": "stream",
     "text": [
      "Brendan Lemieux\n"
     ]
    },
    {
     "name": "stderr",
     "output_type": "stream",
     "text": [
      "100%|██████████| 9/9 [00:03<00:00,  2.29it/s]\n",
      "100%|██████████| 9/9 [00:03<00:00,  2.31it/s]\n"
     ]
    },
    {
     "name": "stdout",
     "output_type": "stream",
     "text": [
      "Brendan Smith\n"
     ]
    },
    {
     "name": "stderr",
     "output_type": "stream",
     "text": [
      "100%|██████████| 9/9 [00:05<00:00,  1.73it/s]\n",
      "100%|██████████| 9/9 [00:05<00:00,  1.79it/s]\n"
     ]
    },
    {
     "name": "stdout",
     "output_type": "stream",
     "text": [
      "Brenden Dillon\n"
     ]
    },
    {
     "name": "stderr",
     "output_type": "stream",
     "text": [
      "100%|██████████| 9/9 [00:03<00:00,  2.30it/s]\n",
      "100%|██████████| 9/9 [00:04<00:00,  2.25it/s]\n"
     ]
    },
    {
     "name": "stdout",
     "output_type": "stream",
     "text": [
      "Brent Burns\n"
     ]
    },
    {
     "name": "stderr",
     "output_type": "stream",
     "text": [
      "100%|██████████| 9/9 [00:04<00:00,  2.03it/s]\n",
      "100%|██████████| 9/9 [00:04<00:00,  2.05it/s]\n"
     ]
    },
    {
     "name": "stdout",
     "output_type": "stream",
     "text": [
      "Brett Howden\n"
     ]
    },
    {
     "name": "stderr",
     "output_type": "stream",
     "text": [
      "100%|██████████| 9/9 [00:04<00:00,  2.13it/s]\n",
      "100%|██████████| 9/9 [00:04<00:00,  2.11it/s]\n"
     ]
    },
    {
     "name": "stdout",
     "output_type": "stream",
     "text": [
      "Brett Kulak\n"
     ]
    },
    {
     "name": "stderr",
     "output_type": "stream",
     "text": [
      "100%|██████████| 9/9 [00:03<00:00,  2.47it/s]\n",
      "100%|██████████| 9/9 [00:03<00:00,  2.43it/s]\n"
     ]
    },
    {
     "name": "stdout",
     "output_type": "stream",
     "text": [
      "Brett Leason\n"
     ]
    },
    {
     "name": "stderr",
     "output_type": "stream",
     "text": [
      "100%|██████████| 9/9 [00:04<00:00,  2.17it/s]\n",
      "100%|██████████| 9/9 [00:04<00:00,  1.96it/s]\n"
     ]
    },
    {
     "name": "stdout",
     "output_type": "stream",
     "text": [
      "Brett Pesce\n"
     ]
    },
    {
     "name": "stderr",
     "output_type": "stream",
     "text": [
      "100%|██████████| 9/9 [00:03<00:00,  2.41it/s]\n",
      "100%|██████████| 9/9 [00:04<00:00,  1.95it/s]\n"
     ]
    },
    {
     "name": "stdout",
     "output_type": "stream",
     "text": [
      "Brett Ritchie\n"
     ]
    },
    {
     "name": "stderr",
     "output_type": "stream",
     "text": [
      "100%|██████████| 9/9 [00:04<00:00,  2.18it/s]\n",
      "100%|██████████| 9/9 [00:04<00:00,  2.22it/s]\n"
     ]
    },
    {
     "name": "stdout",
     "output_type": "stream",
     "text": [
      "Brett Seney\n"
     ]
    },
    {
     "name": "stderr",
     "output_type": "stream",
     "text": [
      "100%|██████████| 9/9 [00:03<00:00,  2.90it/s]\n",
      "100%|██████████| 9/9 [00:03<00:00,  2.60it/s]\n"
     ]
    },
    {
     "name": "stdout",
     "output_type": "stream",
     "text": [
      "Brian Dumoulin\n"
     ]
    },
    {
     "name": "stderr",
     "output_type": "stream",
     "text": [
      "100%|██████████| 9/9 [00:04<00:00,  2.00it/s]\n",
      "100%|██████████| 9/9 [00:04<00:00,  2.14it/s]\n"
     ]
    },
    {
     "name": "stdout",
     "output_type": "stream",
     "text": [
      "Brock Boeser\n"
     ]
    },
    {
     "name": "stderr",
     "output_type": "stream",
     "text": [
      "100%|██████████| 9/9 [00:04<00:00,  2.11it/s]\n",
      "100%|██████████| 9/9 [00:04<00:00,  1.96it/s]\n"
     ]
    },
    {
     "name": "stdout",
     "output_type": "stream",
     "text": [
      "Brock McGinn\n"
     ]
    },
    {
     "name": "stderr",
     "output_type": "stream",
     "text": [
      "100%|██████████| 9/9 [00:03<00:00,  2.78it/s]\n",
      "100%|██████████| 9/9 [00:03<00:00,  2.49it/s]\n"
     ]
    },
    {
     "name": "stdout",
     "output_type": "stream",
     "text": [
      "Brock Nelson\n"
     ]
    },
    {
     "name": "stderr",
     "output_type": "stream",
     "text": [
      "100%|██████████| 9/9 [00:04<00:00,  2.10it/s]\n",
      "100%|██████████| 9/9 [00:04<00:00,  2.11it/s]\n"
     ]
    },
    {
     "name": "stdout",
     "output_type": "stream",
     "text": [
      "Bryan Rust\n"
     ]
    },
    {
     "name": "stderr",
     "output_type": "stream",
     "text": [
      "100%|██████████| 9/9 [00:03<00:00,  2.39it/s]\n",
      "100%|██████████| 9/9 [00:03<00:00,  2.26it/s]\n"
     ]
    },
    {
     "name": "stdout",
     "output_type": "stream",
     "text": [
      "Buddy Robinson\n"
     ]
    },
    {
     "name": "stderr",
     "output_type": "stream",
     "text": [
      "100%|██████████| 9/9 [00:04<00:00,  2.08it/s]\n",
      "100%|██████████| 9/9 [00:04<00:00,  2.10it/s]\n"
     ]
    },
    {
     "name": "stdout",
     "output_type": "stream",
     "text": [
      "Byron Froese\n"
     ]
    },
    {
     "name": "stderr",
     "output_type": "stream",
     "text": [
      "100%|██████████| 9/9 [00:03<00:00,  2.32it/s]\n",
      "100%|██████████| 9/9 [00:03<00:00,  2.40it/s]\n"
     ]
    },
    {
     "name": "stdout",
     "output_type": "stream",
     "text": [
      "CJ Suess\n"
     ]
    },
    {
     "name": "stderr",
     "output_type": "stream",
     "text": [
      "100%|██████████| 9/9 [00:02<00:00,  3.21it/s]\n",
      "100%|██████████| 9/9 [00:17<00:00,  1.94s/it]\n"
     ]
    },
    {
     "name": "stdout",
     "output_type": "stream",
     "text": [
      "Cal Clutterbuck\n"
     ]
    },
    {
     "name": "stderr",
     "output_type": "stream",
     "text": [
      "100%|██████████| 9/9 [00:04<00:00,  1.97it/s]\n",
      "100%|██████████| 9/9 [00:04<00:00,  2.04it/s]\n"
     ]
    },
    {
     "name": "stdout",
     "output_type": "stream",
     "text": [
      "Cal Foote\n"
     ]
    },
    {
     "name": "stderr",
     "output_type": "stream",
     "text": [
      "100%|██████████| 9/9 [00:03<00:00,  2.38it/s]\n",
      "100%|██████████| 9/9 [00:03<00:00,  2.38it/s]\n"
     ]
    },
    {
     "name": "stdout",
     "output_type": "stream",
     "text": [
      "Cale Fleury\n"
     ]
    },
    {
     "name": "stderr",
     "output_type": "stream",
     "text": [
      "100%|██████████| 9/9 [00:03<00:00,  2.44it/s]\n",
      "100%|██████████| 9/9 [00:03<00:00,  2.62it/s]\n"
     ]
    },
    {
     "name": "stdout",
     "output_type": "stream",
     "text": [
      "Cale Makar\n"
     ]
    },
    {
     "name": "stderr",
     "output_type": "stream",
     "text": [
      "100%|██████████| 9/9 [00:06<00:00,  1.49it/s]\n",
      "100%|██████████| 9/9 [00:05<00:00,  1.74it/s]\n"
     ]
    },
    {
     "name": "stdout",
     "output_type": "stream",
     "text": [
      "Caleb Jones\n"
     ]
    },
    {
     "name": "stderr",
     "output_type": "stream",
     "text": [
      "100%|██████████| 9/9 [00:04<00:00,  2.07it/s]\n",
      "100%|██████████| 9/9 [00:04<00:00,  2.07it/s]\n"
     ]
    },
    {
     "name": "stdout",
     "output_type": "stream",
     "text": [
      "Calen Addison\n"
     ]
    },
    {
     "name": "stderr",
     "output_type": "stream",
     "text": [
      "100%|██████████| 9/9 [00:04<00:00,  2.00it/s]\n",
      "100%|██████████| 9/9 [00:04<00:00,  1.80it/s]\n",
      "c:\\Users\\jetso\\AppData\\Local\\Programs\\Python\\Python311\\Lib\\site-packages\\moepy\\lowess.py:38: RuntimeWarning:\n",
      "\n",
      "divide by zero encountered in divide\n",
      "\n",
      "c:\\Users\\jetso\\AppData\\Local\\Programs\\Python\\Python311\\Lib\\site-packages\\moepy\\lowess.py:38: RuntimeWarning:\n",
      "\n",
      "invalid value encountered in divide\n",
      "\n"
     ]
    },
    {
     "name": "stdout",
     "output_type": "stream",
     "text": [
      "Callahan Burke\n"
     ]
    },
    {
     "name": "stderr",
     "output_type": "stream",
     "text": [
      "100%|██████████| 9/9 [00:00<00:00, 14.81it/s]\n",
      "c:\\Users\\jetso\\AppData\\Local\\Programs\\Python\\Python311\\Lib\\site-packages\\moepy\\lowess.py:38: RuntimeWarning:\n",
      "\n",
      "divide by zero encountered in divide\n",
      "\n",
      "c:\\Users\\jetso\\AppData\\Local\\Programs\\Python\\Python311\\Lib\\site-packages\\moepy\\lowess.py:38: RuntimeWarning:\n",
      "\n",
      "invalid value encountered in divide\n",
      "\n",
      "100%|██████████| 9/9 [00:00<00:00, 21.37it/s]\n"
     ]
    },
    {
     "name": "stdout",
     "output_type": "stream",
     "text": [
      "Calle Jarnkrok\n"
     ]
    },
    {
     "name": "stderr",
     "output_type": "stream",
     "text": [
      "100%|██████████| 9/9 [00:04<00:00,  2.00it/s]\n",
      "100%|██████████| 9/9 [00:04<00:00,  1.97it/s]\n"
     ]
    },
    {
     "name": "stdout",
     "output_type": "stream",
     "text": [
      "Calle Rosen\n"
     ]
    },
    {
     "name": "stderr",
     "output_type": "stream",
     "text": [
      "100%|██████████| 9/9 [00:03<00:00,  2.54it/s]\n",
      "100%|██████████| 9/9 [00:04<00:00,  2.17it/s]\n"
     ]
    },
    {
     "name": "stdout",
     "output_type": "stream",
     "text": [
      "Calvin de Haan\n"
     ]
    },
    {
     "name": "stderr",
     "output_type": "stream",
     "text": [
      "100%|██████████| 9/9 [00:04<00:00,  1.96it/s]\n",
      "100%|██████████| 9/9 [00:04<00:00,  1.82it/s]\n"
     ]
    },
    {
     "name": "stdout",
     "output_type": "stream",
     "text": [
      "Cam Fowler\n"
     ]
    },
    {
     "name": "stderr",
     "output_type": "stream",
     "text": [
      "100%|██████████| 9/9 [00:04<00:00,  2.22it/s]\n",
      "100%|██████████| 9/9 [00:04<00:00,  2.00it/s]\n"
     ]
    },
    {
     "name": "stdout",
     "output_type": "stream",
     "text": [
      "Cam York\n"
     ]
    },
    {
     "name": "stderr",
     "output_type": "stream",
     "text": [
      "100%|██████████| 9/9 [00:04<00:00,  2.22it/s]\n",
      "100%|██████████| 9/9 [00:03<00:00,  2.35it/s]\n"
     ]
    },
    {
     "name": "stdout",
     "output_type": "stream",
     "text": [
      "Carl Grundstrom\n"
     ]
    },
    {
     "name": "stderr",
     "output_type": "stream",
     "text": [
      "100%|██████████| 9/9 [00:04<00:00,  2.18it/s]\n",
      "100%|██████████| 9/9 [00:04<00:00,  1.92it/s]\n"
     ]
    },
    {
     "name": "stdout",
     "output_type": "stream",
     "text": [
      "Carson Meyer\n"
     ]
    },
    {
     "name": "stderr",
     "output_type": "stream",
     "text": [
      "100%|██████████| 9/9 [00:03<00:00,  2.38it/s]\n",
      "100%|██████████| 9/9 [00:04<00:00,  2.05it/s]\n"
     ]
    },
    {
     "name": "stdout",
     "output_type": "stream",
     "text": [
      "Carson Soucy\n"
     ]
    },
    {
     "name": "stderr",
     "output_type": "stream",
     "text": [
      "100%|██████████| 9/9 [00:04<00:00,  2.07it/s]\n",
      "100%|██████████| 9/9 [00:04<00:00,  1.83it/s]\n"
     ]
    },
    {
     "name": "stdout",
     "output_type": "stream",
     "text": [
      "Carter Verhaeghe\n"
     ]
    },
    {
     "name": "stderr",
     "output_type": "stream",
     "text": [
      "100%|██████████| 9/9 [00:04<00:00,  2.10it/s]\n",
      "100%|██████████| 9/9 [00:04<00:00,  2.16it/s]\n"
     ]
    },
    {
     "name": "stdout",
     "output_type": "stream",
     "text": [
      "Casey Cizikas\n"
     ]
    },
    {
     "name": "stderr",
     "output_type": "stream",
     "text": [
      "100%|██████████| 9/9 [00:04<00:00,  2.24it/s]\n",
      "100%|██████████| 9/9 [00:04<00:00,  2.14it/s]\n"
     ]
    },
    {
     "name": "stdout",
     "output_type": "stream",
     "text": [
      "Casey Fitzgerald\n"
     ]
    },
    {
     "name": "stderr",
     "output_type": "stream",
     "text": [
      "100%|██████████| 9/9 [00:04<00:00,  2.22it/s]\n",
      "100%|██████████| 9/9 [00:03<00:00,  2.47it/s]\n"
     ]
    },
    {
     "name": "stdout",
     "output_type": "stream",
     "text": [
      "Casey Mittelstadt\n"
     ]
    },
    {
     "name": "stderr",
     "output_type": "stream",
     "text": [
      "100%|██████████| 9/9 [00:04<00:00,  2.07it/s]\n",
      "100%|██████████| 9/9 [00:04<00:00,  2.03it/s]\n"
     ]
    },
    {
     "name": "stdout",
     "output_type": "stream",
     "text": [
      "Chad Ruhwedel\n"
     ]
    },
    {
     "name": "stderr",
     "output_type": "stream",
     "text": [
      "100%|██████████| 9/9 [00:03<00:00,  2.66it/s]\n",
      "100%|██████████| 9/9 [00:03<00:00,  2.40it/s]\n"
     ]
    },
    {
     "name": "stdout",
     "output_type": "stream",
     "text": [
      "Chandler Stephenson\n"
     ]
    },
    {
     "name": "stderr",
     "output_type": "stream",
     "text": [
      "100%|██████████| 9/9 [00:03<00:00,  2.30it/s]\n",
      "100%|██████████| 9/9 [00:03<00:00,  2.31it/s]\n"
     ]
    },
    {
     "name": "stdout",
     "output_type": "stream",
     "text": [
      "Charles Hudon\n"
     ]
    },
    {
     "name": "stderr",
     "output_type": "stream",
     "text": [
      "100%|██████████| 9/9 [00:04<00:00,  1.84it/s]\n",
      "100%|██████████| 9/9 [00:04<00:00,  1.86it/s]\n"
     ]
    },
    {
     "name": "stdout",
     "output_type": "stream",
     "text": [
      "Charlie Coyle\n"
     ]
    },
    {
     "name": "stderr",
     "output_type": "stream",
     "text": [
      "100%|██████████| 9/9 [00:04<00:00,  2.15it/s]\n",
      "100%|██████████| 9/9 [00:04<00:00,  1.96it/s]\n"
     ]
    },
    {
     "name": "stdout",
     "output_type": "stream",
     "text": [
      "Charlie McAvoy\n"
     ]
    },
    {
     "name": "stderr",
     "output_type": "stream",
     "text": [
      "100%|██████████| 9/9 [00:04<00:00,  2.08it/s]\n",
      "100%|██████████| 9/9 [00:04<00:00,  1.97it/s]\n"
     ]
    },
    {
     "name": "stdout",
     "output_type": "stream",
     "text": [
      "Chris Kreider\n"
     ]
    },
    {
     "name": "stderr",
     "output_type": "stream",
     "text": [
      "100%|██████████| 9/9 [00:03<00:00,  2.30it/s]\n",
      "100%|██████████| 9/9 [00:04<00:00,  2.01it/s]\n"
     ]
    },
    {
     "name": "stdout",
     "output_type": "stream",
     "text": [
      "Chris Tanev\n"
     ]
    },
    {
     "name": "stderr",
     "output_type": "stream",
     "text": [
      "100%|██████████| 9/9 [00:04<00:00,  1.90it/s]\n",
      "100%|██████████| 9/9 [00:04<00:00,  2.02it/s]\n"
     ]
    },
    {
     "name": "stdout",
     "output_type": "stream",
     "text": [
      "Chris Tierney\n"
     ]
    },
    {
     "name": "stderr",
     "output_type": "stream",
     "text": [
      "100%|██████████| 9/9 [00:03<00:00,  2.26it/s]\n",
      "100%|██████████| 9/9 [00:04<00:00,  2.18it/s]\n"
     ]
    },
    {
     "name": "stdout",
     "output_type": "stream",
     "text": [
      "Chris Wagner\n"
     ]
    },
    {
     "name": "stderr",
     "output_type": "stream",
     "text": [
      "100%|██████████| 9/9 [00:03<00:00,  2.66it/s]\n",
      "100%|██████████| 9/9 [00:03<00:00,  2.69it/s]\n"
     ]
    },
    {
     "name": "stdout",
     "output_type": "stream",
     "text": [
      "Chris Wideman\n"
     ]
    },
    {
     "name": "stderr",
     "output_type": "stream",
     "text": [
      "100%|██████████| 9/9 [00:04<00:00,  2.22it/s]\n",
      "100%|██████████| 9/9 [00:04<00:00,  2.21it/s]\n"
     ]
    },
    {
     "name": "stdout",
     "output_type": "stream",
     "text": [
      "Christian Dvorak\n"
     ]
    },
    {
     "name": "stderr",
     "output_type": "stream",
     "text": [
      "100%|██████████| 9/9 [00:03<00:00,  2.38it/s]\n",
      "100%|██████████| 9/9 [00:04<00:00,  2.10it/s]\n"
     ]
    },
    {
     "name": "stdout",
     "output_type": "stream",
     "text": [
      "Christian Fischer\n"
     ]
    },
    {
     "name": "stderr",
     "output_type": "stream",
     "text": [
      "100%|██████████| 9/9 [00:04<00:00,  2.03it/s]\n",
      "100%|██████████| 9/9 [00:04<00:00,  1.93it/s]\n"
     ]
    },
    {
     "name": "stdout",
     "output_type": "stream",
     "text": [
      "Christian Wolanin\n"
     ]
    },
    {
     "name": "stderr",
     "output_type": "stream",
     "text": [
      "100%|██████████| 9/9 [00:03<00:00,  2.28it/s]\n",
      "100%|██████████| 9/9 [00:04<00:00,  2.15it/s]\n"
     ]
    },
    {
     "name": "stdout",
     "output_type": "stream",
     "text": [
      "Claude Giroux\n"
     ]
    },
    {
     "name": "stderr",
     "output_type": "stream",
     "text": [
      "100%|██████████| 9/9 [00:04<00:00,  2.14it/s]\n",
      "100%|██████████| 9/9 [00:03<00:00,  2.41it/s]\n"
     ]
    },
    {
     "name": "stdout",
     "output_type": "stream",
     "text": [
      "Clayton Keller\n"
     ]
    },
    {
     "name": "stderr",
     "output_type": "stream",
     "text": [
      "100%|██████████| 9/9 [00:03<00:00,  2.58it/s]\n",
      "100%|██████████| 9/9 [00:03<00:00,  2.52it/s]\n"
     ]
    },
    {
     "name": "stdout",
     "output_type": "stream",
     "text": [
      "Cody Ceci\n"
     ]
    },
    {
     "name": "stderr",
     "output_type": "stream",
     "text": [
      "100%|██████████| 9/9 [00:04<00:00,  2.06it/s]\n",
      "100%|██████████| 9/9 [00:04<00:00,  2.12it/s]\n"
     ]
    },
    {
     "name": "stdout",
     "output_type": "stream",
     "text": [
      "Cody Glass\n"
     ]
    },
    {
     "name": "stderr",
     "output_type": "stream",
     "text": [
      "100%|██████████| 9/9 [00:03<00:00,  2.42it/s]\n",
      "100%|██████████| 9/9 [00:03<00:00,  2.38it/s]\n"
     ]
    },
    {
     "name": "stdout",
     "output_type": "stream",
     "text": [
      "Cole Bardreau\n"
     ]
    },
    {
     "name": "stderr",
     "output_type": "stream",
     "text": [
      "100%|██████████| 9/9 [00:02<00:00,  3.37it/s]\n",
      "100%|██████████| 9/9 [00:02<00:00,  3.12it/s]\n"
     ]
    },
    {
     "name": "stdout",
     "output_type": "stream",
     "text": [
      "Cole Caufield\n"
     ]
    },
    {
     "name": "stderr",
     "output_type": "stream",
     "text": [
      "100%|██████████| 9/9 [00:03<00:00,  2.50it/s]\n",
      "100%|██████████| 9/9 [00:03<00:00,  2.41it/s]\n"
     ]
    },
    {
     "name": "stdout",
     "output_type": "stream",
     "text": [
      "Cole Guttman\n"
     ]
    },
    {
     "name": "stderr",
     "output_type": "stream",
     "text": [
      "100%|██████████| 9/9 [00:04<00:00,  2.13it/s]\n",
      "100%|██████████| 9/9 [00:04<00:00,  2.13it/s]\n"
     ]
    },
    {
     "name": "stdout",
     "output_type": "stream",
     "text": [
      "Cole Koepke\n"
     ]
    },
    {
     "name": "stderr",
     "output_type": "stream",
     "text": [
      "100%|██████████| 9/9 [00:02<00:00,  3.25it/s]\n",
      "100%|██████████| 9/9 [00:03<00:00,  2.32it/s]\n"
     ]
    },
    {
     "name": "stdout",
     "output_type": "stream",
     "text": [
      "Cole Perfetti\n"
     ]
    },
    {
     "name": "stderr",
     "output_type": "stream",
     "text": [
      "100%|██████████| 9/9 [00:03<00:00,  2.26it/s]\n",
      "100%|██████████| 9/9 [00:04<00:00,  2.12it/s]\n"
     ]
    },
    {
     "name": "stdout",
     "output_type": "stream",
     "text": [
      "Cole Sillinger\n"
     ]
    },
    {
     "name": "stderr",
     "output_type": "stream",
     "text": [
      "100%|██████████| 9/9 [00:04<00:00,  2.07it/s]\n",
      "100%|██████████| 9/9 [00:05<00:00,  1.74it/s]\n"
     ]
    },
    {
     "name": "stdout",
     "output_type": "stream",
     "text": [
      "Cole Smith\n"
     ]
    },
    {
     "name": "stderr",
     "output_type": "stream",
     "text": [
      "100%|██████████| 9/9 [00:03<00:00,  2.55it/s]\n",
      "100%|██████████| 9/9 [00:04<00:00,  2.11it/s]\n"
     ]
    },
    {
     "name": "stdout",
     "output_type": "stream",
     "text": [
      "Colin Blackwell\n"
     ]
    },
    {
     "name": "stderr",
     "output_type": "stream",
     "text": [
      "100%|██████████| 9/9 [00:05<00:00,  1.60it/s]\n",
      "100%|██████████| 9/9 [00:04<00:00,  2.06it/s]\n"
     ]
    },
    {
     "name": "stdout",
     "output_type": "stream",
     "text": [
      "Colin Miller\n"
     ]
    },
    {
     "name": "stderr",
     "output_type": "stream",
     "text": [
      "100%|██████████| 9/9 [00:03<00:00,  2.55it/s]\n",
      "100%|██████████| 9/9 [00:04<00:00,  2.24it/s]\n"
     ]
    },
    {
     "name": "stdout",
     "output_type": "stream",
     "text": [
      "Colin White\n"
     ]
    },
    {
     "name": "stderr",
     "output_type": "stream",
     "text": [
      "100%|██████████| 9/9 [00:04<00:00,  1.97it/s]\n",
      "100%|██████████| 9/9 [00:03<00:00,  2.52it/s]\n"
     ]
    },
    {
     "name": "stdout",
     "output_type": "stream",
     "text": [
      "Colton Parayko\n"
     ]
    },
    {
     "name": "stderr",
     "output_type": "stream",
     "text": [
      "100%|██████████| 9/9 [00:06<00:00,  1.44it/s]\n",
      "100%|██████████| 9/9 [00:05<00:00,  1.71it/s]\n"
     ]
    },
    {
     "name": "stdout",
     "output_type": "stream",
     "text": [
      "Colton Sissons\n"
     ]
    },
    {
     "name": "stderr",
     "output_type": "stream",
     "text": [
      "100%|██████████| 9/9 [00:03<00:00,  2.42it/s]\n",
      "100%|██████████| 9/9 [00:03<00:00,  2.34it/s]\n"
     ]
    },
    {
     "name": "stdout",
     "output_type": "stream",
     "text": [
      "Colton White\n"
     ]
    },
    {
     "name": "stderr",
     "output_type": "stream",
     "text": [
      "100%|██████████| 9/9 [00:03<00:00,  2.56it/s]\n",
      "100%|██████████| 9/9 [00:03<00:00,  2.45it/s]\n"
     ]
    },
    {
     "name": "stdout",
     "output_type": "stream",
     "text": [
      "Connor Brown\n"
     ]
    },
    {
     "name": "stderr",
     "output_type": "stream",
     "text": [
      "100%|██████████| 9/9 [00:03<00:00,  2.76it/s]\n",
      "100%|██████████| 9/9 [00:03<00:00,  2.53it/s]\n"
     ]
    },
    {
     "name": "stdout",
     "output_type": "stream",
     "text": [
      "Connor Clifton\n"
     ]
    },
    {
     "name": "stderr",
     "output_type": "stream",
     "text": [
      "100%|██████████| 9/9 [00:03<00:00,  2.52it/s]\n",
      "100%|██████████| 9/9 [00:03<00:00,  2.46it/s]\n"
     ]
    },
    {
     "name": "stdout",
     "output_type": "stream",
     "text": [
      "Connor Dewar\n"
     ]
    },
    {
     "name": "stderr",
     "output_type": "stream",
     "text": [
      "100%|██████████| 9/9 [00:03<00:00,  2.84it/s]\n",
      "100%|██████████| 9/9 [00:03<00:00,  2.56it/s]\n"
     ]
    },
    {
     "name": "stdout",
     "output_type": "stream",
     "text": [
      "Connor Mackey\n"
     ]
    },
    {
     "name": "stderr",
     "output_type": "stream",
     "text": [
      "100%|██████████| 9/9 [00:03<00:00,  2.59it/s]\n",
      "100%|██████████| 9/9 [00:03<00:00,  2.53it/s]\n"
     ]
    },
    {
     "name": "stdout",
     "output_type": "stream",
     "text": [
      "Connor McDavid\n"
     ]
    },
    {
     "name": "stderr",
     "output_type": "stream",
     "text": [
      "100%|██████████| 9/9 [00:04<00:00,  2.14it/s]\n",
      "100%|██████████| 9/9 [00:04<00:00,  2.15it/s]\n"
     ]
    },
    {
     "name": "stdout",
     "output_type": "stream",
     "text": [
      "Connor McMichael\n"
     ]
    },
    {
     "name": "stderr",
     "output_type": "stream",
     "text": [
      "100%|██████████| 9/9 [00:04<00:00,  1.95it/s]\n",
      "100%|██████████| 9/9 [00:04<00:00,  2.10it/s]\n"
     ]
    },
    {
     "name": "stdout",
     "output_type": "stream",
     "text": [
      "Connor Murphy\n"
     ]
    },
    {
     "name": "stderr",
     "output_type": "stream",
     "text": [
      "100%|██████████| 9/9 [00:04<00:00,  2.20it/s]\n",
      "100%|██████████| 9/9 [00:04<00:00,  2.06it/s]\n"
     ]
    },
    {
     "name": "stdout",
     "output_type": "stream",
     "text": [
      "Conor Garland\n"
     ]
    },
    {
     "name": "stderr",
     "output_type": "stream",
     "text": [
      "100%|██████████| 9/9 [00:04<00:00,  2.17it/s]\n",
      "100%|██████████| 9/9 [00:03<00:00,  2.37it/s]\n"
     ]
    },
    {
     "name": "stdout",
     "output_type": "stream",
     "text": [
      "Conor Sheary\n"
     ]
    },
    {
     "name": "stderr",
     "output_type": "stream",
     "text": [
      "100%|██████████| 9/9 [00:03<00:00,  2.38it/s]\n",
      "100%|██████████| 9/9 [00:04<00:00,  2.14it/s]\n"
     ]
    },
    {
     "name": "stdout",
     "output_type": "stream",
     "text": [
      "Conor Timmins\n"
     ]
    },
    {
     "name": "stderr",
     "output_type": "stream",
     "text": [
      "100%|██████████| 9/9 [00:03<00:00,  2.33it/s]\n",
      "100%|██████████| 9/9 [00:04<00:00,  2.13it/s]\n"
     ]
    },
    {
     "name": "stdout",
     "output_type": "stream",
     "text": [
      "Corey Perry\n"
     ]
    },
    {
     "name": "stderr",
     "output_type": "stream",
     "text": [
      "100%|██████████| 9/9 [00:03<00:00,  2.28it/s]\n",
      "100%|██████████| 9/9 [00:04<00:00,  2.03it/s]\n"
     ]
    },
    {
     "name": "stdout",
     "output_type": "stream",
     "text": [
      "Corey Schueneman\n"
     ]
    },
    {
     "name": "stderr",
     "output_type": "stream",
     "text": [
      "100%|██████████| 9/9 [00:03<00:00,  2.35it/s]\n",
      "100%|██████████| 9/9 [00:04<00:00,  2.22it/s]\n"
     ]
    },
    {
     "name": "stdout",
     "output_type": "stream",
     "text": [
      "Craig Smith\n"
     ]
    },
    {
     "name": "stderr",
     "output_type": "stream",
     "text": [
      "100%|██████████| 9/9 [00:03<00:00,  2.37it/s]\n",
      "100%|██████████| 9/9 [00:03<00:00,  2.33it/s]\n"
     ]
    },
    {
     "name": "stdout",
     "output_type": "stream",
     "text": [
      "Curtis Lazar\n"
     ]
    },
    {
     "name": "stderr",
     "output_type": "stream",
     "text": [
      "100%|██████████| 9/9 [00:03<00:00,  2.52it/s]\n",
      "100%|██████████| 9/9 [00:03<00:00,  2.69it/s]\n"
     ]
    },
    {
     "name": "stdout",
     "output_type": "stream",
     "text": [
      "Dakota Joshua\n"
     ]
    },
    {
     "name": "stderr",
     "output_type": "stream",
     "text": [
      "100%|██████████| 9/9 [00:03<00:00,  2.30it/s]\n",
      "100%|██████████| 9/9 [00:04<00:00,  2.14it/s]\n"
     ]
    },
    {
     "name": "stdout",
     "output_type": "stream",
     "text": [
      "Dakota Mermis\n"
     ]
    },
    {
     "name": "stderr",
     "output_type": "stream",
     "text": [
      "100%|██████████| 9/9 [00:04<00:00,  1.86it/s]\n",
      "100%|██████████| 9/9 [00:04<00:00,  2.01it/s]\n"
     ]
    },
    {
     "name": "stdout",
     "output_type": "stream",
     "text": [
      "Damon Severson\n"
     ]
    },
    {
     "name": "stderr",
     "output_type": "stream",
     "text": [
      "100%|██████████| 9/9 [00:03<00:00,  2.38it/s]\n",
      "100%|██████████| 9/9 [00:03<00:00,  2.50it/s]\n"
     ]
    },
    {
     "name": "stdout",
     "output_type": "stream",
     "text": [
      "Dan Renouf\n"
     ]
    },
    {
     "name": "stderr",
     "output_type": "stream",
     "text": [
      "100%|██████████| 9/9 [00:04<00:00,  2.04it/s]\n",
      "100%|██████████| 9/9 [00:05<00:00,  1.78it/s]\n"
     ]
    },
    {
     "name": "stdout",
     "output_type": "stream",
     "text": [
      "Daniel Sprong\n"
     ]
    },
    {
     "name": "stderr",
     "output_type": "stream",
     "text": [
      "100%|██████████| 9/9 [00:03<00:00,  2.54it/s]\n",
      "100%|██████████| 9/9 [00:03<00:00,  2.41it/s]\n"
     ]
    },
    {
     "name": "stdout",
     "output_type": "stream",
     "text": [
      "Daniil Miromanov\n"
     ]
    },
    {
     "name": "stderr",
     "output_type": "stream",
     "text": [
      "100%|██████████| 9/9 [00:03<00:00,  2.28it/s]\n",
      "100%|██████████| 9/9 [00:03<00:00,  2.52it/s]\n"
     ]
    },
    {
     "name": "stdout",
     "output_type": "stream",
     "text": [
      "Dante Fabbro\n"
     ]
    },
    {
     "name": "stderr",
     "output_type": "stream",
     "text": [
      "100%|██████████| 9/9 [00:03<00:00,  2.33it/s]\n",
      "100%|██████████| 9/9 [00:03<00:00,  2.56it/s]\n"
     ]
    },
    {
     "name": "stdout",
     "output_type": "stream",
     "text": [
      "Danton Heinen\n"
     ]
    },
    {
     "name": "stderr",
     "output_type": "stream",
     "text": [
      "100%|██████████| 9/9 [00:04<00:00,  2.15it/s]\n",
      "100%|██████████| 9/9 [00:03<00:00,  2.50it/s]\n"
     ]
    },
    {
     "name": "stdout",
     "output_type": "stream",
     "text": [
      "Darnell Nurse\n"
     ]
    },
    {
     "name": "stderr",
     "output_type": "stream",
     "text": [
      "100%|██████████| 9/9 [00:03<00:00,  2.31it/s]\n",
      "100%|██████████| 9/9 [00:03<00:00,  2.35it/s]\n"
     ]
    },
    {
     "name": "stdout",
     "output_type": "stream",
     "text": [
      "Darren Helm\n"
     ]
    },
    {
     "name": "stderr",
     "output_type": "stream",
     "text": [
      "100%|██████████| 9/9 [00:04<00:00,  2.00it/s]\n",
      "100%|██████████| 9/9 [00:03<00:00,  2.28it/s]\n"
     ]
    },
    {
     "name": "stdout",
     "output_type": "stream",
     "text": [
      "Darren Raddysh\n"
     ]
    },
    {
     "name": "stderr",
     "output_type": "stream",
     "text": [
      "100%|██████████| 9/9 [00:03<00:00,  2.48it/s]\n",
      "100%|██████████| 9/9 [00:03<00:00,  2.44it/s]\n"
     ]
    },
    {
     "name": "stdout",
     "output_type": "stream",
     "text": [
      "David Gust\n"
     ]
    },
    {
     "name": "stderr",
     "output_type": "stream",
     "text": [
      "c:\\Users\\jetso\\AppData\\Local\\Programs\\Python\\Python311\\Lib\\site-packages\\moepy\\lowess.py:38: RuntimeWarning:\n",
      "\n",
      "divide by zero encountered in divide\n",
      "\n",
      "c:\\Users\\jetso\\AppData\\Local\\Programs\\Python\\Python311\\Lib\\site-packages\\moepy\\lowess.py:38: RuntimeWarning:\n",
      "\n",
      "invalid value encountered in divide\n",
      "\n",
      "100%|██████████| 9/9 [00:00<00:00, 18.22it/s]\n",
      "c:\\Users\\jetso\\AppData\\Local\\Programs\\Python\\Python311\\Lib\\site-packages\\moepy\\lowess.py:38: RuntimeWarning:\n",
      "\n",
      "divide by zero encountered in divide\n",
      "\n",
      "c:\\Users\\jetso\\AppData\\Local\\Programs\\Python\\Python311\\Lib\\site-packages\\moepy\\lowess.py:38: RuntimeWarning:\n",
      "\n",
      "invalid value encountered in divide\n",
      "\n",
      "100%|██████████| 9/9 [00:14<00:00,  1.62s/it]\n"
     ]
    },
    {
     "name": "stdout",
     "output_type": "stream",
     "text": [
      "David Gustafsson\n"
     ]
    },
    {
     "name": "stderr",
     "output_type": "stream",
     "text": [
      "100%|██████████| 9/9 [00:03<00:00,  2.77it/s]\n",
      "100%|██████████| 9/9 [00:03<00:00,  2.87it/s]\n",
      "c:\\Users\\jetso\\AppData\\Local\\Programs\\Python\\Python311\\Lib\\site-packages\\moepy\\lowess.py:38: RuntimeWarning:\n",
      "\n",
      "divide by zero encountered in divide\n",
      "\n",
      "c:\\Users\\jetso\\AppData\\Local\\Programs\\Python\\Python311\\Lib\\site-packages\\moepy\\lowess.py:38: RuntimeWarning:\n",
      "\n",
      "invalid value encountered in divide\n",
      "\n"
     ]
    },
    {
     "name": "stdout",
     "output_type": "stream",
     "text": [
      "David Jiricek\n"
     ]
    },
    {
     "name": "stderr",
     "output_type": "stream",
     "text": [
      "100%|██████████| 9/9 [00:00<00:00, 18.50it/s]\n",
      "c:\\Users\\jetso\\AppData\\Local\\Programs\\Python\\Python311\\Lib\\site-packages\\moepy\\lowess.py:38: RuntimeWarning:\n",
      "\n",
      "divide by zero encountered in divide\n",
      "\n",
      "c:\\Users\\jetso\\AppData\\Local\\Programs\\Python\\Python311\\Lib\\site-packages\\moepy\\lowess.py:38: RuntimeWarning:\n",
      "\n",
      "invalid value encountered in divide\n",
      "\n",
      "100%|██████████| 9/9 [00:00<00:00, 22.23it/s]\n"
     ]
    },
    {
     "name": "stdout",
     "output_type": "stream",
     "text": [
      "David Kampf\n"
     ]
    },
    {
     "name": "stderr",
     "output_type": "stream",
     "text": [
      "100%|██████████| 9/9 [00:02<00:00,  3.13it/s]\n",
      "100%|██████████| 9/9 [00:03<00:00,  2.61it/s]\n"
     ]
    },
    {
     "name": "stdout",
     "output_type": "stream",
     "text": [
      "David Krejci\n"
     ]
    },
    {
     "name": "stderr",
     "output_type": "stream",
     "text": [
      "100%|██████████| 9/9 [00:03<00:00,  2.42it/s]\n",
      "100%|██████████| 9/9 [00:03<00:00,  2.42it/s]\n"
     ]
    },
    {
     "name": "stdout",
     "output_type": "stream",
     "text": [
      "David Pastrnak\n"
     ]
    },
    {
     "name": "stderr",
     "output_type": "stream",
     "text": [
      "100%|██████████| 9/9 [00:04<00:00,  2.23it/s]\n",
      "100%|██████████| 9/9 [00:04<00:00,  2.13it/s]\n"
     ]
    },
    {
     "name": "stdout",
     "output_type": "stream",
     "text": [
      "David Perron\n"
     ]
    },
    {
     "name": "stderr",
     "output_type": "stream",
     "text": [
      "100%|██████████| 9/9 [00:05<00:00,  1.75it/s]\n",
      "100%|██████████| 9/9 [00:04<00:00,  2.19it/s]\n"
     ]
    },
    {
     "name": "stdout",
     "output_type": "stream",
     "text": [
      "David Savard\n"
     ]
    },
    {
     "name": "stderr",
     "output_type": "stream",
     "text": [
      "100%|██████████| 9/9 [00:04<00:00,  2.11it/s]\n",
      "100%|██████████| 9/9 [00:03<00:00,  2.28it/s]\n"
     ]
    },
    {
     "name": "stdout",
     "output_type": "stream",
     "text": [
      "Dawson Mercer\n"
     ]
    },
    {
     "name": "stderr",
     "output_type": "stream",
     "text": [
      "100%|██████████| 9/9 [00:04<00:00,  2.16it/s]\n",
      "100%|██████████| 9/9 [00:04<00:00,  2.04it/s]\n"
     ]
    },
    {
     "name": "stdout",
     "output_type": "stream",
     "text": [
      "Denis Gurianov\n"
     ]
    },
    {
     "name": "stderr",
     "output_type": "stream",
     "text": [
      "100%|██████████| 9/9 [00:03<00:00,  2.66it/s]\n",
      "100%|██████████| 9/9 [00:03<00:00,  2.52it/s]\n"
     ]
    },
    {
     "name": "stdout",
     "output_type": "stream",
     "text": [
      "Denis Malgin\n"
     ]
    },
    {
     "name": "stderr",
     "output_type": "stream",
     "text": [
      "100%|██████████| 9/9 [00:03<00:00,  2.40it/s]\n",
      "100%|██████████| 9/9 [00:03<00:00,  2.40it/s]\n"
     ]
    },
    {
     "name": "stdout",
     "output_type": "stream",
     "text": [
      "Dennis Cholowski\n"
     ]
    },
    {
     "name": "stderr",
     "output_type": "stream",
     "text": [
      "100%|██████████| 9/9 [00:03<00:00,  2.29it/s]\n",
      "100%|██████████| 9/9 [00:03<00:00,  2.42it/s]\n"
     ]
    },
    {
     "name": "stdout",
     "output_type": "stream",
     "text": [
      "Dennis Gilbert\n"
     ]
    },
    {
     "name": "stderr",
     "output_type": "stream",
     "text": [
      "100%|██████████| 9/9 [00:03<00:00,  2.34it/s]\n",
      "100%|██████████| 9/9 [00:04<00:00,  2.18it/s]\n"
     ]
    },
    {
     "name": "stdout",
     "output_type": "stream",
     "text": [
      "Derek Forbort\n"
     ]
    },
    {
     "name": "stderr",
     "output_type": "stream",
     "text": [
      "100%|██████████| 9/9 [00:04<00:00,  2.22it/s]\n",
      "100%|██████████| 9/9 [00:04<00:00,  2.07it/s]\n"
     ]
    },
    {
     "name": "stdout",
     "output_type": "stream",
     "text": [
      "Derek Grant\n"
     ]
    },
    {
     "name": "stderr",
     "output_type": "stream",
     "text": [
      "100%|██████████| 9/9 [00:03<00:00,  2.60it/s]\n",
      "100%|██████████| 9/9 [00:03<00:00,  2.57it/s]\n"
     ]
    },
    {
     "name": "stdout",
     "output_type": "stream",
     "text": [
      "Derek Ryan\n"
     ]
    },
    {
     "name": "stderr",
     "output_type": "stream",
     "text": [
      "100%|██████████| 9/9 [00:03<00:00,  2.53it/s]\n",
      "100%|██████████| 9/9 [00:03<00:00,  2.50it/s]\n"
     ]
    },
    {
     "name": "stdout",
     "output_type": "stream",
     "text": [
      "Derek Stepan\n"
     ]
    },
    {
     "name": "stderr",
     "output_type": "stream",
     "text": [
      "100%|██████████| 9/9 [00:04<00:00,  2.19it/s]\n",
      "100%|██████████| 9/9 [00:04<00:00,  2.17it/s]\n"
     ]
    },
    {
     "name": "stdout",
     "output_type": "stream",
     "text": [
      "Derick Brassard\n"
     ]
    },
    {
     "name": "stderr",
     "output_type": "stream",
     "text": [
      "100%|██████████| 9/9 [00:03<00:00,  2.43it/s]\n",
      "100%|██████████| 9/9 [00:03<00:00,  2.38it/s]\n"
     ]
    },
    {
     "name": "stdout",
     "output_type": "stream",
     "text": [
      "Derrick Pouliot\n"
     ]
    },
    {
     "name": "stderr",
     "output_type": "stream",
     "text": [
      "100%|██████████| 9/9 [00:03<00:00,  2.35it/s]\n",
      "100%|██████████| 9/9 [00:04<00:00,  2.15it/s]\n"
     ]
    },
    {
     "name": "stdout",
     "output_type": "stream",
     "text": [
      "Devin Shore\n"
     ]
    },
    {
     "name": "stderr",
     "output_type": "stream",
     "text": [
      "100%|██████████| 9/9 [00:03<00:00,  2.79it/s]\n",
      "100%|██████████| 9/9 [00:03<00:00,  2.40it/s]\n"
     ]
    },
    {
     "name": "stdout",
     "output_type": "stream",
     "text": [
      "Devon Toews\n"
     ]
    },
    {
     "name": "stderr",
     "output_type": "stream",
     "text": [
      "100%|██████████| 9/9 [00:04<00:00,  2.12it/s]\n",
      "100%|██████████| 9/9 [00:04<00:00,  1.92it/s]\n"
     ]
    },
    {
     "name": "stdout",
     "output_type": "stream",
     "text": [
      "Dillon Dube\n"
     ]
    },
    {
     "name": "stderr",
     "output_type": "stream",
     "text": [
      "100%|██████████| 9/9 [00:03<00:00,  2.84it/s]\n",
      "100%|██████████| 9/9 [00:03<00:00,  2.47it/s]\n"
     ]
    },
    {
     "name": "stdout",
     "output_type": "stream",
     "text": [
      "Dillon Heatherington\n"
     ]
    },
    {
     "name": "stderr",
     "output_type": "stream",
     "text": [
      "100%|██████████| 9/9 [00:04<00:00,  2.14it/s]\n",
      "100%|██████████| 9/9 [00:04<00:00,  2.05it/s]\n"
     ]
    },
    {
     "name": "stdout",
     "output_type": "stream",
     "text": [
      "Dmitry Kulikov\n"
     ]
    },
    {
     "name": "stderr",
     "output_type": "stream",
     "text": [
      "100%|██████████| 9/9 [00:04<00:00,  1.92it/s]\n",
      "100%|██████████| 9/9 [00:04<00:00,  2.18it/s]\n"
     ]
    },
    {
     "name": "stdout",
     "output_type": "stream",
     "text": [
      "Dmitry Orlov\n"
     ]
    },
    {
     "name": "stderr",
     "output_type": "stream",
     "text": [
      "100%|██████████| 9/9 [00:04<00:00,  2.15it/s]\n",
      "100%|██████████| 9/9 [00:03<00:00,  2.26it/s]\n"
     ]
    },
    {
     "name": "stdout",
     "output_type": "stream",
     "text": [
      "Dominic Toninato\n"
     ]
    },
    {
     "name": "stderr",
     "output_type": "stream",
     "text": [
      "100%|██████████| 9/9 [00:03<00:00,  2.40it/s]\n",
      "100%|██████████| 9/9 [00:04<00:00,  2.22it/s]\n"
     ]
    },
    {
     "name": "stdout",
     "output_type": "stream",
     "text": [
      "Dominik Kubalik\n"
     ]
    },
    {
     "name": "stderr",
     "output_type": "stream",
     "text": [
      "100%|██████████| 9/9 [00:04<00:00,  2.08it/s]\n",
      "100%|██████████| 9/9 [00:04<00:00,  1.95it/s]\n"
     ]
    },
    {
     "name": "stdout",
     "output_type": "stream",
     "text": [
      "Dougie Hamilton\n"
     ]
    },
    {
     "name": "stderr",
     "output_type": "stream",
     "text": [
      "100%|██████████| 9/9 [00:04<00:00,  2.22it/s]\n",
      "100%|██████████| 9/9 [00:03<00:00,  2.34it/s]\n"
     ]
    },
    {
     "name": "stdout",
     "output_type": "stream",
     "text": [
      "Drake Batherson\n"
     ]
    },
    {
     "name": "stderr",
     "output_type": "stream",
     "text": [
      "100%|██████████| 9/9 [00:03<00:00,  2.45it/s]\n",
      "100%|██████████| 9/9 [00:04<00:00,  2.22it/s]\n"
     ]
    },
    {
     "name": "stdout",
     "output_type": "stream",
     "text": [
      "Drake Caggiula\n"
     ]
    },
    {
     "name": "stderr",
     "output_type": "stream",
     "text": [
      "100%|██████████| 9/9 [00:03<00:00,  2.64it/s]\n",
      "100%|██████████| 9/9 [00:03<00:00,  2.32it/s]\n"
     ]
    },
    {
     "name": "stdout",
     "output_type": "stream",
     "text": [
      "Drew Doughty\n"
     ]
    },
    {
     "name": "stderr",
     "output_type": "stream",
     "text": [
      "100%|██████████| 9/9 [00:04<00:00,  2.14it/s]\n",
      "100%|██████████| 9/9 [00:04<00:00,  2.09it/s]\n"
     ]
    },
    {
     "name": "stdout",
     "output_type": "stream",
     "text": [
      "Drew O'Connor\n"
     ]
    },
    {
     "name": "stderr",
     "output_type": "stream",
     "text": [
      "100%|██████████| 9/9 [00:03<00:00,  2.36it/s]\n",
      "100%|██████████| 9/9 [00:04<00:00,  2.01it/s]\n"
     ]
    },
    {
     "name": "stdout",
     "output_type": "stream",
     "text": [
      "Dryden Hunt\n"
     ]
    },
    {
     "name": "stderr",
     "output_type": "stream",
     "text": [
      "100%|██████████| 9/9 [00:03<00:00,  2.36it/s]\n",
      "100%|██████████| 9/9 [00:03<00:00,  2.43it/s]\n"
     ]
    },
    {
     "name": "stdout",
     "output_type": "stream",
     "text": [
      "Dylan Coghlan\n"
     ]
    },
    {
     "name": "stderr",
     "output_type": "stream",
     "text": [
      "100%|██████████| 9/9 [00:03<00:00,  2.57it/s]\n",
      "100%|██████████| 9/9 [00:03<00:00,  2.83it/s]\n"
     ]
    },
    {
     "name": "stdout",
     "output_type": "stream",
     "text": [
      "Dylan Cozens\n"
     ]
    },
    {
     "name": "stderr",
     "output_type": "stream",
     "text": [
      "100%|██████████| 9/9 [00:03<00:00,  2.46it/s]\n",
      "100%|██████████| 9/9 [00:03<00:00,  2.32it/s]\n"
     ]
    },
    {
     "name": "stdout",
     "output_type": "stream",
     "text": [
      "Dylan DeMelo\n"
     ]
    },
    {
     "name": "stderr",
     "output_type": "stream",
     "text": [
      "100%|██████████| 9/9 [00:03<00:00,  2.57it/s]\n",
      "100%|██████████| 9/9 [00:03<00:00,  2.48it/s]\n"
     ]
    },
    {
     "name": "stdout",
     "output_type": "stream",
     "text": [
      "Dylan Gambrell\n"
     ]
    },
    {
     "name": "stderr",
     "output_type": "stream",
     "text": [
      "100%|██████████| 9/9 [00:03<00:00,  2.56it/s]\n",
      "100%|██████████| 9/9 [00:03<00:00,  2.51it/s]\n"
     ]
    },
    {
     "name": "stdout",
     "output_type": "stream",
     "text": [
      "Dylan Guenther\n"
     ]
    },
    {
     "name": "stderr",
     "output_type": "stream",
     "text": [
      "100%|██████████| 9/9 [00:03<00:00,  2.49it/s]\n",
      "100%|██████████| 9/9 [00:03<00:00,  2.29it/s]\n"
     ]
    },
    {
     "name": "stdout",
     "output_type": "stream",
     "text": [
      "Dylan Holloway\n"
     ]
    },
    {
     "name": "stderr",
     "output_type": "stream",
     "text": [
      "100%|██████████| 9/9 [00:03<00:00,  2.46it/s]\n",
      "100%|██████████| 9/9 [00:03<00:00,  2.45it/s]\n"
     ]
    },
    {
     "name": "stdout",
     "output_type": "stream",
     "text": [
      "Dylan Larkin\n"
     ]
    },
    {
     "name": "stderr",
     "output_type": "stream",
     "text": [
      "100%|██████████| 9/9 [00:03<00:00,  2.45it/s]\n",
      "100%|██████████| 9/9 [00:04<00:00,  2.23it/s]\n"
     ]
    },
    {
     "name": "stdout",
     "output_type": "stream",
     "text": [
      "Dylan McIlrath\n"
     ]
    },
    {
     "name": "stderr",
     "output_type": "stream",
     "text": [
      "100%|██████████| 9/9 [00:04<00:00,  2.11it/s]\n",
      "100%|██████████| 9/9 [00:04<00:00,  2.11it/s]\n"
     ]
    },
    {
     "name": "stdout",
     "output_type": "stream",
     "text": [
      "Dylan Samberg\n"
     ]
    },
    {
     "name": "stderr",
     "output_type": "stream",
     "text": [
      "100%|██████████| 9/9 [00:04<00:00,  1.97it/s]\n",
      "100%|██████████| 9/9 [00:04<00:00,  2.03it/s]\n"
     ]
    },
    {
     "name": "stdout",
     "output_type": "stream",
     "text": [
      "Dylan Strome\n"
     ]
    },
    {
     "name": "stderr",
     "output_type": "stream",
     "text": [
      "100%|██████████| 9/9 [00:03<00:00,  2.33it/s]\n",
      "100%|██████████| 9/9 [00:03<00:00,  2.55it/s]\n"
     ]
    },
    {
     "name": "stdout",
     "output_type": "stream",
     "text": [
      "Dysin Mayo\n"
     ]
    },
    {
     "name": "stderr",
     "output_type": "stream",
     "text": [
      "100%|██████████| 9/9 [00:04<00:00,  2.17it/s]\n",
      "100%|██████████| 9/9 [00:04<00:00,  2.14it/s]\n"
     ]
    },
    {
     "name": "stdout",
     "output_type": "stream",
     "text": [
      "Eeli Tolvanen\n"
     ]
    },
    {
     "name": "stderr",
     "output_type": "stream",
     "text": [
      "100%|██████████| 9/9 [00:04<00:00,  2.18it/s]\n",
      "100%|██████████| 9/9 [00:03<00:00,  2.55it/s]\n"
     ]
    },
    {
     "name": "stdout",
     "output_type": "stream",
     "text": [
      "Eetu Luostarinen\n"
     ]
    },
    {
     "name": "stderr",
     "output_type": "stream",
     "text": [
      "100%|██████████| 9/9 [00:04<00:00,  1.94it/s]\n",
      "100%|██████████| 9/9 [00:03<00:00,  2.33it/s]\n"
     ]
    },
    {
     "name": "stdout",
     "output_type": "stream",
     "text": [
      "Egor Afanasyev\n"
     ]
    },
    {
     "name": "stderr",
     "output_type": "stream",
     "text": [
      "100%|██████████| 9/9 [00:02<00:00,  3.93it/s]\n",
      "100%|██████████| 9/9 [00:16<00:00,  1.82s/it]\n"
     ]
    },
    {
     "name": "stdout",
     "output_type": "stream",
     "text": [
      "Egor Zamula\n"
     ]
    },
    {
     "name": "stderr",
     "output_type": "stream",
     "text": [
      "100%|██████████| 9/9 [00:03<00:00,  2.34it/s]\n",
      "100%|██████████| 9/9 [00:15<00:00,  1.74s/it]\n"
     ]
    },
    {
     "name": "stdout",
     "output_type": "stream",
     "text": [
      "Elias Lindholm\n"
     ]
    },
    {
     "name": "stderr",
     "output_type": "stream",
     "text": [
      "100%|██████████| 9/9 [00:03<00:00,  2.76it/s]\n",
      "100%|██████████| 9/9 [00:03<00:00,  2.79it/s]\n"
     ]
    },
    {
     "name": "stdout",
     "output_type": "stream",
     "text": [
      "Elias Pettersson\n"
     ]
    },
    {
     "name": "stderr",
     "output_type": "stream",
     "text": [
      "100%|██████████| 9/9 [00:04<00:00,  2.07it/s]\n",
      "100%|██████████| 9/9 [00:04<00:00,  1.88it/s]\n"
     ]
    },
    {
     "name": "stdout",
     "output_type": "stream",
     "text": [
      "Elliot Desnoyers\n"
     ]
    },
    {
     "name": "stderr",
     "output_type": "stream",
     "text": [
      "c:\\Users\\jetso\\AppData\\Local\\Programs\\Python\\Python311\\Lib\\site-packages\\moepy\\lowess.py:38: RuntimeWarning:\n",
      "\n",
      "divide by zero encountered in divide\n",
      "\n",
      "c:\\Users\\jetso\\AppData\\Local\\Programs\\Python\\Python311\\Lib\\site-packages\\moepy\\lowess.py:38: RuntimeWarning:\n",
      "\n",
      "invalid value encountered in divide\n",
      "\n",
      "100%|██████████| 9/9 [00:00<00:00, 16.73it/s]\n",
      "c:\\Users\\jetso\\AppData\\Local\\Programs\\Python\\Python311\\Lib\\site-packages\\moepy\\lowess.py:38: RuntimeWarning:\n",
      "\n",
      "divide by zero encountered in divide\n",
      "\n",
      "c:\\Users\\jetso\\AppData\\Local\\Programs\\Python\\Python311\\Lib\\site-packages\\moepy\\lowess.py:38: RuntimeWarning:\n",
      "\n",
      "invalid value encountered in divide\n",
      "\n",
      "100%|██████████| 9/9 [00:00<00:00, 18.31it/s]\n"
     ]
    },
    {
     "name": "stdout",
     "output_type": "stream",
     "text": [
      "Elmer Soderblom\n"
     ]
    },
    {
     "name": "stderr",
     "output_type": "stream",
     "text": [
      "100%|██████████| 9/9 [00:03<00:00,  2.35it/s]\n",
      "100%|██████████| 9/9 [00:04<00:00,  1.86it/s]\n"
     ]
    },
    {
     "name": "stdout",
     "output_type": "stream",
     "text": [
      "Emil Bemstrom\n"
     ]
    },
    {
     "name": "stderr",
     "output_type": "stream",
     "text": [
      "100%|██████████| 9/9 [00:03<00:00,  2.42it/s]\n",
      "100%|██████████| 9/9 [00:03<00:00,  2.47it/s]\n"
     ]
    },
    {
     "name": "stdout",
     "output_type": "stream",
     "text": [
      "Eric Robinson\n"
     ]
    },
    {
     "name": "stderr",
     "output_type": "stream",
     "text": [
      "100%|██████████| 9/9 [00:03<00:00,  2.47it/s]\n",
      "100%|██████████| 9/9 [00:03<00:00,  2.40it/s]\n"
     ]
    },
    {
     "name": "stdout",
     "output_type": "stream",
     "text": [
      "Eric Staal\n"
     ]
    },
    {
     "name": "stderr",
     "output_type": "stream",
     "text": [
      "100%|██████████| 9/9 [00:04<00:00,  1.88it/s]\n",
      "100%|██████████| 9/9 [00:04<00:00,  2.03it/s]\n"
     ]
    },
    {
     "name": "stdout",
     "output_type": "stream",
     "text": [
      "Erik Brannstrom\n"
     ]
    },
    {
     "name": "stderr",
     "output_type": "stream",
     "text": [
      "100%|██████████| 9/9 [00:03<00:00,  2.39it/s]\n",
      "100%|██████████| 9/9 [00:03<00:00,  2.34it/s]\n"
     ]
    },
    {
     "name": "stdout",
     "output_type": "stream",
     "text": [
      "Erik Cernak\n"
     ]
    },
    {
     "name": "stderr",
     "output_type": "stream",
     "text": [
      "100%|██████████| 9/9 [00:03<00:00,  2.62it/s]\n",
      "100%|██████████| 9/9 [00:04<00:00,  2.03it/s]\n"
     ]
    },
    {
     "name": "stdout",
     "output_type": "stream",
     "text": [
      "Erik Gudbranson\n"
     ]
    },
    {
     "name": "stderr",
     "output_type": "stream",
     "text": [
      "100%|██████████| 9/9 [00:04<00:00,  1.88it/s]\n",
      "100%|██████████| 9/9 [00:04<00:00,  1.88it/s]\n"
     ]
    },
    {
     "name": "stdout",
     "output_type": "stream",
     "text": [
      "Erik Gustafsson\n"
     ]
    },
    {
     "name": "stderr",
     "output_type": "stream",
     "text": [
      "100%|██████████| 9/9 [00:03<00:00,  2.47it/s]\n",
      "100%|██████████| 9/9 [00:03<00:00,  2.49it/s]\n"
     ]
    },
    {
     "name": "stdout",
     "output_type": "stream",
     "text": [
      "Erik Haula\n"
     ]
    },
    {
     "name": "stderr",
     "output_type": "stream",
     "text": [
      "100%|██████████| 9/9 [00:02<00:00,  3.08it/s]\n",
      "100%|██████████| 9/9 [00:03<00:00,  2.46it/s]\n"
     ]
    },
    {
     "name": "stdout",
     "output_type": "stream",
     "text": [
      "Erik Johnson\n"
     ]
    },
    {
     "name": "stderr",
     "output_type": "stream",
     "text": [
      "100%|██████████| 9/9 [00:04<00:00,  2.24it/s]\n",
      "100%|██████████| 9/9 [00:03<00:00,  2.44it/s]\n"
     ]
    },
    {
     "name": "stdout",
     "output_type": "stream",
     "text": [
      "Erik Karlsson\n"
     ]
    },
    {
     "name": "stderr",
     "output_type": "stream",
     "text": [
      "100%|██████████| 9/9 [00:03<00:00,  2.50it/s]\n",
      "100%|██████████| 9/9 [00:03<00:00,  2.37it/s]\n"
     ]
    },
    {
     "name": "stdout",
     "output_type": "stream",
     "text": [
      "Esa Lindell\n"
     ]
    },
    {
     "name": "stderr",
     "output_type": "stream",
     "text": [
      "100%|██████████| 9/9 [00:03<00:00,  2.35it/s]\n",
      "100%|██████████| 9/9 [00:03<00:00,  2.63it/s]\n"
     ]
    },
    {
     "name": "stdout",
     "output_type": "stream",
     "text": [
      "Ethan Bear\n"
     ]
    },
    {
     "name": "stderr",
     "output_type": "stream",
     "text": [
      "100%|██████████| 9/9 [00:03<00:00,  2.50it/s]\n",
      "100%|██████████| 9/9 [00:03<00:00,  2.44it/s]\n"
     ]
    },
    {
     "name": "stdout",
     "output_type": "stream",
     "text": [
      "Evan Bouchard\n"
     ]
    },
    {
     "name": "stderr",
     "output_type": "stream",
     "text": [
      "100%|██████████| 9/9 [00:04<00:00,  2.08it/s]\n",
      "100%|██████████| 9/9 [00:03<00:00,  2.33it/s]\n"
     ]
    },
    {
     "name": "stdout",
     "output_type": "stream",
     "text": [
      "Evan Rodrigues\n"
     ]
    },
    {
     "name": "stderr",
     "output_type": "stream",
     "text": [
      "100%|██████████| 9/9 [00:03<00:00,  2.63it/s]\n",
      "100%|██████████| 9/9 [00:03<00:00,  2.43it/s]\n"
     ]
    },
    {
     "name": "stdout",
     "output_type": "stream",
     "text": [
      "Evander Kane\n"
     ]
    },
    {
     "name": "stderr",
     "output_type": "stream",
     "text": [
      "100%|██████████| 9/9 [00:03<00:00,  2.70it/s]\n",
      "100%|██████████| 9/9 [00:03<00:00,  2.36it/s]\n"
     ]
    },
    {
     "name": "stdout",
     "output_type": "stream",
     "text": [
      "Evgeni Malkin\n"
     ]
    },
    {
     "name": "stderr",
     "output_type": "stream",
     "text": [
      "100%|██████████| 9/9 [00:04<00:00,  2.13it/s]\n",
      "100%|██████████| 9/9 [00:04<00:00,  1.96it/s]\n"
     ]
    },
    {
     "name": "stdout",
     "output_type": "stream",
     "text": [
      "Evgenii Dadonov\n"
     ]
    },
    {
     "name": "stderr",
     "output_type": "stream",
     "text": [
      "100%|██████████| 9/9 [00:04<00:00,  2.14it/s]\n",
      "100%|██████████| 9/9 [00:04<00:00,  2.00it/s]\n"
     ]
    },
    {
     "name": "stdout",
     "output_type": "stream",
     "text": [
      "Evgeny Kuznetsov\n"
     ]
    },
    {
     "name": "stderr",
     "output_type": "stream",
     "text": [
      "100%|██████████| 9/9 [00:03<00:00,  2.45it/s]\n",
      "100%|██████████| 9/9 [00:03<00:00,  2.28it/s]\n"
     ]
    },
    {
     "name": "stdout",
     "output_type": "stream",
     "text": [
      "Evgeny Svechnikov\n"
     ]
    },
    {
     "name": "stderr",
     "output_type": "stream",
     "text": [
      "100%|██████████| 9/9 [00:03<00:00,  2.70it/s]\n",
      "100%|██████████| 9/9 [00:03<00:00,  2.62it/s]\n"
     ]
    },
    {
     "name": "stdout",
     "output_type": "stream",
     "text": [
      "Fabian Zetterlund\n"
     ]
    },
    {
     "name": "stderr",
     "output_type": "stream",
     "text": [
      "100%|██████████| 9/9 [00:05<00:00,  1.80it/s]\n",
      "100%|██████████| 9/9 [00:04<00:00,  1.84it/s]\n"
     ]
    },
    {
     "name": "stdout",
     "output_type": "stream",
     "text": [
      "Filip Chytil\n"
     ]
    },
    {
     "name": "stderr",
     "output_type": "stream",
     "text": [
      "100%|██████████| 9/9 [00:03<00:00,  2.46it/s]\n",
      "100%|██████████| 9/9 [00:03<00:00,  2.57it/s]\n"
     ]
    },
    {
     "name": "stdout",
     "output_type": "stream",
     "text": [
      "Filip Forsberg\n"
     ]
    },
    {
     "name": "stderr",
     "output_type": "stream",
     "text": [
      "100%|██████████| 9/9 [00:04<00:00,  2.23it/s]\n",
      "100%|██████████| 9/9 [00:03<00:00,  2.27it/s]\n",
      "c:\\Users\\jetso\\AppData\\Local\\Programs\\Python\\Python311\\Lib\\site-packages\\moepy\\lowess.py:38: RuntimeWarning:\n",
      "\n",
      "divide by zero encountered in divide\n",
      "\n",
      "c:\\Users\\jetso\\AppData\\Local\\Programs\\Python\\Python311\\Lib\\site-packages\\moepy\\lowess.py:38: RuntimeWarning:\n",
      "\n",
      "invalid value encountered in divide\n",
      "\n"
     ]
    },
    {
     "name": "stdout",
     "output_type": "stream",
     "text": [
      "Filip Hallander\n"
     ]
    },
    {
     "name": "stderr",
     "output_type": "stream",
     "text": [
      "100%|██████████| 9/9 [00:00<00:00, 17.46it/s]\n",
      "c:\\Users\\jetso\\AppData\\Local\\Programs\\Python\\Python311\\Lib\\site-packages\\moepy\\lowess.py:38: RuntimeWarning:\n",
      "\n",
      "divide by zero encountered in divide\n",
      "\n",
      "c:\\Users\\jetso\\AppData\\Local\\Programs\\Python\\Python311\\Lib\\site-packages\\moepy\\lowess.py:38: RuntimeWarning:\n",
      "\n",
      "invalid value encountered in divide\n",
      "\n",
      "100%|██████████| 9/9 [00:00<00:00, 18.99it/s]\n"
     ]
    },
    {
     "name": "stdout",
     "output_type": "stream",
     "text": [
      "Filip Hronek\n"
     ]
    },
    {
     "name": "stderr",
     "output_type": "stream",
     "text": [
      "100%|██████████| 9/9 [00:02<00:00,  3.10it/s]\n",
      "100%|██████████| 9/9 [00:03<00:00,  2.51it/s]\n",
      "c:\\Users\\jetso\\AppData\\Local\\Programs\\Python\\Python311\\Lib\\site-packages\\moepy\\lowess.py:38: RuntimeWarning:\n",
      "\n",
      "divide by zero encountered in divide\n",
      "\n",
      "c:\\Users\\jetso\\AppData\\Local\\Programs\\Python\\Python311\\Lib\\site-packages\\moepy\\lowess.py:38: RuntimeWarning:\n",
      "\n",
      "invalid value encountered in divide\n",
      "\n"
     ]
    },
    {
     "name": "stdout",
     "output_type": "stream",
     "text": [
      "Filip Kral\n"
     ]
    },
    {
     "name": "stderr",
     "output_type": "stream",
     "text": [
      "100%|██████████| 9/9 [00:00<00:00, 18.75it/s]\n",
      "c:\\Users\\jetso\\AppData\\Local\\Programs\\Python\\Python311\\Lib\\site-packages\\moepy\\lowess.py:38: RuntimeWarning:\n",
      "\n",
      "divide by zero encountered in divide\n",
      "\n",
      "c:\\Users\\jetso\\AppData\\Local\\Programs\\Python\\Python311\\Lib\\site-packages\\moepy\\lowess.py:38: RuntimeWarning:\n",
      "\n",
      "invalid value encountered in divide\n",
      "\n",
      "100%|██████████| 9/9 [00:00<00:00, 18.28it/s]\n"
     ]
    },
    {
     "name": "stdout",
     "output_type": "stream",
     "text": [
      "Filip Roos\n"
     ]
    },
    {
     "name": "stderr",
     "output_type": "stream",
     "text": [
      "100%|██████████| 9/9 [00:04<00:00,  2.12it/s]\n",
      "100%|██████████| 9/9 [00:04<00:00,  2.16it/s]\n"
     ]
    },
    {
     "name": "stdout",
     "output_type": "stream",
     "text": [
      "Filip Zadina\n"
     ]
    },
    {
     "name": "stderr",
     "output_type": "stream",
     "text": [
      "100%|██████████| 9/9 [00:03<00:00,  2.63it/s]\n",
      "100%|██████████| 9/9 [00:03<00:00,  2.90it/s]\n"
     ]
    },
    {
     "name": "stdout",
     "output_type": "stream",
     "text": [
      "Frank Vatrano\n"
     ]
    },
    {
     "name": "stderr",
     "output_type": "stream",
     "text": [
      "100%|██████████| 9/9 [00:03<00:00,  2.33it/s]\n",
      "100%|██████████| 9/9 [00:04<00:00,  2.19it/s]\n",
      "c:\\Users\\jetso\\AppData\\Local\\Programs\\Python\\Python311\\Lib\\site-packages\\moepy\\lowess.py:38: RuntimeWarning:\n",
      "\n",
      "divide by zero encountered in divide\n",
      "\n",
      "c:\\Users\\jetso\\AppData\\Local\\Programs\\Python\\Python311\\Lib\\site-packages\\moepy\\lowess.py:38: RuntimeWarning:\n",
      "\n",
      "invalid value encountered in divide\n",
      "\n"
     ]
    },
    {
     "name": "stdout",
     "output_type": "stream",
     "text": [
      "Frederic Allard\n"
     ]
    },
    {
     "name": "stderr",
     "output_type": "stream",
     "text": [
      "100%|██████████| 9/9 [00:00<00:00, 18.64it/s]\n",
      "c:\\Users\\jetso\\AppData\\Local\\Programs\\Python\\Python311\\Lib\\site-packages\\moepy\\lowess.py:38: RuntimeWarning:\n",
      "\n",
      "divide by zero encountered in divide\n",
      "\n",
      "c:\\Users\\jetso\\AppData\\Local\\Programs\\Python\\Python311\\Lib\\site-packages\\moepy\\lowess.py:38: RuntimeWarning:\n",
      "\n",
      "invalid value encountered in divide\n",
      "\n",
      "100%|██████████| 9/9 [00:00<00:00, 18.56it/s]\n"
     ]
    },
    {
     "name": "stdout",
     "output_type": "stream",
     "text": [
      "Frederick Gaudreau\n"
     ]
    },
    {
     "name": "stderr",
     "output_type": "stream",
     "text": [
      "100%|██████████| 9/9 [00:03<00:00,  2.38it/s]\n",
      "100%|██████████| 9/9 [00:03<00:00,  2.33it/s]\n"
     ]
    },
    {
     "name": "stdout",
     "output_type": "stream",
     "text": [
      "Fredrik Karlstrom\n"
     ]
    },
    {
     "name": "stderr",
     "output_type": "stream",
     "text": [
      "100%|██████████| 9/9 [00:02<00:00,  3.18it/s]\n",
      "100%|██████████| 9/9 [00:02<00:00,  3.77it/s]\n"
     ]
    },
    {
     "name": "stdout",
     "output_type": "stream",
     "text": [
      "Fredrik Olofsson\n"
     ]
    },
    {
     "name": "stderr",
     "output_type": "stream",
     "text": [
      "100%|██████████| 9/9 [00:03<00:00,  2.32it/s]\n",
      "100%|██████████| 9/9 [00:04<00:00,  1.95it/s]\n"
     ]
    },
    {
     "name": "stdout",
     "output_type": "stream",
     "text": [
      "Gabriel Carlsson\n"
     ]
    },
    {
     "name": "stderr",
     "output_type": "stream",
     "text": [
      "100%|██████████| 9/9 [00:03<00:00,  2.72it/s]\n",
      "100%|██████████| 9/9 [00:03<00:00,  2.32it/s]\n"
     ]
    },
    {
     "name": "stdout",
     "output_type": "stream",
     "text": [
      "Gabriel Fortier\n"
     ]
    },
    {
     "name": "stderr",
     "output_type": "stream",
     "text": [
      "100%|██████████| 9/9 [00:03<00:00,  2.90it/s]\n",
      "100%|██████████| 9/9 [00:03<00:00,  2.63it/s]\n"
     ]
    },
    {
     "name": "stdout",
     "output_type": "stream",
     "text": [
      "Gabriel Vilardi\n"
     ]
    },
    {
     "name": "stderr",
     "output_type": "stream",
     "text": [
      "100%|██████████| 9/9 [00:03<00:00,  2.43it/s]\n",
      "100%|██████████| 9/9 [00:03<00:00,  2.36it/s]\n"
     ]
    },
    {
     "name": "stdout",
     "output_type": "stream",
     "text": [
      "Garnet Hathaway\n"
     ]
    },
    {
     "name": "stderr",
     "output_type": "stream",
     "text": [
      "100%|██████████| 9/9 [00:03<00:00,  2.72it/s]\n",
      "100%|██████████| 9/9 [00:03<00:00,  2.34it/s]\n"
     ]
    },
    {
     "name": "stdout",
     "output_type": "stream",
     "text": [
      "Gavin Bayreuther\n"
     ]
    },
    {
     "name": "stderr",
     "output_type": "stream",
     "text": [
      "100%|██████████| 9/9 [00:03<00:00,  2.37it/s]\n",
      "100%|██████████| 9/9 [00:04<00:00,  2.18it/s]\n"
     ]
    },
    {
     "name": "stdout",
     "output_type": "stream",
     "text": [
      "Givani Smith\n"
     ]
    },
    {
     "name": "stderr",
     "output_type": "stream",
     "text": [
      "100%|██████████| 9/9 [00:03<00:00,  2.51it/s]\n",
      "100%|██████████| 9/9 [00:03<00:00,  2.64it/s]\n"
     ]
    },
    {
     "name": "stdout",
     "output_type": "stream",
     "text": [
      "Glenn Gawdin\n"
     ]
    },
    {
     "name": "stderr",
     "output_type": "stream",
     "text": [
      "100%|██████████| 9/9 [00:02<00:00,  3.42it/s]\n",
      "100%|██████████| 9/9 [00:02<00:00,  3.23it/s]\n"
     ]
    },
    {
     "name": "stdout",
     "output_type": "stream",
     "text": [
      "Grigori Denisenko\n"
     ]
    },
    {
     "name": "stderr",
     "output_type": "stream",
     "text": [
      "100%|██████████| 9/9 [00:03<00:00,  2.26it/s]\n",
      "100%|██████████| 9/9 [00:04<00:00,  2.16it/s]\n"
     ]
    },
    {
     "name": "stdout",
     "output_type": "stream",
     "text": [
      "Guillaume Brisebois\n"
     ]
    },
    {
     "name": "stderr",
     "output_type": "stream",
     "text": [
      "100%|██████████| 9/9 [00:03<00:00,  2.39it/s]\n",
      "100%|██████████| 9/9 [00:03<00:00,  2.36it/s]\n"
     ]
    },
    {
     "name": "stdout",
     "output_type": "stream",
     "text": [
      "Gustav Forsling\n"
     ]
    },
    {
     "name": "stderr",
     "output_type": "stream",
     "text": [
      "100%|██████████| 9/9 [00:03<00:00,  2.27it/s]\n",
      "100%|██████████| 9/9 [00:03<00:00,  2.36it/s]\n"
     ]
    }
   ],
   "source": [
    "players = list(merged[merged.Season == 20222023].Player.unique())\n",
    "players.sort()\n",
    "recents = []\n",
    "errors = []\n",
    "for player in players[:300]:\n",
    "    print(player)\n",
    "    try:\n",
    "        df = pd.read_csv('projections/20222023/'+(player.replace(' ', '_'))+'.csv')\n",
    "    except:\n",
    "        df, df_quantiles = get_projections(player, 'Career Game')\n",
    "        df.to_csv('projections/20222023/'+(player.replace(' ', '_'))+'.csv')\n",
    "        recents.append(df[df.index == len(df)-1])"
   ]
  },
  {
   "cell_type": "code",
   "execution_count": 170,
   "metadata": {},
   "outputs": [
    {
     "name": "stderr",
     "output_type": "stream",
     "text": [
      "C:\\Users\\jetso\\AppData\\Local\\Temp\\ipykernel_368\\1045383819.py:1: FutureWarning:\n",
      "\n",
      "The default value of numeric_only in DataFrameGroupBy.var is deprecated. In a future version, numeric_only will default to False. Either specify numeric_only or select only columns which should be valid for the function.\n",
      "\n"
     ]
    },
    {
     "data": {
      "text/plain": [
       "1.1545636000572794"
      ]
     },
     "execution_count": 170,
     "metadata": {},
     "output_type": "execute_result"
    }
   ],
   "source": [
    "skaters.groupby(['Player']).var().Score.mean()"
   ]
  },
  {
   "cell_type": "code",
   "execution_count": 48,
   "metadata": {},
   "outputs": [
    {
     "name": "stderr",
     "output_type": "stream",
     "text": [
      "100%|██████████| 9/9 [00:01<00:00,  8.81it/s]\n",
      "100%|██████████| 9/9 [00:00<00:00,  9.82it/s]\n"
     ]
    },
    {
     "data": {
      "application/vnd.plotly.v1+json": {
       "config": {
        "plotlyServerURL": "https://plot.ly"
       },
       "data": [
        {
         "marker": {
          "color": "rgba(204, 25, 25, 1)"
         },
         "mode": "markers",
         "opacity": 0.15,
         "type": "scatter",
         "x": [
          1,
          2,
          3,
          4,
          5,
          6,
          7,
          8,
          9,
          10,
          11,
          12,
          13,
          14,
          15,
          16,
          17,
          18,
          19,
          20,
          21,
          22,
          23,
          24,
          25,
          26,
          27,
          28,
          29,
          30,
          31,
          32,
          33,
          34,
          35,
          36,
          37,
          38,
          39,
          40,
          41,
          42,
          43,
          44,
          45,
          46,
          47,
          48,
          49,
          50,
          51,
          52,
          53,
          54,
          55,
          56,
          57,
          58,
          59,
          60,
          61,
          62,
          63,
          64,
          65,
          66,
          67,
          68,
          69,
          70,
          71,
          72,
          73,
          74,
          75,
          76,
          77,
          78,
          79,
          80,
          81,
          82,
          83,
          84,
          85,
          86,
          87,
          88,
          89,
          90,
          91,
          92,
          93,
          94,
          95,
          96,
          97,
          98,
          99,
          100,
          101,
          102,
          103,
          104,
          105,
          106,
          107,
          108,
          109,
          110,
          111,
          112,
          113,
          114,
          115,
          116,
          117,
          118,
          119,
          120,
          121,
          122,
          123,
          124,
          125,
          126,
          127,
          128,
          129,
          130,
          131,
          132,
          133,
          134,
          135,
          136,
          137,
          138,
          139,
          140,
          141,
          142,
          143,
          144,
          145,
          146,
          147,
          148,
          149
         ],
         "y": [
          0.22198804062353153,
          0.18018932230738502,
          0.19498458106224895,
          0.12131403690523267,
          0.13735984650882327,
          0.13102976512540718,
          0.25323509341852046,
          0.17081702236766577,
          0.21256806564636463,
          0.3998651349259623,
          0.3830261575245776,
          0.40004117464016803,
          0.37759339952579274,
          0.34115489884129285,
          0.3527571859735375,
          0.37239336239280457,
          0.247038225236963,
          0.2654132074759097,
          0.27928707742383513,
          0.24336191561900097,
          0.18586693185854875,
          0.22218268901507238,
          0.13780266403370653,
          0.015270450984582906,
          0.05742189730822539,
          0.04214286276313335,
          0.056561942378796075,
          0.008098142439133128,
          0.02766452484808422,
          0.09165777952594294,
          0.09823471799024476,
          0.16206640519340687,
          0.17350226466169494,
          0.2992258568829287,
          0.3129201600701442,
          0.30514295503400524,
          0.26638628219063976,
          0.3250638690506702,
          0.3816947783575208,
          0.4364725497163235,
          0.4748693362138591,
          0.4202832427117971,
          0.3610278300801862,
          0.36265118809735014,
          0.4028293906650199,
          0.4455407210909845,
          0.48148883259034253,
          0.49444366651865923,
          0.510277444467583,
          0.533631882290194,
          0.5243169545737479,
          0.5563840850411887,
          0.5787910881002247,
          0.5613245346898894,
          0.5218402832536497,
          0.5817931136549478,
          0.712491168597418,
          0.7138516837688778,
          0.7421808989112856,
          0.7236312362995441,
          0.7188118849678052,
          0.6755224549844137,
          0.6985682402293564,
          0.680037113318026,
          0.6967968925664679,
          0.6540987416264332,
          0.629327604133966,
          0.5603488997102026,
          0.5403723595666826,
          0.584079604200619,
          0.618262845038403,
          0.5987754529691839,
          0.6396811108299846,
          0.5503730618915075,
          0.5916005850530345,
          0.629215088686515,
          0.6211545115065852,
          0.5301613730569431,
          0.5927031174455861,
          0.6162247308034989,
          0.6085650638884372,
          0.6345897816512625,
          0.6385483258377177,
          0.5852134540832974,
          0.5581259457515305,
          0.6594758924147376,
          0.636813840886171,
          0.593608611041086,
          0.6153148266999414,
          0.5961837855166706,
          0.624763101371969,
          0.6184849684361776,
          0.6109345620982659,
          0.5615207602471032,
          0.5214052529849544,
          0.49251958467492973,
          0.47880061399002916,
          0.5142500331776021,
          0.5395518281199724,
          0.5484125981892105,
          0.5320367279657672,
          0.5678878662788699,
          0.5632129549612057,
          0.5753715068463062,
          0.4976253899856762,
          0.42907289063133813,
          0.48503084346889846,
          0.5313164792257626,
          0.5453732219382847,
          0.5831185942709716,
          0.6251070756628957,
          0.660050441415791,
          0.6555933140727791,
          0.6430640765997497,
          0.6651738003660356,
          0.7434667556505421,
          0.8008361570440469,
          0.8893665465481847,
          0.9091462431177482,
          0.8462790208435612,
          0.8747706115221855,
          0.8888665490762795,
          0.8684662334276569,
          0.8709123609338192,
          0.7705879881232945,
          0.7857623751707079,
          0.837612678479964,
          0.850665625395857,
          0.8479405765326703,
          0.8073634190807398,
          0.8204966116433627,
          0.806443113139578,
          0.7452491715065778,
          0.761097557664296,
          0.6838802805818321,
          0.7372301010432695,
          0.719707997329029,
          0.8087190451294588,
          0.8267989403571142,
          0.8434794093472344,
          0.9054368062309816,
          0.8997963824962352,
          0.8908268815495777,
          0.9505144271326296,
          0.8593901620260617,
          0.756876469511865,
          0.6950670194487236,
          0.5565761184279493,
          0.5875153733113928
         ]
        },
        {
         "marker": {
          "color": "rgba(25, 114, 204, 1)"
         },
         "mode": "markers",
         "opacity": 0.15,
         "type": "scatter",
         "x": [
          1,
          2,
          3,
          4,
          5,
          6,
          7,
          8,
          9,
          10,
          11,
          12,
          13,
          14,
          15,
          16,
          17,
          18,
          19,
          20,
          21,
          22,
          23,
          24,
          25,
          26,
          27,
          28,
          29,
          30,
          31,
          32,
          33,
          34,
          35,
          36,
          37,
          38,
          39,
          40,
          41,
          42,
          43,
          44,
          45,
          46,
          47,
          48,
          49,
          50,
          51,
          52,
          53,
          54,
          55,
          56,
          57,
          58,
          59,
          60,
          61,
          62,
          63,
          64,
          65,
          66,
          67,
          68,
          69,
          70,
          71,
          72,
          73,
          74,
          75,
          76,
          77,
          78,
          79,
          80,
          81,
          82,
          83,
          84,
          85,
          86,
          87,
          88,
          89,
          90,
          91,
          92,
          93,
          94,
          95,
          96,
          97,
          98,
          99,
          100,
          101,
          102,
          103,
          104,
          105,
          106,
          107,
          108,
          109,
          110,
          111,
          112,
          113,
          114,
          115,
          116,
          117,
          118,
          119,
          120,
          121,
          122,
          123,
          124,
          125,
          126,
          127,
          128,
          129,
          130,
          131,
          132,
          133,
          134,
          135,
          136,
          137,
          138,
          139,
          140,
          141,
          142,
          143,
          144,
          145,
          146,
          147,
          148,
          149
         ],
         "y": [
          0,
          0.22291411202155603,
          0.1811399602903163,
          0.19569406675113685,
          0.12331490706355393,
          0.13883836320111528,
          0.13261280920038454,
          0.27072784048098464,
          0.17807999314079315,
          0.22311382805591481,
          0.42554030975580487,
          0.4061297233616223,
          0.4227087677866624,
          0.39838930069699335,
          0.3604195667442812,
          0.37107374599184045,
          0.3894689840143527,
          0.2677214683181809,
          0.2843078471952506,
          0.2965146194014821,
          0.26284478138394435,
          0.21012094494678404,
          0.2415694938994464,
          0.16692203684976167,
          0.05997094325537092,
          0.09437565178133672,
          0.08037262109861176,
          0.0911384076839299,
          0.05022741491950171,
          0.07702575397224014,
          0.17776272488387415,
          0.1831004882954914,
          0.273409729537434,
          0.28409579503986393,
          0.45180323978860343,
          0.4628582694486775,
          0.4461715109130401,
          0.3919472571154421,
          0.4790560638697041,
          0.5576566602504546,
          0.6292503459458904,
          0.6741774726190317,
          0.5906550161538849,
          0.5054850053440885,
          0.5014248969652164,
          0.544925141684033,
          0.5900067587634149,
          0.6259129333189312,
          0.6350698972223253,
          0.6472372740199709,
          0.6671366386568222,
          0.6531035152838004,
          0.6809462364581402,
          0.6988825254238911,
          0.6785323873225318,
          0.6383060120634763,
          0.6892048516771156,
          0.8020164252978624,
          0.80069823932592,
          0.8223482906075957,
          0.8047929379628649,
          0.7987440284955855,
          0.7622001106178286,
          0.7787930908149859,
          0.7618269839652767,
          0.7730011920470801,
          0.7380158464951251,
          0.7170775923392742,
          0.6631640383326718,
          0.6460010797128501,
          0.6753615748768079,
          0.6977541894604501,
          0.6822860599193733,
          0.7086617501664196,
          0.6462046665464396,
          0.6718878357070447,
          0.6950815324415329,
          0.6884852276033602,
          0.6287719833275186,
          0.6662829687641706,
          0.6794826567260132,
          0.6735631265356655,
          0.6880449731200078,
          0.6893985705924391,
          0.6571728155614649,
          0.6399090577136654,
          0.6971775361641224,
          0.6835436270630886,
          0.6583537641534473,
          0.6743992514355779,
          0.6576710311198738,
          0.6784706027278133,
          0.6723773201357477,
          0.665432674798397,
          0.627762882282039,
          0.5972572779277584,
          0.5750266320902,
          0.5636398441144572,
          0.5860824157622564,
          0.6016152426865727,
          0.6062036932749701,
          0.5943521240894308,
          0.6160771844405688,
          0.6121673986463017,
          0.618762130812945,
          0.5703121082448657,
          0.527584643725974,
          0.5590024707929037,
          0.5847498522178897,
          0.5918967592285821,
          0.612549539207426,
          0.6355570588443804,
          0.654688787789112,
          0.6523498170842037,
          0.6456485500753943,
          0.6573960023436095,
          0.6987460066324632,
          0.7293027556044651,
          0.7760049864929924,
          0.7878644559192802,
          0.7582034815777533,
          0.7737425287477967,
          0.7824196393571027,
          0.7739440595318682,
          0.776599764164744,
          0.7294314781501277,
          0.7373327592216979,
          0.7626125690162678,
          0.7698296438122894,
          0.7697405130694562,
          0.7521590551261191,
          0.7589411602385542,
          0.7534663792086228,
          0.726858210678639,
          0.7341251788814035,
          0.700608300155337,
          0.7238679917896512,
          0.7164256345877402,
          0.7549706594380993,
          0.7634530200970714,
          0.7714776023833133,
          0.7990264905962846,
          0.7980468201258609,
          0.7956089860621096,
          0.8217928282661213,
          0.7856735200681891,
          0.7445712755611946,
          0.7196016728251345,
          0.6634914425506144
         ]
        },
        {
         "marker": {
          "color": "rgba(25, 204, 114, 1)"
         },
         "mode": "markers",
         "opacity": 0.15,
         "type": "scatter",
         "x": [
          1,
          2,
          3,
          4,
          5,
          6,
          7,
          8,
          9,
          10,
          11,
          12,
          13,
          14,
          15,
          16,
          17,
          18,
          19,
          20,
          21,
          22,
          23,
          24,
          25,
          26,
          27,
          28,
          29,
          30,
          31,
          32,
          33,
          34,
          35,
          36,
          37,
          38,
          39,
          40,
          41,
          42,
          43,
          44,
          45,
          46,
          47,
          48,
          49,
          50,
          51,
          52,
          53,
          54,
          55,
          56,
          57,
          58,
          59,
          60,
          61,
          62,
          63,
          64,
          65,
          66,
          67,
          68,
          69,
          70,
          71,
          72,
          73,
          74,
          75,
          76,
          77,
          78,
          79,
          80,
          81,
          82,
          83,
          84,
          85,
          86,
          87,
          88,
          89,
          90,
          91,
          92,
          93,
          94,
          95,
          96,
          97,
          98,
          99,
          100,
          101,
          102,
          103,
          104,
          105,
          106,
          107,
          108,
          109,
          110,
          111,
          112,
          113,
          114,
          115,
          116,
          117,
          118,
          119,
          120,
          121,
          122,
          123,
          124,
          125,
          126,
          127,
          128,
          129,
          130,
          131,
          132,
          133,
          134,
          135,
          136,
          137,
          138,
          139,
          140,
          141,
          142,
          143,
          144,
          145,
          146,
          147,
          148,
          149
         ],
         "y": [
          0.22198804062353153,
          0.18018932230738502,
          0.19498458106224895,
          0.12131403690523267,
          0.13735984650882327,
          0.13102976512540718,
          0.25323509341852046,
          0.17081702236766577,
          0.21256806564636463,
          0.3998651349259623,
          0.3830261575245776,
          0.40004117464016803,
          0.37759339952579274,
          0.34115489884129285,
          0.3527571859735375,
          0.37239336239280457,
          0.247038225236963,
          0.2654132074759097,
          0.27928707742383513,
          0.24336191561900097,
          0.18586693185854875,
          0.22218268901507238,
          0.13780266403370653,
          0.015270450984582906,
          0.05742189730822539,
          0.04214286276313335,
          0.056561942378796075,
          0.008098142439133128,
          0.02766452484808422,
          0.09165777952594294,
          0.09823471799024476,
          0.16206640519340687,
          0.17350226466169494,
          0.2992258568829287,
          0.3129201600701442,
          0.30514295503400524,
          0.26638628219063976,
          0.3250638690506702,
          0.3816947783575208,
          0.4364725497163235,
          0.4748693362138591,
          0.4202832427117971,
          0.3610278300801862,
          0.36265118809735014,
          0.4028293906650199,
          0.4455407210909845,
          0.48148883259034253,
          0.49444366651865923,
          0.510277444467583,
          0.533631882290194,
          0.5243169545737479,
          0.5563840850411887,
          0.5787910881002247,
          0.5613245346898894,
          0.5218402832536497,
          0.5817931136549478,
          0.712491168597418,
          0.7138516837688778,
          0.7421808989112856,
          0.7236312362995441,
          0.7188118849678052,
          0.6755224549844137,
          0.6985682402293564,
          0.680037113318026,
          0.6967968925664679,
          0.6540987416264332,
          0.629327604133966,
          0.5603488997102026,
          0.5403723595666826,
          0.584079604200619,
          0.618262845038403,
          0.5987754529691839,
          0.6396811108299846,
          0.5503730618915075,
          0.5916005850530345,
          0.629215088686515,
          0.6211545115065852,
          0.5301613730569431,
          0.5927031174455861,
          0.6162247308034989,
          0.6085650638884372,
          0.6345897816512625,
          0.6784558892250061,
          0.6826032400131226,
          0.6812505125999451,
          0.6712151169776917,
          0.6583796739578247,
          0.6840899586677551,
          0.6753845810890198,
          0.6761835217475891,
          0.6694185733795166,
          0.663214385509491,
          0.6701924204826355,
          0.668901264667511,
          0.6677491068840027,
          0.6527103781700134,
          0.6114455461502075,
          0.5927139520645142,
          0.5691860914230347,
          0.5792459845542908,
          0.6006094217300415,
          0.6081146001815796,
          0.6072744727134705,
          0.6199037432670593,
          0.614811897277832,
          0.6167516708374023,
          0.5768231749534607,
          0.5289618968963623,
          0.5663458108901978,
          0.5785821080207825,
          0.605239748954773,
          0.612045168876648,
          0.6244655847549438,
          0.6544297933578491,
          0.6424635052680969,
          0.6353158950805664,
          0.656883180141449,
          0.6875109076499939,
          0.7152463793754578,
          0.7675804495811462,
          0.7592204213142395,
          0.756905198097229,
          0.7828787565231323,
          0.77797532081604,
          0.7720906734466553,
          0.7660968899726868,
          0.7228286862373352,
          0.7446893453598022,
          0.76005619764328,
          0.7616531252861023,
          0.7580249309539795,
          0.7497667670249939,
          0.7554511427879333,
          0.7552205324172974,
          0.7295610308647156,
          0.7313097715377808,
          0.7135747671127319,
          0.7222539782524109,
          0.7244512438774109,
          0.7558366060256958,
          0.7588094472885132,
          0.784920871257782,
          0.7911183834075928,
          0.7960957884788513,
          0.7993208169937134,
          0.8112657070159912,
          0.7719759941101074,
          0.7418092489242554,
          0.713884711265564
         ]
        }
       ],
       "layout": {
        "autosize": false,
        "height": 500,
        "template": {
         "data": {
          "bar": [
           {
            "error_x": {
             "color": "#2a3f5f"
            },
            "error_y": {
             "color": "#2a3f5f"
            },
            "marker": {
             "line": {
              "color": "#E5ECF6",
              "width": 0.5
             },
             "pattern": {
              "fillmode": "overlay",
              "size": 10,
              "solidity": 0.2
             }
            },
            "type": "bar"
           }
          ],
          "barpolar": [
           {
            "marker": {
             "line": {
              "color": "#E5ECF6",
              "width": 0.5
             },
             "pattern": {
              "fillmode": "overlay",
              "size": 10,
              "solidity": 0.2
             }
            },
            "type": "barpolar"
           }
          ],
          "carpet": [
           {
            "aaxis": {
             "endlinecolor": "#2a3f5f",
             "gridcolor": "white",
             "linecolor": "white",
             "minorgridcolor": "white",
             "startlinecolor": "#2a3f5f"
            },
            "baxis": {
             "endlinecolor": "#2a3f5f",
             "gridcolor": "white",
             "linecolor": "white",
             "minorgridcolor": "white",
             "startlinecolor": "#2a3f5f"
            },
            "type": "carpet"
           }
          ],
          "choropleth": [
           {
            "colorbar": {
             "outlinewidth": 0,
             "ticks": ""
            },
            "type": "choropleth"
           }
          ],
          "contour": [
           {
            "colorbar": {
             "outlinewidth": 0,
             "ticks": ""
            },
            "colorscale": [
             [
              0,
              "#0d0887"
             ],
             [
              0.1111111111111111,
              "#46039f"
             ],
             [
              0.2222222222222222,
              "#7201a8"
             ],
             [
              0.3333333333333333,
              "#9c179e"
             ],
             [
              0.4444444444444444,
              "#bd3786"
             ],
             [
              0.5555555555555556,
              "#d8576b"
             ],
             [
              0.6666666666666666,
              "#ed7953"
             ],
             [
              0.7777777777777778,
              "#fb9f3a"
             ],
             [
              0.8888888888888888,
              "#fdca26"
             ],
             [
              1,
              "#f0f921"
             ]
            ],
            "type": "contour"
           }
          ],
          "contourcarpet": [
           {
            "colorbar": {
             "outlinewidth": 0,
             "ticks": ""
            },
            "type": "contourcarpet"
           }
          ],
          "heatmap": [
           {
            "colorbar": {
             "outlinewidth": 0,
             "ticks": ""
            },
            "colorscale": [
             [
              0,
              "#0d0887"
             ],
             [
              0.1111111111111111,
              "#46039f"
             ],
             [
              0.2222222222222222,
              "#7201a8"
             ],
             [
              0.3333333333333333,
              "#9c179e"
             ],
             [
              0.4444444444444444,
              "#bd3786"
             ],
             [
              0.5555555555555556,
              "#d8576b"
             ],
             [
              0.6666666666666666,
              "#ed7953"
             ],
             [
              0.7777777777777778,
              "#fb9f3a"
             ],
             [
              0.8888888888888888,
              "#fdca26"
             ],
             [
              1,
              "#f0f921"
             ]
            ],
            "type": "heatmap"
           }
          ],
          "heatmapgl": [
           {
            "colorbar": {
             "outlinewidth": 0,
             "ticks": ""
            },
            "colorscale": [
             [
              0,
              "#0d0887"
             ],
             [
              0.1111111111111111,
              "#46039f"
             ],
             [
              0.2222222222222222,
              "#7201a8"
             ],
             [
              0.3333333333333333,
              "#9c179e"
             ],
             [
              0.4444444444444444,
              "#bd3786"
             ],
             [
              0.5555555555555556,
              "#d8576b"
             ],
             [
              0.6666666666666666,
              "#ed7953"
             ],
             [
              0.7777777777777778,
              "#fb9f3a"
             ],
             [
              0.8888888888888888,
              "#fdca26"
             ],
             [
              1,
              "#f0f921"
             ]
            ],
            "type": "heatmapgl"
           }
          ],
          "histogram": [
           {
            "marker": {
             "pattern": {
              "fillmode": "overlay",
              "size": 10,
              "solidity": 0.2
             }
            },
            "type": "histogram"
           }
          ],
          "histogram2d": [
           {
            "colorbar": {
             "outlinewidth": 0,
             "ticks": ""
            },
            "colorscale": [
             [
              0,
              "#0d0887"
             ],
             [
              0.1111111111111111,
              "#46039f"
             ],
             [
              0.2222222222222222,
              "#7201a8"
             ],
             [
              0.3333333333333333,
              "#9c179e"
             ],
             [
              0.4444444444444444,
              "#bd3786"
             ],
             [
              0.5555555555555556,
              "#d8576b"
             ],
             [
              0.6666666666666666,
              "#ed7953"
             ],
             [
              0.7777777777777778,
              "#fb9f3a"
             ],
             [
              0.8888888888888888,
              "#fdca26"
             ],
             [
              1,
              "#f0f921"
             ]
            ],
            "type": "histogram2d"
           }
          ],
          "histogram2dcontour": [
           {
            "colorbar": {
             "outlinewidth": 0,
             "ticks": ""
            },
            "colorscale": [
             [
              0,
              "#0d0887"
             ],
             [
              0.1111111111111111,
              "#46039f"
             ],
             [
              0.2222222222222222,
              "#7201a8"
             ],
             [
              0.3333333333333333,
              "#9c179e"
             ],
             [
              0.4444444444444444,
              "#bd3786"
             ],
             [
              0.5555555555555556,
              "#d8576b"
             ],
             [
              0.6666666666666666,
              "#ed7953"
             ],
             [
              0.7777777777777778,
              "#fb9f3a"
             ],
             [
              0.8888888888888888,
              "#fdca26"
             ],
             [
              1,
              "#f0f921"
             ]
            ],
            "type": "histogram2dcontour"
           }
          ],
          "mesh3d": [
           {
            "colorbar": {
             "outlinewidth": 0,
             "ticks": ""
            },
            "type": "mesh3d"
           }
          ],
          "parcoords": [
           {
            "line": {
             "colorbar": {
              "outlinewidth": 0,
              "ticks": ""
             }
            },
            "type": "parcoords"
           }
          ],
          "pie": [
           {
            "automargin": true,
            "type": "pie"
           }
          ],
          "scatter": [
           {
            "fillpattern": {
             "fillmode": "overlay",
             "size": 10,
             "solidity": 0.2
            },
            "type": "scatter"
           }
          ],
          "scatter3d": [
           {
            "line": {
             "colorbar": {
              "outlinewidth": 0,
              "ticks": ""
             }
            },
            "marker": {
             "colorbar": {
              "outlinewidth": 0,
              "ticks": ""
             }
            },
            "type": "scatter3d"
           }
          ],
          "scattercarpet": [
           {
            "marker": {
             "colorbar": {
              "outlinewidth": 0,
              "ticks": ""
             }
            },
            "type": "scattercarpet"
           }
          ],
          "scattergeo": [
           {
            "marker": {
             "colorbar": {
              "outlinewidth": 0,
              "ticks": ""
             }
            },
            "type": "scattergeo"
           }
          ],
          "scattergl": [
           {
            "marker": {
             "colorbar": {
              "outlinewidth": 0,
              "ticks": ""
             }
            },
            "type": "scattergl"
           }
          ],
          "scattermapbox": [
           {
            "marker": {
             "colorbar": {
              "outlinewidth": 0,
              "ticks": ""
             }
            },
            "type": "scattermapbox"
           }
          ],
          "scatterpolar": [
           {
            "marker": {
             "colorbar": {
              "outlinewidth": 0,
              "ticks": ""
             }
            },
            "type": "scatterpolar"
           }
          ],
          "scatterpolargl": [
           {
            "marker": {
             "colorbar": {
              "outlinewidth": 0,
              "ticks": ""
             }
            },
            "type": "scatterpolargl"
           }
          ],
          "scatterternary": [
           {
            "marker": {
             "colorbar": {
              "outlinewidth": 0,
              "ticks": ""
             }
            },
            "type": "scatterternary"
           }
          ],
          "surface": [
           {
            "colorbar": {
             "outlinewidth": 0,
             "ticks": ""
            },
            "colorscale": [
             [
              0,
              "#0d0887"
             ],
             [
              0.1111111111111111,
              "#46039f"
             ],
             [
              0.2222222222222222,
              "#7201a8"
             ],
             [
              0.3333333333333333,
              "#9c179e"
             ],
             [
              0.4444444444444444,
              "#bd3786"
             ],
             [
              0.5555555555555556,
              "#d8576b"
             ],
             [
              0.6666666666666666,
              "#ed7953"
             ],
             [
              0.7777777777777778,
              "#fb9f3a"
             ],
             [
              0.8888888888888888,
              "#fdca26"
             ],
             [
              1,
              "#f0f921"
             ]
            ],
            "type": "surface"
           }
          ],
          "table": [
           {
            "cells": {
             "fill": {
              "color": "#EBF0F8"
             },
             "line": {
              "color": "white"
             }
            },
            "header": {
             "fill": {
              "color": "#C8D4E3"
             },
             "line": {
              "color": "white"
             }
            },
            "type": "table"
           }
          ]
         },
         "layout": {
          "annotationdefaults": {
           "arrowcolor": "#2a3f5f",
           "arrowhead": 0,
           "arrowwidth": 1
          },
          "autotypenumbers": "strict",
          "coloraxis": {
           "colorbar": {
            "outlinewidth": 0,
            "ticks": ""
           }
          },
          "colorscale": {
           "diverging": [
            [
             0,
             "#8e0152"
            ],
            [
             0.1,
             "#c51b7d"
            ],
            [
             0.2,
             "#de77ae"
            ],
            [
             0.3,
             "#f1b6da"
            ],
            [
             0.4,
             "#fde0ef"
            ],
            [
             0.5,
             "#f7f7f7"
            ],
            [
             0.6,
             "#e6f5d0"
            ],
            [
             0.7,
             "#b8e186"
            ],
            [
             0.8,
             "#7fbc41"
            ],
            [
             0.9,
             "#4d9221"
            ],
            [
             1,
             "#276419"
            ]
           ],
           "sequential": [
            [
             0,
             "#0d0887"
            ],
            [
             0.1111111111111111,
             "#46039f"
            ],
            [
             0.2222222222222222,
             "#7201a8"
            ],
            [
             0.3333333333333333,
             "#9c179e"
            ],
            [
             0.4444444444444444,
             "#bd3786"
            ],
            [
             0.5555555555555556,
             "#d8576b"
            ],
            [
             0.6666666666666666,
             "#ed7953"
            ],
            [
             0.7777777777777778,
             "#fb9f3a"
            ],
            [
             0.8888888888888888,
             "#fdca26"
            ],
            [
             1,
             "#f0f921"
            ]
           ],
           "sequentialminus": [
            [
             0,
             "#0d0887"
            ],
            [
             0.1111111111111111,
             "#46039f"
            ],
            [
             0.2222222222222222,
             "#7201a8"
            ],
            [
             0.3333333333333333,
             "#9c179e"
            ],
            [
             0.4444444444444444,
             "#bd3786"
            ],
            [
             0.5555555555555556,
             "#d8576b"
            ],
            [
             0.6666666666666666,
             "#ed7953"
            ],
            [
             0.7777777777777778,
             "#fb9f3a"
            ],
            [
             0.8888888888888888,
             "#fdca26"
            ],
            [
             1,
             "#f0f921"
            ]
           ]
          },
          "colorway": [
           "#636efa",
           "#EF553B",
           "#00cc96",
           "#ab63fa",
           "#FFA15A",
           "#19d3f3",
           "#FF6692",
           "#B6E880",
           "#FF97FF",
           "#FECB52"
          ],
          "font": {
           "color": "#2a3f5f"
          },
          "geo": {
           "bgcolor": "white",
           "lakecolor": "white",
           "landcolor": "#E5ECF6",
           "showlakes": true,
           "showland": true,
           "subunitcolor": "white"
          },
          "hoverlabel": {
           "align": "left"
          },
          "hovermode": "closest",
          "mapbox": {
           "style": "light"
          },
          "paper_bgcolor": "white",
          "plot_bgcolor": "#E5ECF6",
          "polar": {
           "angularaxis": {
            "gridcolor": "white",
            "linecolor": "white",
            "ticks": ""
           },
           "bgcolor": "#E5ECF6",
           "radialaxis": {
            "gridcolor": "white",
            "linecolor": "white",
            "ticks": ""
           }
          },
          "scene": {
           "xaxis": {
            "backgroundcolor": "#E5ECF6",
            "gridcolor": "white",
            "gridwidth": 2,
            "linecolor": "white",
            "showbackground": true,
            "ticks": "",
            "zerolinecolor": "white"
           },
           "yaxis": {
            "backgroundcolor": "#E5ECF6",
            "gridcolor": "white",
            "gridwidth": 2,
            "linecolor": "white",
            "showbackground": true,
            "ticks": "",
            "zerolinecolor": "white"
           },
           "zaxis": {
            "backgroundcolor": "#E5ECF6",
            "gridcolor": "white",
            "gridwidth": 2,
            "linecolor": "white",
            "showbackground": true,
            "ticks": "",
            "zerolinecolor": "white"
           }
          },
          "shapedefaults": {
           "line": {
            "color": "#2a3f5f"
           }
          },
          "ternary": {
           "aaxis": {
            "gridcolor": "white",
            "linecolor": "white",
            "ticks": ""
           },
           "baxis": {
            "gridcolor": "white",
            "linecolor": "white",
            "ticks": ""
           },
           "bgcolor": "#E5ECF6",
           "caxis": {
            "gridcolor": "white",
            "linecolor": "white",
            "ticks": ""
           }
          },
          "title": {
           "x": 0.05
          },
          "xaxis": {
           "automargin": true,
           "gridcolor": "white",
           "linecolor": "white",
           "ticks": "",
           "title": {
            "standoff": 15
           },
           "zerolinecolor": "white",
           "zerolinewidth": 2
          },
          "yaxis": {
           "automargin": true,
           "gridcolor": "white",
           "linecolor": "white",
           "ticks": "",
           "title": {
            "standoff": 15
           },
           "zerolinecolor": "white",
           "zerolinewidth": 2
          }
         }
        },
        "width": 1600
       }
      }
     },
     "metadata": {},
     "output_type": "display_data"
    }
   ],
   "source": [
    "fig = go.Figure()\n",
    "i = 0\n",
    "colors = ['rgba(204, 25, 25', 'rgba(25, 114, 204', 'rgba(25, 204, 114', ]\n",
    "for alpha in [0.99809326]:\n",
    "    time_type = 'Career Game'\n",
    "    df, df_quantiles = get_projections('Rasmus Sandin', time_type)\n",
    "    fig.add_trace(go.Scatter(x=df[time_type], y=df['Kalman'], mode='markers', opacity=0.15, marker=dict(color=colors[i] + ', 1)')))\n",
    "    i+=1\n",
    "    fig.add_trace(go.Scatter(x=df[time_type], y=df['Projection'], mode='markers', opacity=0.15, marker=dict(color=colors[i] + ', 1)')))\n",
    "\n",
    "    i += 1\n",
    "    fig.add_trace(go.Scatter(x=df[time_type], y=df['XGB'], mode='markers', opacity=0.15, marker=dict(color=colors[i] + ', 1)')))\n",
    "\n",
    "fig.update_layout(autosize=False, width=1600, height=500)\n",
    "    # Model fitting\n",
    "fig.show()"
   ]
  },
  {
   "cell_type": "code",
   "execution_count": 92,
   "metadata": {},
   "outputs": [
    {
     "data": {
      "text/html": [
       "<div>\n",
       "<style scoped>\n",
       "    .dataframe tbody tr th:only-of-type {\n",
       "        vertical-align: middle;\n",
       "    }\n",
       "\n",
       "    .dataframe tbody tr th {\n",
       "        vertical-align: top;\n",
       "    }\n",
       "\n",
       "    .dataframe thead th {\n",
       "        text-align: right;\n",
       "    }\n",
       "</style>\n",
       "<table border=\"1\" class=\"dataframe\">\n",
       "  <thead>\n",
       "    <tr style=\"text-align: right;\">\n",
       "      <th></th>\n",
       "      <th>Score</th>\n",
       "      <th>Projection</th>\n",
       "      <th>Date</th>\n",
       "    </tr>\n",
       "  </thead>\n",
       "  <tbody>\n",
       "    <tr>\n",
       "      <th>0</th>\n",
       "      <td>0.231163</td>\n",
       "      <td>0.000000</td>\n",
       "      <td>2015-10-08</td>\n",
       "    </tr>\n",
       "    <tr>\n",
       "      <th>1</th>\n",
       "      <td>0.596236</td>\n",
       "      <td>0.231163</td>\n",
       "      <td>2015-10-10</td>\n",
       "    </tr>\n",
       "    <tr>\n",
       "      <th>2</th>\n",
       "      <td>-0.128410</td>\n",
       "      <td>0.417857</td>\n",
       "      <td>2015-10-13</td>\n",
       "    </tr>\n",
       "    <tr>\n",
       "      <th>3</th>\n",
       "      <td>-2.147070</td>\n",
       "      <td>0.099082</td>\n",
       "      <td>2015-10-15</td>\n",
       "    </tr>\n",
       "    <tr>\n",
       "      <th>4</th>\n",
       "      <td>4.263456</td>\n",
       "      <td>-0.530134</td>\n",
       "      <td>2015-10-17</td>\n",
       "    </tr>\n",
       "    <tr>\n",
       "      <th>...</th>\n",
       "      <td>...</td>\n",
       "      <td>...</td>\n",
       "      <td>...</td>\n",
       "    </tr>\n",
       "    <tr>\n",
       "      <th>553</th>\n",
       "      <td>3.166086</td>\n",
       "      <td>0.093334</td>\n",
       "      <td>2023-03-14</td>\n",
       "    </tr>\n",
       "    <tr>\n",
       "      <th>554</th>\n",
       "      <td>0.213446</td>\n",
       "      <td>0.090931</td>\n",
       "      <td>2023-03-16</td>\n",
       "    </tr>\n",
       "    <tr>\n",
       "      <th>555</th>\n",
       "      <td>3.499303</td>\n",
       "      <td>0.008424</td>\n",
       "      <td>2023-03-18</td>\n",
       "    </tr>\n",
       "    <tr>\n",
       "      <th>556</th>\n",
       "      <td>3.819926</td>\n",
       "      <td>0.096332</td>\n",
       "      <td>2023-03-20</td>\n",
       "    </tr>\n",
       "    <tr>\n",
       "      <th>557</th>\n",
       "      <td>2.227110</td>\n",
       "      <td>0.106745</td>\n",
       "      <td>2023-03-22</td>\n",
       "    </tr>\n",
       "  </tbody>\n",
       "</table>\n",
       "<p>558 rows × 3 columns</p>\n",
       "</div>"
      ],
      "text/plain": [
       "        Score  Projection       Date\n",
       "0    0.231163    0.000000 2015-10-08\n",
       "1    0.596236    0.231163 2015-10-10\n",
       "2   -0.128410    0.417857 2015-10-13\n",
       "3   -2.147070    0.099082 2015-10-15\n",
       "4    4.263456   -0.530134 2015-10-17\n",
       "..        ...         ...        ...\n",
       "553  3.166086    0.093334 2023-03-14\n",
       "554  0.213446    0.090931 2023-03-16\n",
       "555  3.499303    0.008424 2023-03-18\n",
       "556  3.819926    0.096332 2023-03-20\n",
       "557  2.227110    0.106745 2023-03-22\n",
       "\n",
       "[558 rows x 3 columns]"
      ]
     },
     "execution_count": 92,
     "metadata": {},
     "output_type": "execute_result"
    }
   ],
   "source": [
    "df[['Score', 'Projection', 'Date']]"
   ]
  },
  {
   "cell_type": "code",
   "execution_count": 19,
   "metadata": {},
   "outputs": [
    {
     "name": "stderr",
     "output_type": "stream",
     "text": [
      "100%|██████████| 9/9 [00:01<00:00,  5.36it/s]\n",
      "100%|██████████| 9/9 [00:01<00:00,  5.04it/s]\n"
     ]
    },
    {
     "data": {
      "application/vnd.plotly.v1+json": {
       "config": {
        "plotlyServerURL": "https://plot.ly"
       },
       "data": [
        {
         "marker": {
          "color": "#b48d22",
          "size": 2
         },
         "mode": "markers",
         "opacity": 0.15,
         "type": "scatter",
         "x": [
          1,
          2,
          3,
          4,
          5,
          6,
          7,
          8,
          9,
          10,
          11,
          12,
          13,
          14,
          15,
          16,
          17,
          18,
          19,
          20,
          21,
          22,
          23,
          24,
          25,
          26,
          27,
          28,
          29,
          30,
          31,
          32,
          33,
          34,
          35,
          36,
          37,
          38,
          39,
          40,
          41,
          42,
          43,
          44,
          45,
          46,
          47,
          48,
          49,
          50,
          51,
          52,
          53,
          54,
          55,
          56,
          57,
          58,
          59,
          60,
          61,
          62,
          63,
          64,
          65,
          66,
          67,
          68,
          69,
          70,
          71,
          72,
          73,
          74,
          75,
          76,
          77,
          78,
          79,
          80,
          81,
          82,
          83,
          84,
          85,
          86,
          87,
          88,
          89,
          90,
          91,
          92,
          93,
          94,
          95,
          96,
          97,
          98,
          99,
          100,
          101,
          102,
          103,
          104,
          105,
          106,
          107,
          108,
          109,
          110,
          111,
          112,
          113,
          114,
          115,
          116,
          117,
          118,
          119,
          120,
          121,
          122,
          123,
          124,
          125,
          126,
          127,
          128,
          129,
          130,
          131,
          132,
          133,
          134,
          135,
          136,
          137,
          138,
          139,
          140,
          141,
          142,
          143,
          144,
          145,
          146,
          147,
          148,
          149,
          150,
          151,
          152,
          153,
          154,
          155,
          156,
          157,
          158,
          159,
          160,
          161,
          162,
          163,
          164,
          165,
          166,
          167,
          168,
          169,
          170,
          171,
          172,
          173,
          174,
          175,
          176,
          177,
          178,
          179,
          180,
          181,
          182,
          183,
          184,
          185,
          186,
          187,
          188,
          189,
          190,
          191,
          192,
          193,
          194,
          195,
          196,
          197,
          198,
          199,
          200,
          201,
          202,
          203,
          204,
          205,
          206,
          207,
          208,
          209,
          210,
          211,
          212,
          213,
          214,
          215,
          216,
          217,
          218,
          219,
          220,
          221,
          222,
          223,
          224,
          225,
          226,
          227,
          228,
          229,
          230,
          231,
          232,
          233,
          234,
          235,
          236,
          237,
          238,
          239,
          240,
          241,
          242,
          243,
          244,
          245,
          246,
          247,
          248,
          249,
          250,
          251,
          252,
          253,
          254,
          255,
          256,
          257,
          258,
          259,
          260,
          261,
          262,
          263,
          264,
          265,
          266,
          267,
          268,
          269,
          270,
          271,
          272,
          273,
          274,
          275,
          276,
          277,
          278,
          279,
          280,
          281,
          282,
          283,
          284,
          285,
          286,
          287,
          288,
          289,
          290,
          291,
          292,
          293,
          294,
          295,
          296,
          297,
          298,
          299,
          300,
          301,
          302,
          303,
          304,
          305,
          306,
          307,
          308,
          309,
          310,
          311,
          312,
          313,
          314,
          315,
          316,
          317,
          318,
          319,
          320,
          321,
          322,
          323,
          324,
          325,
          326,
          327,
          328,
          329,
          330,
          331,
          332,
          333,
          334,
          335,
          336,
          337,
          338,
          339,
          340,
          341,
          342,
          343,
          344,
          345,
          346,
          347,
          348,
          349,
          350,
          351,
          352,
          353,
          354,
          355,
          356,
          357,
          358,
          359,
          360,
          361,
          362,
          363,
          364,
          365,
          366,
          367,
          368,
          369,
          370,
          371,
          372,
          373,
          374,
          375,
          376,
          377,
          378,
          379,
          380,
          381,
          382,
          383,
          384,
          385,
          386,
          387,
          388,
          389,
          390,
          391,
          392,
          393,
          394,
          395,
          396,
          397,
          398,
          399,
          400,
          401,
          402,
          403,
          404,
          405,
          406,
          407,
          408,
          409,
          410,
          411,
          412,
          413,
          414,
          415,
          416,
          417,
          418,
          419,
          420,
          421,
          422,
          423,
          424,
          425,
          426,
          427,
          428,
          429,
          430,
          431,
          432,
          433,
          434,
          435,
          436,
          437,
          438,
          439,
          440,
          441,
          442,
          443,
          444,
          445,
          446,
          447,
          448,
          449,
          450,
          451,
          452,
          453,
          454,
          455,
          456,
          457,
          458,
          459,
          460,
          461,
          462
         ],
         "y": [
          0.04271286889162748,
          0.11811259449920934,
          0.13523281690566258,
          0.3481327794122631,
          0.21124008808271863,
          0.20924971099008616,
          0.24401713493950428,
          0.22666749253416119,
          0.1811629020619408,
          0.13877897358753538,
          -0.01454725257135206,
          0.09009701408589808,
          0.1903631844574818,
          0.40176950767061037,
          0.44008648401529443,
          0.4177438812336473,
          0.40636429699925447,
          0.5163977594704992,
          0.45665579169442255,
          0.4253730145769729,
          0.41790030957798985,
          0.3938500988057021,
          0.4060173711642203,
          0.36014988590489994,
          0.4204694239186605,
          0.39189916491150817,
          0.47684169574397095,
          0.47612581726912373,
          0.5722459688693714,
          0.5958385131189123,
          0.5812365048446155,
          0.5610624374038289,
          0.6106639560748349,
          0.7170022843386908,
          0.6807233827933479,
          0.7187538074707839,
          0.7072728712522135,
          0.6985966698163592,
          0.6593492674011432,
          0.7618993434504887,
          0.8166354342544118,
          0.8327753432885341,
          0.7966107381684563,
          0.7886401865846057,
          0.789710072383458,
          0.8289089288147438,
          0.8115611649396948,
          0.7588727607463508,
          0.7642829396925052,
          0.6793638723902348,
          0.761504319630976,
          0.8238610333624977,
          0.863214910561445,
          0.9164100787644768,
          0.9189005890588494,
          0.9635756964772403,
          0.9398407227307789,
          1.0119895982947704,
          1.0084141346283741,
          0.9004931437827999,
          0.8899452774611744,
          0.8833249079583582,
          0.8089542589426281,
          0.7516581763294946,
          0.7465742135846608,
          0.7500081937845223,
          0.6852786131735956,
          0.5749146503672714,
          0.5672844356786322,
          0.5766624855998443,
          0.6694836343880612,
          0.6309511251674633,
          0.6241757878856445,
          0.6809102654659279,
          0.704603560530257,
          0.6653899528193454,
          0.7244420855126529,
          0.7382223527228041,
          0.722565484572485,
          0.783674144721131,
          0.7764412220387417,
          0.7376021186289655,
          0.7500860691070557,
          0.7322309017181396,
          0.7081682682037354,
          0.6979367733001709,
          0.7032359838485718,
          0.7040359377861023,
          0.7159896492958069,
          0.7123980522155762,
          0.7401341199874878,
          0.7520239949226379,
          0.7545962333679199,
          0.753104031085968,
          0.7442265748977661,
          0.7463977336883545,
          0.7538661360740662,
          0.7409731149673462,
          0.7384625673294067,
          0.7266031503677368,
          0.762525200843811,
          0.770963191986084,
          0.7706820368766785,
          0.8019821047782898,
          0.78962641954422,
          0.7876985669136047,
          0.7739969491958618,
          0.7588241100311279,
          0.7624136805534363,
          0.7666054368019104,
          0.7676811814308167,
          0.7535589337348938,
          0.7425724864006042,
          0.74159175157547,
          0.7479977011680603,
          0.7570980787277222,
          0.7343130111694336,
          0.7248437404632568,
          0.7394111156463623,
          0.7432661652565002,
          0.7228220105171204,
          0.7162966132164001,
          0.7213813662528992,
          0.7059409618377686,
          0.7229164242744446,
          0.7393449544906616,
          0.7476648092269897,
          0.7563294768333435,
          0.7484437227249146,
          0.7387176752090454,
          0.7319140434265137,
          0.7055386304855347,
          0.7299906015396118,
          0.7579609751701355,
          0.7549899816513062,
          0.765384316444397,
          0.7881542444229126,
          0.8142030239105225,
          0.8311409950256348,
          0.872837483882904,
          0.8793323040008545,
          0.8944302797317505,
          0.8929571509361267,
          0.8764441609382629,
          0.8747020959854126,
          0.8863041400909424,
          0.906788170337677,
          0.8968377113342285,
          0.8947460651397705,
          0.8912422060966492,
          0.8750073909759521,
          0.8608816266059875,
          0.8582969307899475,
          0.8462685942649841,
          0.8263131976127625,
          0.8103253841400146,
          0.8115589022636414,
          0.8231696486473083,
          0.8041966557502747,
          0.8086527585983276,
          0.8124113082885742,
          0.8063211441040039,
          0.8077837228775024,
          0.8070251941680908,
          0.7984175682067871,
          0.7910580635070801,
          0.7681393027305603,
          0.7605827450752258,
          0.7547748684883118,
          0.766249418258667,
          0.768769383430481,
          0.7690715789794922,
          0.7442858815193176,
          0.728983998298645,
          0.7558151483535767,
          0.7875213027000427,
          0.7750920653343201,
          0.8047855496406555,
          0.8476400375366211,
          0.8266399502754211,
          0.8216333389282227,
          0.8054449558258057,
          0.7988433837890625,
          0.7719634175300598,
          0.7823635339736938,
          0.7919322848320007,
          0.7823753952980042,
          0.7898484468460083,
          0.7991295456886292,
          0.7896525859832764,
          0.7842943668365479,
          0.7616121768951416,
          0.7527485489845276,
          0.7450470924377441,
          0.7411612272262573,
          0.7161319255828857,
          0.7117112278938293,
          0.709770917892456,
          0.7045089602470398,
          0.6804701089859009,
          0.684542715549469,
          0.6894698143005371,
          0.687022864818573,
          0.7012723088264465,
          0.6897100210189819,
          0.6687646508216858,
          0.6638140678405762,
          0.647121787071228,
          0.6392123103141785,
          0.641258180141449,
          0.6428328156471252,
          0.6370102167129517,
          0.6276142597198486,
          0.6205949187278748,
          0.6020249724388123,
          0.5962287187576294,
          0.5952697396278381,
          0.6001657247543335,
          0.6045718193054199,
          0.6079774498939514,
          0.6004443168640137,
          0.6107857823371887,
          0.599732518196106,
          0.5963823795318604,
          0.5980778336524963,
          0.5958551168441772,
          0.5893293023109436,
          0.5904726386070251,
          0.5834792256355286,
          0.5892150402069092,
          0.5726382732391357,
          0.5829459428787231,
          0.5920237898826599,
          0.5881295800209045,
          0.5871835350990295,
          0.5563291907310486,
          0.5564570426940918,
          0.5325568914413452,
          0.5341798663139343,
          0.5198065042495728,
          0.5501293540000916,
          0.5657778382301331,
          0.580967128276825,
          0.5988890528678894,
          0.6096844673156738,
          0.6103119254112244,
          0.6051013469696045,
          0.6035951972007751,
          0.5951535105705261,
          0.5965122580528259,
          0.6011756658554077,
          0.599694550037384,
          0.6001241207122803,
          0.5925431251525879,
          0.5600244402885437,
          0.5860897898674011,
          0.5708813071250916,
          0.5816035866737366,
          0.5706595778465271,
          0.5699641108512878,
          0.5656517148017883,
          0.5829224586486816,
          0.5937983393669128,
          0.5993923544883728,
          0.6183040142059326,
          0.6058315634727478,
          0.5941531658172607,
          0.6008250117301941,
          0.6083555817604065,
          0.6081488728523254,
          0.5951235890388489,
          0.5925672054290771,
          0.5831455588340759,
          0.5872815251350403,
          0.591194212436676,
          0.5882718563079834,
          0.5814300179481506,
          0.5920104384422302,
          0.5798735618591309,
          0.5724055767059326,
          0.5574665665626526,
          0.5568727254867554,
          0.5604076385498047,
          0.5691335201263428,
          0.5588986873626709,
          0.556721031665802,
          0.5587602853775024,
          0.5569192171096802,
          0.558521568775177,
          0.5583636164665222,
          0.5605324506759644,
          0.5631678104400635,
          0.575160562992096,
          0.5653393864631653,
          0.558582067489624,
          0.5466773509979248,
          0.5610638856887817,
          0.5589838624000549,
          0.5489673018455505,
          0.5313116312026978,
          0.5060042142868042,
          0.485741525888443,
          0.49375107884407043,
          0.4991660714149475,
          0.5140633583068848,
          0.5364262461662292,
          0.5298730731010437,
          0.5430766940116882,
          0.5178337693214417,
          0.5188538432121277,
          0.5186895132064819,
          0.5150629281997681,
          0.5158451795578003,
          0.5145732164382935,
          0.5148134827613831,
          0.5282326936721802,
          0.5003840327262878,
          0.5276292562484741,
          0.5109492540359497,
          0.5174242258071899,
          0.5117058157920837,
          0.5080773830413818,
          0.49338626861572266,
          0.4966464638710022,
          0.49820536375045776,
          0.48338979482650757,
          0.4804266691207886,
          0.47486111521720886,
          0.4964621961116791,
          0.4739639163017273,
          0.4793652296066284,
          0.4606788754463196,
          0.3838433623313904,
          0.40613311529159546,
          0.4091813862323761,
          0.3267177641391754,
          0.3785674571990967,
          0.3214366137981415,
          0.3216864764690399,
          0.321428120136261,
          0.2889062166213989,
          0.2724941372871399,
          0.2744339406490326,
          0.24670149385929108,
          0.3061898946762085,
          0.2207830846309662,
          0.22426429390907288,
          0.28337544202804565,
          0.26705312728881836,
          0.2530987858772278,
          0.24012738466262817,
          0.25728097558021545,
          0.2817082107067108,
          0.27005335688591003,
          0.27435800433158875,
          0.28918278217315674,
          0.2846570611000061,
          0.28571394085884094,
          0.28175845742225647,
          0.2962949573993683,
          0.30093812942504883,
          0.3310411274433136,
          0.32365018129348755,
          0.32490459084510803,
          0.2953135669231415,
          0.22736002504825592,
          0.29472607374191284,
          0.2852821946144104,
          0.2841366231441498,
          0.27564340829849243,
          0.2858460247516632,
          0.2854122817516327,
          0.2657621502876282,
          0.25825437903404236,
          0.27707913517951965,
          0.2985225319862366,
          0.30116036534309387,
          0.32248979806900024,
          0.3227097988128662,
          0.32472071051597595,
          0.3456874489784241,
          0.37071821093559265,
          0.3812994360923767,
          0.465760737657547,
          0.44514766335487366,
          0.45762693881988525,
          0.4048210084438324,
          0.46130749583244324,
          0.37878069281578064,
          0.3642462193965912,
          0.36309728026390076,
          0.3230787515640259,
          0.3382326662540436,
          0.3413412272930145,
          0.33082449436187744,
          0.3562264144420624,
          0.350516676902771,
          0.3593946695327759,
          0.33767279982566833,
          0.33472245931625366,
          0.3336414098739624,
          0.30771902203559875,
          0.2978571951389313,
          0.2853642702102661,
          0.2945426106452942,
          0.3055349886417389,
          0.32735714316368103,
          0.32201501727104187,
          0.32499608397483826,
          0.3502260744571686,
          0.35974809527397156,
          0.35858893394470215,
          0.4141896963119507,
          0.4081915616989136,
          0.3436319828033447,
          0.41708120703697205,
          0.3646967113018036,
          0.3627099096775055,
          0.3623124957084656,
          0.37724819779396057,
          0.37837231159210205,
          0.40415507555007935,
          0.46796926856040955,
          0.4554271697998047,
          0.4692709743976593,
          0.4499270021915436,
          0.4709155559539795,
          0.40257152915000916,
          0.39976879954338074,
          0.36511528491973877,
          0.3985094428062439,
          0.36758244037628174,
          0.36919841170310974,
          0.3623654544353485,
          0.38431045413017273,
          0.4030620753765106,
          0.4402255415916443,
          0.3717874586582184,
          0.41327863931655884,
          0.41309747099876404,
          0.4756104052066803,
          0.47097253799438477,
          0.4815365672111511,
          0.5285615921020508,
          0.5209721326828003,
          0.5175502896308899,
          0.4575912058353424,
          0.46620509028434753,
          0.4110403060913086,
          0.4731445908546448,
          0.45985090732574463,
          0.47471293807029724,
          0.40955501794815063,
          0.47042104601860046,
          0.478211373090744,
          0.4916890561580658,
          0.462026983499527,
          0.46808862686157227,
          0.5295622944831848,
          0.48994919657707214,
          0.4795624017715454,
          0.4963591396808624
         ]
        },
        {
         "marker": {
          "color": "#b48d22",
          "size": 3
         },
         "mode": "lines",
         "name": "Patrik Laine",
         "type": "scatter",
         "x": [
          1,
          2,
          3,
          4,
          5,
          6,
          7,
          8,
          9,
          10,
          11,
          12,
          13,
          14,
          15,
          16,
          17,
          18,
          19,
          20,
          21,
          22,
          23,
          24,
          25,
          26,
          27,
          28,
          29,
          30,
          31,
          32,
          33,
          34,
          35,
          36,
          37,
          38,
          39,
          40,
          41,
          42,
          43,
          44,
          45,
          46,
          47,
          48,
          49,
          50,
          51,
          52,
          53,
          54,
          55,
          56,
          57,
          58,
          59,
          60,
          61,
          62,
          63,
          64,
          65,
          66,
          67,
          68,
          69,
          70,
          71,
          72,
          73,
          74,
          75,
          76,
          77,
          78,
          79,
          80,
          81,
          82,
          83,
          84,
          85,
          86,
          87,
          88,
          89,
          90,
          91,
          92,
          93,
          94,
          95,
          96,
          97,
          98,
          99,
          100,
          101,
          102,
          103,
          104,
          105,
          106,
          107,
          108,
          109,
          110,
          111,
          112,
          113,
          114,
          115,
          116,
          117,
          118,
          119,
          120,
          121,
          122,
          123,
          124,
          125,
          126,
          127,
          128,
          129,
          130,
          131,
          132,
          133,
          134,
          135,
          136,
          137,
          138,
          139,
          140,
          141,
          142,
          143,
          144,
          145,
          146,
          147,
          148,
          149,
          150,
          151,
          152,
          153,
          154,
          155,
          156,
          157,
          158,
          159,
          160,
          161,
          162,
          163,
          164,
          165,
          166,
          167,
          168,
          169,
          170,
          171,
          172,
          173,
          174,
          175,
          176,
          177,
          178,
          179,
          180,
          181,
          182,
          183,
          184,
          185,
          186,
          187,
          188,
          189,
          190,
          191,
          192,
          193,
          194,
          195,
          196,
          197,
          198,
          199,
          200,
          201,
          202,
          203,
          204,
          205,
          206,
          207,
          208,
          209,
          210,
          211,
          212,
          213,
          214,
          215,
          216,
          217,
          218,
          219,
          220,
          221,
          222,
          223,
          224,
          225,
          226,
          227,
          228,
          229,
          230,
          231,
          232,
          233,
          234,
          235,
          236,
          237,
          238,
          239,
          240,
          241,
          242,
          243,
          244,
          245,
          246,
          247,
          248,
          249,
          250,
          251,
          252,
          253,
          254,
          255,
          256,
          257,
          258,
          259,
          260,
          261,
          262,
          263,
          264,
          265,
          266,
          267,
          268,
          269,
          270,
          271,
          272,
          273,
          274,
          275,
          276,
          277,
          278,
          279,
          280,
          281,
          282,
          283,
          284,
          285,
          286,
          287,
          288,
          289,
          290,
          291,
          292,
          293,
          294,
          295,
          296,
          297,
          298,
          299,
          300,
          301,
          302,
          303,
          304,
          305,
          306,
          307,
          308,
          309,
          310,
          311,
          312,
          313,
          314,
          315,
          316,
          317,
          318,
          319,
          320,
          321,
          322,
          323,
          324,
          325,
          326,
          327,
          328,
          329,
          330,
          331,
          332,
          333,
          334,
          335,
          336,
          337,
          338,
          339,
          340,
          341,
          342,
          343,
          344,
          345,
          346,
          347,
          348,
          349,
          350,
          351,
          352,
          353,
          354,
          355,
          356,
          357,
          358,
          359,
          360,
          361,
          362,
          363,
          364,
          365,
          366,
          367,
          368,
          369,
          370,
          371,
          372,
          373,
          374,
          375,
          376,
          377,
          378,
          379,
          380,
          381,
          382,
          383,
          384,
          385,
          386,
          387,
          388,
          389,
          390,
          391,
          392,
          393,
          394,
          395,
          396,
          397,
          398,
          399,
          400,
          401,
          402,
          403,
          404,
          405,
          406,
          407,
          408,
          409,
          410,
          411,
          412,
          413,
          414,
          415,
          416,
          417,
          418,
          419,
          420,
          421,
          422,
          423,
          424,
          425,
          426,
          427,
          428,
          429,
          430,
          431,
          432,
          433,
          434,
          435,
          436,
          437,
          438,
          439,
          440,
          441,
          442,
          443,
          444,
          445,
          446,
          447,
          448,
          449,
          450,
          451,
          452,
          453,
          454,
          455,
          456,
          457,
          458,
          459,
          460,
          461,
          462
         ],
         "y": [
          0.24070112591601175,
          0.2527854497699923,
          0.2647139342602016,
          0.2764751052838659,
          0.28806040697818036,
          0.2994639623367271,
          0.31068230629744625,
          0.3217141069936082,
          0.3325598872273332,
          0.3432217550260336,
          0.3537031494294929,
          0.3640086054333198,
          0.37414354025408286,
          0.3841140617337138,
          0.39392679870753955,
          0.40358875246140524,
          0.4131247109218558,
          0.4226177892745781,
          0.432138954516865,
          0.4417324663544257,
          0.45142117504951534,
          0.46121102944526865,
          0.4710949707409226,
          0.4810563086100637,
          0.49107163174073654,
          0.5011133104799709,
          0.5111517998491673,
          0.5211572452809022,
          0.5311006637433496,
          0.5409549064165264,
          0.5506953281885486,
          0.5603002060548762,
          0.5697509501522121,
          0.5790321494688198,
          0.588131490925355,
          0.5970395860805884,
          0.6057497347177074,
          0.6142576494536943,
          0.6225611606197698,
          0.6306599162074804,
          0.6385576155473788,
          0.6462698501680193,
          0.6538089904033947,
          0.661180418630021,
          0.6683845189923191,
          0.6754182732316605,
          0.6822765297363622,
          0.688952998562634,
          0.6954410139262722,
          0.7017341419744708,
          0.7078276887476035,
          0.7137191629152079,
          0.7194072826526394,
          0.7248919047662756,
          0.7301739478623994,
          0.7352552715570504,
          0.740138527775698,
          0.7448269970872198,
          0.7493244201267768,
          0.7536348315824317,
          0.7577624020047453,
          0.7617112908650125,
          0.7654855128262308,
          0.7690888180723385,
          0.7725244586930627,
          0.7757893218454309,
          0.7788722115236987,
          0.7817623276311556,
          0.7844500887711742,
          0.7869272322850328,
          0.7891868564767602,
          0.7912234131134392,
          0.7930326591611376,
          0.7946115806008806,
          0.7959589272927557,
          0.7970759822752328,
          0.7979653428092721,
          0.7986305393680991,
          0.7990758355979276,
          0.7993060504291697,
          0.7993264074579671,
          0.799142415150591,
          0.798759780088996,
          0.7981843544033357,
          0.797422117722969,
          0.7964791933925452,
          0.7953618982967973,
          0.7940768253560927,
          0.7926309575246596,
          0.7910295730218664,
          0.7892712094673069,
          0.7873570421033759,
          0.7852933468751098,
          0.7830913272839973,
          0.7807669147651403,
          0.7783405217675372,
          0.7758367305596222,
          0.7732839034480374,
          0.7707139516888437,
          0.768162483944664,
          0.7656669169849795,
          0.7632652844996902,
          0.760995381505659,
          0.7588938469153949,
          0.7569951864385301,
          0.7553307386237462,
          0.7539275877889968,
          0.752807428614952,
          0.7519853878242901,
          0.7514688079527483,
          0.7512559958204679,
          0.7513349327684156,
          0.7516819335781342,
          0.7522694606910298,
          0.7530874344505766,
          0.7541060390800901,
          0.7552816344382998,
          0.7566135800054511,
          0.7581070559043106,
          0.7597593771985028,
          0.7615612480968755,
          0.7634979988342472,
          0.7655507988010276,
          0.7676977449543388,
          0.7699153399417796,
          0.7721798920915748,
          0.7744686738306825,
          0.7767609929132651,
          0.7790391758644052,
          0.7812894702892026,
          0.783502884313458,
          0.785675809744314,
          0.7878038886658246,
          0.7898775830678008,
          0.7918878597192356,
          0.793826493015162,
          0.795685929253042,
          0.7974619433955829,
          0.7991690813768682,
          0.8008223724970795,
          0.8024277057240901,
          0.8039836381793214,
          0.8054830315148372,
          0.806914525729316,
          0.8082638893384116,
          0.8095152650621886,
          0.8106523403390482,
          0.8116601872357467,
          0.8125263800018597,
          0.8132407839701534,
          0.8137960517383276,
          0.8141880410396626,
          0.8144161007249267,
          0.8144832372611495,
          0.8143961795924548,
          0.8141653659791745,
          0.8138017773268963,
          0.8133065683107021,
          0.8126786147600733,
          0.8119173369322676,
          0.8110226751697545,
          0.8099950955404265,
          0.8088369919238825,
          0.8075523981665428,
          0.8061436214795934,
          0.8046117265602388,
          0.8029572657240345,
          0.801180850585235,
          0.7992835750513472,
          0.797267292338687,
          0.7951347454810223,
          0.7928897165154549,
          0.7905371609916139,
          0.7880825520552391,
          0.7855312800706818,
          0.7828879686041195,
          0.780155648839166,
          0.7773347848940011,
          0.774422131187951,
          0.7714093853046099,
          0.7682854091542817,
          0.7650493414431595,
          0.7617041578019281,
          0.7582536791385058,
          0.7547026518889406,
          0.751056835549199,
          0.7473084054479993,
          0.7433999343655516,
          0.7392809123911869,
          0.7349215491736004,
          0.7303101172398734,
          0.7254504967508316,
          0.7203597835050592,
          0.7150658770973343,
          0.7096050072297398,
          0.7040191811886168,
          0.6983533923166048,
          0.6926526579581591,
          0.6869593457599897,
          0.6813106458604113,
          0.6757361555289129,
          0.6702555671654195,
          0.6648764210277354,
          0.6595918455775311,
          0.654383801983329,
          0.6492563617651874,
          0.6442239800719137,
          0.6392994646833383,
          0.6344941321638335,
          0.6298179996895974,
          0.6252797412400233,
          0.6208875855494378,
          0.6166519746822444,
          0.6125850386107713,
          0.6086995684664148,
          0.6050081167980302,
          0.6015222106499177,
          0.5982516721598271,
          0.5952040467584507,
          0.5923840494917583,
          0.5897921342396184,
          0.5874248336880821,
          0.5852756937301754,
          0.5833354458623335,
          0.581592246169028,
          0.5800319847595713,
          0.5786386502542457,
          0.5773947339603477,
          0.5762817351346126,
          0.5752857930294861,
          0.5744016606196293,
          0.5736253218139716,
          0.5729531878850352,
          0.5723820392552754,
          0.5719101471599446,
          0.5715478836179436,
          0.571309260048237,
          0.5712033794993854,
          0.5712347375711657,
          0.5714036292182132,
          0.5717065739774704,
          0.5721367862418997,
          0.5726847085792236,
          0.573338615919874,
          0.5740851007823572,
          0.574909533644898,
          0.5757970208953541,
          0.576733380107086,
          0.5777061604182044,
          0.5787057232966212,
          0.579726396199929,
          0.5807677250141301,
          0.5818358705821145,
          0.5829405516379654,
          0.5840789158119194,
          0.5852435878836242,
          0.586426295722656,
          0.587617715159446,
          0.5888073407983606,
          0.5899901905183186,
          0.5911726937997234,
          0.5923534729171479,
          0.593521917440618,
          0.5946598916169558,
          0.5957433980408535,
          0.5967442439732286,
          0.5976317304268604,
          0.5983743646922551,
          0.5989419056545172,
          0.5993078084845528,
          0.5994501885130394,
          0.5993530776675897,
          0.5990077192421119,
          0.5984137571677008,
          0.5975803431004273,
          0.5965272065515259,
          0.5952857615682933,
          0.5938911033635836,
          0.5923510525450413,
          0.590666635897579,
          0.5888402827780255,
          0.5868758626151217,
          0.5847787295186193,
          0.5825405805639037,
          0.5801010122094533,
          0.577404337785475,
          0.5744143401614602,
          0.5711122271104567,
          0.5674947026577898,
          0.5635720214092973,
          0.5593659425133138,
          0.5549075379950715,
          0.5502348395722441,
          0.5453901064516716,
          0.54041663562348,
          0.5353558812308585,
          0.5302446799230733,
          0.525112498767892,
          0.5199786977375872,
          0.514849765952486,
          0.5097164464449813,
          0.5045550716032745,
          0.4993653421412597,
          0.49416349371197604,
          0.48896445524491144,
          0.4837818598100965,
          0.4786282605472173,
          0.4735049246795847,
          0.46837691734335984,
          0.46321394210862993,
          0.457999815096038,
          0.4527301972462863,
          0.44741057096498116,
          0.4420543590459195,
          0.4366811225535058,
          0.4313148020498071,
          0.4259818887638385,
          0.42070815788272803,
          0.4155170674745515,
          0.4104293861149634,
          0.40546178859257376,
          0.4006255003619249,
          0.39592501103675276,
          0.39135682551039536,
          0.38690820099692946,
          0.38255586316940177,
          0.37827883090441294,
          0.3740800483853298,
          0.3699660001122242,
          0.3659433351673204,
          0.36201901779657564,
          0.3581994273733613,
          0.354476608533192,
          0.35083800933596226,
          0.34728052512133256,
          0.34380897083837253,
          0.34043432128140866,
          0.33717208228054524,
          0.3340407504054505,
          0.3310603417693377,
          0.3282509892826425,
          0.32563167933540293,
          0.3232185926380847,
          0.32102352802456924,
          0.31905302859640283,
          0.31730769350888166,
          0.3157816261124952,
          0.3144617423682825,
          0.3133275448132601,
          0.3123526745821885,
          0.3115116534355436,
          0.31080355735256976,
          0.3102335224542758,
          0.30980551709708015,
          0.3095219790620563,
          0.3093835408143331,
          0.30938883973136533,
          0.3095344107148103,
          0.30981465888663623,
          0.3102219102625116,
          0.31074653843009725,
          0.31137716530871445,
          0.31210093397334315,
          0.3129038512365513,
          0.31377119719372826,
          0.31468814964955943,
          0.3156406804111757,
          0.3166157352976614,
          0.31760175932493273,
          0.3185893679755227,
          0.3195720567439642,
          0.3205469579464601,
          0.3215156610738881,
          0.32248512343425656,
          0.3234656523372875,
          0.3244601979084583,
          0.32546945537307764,
          0.326494296304296,
          0.3275357536254385,
          0.328595002695911,
          0.3296733380918916,
          0.3307721456632797,
          0.33189286946500335,
          0.33303697323060477,
          0.3342058961851888,
          0.33540100318744515,
          0.3366235294470799,
          0.33787452037956384,
          0.33915476752204815,
          0.3404647830760215,
          0.3418050019950468,
          0.3431755397955328,
          0.34457599552053897,
          0.34600540719078726,
          0.34746221385276876,
          0.3489442244509779,
          0.3504485938629047,
          0.3519718054484626,
          0.3535098761641146,
          0.35506110946948466,
          0.35662556402815987,
          0.3582031431338716,
          0.35979353533744,
          0.36139619793779465,
          0.3630103421156816,
          0.36463492092492367,
          0.36626862164431984,
          0.36790986429879813,
          0.36955680846678723,
          0.37120737078172483,
          0.37285925578340035,
          0.3745100029494911,
          0.37615705280810213,
          0.3777978329883933,
          0.3794298465962148,
          0.3810508720728097,
          0.3826591900533487,
          0.3842537813242215,
          0.3858345538869835,
          0.387402603758555,
          0.38896051388516856,
          0.39051269853475584,
          0.3920658034853496,
          0.39362658313316223,
          0.3951960326027212,
          0.39677390454953465,
          0.39835989272589534,
          0.39995362574505555,
          0.4015546619938938,
          0.4031624863208505,
          0.4047765092688542,
          0.4063960697716093,
          0.4080204423770467,
          0.4096488501921718,
          0.4112804848449758,
          0.41291453481688345,
          0.41455022350085746,
          0.4161868584211065,
          0.417823911533274,
          0.41946113392460194,
          0.4210986382427959,
          0.42273700228024935,
          0.42437739131604413,
          0.4260216993554067,
          0.4276727134479128,
          0.42933430816874385,
          0.43101168198161394,
          0.43271046900226107,
          0.43443280571606907,
          0.4361797924935412,
          0.4379524958351142,
          0.4397519286360766,
          0.44157902760670364,
          0.443434627718814,
          0.4453194336452911,
          0.44723398829574124,
          0.4491786387381612,
          0.45115350004190885,
          0.45315841788900824,
          0.4551929311839332,
          0.45725623634724893,
          0.4593471554999603
         ]
        }
       ],
       "layout": {
        "autosize": false,
        "height": 1400,
        "paper_bgcolor": "rgba(0,0,0,0)",
        "plot_bgcolor": "rgba(0,0,0,0)",
        "template": {
         "data": {
          "bar": [
           {
            "error_x": {
             "color": "#2a3f5f"
            },
            "error_y": {
             "color": "#2a3f5f"
            },
            "marker": {
             "line": {
              "color": "#E5ECF6",
              "width": 0.5
             },
             "pattern": {
              "fillmode": "overlay",
              "size": 10,
              "solidity": 0.2
             }
            },
            "type": "bar"
           }
          ],
          "barpolar": [
           {
            "marker": {
             "line": {
              "color": "#E5ECF6",
              "width": 0.5
             },
             "pattern": {
              "fillmode": "overlay",
              "size": 10,
              "solidity": 0.2
             }
            },
            "type": "barpolar"
           }
          ],
          "carpet": [
           {
            "aaxis": {
             "endlinecolor": "#2a3f5f",
             "gridcolor": "white",
             "linecolor": "white",
             "minorgridcolor": "white",
             "startlinecolor": "#2a3f5f"
            },
            "baxis": {
             "endlinecolor": "#2a3f5f",
             "gridcolor": "white",
             "linecolor": "white",
             "minorgridcolor": "white",
             "startlinecolor": "#2a3f5f"
            },
            "type": "carpet"
           }
          ],
          "choropleth": [
           {
            "colorbar": {
             "outlinewidth": 0,
             "ticks": ""
            },
            "type": "choropleth"
           }
          ],
          "contour": [
           {
            "colorbar": {
             "outlinewidth": 0,
             "ticks": ""
            },
            "colorscale": [
             [
              0,
              "#0d0887"
             ],
             [
              0.1111111111111111,
              "#46039f"
             ],
             [
              0.2222222222222222,
              "#7201a8"
             ],
             [
              0.3333333333333333,
              "#9c179e"
             ],
             [
              0.4444444444444444,
              "#bd3786"
             ],
             [
              0.5555555555555556,
              "#d8576b"
             ],
             [
              0.6666666666666666,
              "#ed7953"
             ],
             [
              0.7777777777777778,
              "#fb9f3a"
             ],
             [
              0.8888888888888888,
              "#fdca26"
             ],
             [
              1,
              "#f0f921"
             ]
            ],
            "type": "contour"
           }
          ],
          "contourcarpet": [
           {
            "colorbar": {
             "outlinewidth": 0,
             "ticks": ""
            },
            "type": "contourcarpet"
           }
          ],
          "heatmap": [
           {
            "colorbar": {
             "outlinewidth": 0,
             "ticks": ""
            },
            "colorscale": [
             [
              0,
              "#0d0887"
             ],
             [
              0.1111111111111111,
              "#46039f"
             ],
             [
              0.2222222222222222,
              "#7201a8"
             ],
             [
              0.3333333333333333,
              "#9c179e"
             ],
             [
              0.4444444444444444,
              "#bd3786"
             ],
             [
              0.5555555555555556,
              "#d8576b"
             ],
             [
              0.6666666666666666,
              "#ed7953"
             ],
             [
              0.7777777777777778,
              "#fb9f3a"
             ],
             [
              0.8888888888888888,
              "#fdca26"
             ],
             [
              1,
              "#f0f921"
             ]
            ],
            "type": "heatmap"
           }
          ],
          "heatmapgl": [
           {
            "colorbar": {
             "outlinewidth": 0,
             "ticks": ""
            },
            "colorscale": [
             [
              0,
              "#0d0887"
             ],
             [
              0.1111111111111111,
              "#46039f"
             ],
             [
              0.2222222222222222,
              "#7201a8"
             ],
             [
              0.3333333333333333,
              "#9c179e"
             ],
             [
              0.4444444444444444,
              "#bd3786"
             ],
             [
              0.5555555555555556,
              "#d8576b"
             ],
             [
              0.6666666666666666,
              "#ed7953"
             ],
             [
              0.7777777777777778,
              "#fb9f3a"
             ],
             [
              0.8888888888888888,
              "#fdca26"
             ],
             [
              1,
              "#f0f921"
             ]
            ],
            "type": "heatmapgl"
           }
          ],
          "histogram": [
           {
            "marker": {
             "pattern": {
              "fillmode": "overlay",
              "size": 10,
              "solidity": 0.2
             }
            },
            "type": "histogram"
           }
          ],
          "histogram2d": [
           {
            "colorbar": {
             "outlinewidth": 0,
             "ticks": ""
            },
            "colorscale": [
             [
              0,
              "#0d0887"
             ],
             [
              0.1111111111111111,
              "#46039f"
             ],
             [
              0.2222222222222222,
              "#7201a8"
             ],
             [
              0.3333333333333333,
              "#9c179e"
             ],
             [
              0.4444444444444444,
              "#bd3786"
             ],
             [
              0.5555555555555556,
              "#d8576b"
             ],
             [
              0.6666666666666666,
              "#ed7953"
             ],
             [
              0.7777777777777778,
              "#fb9f3a"
             ],
             [
              0.8888888888888888,
              "#fdca26"
             ],
             [
              1,
              "#f0f921"
             ]
            ],
            "type": "histogram2d"
           }
          ],
          "histogram2dcontour": [
           {
            "colorbar": {
             "outlinewidth": 0,
             "ticks": ""
            },
            "colorscale": [
             [
              0,
              "#0d0887"
             ],
             [
              0.1111111111111111,
              "#46039f"
             ],
             [
              0.2222222222222222,
              "#7201a8"
             ],
             [
              0.3333333333333333,
              "#9c179e"
             ],
             [
              0.4444444444444444,
              "#bd3786"
             ],
             [
              0.5555555555555556,
              "#d8576b"
             ],
             [
              0.6666666666666666,
              "#ed7953"
             ],
             [
              0.7777777777777778,
              "#fb9f3a"
             ],
             [
              0.8888888888888888,
              "#fdca26"
             ],
             [
              1,
              "#f0f921"
             ]
            ],
            "type": "histogram2dcontour"
           }
          ],
          "mesh3d": [
           {
            "colorbar": {
             "outlinewidth": 0,
             "ticks": ""
            },
            "type": "mesh3d"
           }
          ],
          "parcoords": [
           {
            "line": {
             "colorbar": {
              "outlinewidth": 0,
              "ticks": ""
             }
            },
            "type": "parcoords"
           }
          ],
          "pie": [
           {
            "automargin": true,
            "type": "pie"
           }
          ],
          "scatter": [
           {
            "marker": {
             "colorbar": {
              "outlinewidth": 0,
              "ticks": ""
             }
            },
            "type": "scatter"
           }
          ],
          "scatter3d": [
           {
            "line": {
             "colorbar": {
              "outlinewidth": 0,
              "ticks": ""
             }
            },
            "marker": {
             "colorbar": {
              "outlinewidth": 0,
              "ticks": ""
             }
            },
            "type": "scatter3d"
           }
          ],
          "scattercarpet": [
           {
            "marker": {
             "colorbar": {
              "outlinewidth": 0,
              "ticks": ""
             }
            },
            "type": "scattercarpet"
           }
          ],
          "scattergeo": [
           {
            "marker": {
             "colorbar": {
              "outlinewidth": 0,
              "ticks": ""
             }
            },
            "type": "scattergeo"
           }
          ],
          "scattergl": [
           {
            "marker": {
             "colorbar": {
              "outlinewidth": 0,
              "ticks": ""
             }
            },
            "type": "scattergl"
           }
          ],
          "scattermapbox": [
           {
            "marker": {
             "colorbar": {
              "outlinewidth": 0,
              "ticks": ""
             }
            },
            "type": "scattermapbox"
           }
          ],
          "scatterpolar": [
           {
            "marker": {
             "colorbar": {
              "outlinewidth": 0,
              "ticks": ""
             }
            },
            "type": "scatterpolar"
           }
          ],
          "scatterpolargl": [
           {
            "marker": {
             "colorbar": {
              "outlinewidth": 0,
              "ticks": ""
             }
            },
            "type": "scatterpolargl"
           }
          ],
          "scatterternary": [
           {
            "marker": {
             "colorbar": {
              "outlinewidth": 0,
              "ticks": ""
             }
            },
            "type": "scatterternary"
           }
          ],
          "surface": [
           {
            "colorbar": {
             "outlinewidth": 0,
             "ticks": ""
            },
            "colorscale": [
             [
              0,
              "#0d0887"
             ],
             [
              0.1111111111111111,
              "#46039f"
             ],
             [
              0.2222222222222222,
              "#7201a8"
             ],
             [
              0.3333333333333333,
              "#9c179e"
             ],
             [
              0.4444444444444444,
              "#bd3786"
             ],
             [
              0.5555555555555556,
              "#d8576b"
             ],
             [
              0.6666666666666666,
              "#ed7953"
             ],
             [
              0.7777777777777778,
              "#fb9f3a"
             ],
             [
              0.8888888888888888,
              "#fdca26"
             ],
             [
              1,
              "#f0f921"
             ]
            ],
            "type": "surface"
           }
          ],
          "table": [
           {
            "cells": {
             "fill": {
              "color": "#EBF0F8"
             },
             "line": {
              "color": "white"
             }
            },
            "header": {
             "fill": {
              "color": "#C8D4E3"
             },
             "line": {
              "color": "white"
             }
            },
            "type": "table"
           }
          ]
         },
         "layout": {
          "annotationdefaults": {
           "arrowcolor": "#2a3f5f",
           "arrowhead": 0,
           "arrowwidth": 1
          },
          "autotypenumbers": "strict",
          "coloraxis": {
           "colorbar": {
            "outlinewidth": 0,
            "ticks": ""
           }
          },
          "colorscale": {
           "diverging": [
            [
             0,
             "#8e0152"
            ],
            [
             0.1,
             "#c51b7d"
            ],
            [
             0.2,
             "#de77ae"
            ],
            [
             0.3,
             "#f1b6da"
            ],
            [
             0.4,
             "#fde0ef"
            ],
            [
             0.5,
             "#f7f7f7"
            ],
            [
             0.6,
             "#e6f5d0"
            ],
            [
             0.7,
             "#b8e186"
            ],
            [
             0.8,
             "#7fbc41"
            ],
            [
             0.9,
             "#4d9221"
            ],
            [
             1,
             "#276419"
            ]
           ],
           "sequential": [
            [
             0,
             "#0d0887"
            ],
            [
             0.1111111111111111,
             "#46039f"
            ],
            [
             0.2222222222222222,
             "#7201a8"
            ],
            [
             0.3333333333333333,
             "#9c179e"
            ],
            [
             0.4444444444444444,
             "#bd3786"
            ],
            [
             0.5555555555555556,
             "#d8576b"
            ],
            [
             0.6666666666666666,
             "#ed7953"
            ],
            [
             0.7777777777777778,
             "#fb9f3a"
            ],
            [
             0.8888888888888888,
             "#fdca26"
            ],
            [
             1,
             "#f0f921"
            ]
           ],
           "sequentialminus": [
            [
             0,
             "#0d0887"
            ],
            [
             0.1111111111111111,
             "#46039f"
            ],
            [
             0.2222222222222222,
             "#7201a8"
            ],
            [
             0.3333333333333333,
             "#9c179e"
            ],
            [
             0.4444444444444444,
             "#bd3786"
            ],
            [
             0.5555555555555556,
             "#d8576b"
            ],
            [
             0.6666666666666666,
             "#ed7953"
            ],
            [
             0.7777777777777778,
             "#fb9f3a"
            ],
            [
             0.8888888888888888,
             "#fdca26"
            ],
            [
             1,
             "#f0f921"
            ]
           ]
          },
          "colorway": [
           "#636efa",
           "#EF553B",
           "#00cc96",
           "#ab63fa",
           "#FFA15A",
           "#19d3f3",
           "#FF6692",
           "#B6E880",
           "#FF97FF",
           "#FECB52"
          ],
          "font": {
           "color": "#2a3f5f"
          },
          "geo": {
           "bgcolor": "white",
           "lakecolor": "white",
           "landcolor": "#E5ECF6",
           "showlakes": true,
           "showland": true,
           "subunitcolor": "white"
          },
          "hoverlabel": {
           "align": "left"
          },
          "hovermode": "closest",
          "mapbox": {
           "style": "light"
          },
          "paper_bgcolor": "white",
          "plot_bgcolor": "#E5ECF6",
          "polar": {
           "angularaxis": {
            "gridcolor": "white",
            "linecolor": "white",
            "ticks": ""
           },
           "bgcolor": "#E5ECF6",
           "radialaxis": {
            "gridcolor": "white",
            "linecolor": "white",
            "ticks": ""
           }
          },
          "scene": {
           "xaxis": {
            "backgroundcolor": "#E5ECF6",
            "gridcolor": "white",
            "gridwidth": 2,
            "linecolor": "white",
            "showbackground": true,
            "ticks": "",
            "zerolinecolor": "white"
           },
           "yaxis": {
            "backgroundcolor": "#E5ECF6",
            "gridcolor": "white",
            "gridwidth": 2,
            "linecolor": "white",
            "showbackground": true,
            "ticks": "",
            "zerolinecolor": "white"
           },
           "zaxis": {
            "backgroundcolor": "#E5ECF6",
            "gridcolor": "white",
            "gridwidth": 2,
            "linecolor": "white",
            "showbackground": true,
            "ticks": "",
            "zerolinecolor": "white"
           }
          },
          "shapedefaults": {
           "line": {
            "color": "#2a3f5f"
           }
          },
          "ternary": {
           "aaxis": {
            "gridcolor": "white",
            "linecolor": "white",
            "ticks": ""
           },
           "baxis": {
            "gridcolor": "white",
            "linecolor": "white",
            "ticks": ""
           },
           "bgcolor": "#E5ECF6",
           "caxis": {
            "gridcolor": "white",
            "linecolor": "white",
            "ticks": ""
           }
          },
          "title": {
           "x": 0.05
          },
          "xaxis": {
           "automargin": true,
           "gridcolor": "white",
           "linecolor": "white",
           "ticks": "",
           "title": {
            "standoff": 15
           },
           "zerolinecolor": "white",
           "zerolinewidth": 2
          },
          "yaxis": {
           "automargin": true,
           "gridcolor": "white",
           "linecolor": "white",
           "ticks": "",
           "title": {
            "standoff": 15
           },
           "zerolinecolor": "white",
           "zerolinewidth": 2
          }
         }
        },
        "width": 1600,
        "xaxis": {
         "linecolor": "white",
         "range": [
          0,
          475
         ],
         "showgrid": false,
         "showline": true
        },
        "yaxis": {
         "linecolor": "white",
         "range": [
          0,
          1.2
         ],
         "showgrid": false,
         "showline": true
        }
       }
      }
     },
     "metadata": {},
     "output_type": "display_data"
    }
   ],
   "source": [
    "fig = go.Figure()\n",
    "i = 0\n",
    "colors = ['#b48d22', ]\n",
    "for player in ['Patrik Laine']:\n",
    "    time_type = 'Career Game'\n",
    "    df, df_quantiles = get_projections(player, time_type)\n",
    "    fig.add_trace(go.Scatter(x=df[time_type], y=df['XGB'], mode='markers', opacity=0.15, marker=dict(size=10, color=colors[i])))\n",
    "    fig.add_trace(go.Scatter(x=df[time_type], y=df['XGB_Lowess'], name=player, mode='lines', line=dict(width=3), marker=dict( color=colors[i]))) # fill to trace0 y\n",
    "    i += 1\n",
    "fig.update_layout(autosize=False, width=1600, height=1400, plot_bgcolor='rgba(0,0,0,0)', paper_bgcolor='rgba(0,0,0,0)')\n",
    "fig.update_xaxes(range=[0, 475], showline=True, linecolor='white', showgrid=False)\n",
    "fig.update_yaxes(range=[0, 2], showline=True, linecolor='white', showgrid=False)\n",
    "    # Model fitting\n",
    "fig.show()"
   ]
  },
  {
   "cell_type": "code",
   "execution_count": 334,
   "metadata": {},
   "outputs": [
    {
     "name": "stdout",
     "output_type": "stream",
     "text": [
      "Input: [2.25499834 2.75045775 2.47025409 2.66460765 2.39107017 2.37314419\n",
      " 2.23280521 2.35120465 2.24227579 1.94373795 2.08019513 2.12642492], Predicted: 2.001\n"
     ]
    }
   ],
   "source": [
    "\n",
    "# finalize model and make a prediction for monthly births with xgboost\n",
    "from numpy import asarray\n",
    "from pandas import read_csv\n",
    "from pandas import DataFrame\n",
    "from pandas import concat\n",
    "from xgboost import XGBRegressor\n",
    " \n",
    "# transform a time series dataset into a supervised learning dataset\n",
    "def series_to_supervised(data, n_in=1, n_out=1, dropnan=True):\n",
    "    n_vars = 1 if type(data) is list else data.shape[1]\n",
    "    df = DataFrame(data)\n",
    "    cols = list()\n",
    "    # input sequence (t-n, ... t-1)\n",
    "    for i in range(n_in, 0, -1):\n",
    "        cols.append(df.shift(i))\n",
    "    # forecast sequence (t, t+1, ... t+n)\n",
    "    for i in range(0, n_out):\n",
    "        cols.append(df.shift(-i))\n",
    "    # put it all together\n",
    "    agg = concat(cols, axis=1)\n",
    "    # drop rows with NaN values\n",
    "    if dropnan:\n",
    "        agg.dropna(inplace=True)\n",
    "    return agg.values\n",
    " \n",
    "# load the dataset\n",
    "series = connor[['Projection', 'Kalman']]\n",
    "values = series.values\n",
    "# transform the time series data into supervised learning\n",
    "train = series_to_supervised(values, n_in=6)\n",
    "# split into input and output columns\n",
    "trainX, trainy = train[:, :-2], train[:, -2]\n",
    "# fit model\n",
    "model = XGBRegressor(objective='reg:squarederror', n_estimators=1000)\n",
    "model.fit(trainX, trainy)\n",
    "# construct an input for a new preduction\n",
    "row = values[-6:].flatten()\n",
    "# make a one-step prediction\n",
    "yhat = model.predict(asarray([row]))\n",
    "print('Input: %s, Predicted: %.3f' % (row, yhat[0]))"
   ]
  },
  {
   "cell_type": "code",
   "execution_count": 164,
   "metadata": {},
   "outputs": [
    {
     "name": "stderr",
     "output_type": "stream",
     "text": [
      "100%|██████████| 9/9 [00:00<00:00,  9.78it/s]\n",
      "100%|██████████| 9/9 [00:01<00:00,  8.07it/s]\n",
      "100%|██████████| 9/9 [00:03<00:00,  2.85it/s]\n",
      "100%|██████████| 9/9 [00:02<00:00,  3.38it/s]\n",
      "100%|██████████| 9/9 [00:00<00:00,  9.41it/s]\n",
      "100%|██████████| 9/9 [00:00<00:00,  9.54it/s]\n",
      "100%|██████████| 9/9 [00:01<00:00,  8.37it/s]\n",
      "100%|██████████| 9/9 [00:00<00:00,  9.36it/s]\n",
      "100%|██████████| 9/9 [00:00<00:00,  9.82it/s]\n",
      "100%|██████████| 9/9 [00:01<00:00,  8.86it/s]\n",
      "100%|██████████| 9/9 [00:01<00:00,  7.91it/s]\n",
      "100%|██████████| 9/9 [00:01<00:00,  7.56it/s]\n",
      "100%|██████████| 9/9 [00:00<00:00, 10.51it/s]\n",
      "100%|██████████| 9/9 [00:00<00:00, 10.75it/s]\n",
      "100%|██████████| 9/9 [00:01<00:00,  7.85it/s]\n",
      "100%|██████████| 9/9 [00:01<00:00,  7.92it/s]\n",
      "100%|██████████| 9/9 [00:01<00:00,  8.64it/s]\n",
      "100%|██████████| 9/9 [00:01<00:00,  8.61it/s]\n",
      "100%|██████████| 9/9 [00:01<00:00,  7.40it/s]\n",
      "100%|██████████| 9/9 [00:01<00:00,  8.08it/s]\n",
      "100%|██████████| 9/9 [00:01<00:00,  7.86it/s]\n",
      "100%|██████████| 9/9 [00:01<00:00,  7.66it/s]\n"
     ]
    }
   ],
   "source": [
    "train = []\n",
    "for player in ['Ryan Johansen', 'Mark Giordano', 'Jakub Voracek', 'Zack Kassian', 'Ryan Reaves', 'Connor McDavid', 'Simon Benoit', 'Tim Gleason', 'Sidney Crosby', 'Adam Fox', 'Pavel Datsyuk']:\n",
    "    df, df2 = get_projections(player, 'Career Game')\n",
    "    train.append(df)\n",
    "train = pd.concat(train)\n",
    "trainset = train"
   ]
  },
  {
   "cell_type": "code",
   "execution_count": 49,
   "metadata": {},
   "outputs": [
    {
     "ename": "NameError",
     "evalue": "name 'trainset' is not defined",
     "output_type": "error",
     "traceback": [
      "\u001b[1;31m---------------------------------------------------------------------------\u001b[0m",
      "\u001b[1;31mNameError\u001b[0m                                 Traceback (most recent call last)",
      "Cell \u001b[1;32mIn[49], line 1\u001b[0m\n\u001b[1;32m----> 1\u001b[0m series \u001b[39m=\u001b[39m trainset[[\u001b[39m'\u001b[39m\u001b[39mProjection\u001b[39m\u001b[39m'\u001b[39m, \u001b[39m'\u001b[39m\u001b[39mKalman\u001b[39m\u001b[39m'\u001b[39m]]\n\u001b[0;32m      2\u001b[0m values \u001b[39m=\u001b[39m series\u001b[39m.\u001b[39mvalues\n\u001b[0;32m      3\u001b[0m \u001b[39m# transform the time series data into supervised learning\u001b[39;00m\n",
      "\u001b[1;31mNameError\u001b[0m: name 'trainset' is not defined"
     ]
    }
   ],
   "source": [
    "series = trainset[['Projection', 'Kalman']]\n",
    "values = series.values\n",
    "# transform the time series data into supervised learning\n",
    "train = series_to_supervised(values, n_in=15)\n",
    "# split into input and output columns\n",
    "trainX, trainy = train[:, :-2], train[:, -2]\n",
    "# fit model\n",
    "model = XGBRegressor(objective='reg:squarederror', n_estimators=500)\n",
    "model.fit(trainX, trainy)\n",
    "# construct an input for a new preduction\n",
    "row = values[-15:].flatten()\n",
    "# make a one-step prediction\n",
    "yhat = model.predict(asarray([row]))\n",
    "print('Input: %s, Predicted: %.3f' % (row, yhat[0]))"
   ]
  },
  {
   "cell_type": "code",
   "execution_count": 227,
   "metadata": {},
   "outputs": [],
   "source": [
    "import pickle\n",
    "\n",
    "filename = 'finalized_model.sav'\n",
    "pickle.dump(model, open(filename, 'wb'))"
   ]
  },
  {
   "cell_type": "code",
   "execution_count": 730,
   "metadata": {},
   "outputs": [
    {
     "data": {
      "text/plain": [
       "0.051401741169419424"
      ]
     },
     "execution_count": 730,
     "metadata": {},
     "output_type": "execute_result"
    },
    {
     "data": {
      "image/png": "[encoded data removed]",
      "text/plain": [
       "<Figure size 640x480 with 1 Axes>"
      ]
     },
     "metadata": {},
     "output_type": "display_data"
    }
   ],
   "source": [
    "import matplotlib.pyplot as plt\n",
    "\n",
    "ages = range(18, 48)\n",
    "A = [-0.14396,-0.05957,0.021176,0.080782,0.144998,0.176731,\n",
    "0.181012,0.179595,0.162485,0.137085,0.114395,0.094328,\n",
    "0.071203,0.043198,0.013411,0.002706,-0.01087,-0.030415,\n",
    "-0.04996,-0.03732,-0.06303,-0.03521,-0.038033904,-0.033721952,\n",
    "-0.02941,-0.04036,-0.05131,-0.08806,-0.08892,-0.08978]\n",
    "poly  = np.polyfit(ages, A, 4)\n",
    "fig, ax = plt.subplots()\n",
    "ax.plot(ages, A, label='data')\n",
    "ax.plot(ages, np.polyval(poly, ages), label='fit')\n",
    "ax.set_xlim(18, 50)\n",
    "ax.legend()\n",
    "np.polyval(poly, 20.2)"
   ]
  },
  {
   "cell_type": "code",
   "execution_count": 167,
   "metadata": {},
   "outputs": [
    {
     "name": "stderr",
     "output_type": "stream",
     "text": [
      "C:\\Users\\jetso\\AppData\\Local\\Temp\\ipykernel_368\\1148530922.py:1: FutureWarning:\n",
      "\n",
      "The default value of numeric_only in DataFrameGroupBy.var is deprecated. In a future version, numeric_only will default to False. Either specify numeric_only or select only columns which should be valid for the function.\n",
      "\n"
     ]
    },
    {
     "data": {
      "text/plain": [
       "0.03676015491816453"
      ]
     },
     "execution_count": 167,
     "metadata": {},
     "output_type": "execute_result"
    }
   ],
   "source": [
    "trainset.groupby(['Player']).var()['Projection'].mean()"
   ]
  },
  {
   "cell_type": "code",
   "execution_count": 24,
   "metadata": {},
   "outputs": [
    {
     "name": "stderr",
     "output_type": "stream",
     "text": [
      "100%|██████████| 9/9 [00:01<00:00,  7.00it/s]\n",
      "100%|██████████| 9/9 [00:01<00:00,  7.31it/s]\n"
     ]
    }
   ],
   "source": [
    "df, df1 = get_projections('Auston Matthews', 'Career Game')"
   ]
  },
  {
   "cell_type": "code",
   "execution_count": 39,
   "metadata": {},
   "outputs": [
    {
     "data": {
      "text/plain": [
       "[0.35461799646405234,\n",
       " 0.35223578154649926,\n",
       " 0.2815646748047127,\n",
       " 0.32871139753144757,\n",
       " 0.32309581754859984,\n",
       " 0.2898585146781473,\n",
       " 0.33586485674755534,\n",
       " 0.3371465637863367,\n",
       " 0.35509624013546953,\n",
       " 0.42448362545749196,\n",
       " 0.45829446268339136,\n",
       " 0.39285789062227316,\n",
       " 0.43947560991193757,\n",
       " 0.4482023309264871,\n",
       " 0.5082195464868176,\n",
       " 0.5135082611204419,\n",
       " 0.5715263682478999,\n",
       " 0.5629235996830103,\n",
       " 0.5539283406397204,\n",
       " 0.5843378603005317,\n",
       " 0.6009595683039096,\n",
       " 0.6098171733964084,\n",
       " 0.6921346177543615,\n",
       " 0.76146397568514,\n",
       " 0.8018198802080968,\n",
       " 0.8292026291072654,\n",
       " 0.8113833811788366,\n",
       " 0.7831552734538604,\n",
       " 0.7764010218074291,\n",
       " 0.7331505670750138,\n",
       " 0.7539293890257848,\n",
       " 0.6796554779722391,\n",
       " 0.6503874299106893,\n",
       " 0.6457831221779434,\n",
       " 0.692749669067777,\n",
       " 0.60995752030963,\n",
       " 0.6340355248978818,\n",
       " 0.5696059565863678,\n",
       " 0.6513055461538418,\n",
       " 0.6311399626670817,\n",
       " 0.6527551860373028,\n",
       " 0.5802408196487776,\n",
       " 0.5626180223766521,\n",
       " 0.6491513031072995,\n",
       " 0.6600798563464638,\n",
       " 0.7091734477797729,\n",
       " 0.7517191851919196,\n",
       " 0.7763675282815596,\n",
       " 0.737908455833204,\n",
       " 0.8158130933287063,\n",
       " 0.7924754112734573,\n",
       " 0.7625916186029723,\n",
       " 0.7519099214215211,\n",
       " 0.7065928978713563,\n",
       " 0.6919810097504767,\n",
       " 0.6294048069039392,\n",
       " 0.6146099924170915,\n",
       " 0.5873595300924981,\n",
       " 0.5770335649284335,\n",
       " 0.5895117608150818,\n",
       " 0.5891196630788548,\n",
       " 0.6340536484994252,\n",
       " 0.66240915273924,\n",
       " 0.6547807911030696,\n",
       " 0.6752924451810052,\n",
       " 0.7015529957503838,\n",
       " 0.7397406301797929,\n",
       " 0.7041959291386991,\n",
       " 0.6905858984121158,\n",
       " 0.7437144781443495,\n",
       " 0.7327725662683191,\n",
       " 0.8097862398476755,\n",
       " 0.8474113398206103,\n",
       " 0.9111853381721757,\n",
       " 0.9439623228547529,\n",
       " 0.9544189971002944,\n",
       " 0.9323763701546062,\n",
       " 0.9859136212732518,\n",
       " 1.0116489204235495,\n",
       " 0.9901801500459607,\n",
       " 1.004374259479028,\n",
       " 1.0635245406346456,\n",
       " 1.0715859784568693,\n",
       " 1.018322711890219,\n",
       " 1.056586897824879,\n",
       " 1.0482130351363796,\n",
       " 1.0363381720134532,\n",
       " 1.1007912177114367,\n",
       " 1.0826928514631013,\n",
       " 1.0949782708431501,\n",
       " 1.0614996602089959,\n",
       " 1.0680587270263535,\n",
       " 1.0753380569216906,\n",
       " 1.0222180260601117,\n",
       " 0.9829161551376805,\n",
       " 0.9423102510512998,\n",
       " 0.9324495767524386,\n",
       " 0.992368011813541,\n",
       " 1.0325800679927646,\n",
       " 0.9795768151818125,\n",
       " 1.034039529989106,\n",
       " 0.9809759227722098,\n",
       " 1.010915263361602,\n",
       " 1.0097087868355135,\n",
       " 0.9533259904138378,\n",
       " 0.9182989357190703,\n",
       " 0.8978228785545301,\n",
       " 0.892027859918706,\n",
       " 0.962324019720504,\n",
       " 0.980558991686783,\n",
       " 0.943134135438339,\n",
       " 0.9445303549714277,\n",
       " 0.9864935014633308,\n",
       " 1.0223713863191484,\n",
       " 0.9778568700951082,\n",
       " 1.1074011292199841,\n",
       " 0.99143173471621,\n",
       " 1.0100750495657076,\n",
       " 1.0893016868396126,\n",
       " 0.9835237216082097,\n",
       " 0.9790009599451671,\n",
       " 1.0079404214760774,\n",
       " 0.9591960670042324,\n",
       " 0.9280758704001041,\n",
       " 0.9471487692483018,\n",
       " 0.9334255394781511,\n",
       " 0.9192847444873508,\n",
       " 0.8893496694022439,\n",
       " 0.966685813069216,\n",
       " 0.9668726046436907,\n",
       " 1.0552349544350081,\n",
       " 1.0321353365990622,\n",
       " 1.0405290809822443,\n",
       " 0.9954615588075175,\n",
       " 1.0285129722882613,\n",
       " 1.0871032903390787,\n",
       " 1.0925013036084052,\n",
       " 1.0503205061573888,\n",
       " 1.1139874675113735,\n",
       " 1.109913039438705,\n",
       " 1.0484127252299857,\n",
       " 1.0368098899969598,\n",
       " 1.0265169605457292,\n",
       " 1.0031247939839192,\n",
       " 1.0833347533917235,\n",
       " 1.0662741838684837,\n",
       " 1.1434317623450478,\n",
       " 1.1274798347588775,\n",
       " 1.13561551050021,\n",
       " 1.1445231368546087,\n",
       " 1.1502262196529918,\n",
       " 1.140516314506571,\n",
       " 1.1961079855694858,\n",
       " 1.284920933326772,\n",
       " 1.2539943192801783,\n",
       " 1.24239606474535,\n",
       " 1.1787779555005067,\n",
       " 1.1207695062803724,\n",
       " 1.0922614959046755,\n",
       " 1.2049882358198,\n",
       " 1.1343114966753431,\n",
       " 1.0965629797954948,\n",
       " 1.0921161238497048,\n",
       " 1.1255890987712893,\n",
       " 1.1060764383128783,\n",
       " 1.0297906365525884,\n",
       " 0.9653929355666022,\n",
       " 0.9343241578155964,\n",
       " 0.9708083312411059,\n",
       " 1.013556707703492,\n",
       " 1.0019664209665766,\n",
       " 0.9398090054207983,\n",
       " 0.9001763977961349,\n",
       " 0.8954330140555025,\n",
       " 0.949099894616183,\n",
       " 1.0405864360497208,\n",
       " 0.9928149765470371,\n",
       " 0.9749015220226676,\n",
       " 0.9829067325031624,\n",
       " 0.9366959465403857,\n",
       " 0.9394211670024271,\n",
       " 0.9427981221275052,\n",
       " 0.8526616126365626,\n",
       " 0.8747688583400564,\n",
       " 0.8341831112652301,\n",
       " 0.8099669775443659,\n",
       " 0.8049491870069242,\n",
       " 0.7876465830286905,\n",
       " 0.8711879250108961,\n",
       " 0.9458669122351275,\n",
       " 0.9172305945028403,\n",
       " 0.8824089159687301,\n",
       " 0.9637664345886985,\n",
       " 0.9601112679209485,\n",
       " 0.966210287143845,\n",
       " 0.998665598513133,\n",
       " 0.9985442433391981,\n",
       " 0.9766422810847613,\n",
       " 0.9251177433241833,\n",
       " 0.879972044146879,\n",
       " 0.8196465380919645,\n",
       " 0.8825700393756598,\n",
       " 0.9202087704584883,\n",
       " 0.9548478297752224,\n",
       " 0.9709575103401245,\n",
       " 0.9982833648904273,\n",
       " 0.9588613732722141,\n",
       " 0.9806677565506406,\n",
       " 0.9542927671615069,\n",
       " 0.9339572547035592,\n",
       " 0.9829461348118825,\n",
       " 0.9344134830834968,\n",
       " 0.9666200693509552,\n",
       " 0.9859380830847142,\n",
       " 1.0487344923187343,\n",
       " 0.9915821471414107,\n",
       " 1.054313351650943,\n",
       " 1.0250915091024997,\n",
       " 1.0693501545835715,\n",
       " 1.1601392113833557,\n",
       " 1.1569199523722065,\n",
       " 1.174391952381073,\n",
       " 1.0928062444279776,\n",
       " 1.0717624308897893,\n",
       " 1.0986562026079512,\n",
       " 1.114619690992596,\n",
       " 1.1194563228538992,\n",
       " 1.065381352025487,\n",
       " 1.0589428603197155,\n",
       " 0.9810613798925992,\n",
       " 0.952003178626685,\n",
       " 0.9760711328552429,\n",
       " 1.013910148858751,\n",
       " 0.9863680311880879,\n",
       " 0.91121243026178,\n",
       " 0.9609149692120027,\n",
       " 1.0340181382882723,\n",
       " 1.107889152984225,\n",
       " 1.2222503440074997,\n",
       " 1.1281818260691674,\n",
       " 1.1886837701250865,\n",
       " 1.2228737081173473,\n",
       " 1.1704078325066958,\n",
       " 1.1972499357698239,\n",
       " 1.2035158025425838,\n",
       " 1.2606602627538075,\n",
       " 1.2885801496943794,\n",
       " 1.360336219945242,\n",
       " 1.3017132298247716,\n",
       " 1.2234562333039392,\n",
       " 1.2264054904547765,\n",
       " 1.235937039524581,\n",
       " 1.2111339076602983,\n",
       " 1.1817543296547302,\n",
       " 1.1586583733123599,\n",
       " 1.2812273637732914,\n",
       " 1.2598074845745055,\n",
       " 1.1603026516752972,\n",
       " 1.1637946591632464,\n",
       " 1.148319859967623,\n",
       " 1.1196418172099252,\n",
       " 1.1205158176543977,\n",
       " 1.1399423810885692,\n",
       " 1.1519630600067587,\n",
       " 1.1371693505944174,\n",
       " 1.2191713293244237,\n",
       " 1.250963184482958,\n",
       " 1.3010863318854986,\n",
       " 1.2772451388670598,\n",
       " 1.2286731587385826,\n",
       " 1.2244149824721944,\n",
       " 1.2064504095660187,\n",
       " 1.130310993581152,\n",
       " 1.1874643763664363,\n",
       " 1.2185879441318683,\n",
       " 1.2414768794308486,\n",
       " 1.2051839259806165,\n",
       " 1.2072120761949987,\n",
       " 1.2011735167337594,\n",
       " 1.1909057816616668,\n",
       " 1.2526078781748693,\n",
       " 1.3629603685494731,\n",
       " 1.3745312273560921,\n",
       " 1.3411721440099797,\n",
       " 1.3271112077271514,\n",
       " 1.396469920095008,\n",
       " 1.3875123588592388,\n",
       " 1.4737633236654255,\n",
       " 1.5536976160941252,\n",
       " 1.5153373920908384,\n",
       " 1.5347160660320447,\n",
       " 1.4682509956545953,\n",
       " 1.409141938382189,\n",
       " 1.383010835426259,\n",
       " 1.3831068938001467,\n",
       " 1.393967261420874,\n",
       " 1.3236087380838164,\n",
       " 1.335295278444413,\n",
       " 1.338697059816876,\n",
       " 1.3276088326429394,\n",
       " 1.3265519913686277,\n",
       " 1.373234776762975,\n",
       " 1.4078724751362242,\n",
       " 1.4961473353403028,\n",
       " 1.4778754898578288,\n",
       " 1.5170172190578681,\n",
       " 1.5609090406922954,\n",
       " 1.5999826591137316,\n",
       " 1.7258993650104932,\n",
       " 1.691355101467467,\n",
       " 1.6482241278450354,\n",
       " 1.600741947645666,\n",
       " 1.578102634646669,\n",
       " 1.614767015146071,\n",
       " 1.5985651431072403,\n",
       " 1.6057348950964958,\n",
       " 1.672125746822824,\n",
       " 1.7266377583250174,\n",
       " 1.7266044947122337,\n",
       " 1.7583305487801728,\n",
       " 1.763540471318264,\n",
       " 1.7261746637437245,\n",
       " 1.690317143903255,\n",
       " 1.6718219819456417,\n",
       " 1.6168970046980542,\n",
       " 1.5810487079023987,\n",
       " 1.5280357578665713,\n",
       " 1.4885327618176625,\n",
       " 1.4512749922833663,\n",
       " 1.5418516246351646,\n",
       " 1.5171123800926378,\n",
       " 1.5656048174752304,\n",
       " 1.5329638469399303,\n",
       " 1.5495536077155834,\n",
       " 1.554784011820012,\n",
       " 1.5211264164956881,\n",
       " 1.5755978788721408,\n",
       " 1.5478891266678168,\n",
       " 1.507599487015629,\n",
       " 1.5112096265335075,\n",
       " 1.5684622829355395,\n",
       " 1.584486683632741,\n",
       " 1.5732482635209328,\n",
       " 1.649987991031499,\n",
       " 1.6266242051643216,\n",
       " 1.5847978891605345,\n",
       " 1.6286719325901553,\n",
       " 1.6028242133661588,\n",
       " 1.603331296530508,\n",
       " 1.6095475047329393,\n",
       " 1.5847868717879459,\n",
       " 1.5624152243584526,\n",
       " 1.6227071056047655,\n",
       " 1.625670854414987,\n",
       " 1.6506682052545496,\n",
       " 1.672879330702814,\n",
       " 1.6324649666759377,\n",
       " 1.5546189447856074,\n",
       " 1.57201399001503,\n",
       " 1.5358033325831517,\n",
       " 1.6788065900559908,\n",
       " 1.7376943588673295,\n",
       " 1.7939864131459562,\n",
       " 1.7729220209401149,\n",
       " 1.7562965358426013,\n",
       " 1.7722890492759362,\n",
       " 1.7716641181877681,\n",
       " 1.715846724147118,\n",
       " 1.6499879883388808,\n",
       " 1.710433956961424,\n",
       " 1.7436547635107742,\n",
       " 1.871337510294045,\n",
       " 1.8700051610087522,\n",
       " 1.7858235847630017,\n",
       " 1.816313872964876,\n",
       " 1.88681010923744,\n",
       " 1.9404279628824528,\n",
       " 1.9610710336274932,\n",
       " 1.926718390773194,\n",
       " 1.9805142877536108,\n",
       " 1.939475656200899,\n",
       " 1.9621302684306607,\n",
       " 1.9944878788875808,\n",
       " 1.9770192670631377,\n",
       " 1.9672306909077173,\n",
       " 1.9317328259773259,\n",
       " 2.0328064143134617,\n",
       " 2.0374003971678936,\n",
       " 2.0697558100582114,\n",
       " 2.1165508681487175,\n",
       " 2.058274939504631,\n",
       " 2.0991476963281546,\n",
       " 2.1386847144453287,\n",
       " 2.1441415399740906,\n",
       " 2.107243548048561,\n",
       " 2.1504696953683013,\n",
       " 2.0875628387825085,\n",
       " 2.071383555217896,\n",
       " 2.0904871132517795,\n",
       " 2.0675771027359082,\n",
       " 2.0350396788872382,\n",
       " 2.057235298975927,\n",
       " 1.999933786591764,\n",
       " 1.96924561446366,\n",
       " 1.8884605522353088,\n",
       " 1.8307700977313495,\n",
       " 1.8226046050611302,\n",
       " 1.8431781102603857,\n",
       " 1.8014051522979144,\n",
       " 1.8070042303496556,\n",
       " 1.7421587757452566,\n",
       " 1.7631772284186527,\n",
       " 1.8020582905594946,\n",
       " 1.7841394694252468,\n",
       " 1.7471702003532414,\n",
       " 1.7514953046228303,\n",
       " 1.6709398418273365,\n",
       " 1.6675752684017224,\n",
       " 1.7455753263462104,\n",
       " 1.7575571603848719,\n",
       " 1.7575343609015974,\n",
       " 1.7264802686833256,\n",
       " 1.7497456873730912,\n",
       " 1.8071134709766095,\n",
       " 1.8890614212789594,\n",
       " 1.892864739942211,\n",
       " 1.8453880766535877,\n",
       " 1.8778292144769528,\n",
       " 1.85724783388419,\n",
       " 1.8947201069876505,\n",
       " 1.8946352739925567,\n",
       " 1.8306514270982504,\n",
       " 1.822538328640293,\n",
       " 1.8889147625508182,\n",
       " 1.8427762577659215,\n",
       " 1.791875547306725,\n",
       " 1.7607679375023029,\n",
       " 1.7660255728548342,\n",
       " 1.763797696342597,\n",
       " 1.785141556811596,\n",
       " 1.73141206805594,\n",
       " 1.6743848484653945,\n",
       " 1.6455873635290539,\n",
       " 1.7412723451306273,\n",
       " 1.7527377479381585,\n",
       " 1.6988593227894004,\n",
       " 1.6473842286134508,\n",
       " 1.5794768117541145,\n",
       " 1.657750595068917,\n",
       " 1.5987181152154637,\n",
       " 1.547159809103347,\n",
       " 1.5140255551833797,\n",
       " 1.4351881426677904,\n",
       " 1.514181049539188,\n",
       " 1.571097215256124,\n",
       " 1.5597007397003302,\n",
       " 1.5972350718310098,\n",
       " 1.659498107841572,\n",
       " 1.5718866946809165]"
      ]
     },
     "execution_count": 39,
     "metadata": {},
     "output_type": "execute_result"
    }
   ],
   "source": [
    "\n",
    "sensor_var = 1.3330171065772254\n",
    "process_var = 0.0013513089896074557\n",
    "process_model = gaussian(0., process_var)\n",
    "pos = gaussian(0., 100.)\n",
    "N = len(df) + 20\n",
    "zs = np.concatenate((np.zeros(20), df['Score'].to_list()))\n",
    "ps = []\n",
    "for i in range(N):\n",
    "    prior = predict(pos, process_model)    \n",
    "    pos = update(prior, gaussian(zs[i], sensor_var))\n",
    "    ps.append(pos.mean)\n",
    "\n",
    "ps[30:]"
   ]
  }
 ],
 "metadata": {
  "kernelspec": {
   "display_name": "Python 3",
   "language": "python",
   "name": "python3"
  },
  "language_info": {
   "codemirror_mode": {
    "name": "ipython",
    "version": 3
   },
   "file_extension": ".py",
   "mimetype": "text/x-python",
   "name": "python",
   "nbconvert_exporter": "python",
   "pygments_lexer": "ipython3",
   "version": "3.9.13"
  },
  "orig_nbformat": 4,
  "vscode": {
   "interpreter": {
    "hash": "5067fa2fba54dff224229939409dcaebfa910c462b54507c4967b587e4220943"
   }
  }
 },
 "nbformat": 4,
 "nbformat_minor": 2
}
