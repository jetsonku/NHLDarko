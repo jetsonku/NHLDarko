{
 "cells": [
  {
   "cell_type": "code",
   "execution_count": 2,
   "metadata": {},
   "outputs": [],
   "source": [
    "import pandas as pd\n",
    "import numpy as np\n",
    "import requests\n",
    "from bs4 import BeautifulSoup\n",
    "import re\n",
    "import time\n"
   ]
  },
  {
   "cell_type": "code",
   "execution_count": 3,
   "metadata": {},
   "outputs": [],
   "source": [
    "def get_g_stats(soup):\n",
    "    teams = soup.find('h1').text.split(' @ ')\n",
    "    home = teams[1]\n",
    "    away = teams[0]\n",
    "    date = soup.find('h2').text.split('\\n')[0]\n",
    "\n",
    "    g = soup.find_all('table', {'id': re.compile(r'tb[A-Z]{2,3}stgall')})\n",
    "\n",
    "    gs = []\n",
    "\n",
    "\n",
    "    df = pd.read_html(str(g[0]))[0]\n",
    "    df['Team'] = home\n",
    "    df['Opposition'] = away\n",
    "    df['Venue'] = 'home'\n",
    "    gs.append(df)\n",
    "    df = pd.read_html(str(g[5]))[0]\n",
    "    df['Team'] = away\n",
    "    df['Opposition'] = home\n",
    "    df['Venue'] = 'away'\n",
    "    gs.append(df)\n",
    "    gs_master = pd.concat(gs)\n",
    "    gs_master['Date'] = date\n",
    "    gs_master = gs_master[['Date', 'Player', 'Venue', 'Team', 'Opposition', 'TOI', 'Goals Against', 'Expected Goals Against']]\n",
    "    return gs_master\n",
    "    "
   ]
  },
  {
   "cell_type": "code",
   "execution_count": 4,
   "metadata": {},
   "outputs": [],
   "source": [
    "def get_rel_stats(soup):\n",
    "    teams = soup.find('h1').text.split(' @ ')\n",
    "    home = teams[1]\n",
    "    away = teams[0]\n",
    "    date = soup.find('h2').text.split('\\n')[0]\n",
    "\n",
    "    ind = soup.find_all('table', {'id': re.compile(r'tb[A-Z]{2,3}stall')})\n",
    "    oi = soup.find_all('table', {'id': re.compile(r'tb[A-Z]{2,3}oi5v5')})\n",
    "    ois = []\n",
    "    inds = []\n",
    "\n",
    "    df = pd.read_html(str(oi[0]))[0]\n",
    "    df['Team'] = home\n",
    "    df['Opposition'] = away\n",
    "    df['Venue'] = 'home'\n",
    "\n",
    "    ois.append(df)\n",
    "    df = pd.read_html(str(oi[1]))[0]\n",
    "    df['Team'] = away\n",
    "    df['Opposition'] = home\n",
    "    df['Venue'] = 'away'\n",
    "\n",
    "    ois.append(df)\n",
    "\n",
    "    df = pd.read_html(str(ind[0]))[0]\n",
    "    df['Team'] = home\n",
    "    df['Opposition'] = away\n",
    "    df['Venue'] = 'home'\n",
    "\n",
    "    inds.append(df)\n",
    "    df = pd.read_html(str(ind[1]))[0]\n",
    "\n",
    "    df['Team'] = away\n",
    "    df['Opposition'] = home\n",
    "    df['Venue'] = 'away'\n",
    "\n",
    "    inds.append(df)\n",
    "\n",
    "    oi_master = pd.concat(ois)\n",
    "    oi_master['Date'] = date\n",
    "    oi_master = oi_master[['Date', 'Player', 'Venue', 'Team', 'Opposition', 'TOI', 'GF', 'GA', 'xGF', 'xGA']]\n",
    "    ind_master = pd.concat(inds)\n",
    "    ind_master['Date'] = date\n",
    "    ind_master = ind_master[['Date', 'Player', 'Venue', 'Team', 'Opposition', 'Position', 'TOI', 'Goals', 'First Assists', 'Second Assists', 'ixG', 'Shots Blocked', 'Total Penalties', 'Penalties Drawn', 'Faceoffs Won', 'Faceoffs Lost']]\n",
    "\n",
    "    df = ind_master.merge(oi_master, on=['Player', 'Team'])\n",
    "    return df.drop(columns = ['Date_y', 'Venue_y', 'TOI_y', 'Opposition_y'])"
   ]
  },
  {
   "cell_type": "code",
   "execution_count": 8,
   "metadata": {},
   "outputs": [
    {
     "name": "stdout",
     "output_type": "stream",
     "text": [
      "2022 started at  2023-03-12 13:06:17.182190\n",
      "2022 [20320, 20547]\n"
     ]
    }
   ],
   "source": [
    "from datetime import datetime\n",
    "for year in [2022,]:\n",
    "    print(year, \"started at \", datetime.now())\n",
    "    goalie_dfs = []\n",
    "    dfs = []\n",
    "    gameid = 20001\n",
    "    url = f'https://www.naturalstattrick.com/game.php?season={year}{year+1}&game={gameid}'\n",
    "    req = requests.get(url)\n",
    "    soup = BeautifulSoup(req.content)\n",
    "    dfs.append(get_rel_stats(soup))\n",
    "    goalie_dfs.append(get_g_stats(soup))\n",
    "    time.sleep(30)\n",
    "    timer = 0\n",
    "    errors = []\n",
    "    while len(soup.text) > 3000:\n",
    "        try:\n",
    "            gameid += 1\n",
    "            if timer == 100:\n",
    "                time.sleep(661)\n",
    "                timer = 0\n",
    "            url = f'https://www.naturalstattrick.com/game.php?season={year}{year+1}&game={gameid}'\n",
    "            req = requests.get(url)\n",
    "            soup = BeautifulSoup(req.content)\n",
    "            stats = get_rel_stats(soup)\n",
    "            dfs.append(get_rel_stats(soup))\n",
    "            goalie_dfs.append(get_g_stats(soup))\n",
    "            time.sleep(30)\n",
    "            timer += 1\n",
    "        except:\n",
    "            errors.append(gameid)\n",
    "    pd.concat(dfs).to_csv(f'{year}{year+1}_skaters.csv', index=False)\n",
    "    pd.concat(goalie_dfs).to_csv(f'{year}{year+1}_goalies.csv', index=False)\n",
    "    print(year, errors)"
   ]
  },
  {
   "cell_type": "code",
   "execution_count": 9,
   "metadata": {},
   "outputs": [
    {
     "name": "stdout",
     "output_type": "stream",
     "text": [
      "2022 started at  2023-03-12 20:19:18.393405\n",
      "2022 [21061]\n"
     ]
    }
   ],
   "source": [
    "from datetime import datetime\n",
    "for year in [2022,]:\n",
    "    print(year, \"started at \", datetime.now())\n",
    "    gameid = 20548\n",
    "    url = f'https://www.naturalstattrick.com/game.php?season={year}{year+1}&game={gameid}'\n",
    "    req = requests.get(url)\n",
    "    soup = BeautifulSoup(req.content)\n",
    "    dfs.append(get_rel_stats(soup))\n",
    "    goalie_dfs.append(get_g_stats(soup))\n",
    "    time.sleep(30)\n",
    "    timer = 0\n",
    "    errors = []\n",
    "    while len(soup.text) > 3000:\n",
    "        try:\n",
    "            gameid += 1\n",
    "            if timer == 100:\n",
    "                time.sleep(661)\n",
    "                timer = 0\n",
    "            url = f'https://www.naturalstattrick.com/game.php?season={year}{year+1}&game={gameid}'\n",
    "            req = requests.get(url)\n",
    "            soup = BeautifulSoup(req.content)\n",
    "            stats = get_rel_stats(soup)\n",
    "            dfs.append(get_rel_stats(soup))\n",
    "            goalie_dfs.append(get_g_stats(soup))\n",
    "            time.sleep(30)\n",
    "            timer += 1\n",
    "        except:\n",
    "            errors.append(gameid)\n",
    "    pd.concat(dfs).to_csv(f'{year}{year+1}_skaters.csv', index=False)\n",
    "    pd.concat(goalie_dfs).to_csv(f'{year}{year+1}_goalies.csv', index=False)\n",
    "    print(year, errors)"
   ]
  }
 ],
 "metadata": {
  "kernelspec": {
   "display_name": "Python 3",
   "language": "python",
   "name": "python3"
  },
  "language_info": {
   "codemirror_mode": {
    "name": "ipython",
    "version": 3
   },
   "file_extension": ".py",
   "mimetype": "text/x-python",
   "name": "python",
   "nbconvert_exporter": "python",
   "pygments_lexer": "ipython3",
   "version": "3.9.13"
  },
  "orig_nbformat": 4,
  "vscode": {
   "interpreter": {
    "hash": "5067fa2fba54dff224229939409dcaebfa910c462b54507c4967b587e4220943"
   }
  }
 },
 "nbformat": 4,
 "nbformat_minor": 2
}
