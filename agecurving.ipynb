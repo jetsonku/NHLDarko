{
 "cells": [
  {
   "cell_type": "code",
   "execution_count": 4,
   "metadata": {},
   "outputs": [],
   "source": [
    "import pandas as pd\n",
    "import numpy as np\n",
    "from numpy import random\n",
    "from scipy.stats import norm\n",
    "skaters = pd.read_csv(f'cleaned/master_skaters.csv')\n",
    "skaters['exGF'] = skaters['TOI']*0.032+0.055\n",
    "skaters['exGA'] = skaters['TOI']*0.032+0.055\n",
    "skaters['eGF'] = skaters['TOI']*0.032+0.055\n",
    "skaters['eGA'] = skaters['TOI']*0.032+0.055\n",
    "skaters['GFAA'] = skaters['GF'] - skaters['eGF']\n",
    "skaters['GAAA'] =  skaters['eGA'] - skaters['GA']\n",
    "skaters['xGFAA'] = skaters['xGF'] - skaters['exGF']\n",
    "skaters['xGAAA'] =  skaters['exGA'] - skaters['xGA']\n",
    "skaters['Production'] = (0.75*skaters['Goals']) + (0.7*skaters['First Assists']) + (0.55*skaters['Second Assists']) + (0.5*skaters['ixG']) + (0.05*skaters['Shots Blocked']) \n",
    "skaters['Misc'] = (0.15*(skaters['Penalties Drawn'] - skaters['Total Penalties'])) + (0.01*(skaters['Faceoffs Won'] - skaters['Faceoffs Lost']))\n",
    "skaters['Offense'] = np.where(skaters['Position'] == 'D', \n",
    "((0.425*(skaters['GF'] + skaters['GFAA'])) + (1.7*(skaters['xGF'] + skaters['xGFAA'])))/2.125 - 0.75,\n",
    "(((0.625*(skaters['GF'] + skaters['GFAA'])) + (0.625*(skaters['xGF'] + skaters['xGFAA'])))/2) - 0.4)\n",
    "skaters['Defense'] = np.where(skaters['Position'] == 'D', \n",
    "(((0.575*(-skaters['GA'] + skaters['GAAA'])) + (2.3*(-skaters['xGA'] + skaters['xGAAA'])))/2) + 1.05, \n",
    "(((0.4375*(-skaters['GA'] + skaters['GAAA'])) + (1.7*(-skaters['xGA'] + skaters['xGAAA'])))/2) + 0.6)\n",
    "skaters['Score'] = skaters['Production'] + skaters['Misc'] + skaters['Offense'] + skaters['Defense']\n",
    "skaters = skaters.loc[:, ~skaters.columns.str.contains('^Unnamed')]\n",
    "births = pd.read_csv('birthdates.csv')\n",
    "merged = skaters.merge(births[['Player', 'Season', 'dob']], how='left', on=['Player', 'Season'])\n",
    "merged.drop_duplicates(subset=['Player', 'Team', 'Date', 'Opposition', 'Season'], inplace=True)\n",
    "merged['dob'] = np.where(((merged.Player == 'Sebastian Aho') & (merged.Team == 'New York Islanders')),'1999-07-26', merged['dob'])\n",
    "merged['dob'] = np.where(((merged.Player == 'Sebastian Aho') & (merged.Team != 'New York Islanders')),'1996-02-17', merged['dob'])\n",
    "merged[[\"Date\", \"dob\"]] = merged[[\"Date\", \"dob\"]].apply(pd.to_datetime)\n",
    "merged['Age'] = (merged[\"Date\"] - merged[\"dob\"]).dt.days/365\n",
    "merged['RoundAge'] = np.floor(merged[\"Age\"])\n"
   ]
  },
  {
   "cell_type": "code",
   "execution_count": 506,
   "metadata": {},
   "outputs": [
    {
     "data": {
      "text/plain": [
       "array(['Nashville Predators', 'San Jose Sharks', 'New York Rangers',\n",
       "       'Tampa Bay Lightning', 'Los Angeles Kings', 'Vegas Golden Knights',\n",
       "       'Washington Capitals', 'Boston Bruins', 'Carolina Hurricanes',\n",
       "       'Columbus Blue Jackets', 'Montreal Canadiens',\n",
       "       'Toronto Maple Leafs', 'Colorado Avalanche', 'Chicago Blackhawks',\n",
       "       'Anaheim Ducks', 'Seattle Kraken', 'Edmonton Oilers',\n",
       "       'Vancouver Canucks', 'Pittsburgh Penguins', 'Arizona Coyotes',\n",
       "       'Philadelphia Flyers', 'New Jersey Devils', 'Buffalo Sabres',\n",
       "       'Ottawa Senators', 'New York Islanders', 'Florida Panthers',\n",
       "       'Dallas Stars', 'Minnesota Wild', 'Calgary Flames',\n",
       "       'Detroit Red Wings', 'Winnipeg Jets', 'St Louis Blues'],\n",
       "      dtype=object)"
      ]
     },
     "execution_count": 506,
     "metadata": {},
     "output_type": "execute_result"
    }
   ],
   "source": [
    "merged[merged.Season == 20222023].Team.unique()"
   ]
  },
  {
   "cell_type": "code",
   "execution_count": 327,
   "metadata": {},
   "outputs": [
    {
     "name": "stderr",
     "output_type": "stream",
     "text": [
      "C:\\Users\\jetso\\AppData\\Local\\Temp\\ipykernel_5216\\3678090357.py:1: FutureWarning:\n",
      "\n",
      "The default value of numeric_only in DataFrameGroupBy.mean is deprecated. In a future version, numeric_only will default to False. Either specify numeric_only or select only columns which should be valid for the function.\n",
      "\n"
     ]
    },
    {
     "data": {
      "text/html": [
       "<div>\n",
       "<style scoped>\n",
       "    .dataframe tbody tr th:only-of-type {\n",
       "        vertical-align: middle;\n",
       "    }\n",
       "\n",
       "    .dataframe tbody tr th {\n",
       "        vertical-align: top;\n",
       "    }\n",
       "\n",
       "    .dataframe thead th {\n",
       "        text-align: right;\n",
       "    }\n",
       "</style>\n",
       "<table border=\"1\" class=\"dataframe\">\n",
       "  <thead>\n",
       "    <tr style=\"text-align: right;\">\n",
       "      <th></th>\n",
       "      <th></th>\n",
       "      <th></th>\n",
       "      <th>Score</th>\n",
       "      <th>GP</th>\n",
       "      <th>TotalGP</th>\n",
       "      <th>SeasonPCT</th>\n",
       "    </tr>\n",
       "    <tr>\n",
       "      <th>Player</th>\n",
       "      <th>Season</th>\n",
       "      <th>RoundAge</th>\n",
       "      <th></th>\n",
       "      <th></th>\n",
       "      <th></th>\n",
       "      <th></th>\n",
       "    </tr>\n",
       "  </thead>\n",
       "  <tbody>\n",
       "    <tr>\n",
       "      <th rowspan=\"5\" valign=\"top\">A.J. Greer</th>\n",
       "      <th>20162017</th>\n",
       "      <th>19.0</th>\n",
       "      <td>0.393581</td>\n",
       "      <td>5</td>\n",
       "      <td>5</td>\n",
       "      <td>1.000000</td>\n",
       "    </tr>\n",
       "    <tr>\n",
       "      <th rowspan=\"2\" valign=\"top\">20172018</th>\n",
       "      <th>20.0</th>\n",
       "      <td>-0.108004</td>\n",
       "      <td>6</td>\n",
       "      <td>17</td>\n",
       "      <td>0.352941</td>\n",
       "    </tr>\n",
       "    <tr>\n",
       "      <th>21.0</th>\n",
       "      <td>0.309990</td>\n",
       "      <td>11</td>\n",
       "      <td>17</td>\n",
       "      <td>0.647059</td>\n",
       "    </tr>\n",
       "    <tr>\n",
       "      <th rowspan=\"2\" valign=\"top\">20182019</th>\n",
       "      <th>21.0</th>\n",
       "      <td>0.293076</td>\n",
       "      <td>1</td>\n",
       "      <td>15</td>\n",
       "      <td>0.066667</td>\n",
       "    </tr>\n",
       "    <tr>\n",
       "      <th>22.0</th>\n",
       "      <td>0.128682</td>\n",
       "      <td>14</td>\n",
       "      <td>15</td>\n",
       "      <td>0.933333</td>\n",
       "    </tr>\n",
       "    <tr>\n",
       "      <th>...</th>\n",
       "      <th>...</th>\n",
       "      <th>...</th>\n",
       "      <td>...</td>\n",
       "      <td>...</td>\n",
       "      <td>...</td>\n",
       "      <td>...</td>\n",
       "    </tr>\n",
       "    <tr>\n",
       "      <th rowspan=\"5\" valign=\"top\">Zenon Konopka</th>\n",
       "      <th rowspan=\"2\" valign=\"top\">20112012</th>\n",
       "      <th>30.0</th>\n",
       "      <td>0.233344</td>\n",
       "      <td>29</td>\n",
       "      <td>55</td>\n",
       "      <td>0.527273</td>\n",
       "    </tr>\n",
       "    <tr>\n",
       "      <th>31.0</th>\n",
       "      <td>-0.083532</td>\n",
       "      <td>26</td>\n",
       "      <td>55</td>\n",
       "      <td>0.472727</td>\n",
       "    </tr>\n",
       "    <tr>\n",
       "      <th>20122013</th>\n",
       "      <th>32.0</th>\n",
       "      <td>-0.006794</td>\n",
       "      <td>36</td>\n",
       "      <td>36</td>\n",
       "      <td>1.000000</td>\n",
       "    </tr>\n",
       "    <tr>\n",
       "      <th rowspan=\"2\" valign=\"top\">20132014</th>\n",
       "      <th>32.0</th>\n",
       "      <td>0.161267</td>\n",
       "      <td>35</td>\n",
       "      <td>58</td>\n",
       "      <td>0.603448</td>\n",
       "    </tr>\n",
       "    <tr>\n",
       "      <th>33.0</th>\n",
       "      <td>0.060632</td>\n",
       "      <td>23</td>\n",
       "      <td>58</td>\n",
       "      <td>0.396552</td>\n",
       "    </tr>\n",
       "  </tbody>\n",
       "</table>\n",
       "<p>19433 rows × 4 columns</p>\n",
       "</div>"
      ],
      "text/plain": [
       "                                    Score  GP  TotalGP  SeasonPCT\n",
       "Player        Season   RoundAge                                  \n",
       "A.J. Greer    20162017 19.0      0.393581   5        5   1.000000\n",
       "              20172018 20.0     -0.108004   6       17   0.352941\n",
       "                       21.0      0.309990  11       17   0.647059\n",
       "              20182019 21.0      0.293076   1       15   0.066667\n",
       "                       22.0      0.128682  14       15   0.933333\n",
       "...                                   ...  ..      ...        ...\n",
       "Zenon Konopka 20112012 30.0      0.233344  29       55   0.527273\n",
       "                       31.0     -0.083532  26       55   0.472727\n",
       "              20122013 32.0     -0.006794  36       36   1.000000\n",
       "              20132014 32.0      0.161267  35       58   0.603448\n",
       "                       33.0      0.060632  23       58   0.396552\n",
       "\n",
       "[19433 rows x 4 columns]"
      ]
     },
     "execution_count": 327,
     "metadata": {},
     "output_type": "execute_result"
    }
   ],
   "source": [
    "agescores = merged.groupby(['Player', 'Season', 'RoundAge']).mean()[['Score']]\n",
    "agescores['GP'] = merged.groupby(['Player', 'Season', 'RoundAge']).count()[['Date']]\n",
    "agescores['TotalGP'] = merged.groupby(['Player', 'Season']).count()[['Date']]\n",
    "agescores['SeasonPCT'] = agescores['GP']/agescores['TotalGP']\n",
    "agescores"
   ]
  },
  {
   "cell_type": "code",
   "execution_count": 400,
   "metadata": {},
   "outputs": [
    {
     "name": "stderr",
     "output_type": "stream",
     "text": [
      "C:\\Users\\jetso\\AppData\\Local\\Temp\\ipykernel_5216\\2747084165.py:2: FutureWarning:\n",
      "\n",
      "The default value of numeric_only in DataFrameGroupBy.mean is deprecated. In a future version, numeric_only will default to False. Either specify numeric_only or select only columns which should be valid for the function.\n",
      "\n"
     ]
    }
   ],
   "source": [
    "final = pd.DataFrame()\n",
    "base = merged.groupby(['Player', 'Season']).mean()\n",
    "final['Player'] = [i[0] for i in base.index]\n",
    "final['Season'] = [i[1] for i in base.index]\n",
    "final['Score'] = [i for i in base.Score]\n",
    "\n",
    "for age in range(18, 50):\n",
    "    final['O'+str(age)] = 0\n",
    "\n",
    "for idx in range(0, len(agescores)):\n",
    "    final['O' + str(int(agescores.index[idx][2]))] = np.where(((final.Player == agescores.index[idx][0]) & (final.Season == agescores.index[idx][1])), agescores.SeasonPCT[idx], final['O' + str(int(agescores.index[idx][2]))]) \n",
    "final['Entry'] = ((final.Season.shift() - final.Season) != -10001.0) | (final.Player.shift() != final.Player)\n",
    "final['Exit'] = (((final.Season.shift(-1) - final.Season) != 10001.0) | (final.Player.shift(-1) != final.Player)) & (final.Season != 20222023.0)\n",
    "\n",
    "final.to_csv('age_encodings.csv')"
   ]
  },
  {
   "cell_type": "code",
   "execution_count": 498,
   "metadata": {},
   "outputs": [
    {
     "name": "stdout",
     "output_type": "stream",
     "text": [
      "18.0 -0.3674098693875436\n",
      "19.0 -0.2399717752287932\n",
      "20.0 -0.23098132237841504\n",
      "21.0 -0.239005513850067\n",
      "22.0 -0.17125302714394958\n",
      "23.0 -0.18151094818778493\n",
      "24.0 -0.18529745824194413\n",
      "25.0 -0.1737950772014055\n",
      "26.0 -0.19858830113643483\n",
      "27.0 -0.19957843392275681\n",
      "28.0 -0.21023159307638203\n",
      "29.0 -0.1973486450029603\n",
      "30.0 -0.19278783307916592\n",
      "31.0 -0.19100460828196794\n",
      "32.0 -0.21681680636085138\n",
      "33.0 -0.21197492083097202\n",
      "34.0 -0.2053412508743638\n",
      "35.0 -0.3022356419443061\n",
      "36.0 -0.24644614778162488\n",
      "37.0 -0.17560101000522482\n",
      "38.0 -0.1582611080836638\n",
      "39.0 -0.13015765265289553\n",
      "40.0 -0.04097368669915049\n",
      "41.0 0.23310371369821686\n",
      "42.0 -0.08329229541482776\n"
     ]
    },
    {
     "ename": "KeyboardInterrupt",
     "evalue": "",
     "output_type": "error",
     "traceback": [
      "\u001b[1;31m---------------------------------------------------------------------------\u001b[0m",
      "\u001b[1;31mKeyboardInterrupt\u001b[0m                         Traceback (most recent call last)",
      "Cell \u001b[1;32mIn[498], line 23\u001b[0m\n\u001b[0;32m     21\u001b[0m x \u001b[39m=\u001b[39m \u001b[39m1\u001b[39m\n\u001b[0;32m     22\u001b[0m \u001b[39mwhile\u001b[39;00m x \u001b[39m>\u001b[39m thresh:\n\u001b[1;32m---> 23\u001b[0m     thresh \u001b[39m=\u001b[39m norm\u001b[39m.\u001b[39;49mppf(\u001b[39m0.75\u001b[39;49m, loc\u001b[39m=\u001b[39;49mmean, scale\u001b[39m=\u001b[39;49mscale)\n\u001b[0;32m     24\u001b[0m     x \u001b[39m=\u001b[39m random\u001b[39m.\u001b[39mnormal(loc\u001b[39m=\u001b[39mmean, scale\u001b[39m=\u001b[39mscale)\n\u001b[0;32m     26\u001b[0m hs\u001b[39m.\u001b[39mappend(x)\n",
      "File \u001b[1;32mc:\\Users\\jetso\\AppData\\Local\\Programs\\Python\\Python311\\Lib\\site-packages\\scipy\\stats\\_distn_infrastructure.py:2359\u001b[0m, in \u001b[0;36mrv_continuous.ppf\u001b[1;34m(self, q, *args, **kwds)\u001b[0m\n\u001b[0;32m   2357\u001b[0m     goodargs \u001b[39m=\u001b[39m argsreduce(cond, \u001b[39m*\u001b[39m((q,)\u001b[39m+\u001b[39margs\u001b[39m+\u001b[39m(scale, loc)))\n\u001b[0;32m   2358\u001b[0m     scale, loc, goodargs \u001b[39m=\u001b[39m goodargs[\u001b[39m-\u001b[39m\u001b[39m2\u001b[39m], goodargs[\u001b[39m-\u001b[39m\u001b[39m1\u001b[39m], goodargs[:\u001b[39m-\u001b[39m\u001b[39m2\u001b[39m]\n\u001b[1;32m-> 2359\u001b[0m     place(output, cond, \u001b[39mself\u001b[39;49m\u001b[39m.\u001b[39;49m_ppf(\u001b[39m*\u001b[39;49mgoodargs) \u001b[39m*\u001b[39;49m scale \u001b[39m+\u001b[39;49m loc)\n\u001b[0;32m   2360\u001b[0m \u001b[39mif\u001b[39;00m output\u001b[39m.\u001b[39mndim \u001b[39m==\u001b[39m \u001b[39m0\u001b[39m:\n\u001b[0;32m   2361\u001b[0m     \u001b[39mreturn\u001b[39;00m output[()]\n",
      "File \u001b[1;32m<__array_function__ internals>:200\u001b[0m, in \u001b[0;36mplace\u001b[1;34m(*args, **kwargs)\u001b[0m\n",
      "File \u001b[1;32mc:\\Users\\jetso\\AppData\\Local\\Programs\\Python\\Python311\\Lib\\site-packages\\numpy\\lib\\function_base.py:1954\u001b[0m, in \u001b[0;36mplace\u001b[1;34m(arr, mask, vals)\u001b[0m\n\u001b[0;32m   1950\u001b[0m \u001b[39mif\u001b[39;00m \u001b[39mnot\u001b[39;00m \u001b[39misinstance\u001b[39m(arr, np\u001b[39m.\u001b[39mndarray):\n\u001b[0;32m   1951\u001b[0m     \u001b[39mraise\u001b[39;00m \u001b[39mTypeError\u001b[39;00m(\u001b[39m\"\u001b[39m\u001b[39margument 1 must be numpy.ndarray, \u001b[39m\u001b[39m\"\u001b[39m\n\u001b[0;32m   1952\u001b[0m                     \u001b[39m\"\u001b[39m\u001b[39mnot \u001b[39m\u001b[39m{name}\u001b[39;00m\u001b[39m\"\u001b[39m\u001b[39m.\u001b[39mformat(name\u001b[39m=\u001b[39m\u001b[39mtype\u001b[39m(arr)\u001b[39m.\u001b[39m\u001b[39m__name__\u001b[39m))\n\u001b[1;32m-> 1954\u001b[0m \u001b[39mreturn\u001b[39;00m _insert(arr, mask, vals)\n",
      "\u001b[1;31mKeyboardInterrupt\u001b[0m: "
     ]
    }
   ],
   "source": [
    "\n",
    "\n",
    "ages = pd.read_csv('d_age_values.csv')\n",
    "for k in range(0, len(ages)):\n",
    "\n",
    "    mean = ages['Scored'].to_list()[k]\n",
    "\n",
    "    scale = ages['Scorex'].to_list()[k]\n",
    "\n",
    "    n = ages['Date'].to_list()[k]\n",
    "\n",
    "\n",
    "\n",
    "    hs = []\n",
    "    trials = []\n",
    "    for j in range(0, 1000):\n",
    "        for i in range(0, 967-n):\n",
    "\n",
    "            thresh = 0\n",
    "            x = 1\n",
    "            while x > thresh:\n",
    "                thresh = norm.ppf(0.75, loc=mean, scale=scale)\n",
    "                x = random.normal(loc=mean, scale=scale)\n",
    "            \n",
    "            hs.append(x)\n",
    "        trials.append(sum(hs) / len(hs))\n",
    "    print(ages['RoundAge'].to_list()[k], sum(trials) / len(trials))"
   ]
  },
  {
   "cell_type": "code",
   "execution_count": 37,
   "metadata": {},
   "outputs": [
    {
     "data": {
      "text/plain": [
       "nan"
      ]
     },
     "execution_count": 37,
     "metadata": {},
     "output_type": "execute_result"
    }
   ],
   "source": [
    "df['Potential'].std()"
   ]
  },
  {
   "cell_type": "code",
   "execution_count": 64,
   "metadata": {},
   "outputs": [
    {
     "name": "stderr",
     "output_type": "stream",
     "text": [
      "c:\\Users\\jetso\\AppData\\Local\\Programs\\Python\\Python311\\Lib\\site-packages\\scipy\\stats\\_distn_infrastructure.py:2351: RuntimeWarning: invalid value encountered in multiply\n",
      "  lower_bound = _a * scale + loc\n",
      "c:\\Users\\jetso\\AppData\\Local\\Programs\\Python\\Python311\\Lib\\site-packages\\scipy\\stats\\_distn_infrastructure.py:2352: RuntimeWarning: invalid value encountered in multiply\n",
      "  upper_bound = _b * scale + loc\n",
      "c:\\Users\\jetso\\AppData\\Local\\Programs\\Python\\Python311\\Lib\\site-packages\\scipy\\stats\\_distn_infrastructure.py:2351: RuntimeWarning: invalid value encountered in multiply\n",
      "  lower_bound = _a * scale + loc\n",
      "c:\\Users\\jetso\\AppData\\Local\\Programs\\Python\\Python311\\Lib\\site-packages\\scipy\\stats\\_distn_infrastructure.py:2352: RuntimeWarning: invalid value encountered in multiply\n",
      "  upper_bound = _b * scale + loc\n",
      "c:\\Users\\jetso\\AppData\\Local\\Programs\\Python\\Python311\\Lib\\site-packages\\scipy\\stats\\_distn_infrastructure.py:2351: RuntimeWarning: invalid value encountered in multiply\n",
      "  lower_bound = _a * scale + loc\n",
      "c:\\Users\\jetso\\AppData\\Local\\Programs\\Python\\Python311\\Lib\\site-packages\\scipy\\stats\\_distn_infrastructure.py:2352: RuntimeWarning: invalid value encountered in multiply\n",
      "  upper_bound = _b * scale + loc\n",
      "c:\\Users\\jetso\\AppData\\Local\\Programs\\Python\\Python311\\Lib\\site-packages\\scipy\\stats\\_distn_infrastructure.py:2351: RuntimeWarning: invalid value encountered in multiply\n",
      "  lower_bound = _a * scale + loc\n",
      "c:\\Users\\jetso\\AppData\\Local\\Programs\\Python\\Python311\\Lib\\site-packages\\scipy\\stats\\_distn_infrastructure.py:2352: RuntimeWarning: invalid value encountered in multiply\n",
      "  upper_bound = _b * scale + loc\n",
      "c:\\Users\\jetso\\AppData\\Local\\Programs\\Python\\Python311\\Lib\\site-packages\\scipy\\stats\\_distn_infrastructure.py:2351: RuntimeWarning: invalid value encountered in multiply\n",
      "  lower_bound = _a * scale + loc\n",
      "c:\\Users\\jetso\\AppData\\Local\\Programs\\Python\\Python311\\Lib\\site-packages\\scipy\\stats\\_distn_infrastructure.py:2352: RuntimeWarning: invalid value encountered in multiply\n",
      "  upper_bound = _b * scale + loc\n",
      "c:\\Users\\jetso\\AppData\\Local\\Programs\\Python\\Python311\\Lib\\site-packages\\scipy\\stats\\_distn_infrastructure.py:2351: RuntimeWarning: invalid value encountered in multiply\n",
      "  lower_bound = _a * scale + loc\n",
      "c:\\Users\\jetso\\AppData\\Local\\Programs\\Python\\Python311\\Lib\\site-packages\\scipy\\stats\\_distn_infrastructure.py:2352: RuntimeWarning: invalid value encountered in multiply\n",
      "  upper_bound = _b * scale + loc\n",
      "c:\\Users\\jetso\\AppData\\Local\\Programs\\Python\\Python311\\Lib\\site-packages\\scipy\\stats\\_distn_infrastructure.py:2351: RuntimeWarning: invalid value encountered in multiply\n",
      "  lower_bound = _a * scale + loc\n",
      "c:\\Users\\jetso\\AppData\\Local\\Programs\\Python\\Python311\\Lib\\site-packages\\scipy\\stats\\_distn_infrastructure.py:2352: RuntimeWarning: invalid value encountered in multiply\n",
      "  upper_bound = _b * scale + loc\n",
      "c:\\Users\\jetso\\AppData\\Local\\Programs\\Python\\Python311\\Lib\\site-packages\\scipy\\stats\\_distn_infrastructure.py:2351: RuntimeWarning: invalid value encountered in multiply\n",
      "  lower_bound = _a * scale + loc\n",
      "c:\\Users\\jetso\\AppData\\Local\\Programs\\Python\\Python311\\Lib\\site-packages\\scipy\\stats\\_distn_infrastructure.py:2352: RuntimeWarning: invalid value encountered in multiply\n",
      "  upper_bound = _b * scale + loc\n",
      "c:\\Users\\jetso\\AppData\\Local\\Programs\\Python\\Python311\\Lib\\site-packages\\scipy\\stats\\_distn_infrastructure.py:2351: RuntimeWarning: invalid value encountered in multiply\n",
      "  lower_bound = _a * scale + loc\n",
      "c:\\Users\\jetso\\AppData\\Local\\Programs\\Python\\Python311\\Lib\\site-packages\\scipy\\stats\\_distn_infrastructure.py:2352: RuntimeWarning: invalid value encountered in multiply\n",
      "  upper_bound = _b * scale + loc\n",
      "c:\\Users\\jetso\\AppData\\Local\\Programs\\Python\\Python311\\Lib\\site-packages\\scipy\\stats\\_distn_infrastructure.py:2351: RuntimeWarning: invalid value encountered in multiply\n",
      "  lower_bound = _a * scale + loc\n",
      "c:\\Users\\jetso\\AppData\\Local\\Programs\\Python\\Python311\\Lib\\site-packages\\scipy\\stats\\_distn_infrastructure.py:2352: RuntimeWarning: invalid value encountered in multiply\n",
      "  upper_bound = _b * scale + loc\n",
      "c:\\Users\\jetso\\AppData\\Local\\Programs\\Python\\Python311\\Lib\\site-packages\\scipy\\stats\\_distn_infrastructure.py:2351: RuntimeWarning: invalid value encountered in multiply\n",
      "  lower_bound = _a * scale + loc\n",
      "c:\\Users\\jetso\\AppData\\Local\\Programs\\Python\\Python311\\Lib\\site-packages\\scipy\\stats\\_distn_infrastructure.py:2352: RuntimeWarning: invalid value encountered in multiply\n",
      "  upper_bound = _b * scale + loc\n",
      "c:\\Users\\jetso\\AppData\\Local\\Programs\\Python\\Python311\\Lib\\site-packages\\scipy\\stats\\_distn_infrastructure.py:2351: RuntimeWarning: invalid value encountered in multiply\n",
      "  lower_bound = _a * scale + loc\n",
      "c:\\Users\\jetso\\AppData\\Local\\Programs\\Python\\Python311\\Lib\\site-packages\\scipy\\stats\\_distn_infrastructure.py:2352: RuntimeWarning: invalid value encountered in multiply\n",
      "  upper_bound = _b * scale + loc\n",
      "c:\\Users\\jetso\\AppData\\Local\\Programs\\Python\\Python311\\Lib\\site-packages\\scipy\\stats\\_distn_infrastructure.py:2351: RuntimeWarning: invalid value encountered in multiply\n",
      "  lower_bound = _a * scale + loc\n",
      "c:\\Users\\jetso\\AppData\\Local\\Programs\\Python\\Python311\\Lib\\site-packages\\scipy\\stats\\_distn_infrastructure.py:2352: RuntimeWarning: invalid value encountered in multiply\n",
      "  upper_bound = _b * scale + loc\n",
      "c:\\Users\\jetso\\AppData\\Local\\Programs\\Python\\Python311\\Lib\\site-packages\\scipy\\stats\\_distn_infrastructure.py:2351: RuntimeWarning: invalid value encountered in multiply\n",
      "  lower_bound = _a * scale + loc\n",
      "c:\\Users\\jetso\\AppData\\Local\\Programs\\Python\\Python311\\Lib\\site-packages\\scipy\\stats\\_distn_infrastructure.py:2352: RuntimeWarning: invalid value encountered in multiply\n",
      "  upper_bound = _b * scale + loc\n",
      "c:\\Users\\jetso\\AppData\\Local\\Programs\\Python\\Python311\\Lib\\site-packages\\scipy\\stats\\_distn_infrastructure.py:2351: RuntimeWarning: invalid value encountered in multiply\n",
      "  lower_bound = _a * scale + loc\n",
      "c:\\Users\\jetso\\AppData\\Local\\Programs\\Python\\Python311\\Lib\\site-packages\\scipy\\stats\\_distn_infrastructure.py:2352: RuntimeWarning: invalid value encountered in multiply\n",
      "  upper_bound = _b * scale + loc\n",
      "c:\\Users\\jetso\\AppData\\Local\\Programs\\Python\\Python311\\Lib\\site-packages\\scipy\\stats\\_distn_infrastructure.py:2351: RuntimeWarning: invalid value encountered in multiply\n",
      "  lower_bound = _a * scale + loc\n",
      "c:\\Users\\jetso\\AppData\\Local\\Programs\\Python\\Python311\\Lib\\site-packages\\scipy\\stats\\_distn_infrastructure.py:2352: RuntimeWarning: invalid value encountered in multiply\n",
      "  upper_bound = _b * scale + loc\n",
      "c:\\Users\\jetso\\AppData\\Local\\Programs\\Python\\Python311\\Lib\\site-packages\\scipy\\stats\\_distn_infrastructure.py:2351: RuntimeWarning: invalid value encountered in multiply\n",
      "  lower_bound = _a * scale + loc\n",
      "c:\\Users\\jetso\\AppData\\Local\\Programs\\Python\\Python311\\Lib\\site-packages\\scipy\\stats\\_distn_infrastructure.py:2352: RuntimeWarning: invalid value encountered in multiply\n",
      "  upper_bound = _b * scale + loc\n",
      "c:\\Users\\jetso\\AppData\\Local\\Programs\\Python\\Python311\\Lib\\site-packages\\scipy\\stats\\_distn_infrastructure.py:2351: RuntimeWarning: invalid value encountered in multiply\n",
      "  lower_bound = _a * scale + loc\n",
      "c:\\Users\\jetso\\AppData\\Local\\Programs\\Python\\Python311\\Lib\\site-packages\\scipy\\stats\\_distn_infrastructure.py:2352: RuntimeWarning: invalid value encountered in multiply\n",
      "  upper_bound = _b * scale + loc\n",
      "c:\\Users\\jetso\\AppData\\Local\\Programs\\Python\\Python311\\Lib\\site-packages\\scipy\\stats\\_distn_infrastructure.py:2351: RuntimeWarning: invalid value encountered in multiply\n",
      "  lower_bound = _a * scale + loc\n",
      "c:\\Users\\jetso\\AppData\\Local\\Programs\\Python\\Python311\\Lib\\site-packages\\scipy\\stats\\_distn_infrastructure.py:2352: RuntimeWarning: invalid value encountered in multiply\n",
      "  upper_bound = _b * scale + loc\n",
      "c:\\Users\\jetso\\AppData\\Local\\Programs\\Python\\Python311\\Lib\\site-packages\\scipy\\stats\\_distn_infrastructure.py:2351: RuntimeWarning: invalid value encountered in multiply\n",
      "  lower_bound = _a * scale + loc\n",
      "c:\\Users\\jetso\\AppData\\Local\\Programs\\Python\\Python311\\Lib\\site-packages\\scipy\\stats\\_distn_infrastructure.py:2352: RuntimeWarning: invalid value encountered in multiply\n",
      "  upper_bound = _b * scale + loc\n",
      "c:\\Users\\jetso\\AppData\\Local\\Programs\\Python\\Python311\\Lib\\site-packages\\scipy\\stats\\_distn_infrastructure.py:2351: RuntimeWarning: invalid value encountered in multiply\n",
      "  lower_bound = _a * scale + loc\n",
      "c:\\Users\\jetso\\AppData\\Local\\Programs\\Python\\Python311\\Lib\\site-packages\\scipy\\stats\\_distn_infrastructure.py:2352: RuntimeWarning: invalid value encountered in multiply\n",
      "  upper_bound = _b * scale + loc\n"
     ]
    },
    {
     "data": {
      "text/html": [
       "<div>\n",
       "<style scoped>\n",
       "    .dataframe tbody tr th:only-of-type {\n",
       "        vertical-align: middle;\n",
       "    }\n",
       "\n",
       "    .dataframe tbody tr th {\n",
       "        vertical-align: top;\n",
       "    }\n",
       "\n",
       "    .dataframe thead th {\n",
       "        text-align: right;\n",
       "    }\n",
       "</style>\n",
       "<table border=\"1\" class=\"dataframe\">\n",
       "  <thead>\n",
       "    <tr style=\"text-align: right;\">\n",
       "      <th></th>\n",
       "      <th>Player</th>\n",
       "      <th>Age</th>\n",
       "      <th>Position</th>\n",
       "      <th>Team</th>\n",
       "      <th>Raw</th>\n",
       "      <th>Overall</th>\n",
       "      <th>Potential</th>\n",
       "      <th>Long Term Overall</th>\n",
       "      <th>Hot Index</th>\n",
       "    </tr>\n",
       "  </thead>\n",
       "  <tbody>\n",
       "    <tr>\n",
       "      <th>149</th>\n",
       "      <td>Brent Burns</td>\n",
       "      <td>38.1</td>\n",
       "      <td>D</td>\n",
       "      <td>Carolina Hurricanes</td>\n",
       "      <td>0.983324</td>\n",
       "      <td>85</td>\n",
       "      <td>85</td>\n",
       "      <td>91</td>\n",
       "      <td>6</td>\n",
       "    </tr>\n",
       "    <tr>\n",
       "      <th>346</th>\n",
       "      <td>Clayton Keller</td>\n",
       "      <td>24.7</td>\n",
       "      <td>R</td>\n",
       "      <td>Arizona Coyotes</td>\n",
       "      <td>0.684028</td>\n",
       "      <td>80</td>\n",
       "      <td>81</td>\n",
       "      <td>86</td>\n",
       "      <td>6</td>\n",
       "    </tr>\n",
       "    <tr>\n",
       "      <th>344</th>\n",
       "      <td>Barrett Hayton</td>\n",
       "      <td>22.8</td>\n",
       "      <td>C</td>\n",
       "      <td>Arizona Coyotes</td>\n",
       "      <td>0.383700</td>\n",
       "      <td>76</td>\n",
       "      <td>76</td>\n",
       "      <td>82</td>\n",
       "      <td>6</td>\n",
       "    </tr>\n",
       "    <tr>\n",
       "      <th>180</th>\n",
       "      <td>Vladislav Gavrikov</td>\n",
       "      <td>27.3</td>\n",
       "      <td>D</td>\n",
       "      <td>Los Angeles Kings</td>\n",
       "      <td>-0.014289</td>\n",
       "      <td>71</td>\n",
       "      <td>73</td>\n",
       "      <td>76</td>\n",
       "      <td>5</td>\n",
       "    </tr>\n",
       "    <tr>\n",
       "      <th>138</th>\n",
       "      <td>Jake DeBrusk</td>\n",
       "      <td>26.4</td>\n",
       "      <td>L</td>\n",
       "      <td>Boston Bruins</td>\n",
       "      <td>0.937570</td>\n",
       "      <td>84</td>\n",
       "      <td>84</td>\n",
       "      <td>89</td>\n",
       "      <td>5</td>\n",
       "    </tr>\n",
       "    <tr>\n",
       "      <th>305</th>\n",
       "      <td>Ryan Nugent-Hopkins</td>\n",
       "      <td>30.0</td>\n",
       "      <td>C</td>\n",
       "      <td>Edmonton Oilers</td>\n",
       "      <td>0.921356</td>\n",
       "      <td>84</td>\n",
       "      <td>84</td>\n",
       "      <td>89</td>\n",
       "      <td>5</td>\n",
       "    </tr>\n",
       "    <tr>\n",
       "      <th>455</th>\n",
       "      <td>Brandon Montour</td>\n",
       "      <td>29.0</td>\n",
       "      <td>D</td>\n",
       "      <td>Florida Panthers</td>\n",
       "      <td>0.718476</td>\n",
       "      <td>81</td>\n",
       "      <td>81</td>\n",
       "      <td>86</td>\n",
       "      <td>5</td>\n",
       "    </tr>\n",
       "    <tr>\n",
       "      <th>382</th>\n",
       "      <td>Damon Severson</td>\n",
       "      <td>28.6</td>\n",
       "      <td>D</td>\n",
       "      <td>New Jersey Devils</td>\n",
       "      <td>0.699063</td>\n",
       "      <td>81</td>\n",
       "      <td>81</td>\n",
       "      <td>86</td>\n",
       "      <td>5</td>\n",
       "    </tr>\n",
       "    <tr>\n",
       "      <th>525</th>\n",
       "      <td>Tyler Toffoli</td>\n",
       "      <td>30.9</td>\n",
       "      <td>R</td>\n",
       "      <td>Calgary Flames</td>\n",
       "      <td>0.860085</td>\n",
       "      <td>83</td>\n",
       "      <td>83</td>\n",
       "      <td>88</td>\n",
       "      <td>5</td>\n",
       "    </tr>\n",
       "    <tr>\n",
       "      <th>78</th>\n",
       "      <td>Anze Kopitar</td>\n",
       "      <td>35.6</td>\n",
       "      <td>C</td>\n",
       "      <td>Los Angeles Kings</td>\n",
       "      <td>0.878937</td>\n",
       "      <td>83</td>\n",
       "      <td>85</td>\n",
       "      <td>88</td>\n",
       "      <td>5</td>\n",
       "    </tr>\n",
       "    <tr>\n",
       "      <th>75</th>\n",
       "      <td>Adrian Kempe</td>\n",
       "      <td>26.5</td>\n",
       "      <td>R</td>\n",
       "      <td>Los Angeles Kings</td>\n",
       "      <td>0.639912</td>\n",
       "      <td>80</td>\n",
       "      <td>80</td>\n",
       "      <td>85</td>\n",
       "      <td>5</td>\n",
       "    </tr>\n",
       "    <tr>\n",
       "      <th>474</th>\n",
       "      <td>Jamie Benn</td>\n",
       "      <td>33.7</td>\n",
       "      <td>L</td>\n",
       "      <td>Dallas Stars</td>\n",
       "      <td>0.806278</td>\n",
       "      <td>82</td>\n",
       "      <td>84</td>\n",
       "      <td>86</td>\n",
       "      <td>4</td>\n",
       "    </tr>\n",
       "    <tr>\n",
       "      <th>288</th>\n",
       "      <td>Vince Dunn</td>\n",
       "      <td>26.4</td>\n",
       "      <td>D</td>\n",
       "      <td>Seattle Kraken</td>\n",
       "      <td>0.574575</td>\n",
       "      <td>79</td>\n",
       "      <td>80</td>\n",
       "      <td>83</td>\n",
       "      <td>4</td>\n",
       "    </tr>\n",
       "    <tr>\n",
       "      <th>546</th>\n",
       "      <td>Michael Rasmussen</td>\n",
       "      <td>23.9</td>\n",
       "      <td>C</td>\n",
       "      <td>Detroit Red Wings</td>\n",
       "      <td>0.322677</td>\n",
       "      <td>75</td>\n",
       "      <td>75</td>\n",
       "      <td>79</td>\n",
       "      <td>4</td>\n",
       "    </tr>\n",
       "    <tr>\n",
       "      <th>294</th>\n",
       "      <td>Connor McDavid</td>\n",
       "      <td>26.2</td>\n",
       "      <td>C</td>\n",
       "      <td>Edmonton Oilers</td>\n",
       "      <td>1.742617</td>\n",
       "      <td>95</td>\n",
       "      <td>96</td>\n",
       "      <td>99</td>\n",
       "      <td>4</td>\n",
       "    </tr>\n",
       "    <tr>\n",
       "      <th>137</th>\n",
       "      <td>Hampus Lindholm</td>\n",
       "      <td>29.2</td>\n",
       "      <td>D</td>\n",
       "      <td>Boston Bruins</td>\n",
       "      <td>0.785298</td>\n",
       "      <td>82</td>\n",
       "      <td>82</td>\n",
       "      <td>86</td>\n",
       "      <td>4</td>\n",
       "    </tr>\n",
       "    <tr>\n",
       "      <th>577</th>\n",
       "      <td>Nico Hischier</td>\n",
       "      <td>24.2</td>\n",
       "      <td>C</td>\n",
       "      <td>New Jersey Devils</td>\n",
       "      <td>1.092298</td>\n",
       "      <td>86</td>\n",
       "      <td>88</td>\n",
       "      <td>90</td>\n",
       "      <td>4</td>\n",
       "    </tr>\n",
       "    <tr>\n",
       "      <th>85</th>\n",
       "      <td>Matt Roy</td>\n",
       "      <td>28.1</td>\n",
       "      <td>D</td>\n",
       "      <td>Los Angeles Kings</td>\n",
       "      <td>0.556345</td>\n",
       "      <td>79</td>\n",
       "      <td>79</td>\n",
       "      <td>83</td>\n",
       "      <td>4</td>\n",
       "    </tr>\n",
       "    <tr>\n",
       "      <th>321</th>\n",
       "      <td>Quinn Hughes</td>\n",
       "      <td>23.4</td>\n",
       "      <td>D</td>\n",
       "      <td>Vancouver Canucks</td>\n",
       "      <td>0.627024</td>\n",
       "      <td>80</td>\n",
       "      <td>82</td>\n",
       "      <td>84</td>\n",
       "      <td>4</td>\n",
       "    </tr>\n",
       "    <tr>\n",
       "      <th>373</th>\n",
       "      <td>Owen Tippett</td>\n",
       "      <td>24.1</td>\n",
       "      <td>R</td>\n",
       "      <td>Philadelphia Flyers</td>\n",
       "      <td>0.403808</td>\n",
       "      <td>76</td>\n",
       "      <td>78</td>\n",
       "      <td>80</td>\n",
       "      <td>4</td>\n",
       "    </tr>\n",
       "  </tbody>\n",
       "</table>\n",
       "</div>"
      ],
      "text/plain": [
       "                  Player   Age Position                 Team       Raw  \\\n",
       "149          Brent Burns  38.1        D  Carolina Hurricanes  0.983324   \n",
       "346       Clayton Keller  24.7        R      Arizona Coyotes  0.684028   \n",
       "344       Barrett Hayton  22.8        C      Arizona Coyotes  0.383700   \n",
       "180   Vladislav Gavrikov  27.3        D    Los Angeles Kings -0.014289   \n",
       "138         Jake DeBrusk  26.4        L        Boston Bruins  0.937570   \n",
       "305  Ryan Nugent-Hopkins  30.0        C      Edmonton Oilers  0.921356   \n",
       "455      Brandon Montour  29.0        D     Florida Panthers  0.718476   \n",
       "382       Damon Severson  28.6        D    New Jersey Devils  0.699063   \n",
       "525        Tyler Toffoli  30.9        R       Calgary Flames  0.860085   \n",
       "78          Anze Kopitar  35.6        C    Los Angeles Kings  0.878937   \n",
       "75          Adrian Kempe  26.5        R    Los Angeles Kings  0.639912   \n",
       "474           Jamie Benn  33.7        L         Dallas Stars  0.806278   \n",
       "288           Vince Dunn  26.4        D       Seattle Kraken  0.574575   \n",
       "546    Michael Rasmussen  23.9        C    Detroit Red Wings  0.322677   \n",
       "294       Connor McDavid  26.2        C      Edmonton Oilers  1.742617   \n",
       "137      Hampus Lindholm  29.2        D        Boston Bruins  0.785298   \n",
       "577        Nico Hischier  24.2        C    New Jersey Devils  1.092298   \n",
       "85              Matt Roy  28.1        D    Los Angeles Kings  0.556345   \n",
       "321         Quinn Hughes  23.4        D    Vancouver Canucks  0.627024   \n",
       "373         Owen Tippett  24.1        R  Philadelphia Flyers  0.403808   \n",
       "\n",
       "     Overall  Potential  Long Term Overall  Hot Index  \n",
       "149       85         85                 91          6  \n",
       "346       80         81                 86          6  \n",
       "344       76         76                 82          6  \n",
       "180       71         73                 76          5  \n",
       "138       84         84                 89          5  \n",
       "305       84         84                 89          5  \n",
       "455       81         81                 86          5  \n",
       "382       81         81                 86          5  \n",
       "525       83         83                 88          5  \n",
       "78        83         85                 88          5  \n",
       "75        80         80                 85          5  \n",
       "474       82         84                 86          4  \n",
       "288       79         80                 83          4  \n",
       "546       75         75                 79          4  \n",
       "294       95         96                 99          4  \n",
       "137       82         82                 86          4  \n",
       "577       86         88                 90          4  \n",
       "85        79         79                 83          4  \n",
       "321       80         82                 84          4  \n",
       "373       76         78                 80          4  "
      ]
     },
     "execution_count": 64,
     "metadata": {},
     "output_type": "execute_result"
    }
   ],
   "source": [
    "players = merged[merged.Season == 20222023].Player.unique()\n",
    "names = []\n",
    "ovrs = []\n",
    "pots = []\n",
    "teams = []\n",
    "gps= []\n",
    "pos = []\n",
    "ages = []\n",
    "raw = []\n",
    "hots = []\n",
    "for player in players:\n",
    "    df = pd.read_csv(f'projections/20222023/{player.replace(\" \", \"_\")}.csv')\n",
    "    thresh = max(0, norm.ppf(0.95, loc=df['Potential'].mean(), scale=df['Potential'].std()))\n",
    "    recent = df['Potential'].to_list()[-1]\n",
    "    names.append(player)\n",
    "    teams.append(df['Team'].to_list()[-1])\n",
    "    raw.append(df['XGB'].to_list()[-1])\n",
    "    ovrs.append(min(99, round(100*(df['XGB'].to_list()[-1]+5)/(7.07))))\n",
    "    blend = min(2, (thresh+recent)/2)\n",
    "    pots.append(max(round(100*(df['XGB'].to_list()[-1]+5)/(7.07)), round(100*(blend+5)/(7.07))))\n",
    "    gps.append(len(df))\n",
    "    pos.append(df['Position'].to_list()[-1])\n",
    "    ages.append(round(df['Age'].to_list()[-1], 1))\n",
    "    hots.append(min(99, round(100*(df['Kalman'].to_list()[-1]+5)/(7.07))))\n",
    "\n",
    "ratings = pd.DataFrame()\n",
    "\n",
    "ratings['Player'] = names\n",
    "ratings['Age'] = ages\n",
    "\n",
    "ratings['Position'] = pos\n",
    "\n",
    "ratings['Team'] = teams\n",
    "ratings['Raw'] = raw\n",
    "ratings['Overall'] = ovrs\n",
    "ratings['Potential'] = pots\n",
    "ratings['Long Term Overall'] = hots\n",
    "ratings['Hot Index'] = ratings['Long Term Overall'] - ratings['Overall'] \n",
    "ratings.to_csv('pages/ratings/data/ratings23.csv', index=False)\n",
    "ratings.sort_values(by='Hot Index', ascending=False).head(20)"
   ]
  },
  {
   "cell_type": "code",
   "execution_count": 78,
   "metadata": {},
   "outputs": [
    {
     "name": "stderr",
     "output_type": "stream",
     "text": [
      "C:\\Users\\jetso\\AppData\\Local\\Temp\\ipykernel_24348\\1232001838.py:1: UserWarning: Boolean Series key will be reindexed to match DataFrame index.\n",
      "  ratings.sort_values(by='Hot Index', ascending=False)[(ratings.Age < 35)].head(30)\n"
     ]
    },
    {
     "data": {
      "text/html": [
       "<div>\n",
       "<style scoped>\n",
       "    .dataframe tbody tr th:only-of-type {\n",
       "        vertical-align: middle;\n",
       "    }\n",
       "\n",
       "    .dataframe tbody tr th {\n",
       "        vertical-align: top;\n",
       "    }\n",
       "\n",
       "    .dataframe thead th {\n",
       "        text-align: right;\n",
       "    }\n",
       "</style>\n",
       "<table border=\"1\" class=\"dataframe\">\n",
       "  <thead>\n",
       "    <tr style=\"text-align: right;\">\n",
       "      <th></th>\n",
       "      <th>Player</th>\n",
       "      <th>Age</th>\n",
       "      <th>Position</th>\n",
       "      <th>Team</th>\n",
       "      <th>Raw</th>\n",
       "      <th>Overall</th>\n",
       "      <th>Potential</th>\n",
       "      <th>Long Term Overall</th>\n",
       "      <th>Hot Index</th>\n",
       "    </tr>\n",
       "  </thead>\n",
       "  <tbody>\n",
       "    <tr>\n",
       "      <th>232</th>\n",
       "      <td>Lukas Sedlak</td>\n",
       "      <td>29.8</td>\n",
       "      <td>C</td>\n",
       "      <td>Philadelphia Flyers</td>\n",
       "      <td>0.525783</td>\n",
       "      <td>78</td>\n",
       "      <td>78</td>\n",
       "      <td>75</td>\n",
       "      <td>-3</td>\n",
       "    </tr>\n",
       "    <tr>\n",
       "      <th>362</th>\n",
       "      <td>Egor Zamula</td>\n",
       "      <td>NaN</td>\n",
       "      <td>D</td>\n",
       "      <td>Philadelphia Flyers</td>\n",
       "      <td>0.180327</td>\n",
       "      <td>73</td>\n",
       "      <td>74</td>\n",
       "      <td>73</td>\n",
       "      <td>0</td>\n",
       "    </tr>\n",
       "    <tr>\n",
       "      <th>363</th>\n",
       "      <td>Hayden Hodgson</td>\n",
       "      <td>26.6</td>\n",
       "      <td>R</td>\n",
       "      <td>Philadelphia Flyers</td>\n",
       "      <td>0.040223</td>\n",
       "      <td>71</td>\n",
       "      <td>72</td>\n",
       "      <td>71</td>\n",
       "      <td>0</td>\n",
       "    </tr>\n",
       "    <tr>\n",
       "      <th>364</th>\n",
       "      <td>Ivan Provorov</td>\n",
       "      <td>26.2</td>\n",
       "      <td>D</td>\n",
       "      <td>Philadelphia Flyers</td>\n",
       "      <td>0.124511</td>\n",
       "      <td>72</td>\n",
       "      <td>76</td>\n",
       "      <td>71</td>\n",
       "      <td>-1</td>\n",
       "    </tr>\n",
       "    <tr>\n",
       "      <th>365</th>\n",
       "      <td>James van Riemsdyk</td>\n",
       "      <td>33.9</td>\n",
       "      <td>L</td>\n",
       "      <td>Philadelphia Flyers</td>\n",
       "      <td>0.541178</td>\n",
       "      <td>78</td>\n",
       "      <td>80</td>\n",
       "      <td>77</td>\n",
       "      <td>-1</td>\n",
       "    </tr>\n",
       "    <tr>\n",
       "      <th>366</th>\n",
       "      <td>Joel Farabee</td>\n",
       "      <td>23.1</td>\n",
       "      <td>L</td>\n",
       "      <td>Philadelphia Flyers</td>\n",
       "      <td>0.297576</td>\n",
       "      <td>75</td>\n",
       "      <td>79</td>\n",
       "      <td>74</td>\n",
       "      <td>-1</td>\n",
       "    </tr>\n",
       "    <tr>\n",
       "      <th>367</th>\n",
       "      <td>Justin Braun</td>\n",
       "      <td>36.1</td>\n",
       "      <td>D</td>\n",
       "      <td>Philadelphia Flyers</td>\n",
       "      <td>0.110568</td>\n",
       "      <td>72</td>\n",
       "      <td>77</td>\n",
       "      <td>72</td>\n",
       "      <td>0</td>\n",
       "    </tr>\n",
       "    <tr>\n",
       "      <th>368</th>\n",
       "      <td>Kevin Hayes</td>\n",
       "      <td>30.9</td>\n",
       "      <td>C</td>\n",
       "      <td>Philadelphia Flyers</td>\n",
       "      <td>0.485472</td>\n",
       "      <td>78</td>\n",
       "      <td>79</td>\n",
       "      <td>76</td>\n",
       "      <td>-2</td>\n",
       "    </tr>\n",
       "    <tr>\n",
       "      <th>369</th>\n",
       "      <td>Morgan Frost</td>\n",
       "      <td>23.9</td>\n",
       "      <td>C</td>\n",
       "      <td>Philadelphia Flyers</td>\n",
       "      <td>0.259754</td>\n",
       "      <td>74</td>\n",
       "      <td>75</td>\n",
       "      <td>76</td>\n",
       "      <td>2</td>\n",
       "    </tr>\n",
       "    <tr>\n",
       "      <th>370</th>\n",
       "      <td>Nick Seeler</td>\n",
       "      <td>29.8</td>\n",
       "      <td>D</td>\n",
       "      <td>Philadelphia Flyers</td>\n",
       "      <td>0.246189</td>\n",
       "      <td>74</td>\n",
       "      <td>76</td>\n",
       "      <td>76</td>\n",
       "      <td>2</td>\n",
       "    </tr>\n",
       "    <tr>\n",
       "      <th>371</th>\n",
       "      <td>Nicolas Deslauriers</td>\n",
       "      <td>32.1</td>\n",
       "      <td>L</td>\n",
       "      <td>Philadelphia Flyers</td>\n",
       "      <td>0.072816</td>\n",
       "      <td>72</td>\n",
       "      <td>73</td>\n",
       "      <td>72</td>\n",
       "      <td>0</td>\n",
       "    </tr>\n",
       "    <tr>\n",
       "      <th>372</th>\n",
       "      <td>Noah Cates</td>\n",
       "      <td>24.1</td>\n",
       "      <td>L</td>\n",
       "      <td>Philadelphia Flyers</td>\n",
       "      <td>0.374509</td>\n",
       "      <td>76</td>\n",
       "      <td>77</td>\n",
       "      <td>78</td>\n",
       "      <td>2</td>\n",
       "    </tr>\n",
       "    <tr>\n",
       "      <th>373</th>\n",
       "      <td>Owen Tippett</td>\n",
       "      <td>24.1</td>\n",
       "      <td>R</td>\n",
       "      <td>Philadelphia Flyers</td>\n",
       "      <td>0.403808</td>\n",
       "      <td>76</td>\n",
       "      <td>78</td>\n",
       "      <td>80</td>\n",
       "      <td>4</td>\n",
       "    </tr>\n",
       "    <tr>\n",
       "      <th>374</th>\n",
       "      <td>Scott Laughton</td>\n",
       "      <td>28.8</td>\n",
       "      <td>C</td>\n",
       "      <td>Philadelphia Flyers</td>\n",
       "      <td>0.362809</td>\n",
       "      <td>76</td>\n",
       "      <td>76</td>\n",
       "      <td>77</td>\n",
       "      <td>1</td>\n",
       "    </tr>\n",
       "    <tr>\n",
       "      <th>375</th>\n",
       "      <td>Tanner Laczynski</td>\n",
       "      <td>25.8</td>\n",
       "      <td>C</td>\n",
       "      <td>Philadelphia Flyers</td>\n",
       "      <td>0.051627</td>\n",
       "      <td>71</td>\n",
       "      <td>73</td>\n",
       "      <td>71</td>\n",
       "      <td>0</td>\n",
       "    </tr>\n",
       "    <tr>\n",
       "      <th>376</th>\n",
       "      <td>Tony DeAngelo</td>\n",
       "      <td>27.4</td>\n",
       "      <td>D</td>\n",
       "      <td>Philadelphia Flyers</td>\n",
       "      <td>0.317184</td>\n",
       "      <td>75</td>\n",
       "      <td>78</td>\n",
       "      <td>73</td>\n",
       "      <td>-2</td>\n",
       "    </tr>\n",
       "    <tr>\n",
       "      <th>377</th>\n",
       "      <td>Travis Konecny</td>\n",
       "      <td>26.0</td>\n",
       "      <td>R</td>\n",
       "      <td>Philadelphia Flyers</td>\n",
       "      <td>0.631604</td>\n",
       "      <td>80</td>\n",
       "      <td>81</td>\n",
       "      <td>81</td>\n",
       "      <td>1</td>\n",
       "    </tr>\n",
       "    <tr>\n",
       "      <th>378</th>\n",
       "      <td>Travis Sanheim</td>\n",
       "      <td>27.0</td>\n",
       "      <td>D</td>\n",
       "      <td>Philadelphia Flyers</td>\n",
       "      <td>0.139537</td>\n",
       "      <td>73</td>\n",
       "      <td>75</td>\n",
       "      <td>71</td>\n",
       "      <td>-2</td>\n",
       "    </tr>\n",
       "    <tr>\n",
       "      <th>379</th>\n",
       "      <td>Wade Allison</td>\n",
       "      <td>25.4</td>\n",
       "      <td>R</td>\n",
       "      <td>Philadelphia Flyers</td>\n",
       "      <td>0.163933</td>\n",
       "      <td>73</td>\n",
       "      <td>76</td>\n",
       "      <td>73</td>\n",
       "      <td>0</td>\n",
       "    </tr>\n",
       "    <tr>\n",
       "      <th>442</th>\n",
       "      <td>Kieffer Bellows</td>\n",
       "      <td>24.8</td>\n",
       "      <td>L</td>\n",
       "      <td>Philadelphia Flyers</td>\n",
       "      <td>0.086071</td>\n",
       "      <td>72</td>\n",
       "      <td>74</td>\n",
       "      <td>71</td>\n",
       "      <td>-1</td>\n",
       "    </tr>\n",
       "    <tr>\n",
       "      <th>531</th>\n",
       "      <td>Brendan Lemieux</td>\n",
       "      <td>27.0</td>\n",
       "      <td>L</td>\n",
       "      <td>Philadelphia Flyers</td>\n",
       "      <td>0.244972</td>\n",
       "      <td>74</td>\n",
       "      <td>75</td>\n",
       "      <td>75</td>\n",
       "      <td>1</td>\n",
       "    </tr>\n",
       "    <tr>\n",
       "      <th>572</th>\n",
       "      <td>Jackson Cates</td>\n",
       "      <td>25.2</td>\n",
       "      <td>C</td>\n",
       "      <td>Philadelphia Flyers</td>\n",
       "      <td>-0.059739</td>\n",
       "      <td>70</td>\n",
       "      <td>71</td>\n",
       "      <td>70</td>\n",
       "      <td>0</td>\n",
       "    </tr>\n",
       "    <tr>\n",
       "      <th>573</th>\n",
       "      <td>Olle Lycksell</td>\n",
       "      <td>23.5</td>\n",
       "      <td>R</td>\n",
       "      <td>Philadelphia Flyers</td>\n",
       "      <td>-0.262288</td>\n",
       "      <td>67</td>\n",
       "      <td>69</td>\n",
       "      <td>67</td>\n",
       "      <td>0</td>\n",
       "    </tr>\n",
       "    <tr>\n",
       "      <th>671</th>\n",
       "      <td>Rasmus Ristolainen</td>\n",
       "      <td>28.4</td>\n",
       "      <td>D</td>\n",
       "      <td>Philadelphia Flyers</td>\n",
       "      <td>0.056138</td>\n",
       "      <td>72</td>\n",
       "      <td>74</td>\n",
       "      <td>73</td>\n",
       "      <td>1</td>\n",
       "    </tr>\n",
       "    <tr>\n",
       "      <th>734</th>\n",
       "      <td>Max Willman</td>\n",
       "      <td>27.8</td>\n",
       "      <td>C</td>\n",
       "      <td>Philadelphia Flyers</td>\n",
       "      <td>-0.138366</td>\n",
       "      <td>69</td>\n",
       "      <td>70</td>\n",
       "      <td>69</td>\n",
       "      <td>0</td>\n",
       "    </tr>\n",
       "    <tr>\n",
       "      <th>787</th>\n",
       "      <td>Cam York</td>\n",
       "      <td>22.2</td>\n",
       "      <td>D</td>\n",
       "      <td>Philadelphia Flyers</td>\n",
       "      <td>0.404072</td>\n",
       "      <td>76</td>\n",
       "      <td>78</td>\n",
       "      <td>76</td>\n",
       "      <td>0</td>\n",
       "    </tr>\n",
       "    <tr>\n",
       "      <th>878</th>\n",
       "      <td>Elliot Desnoyers</td>\n",
       "      <td>21.1</td>\n",
       "      <td>L</td>\n",
       "      <td>Philadelphia Flyers</td>\n",
       "      <td>-0.153909</td>\n",
       "      <td>69</td>\n",
       "      <td>71</td>\n",
       "      <td>69</td>\n",
       "      <td>0</td>\n",
       "    </tr>\n",
       "    <tr>\n",
       "      <th>894</th>\n",
       "      <td>Tyson Foerster</td>\n",
       "      <td>21.2</td>\n",
       "      <td>R</td>\n",
       "      <td>Philadelphia Flyers</td>\n",
       "      <td>0.476777</td>\n",
       "      <td>77</td>\n",
       "      <td>79</td>\n",
       "      <td>77</td>\n",
       "      <td>0</td>\n",
       "    </tr>\n",
       "  </tbody>\n",
       "</table>\n",
       "</div>"
      ],
      "text/plain": [
       "                  Player   Age Position                 Team       Raw  \\\n",
       "232         Lukas Sedlak  29.8        C  Philadelphia Flyers  0.525783   \n",
       "362          Egor Zamula   NaN        D  Philadelphia Flyers  0.180327   \n",
       "363       Hayden Hodgson  26.6        R  Philadelphia Flyers  0.040223   \n",
       "364        Ivan Provorov  26.2        D  Philadelphia Flyers  0.124511   \n",
       "365   James van Riemsdyk  33.9        L  Philadelphia Flyers  0.541178   \n",
       "366         Joel Farabee  23.1        L  Philadelphia Flyers  0.297576   \n",
       "367         Justin Braun  36.1        D  Philadelphia Flyers  0.110568   \n",
       "368          Kevin Hayes  30.9        C  Philadelphia Flyers  0.485472   \n",
       "369         Morgan Frost  23.9        C  Philadelphia Flyers  0.259754   \n",
       "370          Nick Seeler  29.8        D  Philadelphia Flyers  0.246189   \n",
       "371  Nicolas Deslauriers  32.1        L  Philadelphia Flyers  0.072816   \n",
       "372           Noah Cates  24.1        L  Philadelphia Flyers  0.374509   \n",
       "373         Owen Tippett  24.1        R  Philadelphia Flyers  0.403808   \n",
       "374       Scott Laughton  28.8        C  Philadelphia Flyers  0.362809   \n",
       "375     Tanner Laczynski  25.8        C  Philadelphia Flyers  0.051627   \n",
       "376        Tony DeAngelo  27.4        D  Philadelphia Flyers  0.317184   \n",
       "377       Travis Konecny  26.0        R  Philadelphia Flyers  0.631604   \n",
       "378       Travis Sanheim  27.0        D  Philadelphia Flyers  0.139537   \n",
       "379         Wade Allison  25.4        R  Philadelphia Flyers  0.163933   \n",
       "442      Kieffer Bellows  24.8        L  Philadelphia Flyers  0.086071   \n",
       "531      Brendan Lemieux  27.0        L  Philadelphia Flyers  0.244972   \n",
       "572        Jackson Cates  25.2        C  Philadelphia Flyers -0.059739   \n",
       "573        Olle Lycksell  23.5        R  Philadelphia Flyers -0.262288   \n",
       "671   Rasmus Ristolainen  28.4        D  Philadelphia Flyers  0.056138   \n",
       "734          Max Willman  27.8        C  Philadelphia Flyers -0.138366   \n",
       "787             Cam York  22.2        D  Philadelphia Flyers  0.404072   \n",
       "878     Elliot Desnoyers  21.1        L  Philadelphia Flyers -0.153909   \n",
       "894       Tyson Foerster  21.2        R  Philadelphia Flyers  0.476777   \n",
       "\n",
       "     Overall  Potential  Long Term Overall  Hot Index  \n",
       "232       78         78                 75         -3  \n",
       "362       73         74                 73          0  \n",
       "363       71         72                 71          0  \n",
       "364       72         76                 71         -1  \n",
       "365       78         80                 77         -1  \n",
       "366       75         79                 74         -1  \n",
       "367       72         77                 72          0  \n",
       "368       78         79                 76         -2  \n",
       "369       74         75                 76          2  \n",
       "370       74         76                 76          2  \n",
       "371       72         73                 72          0  \n",
       "372       76         77                 78          2  \n",
       "373       76         78                 80          4  \n",
       "374       76         76                 77          1  \n",
       "375       71         73                 71          0  \n",
       "376       75         78                 73         -2  \n",
       "377       80         81                 81          1  \n",
       "378       73         75                 71         -2  \n",
       "379       73         76                 73          0  \n",
       "442       72         74                 71         -1  \n",
       "531       74         75                 75          1  \n",
       "572       70         71                 70          0  \n",
       "573       67         69                 67          0  \n",
       "671       72         74                 73          1  \n",
       "734       69         70                 69          0  \n",
       "787       76         78                 76          0  \n",
       "878       69         71                 69          0  \n",
       "894       77         79                 77          0  "
      ]
     },
     "execution_count": 78,
     "metadata": {},
     "output_type": "execute_result"
    }
   ],
   "source": [
    "ratings.sort_values(by='Hot Index', ascending=False)[(ratings.Age < 35)].head(30)\n",
    "ratings[ratings.Team == 'Philadelphia Flyers']"
   ]
  },
  {
   "cell_type": "code",
   "execution_count": 4,
   "metadata": {},
   "outputs": [],
   "source": [
    "import plotly.graph_objects as go\n",
    "import numpy as np\n",
    "from moepy import lowess\n",
    "from collections import namedtuple\n",
    "import pickle\n",
    "from numpy import asarray\n",
    "from pandas import read_csv\n",
    "from pandas import DataFrame\n",
    "from pandas import concat\n",
    "from xgboost import XGBRegressor\n",
    "from scipy.stats import norm\n",
    "from datetime import datetime\n",
    "start_dates = {season: datetime.strptime((str(season)[:4] + '-10-04'), '%Y-%m-%d') for season in skaters.groupby(['Season']).count().index}\n",
    "# transform a time series dataset into a supervised learning dataset\n",
    "def series_to_supervised(data, n_in=1, n_out=1, dropnan=True):\n",
    "    n_vars = 1 if type(data) is list else data.shape[1]\n",
    "    df = DataFrame(data)\n",
    "    cols = list()\n",
    "    # input sequence (t-n, ... t-1)\n",
    "    for i in range(n_in, 0, -1):\n",
    "        cols.append(df.shift(i))\n",
    "    # forecast sequence (t, t+1, ... t+n)\n",
    "    for i in range(0, n_out):\n",
    "        cols.append(df.shift(-i))\n",
    "    # put it all together\n",
    "    agg = concat(cols, axis=1)\n",
    "    # drop rows with NaN values\n",
    "    if dropnan:\n",
    "        agg.dropna(inplace=True)\n",
    "    return agg.values\n",
    "gaussian = namedtuple('Gaussian', ['mean', 'var'])\n",
    "gaussian.__repr__ = lambda s: f'𝒩(μ={s[0]:.3f}, 𝜎²={s[1]:.3f})'\n",
    "def update(prior, measurement):\n",
    "    x, P = prior        # mean and variance of prior\n",
    "    z, R = measurement  # mean and variance of measurement\n",
    "    \n",
    "    y = z - x        # residual\n",
    "    K = P / (P + R)  # Kalman gain\n",
    "\n",
    "    x = x + K*y      # posterior\n",
    "    P = (1 - K) * P  # posterior variance\n",
    "    return gaussian(x, P)\n",
    "\n",
    "def predict(posterior, movement):\n",
    "    x, P = posterior # mean and variance of posterior\n",
    "    dx, Q = movement # mean and variance of movement\n",
    "    x = x + dx\n",
    "    P = P + Q\n",
    "    return gaussian(x, P)\n",
    "\n",
    "def get_projections(player, time_type):\n",
    "\n",
    "    df = merged[merged.Player == player]\n",
    "    df = df.sort_values(by='Date')\n",
    "    df['Career Game'] = range(1, len(df) + 1)\n",
    "    df['Adjusted'] = df['Score']*(50/1.55) + 50\n",
    "    df[[\"Date\", \"dob\"]] = df[[\"Date\", \"dob\"]].apply(pd.to_datetime)\n",
    "    projections = [0]\n",
    "    scores = scores = np.concatenate((np.zeros(10),  df['Score'].to_list()))\n",
    "\n",
    "    for i in range(-9, len(df)):\n",
    "        curr = 0\n",
    "        total = 0\n",
    "        start = 1\n",
    "        j = i-1\n",
    "        while start > 0.05 and j >= -10:\n",
    "            if j >= 0:\n",
    "\n",
    "                weight = 0.99968135**(df['Date'].to_list()[i] - df['Date'].to_list()[j]).days\n",
    "            else:\n",
    "                weight = 0.99968135**(-1*j)\n",
    "            curr += weight * scores[j+10]\n",
    "            total += weight\n",
    "            start = weight/total\n",
    "            j -= 1\n",
    "\n",
    "        projections.append(1.35*(curr/total))            \n",
    "\n",
    "        \n",
    "\n",
    "    df['Projection'] = projections[10:]\n",
    "\n",
    "\n",
    "    sensor_var = 1.87\n",
    "    process_var = 0.035\n",
    "    process_model = gaussian(0., process_var)\n",
    "    pos = gaussian(0., 1.)\n",
    "    N = len(df)\n",
    "    zs = df['Score'].to_list()\n",
    "    ps = []\n",
    "    for i in range(N):\n",
    "        prior = predict(pos, process_model)    \n",
    "        pos = update(prior, gaussian(zs[i], sensor_var))\n",
    "        ps.append(pos.mean)\n",
    "    df['Kalman'] = ps\n",
    "\n",
    "    # load the dataset\n",
    "    series = df[['Projection', 'Kalman']]\n",
    "    values = series.values\n",
    "\n",
    "    # fit model\n",
    "    model = pickle.load(open('finalized_model.sav', 'rb'))\n",
    "    # construct an input for a new preduction\n",
    "    preds = df['Kalman'].to_list()[:82]\n",
    "    for i in range(82, len(df)):\n",
    "        row = values[i-6:i].flatten()\n",
    "    # make a one-step prediction\n",
    "        yhat = model.predict(asarray([row]))\n",
    "        preds.append(yhat[0])\n",
    "    df['XGB'] = preds\n",
    "\n",
    "    ages = range(18, 48)\n",
    "    A = [-0.14396,-0.05957,0.021176,0.080782,0.144998,0.176731,\n",
    "            0.181012,0.179595,0.162485,0.137085,0.114395,0.094328,\n",
    "            0.071203,0.043198,0.013411,0.002706,-0.01087,-0.030415,\n",
    "            -0.04996,-0.03732,-0.06303,-0.03521,-0.038033904,-0.033721952,\n",
    "            -0.02941,-0.04036,-0.05131,-0.08806,-0.08892,-0.08978]\n",
    "    poly  = np.polyfit(ages, A, 4)\n",
    "    for i in range(1, len(preds)):\n",
    "        prev_age = df['Age'].to_list()[i-1]\n",
    "        prev_expected = np.polyval(poly, prev_age)\n",
    "        curr_expected = np.polyval(poly, df['Age'].to_list()[i])\n",
    "        multiplier = curr_expected/prev_expected\n",
    "        if preds[i] < 0:\n",
    "            preds[i] = preds[i]/multiplier\n",
    "        else:\n",
    "            preds[i] = preds[i] * multiplier\n",
    "\n",
    "\n",
    "\n",
    "    for i in range(0, len(df)):\n",
    "        season = df['Season'].to_list()[i]\n",
    "        since_start = (df['Date'].to_list()[i] - start_dates[season]).days\n",
    "        season_adjust = (-0.00109 * since_start  + 1.1)\n",
    "        if df['Venue'].to_list()[i] == 'Home':\n",
    "            preds[i] = preds[i]*1.35*season_adjust*1.2\n",
    "        else:\n",
    "            preds[i] = preds[i]*1.35*season_adjust*0.8\n",
    "\n",
    "\n",
    "        prev = merged[(merged.Season == season) & (merged.Date < df['Date'].to_list()[i])]\n",
    "        opps = prev.groupby(['Opposition']).mean(numeric_only=True)[['Score']]\n",
    "        opps['Multiplier'] = (opps['Score']+5)/5.438829866884756\n",
    "        mult = opps[opps.index == (df['Opposition'].to_list()[i])]['Multiplier']\n",
    "        if len(mult) > 0:\n",
    "            mult = mult[0]\n",
    "        else:\n",
    "            mult = 1\n",
    "        preds[i] = preds[i] * mult\n",
    "\n",
    "    df['adjXGB'] = preds\n",
    "      \n",
    "    # Model fitting\n",
    "    frac = 0.35\n",
    "    quant_reg_func = lowess.calc_quant_reg_betas\n",
    "    quantile_model = lowess.Lowess(reg_func=quant_reg_func)\n",
    "    quantile_model.fit(np.asarray(df[time_type]), np.asarray(df['XGB']), frac=frac, q=0.5, robust_iters=3)\n",
    "    df_quantiles = lowess.quantile_model(np.asarray(df[time_type]), np.asarray(df['XGB']), frac=frac, num_fits=20, robust_iters=3)\n",
    "    df['XGB_Lowess'] = df_quantiles[0.5].to_list()\n",
    "\n",
    "    quant_reg_func = lowess.calc_quant_reg_betas\n",
    "    quantile_model = lowess.Lowess(reg_func=quant_reg_func)\n",
    "    quantile_model.fit(np.asarray(df[time_type]), np.asarray(df['adjXGB']), frac=frac, q=0.5, robust_iters=3)\n",
    "    df_quantiles = lowess.quantile_model(np.asarray(df[time_type]), np.asarray(df['adjXGB']), frac=frac, num_fits=20, robust_iters=3)\n",
    "    df['adjXGB_Lowess'] = df_quantiles[0.5].to_list()\n",
    "    pots = []\n",
    "    mults = []\n",
    "    for i in range(0, len(df)):\n",
    "        curr_age = df['Age'].to_list()[i]\n",
    "        if curr_age <= 24.26795064:\n",
    "            curr_expected = np.polyval(poly, curr_age)\n",
    "            multiplier = (0.37233423)/(curr_expected+0.2)\n",
    "            mults.append(multiplier)\n",
    "            if df['XGB_Lowess'].to_list()[i] < 0:\n",
    "                pots.append(df['XGB_Lowess'].to_list()[i]/multiplier)\n",
    "            else:\n",
    "                pots.append(df['XGB_Lowess'].to_list()[i]  * multiplier)\n",
    "\n",
    "        elif curr_age <= 38.62152643:\n",
    "            mults.append(1)\n",
    "\n",
    "            pots.append(df['XGB_Lowess'].to_list()[i] )\n",
    "        elif curr_age <= 42.25458411:\n",
    "            curr_expected = np.polyval(poly, curr_age)\n",
    "            multiplier = 0.24220954/(curr_expected+0.2)\n",
    "            mults.append(multiplier)\n",
    "\n",
    "            if df['XGB_Lowess'].to_list()[i] < 0:\n",
    "                pots.append(df['XGB_Lowess'].to_list()[i]/multiplier)\n",
    "            else:\n",
    "                pots.append(df['XGB_Lowess'].to_list()[i]  * multiplier)        \n",
    "        else:\n",
    "            mults.append(1)\n",
    "\n",
    "            pots.append(df['XGB_Lowess'].to_list()[i] )\n",
    "    df['multiplier'] = mults\n",
    "    df['Potential'] = pots\n",
    "    df.reset_index(inplace=True, drop=True)\n",
    "    df_quantiles.reset_index(inplace=True, drop=True)\n",
    "    return df, df_quantiles\n",
    "\n"
   ]
  },
  {
   "cell_type": "code",
   "execution_count": 24,
   "metadata": {},
   "outputs": [
    {
     "data": {
      "text/plain": [
       "['Justin Barron',\n",
       " 'Justin Braun',\n",
       " 'Justin Danforth',\n",
       " 'Justin Faulk',\n",
       " 'Justin Holl',\n",
       " 'Justin Kirkland',\n",
       " 'Justin Schultz',\n",
       " 'Juuso Parssinen',\n",
       " 'Juuso Valimaki',\n",
       " \"K'Andre Miller\",\n",
       " 'Kaapo Kakko',\n",
       " 'Kaedan Korczak',\n",
       " 'Kaiden Guhle',\n",
       " 'Kailer Yamamoto',\n",
       " 'Kale Clague',\n",
       " 'Karson Kuhlman',\n",
       " 'Kasperi Kapanen',\n",
       " 'Keegan Kolesar',\n",
       " 'Kent Johnson',\n",
       " 'Kevin Bahl',\n",
       " 'Kevin Fiala',\n",
       " 'Kevin Gravel',\n",
       " 'Kevin Hayes',\n",
       " 'Kevin Labanc',\n",
       " 'Kevin Rooney',\n",
       " 'Kevin Shattenkirk',\n",
       " 'Kevin Stenlund',\n",
       " 'Kiefer Sherwood',\n",
       " 'Kieffer Bellows',\n",
       " 'Kirby Dach',\n",
       " 'Kirill Kaprizov',\n",
       " 'Kirill Marchenko',\n",
       " 'Klim Kostin',\n",
       " 'Kris Letang',\n",
       " 'Kristian Reichel',\n",
       " 'Kurtis MacDermid',\n",
       " 'Kyle Burroughs',\n",
       " 'Kyle Capobianco',\n",
       " 'Kyle Clifford',\n",
       " 'Kyle Connor',\n",
       " 'Kyle Okposo',\n",
       " 'Kyle Palmieri',\n",
       " 'Lane Pederson',\n",
       " 'Lars Eller',\n",
       " 'Lassi Thomson',\n",
       " 'Laurent Dauphin',\n",
       " 'Lawrence Pilut',\n",
       " 'Lawson Crouse',\n",
       " 'Leon Draisaitl',\n",
       " 'Liam Foudy',\n",
       " \"Liam O'Brien\",\n",
       " 'Lias Andersson',\n",
       " 'Libor Hajek',\n",
       " 'Logan Brown',\n",
       " 'Logan Couture',\n",
       " \"Logan O'Connor\",\n",
       " 'Logan Stanley',\n",
       " 'Lucas Carlsson',\n",
       " 'Lucas Johansen',\n",
       " 'Lucas Raymond',\n",
       " 'Lukas Reichel',\n",
       " 'Lukas Sedlak',\n",
       " 'Luke Evangelista',\n",
       " 'Luke Glendening',\n",
       " 'Luke Kunin',\n",
       " 'Luke Philp',\n",
       " 'Luke Schenn',\n",
       " 'Mac Hollowell',\n",
       " 'MacKenzie Entwistle',\n",
       " 'MacKenzie Weegar',\n",
       " 'Marc McLaughlin',\n",
       " 'Marc Staal',\n",
       " 'Marc-Edouard Vlasic',\n",
       " 'Marco Rossi',\n",
       " 'Marco Scandella',\n",
       " 'Marcus Bjork',\n",
       " 'Marcus Foligno',\n",
       " 'Marcus Johansson',\n",
       " 'Marcus Pettersson',\n",
       " 'Marian Studenic',\n",
       " 'Mario Ferraro',\n",
       " 'Marián Studeni',\n",
       " 'Mark Borowiecki',\n",
       " 'Mark Friedman',\n",
       " 'Mark Giordano',\n",
       " 'Mark Jankowski',\n",
       " 'Mark Kastelic',\n",
       " 'Mark Scheifele',\n",
       " 'Mark Stone',\n",
       " 'Markus Niemelainen',\n",
       " 'Martin Fehervary',\n",
       " 'Martin Kaut',\n",
       " 'Martin Necas',\n",
       " 'Mason Appleton',\n",
       " 'Mason Marchment',\n",
       " 'Mason McTavish',\n",
       " 'Mason Shaw',\n",
       " 'Matej Blumel',\n",
       " 'Mathew Barzal',\n",
       " 'Mathieu Joseph',\n",
       " 'Mathieu Olivier',\n",
       " 'Matias Maccelli',\n",
       " 'Mats Zuccarello',\n",
       " 'Matt Boldy',\n",
       " 'Matt Duchene',\n",
       " 'Matt Dumba',\n",
       " 'Matt Grzelcyk',\n",
       " 'Matt Irwin',\n",
       " 'Matt Kiersted',\n",
       " 'Matt Luff',\n",
       " 'Matt Martin',\n",
       " 'Matt Nieto',\n",
       " 'Matt Roy',\n",
       " 'Matthew Benning',\n",
       " 'Matthew Highmore',\n",
       " 'Matthew Phillips',\n",
       " 'Matthew Tkachuk',\n",
       " 'Mattias Ekholm',\n",
       " 'Mattias Janmark',\n",
       " 'Mattias Samuelsson',\n",
       " 'Matty Beniers',\n",
       " 'Max Comtois',\n",
       " 'Max Domi',\n",
       " 'Max Jones',\n",
       " 'Max Pacioretty',\n",
       " 'Max Willman',\n",
       " 'Maxime Lajoie',\n",
       " 'Michael Amadio',\n",
       " 'Michael Bunting',\n",
       " 'Michael Carcone',\n",
       " 'Michael Eyssimont',\n",
       " 'Michael Kesselring',\n",
       " 'Michael Matheson',\n",
       " 'Michael McCarron',\n",
       " 'Michael McLeod',\n",
       " 'Michael Pezzetta',\n",
       " 'Michael Rasmussen',\n",
       " 'Michael Stone',\n",
       " 'Mika Zibanejad',\n",
       " 'Mikael Backlund',\n",
       " 'Mikael Granlund',\n",
       " 'Mike Hoffman',\n",
       " 'Mike Reilly',\n",
       " 'Mikey Anderson',\n",
       " 'Mikhail Maltsev',\n",
       " 'Mikhail Sergachev',\n",
       " 'Mikko Rantanen',\n",
       " 'Milan Lucic',\n",
       " 'Miles Wood',\n",
       " 'Milos Kelemen',\n",
       " 'Miro Heiskanen',\n",
       " 'Mitchell Marner',\n",
       " 'Morgan Barron',\n",
       " 'Morgan Frost',\n",
       " 'Morgan Geekie',\n",
       " 'Morgan Rielly',\n",
       " 'Moritz Seider',\n",
       " 'Nate Schmidt',\n",
       " 'Nathan Bastian',\n",
       " 'Nathan Beaulieu',\n",
       " 'Nathan MacKinnon',\n",
       " 'Nathan Walker',\n",
       " 'Nazem Kadri',\n",
       " 'Neal Pionk',\n",
       " 'Nic Dowd',\n",
       " 'Nic Petan',\n",
       " 'Nicholas Robertson',\n",
       " 'Nick Bjugstad',\n",
       " 'Nick Blankenburg',\n",
       " 'Nick Bonino',\n",
       " 'Nick Cicek',\n",
       " 'Nick Cousins',\n",
       " 'Nick DeSimone',\n",
       " 'Nick Foligno',\n",
       " 'Nick Holden',\n",
       " 'Nick Jensen',\n",
       " 'Nick Leddy',\n",
       " 'Nick Paul',\n",
       " 'Nick Perbix',\n",
       " 'Nick Ritchie',\n",
       " 'Nick Schmaltz',\n",
       " 'Nick Seeler',\n",
       " 'Nick Suzuki',\n",
       " 'Nicklas Backstrom',\n",
       " 'Nico Hischier',\n",
       " 'Nico Sturm',\n",
       " 'Nicolas Aube-Kubel',\n",
       " 'Nicolas Deslauriers',\n",
       " 'Nicolas Hague',\n",
       " 'Nicolas Roy',\n",
       " 'Nikita Alexandrov',\n",
       " 'Nikita Kucherov',\n",
       " 'Nikita Okhotiuk',\n",
       " 'Nikita Soshnikov',\n",
       " 'Nikita Zadorov',\n",
       " 'Nikita Zaitsev',\n",
       " 'Niko Mikkola',\n",
       " 'Nikolai Knyzhov',\n",
       " 'Nikolaj Ehlers',\n",
       " 'Nils Aman',\n",
       " 'Nils Hoglander',\n",
       " 'Nils Lundkvist',\n",
       " 'Nino Niederreiter',\n",
       " 'Noah Cates',\n",
       " 'Noah Dobson',\n",
       " 'Noah Gregor',\n",
       " 'Noah Hanifin',\n",
       " 'Noah Juulsen',\n",
       " 'Noel Acciari',\n",
       " 'Nolan Foote',\n",
       " 'Oliver Bjorkstrand',\n",
       " 'Oliver Ekman-Larsson',\n",
       " 'Oliver Wahlstrom',\n",
       " 'Olle Lycksell',\n",
       " 'Olli Maatta',\n",
       " 'Ondrej Kase',\n",
       " 'Ondrej Palat',\n",
       " 'Oskar Lindblom',\n",
       " 'Oskar Olausson',\n",
       " 'Oskar Sundqvist',\n",
       " 'Otto Koivula',\n",
       " 'Owen Beck',\n",
       " 'Owen Power',\n",
       " 'Owen Tippett',\n",
       " 'Parker Kelly',\n",
       " 'Parker Wotherspoon',\n",
       " 'Pat Maroon',\n",
       " 'Patric Hornqvist',\n",
       " 'Patrice Bergeron',\n",
       " 'Patrick Brown',\n",
       " 'Patrick Kane',\n",
       " 'Patrik Laine',\n",
       " 'Patrik Nemeth',\n",
       " 'Paul Cotter',\n",
       " 'Paul Stastny',\n",
       " 'Pavel Buchnevich',\n",
       " 'Pavel Dorofeyev',\n",
       " 'Pavel Zacha',\n",
       " 'Pavol Regenda',\n",
       " 'Peyton Krebs',\n",
       " 'Phil Kessel',\n",
       " 'Philip Broberg',\n",
       " 'Philip Tomasino',\n",
       " 'Philipp Kurashev',\n",
       " 'Philippe Myers',\n",
       " 'Phillip Danault',\n",
       " 'Phillip Di Giuseppe',\n",
       " 'Pierre Engvall',\n",
       " 'Pierre-Edouard Bellemare',\n",
       " 'Pierre-Luc Dubois',\n",
       " 'Pierre-Olivier Joseph',\n",
       " 'Pius Suter',\n",
       " 'Pontus Holmberg',\n",
       " 'Quinn Hughes',\n",
       " 'Quinton Byfield',\n",
       " 'Radek Faksa',\n",
       " 'Radim Simek',\n",
       " 'Radim Zohorna',\n",
       " 'Radko Gudas',\n",
       " 'Rafael Harvey-Pinard',\n",
       " 'Rasmus Andersson',\n",
       " 'Rasmus Asplund',\n",
       " 'Rasmus Dahlin',\n",
       " 'Rasmus Kupari',\n",
       " 'Rasmus Ristolainen',\n",
       " 'Rasmus Sandin',\n",
       " 'Reese Johnson',\n",
       " 'Reilly Smith',\n",
       " 'Rem Pitlick',\n",
       " 'Rickard Rakell',\n",
       " 'Ridly Greig',\n",
       " 'Riley Sheahan',\n",
       " 'Riley Stillman',\n",
       " 'Riley Tufte',\n",
       " 'Robby Fabbri',\n",
       " 'Robert Bortuzzo',\n",
       " 'Robert Hagg',\n",
       " 'Robert Thomas',\n",
       " 'Robin Salo',\n",
       " 'Roland McKeown',\n",
       " 'Roman Josi',\n",
       " 'Roope Hintz',\n",
       " 'Ross Colton',\n",
       " 'Ross Johnston',\n",
       " 'Rourke Chartier',\n",
       " 'Rudolfs Balcers',\n",
       " 'Ryan Carpenter',\n",
       " 'Ryan Donato',\n",
       " 'Ryan Graves',\n",
       " 'Ryan Hartman',\n",
       " 'Ryan Johansen',\n",
       " 'Ryan Lindgren',\n",
       " 'Ryan Lomberg',\n",
       " 'Ryan McDonagh',\n",
       " 'Ryan McLeod',\n",
       " 'Ryan Murray',\n",
       " 'Ryan Nugent-Hopkins',\n",
       " \"Ryan O'Reilly\",\n",
       " 'Ryan Poehling',\n",
       " 'Ryan Pulock',\n",
       " 'Ryan Reaves',\n",
       " 'Ryan Strome',\n",
       " 'Ryan Suter',\n",
       " 'Saku Maenalanen',\n",
       " 'Sam Bennett',\n",
       " 'Sam Carrick',\n",
       " 'Sam Gagner',\n",
       " 'Sam Lafferty',\n",
       " 'Sam Poulin',\n",
       " 'Sam Reinhart',\n",
       " 'Sam Steel',\n",
       " 'Sammy Blais',\n",
       " 'Sampo Ranta',\n",
       " 'Samuel Bolduc',\n",
       " 'Samuel Fagemo',\n",
       " 'Samuel Girard',\n",
       " 'Samuel Walker',\n",
       " 'Scott Harrington',\n",
       " 'Scott Laughton',\n",
       " 'Scott Mayfield',\n",
       " 'Sean Durzi',\n",
       " 'Sean Kuraly',\n",
       " 'Sean Monahan',\n",
       " 'Sean Walker',\n",
       " 'Sebastian Aho',\n",
       " 'Semyon Der-Arguchintsev',\n",
       " 'Seth Jarvis',\n",
       " 'Seth Jones',\n",
       " 'Shane Bowers',\n",
       " 'Shane Pinto',\n",
       " 'Shane Wright',\n",
       " 'Shayne Gostisbehere',\n",
       " 'Shea Theodore',\n",
       " 'Sheldon Dries',\n",
       " 'Sheldon Rempal',\n",
       " 'Sidney Crosby',\n",
       " 'Simon Benoit',\n",
       " 'Simon Holmstrom',\n",
       " 'Sonny Milano',\n",
       " 'Stefan Noesen',\n",
       " 'Steven Fogarty',\n",
       " 'Steven Lorentz',\n",
       " 'Steven Santini',\n",
       " 'Steven Stamkos',\n",
       " 'T.J. Oshie',\n",
       " 'TJ Brodie',\n",
       " 'Tage Thompson',\n",
       " 'Tanner Jeannot',\n",
       " 'Tanner Laczynski',\n",
       " 'Tanner Pearson',\n",
       " 'Taylor Hall',\n",
       " 'Taylor Raddysh',\n",
       " 'Teddy Blueger',\n",
       " 'Teuvo Teravainen',\n",
       " 'Thomas Chabot',\n",
       " 'Thomas Novak',\n",
       " 'Tim Berni',\n",
       " 'Tim Stutzle',\n",
       " 'Timo Meier',\n",
       " 'Timothy Liljegren',\n",
       " 'Tobias Bjornfot',\n",
       " 'Tom Wilson',\n",
       " 'Tomas Hertl',\n",
       " 'Tomas Nosek',\n",
       " 'Tomas Tatar',\n",
       " 'Tommy Novak',\n",
       " 'Tony DeAngelo',\n",
       " 'Torey Krug',\n",
       " 'Travis Boyd',\n",
       " 'Travis Dermott',\n",
       " 'Travis Hamonic',\n",
       " 'Travis Konecny',\n",
       " 'Travis Sanheim',\n",
       " 'Trent Frederic',\n",
       " 'Trevor Lewis',\n",
       " 'Trevor Moore',\n",
       " 'Trevor Zegras',\n",
       " 'Trevor van Riemsdyk',\n",
       " 'Trey Fix-Wolansky',\n",
       " 'Troy Stecher',\n",
       " 'Troy Terry',\n",
       " 'Tucker Poolman',\n",
       " 'Ty Dellandrea',\n",
       " 'Ty Smith',\n",
       " 'Tyce Thompson',\n",
       " 'Tyler Benson',\n",
       " 'Tyler Bertuzzi',\n",
       " 'Tyler Johnson',\n",
       " 'Tyler Motte',\n",
       " 'Tyler Myers',\n",
       " 'Tyler Pitlick',\n",
       " 'Tyler Seguin',\n",
       " 'Tyler Toffoli',\n",
       " 'Tyler Tucker',\n",
       " 'Tyson Barrie',\n",
       " 'Tyson Foerster',\n",
       " 'Tyson Jost',\n",
       " 'Urho Vaakanainen',\n",
       " 'Valeri Nichushkin',\n",
       " 'Vasily Podkolzin',\n",
       " 'Victor Hedman',\n",
       " 'Victor Mete',\n",
       " 'Victor Olofsson',\n",
       " 'Victor Soderstrom',\n",
       " 'Viktor Arvidsson',\n",
       " 'Ville Heinola',\n",
       " 'Vince Dunn',\n",
       " 'Vincent Desharnais',\n",
       " 'Vincent Iorio',\n",
       " 'Vincent Trocheck',\n",
       " 'Vinnie Hinostroza',\n",
       " 'Vitali Kravtsov',\n",
       " 'Vladimir Tarasenko',\n",
       " 'Vladislav Gavrikov',\n",
       " 'Vladislav Kolyachonok',\n",
       " 'Vladislav Namestnikov',\n",
       " 'Wade Allison',\n",
       " 'Walker Duehr',\n",
       " 'Warren Foegele',\n",
       " 'Wayne Simmonds',\n",
       " 'Will Borgen',\n",
       " 'Will Cuylle',\n",
       " 'William Bitten',\n",
       " 'William Carrier',\n",
       " 'William Dufour',\n",
       " 'William Eklund',\n",
       " 'William Karlsson',\n",
       " 'William Lockwood',\n",
       " 'William Nylander',\n",
       " 'Wyatt Johnston',\n",
       " 'Yakov Trenin',\n",
       " 'Yanni Gourde',\n",
       " 'Yegor Chinakhov',\n",
       " 'Yegor Sharangovich',\n",
       " 'Zac Dalpe',\n",
       " 'Zac Jones',\n",
       " 'Zach Aston-Reese',\n",
       " 'Zach Bogosian',\n",
       " 'Zach Hyman',\n",
       " 'Zach Parise',\n",
       " 'Zach Sanford',\n",
       " 'Zach Werenski',\n",
       " 'Zach Whitecloud',\n",
       " 'Zack Kassian',\n",
       " 'Zack MacEwen',\n",
       " 'Zemgus Girgensons']"
      ]
     },
     "execution_count": 24,
     "metadata": {},
     "output_type": "execute_result"
    }
   ],
   "source": [
    "players = list(merged[merged.Season == 20222023].Player.unique())\n",
    "players.sort()\n",
    "players[450:]"
   ]
  },
  {
   "cell_type": "code",
   "execution_count": 12,
   "metadata": {},
   "outputs": [],
   "source": [
    "import plotly.graph_objects as go\n",
    "import numpy as np\n",
    "from moepy import lowess\n",
    "from collections import namedtuple\n",
    "import pickle\n",
    "from numpy import asarray\n",
    "from pandas import read_csv\n",
    "from pandas import DataFrame\n",
    "from pandas import concat\n",
    "from xgboost import XGBRegressor\n",
    "from scipy.stats import norm\n",
    "from datetime import datetime\n",
    "import pandas as pd\n",
    "import numpy as np\n",
    "from numpy import random\n",
    "from scipy.stats import norm\n",
    "skaters = pd.read_csv(f'cleaned/master_skaters.csv')\n",
    "skaters['exGF'] = skaters['TOI']*0.032+0.055\n",
    "skaters['exGA'] = skaters['TOI']*0.032+0.055\n",
    "skaters['eGF'] = skaters['TOI']*0.032+0.055\n",
    "skaters['eGA'] = skaters['TOI']*0.032+0.055\n",
    "skaters['GFAA'] = skaters['GF'] - skaters['eGF']\n",
    "skaters['GAAA'] =  skaters['eGA'] - skaters['GA']\n",
    "skaters['xGFAA'] = skaters['xGF'] - skaters['exGF']\n",
    "skaters['xGAAA'] =  skaters['exGA'] - skaters['xGA']\n",
    "skaters['Production'] = (0.75*skaters['Goals']) + (0.7*skaters['First Assists']) + (0.55*skaters['Second Assists']) + (0.5*skaters['ixG']) + (0.05*skaters['Shots Blocked']) \n",
    "skaters['Misc'] = (0.15*(skaters['Penalties Drawn'] - skaters['Total Penalties'])) + (0.01*(skaters['Faceoffs Won'] - skaters['Faceoffs Lost']))\n",
    "skaters['Offense'] = np.where(skaters['Position'] == 'D', \n",
    "((0.425*(skaters['GF'] + skaters['GFAA'])) + (1.7*(skaters['xGF'] + skaters['xGFAA'])))/2.125 - 0.75,\n",
    "(((0.625*(skaters['GF'] + skaters['GFAA'])) + (0.625*(skaters['xGF'] + skaters['xGFAA'])))/2) - 0.4)\n",
    "skaters['Defense'] = np.where(skaters['Position'] == 'D', \n",
    "(((0.575*(-skaters['GA'] + skaters['GAAA'])) + (2.3*(-skaters['xGA'] + skaters['xGAAA'])))/2) + 1.05, \n",
    "(((0.4375*(-skaters['GA'] + skaters['GAAA'])) + (1.7*(-skaters['xGA'] + skaters['xGAAA'])))/2) + 0.6)\n",
    "skaters['Score'] = skaters['Production'] + skaters['Misc'] + skaters['Offense'] + skaters['Defense']\n",
    "skaters = skaters.loc[:, ~skaters.columns.str.contains('^Unnamed')]\n",
    "births = pd.read_csv('birthdates.csv')\n",
    "merged = skaters.merge(births[['Player', 'Season', 'dob']], how='left', on=['Player', 'Season'])\n",
    "merged.drop_duplicates(subset=['Player', 'Team', 'Date', 'Opposition', 'Season'], inplace=True)\n",
    "merged['dob'] = np.where(((merged.Player == 'Sebastian Aho') & (merged.Team == 'New York Islanders')),'1999-07-26', merged['dob'])\n",
    "merged['dob'] = np.where(((merged.Player == 'Sebastian Aho') & (merged.Team != 'New York Islanders')),'1996-02-17', merged['dob'])\n",
    "merged[[\"Date\", \"dob\"]] = merged[[\"Date\", \"dob\"]].apply(pd.to_datetime)\n",
    "merged['Age'] = (merged[\"Date\"] - merged[\"dob\"]).dt.days/365\n",
    "merged['RoundAge'] = np.floor(merged[\"Age\"])\n",
    "\n",
    "\n",
    "start_dates = {season: datetime.strptime((str(season)[:4] + '-10-04'), '%Y-%m-%d') for season in skaters.groupby(['Season']).count().index}\n",
    "# transform a time series dataset into a supervised learning dataset\n",
    "def series_to_supervised(data, n_in=1, n_out=1, dropnan=True):\n",
    "    n_vars = 1 if type(data) is list else data.shape[1]\n",
    "    df = DataFrame(data)\n",
    "    cols = list()\n",
    "    # input sequence (t-n, ... t-1)\n",
    "    for i in range(n_in, 0, -1):\n",
    "        cols.append(df.shift(i))\n",
    "    # forecast sequence (t, t+1, ... t+n)\n",
    "    for i in range(0, n_out):\n",
    "        cols.append(df.shift(-i))\n",
    "    # put it all together\n",
    "    agg = concat(cols, axis=1)\n",
    "    # drop rows with NaN values\n",
    "    if dropnan:\n",
    "        agg.dropna(inplace=True)\n",
    "    return agg.values\n",
    "gaussian = namedtuple('Gaussian', ['mean', 'var'])\n",
    "gaussian.__repr__ = lambda s: f'𝒩(μ={s[0]:.3f}, 𝜎²={s[1]:.3f})'\n",
    "def update(prior, measurement):\n",
    "    x, P = prior        # mean and variance of prior\n",
    "    z, R = measurement  # mean and variance of measurement\n",
    "    \n",
    "    y = z - x        # residual\n",
    "    K = P / (P + R)  # Kalman gain\n",
    "\n",
    "    x = x + K*y      # posterior\n",
    "    P = (1 - K) * P  # posterior variance\n",
    "    return gaussian(x, P)\n",
    "\n",
    "def predict(posterior, movement):\n",
    "    x, P = posterior # mean and variance of posterior\n",
    "    dx, Q = movement # mean and variance of movement\n",
    "    x = x + dx\n",
    "    P = P + Q\n",
    "    return gaussian(x, P)\n",
    "\n",
    "def get_projections(player, time_type):\n",
    "    alpha = 0.99809326\n",
    "    df = merged[merged.Player == player]\n",
    "    df = df.sort_values(by='Date')\n",
    "    df['Career Game'] = range(1, len(df) + 1)\n",
    "    df['Adjusted'] = df['Score']*(50/1.55) + 50\n",
    "    df[[\"Date\", \"dob\"]] = df[[\"Date\", \"dob\"]].apply(pd.to_datetime)\n",
    "    projections = [0]\n",
    "    scores = np.concatenate((np.zeros(10),  df['Score'].to_list()))\n",
    "    total = 0\n",
    "\n",
    "    for i in range(-9, len(df)):\n",
    "        curr = 0\n",
    "\n",
    "        j = i-1\n",
    "        if j >= 0:\n",
    "\n",
    "            weight = alpha**(df['Date'].to_list()[i] - df['Date'].to_list()[j]).days\n",
    "        else:\n",
    "            weight = alpha**(-1*j)\n",
    "        \n",
    "        curr += weight * projections[-1] * total\n",
    "        curr += weight * scores[j+10]\n",
    "        total += 1\n",
    "        total *= weight\n",
    "        projections.append((curr/total))            \n",
    "\n",
    "        \n",
    "\n",
    "    df['Projection'] = projections[10:]\n",
    "\n",
    "\n",
    "\n",
    "    sensor_var = 1.3330171065772254\n",
    "    process_var = 0.0013513089896074557\n",
    "    process_model = gaussian(0., process_var)\n",
    "    pos = gaussian(0., 100.)\n",
    "    N = len(df) + 10\n",
    "    zs = np.concatenate((np.zeros(10), df['Score'].to_list()))\n",
    "    ps = []\n",
    "    for i in range(N):\n",
    "        prior = predict(pos, process_model)    \n",
    "        pos = update(prior, gaussian(zs[i], sensor_var))\n",
    "        ps.append(pos.mean)\n",
    "    df['Kalman'] = ps[10:]\n",
    "\n",
    "    # load the dataset\n",
    "    series = df[['Projection', 'Kalman']]\n",
    "    values = series.values\n",
    "\n",
    "    # fit model\n",
    "    model = pickle.load(open('finalized_model.sav', 'rb'))\n",
    "    # construct an input for a new preduction\n",
    "    preds = df['Kalman'].to_list()[:82]\n",
    "    for i in range(82, len(df)):\n",
    "        row = values[i-82:i].flatten()\n",
    "    # make a one-step prediction\n",
    "        yhat = model.predict(asarray([row]))\n",
    "        preds.append(yhat[0])\n",
    "    df['XGB'] = preds\n",
    "\n",
    "    ages = range(18, 48)\n",
    "    A = [-0.14396,-0.05957,0.021176,0.080782,0.144998,0.176731,\n",
    "            0.181012,0.179595,0.162485,0.137085,0.114395,0.094328,\n",
    "            0.071203,0.043198,0.013411,0.002706,-0.01087,-0.030415,\n",
    "            -0.04996,-0.03732,-0.06303,-0.03521,-0.038033904,-0.033721952,\n",
    "            -0.02941,-0.04036,-0.05131,-0.08806,-0.08892,-0.08978]\n",
    "    poly  = np.polyfit(ages, A, 4)\n",
    "    for i in range(1, len(preds)):\n",
    "        prev_age = df['Age'].to_list()[i-1]\n",
    "        prev_expected = np.polyval(poly, prev_age)\n",
    "        curr_expected = np.polyval(poly, df['Age'].to_list()[i])\n",
    "        multiplier = curr_expected/prev_expected\n",
    "        if preds[i] < 0:\n",
    "            preds[i] = preds[i]/multiplier\n",
    "        else:\n",
    "            preds[i] = preds[i] * multiplier\n",
    "\n",
    "\n",
    "\n",
    "    for i in range(0, len(df)):\n",
    "        season = df['Season'].to_list()[i]\n",
    "        since_start = (df['Date'].to_list()[i] - start_dates[season]).days\n",
    "        season_adjust = (-0.00109 * since_start  + 1.1)\n",
    "        if df['Venue'].to_list()[i] == 'Home':\n",
    "            preds[i] = preds[i]*1.35*season_adjust*1.2\n",
    "        else:\n",
    "            preds[i] = preds[i]*1.35*season_adjust*0.8\n",
    "\n",
    "\n",
    "        prev = merged[(merged.Season == season) & (merged.Date < df['Date'].to_list()[i])]\n",
    "        opps = prev.groupby(['Opposition']).mean(numeric_only=True)[['Score']]\n",
    "        opps['Multiplier'] = (opps['Score']+5)/5.438829866884756\n",
    "        mult = opps[opps.index == (df['Opposition'].to_list()[i])]['Multiplier']\n",
    "        if len(mult) > 0:\n",
    "            mult = mult[0]\n",
    "        else:\n",
    "            mult = 1\n",
    "        preds[i] = preds[i] * mult\n",
    "\n",
    "    df['adjXGB'] = preds\n",
    "      \n",
    "    # Model fitting\n",
    "    frac = 0.25\n",
    "    quant_reg_func = lowess.calc_quant_reg_betas\n",
    "    quantile_model = lowess.Lowess(reg_func=quant_reg_func)\n",
    "    quantile_model.fit(np.asarray(df[time_type]), np.asarray(df['XGB']), frac=frac, q=0.5, robust_iters=3)\n",
    "    df_quantiles = lowess.quantile_model(np.asarray(df[time_type]), np.asarray(df['XGB']), frac=frac, num_fits=20, robust_iters=3)\n",
    "    df['XGB_Lowess'] = df_quantiles[0.5].to_list()\n",
    "\n",
    "    quant_reg_func = lowess.calc_quant_reg_betas\n",
    "    quantile_model = lowess.Lowess(reg_func=quant_reg_func)\n",
    "    quantile_model.fit(np.asarray(df[time_type]), np.asarray(df['adjXGB']), frac=frac, q=0.5, robust_iters=3)\n",
    "    df_quantiles = lowess.quantile_model(np.asarray(df[time_type]), np.asarray(df['adjXGB']), frac=frac, num_fits=20, robust_iters=3)\n",
    "    df['adjXGB_Lowess'] = df_quantiles[0.5].to_list()\n",
    "    pots = []\n",
    "    mults = []\n",
    "    for i in range(0, len(df)):\n",
    "        curr_age = df['Age'].to_list()[i]\n",
    "        if curr_age <= 24.26795064:\n",
    "            curr_expected = np.polyval(poly, curr_age)\n",
    "            multiplier = (0.37233423)/(curr_expected+0.2)\n",
    "            mults.append(multiplier)\n",
    "            if df['XGB_Lowess'].to_list()[i] < 0:\n",
    "                pots.append(df['XGB_Lowess'].to_list()[i]/multiplier)\n",
    "            else:\n",
    "                pots.append(df['XGB_Lowess'].to_list()[i]  * multiplier)\n",
    "\n",
    "        elif curr_age <= 38.62152643:\n",
    "            mults.append(1)\n",
    "\n",
    "            pots.append(df['XGB_Lowess'].to_list()[i] )\n",
    "        elif curr_age <= 42.25458411:\n",
    "            curr_expected = np.polyval(poly, curr_age)\n",
    "            multiplier = 0.24220954/(curr_expected+0.2)\n",
    "            mults.append(multiplier)\n",
    "\n",
    "            if df['XGB_Lowess'].to_list()[i] < 0:\n",
    "                pots.append(df['XGB_Lowess'].to_list()[i]/multiplier)\n",
    "            else:\n",
    "                pots.append(df['XGB_Lowess'].to_list()[i]  * multiplier)        \n",
    "        else:\n",
    "            mults.append(1)\n",
    "\n",
    "            pots.append(df['XGB_Lowess'].to_list()[i] )\n",
    "    df['multiplier'] = mults\n",
    "    df['Potential'] = pots\n",
    "    df.reset_index(inplace=True, drop=True)\n",
    "    df_quantiles.reset_index(inplace=True, drop=True)\n",
    "    return df, df_quantiles\n",
    "\n"
   ]
  },
  {
   "cell_type": "code",
   "execution_count": 14,
   "metadata": {},
   "outputs": [
    {
     "name": "stdout",
     "output_type": "stream",
     "text": [
      "Milan Lucic\n"
     ]
    },
    {
     "name": "stderr",
     "output_type": "stream",
     "text": [
      "100%|██████████| 9/9 [00:04<00:00,  2.00it/s]\n",
      "100%|██████████| 9/9 [00:05<00:00,  1.61it/s]\n"
     ]
    },
    {
     "name": "stdout",
     "output_type": "stream",
     "text": [
      "Miles Wood\n"
     ]
    },
    {
     "name": "stderr",
     "output_type": "stream",
     "text": [
      "100%|██████████| 9/9 [00:03<00:00,  2.49it/s]\n",
      "100%|██████████| 9/9 [00:03<00:00,  2.36it/s]\n"
     ]
    },
    {
     "name": "stdout",
     "output_type": "stream",
     "text": [
      "Milos Kelemen\n"
     ]
    },
    {
     "name": "stderr",
     "output_type": "stream",
     "text": [
      "c:\\Users\\jetso\\AppData\\Local\\Programs\\Python\\Python311\\Lib\\site-packages\\moepy\\lowess.py:38: RuntimeWarning: divide by zero encountered in divide\n",
      "  dist_to_weights = lambda dist, dist_threshold=1: (1 - ((np.abs(dist)/dist_threshold).clip(0, 1) ** 3)) ** 3\n",
      "c:\\Users\\jetso\\AppData\\Local\\Programs\\Python\\Python311\\Lib\\site-packages\\moepy\\lowess.py:38: RuntimeWarning: invalid value encountered in divide\n",
      "  dist_to_weights = lambda dist, dist_threshold=1: (1 - ((np.abs(dist)/dist_threshold).clip(0, 1) ** 3)) ** 3\n",
      "100%|██████████| 9/9 [00:00<00:00, 17.02it/s]\n",
      "c:\\Users\\jetso\\AppData\\Local\\Programs\\Python\\Python311\\Lib\\site-packages\\moepy\\lowess.py:38: RuntimeWarning: divide by zero encountered in divide\n",
      "  dist_to_weights = lambda dist, dist_threshold=1: (1 - ((np.abs(dist)/dist_threshold).clip(0, 1) ** 3)) ** 3\n",
      "c:\\Users\\jetso\\AppData\\Local\\Programs\\Python\\Python311\\Lib\\site-packages\\moepy\\lowess.py:38: RuntimeWarning: invalid value encountered in divide\n",
      "  dist_to_weights = lambda dist, dist_threshold=1: (1 - ((np.abs(dist)/dist_threshold).clip(0, 1) ** 3)) ** 3\n",
      "100%|██████████| 9/9 [00:00<00:00, 18.70it/s]\n"
     ]
    },
    {
     "name": "stdout",
     "output_type": "stream",
     "text": [
      "Miro Heiskanen\n"
     ]
    },
    {
     "name": "stderr",
     "output_type": "stream",
     "text": [
      "100%|██████████| 9/9 [00:04<00:00,  2.11it/s]\n",
      "100%|██████████| 9/9 [00:04<00:00,  2.14it/s]\n"
     ]
    },
    {
     "name": "stdout",
     "output_type": "stream",
     "text": [
      "Mitchell Marner\n"
     ]
    },
    {
     "name": "stderr",
     "output_type": "stream",
     "text": [
      "100%|██████████| 9/9 [00:04<00:00,  2.14it/s]\n",
      "100%|██████████| 9/9 [00:04<00:00,  2.08it/s]\n"
     ]
    },
    {
     "name": "stdout",
     "output_type": "stream",
     "text": [
      "Morgan Barron\n"
     ]
    },
    {
     "name": "stderr",
     "output_type": "stream",
     "text": [
      "100%|██████████| 9/9 [00:03<00:00,  2.71it/s]\n",
      "100%|██████████| 9/9 [00:03<00:00,  2.70it/s]\n"
     ]
    },
    {
     "name": "stdout",
     "output_type": "stream",
     "text": [
      "Morgan Frost\n"
     ]
    },
    {
     "name": "stderr",
     "output_type": "stream",
     "text": [
      "100%|██████████| 9/9 [00:04<00:00,  2.10it/s]\n",
      "100%|██████████| 9/9 [00:04<00:00,  1.80it/s]\n"
     ]
    },
    {
     "name": "stdout",
     "output_type": "stream",
     "text": [
      "Morgan Geekie\n"
     ]
    },
    {
     "name": "stderr",
     "output_type": "stream",
     "text": [
      "100%|██████████| 9/9 [00:04<00:00,  2.14it/s]\n",
      "100%|██████████| 9/9 [00:04<00:00,  2.14it/s]\n"
     ]
    },
    {
     "name": "stdout",
     "output_type": "stream",
     "text": [
      "Morgan Rielly\n"
     ]
    },
    {
     "name": "stderr",
     "output_type": "stream",
     "text": [
      "100%|██████████| 9/9 [00:03<00:00,  2.42it/s]\n",
      "100%|██████████| 9/9 [00:01<00:00,  4.56it/s]\n"
     ]
    },
    {
     "name": "stdout",
     "output_type": "stream",
     "text": [
      "Moritz Seider\n"
     ]
    },
    {
     "name": "stderr",
     "output_type": "stream",
     "text": [
      "100%|██████████| 9/9 [00:01<00:00,  5.19it/s]\n",
      "100%|██████████| 9/9 [00:02<00:00,  4.16it/s]\n"
     ]
    },
    {
     "name": "stdout",
     "output_type": "stream",
     "text": [
      "Nate Schmidt\n"
     ]
    },
    {
     "name": "stderr",
     "output_type": "stream",
     "text": [
      "100%|██████████| 9/9 [00:01<00:00,  4.95it/s]\n",
      "100%|██████████| 9/9 [00:01<00:00,  7.34it/s]\n"
     ]
    },
    {
     "name": "stdout",
     "output_type": "stream",
     "text": [
      "Nathan Bastian\n"
     ]
    },
    {
     "name": "stderr",
     "output_type": "stream",
     "text": [
      "100%|██████████| 9/9 [00:01<00:00,  5.07it/s]\n",
      "100%|██████████| 9/9 [00:01<00:00,  6.69it/s]\n"
     ]
    },
    {
     "name": "stdout",
     "output_type": "stream",
     "text": [
      "Nathan Beaulieu\n"
     ]
    },
    {
     "name": "stderr",
     "output_type": "stream",
     "text": [
      "100%|██████████| 9/9 [00:01<00:00,  8.04it/s]\n",
      "100%|██████████| 9/9 [00:01<00:00,  6.27it/s]\n"
     ]
    },
    {
     "name": "stdout",
     "output_type": "stream",
     "text": [
      "Nathan MacKinnon\n"
     ]
    },
    {
     "name": "stderr",
     "output_type": "stream",
     "text": [
      "100%|██████████| 9/9 [00:01<00:00,  5.22it/s]\n",
      "100%|██████████| 9/9 [00:01<00:00,  5.41it/s]\n"
     ]
    },
    {
     "name": "stdout",
     "output_type": "stream",
     "text": [
      "Nathan Walker\n"
     ]
    },
    {
     "name": "stderr",
     "output_type": "stream",
     "text": [
      "100%|██████████| 9/9 [00:01<00:00,  4.57it/s]\n",
      "100%|██████████| 9/9 [00:01<00:00,  4.52it/s]\n"
     ]
    },
    {
     "name": "stdout",
     "output_type": "stream",
     "text": [
      "Nazem Kadri\n"
     ]
    },
    {
     "name": "stderr",
     "output_type": "stream",
     "text": [
      "100%|██████████| 9/9 [00:04<00:00,  2.12it/s]\n",
      "100%|██████████| 9/9 [00:04<00:00,  2.02it/s]\n"
     ]
    },
    {
     "name": "stdout",
     "output_type": "stream",
     "text": [
      "Neal Pionk\n"
     ]
    },
    {
     "name": "stderr",
     "output_type": "stream",
     "text": [
      "100%|██████████| 9/9 [00:03<00:00,  2.44it/s]\n",
      "100%|██████████| 9/9 [00:03<00:00,  2.37it/s]\n"
     ]
    },
    {
     "name": "stdout",
     "output_type": "stream",
     "text": [
      "Nic Dowd\n"
     ]
    },
    {
     "name": "stderr",
     "output_type": "stream",
     "text": [
      "100%|██████████| 9/9 [00:03<00:00,  2.42it/s]\n",
      "100%|██████████| 9/9 [00:03<00:00,  2.72it/s]\n"
     ]
    },
    {
     "name": "stdout",
     "output_type": "stream",
     "text": [
      "Nic Petan\n"
     ]
    },
    {
     "name": "stderr",
     "output_type": "stream",
     "text": [
      "100%|██████████| 9/9 [00:03<00:00,  2.31it/s]\n",
      "100%|██████████| 9/9 [00:03<00:00,  2.31it/s]\n"
     ]
    },
    {
     "name": "stdout",
     "output_type": "stream",
     "text": [
      "Nicholas Paul\n"
     ]
    },
    {
     "name": "stderr",
     "output_type": "stream",
     "text": [
      "100%|██████████| 9/9 [00:05<00:00,  1.54it/s]\n",
      "100%|██████████| 9/9 [00:19<00:00,  2.14s/it]\n"
     ]
    },
    {
     "name": "stdout",
     "output_type": "stream",
     "text": [
      "Nicholas Robertson\n"
     ]
    },
    {
     "name": "stderr",
     "output_type": "stream",
     "text": [
      "100%|██████████| 9/9 [00:03<00:00,  2.48it/s]\n",
      "100%|██████████| 9/9 [00:17<00:00,  1.96s/it]\n"
     ]
    },
    {
     "name": "stdout",
     "output_type": "stream",
     "text": [
      "Nick Bjugstad\n"
     ]
    },
    {
     "name": "stderr",
     "output_type": "stream",
     "text": [
      "100%|██████████| 9/9 [00:03<00:00,  2.32it/s]\n",
      "100%|██████████| 9/9 [00:04<00:00,  2.11it/s]\n"
     ]
    },
    {
     "name": "stdout",
     "output_type": "stream",
     "text": [
      "Nick Blankenburg\n"
     ]
    },
    {
     "name": "stderr",
     "output_type": "stream",
     "text": [
      "100%|██████████| 9/9 [00:04<00:00,  2.15it/s]\n",
      "100%|██████████| 9/9 [00:04<00:00,  1.90it/s]\n"
     ]
    },
    {
     "name": "stdout",
     "output_type": "stream",
     "text": [
      "Nick Bonino\n"
     ]
    },
    {
     "name": "stderr",
     "output_type": "stream",
     "text": [
      "100%|██████████| 9/9 [00:04<00:00,  2.25it/s]\n",
      "100%|██████████| 9/9 [00:03<00:00,  2.64it/s]\n"
     ]
    },
    {
     "name": "stdout",
     "output_type": "stream",
     "text": [
      "Nick Cicek\n"
     ]
    },
    {
     "name": "stderr",
     "output_type": "stream",
     "text": [
      "100%|██████████| 9/9 [00:03<00:00,  2.44it/s]\n",
      "100%|██████████| 9/9 [00:03<00:00,  2.32it/s]\n"
     ]
    },
    {
     "name": "stdout",
     "output_type": "stream",
     "text": [
      "Nick Cousins\n"
     ]
    },
    {
     "name": "stderr",
     "output_type": "stream",
     "text": [
      "100%|██████████| 9/9 [00:03<00:00,  2.39it/s]\n",
      "100%|██████████| 9/9 [00:03<00:00,  2.27it/s]\n",
      "c:\\Users\\jetso\\AppData\\Local\\Programs\\Python\\Python311\\Lib\\site-packages\\moepy\\lowess.py:38: RuntimeWarning: divide by zero encountered in divide\n",
      "  dist_to_weights = lambda dist, dist_threshold=1: (1 - ((np.abs(dist)/dist_threshold).clip(0, 1) ** 3)) ** 3\n",
      "c:\\Users\\jetso\\AppData\\Local\\Programs\\Python\\Python311\\Lib\\site-packages\\moepy\\lowess.py:38: RuntimeWarning: invalid value encountered in divide\n",
      "  dist_to_weights = lambda dist, dist_threshold=1: (1 - ((np.abs(dist)/dist_threshold).clip(0, 1) ** 3)) ** 3\n"
     ]
    },
    {
     "name": "stdout",
     "output_type": "stream",
     "text": [
      "Nick DeSimone\n"
     ]
    },
    {
     "name": "stderr",
     "output_type": "stream",
     "text": [
      "100%|██████████| 9/9 [00:00<00:00, 17.62it/s]\n",
      "c:\\Users\\jetso\\AppData\\Local\\Programs\\Python\\Python311\\Lib\\site-packages\\moepy\\lowess.py:38: RuntimeWarning: divide by zero encountered in divide\n",
      "  dist_to_weights = lambda dist, dist_threshold=1: (1 - ((np.abs(dist)/dist_threshold).clip(0, 1) ** 3)) ** 3\n",
      "c:\\Users\\jetso\\AppData\\Local\\Programs\\Python\\Python311\\Lib\\site-packages\\moepy\\lowess.py:38: RuntimeWarning: invalid value encountered in divide\n",
      "  dist_to_weights = lambda dist, dist_threshold=1: (1 - ((np.abs(dist)/dist_threshold).clip(0, 1) ** 3)) ** 3\n",
      "100%|██████████| 9/9 [00:00<00:00, 17.62it/s]\n"
     ]
    },
    {
     "name": "stdout",
     "output_type": "stream",
     "text": [
      "Nick Foligno\n"
     ]
    },
    {
     "name": "stderr",
     "output_type": "stream",
     "text": [
      "100%|██████████| 9/9 [00:01<00:00,  5.36it/s]\n",
      "100%|██████████| 9/9 [00:04<00:00,  2.13it/s]\n"
     ]
    },
    {
     "name": "stdout",
     "output_type": "stream",
     "text": [
      "Nick Holden\n"
     ]
    },
    {
     "name": "stderr",
     "output_type": "stream",
     "text": [
      "100%|██████████| 9/9 [00:04<00:00,  2.24it/s]\n",
      "100%|██████████| 9/9 [00:04<00:00,  2.02it/s]\n"
     ]
    },
    {
     "name": "stdout",
     "output_type": "stream",
     "text": [
      "Nick Jensen\n"
     ]
    },
    {
     "name": "stderr",
     "output_type": "stream",
     "text": [
      "100%|██████████| 9/9 [00:03<00:00,  2.32it/s]\n",
      "100%|██████████| 9/9 [00:04<00:00,  2.17it/s]\n"
     ]
    },
    {
     "name": "stdout",
     "output_type": "stream",
     "text": [
      "Nick Leddy\n"
     ]
    },
    {
     "name": "stderr",
     "output_type": "stream",
     "text": [
      "100%|██████████| 9/9 [00:04<00:00,  1.92it/s]\n",
      "100%|██████████| 9/9 [00:05<00:00,  1.64it/s]\n"
     ]
    },
    {
     "name": "stdout",
     "output_type": "stream",
     "text": [
      "Nick Paul\n"
     ]
    },
    {
     "name": "stderr",
     "output_type": "stream",
     "text": [
      "100%|██████████| 9/9 [00:03<00:00,  2.54it/s]\n",
      "100%|██████████| 9/9 [00:03<00:00,  2.26it/s]\n"
     ]
    },
    {
     "name": "stdout",
     "output_type": "stream",
     "text": [
      "Nick Perbix\n"
     ]
    },
    {
     "name": "stderr",
     "output_type": "stream",
     "text": [
      "100%|██████████| 9/9 [00:04<00:00,  1.98it/s]\n",
      "100%|██████████| 9/9 [00:04<00:00,  1.84it/s]\n"
     ]
    },
    {
     "name": "stdout",
     "output_type": "stream",
     "text": [
      "Nick Ritchie\n"
     ]
    },
    {
     "name": "stderr",
     "output_type": "stream",
     "text": [
      "100%|██████████| 9/9 [00:04<00:00,  2.18it/s]\n",
      "100%|██████████| 9/9 [00:03<00:00,  2.32it/s]\n"
     ]
    },
    {
     "name": "stdout",
     "output_type": "stream",
     "text": [
      "Nick Schmaltz\n"
     ]
    },
    {
     "name": "stderr",
     "output_type": "stream",
     "text": [
      "100%|██████████| 9/9 [00:04<00:00,  2.15it/s]\n",
      "100%|██████████| 9/9 [00:03<00:00,  2.37it/s]\n"
     ]
    },
    {
     "name": "stdout",
     "output_type": "stream",
     "text": [
      "Nick Seeler\n"
     ]
    },
    {
     "name": "stderr",
     "output_type": "stream",
     "text": [
      "100%|██████████| 9/9 [00:04<00:00,  1.93it/s]\n",
      "100%|██████████| 9/9 [00:04<00:00,  1.98it/s]\n"
     ]
    },
    {
     "name": "stdout",
     "output_type": "stream",
     "text": [
      "Nick Suzuki\n"
     ]
    },
    {
     "name": "stderr",
     "output_type": "stream",
     "text": [
      "100%|██████████| 9/9 [00:04<00:00,  2.19it/s]\n",
      "100%|██████████| 9/9 [00:04<00:00,  1.98it/s]\n"
     ]
    },
    {
     "name": "stdout",
     "output_type": "stream",
     "text": [
      "Nicklas Backstrom\n"
     ]
    },
    {
     "name": "stderr",
     "output_type": "stream",
     "text": [
      "100%|██████████| 9/9 [00:04<00:00,  1.81it/s]\n",
      "100%|██████████| 9/9 [00:05<00:00,  1.74it/s]\n"
     ]
    },
    {
     "name": "stdout",
     "output_type": "stream",
     "text": [
      "Nico Hischier\n"
     ]
    },
    {
     "name": "stderr",
     "output_type": "stream",
     "text": [
      "100%|██████████| 9/9 [00:04<00:00,  2.17it/s]\n",
      "100%|██████████| 9/9 [00:04<00:00,  1.87it/s]\n"
     ]
    },
    {
     "name": "stdout",
     "output_type": "stream",
     "text": [
      "Nico Sturm\n"
     ]
    },
    {
     "name": "stderr",
     "output_type": "stream",
     "text": [
      "100%|██████████| 9/9 [00:04<00:00,  1.92it/s]\n",
      "100%|██████████| 9/9 [00:04<00:00,  2.12it/s]\n"
     ]
    },
    {
     "name": "stdout",
     "output_type": "stream",
     "text": [
      "Nicolas Aube-Kubel\n"
     ]
    },
    {
     "name": "stderr",
     "output_type": "stream",
     "text": [
      "100%|██████████| 9/9 [00:04<00:00,  2.18it/s]\n",
      "100%|██████████| 9/9 [00:04<00:00,  2.24it/s]\n"
     ]
    },
    {
     "name": "stdout",
     "output_type": "stream",
     "text": [
      "Nicolas Deslauriers\n"
     ]
    },
    {
     "name": "stderr",
     "output_type": "stream",
     "text": [
      "100%|██████████| 9/9 [00:04<00:00,  1.80it/s]\n",
      "100%|██████████| 9/9 [00:04<00:00,  1.93it/s]\n"
     ]
    },
    {
     "name": "stdout",
     "output_type": "stream",
     "text": [
      "Nicolas Hague\n"
     ]
    },
    {
     "name": "stderr",
     "output_type": "stream",
     "text": [
      "100%|██████████| 9/9 [00:04<00:00,  1.98it/s]\n",
      "100%|██████████| 9/9 [00:04<00:00,  2.12it/s]\n"
     ]
    },
    {
     "name": "stdout",
     "output_type": "stream",
     "text": [
      "Nicolas Roy\n"
     ]
    },
    {
     "name": "stderr",
     "output_type": "stream",
     "text": [
      "100%|██████████| 9/9 [00:03<00:00,  2.32it/s]\n",
      "100%|██████████| 9/9 [00:04<00:00,  2.24it/s]\n"
     ]
    },
    {
     "name": "stdout",
     "output_type": "stream",
     "text": [
      "Nikita Alexandrov\n"
     ]
    },
    {
     "name": "stderr",
     "output_type": "stream",
     "text": [
      "100%|██████████| 9/9 [00:04<00:00,  2.09it/s]\n",
      "100%|██████████| 9/9 [00:04<00:00,  1.86it/s]\n"
     ]
    },
    {
     "name": "stdout",
     "output_type": "stream",
     "text": [
      "Nikita Kucherov\n"
     ]
    },
    {
     "name": "stderr",
     "output_type": "stream",
     "text": [
      "100%|██████████| 9/9 [00:04<00:00,  2.05it/s]\n",
      "100%|██████████| 9/9 [00:04<00:00,  2.07it/s]\n",
      "c:\\Users\\jetso\\AppData\\Local\\Programs\\Python\\Python311\\Lib\\site-packages\\moepy\\lowess.py:38: RuntimeWarning: invalid value encountered in divide\n",
      "  dist_to_weights = lambda dist, dist_threshold=1: (1 - ((np.abs(dist)/dist_threshold).clip(0, 1) ** 3)) ** 3\n"
     ]
    },
    {
     "name": "stdout",
     "output_type": "stream",
     "text": [
      "Nikita Nesterenko\n"
     ]
    },
    {
     "name": "stderr",
     "output_type": "stream",
     "text": [
      "100%|██████████| 9/9 [00:00<00:00, 19.86it/s]\n",
      "c:\\Users\\jetso\\AppData\\Local\\Programs\\Python\\Python311\\Lib\\site-packages\\moepy\\lowess.py:38: RuntimeWarning: invalid value encountered in divide\n",
      "  dist_to_weights = lambda dist, dist_threshold=1: (1 - ((np.abs(dist)/dist_threshold).clip(0, 1) ** 3)) ** 3\n",
      "100%|██████████| 9/9 [00:00<00:00, 19.43it/s]\n"
     ]
    },
    {
     "name": "stdout",
     "output_type": "stream",
     "text": [
      "Nikita Okhotiuk\n"
     ]
    },
    {
     "name": "stderr",
     "output_type": "stream",
     "text": [
      "100%|██████████| 9/9 [00:04<00:00,  1.85it/s]\n",
      "100%|██████████| 9/9 [00:17<00:00,  1.96s/it]\n"
     ]
    },
    {
     "name": "stdout",
     "output_type": "stream",
     "text": [
      "Nikita Soshnikov\n"
     ]
    },
    {
     "name": "stderr",
     "output_type": "stream",
     "text": [
      "100%|██████████| 9/9 [00:03<00:00,  2.40it/s]\n",
      "100%|██████████| 9/9 [00:03<00:00,  2.48it/s]\n"
     ]
    },
    {
     "name": "stdout",
     "output_type": "stream",
     "text": [
      "Nikita Zadorov\n"
     ]
    },
    {
     "name": "stderr",
     "output_type": "stream",
     "text": [
      "100%|██████████| 9/9 [00:03<00:00,  2.25it/s]\n",
      "100%|██████████| 9/9 [00:04<00:00,  2.18it/s]\n"
     ]
    },
    {
     "name": "stdout",
     "output_type": "stream",
     "text": [
      "Nikita Zaitsev\n"
     ]
    },
    {
     "name": "stderr",
     "output_type": "stream",
     "text": [
      "100%|██████████| 9/9 [00:04<00:00,  2.22it/s]\n",
      "100%|██████████| 9/9 [00:04<00:00,  2.14it/s]\n"
     ]
    },
    {
     "name": "stdout",
     "output_type": "stream",
     "text": [
      "Niko Mikkola\n"
     ]
    },
    {
     "name": "stderr",
     "output_type": "stream",
     "text": [
      "100%|██████████| 9/9 [00:04<00:00,  2.21it/s]\n",
      "100%|██████████| 9/9 [00:04<00:00,  1.82it/s]\n"
     ]
    },
    {
     "name": "stdout",
     "output_type": "stream",
     "text": [
      "Nikolai Knyzhov\n"
     ]
    },
    {
     "name": "stderr",
     "output_type": "stream",
     "text": [
      "100%|██████████| 9/9 [00:04<00:00,  2.10it/s]\n",
      "100%|██████████| 9/9 [00:04<00:00,  1.97it/s]\n"
     ]
    },
    {
     "name": "stdout",
     "output_type": "stream",
     "text": [
      "Nikolaj Ehlers\n"
     ]
    },
    {
     "name": "stderr",
     "output_type": "stream",
     "text": [
      "100%|██████████| 9/9 [00:04<00:00,  2.09it/s]\n",
      "100%|██████████| 9/9 [00:04<00:00,  1.97it/s]\n"
     ]
    },
    {
     "name": "stdout",
     "output_type": "stream",
     "text": [
      "Nils Aman\n"
     ]
    },
    {
     "name": "stderr",
     "output_type": "stream",
     "text": [
      "100%|██████████| 9/9 [00:03<00:00,  2.28it/s]\n",
      "100%|██████████| 9/9 [00:03<00:00,  2.57it/s]\n"
     ]
    },
    {
     "name": "stdout",
     "output_type": "stream",
     "text": [
      "Nils Hoglander\n"
     ]
    },
    {
     "name": "stderr",
     "output_type": "stream",
     "text": [
      "100%|██████████| 9/9 [00:03<00:00,  2.45it/s]\n",
      "100%|██████████| 9/9 [00:04<00:00,  2.20it/s]\n"
     ]
    },
    {
     "name": "stdout",
     "output_type": "stream",
     "text": [
      "Nils Lundkvist\n"
     ]
    },
    {
     "name": "stderr",
     "output_type": "stream",
     "text": [
      "100%|██████████| 9/9 [00:03<00:00,  2.60it/s]\n",
      "100%|██████████| 9/9 [00:04<00:00,  2.03it/s]\n"
     ]
    },
    {
     "name": "stdout",
     "output_type": "stream",
     "text": [
      "Nino Niederreiter\n"
     ]
    },
    {
     "name": "stderr",
     "output_type": "stream",
     "text": [
      "100%|██████████| 9/9 [00:03<00:00,  2.36it/s]\n",
      "100%|██████████| 9/9 [00:03<00:00,  2.25it/s]\n"
     ]
    },
    {
     "name": "stdout",
     "output_type": "stream",
     "text": [
      "Noah Cates\n"
     ]
    },
    {
     "name": "stderr",
     "output_type": "stream",
     "text": [
      "100%|██████████| 9/9 [00:04<00:00,  1.95it/s]\n",
      "100%|██████████| 9/9 [00:04<00:00,  1.90it/s]\n"
     ]
    },
    {
     "name": "stdout",
     "output_type": "stream",
     "text": [
      "Noah Dobson\n"
     ]
    },
    {
     "name": "stderr",
     "output_type": "stream",
     "text": [
      "100%|██████████| 9/9 [00:04<00:00,  1.88it/s]\n",
      "100%|██████████| 9/9 [00:04<00:00,  2.24it/s]\n"
     ]
    },
    {
     "name": "stdout",
     "output_type": "stream",
     "text": [
      "Noah Gregor\n"
     ]
    },
    {
     "name": "stderr",
     "output_type": "stream",
     "text": [
      "100%|██████████| 9/9 [00:03<00:00,  2.31it/s]\n",
      "100%|██████████| 9/9 [00:03<00:00,  2.43it/s]\n"
     ]
    },
    {
     "name": "stdout",
     "output_type": "stream",
     "text": [
      "Noah Hanifin\n"
     ]
    },
    {
     "name": "stderr",
     "output_type": "stream",
     "text": [
      "100%|██████████| 9/9 [00:04<00:00,  2.17it/s]\n",
      "100%|██████████| 9/9 [00:04<00:00,  2.25it/s]\n"
     ]
    },
    {
     "name": "stdout",
     "output_type": "stream",
     "text": [
      "Noah Juulsen\n"
     ]
    },
    {
     "name": "stderr",
     "output_type": "stream",
     "text": [
      "100%|██████████| 9/9 [00:03<00:00,  2.35it/s]\n",
      "100%|██████████| 9/9 [00:04<00:00,  2.14it/s]\n"
     ]
    },
    {
     "name": "stdout",
     "output_type": "stream",
     "text": [
      "Noel Acciari\n"
     ]
    },
    {
     "name": "stderr",
     "output_type": "stream",
     "text": [
      "100%|██████████| 9/9 [00:03<00:00,  2.35it/s]\n",
      "100%|██████████| 9/9 [00:03<00:00,  2.28it/s]\n"
     ]
    },
    {
     "name": "stdout",
     "output_type": "stream",
     "text": [
      "Nolan Foote\n"
     ]
    },
    {
     "name": "stderr",
     "output_type": "stream",
     "text": [
      "100%|██████████| 9/9 [00:04<00:00,  2.17it/s]\n",
      "100%|██████████| 9/9 [00:04<00:00,  2.06it/s]\n"
     ]
    },
    {
     "name": "stdout",
     "output_type": "stream",
     "text": [
      "Oliver Bjorkstrand\n"
     ]
    },
    {
     "name": "stderr",
     "output_type": "stream",
     "text": [
      "100%|██████████| 9/9 [00:04<00:00,  2.24it/s]\n",
      "100%|██████████| 9/9 [00:04<00:00,  2.16it/s]\n"
     ]
    },
    {
     "name": "stdout",
     "output_type": "stream",
     "text": [
      "Oliver Ekman-Larsson\n"
     ]
    },
    {
     "name": "stderr",
     "output_type": "stream",
     "text": [
      "100%|██████████| 9/9 [00:04<00:00,  2.19it/s]\n",
      "100%|██████████| 9/9 [00:05<00:00,  1.66it/s]\n"
     ]
    },
    {
     "name": "stdout",
     "output_type": "stream",
     "text": [
      "Oliver Wahlstrom\n"
     ]
    },
    {
     "name": "stderr",
     "output_type": "stream",
     "text": [
      "100%|██████████| 9/9 [00:04<00:00,  1.89it/s]\n",
      "100%|██████████| 9/9 [00:04<00:00,  2.03it/s]\n"
     ]
    },
    {
     "name": "stdout",
     "output_type": "stream",
     "text": [
      "Olle Lycksell\n"
     ]
    },
    {
     "name": "stderr",
     "output_type": "stream",
     "text": [
      "100%|██████████| 9/9 [00:04<00:00,  2.02it/s]\n",
      "100%|██████████| 9/9 [00:04<00:00,  2.10it/s]\n"
     ]
    },
    {
     "name": "stdout",
     "output_type": "stream",
     "text": [
      "Olli Maatta\n"
     ]
    },
    {
     "name": "stderr",
     "output_type": "stream",
     "text": [
      "100%|██████████| 9/9 [00:06<00:00,  1.47it/s]\n",
      "100%|██████████| 9/9 [00:03<00:00,  2.27it/s]\n"
     ]
    },
    {
     "name": "stdout",
     "output_type": "stream",
     "text": [
      "Ondrej Kase\n"
     ]
    },
    {
     "name": "stderr",
     "output_type": "stream",
     "text": [
      "100%|██████████| 9/9 [00:04<00:00,  2.13it/s]\n",
      "100%|██████████| 9/9 [00:03<00:00,  2.37it/s]\n"
     ]
    },
    {
     "name": "stdout",
     "output_type": "stream",
     "text": [
      "Ondrej Palat\n"
     ]
    },
    {
     "name": "stderr",
     "output_type": "stream",
     "text": [
      "100%|██████████| 9/9 [00:04<00:00,  2.01it/s]\n",
      "100%|██████████| 9/9 [00:04<00:00,  1.95it/s]\n"
     ]
    },
    {
     "name": "stdout",
     "output_type": "stream",
     "text": [
      "Oskar Lindblom\n"
     ]
    },
    {
     "name": "stderr",
     "output_type": "stream",
     "text": [
      "100%|██████████| 9/9 [00:04<00:00,  2.08it/s]\n",
      "100%|██████████| 9/9 [00:03<00:00,  2.29it/s]\n",
      "c:\\Users\\jetso\\AppData\\Local\\Programs\\Python\\Python311\\Lib\\site-packages\\moepy\\lowess.py:38: RuntimeWarning: invalid value encountered in divide\n",
      "  dist_to_weights = lambda dist, dist_threshold=1: (1 - ((np.abs(dist)/dist_threshold).clip(0, 1) ** 3)) ** 3\n"
     ]
    },
    {
     "name": "stdout",
     "output_type": "stream",
     "text": [
      "Oskar Olausson\n"
     ]
    },
    {
     "name": "stderr",
     "output_type": "stream",
     "text": [
      "100%|██████████| 9/9 [00:00<00:00, 19.34it/s]\n",
      "c:\\Users\\jetso\\AppData\\Local\\Programs\\Python\\Python311\\Lib\\site-packages\\moepy\\lowess.py:38: RuntimeWarning: invalid value encountered in divide\n",
      "  dist_to_weights = lambda dist, dist_threshold=1: (1 - ((np.abs(dist)/dist_threshold).clip(0, 1) ** 3)) ** 3\n",
      "100%|██████████| 9/9 [00:00<00:00, 16.96it/s]\n"
     ]
    },
    {
     "name": "stdout",
     "output_type": "stream",
     "text": [
      "Oskar Sundqvist\n"
     ]
    },
    {
     "name": "stderr",
     "output_type": "stream",
     "text": [
      "100%|██████████| 9/9 [00:04<00:00,  1.95it/s]\n",
      "100%|██████████| 9/9 [00:03<00:00,  2.48it/s]\n"
     ]
    },
    {
     "name": "stdout",
     "output_type": "stream",
     "text": [
      "Otto Koivula\n"
     ]
    },
    {
     "name": "stderr",
     "output_type": "stream",
     "text": [
      "100%|██████████| 9/9 [00:03<00:00,  2.76it/s]\n",
      "100%|██████████| 9/9 [00:03<00:00,  2.53it/s]\n",
      "c:\\Users\\jetso\\AppData\\Local\\Programs\\Python\\Python311\\Lib\\site-packages\\moepy\\lowess.py:38: RuntimeWarning: invalid value encountered in divide\n",
      "  dist_to_weights = lambda dist, dist_threshold=1: (1 - ((np.abs(dist)/dist_threshold).clip(0, 1) ** 3)) ** 3\n"
     ]
    },
    {
     "name": "stdout",
     "output_type": "stream",
     "text": [
      "Owen Beck\n"
     ]
    },
    {
     "name": "stderr",
     "output_type": "stream",
     "text": [
      "100%|██████████| 9/9 [00:00<00:00, 16.52it/s]\n",
      "c:\\Users\\jetso\\AppData\\Local\\Programs\\Python\\Python311\\Lib\\site-packages\\moepy\\lowess.py:38: RuntimeWarning: invalid value encountered in divide\n",
      "  dist_to_weights = lambda dist, dist_threshold=1: (1 - ((np.abs(dist)/dist_threshold).clip(0, 1) ** 3)) ** 3\n",
      "100%|██████████| 9/9 [00:00<00:00, 17.46it/s]\n"
     ]
    },
    {
     "name": "stdout",
     "output_type": "stream",
     "text": [
      "Owen Power\n"
     ]
    },
    {
     "name": "stderr",
     "output_type": "stream",
     "text": [
      "100%|██████████| 9/9 [00:04<00:00,  2.24it/s]\n",
      "100%|██████████| 9/9 [00:04<00:00,  2.09it/s]\n"
     ]
    },
    {
     "name": "stdout",
     "output_type": "stream",
     "text": [
      "Owen Tippett\n"
     ]
    },
    {
     "name": "stderr",
     "output_type": "stream",
     "text": [
      "100%|██████████| 9/9 [00:04<00:00,  2.18it/s]\n",
      "100%|██████████| 9/9 [00:04<00:00,  2.07it/s]\n"
     ]
    },
    {
     "name": "stdout",
     "output_type": "stream",
     "text": [
      "Parker Kelly\n"
     ]
    },
    {
     "name": "stderr",
     "output_type": "stream",
     "text": [
      "100%|██████████| 9/9 [00:04<00:00,  2.18it/s]\n",
      "100%|██████████| 9/9 [00:03<00:00,  2.28it/s]\n"
     ]
    },
    {
     "name": "stdout",
     "output_type": "stream",
     "text": [
      "Parker Wotherspoon\n"
     ]
    },
    {
     "name": "stderr",
     "output_type": "stream",
     "text": [
      "100%|██████████| 9/9 [00:04<00:00,  2.07it/s]\n",
      "100%|██████████| 9/9 [00:04<00:00,  2.00it/s]\n"
     ]
    },
    {
     "name": "stdout",
     "output_type": "stream",
     "text": [
      "Pat Maroon\n"
     ]
    },
    {
     "name": "stderr",
     "output_type": "stream",
     "text": [
      "100%|██████████| 9/9 [00:04<00:00,  2.03it/s]\n",
      "100%|██████████| 9/9 [00:04<00:00,  2.13it/s]\n"
     ]
    },
    {
     "name": "stdout",
     "output_type": "stream",
     "text": [
      "Patric Hornqvist\n"
     ]
    },
    {
     "name": "stderr",
     "output_type": "stream",
     "text": [
      "100%|██████████| 9/9 [00:04<00:00,  1.96it/s]\n",
      "100%|██████████| 9/9 [00:04<00:00,  2.05it/s]\n"
     ]
    },
    {
     "name": "stdout",
     "output_type": "stream",
     "text": [
      "Patrice Bergeron\n"
     ]
    },
    {
     "name": "stderr",
     "output_type": "stream",
     "text": [
      "100%|██████████| 9/9 [00:04<00:00,  1.99it/s]\n",
      "100%|██████████| 9/9 [00:04<00:00,  2.06it/s]\n"
     ]
    },
    {
     "name": "stdout",
     "output_type": "stream",
     "text": [
      "Patrick Brown\n"
     ]
    },
    {
     "name": "stderr",
     "output_type": "stream",
     "text": [
      "100%|██████████| 9/9 [00:03<00:00,  2.49it/s]\n",
      "100%|██████████| 9/9 [00:03<00:00,  2.38it/s]\n"
     ]
    },
    {
     "name": "stdout",
     "output_type": "stream",
     "text": [
      "Patrick Kane\n"
     ]
    },
    {
     "name": "stderr",
     "output_type": "stream",
     "text": [
      "100%|██████████| 9/9 [00:04<00:00,  2.20it/s]\n",
      "100%|██████████| 9/9 [00:04<00:00,  1.92it/s]\n"
     ]
    },
    {
     "name": "stdout",
     "output_type": "stream",
     "text": [
      "Patrik Laine\n"
     ]
    },
    {
     "name": "stderr",
     "output_type": "stream",
     "text": [
      "100%|██████████| 9/9 [00:04<00:00,  1.93it/s]\n",
      "100%|██████████| 9/9 [00:05<00:00,  1.65it/s]\n"
     ]
    },
    {
     "name": "stdout",
     "output_type": "stream",
     "text": [
      "Patrik Nemeth\n"
     ]
    },
    {
     "name": "stderr",
     "output_type": "stream",
     "text": [
      "100%|██████████| 9/9 [00:08<00:00,  1.04it/s]\n",
      "100%|██████████| 9/9 [00:06<00:00,  1.33it/s]\n"
     ]
    },
    {
     "name": "stdout",
     "output_type": "stream",
     "text": [
      "Paul Cotter\n"
     ]
    },
    {
     "name": "stderr",
     "output_type": "stream",
     "text": [
      "100%|██████████| 9/9 [00:09<00:00,  1.02s/it]\n",
      "100%|██████████| 9/9 [00:11<00:00,  1.32s/it]\n"
     ]
    },
    {
     "name": "stdout",
     "output_type": "stream",
     "text": [
      "Paul Stastny\n"
     ]
    },
    {
     "name": "stderr",
     "output_type": "stream",
     "text": [
      "100%|██████████| 9/9 [00:04<00:00,  1.93it/s]\n",
      "100%|██████████| 9/9 [00:04<00:00,  1.90it/s]\n"
     ]
    },
    {
     "name": "stdout",
     "output_type": "stream",
     "text": [
      "Pavel Buchnevich\n"
     ]
    },
    {
     "name": "stderr",
     "output_type": "stream",
     "text": [
      "100%|██████████| 9/9 [00:04<00:00,  2.06it/s]\n",
      "100%|██████████| 9/9 [00:04<00:00,  2.13it/s]\n"
     ]
    },
    {
     "name": "stdout",
     "output_type": "stream",
     "text": [
      "Pavel Dorofeyev\n"
     ]
    },
    {
     "name": "stderr",
     "output_type": "stream",
     "text": [
      "100%|██████████| 9/9 [00:04<00:00,  2.05it/s]\n",
      "100%|██████████| 9/9 [00:04<00:00,  2.00it/s]\n"
     ]
    },
    {
     "name": "stdout",
     "output_type": "stream",
     "text": [
      "Pavel Zacha\n"
     ]
    },
    {
     "name": "stderr",
     "output_type": "stream",
     "text": [
      "100%|██████████| 9/9 [00:03<00:00,  2.29it/s]\n",
      "100%|██████████| 9/9 [00:03<00:00,  2.36it/s]\n"
     ]
    },
    {
     "name": "stdout",
     "output_type": "stream",
     "text": [
      "Pavol Regenda\n"
     ]
    },
    {
     "name": "stderr",
     "output_type": "stream",
     "text": [
      "100%|██████████| 9/9 [00:03<00:00,  2.48it/s]\n",
      "100%|██████████| 9/9 [00:04<00:00,  2.20it/s]\n"
     ]
    },
    {
     "name": "stdout",
     "output_type": "stream",
     "text": [
      "Peyton Krebs\n"
     ]
    },
    {
     "name": "stderr",
     "output_type": "stream",
     "text": [
      "100%|██████████| 9/9 [00:03<00:00,  2.58it/s]\n",
      "100%|██████████| 9/9 [00:04<00:00,  2.22it/s]\n"
     ]
    },
    {
     "name": "stdout",
     "output_type": "stream",
     "text": [
      "Phil Kessel\n"
     ]
    },
    {
     "name": "stderr",
     "output_type": "stream",
     "text": [
      "100%|██████████| 9/9 [00:05<00:00,  1.65it/s]\n",
      "100%|██████████| 9/9 [00:04<00:00,  1.84it/s]\n"
     ]
    },
    {
     "name": "stdout",
     "output_type": "stream",
     "text": [
      "Philip Broberg\n"
     ]
    },
    {
     "name": "stderr",
     "output_type": "stream",
     "text": [
      "100%|██████████| 9/9 [00:04<00:00,  2.00it/s]\n",
      "100%|██████████| 9/9 [00:04<00:00,  1.84it/s]\n"
     ]
    },
    {
     "name": "stdout",
     "output_type": "stream",
     "text": [
      "Philip Tomasino\n"
     ]
    },
    {
     "name": "stderr",
     "output_type": "stream",
     "text": [
      "100%|██████████| 9/9 [00:05<00:00,  1.72it/s]\n",
      "100%|██████████| 9/9 [00:04<00:00,  1.81it/s]\n"
     ]
    },
    {
     "name": "stdout",
     "output_type": "stream",
     "text": [
      "Philipp Kurashev\n"
     ]
    },
    {
     "name": "stderr",
     "output_type": "stream",
     "text": [
      "100%|██████████| 9/9 [00:04<00:00,  2.20it/s]\n",
      "100%|██████████| 9/9 [00:04<00:00,  2.21it/s]\n"
     ]
    },
    {
     "name": "stdout",
     "output_type": "stream",
     "text": [
      "Philippe Myers\n"
     ]
    },
    {
     "name": "stderr",
     "output_type": "stream",
     "text": [
      "100%|██████████| 9/9 [00:03<00:00,  2.39it/s]\n",
      "100%|██████████| 9/9 [00:04<00:00,  2.06it/s]\n"
     ]
    },
    {
     "name": "stdout",
     "output_type": "stream",
     "text": [
      "Phillip Danault\n"
     ]
    },
    {
     "name": "stderr",
     "output_type": "stream",
     "text": [
      "100%|██████████| 9/9 [00:03<00:00,  2.30it/s]\n",
      "100%|██████████| 9/9 [00:04<00:00,  2.21it/s]\n"
     ]
    },
    {
     "name": "stdout",
     "output_type": "stream",
     "text": [
      "Phillip Di Giuseppe\n"
     ]
    },
    {
     "name": "stderr",
     "output_type": "stream",
     "text": [
      "100%|██████████| 9/9 [00:04<00:00,  2.19it/s]\n",
      "100%|██████████| 9/9 [00:04<00:00,  2.14it/s]\n"
     ]
    },
    {
     "name": "stdout",
     "output_type": "stream",
     "text": [
      "Pierre Engvall\n"
     ]
    },
    {
     "name": "stderr",
     "output_type": "stream",
     "text": [
      "100%|██████████| 9/9 [00:03<00:00,  2.42it/s]\n",
      "100%|██████████| 9/9 [00:04<00:00,  2.05it/s]\n"
     ]
    },
    {
     "name": "stdout",
     "output_type": "stream",
     "text": [
      "Pierre-Edouard Bellemare\n"
     ]
    },
    {
     "name": "stderr",
     "output_type": "stream",
     "text": [
      "100%|██████████| 9/9 [00:03<00:00,  2.37it/s]\n",
      "100%|██████████| 9/9 [00:03<00:00,  2.53it/s]\n"
     ]
    },
    {
     "name": "stdout",
     "output_type": "stream",
     "text": [
      "Pierre-Luc Dubois\n"
     ]
    },
    {
     "name": "stderr",
     "output_type": "stream",
     "text": [
      "100%|██████████| 9/9 [00:04<00:00,  2.07it/s]\n",
      "100%|██████████| 9/9 [00:04<00:00,  1.97it/s]\n"
     ]
    },
    {
     "name": "stdout",
     "output_type": "stream",
     "text": [
      "Pierre-Olivier Joseph\n"
     ]
    },
    {
     "name": "stderr",
     "output_type": "stream",
     "text": [
      "100%|██████████| 9/9 [00:04<00:00,  2.14it/s]\n",
      "100%|██████████| 9/9 [00:04<00:00,  1.94it/s]\n"
     ]
    },
    {
     "name": "stdout",
     "output_type": "stream",
     "text": [
      "Pius Suter\n"
     ]
    },
    {
     "name": "stderr",
     "output_type": "stream",
     "text": [
      "100%|██████████| 9/9 [00:04<00:00,  2.16it/s]\n",
      "100%|██████████| 9/9 [00:04<00:00,  2.16it/s]\n"
     ]
    },
    {
     "name": "stdout",
     "output_type": "stream",
     "text": [
      "Pontus Holmberg\n"
     ]
    },
    {
     "name": "stderr",
     "output_type": "stream",
     "text": [
      "100%|██████████| 9/9 [00:04<00:00,  2.07it/s]\n",
      "100%|██████████| 9/9 [00:04<00:00,  1.99it/s]\n"
     ]
    },
    {
     "name": "stdout",
     "output_type": "stream",
     "text": [
      "Quinn Hughes\n"
     ]
    },
    {
     "name": "stderr",
     "output_type": "stream",
     "text": [
      "100%|██████████| 9/9 [00:04<00:00,  2.06it/s]\n",
      "100%|██████████| 9/9 [00:04<00:00,  2.03it/s]\n"
     ]
    },
    {
     "name": "stdout",
     "output_type": "stream",
     "text": [
      "Quinton Byfield\n"
     ]
    },
    {
     "name": "stderr",
     "output_type": "stream",
     "text": [
      "100%|██████████| 9/9 [00:03<00:00,  2.34it/s]\n",
      "100%|██████████| 9/9 [00:03<00:00,  2.50it/s]\n"
     ]
    },
    {
     "name": "stdout",
     "output_type": "stream",
     "text": [
      "Radek Faksa\n"
     ]
    },
    {
     "name": "stderr",
     "output_type": "stream",
     "text": [
      "100%|██████████| 9/9 [00:04<00:00,  2.12it/s]\n",
      "100%|██████████| 9/9 [00:04<00:00,  2.24it/s]\n"
     ]
    },
    {
     "name": "stdout",
     "output_type": "stream",
     "text": [
      "Radim Simek\n"
     ]
    },
    {
     "name": "stderr",
     "output_type": "stream",
     "text": [
      "100%|██████████| 9/9 [00:04<00:00,  1.97it/s]\n",
      "100%|██████████| 9/9 [00:04<00:00,  2.10it/s]\n"
     ]
    },
    {
     "name": "stdout",
     "output_type": "stream",
     "text": [
      "Radim Zohorna\n"
     ]
    },
    {
     "name": "stderr",
     "output_type": "stream",
     "text": [
      "100%|██████████| 9/9 [00:05<00:00,  1.69it/s]\n",
      "100%|██████████| 9/9 [00:05<00:00,  1.51it/s]\n"
     ]
    },
    {
     "name": "stdout",
     "output_type": "stream",
     "text": [
      "Radko Gudas\n"
     ]
    },
    {
     "name": "stderr",
     "output_type": "stream",
     "text": [
      "100%|██████████| 9/9 [00:03<00:00,  2.52it/s]\n",
      "100%|██████████| 9/9 [00:03<00:00,  2.33it/s]\n"
     ]
    },
    {
     "name": "stdout",
     "output_type": "stream",
     "text": [
      "Rafael Harvey-Pinard\n"
     ]
    },
    {
     "name": "stderr",
     "output_type": "stream",
     "text": [
      "100%|██████████| 9/9 [00:05<00:00,  1.68it/s]\n",
      "100%|██████████| 9/9 [00:04<00:00,  1.82it/s]\n"
     ]
    },
    {
     "name": "stdout",
     "output_type": "stream",
     "text": [
      "Rasmus Andersson\n"
     ]
    },
    {
     "name": "stderr",
     "output_type": "stream",
     "text": [
      "100%|██████████| 9/9 [00:03<00:00,  2.57it/s]\n",
      "100%|██████████| 9/9 [00:03<00:00,  2.47it/s]\n"
     ]
    },
    {
     "name": "stdout",
     "output_type": "stream",
     "text": [
      "Rasmus Asplund\n"
     ]
    },
    {
     "name": "stderr",
     "output_type": "stream",
     "text": [
      "100%|██████████| 9/9 [00:03<00:00,  2.78it/s]\n",
      "100%|██████████| 9/9 [00:03<00:00,  2.28it/s]\n"
     ]
    },
    {
     "name": "stdout",
     "output_type": "stream",
     "text": [
      "Rasmus Dahlin\n"
     ]
    },
    {
     "name": "stderr",
     "output_type": "stream",
     "text": [
      "100%|██████████| 9/9 [00:04<00:00,  2.05it/s]\n",
      "100%|██████████| 9/9 [00:04<00:00,  2.06it/s]\n"
     ]
    },
    {
     "name": "stdout",
     "output_type": "stream",
     "text": [
      "Rasmus Kupari\n"
     ]
    },
    {
     "name": "stderr",
     "output_type": "stream",
     "text": [
      "100%|██████████| 9/9 [00:03<00:00,  2.88it/s]\n",
      "100%|██████████| 9/9 [00:03<00:00,  2.51it/s]\n"
     ]
    },
    {
     "name": "stdout",
     "output_type": "stream",
     "text": [
      "Rasmus Ristolainen\n"
     ]
    },
    {
     "name": "stderr",
     "output_type": "stream",
     "text": [
      "100%|██████████| 9/9 [00:05<00:00,  1.74it/s]\n",
      "100%|██████████| 9/9 [00:05<00:00,  1.75it/s]\n"
     ]
    },
    {
     "name": "stdout",
     "output_type": "stream",
     "text": [
      "Rasmus Sandin\n"
     ]
    },
    {
     "name": "stderr",
     "output_type": "stream",
     "text": [
      "100%|██████████| 9/9 [00:05<00:00,  1.69it/s]\n",
      "100%|██████████| 9/9 [00:04<00:00,  1.90it/s]\n"
     ]
    },
    {
     "name": "stdout",
     "output_type": "stream",
     "text": [
      "Reese Johnson\n"
     ]
    },
    {
     "name": "stderr",
     "output_type": "stream",
     "text": [
      "100%|██████████| 9/9 [00:03<00:00,  2.80it/s]\n",
      "100%|██████████| 9/9 [00:03<00:00,  2.54it/s]\n"
     ]
    },
    {
     "name": "stdout",
     "output_type": "stream",
     "text": [
      "Reilly Smith\n"
     ]
    },
    {
     "name": "stderr",
     "output_type": "stream",
     "text": [
      "100%|██████████| 9/9 [00:03<00:00,  2.36it/s]\n",
      "100%|██████████| 9/9 [00:04<00:00,  2.05it/s]\n"
     ]
    },
    {
     "name": "stdout",
     "output_type": "stream",
     "text": [
      "Rem Pitlick\n"
     ]
    },
    {
     "name": "stderr",
     "output_type": "stream",
     "text": [
      "100%|██████████| 9/9 [00:04<00:00,  2.20it/s]\n",
      "100%|██████████| 9/9 [00:04<00:00,  1.95it/s]\n"
     ]
    },
    {
     "name": "stdout",
     "output_type": "stream",
     "text": [
      "Rickard Rakell\n"
     ]
    },
    {
     "name": "stderr",
     "output_type": "stream",
     "text": [
      "100%|██████████| 9/9 [00:03<00:00,  2.38it/s]\n",
      "100%|██████████| 9/9 [00:04<00:00,  2.03it/s]\n"
     ]
    },
    {
     "name": "stdout",
     "output_type": "stream",
     "text": [
      "Ridly Greig\n"
     ]
    },
    {
     "name": "stderr",
     "output_type": "stream",
     "text": [
      "100%|██████████| 9/9 [00:05<00:00,  1.72it/s]\n",
      "100%|██████████| 9/9 [00:05<00:00,  1.56it/s]\n"
     ]
    },
    {
     "name": "stdout",
     "output_type": "stream",
     "text": [
      "Riley Sheahan\n"
     ]
    },
    {
     "name": "stderr",
     "output_type": "stream",
     "text": [
      "100%|██████████| 9/9 [00:05<00:00,  1.76it/s]\n",
      "100%|██████████| 9/9 [00:05<00:00,  1.80it/s]\n"
     ]
    },
    {
     "name": "stdout",
     "output_type": "stream",
     "text": [
      "Riley Stillman\n"
     ]
    },
    {
     "name": "stderr",
     "output_type": "stream",
     "text": [
      "100%|██████████| 9/9 [00:04<00:00,  2.22it/s]\n",
      "100%|██████████| 9/9 [00:04<00:00,  2.21it/s]\n"
     ]
    },
    {
     "name": "stdout",
     "output_type": "stream",
     "text": [
      "Riley Tufte\n"
     ]
    },
    {
     "name": "stderr",
     "output_type": "stream",
     "text": [
      "100%|██████████| 9/9 [00:03<00:00,  2.59it/s]\n",
      "100%|██████████| 9/9 [00:03<00:00,  2.28it/s]\n"
     ]
    },
    {
     "name": "stdout",
     "output_type": "stream",
     "text": [
      "Robby Fabbri\n"
     ]
    },
    {
     "name": "stderr",
     "output_type": "stream",
     "text": [
      "100%|██████████| 9/9 [00:04<00:00,  2.19it/s]\n",
      "100%|██████████| 9/9 [00:04<00:00,  1.82it/s]\n"
     ]
    },
    {
     "name": "stdout",
     "output_type": "stream",
     "text": [
      "Robert Bortuzzo\n"
     ]
    },
    {
     "name": "stderr",
     "output_type": "stream",
     "text": [
      "100%|██████████| 9/9 [00:04<00:00,  2.10it/s]\n",
      "100%|██████████| 9/9 [00:04<00:00,  2.19it/s]\n"
     ]
    },
    {
     "name": "stdout",
     "output_type": "stream",
     "text": [
      "Robert Hagg\n"
     ]
    },
    {
     "name": "stderr",
     "output_type": "stream",
     "text": [
      "100%|██████████| 9/9 [00:04<00:00,  1.96it/s]\n",
      "100%|██████████| 9/9 [00:05<00:00,  1.76it/s]\n"
     ]
    },
    {
     "name": "stdout",
     "output_type": "stream",
     "text": [
      "Robert Thomas\n"
     ]
    },
    {
     "name": "stderr",
     "output_type": "stream",
     "text": [
      "100%|██████████| 9/9 [00:04<00:00,  2.05it/s]\n",
      "100%|██████████| 9/9 [00:03<00:00,  2.25it/s]\n"
     ]
    },
    {
     "name": "stdout",
     "output_type": "stream",
     "text": [
      "Robin Salo\n"
     ]
    },
    {
     "name": "stderr",
     "output_type": "stream",
     "text": [
      "100%|██████████| 9/9 [00:03<00:00,  2.77it/s]\n",
      "100%|██████████| 9/9 [00:04<00:00,  2.17it/s]\n"
     ]
    },
    {
     "name": "stdout",
     "output_type": "stream",
     "text": [
      "Roland McKeown\n"
     ]
    },
    {
     "name": "stderr",
     "output_type": "stream",
     "text": [
      "100%|██████████| 9/9 [00:04<00:00,  2.04it/s]\n",
      "100%|██████████| 9/9 [00:04<00:00,  2.05it/s]\n"
     ]
    },
    {
     "name": "stdout",
     "output_type": "stream",
     "text": [
      "Roman Josi\n"
     ]
    },
    {
     "name": "stderr",
     "output_type": "stream",
     "text": [
      "100%|██████████| 9/9 [00:04<00:00,  2.21it/s]\n",
      "100%|██████████| 9/9 [00:04<00:00,  2.15it/s]\n"
     ]
    },
    {
     "name": "stdout",
     "output_type": "stream",
     "text": [
      "Roope Hintz\n"
     ]
    },
    {
     "name": "stderr",
     "output_type": "stream",
     "text": [
      "100%|██████████| 9/9 [00:03<00:00,  2.34it/s]\n",
      "100%|██████████| 9/9 [00:04<00:00,  2.19it/s]\n"
     ]
    },
    {
     "name": "stdout",
     "output_type": "stream",
     "text": [
      "Ross Colton\n"
     ]
    },
    {
     "name": "stderr",
     "output_type": "stream",
     "text": [
      "100%|██████████| 9/9 [00:04<00:00,  1.93it/s]\n",
      "100%|██████████| 9/9 [00:04<00:00,  1.93it/s]\n"
     ]
    },
    {
     "name": "stdout",
     "output_type": "stream",
     "text": [
      "Ross Johnston\n"
     ]
    },
    {
     "name": "stderr",
     "output_type": "stream",
     "text": [
      "100%|██████████| 9/9 [00:03<00:00,  2.28it/s]\n",
      "100%|██████████| 9/9 [00:04<00:00,  2.21it/s]\n"
     ]
    },
    {
     "name": "stdout",
     "output_type": "stream",
     "text": [
      "Rourke Chartier\n"
     ]
    },
    {
     "name": "stderr",
     "output_type": "stream",
     "text": [
      "100%|██████████| 9/9 [00:03<00:00,  2.85it/s]\n",
      "100%|██████████| 9/9 [00:03<00:00,  2.39it/s]\n"
     ]
    },
    {
     "name": "stdout",
     "output_type": "stream",
     "text": [
      "Rudolfs Balcers\n"
     ]
    },
    {
     "name": "stderr",
     "output_type": "stream",
     "text": [
      "100%|██████████| 9/9 [00:04<00:00,  2.23it/s]\n",
      "100%|██████████| 9/9 [00:03<00:00,  2.32it/s]\n"
     ]
    },
    {
     "name": "stdout",
     "output_type": "stream",
     "text": [
      "Ryan Carpenter\n"
     ]
    },
    {
     "name": "stderr",
     "output_type": "stream",
     "text": [
      "100%|██████████| 9/9 [00:04<00:00,  2.00it/s]\n",
      "100%|██████████| 9/9 [00:04<00:00,  2.06it/s]\n"
     ]
    },
    {
     "name": "stdout",
     "output_type": "stream",
     "text": [
      "Ryan Donato\n"
     ]
    },
    {
     "name": "stderr",
     "output_type": "stream",
     "text": [
      "100%|██████████| 9/9 [00:04<00:00,  2.10it/s]\n",
      "100%|██████████| 9/9 [00:04<00:00,  1.96it/s]\n"
     ]
    },
    {
     "name": "stdout",
     "output_type": "stream",
     "text": [
      "Ryan Graves\n"
     ]
    },
    {
     "name": "stderr",
     "output_type": "stream",
     "text": [
      "100%|██████████| 9/9 [00:04<00:00,  2.10it/s]\n",
      "100%|██████████| 9/9 [00:04<00:00,  1.97it/s]\n"
     ]
    },
    {
     "name": "stdout",
     "output_type": "stream",
     "text": [
      "Ryan Hartman\n"
     ]
    },
    {
     "name": "stderr",
     "output_type": "stream",
     "text": [
      "100%|██████████| 9/9 [00:04<00:00,  2.20it/s]\n",
      "100%|██████████| 9/9 [00:04<00:00,  2.15it/s]\n"
     ]
    },
    {
     "name": "stdout",
     "output_type": "stream",
     "text": [
      "Ryan Johansen\n"
     ]
    },
    {
     "name": "stderr",
     "output_type": "stream",
     "text": [
      "100%|██████████| 9/9 [00:04<00:00,  2.25it/s]\n",
      "100%|██████████| 9/9 [00:04<00:00,  2.23it/s]\n"
     ]
    },
    {
     "name": "stdout",
     "output_type": "stream",
     "text": [
      "Ryan Lindgren\n"
     ]
    },
    {
     "name": "stderr",
     "output_type": "stream",
     "text": [
      "100%|██████████| 9/9 [00:03<00:00,  2.37it/s]\n",
      "100%|██████████| 9/9 [00:03<00:00,  2.26it/s]\n"
     ]
    },
    {
     "name": "stdout",
     "output_type": "stream",
     "text": [
      "Ryan Lomberg\n"
     ]
    },
    {
     "name": "stderr",
     "output_type": "stream",
     "text": [
      "100%|██████████| 9/9 [00:04<00:00,  1.95it/s]\n",
      "100%|██████████| 9/9 [00:04<00:00,  2.04it/s]\n"
     ]
    },
    {
     "name": "stdout",
     "output_type": "stream",
     "text": [
      "Ryan McDonagh\n"
     ]
    },
    {
     "name": "stderr",
     "output_type": "stream",
     "text": [
      "100%|██████████| 9/9 [00:04<00:00,  1.94it/s]\n",
      "100%|██████████| 9/9 [00:04<00:00,  1.84it/s]\n"
     ]
    },
    {
     "name": "stdout",
     "output_type": "stream",
     "text": [
      "Ryan McLeod\n"
     ]
    },
    {
     "name": "stderr",
     "output_type": "stream",
     "text": [
      "100%|██████████| 9/9 [00:03<00:00,  2.45it/s]\n",
      "100%|██████████| 9/9 [00:03<00:00,  2.29it/s]\n"
     ]
    },
    {
     "name": "stdout",
     "output_type": "stream",
     "text": [
      "Ryan Murray\n"
     ]
    },
    {
     "name": "stderr",
     "output_type": "stream",
     "text": [
      "100%|██████████| 9/9 [00:04<00:00,  2.05it/s]\n",
      "100%|██████████| 9/9 [00:04<00:00,  2.02it/s]\n"
     ]
    },
    {
     "name": "stdout",
     "output_type": "stream",
     "text": [
      "Ryan Nugent-Hopkins\n"
     ]
    },
    {
     "name": "stderr",
     "output_type": "stream",
     "text": [
      "100%|██████████| 9/9 [00:04<00:00,  2.13it/s]\n",
      "100%|██████████| 9/9 [00:04<00:00,  2.16it/s]\n"
     ]
    },
    {
     "name": "stdout",
     "output_type": "stream",
     "text": [
      "Ryan O'Reilly\n"
     ]
    },
    {
     "name": "stderr",
     "output_type": "stream",
     "text": [
      "100%|██████████| 9/9 [00:04<00:00,  2.14it/s]\n",
      "100%|██████████| 9/9 [00:03<00:00,  2.27it/s]\n"
     ]
    },
    {
     "name": "stdout",
     "output_type": "stream",
     "text": [
      "Ryan Poehling\n"
     ]
    },
    {
     "name": "stderr",
     "output_type": "stream",
     "text": [
      "100%|██████████| 9/9 [00:03<00:00,  2.53it/s]\n",
      "100%|██████████| 9/9 [00:03<00:00,  2.47it/s]\n"
     ]
    },
    {
     "name": "stdout",
     "output_type": "stream",
     "text": [
      "Ryan Pulock\n"
     ]
    },
    {
     "name": "stderr",
     "output_type": "stream",
     "text": [
      "100%|██████████| 9/9 [00:03<00:00,  2.25it/s]\n",
      "100%|██████████| 9/9 [00:03<00:00,  2.28it/s]\n"
     ]
    },
    {
     "name": "stdout",
     "output_type": "stream",
     "text": [
      "Ryan Reaves\n"
     ]
    },
    {
     "name": "stderr",
     "output_type": "stream",
     "text": [
      "100%|██████████| 9/9 [00:04<00:00,  2.01it/s]\n",
      "100%|██████████| 9/9 [00:04<00:00,  1.91it/s]\n"
     ]
    },
    {
     "name": "stdout",
     "output_type": "stream",
     "text": [
      "Ryan Strome\n"
     ]
    },
    {
     "name": "stderr",
     "output_type": "stream",
     "text": [
      "100%|██████████| 9/9 [00:05<00:00,  1.80it/s]\n",
      "100%|██████████| 9/9 [00:04<00:00,  1.81it/s]\n"
     ]
    },
    {
     "name": "stdout",
     "output_type": "stream",
     "text": [
      "Ryan Suter\n"
     ]
    },
    {
     "name": "stderr",
     "output_type": "stream",
     "text": [
      "100%|██████████| 9/9 [00:04<00:00,  1.89it/s]\n",
      "100%|██████████| 9/9 [00:04<00:00,  1.88it/s]\n"
     ]
    },
    {
     "name": "stdout",
     "output_type": "stream",
     "text": [
      "Saku Maenalanen\n"
     ]
    },
    {
     "name": "stderr",
     "output_type": "stream",
     "text": [
      "100%|██████████| 9/9 [00:03<00:00,  2.34it/s]\n",
      "100%|██████████| 9/9 [00:04<00:00,  2.16it/s]\n"
     ]
    },
    {
     "name": "stdout",
     "output_type": "stream",
     "text": [
      "Sam Bennett\n"
     ]
    },
    {
     "name": "stderr",
     "output_type": "stream",
     "text": [
      "100%|██████████| 9/9 [00:04<00:00,  2.09it/s]\n",
      "100%|██████████| 9/9 [00:04<00:00,  1.98it/s]\n"
     ]
    },
    {
     "name": "stdout",
     "output_type": "stream",
     "text": [
      "Sam Carrick\n"
     ]
    },
    {
     "name": "stderr",
     "output_type": "stream",
     "text": [
      "100%|██████████| 9/9 [00:03<00:00,  2.25it/s]\n",
      "100%|██████████| 9/9 [00:04<00:00,  2.06it/s]\n"
     ]
    },
    {
     "name": "stdout",
     "output_type": "stream",
     "text": [
      "Sam Gagner\n"
     ]
    },
    {
     "name": "stderr",
     "output_type": "stream",
     "text": [
      "100%|██████████| 9/9 [00:04<00:00,  1.89it/s]\n",
      "100%|██████████| 9/9 [00:04<00:00,  2.03it/s]\n"
     ]
    },
    {
     "name": "stdout",
     "output_type": "stream",
     "text": [
      "Sam Lafferty\n"
     ]
    },
    {
     "name": "stderr",
     "output_type": "stream",
     "text": [
      "100%|██████████| 9/9 [00:04<00:00,  2.19it/s]\n",
      "100%|██████████| 9/9 [00:04<00:00,  2.07it/s]\n",
      "c:\\Users\\jetso\\AppData\\Local\\Programs\\Python\\Python311\\Lib\\site-packages\\moepy\\lowess.py:38: RuntimeWarning: divide by zero encountered in divide\n",
      "  dist_to_weights = lambda dist, dist_threshold=1: (1 - ((np.abs(dist)/dist_threshold).clip(0, 1) ** 3)) ** 3\n",
      "c:\\Users\\jetso\\AppData\\Local\\Programs\\Python\\Python311\\Lib\\site-packages\\moepy\\lowess.py:38: RuntimeWarning: invalid value encountered in divide\n",
      "  dist_to_weights = lambda dist, dist_threshold=1: (1 - ((np.abs(dist)/dist_threshold).clip(0, 1) ** 3)) ** 3\n"
     ]
    },
    {
     "name": "stdout",
     "output_type": "stream",
     "text": [
      "Sam Poulin\n"
     ]
    },
    {
     "name": "stderr",
     "output_type": "stream",
     "text": [
      "100%|██████████| 9/9 [00:00<00:00, 15.19it/s]\n",
      "c:\\Users\\jetso\\AppData\\Local\\Programs\\Python\\Python311\\Lib\\site-packages\\moepy\\lowess.py:38: RuntimeWarning: divide by zero encountered in divide\n",
      "  dist_to_weights = lambda dist, dist_threshold=1: (1 - ((np.abs(dist)/dist_threshold).clip(0, 1) ** 3)) ** 3\n",
      "c:\\Users\\jetso\\AppData\\Local\\Programs\\Python\\Python311\\Lib\\site-packages\\moepy\\lowess.py:38: RuntimeWarning: invalid value encountered in divide\n",
      "  dist_to_weights = lambda dist, dist_threshold=1: (1 - ((np.abs(dist)/dist_threshold).clip(0, 1) ** 3)) ** 3\n",
      "100%|██████████| 9/9 [00:18<00:00,  2.01s/it]\n"
     ]
    },
    {
     "name": "stdout",
     "output_type": "stream",
     "text": [
      "Sam Reinhart\n"
     ]
    },
    {
     "name": "stderr",
     "output_type": "stream",
     "text": [
      "100%|██████████| 9/9 [00:04<00:00,  2.18it/s]\n",
      "100%|██████████| 9/9 [00:04<00:00,  2.07it/s]\n"
     ]
    },
    {
     "name": "stdout",
     "output_type": "stream",
     "text": [
      "Sam Steel\n"
     ]
    },
    {
     "name": "stderr",
     "output_type": "stream",
     "text": [
      "100%|██████████| 9/9 [00:04<00:00,  2.14it/s]\n",
      "100%|██████████| 9/9 [00:03<00:00,  2.39it/s]\n"
     ]
    },
    {
     "name": "stdout",
     "output_type": "stream",
     "text": [
      "Sammy Blais\n"
     ]
    },
    {
     "name": "stderr",
     "output_type": "stream",
     "text": [
      "100%|██████████| 9/9 [00:03<00:00,  2.29it/s]\n",
      "100%|██████████| 9/9 [00:03<00:00,  2.37it/s]\n"
     ]
    },
    {
     "name": "stdout",
     "output_type": "stream",
     "text": [
      "Sampo Ranta\n"
     ]
    },
    {
     "name": "stderr",
     "output_type": "stream",
     "text": [
      "100%|██████████| 9/9 [00:03<00:00,  2.54it/s]\n",
      "100%|██████████| 9/9 [00:04<00:00,  2.24it/s]\n"
     ]
    },
    {
     "name": "stdout",
     "output_type": "stream",
     "text": [
      "Samuel Bolduc\n"
     ]
    },
    {
     "name": "stderr",
     "output_type": "stream",
     "text": [
      "100%|██████████| 9/9 [00:03<00:00,  2.90it/s]\n",
      "100%|██████████| 9/9 [00:03<00:00,  2.55it/s]\n"
     ]
    },
    {
     "name": "stdout",
     "output_type": "stream",
     "text": [
      "Samuel Fagemo\n"
     ]
    },
    {
     "name": "stderr",
     "output_type": "stream",
     "text": [
      "100%|██████████| 9/9 [00:03<00:00,  2.36it/s]\n",
      "100%|██████████| 9/9 [00:04<00:00,  2.02it/s]\n"
     ]
    },
    {
     "name": "stdout",
     "output_type": "stream",
     "text": [
      "Samuel Girard\n"
     ]
    },
    {
     "name": "stderr",
     "output_type": "stream",
     "text": [
      "100%|██████████| 9/9 [00:04<00:00,  2.14it/s]\n",
      "100%|██████████| 9/9 [00:03<00:00,  2.46it/s]\n"
     ]
    },
    {
     "name": "stdout",
     "output_type": "stream",
     "text": [
      "Samuel Walker\n"
     ]
    },
    {
     "name": "stderr",
     "output_type": "stream",
     "text": [
      "100%|██████████| 9/9 [00:02<00:00,  3.07it/s]\n",
      "100%|██████████| 9/9 [00:02<00:00,  3.19it/s]\n"
     ]
    },
    {
     "name": "stdout",
     "output_type": "stream",
     "text": [
      "Scott Harrington\n"
     ]
    },
    {
     "name": "stderr",
     "output_type": "stream",
     "text": [
      "100%|██████████| 9/9 [00:03<00:00,  2.28it/s]\n",
      "100%|██████████| 9/9 [00:04<00:00,  2.01it/s]\n"
     ]
    },
    {
     "name": "stdout",
     "output_type": "stream",
     "text": [
      "Scott Laughton\n"
     ]
    },
    {
     "name": "stderr",
     "output_type": "stream",
     "text": [
      "100%|██████████| 9/9 [00:03<00:00,  2.61it/s]\n",
      "100%|██████████| 9/9 [00:03<00:00,  2.49it/s]\n"
     ]
    },
    {
     "name": "stdout",
     "output_type": "stream",
     "text": [
      "Scott Mayfield\n"
     ]
    },
    {
     "name": "stderr",
     "output_type": "stream",
     "text": [
      "100%|██████████| 9/9 [00:03<00:00,  2.39it/s]\n",
      "100%|██████████| 9/9 [00:03<00:00,  2.61it/s]\n"
     ]
    },
    {
     "name": "stdout",
     "output_type": "stream",
     "text": [
      "Sean Durzi\n"
     ]
    },
    {
     "name": "stderr",
     "output_type": "stream",
     "text": [
      "100%|██████████| 9/9 [00:04<00:00,  2.10it/s]\n",
      "100%|██████████| 9/9 [00:04<00:00,  1.97it/s]\n"
     ]
    },
    {
     "name": "stdout",
     "output_type": "stream",
     "text": [
      "Sean Kuraly\n"
     ]
    },
    {
     "name": "stderr",
     "output_type": "stream",
     "text": [
      "100%|██████████| 9/9 [00:03<00:00,  2.35it/s]\n",
      "100%|██████████| 9/9 [00:03<00:00,  2.31it/s]\n"
     ]
    },
    {
     "name": "stdout",
     "output_type": "stream",
     "text": [
      "Sean Monahan\n"
     ]
    },
    {
     "name": "stderr",
     "output_type": "stream",
     "text": [
      "100%|██████████| 9/9 [00:03<00:00,  2.67it/s]\n",
      "100%|██████████| 9/9 [00:03<00:00,  2.46it/s]\n"
     ]
    },
    {
     "name": "stdout",
     "output_type": "stream",
     "text": [
      "Sean Walker\n"
     ]
    },
    {
     "name": "stderr",
     "output_type": "stream",
     "text": [
      "100%|██████████| 9/9 [00:03<00:00,  2.50it/s]\n",
      "100%|██████████| 9/9 [00:03<00:00,  2.44it/s]\n"
     ]
    },
    {
     "name": "stdout",
     "output_type": "stream",
     "text": [
      "Sebastian Aho\n"
     ]
    },
    {
     "name": "stderr",
     "output_type": "stream",
     "text": [
      "100%|██████████| 9/9 [00:03<00:00,  2.42it/s]\n",
      "100%|██████████| 9/9 [00:04<00:00,  1.98it/s]\n",
      "c:\\Users\\jetso\\AppData\\Local\\Programs\\Python\\Python311\\Lib\\site-packages\\moepy\\lowess.py:38: RuntimeWarning: invalid value encountered in divide\n",
      "  dist_to_weights = lambda dist, dist_threshold=1: (1 - ((np.abs(dist)/dist_threshold).clip(0, 1) ** 3)) ** 3\n"
     ]
    },
    {
     "name": "stdout",
     "output_type": "stream",
     "text": [
      "Semyon Der-Arguchintsev\n"
     ]
    },
    {
     "name": "stderr",
     "output_type": "stream",
     "text": [
      "100%|██████████| 9/9 [00:00<00:00, 17.71it/s]\n",
      "c:\\Users\\jetso\\AppData\\Local\\Programs\\Python\\Python311\\Lib\\site-packages\\moepy\\lowess.py:38: RuntimeWarning: invalid value encountered in divide\n",
      "  dist_to_weights = lambda dist, dist_threshold=1: (1 - ((np.abs(dist)/dist_threshold).clip(0, 1) ** 3)) ** 3\n",
      "100%|██████████| 9/9 [00:00<00:00, 18.14it/s]\n"
     ]
    },
    {
     "name": "stdout",
     "output_type": "stream",
     "text": [
      "Seth Jarvis\n"
     ]
    },
    {
     "name": "stderr",
     "output_type": "stream",
     "text": [
      "100%|██████████| 9/9 [00:05<00:00,  1.76it/s]\n",
      "100%|██████████| 9/9 [00:05<00:00,  1.57it/s]\n"
     ]
    },
    {
     "name": "stdout",
     "output_type": "stream",
     "text": [
      "Seth Jones\n"
     ]
    },
    {
     "name": "stderr",
     "output_type": "stream",
     "text": [
      "100%|██████████| 9/9 [00:04<00:00,  2.20it/s]\n",
      "100%|██████████| 9/9 [00:03<00:00,  2.25it/s]\n",
      "c:\\Users\\jetso\\AppData\\Local\\Programs\\Python\\Python311\\Lib\\site-packages\\moepy\\lowess.py:38: RuntimeWarning: invalid value encountered in divide\n",
      "  dist_to_weights = lambda dist, dist_threshold=1: (1 - ((np.abs(dist)/dist_threshold).clip(0, 1) ** 3)) ** 3\n"
     ]
    },
    {
     "name": "stdout",
     "output_type": "stream",
     "text": [
      "Shane Bowers\n"
     ]
    },
    {
     "name": "stderr",
     "output_type": "stream",
     "text": [
      "100%|██████████| 9/9 [00:00<00:00, 19.99it/s]\n",
      "c:\\Users\\jetso\\AppData\\Local\\Programs\\Python\\Python311\\Lib\\site-packages\\moepy\\lowess.py:38: RuntimeWarning: invalid value encountered in divide\n",
      "  dist_to_weights = lambda dist, dist_threshold=1: (1 - ((np.abs(dist)/dist_threshold).clip(0, 1) ** 3)) ** 3\n",
      "100%|██████████| 9/9 [00:00<00:00, 17.35it/s]\n"
     ]
    },
    {
     "name": "stdout",
     "output_type": "stream",
     "text": [
      "Shane Pinto\n"
     ]
    },
    {
     "name": "stderr",
     "output_type": "stream",
     "text": [
      "100%|██████████| 9/9 [00:05<00:00,  1.64it/s]\n",
      "100%|██████████| 9/9 [00:04<00:00,  2.06it/s]\n"
     ]
    },
    {
     "name": "stdout",
     "output_type": "stream",
     "text": [
      "Shane Wright\n"
     ]
    },
    {
     "name": "stderr",
     "output_type": "stream",
     "text": [
      "100%|██████████| 9/9 [00:02<00:00,  3.51it/s]\n",
      "100%|██████████| 9/9 [00:02<00:00,  3.43it/s]\n"
     ]
    },
    {
     "name": "stdout",
     "output_type": "stream",
     "text": [
      "Shayne Gostisbehere\n"
     ]
    },
    {
     "name": "stderr",
     "output_type": "stream",
     "text": [
      "100%|██████████| 9/9 [00:05<00:00,  1.70it/s]\n",
      "100%|██████████| 9/9 [00:04<00:00,  2.23it/s]\n"
     ]
    },
    {
     "name": "stdout",
     "output_type": "stream",
     "text": [
      "Shea Theodore\n"
     ]
    },
    {
     "name": "stderr",
     "output_type": "stream",
     "text": [
      "100%|██████████| 9/9 [00:02<00:00,  3.05it/s]\n",
      "100%|██████████| 9/9 [00:04<00:00,  2.13it/s]\n"
     ]
    },
    {
     "name": "stdout",
     "output_type": "stream",
     "text": [
      "Sheldon Dries\n"
     ]
    },
    {
     "name": "stderr",
     "output_type": "stream",
     "text": [
      "100%|██████████| 9/9 [00:03<00:00,  2.34it/s]\n",
      "100%|██████████| 9/9 [00:03<00:00,  2.39it/s]\n"
     ]
    },
    {
     "name": "stdout",
     "output_type": "stream",
     "text": [
      "Sheldon Rempal\n"
     ]
    },
    {
     "name": "stderr",
     "output_type": "stream",
     "text": [
      "100%|██████████| 9/9 [00:02<00:00,  3.36it/s]\n",
      "100%|██████████| 9/9 [00:03<00:00,  2.91it/s]\n"
     ]
    },
    {
     "name": "stdout",
     "output_type": "stream",
     "text": [
      "Sidney Crosby\n"
     ]
    },
    {
     "name": "stderr",
     "output_type": "stream",
     "text": [
      "100%|██████████| 9/9 [00:04<00:00,  1.96it/s]\n",
      "100%|██████████| 9/9 [00:04<00:00,  1.91it/s]\n"
     ]
    },
    {
     "name": "stdout",
     "output_type": "stream",
     "text": [
      "Simon Benoit\n"
     ]
    },
    {
     "name": "stderr",
     "output_type": "stream",
     "text": [
      "100%|██████████| 9/9 [00:03<00:00,  2.86it/s]\n",
      "100%|██████████| 9/9 [00:03<00:00,  2.80it/s]\n"
     ]
    },
    {
     "name": "stdout",
     "output_type": "stream",
     "text": [
      "Simon Edvinsson\n"
     ]
    },
    {
     "name": "stderr",
     "output_type": "stream",
     "text": [
      "c:\\Users\\jetso\\AppData\\Local\\Programs\\Python\\Python311\\Lib\\site-packages\\moepy\\lowess.py:38: RuntimeWarning: divide by zero encountered in divide\n",
      "  dist_to_weights = lambda dist, dist_threshold=1: (1 - ((np.abs(dist)/dist_threshold).clip(0, 1) ** 3)) ** 3\n",
      "c:\\Users\\jetso\\AppData\\Local\\Programs\\Python\\Python311\\Lib\\site-packages\\moepy\\lowess.py:38: RuntimeWarning: invalid value encountered in divide\n",
      "  dist_to_weights = lambda dist, dist_threshold=1: (1 - ((np.abs(dist)/dist_threshold).clip(0, 1) ** 3)) ** 3\n",
      "100%|██████████| 9/9 [00:00<00:00, 19.92it/s]\n",
      "c:\\Users\\jetso\\AppData\\Local\\Programs\\Python\\Python311\\Lib\\site-packages\\moepy\\lowess.py:38: RuntimeWarning: divide by zero encountered in divide\n",
      "  dist_to_weights = lambda dist, dist_threshold=1: (1 - ((np.abs(dist)/dist_threshold).clip(0, 1) ** 3)) ** 3\n",
      "c:\\Users\\jetso\\AppData\\Local\\Programs\\Python\\Python311\\Lib\\site-packages\\moepy\\lowess.py:38: RuntimeWarning: invalid value encountered in divide\n",
      "  dist_to_weights = lambda dist, dist_threshold=1: (1 - ((np.abs(dist)/dist_threshold).clip(0, 1) ** 3)) ** 3\n",
      "100%|██████████| 9/9 [00:18<00:00,  2.04s/it]\n"
     ]
    },
    {
     "name": "stdout",
     "output_type": "stream",
     "text": [
      "Simon Holmstrom\n"
     ]
    },
    {
     "name": "stderr",
     "output_type": "stream",
     "text": [
      "100%|██████████| 9/9 [00:03<00:00,  2.39it/s]\n",
      "100%|██████████| 9/9 [00:03<00:00,  2.49it/s]\n"
     ]
    },
    {
     "name": "stdout",
     "output_type": "stream",
     "text": [
      "Sonny Milano\n"
     ]
    },
    {
     "name": "stderr",
     "output_type": "stream",
     "text": [
      "100%|██████████| 9/9 [00:03<00:00,  2.26it/s]\n",
      "100%|██████████| 9/9 [00:04<00:00,  2.14it/s]\n"
     ]
    },
    {
     "name": "stdout",
     "output_type": "stream",
     "text": [
      "Stefan Noesen\n"
     ]
    },
    {
     "name": "stderr",
     "output_type": "stream",
     "text": [
      "100%|██████████| 9/9 [00:03<00:00,  2.27it/s]\n",
      "100%|██████████| 9/9 [00:04<00:00,  2.05it/s]\n"
     ]
    },
    {
     "name": "stdout",
     "output_type": "stream",
     "text": [
      "Steven Fogarty\n"
     ]
    },
    {
     "name": "stderr",
     "output_type": "stream",
     "text": [
      "100%|██████████| 9/9 [00:04<00:00,  2.22it/s]\n",
      "100%|██████████| 9/9 [00:03<00:00,  2.62it/s]\n"
     ]
    },
    {
     "name": "stdout",
     "output_type": "stream",
     "text": [
      "Steven Lorentz\n"
     ]
    },
    {
     "name": "stderr",
     "output_type": "stream",
     "text": [
      "100%|██████████| 9/9 [00:03<00:00,  2.51it/s]\n",
      "100%|██████████| 9/9 [00:03<00:00,  2.59it/s]\n"
     ]
    },
    {
     "name": "stdout",
     "output_type": "stream",
     "text": [
      "Steven Santini\n"
     ]
    },
    {
     "name": "stderr",
     "output_type": "stream",
     "text": [
      "100%|██████████| 9/9 [00:04<00:00,  2.08it/s]\n",
      "100%|██████████| 9/9 [00:04<00:00,  1.87it/s]\n"
     ]
    },
    {
     "name": "stdout",
     "output_type": "stream",
     "text": [
      "Steven Stamkos\n"
     ]
    },
    {
     "name": "stderr",
     "output_type": "stream",
     "text": [
      "100%|██████████| 9/9 [00:03<00:00,  2.28it/s]\n",
      "100%|██████████| 9/9 [00:03<00:00,  2.55it/s]\n"
     ]
    },
    {
     "name": "stdout",
     "output_type": "stream",
     "text": [
      "T.J. Oshie\n"
     ]
    },
    {
     "name": "stderr",
     "output_type": "stream",
     "text": [
      "100%|██████████| 9/9 [00:04<00:00,  2.11it/s]\n",
      "100%|██████████| 9/9 [00:04<00:00,  2.00it/s]\n"
     ]
    },
    {
     "name": "stdout",
     "output_type": "stream",
     "text": [
      "TJ Brodie\n"
     ]
    },
    {
     "name": "stderr",
     "output_type": "stream",
     "text": [
      "100%|██████████| 9/9 [00:03<00:00,  2.31it/s]\n",
      "100%|██████████| 9/9 [00:03<00:00,  2.42it/s]\n"
     ]
    },
    {
     "name": "stdout",
     "output_type": "stream",
     "text": [
      "Tage Thompson\n"
     ]
    },
    {
     "name": "stderr",
     "output_type": "stream",
     "text": [
      "100%|██████████| 9/9 [00:03<00:00,  2.49it/s]\n",
      "100%|██████████| 9/9 [00:03<00:00,  2.32it/s]\n"
     ]
    },
    {
     "name": "stdout",
     "output_type": "stream",
     "text": [
      "Tanner Jeannot\n"
     ]
    },
    {
     "name": "stderr",
     "output_type": "stream",
     "text": [
      "100%|██████████| 9/9 [00:04<00:00,  2.12it/s]\n",
      "100%|██████████| 9/9 [00:04<00:00,  2.11it/s]\n"
     ]
    },
    {
     "name": "stdout",
     "output_type": "stream",
     "text": [
      "Tanner Laczynski\n"
     ]
    },
    {
     "name": "stderr",
     "output_type": "stream",
     "text": [
      "100%|██████████| 9/9 [00:03<00:00,  2.43it/s]\n",
      "100%|██████████| 9/9 [00:03<00:00,  2.49it/s]\n"
     ]
    },
    {
     "name": "stdout",
     "output_type": "stream",
     "text": [
      "Tanner Pearson\n"
     ]
    },
    {
     "name": "stderr",
     "output_type": "stream",
     "text": [
      "100%|██████████| 9/9 [00:04<00:00,  1.99it/s]\n",
      "100%|██████████| 9/9 [00:04<00:00,  2.08it/s]\n"
     ]
    },
    {
     "name": "stdout",
     "output_type": "stream",
     "text": [
      "Taylor Fedun\n"
     ]
    },
    {
     "name": "stderr",
     "output_type": "stream",
     "text": [
      "100%|██████████| 9/9 [00:04<00:00,  2.03it/s]\n",
      "100%|██████████| 9/9 [00:17<00:00,  1.91s/it]\n"
     ]
    },
    {
     "name": "stdout",
     "output_type": "stream",
     "text": [
      "Taylor Hall\n"
     ]
    },
    {
     "name": "stderr",
     "output_type": "stream",
     "text": [
      "100%|██████████| 9/9 [00:03<00:00,  2.46it/s]\n",
      "100%|██████████| 9/9 [00:03<00:00,  2.34it/s]\n"
     ]
    },
    {
     "name": "stdout",
     "output_type": "stream",
     "text": [
      "Taylor Raddysh\n"
     ]
    },
    {
     "name": "stderr",
     "output_type": "stream",
     "text": [
      "100%|██████████| 9/9 [00:04<00:00,  2.00it/s]\n",
      "100%|██████████| 9/9 [00:04<00:00,  2.14it/s]\n"
     ]
    },
    {
     "name": "stdout",
     "output_type": "stream",
     "text": [
      "Teddy Blueger\n"
     ]
    },
    {
     "name": "stderr",
     "output_type": "stream",
     "text": [
      "100%|██████████| 9/9 [00:04<00:00,  2.21it/s]\n",
      "100%|██████████| 9/9 [00:04<00:00,  2.25it/s]\n"
     ]
    },
    {
     "name": "stdout",
     "output_type": "stream",
     "text": [
      "Teuvo Teravainen\n"
     ]
    },
    {
     "name": "stderr",
     "output_type": "stream",
     "text": [
      "100%|██████████| 9/9 [00:03<00:00,  2.60it/s]\n",
      "100%|██████████| 9/9 [00:03<00:00,  2.28it/s]\n"
     ]
    },
    {
     "name": "stdout",
     "output_type": "stream",
     "text": [
      "Thomas Chabot\n"
     ]
    },
    {
     "name": "stderr",
     "output_type": "stream",
     "text": [
      "100%|██████████| 9/9 [00:03<00:00,  2.60it/s]\n",
      "100%|██████████| 9/9 [00:03<00:00,  2.44it/s]\n"
     ]
    },
    {
     "name": "stdout",
     "output_type": "stream",
     "text": [
      "Thomas Novak\n"
     ]
    },
    {
     "name": "stderr",
     "output_type": "stream",
     "text": [
      "100%|██████████| 9/9 [00:03<00:00,  2.56it/s]\n",
      "100%|██████████| 9/9 [00:15<00:00,  1.69s/it]\n"
     ]
    },
    {
     "name": "stdout",
     "output_type": "stream",
     "text": [
      "Tim Berni\n"
     ]
    },
    {
     "name": "stderr",
     "output_type": "stream",
     "text": [
      "100%|██████████| 9/9 [00:03<00:00,  2.66it/s]\n",
      "100%|██████████| 9/9 [00:03<00:00,  2.48it/s]\n"
     ]
    },
    {
     "name": "stdout",
     "output_type": "stream",
     "text": [
      "Tim Stutzle\n"
     ]
    },
    {
     "name": "stderr",
     "output_type": "stream",
     "text": [
      "100%|██████████| 9/9 [00:03<00:00,  2.55it/s]\n",
      "100%|██████████| 9/9 [00:03<00:00,  2.40it/s]\n"
     ]
    },
    {
     "name": "stdout",
     "output_type": "stream",
     "text": [
      "Timo Meier\n"
     ]
    },
    {
     "name": "stderr",
     "output_type": "stream",
     "text": [
      "100%|██████████| 9/9 [00:04<00:00,  2.25it/s]\n",
      "100%|██████████| 9/9 [00:04<00:00,  1.84it/s]\n"
     ]
    },
    {
     "name": "stdout",
     "output_type": "stream",
     "text": [
      "Timothy Liljegren\n"
     ]
    },
    {
     "name": "stderr",
     "output_type": "stream",
     "text": [
      "100%|██████████| 9/9 [00:04<00:00,  2.07it/s]\n",
      "100%|██████████| 9/9 [00:04<00:00,  2.09it/s]\n"
     ]
    },
    {
     "name": "stdout",
     "output_type": "stream",
     "text": [
      "Tobias Bjornfot\n"
     ]
    },
    {
     "name": "stderr",
     "output_type": "stream",
     "text": [
      "100%|██████████| 9/9 [00:04<00:00,  1.98it/s]\n",
      "100%|██████████| 9/9 [00:04<00:00,  1.95it/s]\n"
     ]
    },
    {
     "name": "stdout",
     "output_type": "stream",
     "text": [
      "Tom Wilson\n"
     ]
    },
    {
     "name": "stderr",
     "output_type": "stream",
     "text": [
      "100%|██████████| 9/9 [00:03<00:00,  2.62it/s]\n",
      "100%|██████████| 9/9 [00:03<00:00,  2.48it/s]\n"
     ]
    },
    {
     "name": "stdout",
     "output_type": "stream",
     "text": [
      "Tomas Hertl\n"
     ]
    },
    {
     "name": "stderr",
     "output_type": "stream",
     "text": [
      "100%|██████████| 9/9 [00:04<00:00,  2.11it/s]\n",
      "100%|██████████| 9/9 [00:04<00:00,  2.24it/s]\n"
     ]
    },
    {
     "name": "stdout",
     "output_type": "stream",
     "text": [
      "Tomas Nosek\n"
     ]
    },
    {
     "name": "stderr",
     "output_type": "stream",
     "text": [
      "100%|██████████| 9/9 [00:03<00:00,  2.99it/s]\n",
      "100%|██████████| 9/9 [00:03<00:00,  2.69it/s]\n"
     ]
    },
    {
     "name": "stdout",
     "output_type": "stream",
     "text": [
      "Tomas Tatar\n"
     ]
    },
    {
     "name": "stderr",
     "output_type": "stream",
     "text": [
      "100%|██████████| 9/9 [00:05<00:00,  1.80it/s]\n",
      "100%|██████████| 9/9 [00:04<00:00,  2.22it/s]\n"
     ]
    },
    {
     "name": "stdout",
     "output_type": "stream",
     "text": [
      "Tommy Novak\n"
     ]
    },
    {
     "name": "stderr",
     "output_type": "stream",
     "text": [
      "100%|██████████| 9/9 [00:04<00:00,  1.92it/s]\n",
      "100%|██████████| 9/9 [00:04<00:00,  1.82it/s]\n"
     ]
    },
    {
     "name": "stdout",
     "output_type": "stream",
     "text": [
      "Tony DeAngelo\n"
     ]
    },
    {
     "name": "stderr",
     "output_type": "stream",
     "text": [
      "100%|██████████| 9/9 [00:03<00:00,  2.29it/s]\n",
      "100%|██████████| 9/9 [00:03<00:00,  2.64it/s]\n"
     ]
    },
    {
     "name": "stdout",
     "output_type": "stream",
     "text": [
      "Torey Krug\n"
     ]
    },
    {
     "name": "stderr",
     "output_type": "stream",
     "text": [
      "100%|██████████| 9/9 [00:04<00:00,  2.11it/s]\n",
      "100%|██████████| 9/9 [00:04<00:00,  2.14it/s]\n"
     ]
    },
    {
     "name": "stdout",
     "output_type": "stream",
     "text": [
      "Travis Boyd\n"
     ]
    },
    {
     "name": "stderr",
     "output_type": "stream",
     "text": [
      "100%|██████████| 9/9 [00:04<00:00,  2.16it/s]\n",
      "100%|██████████| 9/9 [00:04<00:00,  2.14it/s]\n"
     ]
    },
    {
     "name": "stdout",
     "output_type": "stream",
     "text": [
      "Travis Dermott\n"
     ]
    },
    {
     "name": "stderr",
     "output_type": "stream",
     "text": [
      "100%|██████████| 9/9 [00:04<00:00,  2.12it/s]\n",
      "100%|██████████| 9/9 [00:04<00:00,  2.07it/s]\n"
     ]
    },
    {
     "name": "stdout",
     "output_type": "stream",
     "text": [
      "Travis Hamonic\n"
     ]
    },
    {
     "name": "stderr",
     "output_type": "stream",
     "text": [
      "100%|██████████| 9/9 [00:04<00:00,  1.83it/s]\n",
      "100%|██████████| 9/9 [00:04<00:00,  1.98it/s]\n"
     ]
    },
    {
     "name": "stdout",
     "output_type": "stream",
     "text": [
      "Travis Konecny\n"
     ]
    },
    {
     "name": "stderr",
     "output_type": "stream",
     "text": [
      "100%|██████████| 9/9 [00:03<00:00,  2.52it/s]\n",
      "100%|██████████| 9/9 [00:03<00:00,  2.51it/s]\n"
     ]
    },
    {
     "name": "stdout",
     "output_type": "stream",
     "text": [
      "Travis Sanheim\n"
     ]
    },
    {
     "name": "stderr",
     "output_type": "stream",
     "text": [
      "100%|██████████| 9/9 [00:03<00:00,  2.53it/s]\n",
      "100%|██████████| 9/9 [00:03<00:00,  2.40it/s]\n"
     ]
    },
    {
     "name": "stdout",
     "output_type": "stream",
     "text": [
      "Trent Frederic\n"
     ]
    },
    {
     "name": "stderr",
     "output_type": "stream",
     "text": [
      "100%|██████████| 9/9 [00:03<00:00,  2.61it/s]\n",
      "100%|██████████| 9/9 [00:03<00:00,  2.30it/s]\n"
     ]
    },
    {
     "name": "stdout",
     "output_type": "stream",
     "text": [
      "Trevor Lewis\n"
     ]
    },
    {
     "name": "stderr",
     "output_type": "stream",
     "text": [
      "100%|██████████| 9/9 [00:03<00:00,  2.36it/s]\n",
      "100%|██████████| 9/9 [00:03<00:00,  2.52it/s]\n"
     ]
    },
    {
     "name": "stdout",
     "output_type": "stream",
     "text": [
      "Trevor Moore\n"
     ]
    },
    {
     "name": "stderr",
     "output_type": "stream",
     "text": [
      "100%|██████████| 9/9 [00:03<00:00,  2.39it/s]\n",
      "100%|██████████| 9/9 [00:03<00:00,  2.35it/s]\n"
     ]
    },
    {
     "name": "stdout",
     "output_type": "stream",
     "text": [
      "Trevor Zegras\n"
     ]
    },
    {
     "name": "stderr",
     "output_type": "stream",
     "text": [
      "100%|██████████| 9/9 [00:04<00:00,  1.98it/s]\n",
      "100%|██████████| 9/9 [00:04<00:00,  2.13it/s]\n"
     ]
    },
    {
     "name": "stdout",
     "output_type": "stream",
     "text": [
      "Trevor van Riemsdyk\n"
     ]
    },
    {
     "name": "stderr",
     "output_type": "stream",
     "text": [
      "100%|██████████| 9/9 [00:03<00:00,  2.51it/s]\n",
      "100%|██████████| 9/9 [00:03<00:00,  2.33it/s]\n"
     ]
    },
    {
     "name": "stdout",
     "output_type": "stream",
     "text": [
      "Trey Fix-Wolansky\n"
     ]
    },
    {
     "name": "stderr",
     "output_type": "stream",
     "text": [
      "100%|██████████| 9/9 [00:04<00:00,  2.10it/s]\n",
      "100%|██████████| 9/9 [00:04<00:00,  2.07it/s]\n"
     ]
    },
    {
     "name": "stdout",
     "output_type": "stream",
     "text": [
      "Troy Stecher\n"
     ]
    },
    {
     "name": "stderr",
     "output_type": "stream",
     "text": [
      "100%|██████████| 9/9 [00:03<00:00,  2.29it/s]\n",
      "100%|██████████| 9/9 [00:04<00:00,  2.09it/s]\n"
     ]
    },
    {
     "name": "stdout",
     "output_type": "stream",
     "text": [
      "Troy Terry\n"
     ]
    },
    {
     "name": "stderr",
     "output_type": "stream",
     "text": [
      "100%|██████████| 9/9 [00:03<00:00,  2.65it/s]\n",
      "100%|██████████| 9/9 [00:03<00:00,  2.37it/s]\n"
     ]
    },
    {
     "name": "stdout",
     "output_type": "stream",
     "text": [
      "Tucker Poolman\n"
     ]
    },
    {
     "name": "stderr",
     "output_type": "stream",
     "text": [
      "100%|██████████| 9/9 [00:04<00:00,  2.22it/s]\n",
      "100%|██████████| 9/9 [00:04<00:00,  2.21it/s]\n"
     ]
    },
    {
     "name": "stdout",
     "output_type": "stream",
     "text": [
      "Ty Dellandrea\n"
     ]
    },
    {
     "name": "stderr",
     "output_type": "stream",
     "text": [
      "100%|██████████| 9/9 [00:04<00:00,  2.24it/s]\n",
      "100%|██████████| 9/9 [00:04<00:00,  2.15it/s]\n"
     ]
    },
    {
     "name": "stdout",
     "output_type": "stream",
     "text": [
      "Ty Smith\n"
     ]
    },
    {
     "name": "stderr",
     "output_type": "stream",
     "text": [
      "100%|██████████| 9/9 [00:04<00:00,  2.07it/s]\n",
      "100%|██████████| 9/9 [00:04<00:00,  1.92it/s]\n"
     ]
    },
    {
     "name": "stdout",
     "output_type": "stream",
     "text": [
      "Tyce Thompson\n"
     ]
    },
    {
     "name": "stderr",
     "output_type": "stream",
     "text": [
      "100%|██████████| 9/9 [00:03<00:00,  2.78it/s]\n",
      "100%|██████████| 9/9 [00:03<00:00,  2.70it/s]\n"
     ]
    },
    {
     "name": "stdout",
     "output_type": "stream",
     "text": [
      "Tyler Benson\n"
     ]
    },
    {
     "name": "stderr",
     "output_type": "stream",
     "text": [
      "100%|██████████| 9/9 [00:03<00:00,  2.63it/s]\n",
      "100%|██████████| 9/9 [00:03<00:00,  2.50it/s]\n"
     ]
    },
    {
     "name": "stdout",
     "output_type": "stream",
     "text": [
      "Tyler Bertuzzi\n"
     ]
    },
    {
     "name": "stderr",
     "output_type": "stream",
     "text": [
      "100%|██████████| 9/9 [00:03<00:00,  2.35it/s]\n",
      "100%|██████████| 9/9 [00:03<00:00,  2.42it/s]\n"
     ]
    },
    {
     "name": "stdout",
     "output_type": "stream",
     "text": [
      "Tyler Johnson\n"
     ]
    },
    {
     "name": "stderr",
     "output_type": "stream",
     "text": [
      "100%|██████████| 9/9 [00:04<00:00,  2.04it/s]\n",
      "100%|██████████| 9/9 [00:04<00:00,  1.89it/s]\n"
     ]
    },
    {
     "name": "stdout",
     "output_type": "stream",
     "text": [
      "Tyler Motte\n"
     ]
    },
    {
     "name": "stderr",
     "output_type": "stream",
     "text": [
      "100%|██████████| 9/9 [00:03<00:00,  2.49it/s]\n",
      "100%|██████████| 9/9 [00:03<00:00,  2.54it/s]\n"
     ]
    },
    {
     "name": "stdout",
     "output_type": "stream",
     "text": [
      "Tyler Myers\n"
     ]
    },
    {
     "name": "stderr",
     "output_type": "stream",
     "text": [
      "100%|██████████| 9/9 [00:05<00:00,  1.63it/s]\n",
      "100%|██████████| 9/9 [00:05<00:00,  1.56it/s]\n"
     ]
    },
    {
     "name": "stdout",
     "output_type": "stream",
     "text": [
      "Tyler Pitlick\n"
     ]
    },
    {
     "name": "stderr",
     "output_type": "stream",
     "text": [
      "100%|██████████| 9/9 [00:03<00:00,  2.38it/s]\n",
      "100%|██████████| 9/9 [00:03<00:00,  2.42it/s]\n"
     ]
    },
    {
     "name": "stdout",
     "output_type": "stream",
     "text": [
      "Tyler Seguin\n"
     ]
    },
    {
     "name": "stderr",
     "output_type": "stream",
     "text": [
      "100%|██████████| 9/9 [00:04<00:00,  2.05it/s]\n",
      "100%|██████████| 9/9 [00:04<00:00,  2.15it/s]\n"
     ]
    },
    {
     "name": "stdout",
     "output_type": "stream",
     "text": [
      "Tyler Toffoli\n"
     ]
    },
    {
     "name": "stderr",
     "output_type": "stream",
     "text": [
      "100%|██████████| 9/9 [00:04<00:00,  2.08it/s]\n",
      "100%|██████████| 9/9 [00:04<00:00,  2.11it/s]\n"
     ]
    },
    {
     "name": "stdout",
     "output_type": "stream",
     "text": [
      "Tyler Tucker\n"
     ]
    },
    {
     "name": "stderr",
     "output_type": "stream",
     "text": [
      "100%|██████████| 9/9 [00:03<00:00,  2.87it/s]\n",
      "100%|██████████| 9/9 [00:03<00:00,  2.46it/s]\n"
     ]
    },
    {
     "name": "stdout",
     "output_type": "stream",
     "text": [
      "Tyson Barrie\n"
     ]
    },
    {
     "name": "stderr",
     "output_type": "stream",
     "text": [
      "100%|██████████| 9/9 [00:03<00:00,  2.45it/s]\n",
      "100%|██████████| 9/9 [00:03<00:00,  2.28it/s]\n"
     ]
    },
    {
     "name": "stdout",
     "output_type": "stream",
     "text": [
      "Tyson Foerster\n"
     ]
    },
    {
     "name": "stderr",
     "output_type": "stream",
     "text": [
      "100%|██████████| 9/9 [00:02<00:00,  3.21it/s]\n",
      "100%|██████████| 9/9 [00:02<00:00,  3.03it/s]\n"
     ]
    },
    {
     "name": "stdout",
     "output_type": "stream",
     "text": [
      "Tyson Jost\n"
     ]
    },
    {
     "name": "stderr",
     "output_type": "stream",
     "text": [
      "100%|██████████| 9/9 [00:03<00:00,  2.61it/s]\n",
      "100%|██████████| 9/9 [00:03<00:00,  2.71it/s]\n"
     ]
    },
    {
     "name": "stdout",
     "output_type": "stream",
     "text": [
      "Urho Vaakanainen\n"
     ]
    },
    {
     "name": "stderr",
     "output_type": "stream",
     "text": [
      "100%|██████████| 9/9 [00:04<00:00,  1.95it/s]\n",
      "100%|██████████| 9/9 [00:04<00:00,  2.20it/s]\n"
     ]
    },
    {
     "name": "stdout",
     "output_type": "stream",
     "text": [
      "Valeri Nichushkin\n"
     ]
    },
    {
     "name": "stderr",
     "output_type": "stream",
     "text": [
      "100%|██████████| 9/9 [00:04<00:00,  2.20it/s]\n",
      "100%|██████████| 9/9 [00:04<00:00,  2.12it/s]\n"
     ]
    },
    {
     "name": "stdout",
     "output_type": "stream",
     "text": [
      "Vasily Podkolzin\n"
     ]
    },
    {
     "name": "stderr",
     "output_type": "stream",
     "text": [
      "100%|██████████| 9/9 [00:03<00:00,  2.28it/s]\n",
      "100%|██████████| 9/9 [00:04<00:00,  2.22it/s]\n"
     ]
    },
    {
     "name": "stdout",
     "output_type": "stream",
     "text": [
      "Victor Hedman\n"
     ]
    },
    {
     "name": "stderr",
     "output_type": "stream",
     "text": [
      "100%|██████████| 9/9 [00:03<00:00,  2.70it/s]\n",
      "100%|██████████| 9/9 [00:03<00:00,  2.27it/s]\n"
     ]
    },
    {
     "name": "stdout",
     "output_type": "stream",
     "text": [
      "Victor Mete\n"
     ]
    },
    {
     "name": "stderr",
     "output_type": "stream",
     "text": [
      "100%|██████████| 9/9 [00:04<00:00,  2.16it/s]\n",
      "100%|██████████| 9/9 [00:04<00:00,  2.11it/s]\n"
     ]
    },
    {
     "name": "stdout",
     "output_type": "stream",
     "text": [
      "Victor Olofsson\n"
     ]
    },
    {
     "name": "stderr",
     "output_type": "stream",
     "text": [
      "100%|██████████| 9/9 [00:04<00:00,  2.18it/s]\n",
      "100%|██████████| 9/9 [00:04<00:00,  1.94it/s]\n"
     ]
    },
    {
     "name": "stdout",
     "output_type": "stream",
     "text": [
      "Victor Soderstrom\n"
     ]
    },
    {
     "name": "stderr",
     "output_type": "stream",
     "text": [
      "100%|██████████| 9/9 [00:03<00:00,  2.51it/s]\n",
      "100%|██████████| 9/9 [00:03<00:00,  2.49it/s]\n"
     ]
    },
    {
     "name": "stdout",
     "output_type": "stream",
     "text": [
      "Viktor Arvidsson\n"
     ]
    },
    {
     "name": "stderr",
     "output_type": "stream",
     "text": [
      "100%|██████████| 9/9 [00:03<00:00,  2.28it/s]\n",
      "100%|██████████| 9/9 [00:03<00:00,  2.53it/s]\n"
     ]
    },
    {
     "name": "stdout",
     "output_type": "stream",
     "text": [
      "Ville Heinola\n"
     ]
    },
    {
     "name": "stderr",
     "output_type": "stream",
     "text": [
      "100%|██████████| 9/9 [00:03<00:00,  3.00it/s]\n",
      "100%|██████████| 9/9 [00:04<00:00,  2.13it/s]\n"
     ]
    },
    {
     "name": "stdout",
     "output_type": "stream",
     "text": [
      "Vince Dunn\n"
     ]
    },
    {
     "name": "stderr",
     "output_type": "stream",
     "text": [
      "100%|██████████| 9/9 [00:03<00:00,  2.25it/s]\n",
      "100%|██████████| 9/9 [00:04<00:00,  2.11it/s]\n"
     ]
    },
    {
     "name": "stdout",
     "output_type": "stream",
     "text": [
      "Vincent Desharnais\n"
     ]
    },
    {
     "name": "stderr",
     "output_type": "stream",
     "text": [
      "100%|██████████| 9/9 [00:04<00:00,  1.82it/s]\n",
      "100%|██████████| 9/9 [00:05<00:00,  1.58it/s]\n",
      "c:\\Users\\jetso\\AppData\\Local\\Programs\\Python\\Python311\\Lib\\site-packages\\moepy\\lowess.py:38: RuntimeWarning: divide by zero encountered in divide\n",
      "  dist_to_weights = lambda dist, dist_threshold=1: (1 - ((np.abs(dist)/dist_threshold).clip(0, 1) ** 3)) ** 3\n",
      "c:\\Users\\jetso\\AppData\\Local\\Programs\\Python\\Python311\\Lib\\site-packages\\moepy\\lowess.py:38: RuntimeWarning: invalid value encountered in divide\n",
      "  dist_to_weights = lambda dist, dist_threshold=1: (1 - ((np.abs(dist)/dist_threshold).clip(0, 1) ** 3)) ** 3\n"
     ]
    },
    {
     "name": "stdout",
     "output_type": "stream",
     "text": [
      "Vincent Iorio\n"
     ]
    },
    {
     "name": "stderr",
     "output_type": "stream",
     "text": [
      "100%|██████████| 9/9 [00:00<00:00, 17.40it/s]\n",
      "c:\\Users\\jetso\\AppData\\Local\\Programs\\Python\\Python311\\Lib\\site-packages\\moepy\\lowess.py:38: RuntimeWarning: divide by zero encountered in divide\n",
      "  dist_to_weights = lambda dist, dist_threshold=1: (1 - ((np.abs(dist)/dist_threshold).clip(0, 1) ** 3)) ** 3\n",
      "c:\\Users\\jetso\\AppData\\Local\\Programs\\Python\\Python311\\Lib\\site-packages\\moepy\\lowess.py:38: RuntimeWarning: invalid value encountered in divide\n",
      "  dist_to_weights = lambda dist, dist_threshold=1: (1 - ((np.abs(dist)/dist_threshold).clip(0, 1) ** 3)) ** 3\n",
      "100%|██████████| 9/9 [00:00<00:00, 17.03it/s]\n"
     ]
    },
    {
     "name": "stdout",
     "output_type": "stream",
     "text": [
      "Vincent Trocheck\n"
     ]
    },
    {
     "name": "stderr",
     "output_type": "stream",
     "text": [
      "100%|██████████| 9/9 [00:04<00:00,  2.21it/s]\n",
      "100%|██████████| 9/9 [00:04<00:00,  2.12it/s]\n"
     ]
    },
    {
     "name": "stdout",
     "output_type": "stream",
     "text": [
      "Vinnie Hinostroza\n"
     ]
    },
    {
     "name": "stderr",
     "output_type": "stream",
     "text": [
      "100%|██████████| 9/9 [00:03<00:00,  2.37it/s]\n",
      "100%|██████████| 9/9 [00:03<00:00,  2.63it/s]\n"
     ]
    },
    {
     "name": "stdout",
     "output_type": "stream",
     "text": [
      "Vitali Kravtsov\n"
     ]
    },
    {
     "name": "stderr",
     "output_type": "stream",
     "text": [
      "100%|██████████| 9/9 [00:03<00:00,  2.75it/s]\n",
      "100%|██████████| 9/9 [00:03<00:00,  2.85it/s]\n"
     ]
    },
    {
     "name": "stdout",
     "output_type": "stream",
     "text": [
      "Vladimir Tarasenko\n"
     ]
    },
    {
     "name": "stderr",
     "output_type": "stream",
     "text": [
      "100%|██████████| 9/9 [00:04<00:00,  2.03it/s]\n",
      "100%|██████████| 9/9 [00:04<00:00,  2.02it/s]\n"
     ]
    },
    {
     "name": "stdout",
     "output_type": "stream",
     "text": [
      "Vladislav Gavrikov\n"
     ]
    },
    {
     "name": "stderr",
     "output_type": "stream",
     "text": [
      "100%|██████████| 9/9 [00:04<00:00,  1.88it/s]\n",
      "100%|██████████| 9/9 [00:04<00:00,  1.96it/s]\n"
     ]
    },
    {
     "name": "stdout",
     "output_type": "stream",
     "text": [
      "Vladislav Kolyachonok\n"
     ]
    },
    {
     "name": "stderr",
     "output_type": "stream",
     "text": [
      "100%|██████████| 9/9 [00:03<00:00,  2.65it/s]\n",
      "100%|██████████| 9/9 [00:03<00:00,  2.43it/s]\n"
     ]
    },
    {
     "name": "stdout",
     "output_type": "stream",
     "text": [
      "Vladislav Namestnikov\n"
     ]
    },
    {
     "name": "stderr",
     "output_type": "stream",
     "text": [
      "100%|██████████| 9/9 [00:03<00:00,  2.42it/s]\n",
      "100%|██████████| 9/9 [00:03<00:00,  2.81it/s]\n"
     ]
    },
    {
     "name": "stdout",
     "output_type": "stream",
     "text": [
      "Wade Allison\n"
     ]
    },
    {
     "name": "stderr",
     "output_type": "stream",
     "text": [
      "100%|██████████| 9/9 [00:04<00:00,  2.11it/s]\n",
      "100%|██████████| 9/9 [00:03<00:00,  2.30it/s]\n"
     ]
    },
    {
     "name": "stdout",
     "output_type": "stream",
     "text": [
      "Walker Duehr\n"
     ]
    },
    {
     "name": "stderr",
     "output_type": "stream",
     "text": [
      "100%|██████████| 9/9 [00:03<00:00,  2.27it/s]\n",
      "100%|██████████| 9/9 [00:04<00:00,  2.09it/s]\n"
     ]
    },
    {
     "name": "stdout",
     "output_type": "stream",
     "text": [
      "Warren Foegele\n"
     ]
    },
    {
     "name": "stderr",
     "output_type": "stream",
     "text": [
      "100%|██████████| 9/9 [00:03<00:00,  2.35it/s]\n",
      "100%|██████████| 9/9 [00:03<00:00,  2.29it/s]\n"
     ]
    },
    {
     "name": "stdout",
     "output_type": "stream",
     "text": [
      "Wayne Simmonds\n"
     ]
    },
    {
     "name": "stderr",
     "output_type": "stream",
     "text": [
      "100%|██████████| 9/9 [00:04<00:00,  2.03it/s]\n",
      "100%|██████████| 9/9 [00:04<00:00,  2.07it/s]\n"
     ]
    },
    {
     "name": "stdout",
     "output_type": "stream",
     "text": [
      "Will Borgen\n"
     ]
    },
    {
     "name": "stderr",
     "output_type": "stream",
     "text": [
      "100%|██████████| 9/9 [00:03<00:00,  2.37it/s]\n",
      "100%|██████████| 9/9 [00:03<00:00,  2.28it/s]\n",
      "c:\\Users\\jetso\\AppData\\Local\\Programs\\Python\\Python311\\Lib\\site-packages\\moepy\\lowess.py:38: RuntimeWarning: divide by zero encountered in divide\n",
      "  dist_to_weights = lambda dist, dist_threshold=1: (1 - ((np.abs(dist)/dist_threshold).clip(0, 1) ** 3)) ** 3\n",
      "c:\\Users\\jetso\\AppData\\Local\\Programs\\Python\\Python311\\Lib\\site-packages\\moepy\\lowess.py:38: RuntimeWarning: invalid value encountered in divide\n",
      "  dist_to_weights = lambda dist, dist_threshold=1: (1 - ((np.abs(dist)/dist_threshold).clip(0, 1) ** 3)) ** 3\n"
     ]
    },
    {
     "name": "stdout",
     "output_type": "stream",
     "text": [
      "Will Cuylle\n"
     ]
    },
    {
     "name": "stderr",
     "output_type": "stream",
     "text": [
      "100%|██████████| 9/9 [00:00<00:00, 17.88it/s]\n",
      "c:\\Users\\jetso\\AppData\\Local\\Programs\\Python\\Python311\\Lib\\site-packages\\moepy\\lowess.py:38: RuntimeWarning: divide by zero encountered in divide\n",
      "  dist_to_weights = lambda dist, dist_threshold=1: (1 - ((np.abs(dist)/dist_threshold).clip(0, 1) ** 3)) ** 3\n",
      "c:\\Users\\jetso\\AppData\\Local\\Programs\\Python\\Python311\\Lib\\site-packages\\moepy\\lowess.py:38: RuntimeWarning: invalid value encountered in divide\n",
      "  dist_to_weights = lambda dist, dist_threshold=1: (1 - ((np.abs(dist)/dist_threshold).clip(0, 1) ** 3)) ** 3\n",
      "100%|██████████| 9/9 [00:00<00:00, 18.12it/s]\n",
      "c:\\Users\\jetso\\AppData\\Local\\Programs\\Python\\Python311\\Lib\\site-packages\\moepy\\lowess.py:38: RuntimeWarning: divide by zero encountered in divide\n",
      "  dist_to_weights = lambda dist, dist_threshold=1: (1 - ((np.abs(dist)/dist_threshold).clip(0, 1) ** 3)) ** 3\n",
      "c:\\Users\\jetso\\AppData\\Local\\Programs\\Python\\Python311\\Lib\\site-packages\\moepy\\lowess.py:38: RuntimeWarning: invalid value encountered in divide\n",
      "  dist_to_weights = lambda dist, dist_threshold=1: (1 - ((np.abs(dist)/dist_threshold).clip(0, 1) ** 3)) ** 3\n"
     ]
    },
    {
     "name": "stdout",
     "output_type": "stream",
     "text": [
      "William Bitten\n"
     ]
    },
    {
     "name": "stderr",
     "output_type": "stream",
     "text": [
      "100%|██████████| 9/9 [00:00<00:00, 20.47it/s]\n",
      "c:\\Users\\jetso\\AppData\\Local\\Programs\\Python\\Python311\\Lib\\site-packages\\moepy\\lowess.py:38: RuntimeWarning: divide by zero encountered in divide\n",
      "  dist_to_weights = lambda dist, dist_threshold=1: (1 - ((np.abs(dist)/dist_threshold).clip(0, 1) ** 3)) ** 3\n",
      "c:\\Users\\jetso\\AppData\\Local\\Programs\\Python\\Python311\\Lib\\site-packages\\moepy\\lowess.py:38: RuntimeWarning: invalid value encountered in divide\n",
      "  dist_to_weights = lambda dist, dist_threshold=1: (1 - ((np.abs(dist)/dist_threshold).clip(0, 1) ** 3)) ** 3\n",
      "100%|██████████| 9/9 [00:15<00:00,  1.77s/it]\n"
     ]
    },
    {
     "name": "stdout",
     "output_type": "stream",
     "text": [
      "William Carrier\n"
     ]
    },
    {
     "name": "stderr",
     "output_type": "stream",
     "text": [
      "100%|██████████| 9/9 [00:03<00:00,  2.76it/s]\n",
      "100%|██████████| 9/9 [00:03<00:00,  2.53it/s]\n",
      "c:\\Users\\jetso\\AppData\\Local\\Programs\\Python\\Python311\\Lib\\site-packages\\moepy\\lowess.py:38: RuntimeWarning: invalid value encountered in divide\n",
      "  dist_to_weights = lambda dist, dist_threshold=1: (1 - ((np.abs(dist)/dist_threshold).clip(0, 1) ** 3)) ** 3\n"
     ]
    },
    {
     "name": "stdout",
     "output_type": "stream",
     "text": [
      "William Dufour\n"
     ]
    },
    {
     "name": "stderr",
     "output_type": "stream",
     "text": [
      "100%|██████████| 9/9 [00:00<00:00, 17.00it/s]\n",
      "c:\\Users\\jetso\\AppData\\Local\\Programs\\Python\\Python311\\Lib\\site-packages\\moepy\\lowess.py:38: RuntimeWarning: invalid value encountered in divide\n",
      "  dist_to_weights = lambda dist, dist_threshold=1: (1 - ((np.abs(dist)/dist_threshold).clip(0, 1) ** 3)) ** 3\n",
      "100%|██████████| 9/9 [00:00<00:00, 17.39it/s]\n"
     ]
    },
    {
     "name": "stdout",
     "output_type": "stream",
     "text": [
      "William Eklund\n"
     ]
    },
    {
     "name": "stderr",
     "output_type": "stream",
     "text": [
      "100%|██████████| 9/9 [00:03<00:00,  2.35it/s]\n",
      "100%|██████████| 9/9 [00:03<00:00,  2.51it/s]\n"
     ]
    },
    {
     "name": "stdout",
     "output_type": "stream",
     "text": [
      "William Karlsson\n"
     ]
    },
    {
     "name": "stderr",
     "output_type": "stream",
     "text": [
      "100%|██████████| 9/9 [00:03<00:00,  2.42it/s]\n",
      "100%|██████████| 9/9 [00:04<00:00,  2.17it/s]\n"
     ]
    },
    {
     "name": "stdout",
     "output_type": "stream",
     "text": [
      "William Lockwood\n"
     ]
    },
    {
     "name": "stderr",
     "output_type": "stream",
     "text": [
      "100%|██████████| 9/9 [00:03<00:00,  2.47it/s]\n",
      "100%|██████████| 9/9 [00:16<00:00,  1.79s/it]\n"
     ]
    },
    {
     "name": "stdout",
     "output_type": "stream",
     "text": [
      "William Nylander\n"
     ]
    },
    {
     "name": "stderr",
     "output_type": "stream",
     "text": [
      "100%|██████████| 9/9 [00:03<00:00,  2.43it/s]\n",
      "100%|██████████| 9/9 [00:03<00:00,  2.41it/s]\n"
     ]
    },
    {
     "name": "stdout",
     "output_type": "stream",
     "text": [
      "Wyatt Johnston\n"
     ]
    },
    {
     "name": "stderr",
     "output_type": "stream",
     "text": [
      "100%|██████████| 9/9 [00:03<00:00,  2.34it/s]\n",
      "100%|██████████| 9/9 [00:04<00:00,  2.14it/s]\n",
      "c:\\Users\\jetso\\AppData\\Local\\Programs\\Python\\Python311\\Lib\\site-packages\\moepy\\lowess.py:38: RuntimeWarning: invalid value encountered in divide\n",
      "  dist_to_weights = lambda dist, dist_threshold=1: (1 - ((np.abs(dist)/dist_threshold).clip(0, 1) ** 3)) ** 3\n"
     ]
    },
    {
     "name": "stdout",
     "output_type": "stream",
     "text": [
      "Wyatt Kaiser\n"
     ]
    },
    {
     "name": "stderr",
     "output_type": "stream",
     "text": [
      "100%|██████████| 9/9 [00:00<00:00, 18.56it/s]\n",
      "c:\\Users\\jetso\\AppData\\Local\\Programs\\Python\\Python311\\Lib\\site-packages\\moepy\\lowess.py:38: RuntimeWarning: invalid value encountered in divide\n",
      "  dist_to_weights = lambda dist, dist_threshold=1: (1 - ((np.abs(dist)/dist_threshold).clip(0, 1) ** 3)) ** 3\n",
      "100%|██████████| 9/9 [00:00<00:00, 18.15it/s]\n"
     ]
    },
    {
     "name": "stdout",
     "output_type": "stream",
     "text": [
      "Yakov Trenin\n"
     ]
    },
    {
     "name": "stderr",
     "output_type": "stream",
     "text": [
      "100%|██████████| 9/9 [00:04<00:00,  2.11it/s]\n",
      "100%|██████████| 9/9 [00:04<00:00,  2.18it/s]\n"
     ]
    },
    {
     "name": "stdout",
     "output_type": "stream",
     "text": [
      "Yanni Gourde\n"
     ]
    },
    {
     "name": "stderr",
     "output_type": "stream",
     "text": [
      "100%|██████████| 9/9 [00:04<00:00,  2.19it/s]\n",
      "100%|██████████| 9/9 [00:04<00:00,  2.04it/s]\n"
     ]
    },
    {
     "name": "stdout",
     "output_type": "stream",
     "text": [
      "Yegor Chinakhov\n"
     ]
    },
    {
     "name": "stderr",
     "output_type": "stream",
     "text": [
      "100%|██████████| 9/9 [00:03<00:00,  2.99it/s]\n",
      "100%|██████████| 9/9 [00:03<00:00,  2.48it/s]\n"
     ]
    },
    {
     "name": "stdout",
     "output_type": "stream",
     "text": [
      "Yegor Sharangovich\n"
     ]
    },
    {
     "name": "stderr",
     "output_type": "stream",
     "text": [
      "100%|██████████| 9/9 [00:03<00:00,  2.37it/s]\n",
      "100%|██████████| 9/9 [00:03<00:00,  2.36it/s]\n"
     ]
    },
    {
     "name": "stdout",
     "output_type": "stream",
     "text": [
      "Zac Dalpe\n"
     ]
    },
    {
     "name": "stderr",
     "output_type": "stream",
     "text": [
      "100%|██████████| 9/9 [00:03<00:00,  2.72it/s]\n",
      "100%|██████████| 9/9 [00:03<00:00,  2.34it/s]\n"
     ]
    },
    {
     "name": "stdout",
     "output_type": "stream",
     "text": [
      "Zac Jones\n"
     ]
    },
    {
     "name": "stderr",
     "output_type": "stream",
     "text": [
      "100%|██████████| 9/9 [00:03<00:00,  2.82it/s]\n",
      "100%|██████████| 9/9 [00:03<00:00,  2.71it/s]\n"
     ]
    },
    {
     "name": "stdout",
     "output_type": "stream",
     "text": [
      "Zach Aston-Reese\n"
     ]
    },
    {
     "name": "stderr",
     "output_type": "stream",
     "text": [
      "100%|██████████| 9/9 [00:04<00:00,  2.14it/s]\n",
      "100%|██████████| 9/9 [00:03<00:00,  2.47it/s]\n"
     ]
    },
    {
     "name": "stdout",
     "output_type": "stream",
     "text": [
      "Zach Bogosian\n"
     ]
    },
    {
     "name": "stderr",
     "output_type": "stream",
     "text": [
      "100%|██████████| 9/9 [00:04<00:00,  1.90it/s]\n",
      "100%|██████████| 9/9 [00:04<00:00,  1.89it/s]\n"
     ]
    },
    {
     "name": "stdout",
     "output_type": "stream",
     "text": [
      "Zach Hyman\n"
     ]
    },
    {
     "name": "stderr",
     "output_type": "stream",
     "text": [
      "100%|██████████| 9/9 [00:03<00:00,  2.70it/s]\n",
      "100%|██████████| 9/9 [00:03<00:00,  2.95it/s]\n"
     ]
    },
    {
     "name": "stdout",
     "output_type": "stream",
     "text": [
      "Zach Parise\n"
     ]
    },
    {
     "name": "stderr",
     "output_type": "stream",
     "text": [
      "100%|██████████| 9/9 [00:04<00:00,  2.22it/s]\n",
      "100%|██████████| 9/9 [00:04<00:00,  1.83it/s]\n"
     ]
    },
    {
     "name": "stdout",
     "output_type": "stream",
     "text": [
      "Zach Sanford\n"
     ]
    },
    {
     "name": "stderr",
     "output_type": "stream",
     "text": [
      "100%|██████████| 9/9 [00:03<00:00,  2.48it/s]\n",
      "100%|██████████| 9/9 [00:03<00:00,  2.43it/s]\n"
     ]
    },
    {
     "name": "stdout",
     "output_type": "stream",
     "text": [
      "Zach Werenski\n"
     ]
    },
    {
     "name": "stderr",
     "output_type": "stream",
     "text": [
      "100%|██████████| 9/9 [00:04<00:00,  2.15it/s]\n",
      "100%|██████████| 9/9 [00:04<00:00,  2.02it/s]\n"
     ]
    },
    {
     "name": "stdout",
     "output_type": "stream",
     "text": [
      "Zach Whitecloud\n"
     ]
    },
    {
     "name": "stderr",
     "output_type": "stream",
     "text": [
      "100%|██████████| 9/9 [00:04<00:00,  1.96it/s]\n",
      "100%|██████████| 9/9 [00:04<00:00,  2.06it/s]\n"
     ]
    },
    {
     "name": "stdout",
     "output_type": "stream",
     "text": [
      "Zack Kassian\n"
     ]
    },
    {
     "name": "stderr",
     "output_type": "stream",
     "text": [
      "100%|██████████| 9/9 [00:04<00:00,  2.17it/s]\n",
      "100%|██████████| 9/9 [00:04<00:00,  2.10it/s]\n"
     ]
    },
    {
     "name": "stdout",
     "output_type": "stream",
     "text": [
      "Zack MacEwen\n"
     ]
    },
    {
     "name": "stderr",
     "output_type": "stream",
     "text": [
      "100%|██████████| 9/9 [00:04<00:00,  2.10it/s]\n",
      "100%|██████████| 9/9 [00:03<00:00,  2.47it/s]\n"
     ]
    },
    {
     "name": "stdout",
     "output_type": "stream",
     "text": [
      "Zemgus Girgensons\n"
     ]
    },
    {
     "name": "stderr",
     "output_type": "stream",
     "text": [
      "100%|██████████| 9/9 [00:03<00:00,  2.50it/s]\n",
      "100%|██████████| 9/9 [00:03<00:00,  2.63it/s]\n"
     ]
    }
   ],
   "source": [
    "players = list(merged[merged.Season == 20222023].Player.unique())\n",
    "players.sort()\n",
    "recents = []\n",
    "errors = []\n",
    "for player in players[600:]:\n",
    "    print(player)\n",
    "    try:\n",
    "        df = pd.read_csv('projections/20222023/'+(player.replace(' ', '_'))+'.csv')\n",
    "    except:\n",
    "        df, df_quantiles = get_projections(player, 'Career Game')\n",
    "        df.to_csv('projections/20222023/'+(player.replace(' ', '_'))+'.csv')\n",
    "        recents.append(df[df.index == len(df)-1])"
   ]
  },
  {
   "cell_type": "code",
   "execution_count": 53,
   "metadata": {},
   "outputs": [
    {
     "data": {
      "text/plain": [
       "386846           A.J. Greer\n",
       "2644           Aaron Downey\n",
       "290572         Aaron Ekblad\n",
       "91152          Aaron Gagnon\n",
       "3148          Aaron Johnson\n",
       "                ...        \n",
       "2517          Zack Stortini\n",
       "4855        Zbynek Michalek\n",
       "683             Zdeno Chara\n",
       "246170    Zemgus Girgensons\n",
       "42933         Zenon Konopka\n",
       "Name: Player, Length: 2840, dtype: object"
      ]
     },
     "execution_count": 53,
     "metadata": {},
     "output_type": "execute_result"
    }
   ],
   "source": [
    "pd.read_csv('cleaned/master_skaters.csv')['Player'].drop_duplicates().sort_values()"
   ]
  },
  {
   "cell_type": "code",
   "execution_count": 50,
   "metadata": {},
   "outputs": [
    {
     "data": {
      "application/vnd.plotly.v1+json": {
       "config": {
        "plotlyServerURL": "https://plot.ly"
       },
       "data": [
        {
         "marker": {
          "color": "rgba(204, 25, 25, 1)"
         },
         "mode": "markers",
         "opacity": 0.15,
         "type": "scatter",
         "x": [
          1,
          2,
          3,
          4,
          5,
          6,
          7,
          8,
          9,
          10,
          11,
          12,
          13,
          14,
          15,
          16,
          17,
          18,
          19,
          20,
          21,
          22,
          23,
          24,
          25,
          26,
          27,
          28,
          29,
          30,
          31,
          32,
          33,
          34,
          35,
          36,
          37,
          38,
          39,
          40,
          41,
          42,
          43,
          44,
          45,
          46,
          47,
          48,
          49,
          50,
          51,
          52,
          53,
          54,
          55,
          56,
          57,
          58,
          59,
          60,
          61,
          62,
          63,
          64,
          65,
          66,
          67,
          68,
          69,
          70,
          71,
          72,
          73,
          74,
          75,
          76,
          77,
          78,
          79,
          80,
          81,
          82,
          83,
          84,
          85,
          86,
          87,
          88,
          89,
          90,
          91,
          92,
          93,
          94,
          95,
          96,
          97,
          98,
          99
         ],
         "y": [
          0,
          -0.0491472510196734,
          0.0095561308487936,
          0.1697650719590609,
          0.1148087442410888,
          0.1842116434416592,
          0.0443519250427038,
          0.0717636630816844,
          -0.0595605484628178,
          -0.2432577160345738,
          -0.2415847307877183,
          -0.2161105286293472,
          -0.2162044897400702,
          -0.2560688413566961,
          -0.2887060887914715,
          -0.2390275495788656,
          -0.2136609563726272,
          -0.4008103343554028,
          -0.6198367059989781,
          -0.4915954506126646,
          -0.3947508903632618,
          -0.3715529133318789,
          -0.1810110008049264,
          -0.2616068245428542,
          -0.1545611902463655,
          -0.2436972078325229,
          -0.1530642350941373,
          -0.0180913897939601,
          0.0998168805948946,
          0.0858866576863365,
          0.111336735680658,
          0.1198021230183581,
          0.2475345923122821,
          0.4920637179084366,
          0.4771691682084664,
          0.6122546787201092,
          0.8718466712145557,
          0.7379076592076873,
          1.0577216037654231,
          1.05462709488019,
          1.0691117058887618,
          0.9532985402265912,
          0.8269868265682697,
          0.8650512135876288,
          0.7999880330220785,
          0.7203484858746648,
          0.6643567572678627,
          0.6978248700986686,
          0.8543100207201229,
          0.7297058634236133,
          0.6995729836352838,
          0.6625615395720634,
          0.5198716702800367,
          0.4172846822267559,
          0.4631063825162165,
          0.2485096047549486,
          0.1330637804418833,
          0.1466778329176603,
          0.0070529187986522,
          -0.0247236776689347,
          -0.0667772006623033,
          0.0592316399225915,
          0.1243542839212752,
          0.1434827641665843,
          0.2517170039466853,
          0.3223758704361513,
          0.4761031532051452,
          0.6142122715616372,
          0.5143628024771936,
          0.6825925090202506,
          0.7597259688972453,
          0.7897352909585923,
          0.8267228955527157,
          0.9306593791780036,
          0.955860183172366,
          1.006819924073223,
          1.1147182952273504,
          1.2837101323334628,
          1.4071946469982866,
          1.5077664901055747,
          1.587848711926497,
          1.6027422986338604,
          1.5515035674623037,
          1.5475922158642923,
          1.4328461001443409,
          1.6201255237513488,
          1.612782960562671,
          1.4601729182503147,
          1.435213331921728,
          1.5522181079797834,
          1.6391559750419002,
          1.647628949465589,
          1.5995863195356472,
          1.6405764944274592,
          1.6300764663877358,
          1.7380971569939192,
          1.5799038387019075,
          1.5352103993392072,
          1.5182960964829868
         ]
        },
        {
         "marker": {
          "color": "rgba(204, 25, 25, 1)"
         },
         "mode": "markers",
         "name": "jalen_chatfield",
         "type": "scatter",
         "x": [
          1,
          2,
          3,
          4,
          5,
          6,
          7,
          8,
          9,
          10,
          11,
          12,
          13,
          14,
          15,
          16,
          17,
          18,
          19,
          20,
          21,
          22,
          23,
          24,
          25,
          26,
          27,
          28,
          29,
          30,
          31,
          32,
          33,
          34,
          35,
          36,
          37,
          38,
          39,
          40,
          41,
          42,
          43,
          44,
          45,
          46,
          47,
          48,
          49,
          50,
          51,
          52,
          53,
          54,
          55,
          56,
          57,
          58,
          59,
          60,
          61,
          62,
          63,
          64,
          65,
          66,
          67,
          68,
          69,
          70,
          71,
          72,
          73,
          74,
          75,
          76,
          77,
          78,
          79,
          80,
          81,
          82,
          83,
          84,
          85,
          86,
          87,
          88,
          89,
          90,
          91,
          92,
          93,
          94,
          95,
          96,
          97,
          98,
          99
         ],
         "y": [
          -0.1424906411359724,
          0.0285780156486901,
          0.3713936286585593,
          0.2115106617404943,
          0.3255618150104334,
          0.0237507802117617,
          0.0783661168910571,
          -0.1831300100634153,
          -0.534197761992157,
          -0.4841737123430122,
          -0.3894748457070595,
          -0.3376422666565011,
          -0.374575521188737,
          -0.3913480444657825,
          -0.241499970355245,
          -0.159846998293953,
          -0.5094846433718414,
          -0.9497420514604614,
          -0.5763115625994186,
          -0.2378105562192565,
          -0.2161874306357105,
          0.2028430679550424,
          0.2106751904266007,
          0.3218004131388214,
          0.2179117284173677,
          0.2314334185089671,
          0.2370677663769993,
          0.1082308443844683,
          0.0788384836250117,
          0.1105822453179978,
          0.1117597798461866,
          0.2489831565449114,
          0.5873336433377249,
          0.5781197728740061,
          0.7759350989146323,
          0.8069206663992722,
          0.5511385969302265,
          0.6321680341385689,
          0.7806021372655528,
          0.9536569088738728,
          0.626313832477382,
          0.6391440646901604,
          0.7550945604946071,
          0.622281098663594,
          0.3484448215012697,
          0.2447953753680226,
          0.1606032683201122,
          0.4057508991776209,
          0.179053968231156,
          0.1223336324128756,
          0.1859072039187753,
          0.2544032825094171,
          0.0787951905632489,
          0.2186821473932669,
          0.0556025234555459,
          -0.0400469467996013,
          -0.1597406593630654,
          -0.2523649701386876,
          -0.0537345228276338,
          0.1430862126843385,
          0.1588670324543342,
          0.3525529382034974,
          0.5384211206429067,
          0.6374012766479227,
          0.4975180315093337,
          0.6651110477281565,
          0.788236751711064,
          0.7625497624348753,
          0.8097112805155261,
          0.8188193046442822,
          0.8497068218683058,
          0.9026703232040212,
          0.8427835457833807,
          0.9315554213536812,
          0.7764648957454227,
          0.7942842393203182,
          0.8890612140414522,
          0.8980265701636866,
          1.1382386755499798,
          1.3326309284901254,
          1.2261003742657677,
          1.186252604244228,
          1.514806032180786,
          1.5194718837738037,
          1.3915668725967407,
          1.4841727018356323,
          1.5628162622451782,
          1.4354771375656128,
          1.391918420791626,
          1.484799861907959,
          1.5884544849395752,
          1.597812533378601,
          1.5373220443725586,
          1.500113606452942,
          1.640486717224121,
          1.61351215839386,
          1.577383041381836,
          1.551099419593811,
          1.395124435424805
         ]
        },
        {
         "marker": {
          "color": "rgba(204, 25, 25, 1)"
         },
         "mode": "lines",
         "name": "jalen_chatfield",
         "type": "scatter",
         "x": [
          1,
          2,
          3,
          4,
          5,
          6,
          7,
          8,
          9,
          10,
          11,
          12,
          13,
          14,
          15,
          16,
          17,
          18,
          19,
          20,
          21,
          22,
          23,
          24,
          25,
          26,
          27,
          28,
          29,
          30,
          31,
          32,
          33,
          34,
          35,
          36,
          37,
          38,
          39,
          40,
          41,
          42,
          43,
          44,
          45,
          46,
          47,
          48,
          49,
          50,
          51,
          52,
          53,
          54,
          55,
          56,
          57,
          58,
          59,
          60,
          61,
          62,
          63,
          64,
          65,
          66,
          67,
          68,
          69,
          70,
          71,
          72,
          73,
          74,
          75,
          76,
          77,
          78,
          79,
          80,
          81,
          82,
          83,
          84,
          85,
          86,
          87,
          88,
          89,
          90,
          91,
          92,
          93,
          94,
          95,
          96,
          97,
          98,
          99
         ],
         "y": [
          0.0144129421389228,
          -0.0145164548916724,
          -0.0435812909643151,
          -0.0710362635764447,
          -0.0957115172144202,
          -0.1164897031364318,
          -0.1326301502594964,
          -0.1441621632998525,
          -0.1516789474340157,
          -0.1560725301337399,
          -0.1591380857176199,
          -0.162255003494738,
          -0.1653166225780486,
          -0.1676657862078569,
          -0.1686218986881248,
          -0.167599853000592,
          -0.163863113389852,
          -0.1567159296520172,
          -0.14575902074199,
          -0.1308966359485859,
          -0.1118797085072807,
          -0.0876427291095849,
          -0.0578738979490501,
          -0.0229785965001687,
          0.0164544090604256,
          0.0607985148765417,
          0.1126690044844695,
          0.1723673037343049,
          0.2379210837628986,
          0.306159928801043,
          0.3740626594727083,
          0.4397891338921577,
          0.4994439832832673,
          0.5490851563727064,
          0.5875410438762781,
          0.6167053197374868,
          0.6356465818124951,
          0.6429064836496527,
          0.6390433773694538,
          0.6265266784265309,
          0.6067822687163852,
          0.5798373015902513,
          0.5461040422406542,
          0.5069538087164767,
          0.4630469858006784,
          0.416295905781784,
          0.3679079334542994,
          0.3180989657655762,
          0.2686730699123449,
          0.2206369133176252,
          0.1768737515802163,
          0.1403335811115945,
          0.1125307584024877,
          0.0945436370739844,
          0.0851564634040709,
          0.0839704358874428,
          0.0916031174948401,
          0.1089297917052832,
          0.1359358878540996,
          0.1720719350600263,
          0.2165382350016681,
          0.2681593223844737,
          0.3269696929343718,
          0.3913287603095868,
          0.4595927222875711,
          0.5319260822382291,
          0.6068120807955872,
          0.6805825005487549,
          0.7494556320708009,
          0.8120706130453894,
          0.8702336385403187,
          0.9234312126277996,
          0.970466827396204,
          1.0109774613966125,
          1.046134188234762,
          1.078562655396373,
          1.1091376137990931,
          1.1380931826718863,
          1.1656913351303384,
          1.1921399061406337,
          1.2174881348973847,
          1.2420611622859563,
          1.2664404715512652,
          1.2912468461934905,
          1.3167790267801014,
          1.3426109105400232,
          1.3687134422925822,
          1.3954053964077102,
          1.422949516137521,
          1.4513757876356688,
          1.4802304737351928,
          1.5088260361126924,
          1.5365174222707263,
          1.562614069063765,
          1.5866635861610656,
          1.6089536938592666,
          1.6303326108528085,
          1.6510341550002832,
          1.6712962256488555
         ]
        }
       ],
       "layout": {
        "autosize": false,
        "height": 500,
        "template": {
         "data": {
          "bar": [
           {
            "error_x": {
             "color": "#2a3f5f"
            },
            "error_y": {
             "color": "#2a3f5f"
            },
            "marker": {
             "line": {
              "color": "#E5ECF6",
              "width": 0.5
             },
             "pattern": {
              "fillmode": "overlay",
              "size": 10,
              "solidity": 0.2
             }
            },
            "type": "bar"
           }
          ],
          "barpolar": [
           {
            "marker": {
             "line": {
              "color": "#E5ECF6",
              "width": 0.5
             },
             "pattern": {
              "fillmode": "overlay",
              "size": 10,
              "solidity": 0.2
             }
            },
            "type": "barpolar"
           }
          ],
          "carpet": [
           {
            "aaxis": {
             "endlinecolor": "#2a3f5f",
             "gridcolor": "white",
             "linecolor": "white",
             "minorgridcolor": "white",
             "startlinecolor": "#2a3f5f"
            },
            "baxis": {
             "endlinecolor": "#2a3f5f",
             "gridcolor": "white",
             "linecolor": "white",
             "minorgridcolor": "white",
             "startlinecolor": "#2a3f5f"
            },
            "type": "carpet"
           }
          ],
          "choropleth": [
           {
            "colorbar": {
             "outlinewidth": 0,
             "ticks": ""
            },
            "type": "choropleth"
           }
          ],
          "contour": [
           {
            "colorbar": {
             "outlinewidth": 0,
             "ticks": ""
            },
            "colorscale": [
             [
              0,
              "#0d0887"
             ],
             [
              0.1111111111111111,
              "#46039f"
             ],
             [
              0.2222222222222222,
              "#7201a8"
             ],
             [
              0.3333333333333333,
              "#9c179e"
             ],
             [
              0.4444444444444444,
              "#bd3786"
             ],
             [
              0.5555555555555556,
              "#d8576b"
             ],
             [
              0.6666666666666666,
              "#ed7953"
             ],
             [
              0.7777777777777778,
              "#fb9f3a"
             ],
             [
              0.8888888888888888,
              "#fdca26"
             ],
             [
              1,
              "#f0f921"
             ]
            ],
            "type": "contour"
           }
          ],
          "contourcarpet": [
           {
            "colorbar": {
             "outlinewidth": 0,
             "ticks": ""
            },
            "type": "contourcarpet"
           }
          ],
          "heatmap": [
           {
            "colorbar": {
             "outlinewidth": 0,
             "ticks": ""
            },
            "colorscale": [
             [
              0,
              "#0d0887"
             ],
             [
              0.1111111111111111,
              "#46039f"
             ],
             [
              0.2222222222222222,
              "#7201a8"
             ],
             [
              0.3333333333333333,
              "#9c179e"
             ],
             [
              0.4444444444444444,
              "#bd3786"
             ],
             [
              0.5555555555555556,
              "#d8576b"
             ],
             [
              0.6666666666666666,
              "#ed7953"
             ],
             [
              0.7777777777777778,
              "#fb9f3a"
             ],
             [
              0.8888888888888888,
              "#fdca26"
             ],
             [
              1,
              "#f0f921"
             ]
            ],
            "type": "heatmap"
           }
          ],
          "heatmapgl": [
           {
            "colorbar": {
             "outlinewidth": 0,
             "ticks": ""
            },
            "colorscale": [
             [
              0,
              "#0d0887"
             ],
             [
              0.1111111111111111,
              "#46039f"
             ],
             [
              0.2222222222222222,
              "#7201a8"
             ],
             [
              0.3333333333333333,
              "#9c179e"
             ],
             [
              0.4444444444444444,
              "#bd3786"
             ],
             [
              0.5555555555555556,
              "#d8576b"
             ],
             [
              0.6666666666666666,
              "#ed7953"
             ],
             [
              0.7777777777777778,
              "#fb9f3a"
             ],
             [
              0.8888888888888888,
              "#fdca26"
             ],
             [
              1,
              "#f0f921"
             ]
            ],
            "type": "heatmapgl"
           }
          ],
          "histogram": [
           {
            "marker": {
             "pattern": {
              "fillmode": "overlay",
              "size": 10,
              "solidity": 0.2
             }
            },
            "type": "histogram"
           }
          ],
          "histogram2d": [
           {
            "colorbar": {
             "outlinewidth": 0,
             "ticks": ""
            },
            "colorscale": [
             [
              0,
              "#0d0887"
             ],
             [
              0.1111111111111111,
              "#46039f"
             ],
             [
              0.2222222222222222,
              "#7201a8"
             ],
             [
              0.3333333333333333,
              "#9c179e"
             ],
             [
              0.4444444444444444,
              "#bd3786"
             ],
             [
              0.5555555555555556,
              "#d8576b"
             ],
             [
              0.6666666666666666,
              "#ed7953"
             ],
             [
              0.7777777777777778,
              "#fb9f3a"
             ],
             [
              0.8888888888888888,
              "#fdca26"
             ],
             [
              1,
              "#f0f921"
             ]
            ],
            "type": "histogram2d"
           }
          ],
          "histogram2dcontour": [
           {
            "colorbar": {
             "outlinewidth": 0,
             "ticks": ""
            },
            "colorscale": [
             [
              0,
              "#0d0887"
             ],
             [
              0.1111111111111111,
              "#46039f"
             ],
             [
              0.2222222222222222,
              "#7201a8"
             ],
             [
              0.3333333333333333,
              "#9c179e"
             ],
             [
              0.4444444444444444,
              "#bd3786"
             ],
             [
              0.5555555555555556,
              "#d8576b"
             ],
             [
              0.6666666666666666,
              "#ed7953"
             ],
             [
              0.7777777777777778,
              "#fb9f3a"
             ],
             [
              0.8888888888888888,
              "#fdca26"
             ],
             [
              1,
              "#f0f921"
             ]
            ],
            "type": "histogram2dcontour"
           }
          ],
          "mesh3d": [
           {
            "colorbar": {
             "outlinewidth": 0,
             "ticks": ""
            },
            "type": "mesh3d"
           }
          ],
          "parcoords": [
           {
            "line": {
             "colorbar": {
              "outlinewidth": 0,
              "ticks": ""
             }
            },
            "type": "parcoords"
           }
          ],
          "pie": [
           {
            "automargin": true,
            "type": "pie"
           }
          ],
          "scatter": [
           {
            "fillpattern": {
             "fillmode": "overlay",
             "size": 10,
             "solidity": 0.2
            },
            "type": "scatter"
           }
          ],
          "scatter3d": [
           {
            "line": {
             "colorbar": {
              "outlinewidth": 0,
              "ticks": ""
             }
            },
            "marker": {
             "colorbar": {
              "outlinewidth": 0,
              "ticks": ""
             }
            },
            "type": "scatter3d"
           }
          ],
          "scattercarpet": [
           {
            "marker": {
             "colorbar": {
              "outlinewidth": 0,
              "ticks": ""
             }
            },
            "type": "scattercarpet"
           }
          ],
          "scattergeo": [
           {
            "marker": {
             "colorbar": {
              "outlinewidth": 0,
              "ticks": ""
             }
            },
            "type": "scattergeo"
           }
          ],
          "scattergl": [
           {
            "marker": {
             "colorbar": {
              "outlinewidth": 0,
              "ticks": ""
             }
            },
            "type": "scattergl"
           }
          ],
          "scattermapbox": [
           {
            "marker": {
             "colorbar": {
              "outlinewidth": 0,
              "ticks": ""
             }
            },
            "type": "scattermapbox"
           }
          ],
          "scatterpolar": [
           {
            "marker": {
             "colorbar": {
              "outlinewidth": 0,
              "ticks": ""
             }
            },
            "type": "scatterpolar"
           }
          ],
          "scatterpolargl": [
           {
            "marker": {
             "colorbar": {
              "outlinewidth": 0,
              "ticks": ""
             }
            },
            "type": "scatterpolargl"
           }
          ],
          "scatterternary": [
           {
            "marker": {
             "colorbar": {
              "outlinewidth": 0,
              "ticks": ""
             }
            },
            "type": "scatterternary"
           }
          ],
          "surface": [
           {
            "colorbar": {
             "outlinewidth": 0,
             "ticks": ""
            },
            "colorscale": [
             [
              0,
              "#0d0887"
             ],
             [
              0.1111111111111111,
              "#46039f"
             ],
             [
              0.2222222222222222,
              "#7201a8"
             ],
             [
              0.3333333333333333,
              "#9c179e"
             ],
             [
              0.4444444444444444,
              "#bd3786"
             ],
             [
              0.5555555555555556,
              "#d8576b"
             ],
             [
              0.6666666666666666,
              "#ed7953"
             ],
             [
              0.7777777777777778,
              "#fb9f3a"
             ],
             [
              0.8888888888888888,
              "#fdca26"
             ],
             [
              1,
              "#f0f921"
             ]
            ],
            "type": "surface"
           }
          ],
          "table": [
           {
            "cells": {
             "fill": {
              "color": "#EBF0F8"
             },
             "line": {
              "color": "white"
             }
            },
            "header": {
             "fill": {
              "color": "#C8D4E3"
             },
             "line": {
              "color": "white"
             }
            },
            "type": "table"
           }
          ]
         },
         "layout": {
          "annotationdefaults": {
           "arrowcolor": "#2a3f5f",
           "arrowhead": 0,
           "arrowwidth": 1
          },
          "autotypenumbers": "strict",
          "coloraxis": {
           "colorbar": {
            "outlinewidth": 0,
            "ticks": ""
           }
          },
          "colorscale": {
           "diverging": [
            [
             0,
             "#8e0152"
            ],
            [
             0.1,
             "#c51b7d"
            ],
            [
             0.2,
             "#de77ae"
            ],
            [
             0.3,
             "#f1b6da"
            ],
            [
             0.4,
             "#fde0ef"
            ],
            [
             0.5,
             "#f7f7f7"
            ],
            [
             0.6,
             "#e6f5d0"
            ],
            [
             0.7,
             "#b8e186"
            ],
            [
             0.8,
             "#7fbc41"
            ],
            [
             0.9,
             "#4d9221"
            ],
            [
             1,
             "#276419"
            ]
           ],
           "sequential": [
            [
             0,
             "#0d0887"
            ],
            [
             0.1111111111111111,
             "#46039f"
            ],
            [
             0.2222222222222222,
             "#7201a8"
            ],
            [
             0.3333333333333333,
             "#9c179e"
            ],
            [
             0.4444444444444444,
             "#bd3786"
            ],
            [
             0.5555555555555556,
             "#d8576b"
            ],
            [
             0.6666666666666666,
             "#ed7953"
            ],
            [
             0.7777777777777778,
             "#fb9f3a"
            ],
            [
             0.8888888888888888,
             "#fdca26"
            ],
            [
             1,
             "#f0f921"
            ]
           ],
           "sequentialminus": [
            [
             0,
             "#0d0887"
            ],
            [
             0.1111111111111111,
             "#46039f"
            ],
            [
             0.2222222222222222,
             "#7201a8"
            ],
            [
             0.3333333333333333,
             "#9c179e"
            ],
            [
             0.4444444444444444,
             "#bd3786"
            ],
            [
             0.5555555555555556,
             "#d8576b"
            ],
            [
             0.6666666666666666,
             "#ed7953"
            ],
            [
             0.7777777777777778,
             "#fb9f3a"
            ],
            [
             0.8888888888888888,
             "#fdca26"
            ],
            [
             1,
             "#f0f921"
            ]
           ]
          },
          "colorway": [
           "#636efa",
           "#EF553B",
           "#00cc96",
           "#ab63fa",
           "#FFA15A",
           "#19d3f3",
           "#FF6692",
           "#B6E880",
           "#FF97FF",
           "#FECB52"
          ],
          "font": {
           "color": "#2a3f5f"
          },
          "geo": {
           "bgcolor": "white",
           "lakecolor": "white",
           "landcolor": "#E5ECF6",
           "showlakes": true,
           "showland": true,
           "subunitcolor": "white"
          },
          "hoverlabel": {
           "align": "left"
          },
          "hovermode": "closest",
          "mapbox": {
           "style": "light"
          },
          "paper_bgcolor": "white",
          "plot_bgcolor": "#E5ECF6",
          "polar": {
           "angularaxis": {
            "gridcolor": "white",
            "linecolor": "white",
            "ticks": ""
           },
           "bgcolor": "#E5ECF6",
           "radialaxis": {
            "gridcolor": "white",
            "linecolor": "white",
            "ticks": ""
           }
          },
          "scene": {
           "xaxis": {
            "backgroundcolor": "#E5ECF6",
            "gridcolor": "white",
            "gridwidth": 2,
            "linecolor": "white",
            "showbackground": true,
            "ticks": "",
            "zerolinecolor": "white"
           },
           "yaxis": {
            "backgroundcolor": "#E5ECF6",
            "gridcolor": "white",
            "gridwidth": 2,
            "linecolor": "white",
            "showbackground": true,
            "ticks": "",
            "zerolinecolor": "white"
           },
           "zaxis": {
            "backgroundcolor": "#E5ECF6",
            "gridcolor": "white",
            "gridwidth": 2,
            "linecolor": "white",
            "showbackground": true,
            "ticks": "",
            "zerolinecolor": "white"
           }
          },
          "shapedefaults": {
           "line": {
            "color": "#2a3f5f"
           }
          },
          "ternary": {
           "aaxis": {
            "gridcolor": "white",
            "linecolor": "white",
            "ticks": ""
           },
           "baxis": {
            "gridcolor": "white",
            "linecolor": "white",
            "ticks": ""
           },
           "bgcolor": "#E5ECF6",
           "caxis": {
            "gridcolor": "white",
            "linecolor": "white",
            "ticks": ""
           }
          },
          "title": {
           "x": 0.05
          },
          "xaxis": {
           "automargin": true,
           "gridcolor": "white",
           "linecolor": "white",
           "ticks": "",
           "title": {
            "standoff": 15
           },
           "zerolinecolor": "white",
           "zerolinewidth": 2
          },
          "yaxis": {
           "automargin": true,
           "gridcolor": "white",
           "linecolor": "white",
           "ticks": "",
           "title": {
            "standoff": 15
           },
           "zerolinecolor": "white",
           "zerolinewidth": 2
          }
         }
        },
        "width": 1600,
        "yaxis": {
         "range": [
          -1,
          3
         ]
        }
       }
      }
     },
     "metadata": {},
     "output_type": "display_data"
    },
    {
     "name": "stdout",
     "output_type": "stream",
     "text": [
      "89\n",
      "89\n"
     ]
    }
   ],
   "source": [
    "fig = go.Figure()\n",
    "i = 0\n",
    "colors = ['rgba(204, 25, 25', 'rgba(25, 114, 204', 'rgba(25, 204, 114', ]\n",
    "for player in ['jalen_chatfield']:\n",
    "    df = pd.read_csv(f'projections/20222023/{player}.csv')\n",
    "\n",
    "    time_type = 'Career Game'\n",
    "    fig.add_trace(go.Scatter(x=df[time_type], y=df['Projection'], mode='markers', opacity=0.15, marker=dict(color=colors[i] + ', 1)')))\n",
    "    fig.add_trace(go.Scatter(x=df[time_type], y=df['XGB'], name=player, mode='markers', marker=dict(color=colors[i] + ', 1)'))) \n",
    "    # fill to trace0 y\n",
    "    fig.add_trace(go.Scatter(x=df[time_type], y=df['XGB_Lowess'], name=player, mode='lines', marker=dict(color=colors[i] + ', 1)'))) # fill to trace0 y\n",
    "    i += 1\n",
    "fig.update_layout(autosize=False, width=1600, height=500)\n",
    "fig.update_yaxes(range = [-1,3])\n",
    "thresh = min(2.425, norm.ppf(0.98, loc=df['Potential'].mean(), scale=df['Potential'].std()))\n",
    "recent = df['Potential'].to_list()[-1]\n",
    "fig.show()\n",
    "print(round(100*(df['XGB_Lowess'].to_list()[-1]+5)/(7.5)))\n",
    "blend = min(2.425, (1.5*thresh+0.5*recent)/2)\n",
    "print(round(100*(blend+5)/(7.5)))\n"
   ]
  }
 ],
 "metadata": {
  "kernelspec": {
   "display_name": "Python 3",
   "language": "python",
   "name": "python3"
  },
  "language_info": {
   "codemirror_mode": {
    "name": "ipython",
    "version": 3
   },
   "file_extension": ".py",
   "mimetype": "text/x-python",
   "name": "python",
   "nbconvert_exporter": "python",
   "pygments_lexer": "ipython3",
   "version": "3.8.10"
  },
  "orig_nbformat": 4,
  "vscode": {
   "interpreter": {
    "hash": "31f2aee4e71d21fbe5cf8b01ff0e069b9275f58929596ceb00d14d90e3e16cd6"
   }
  }
 },
 "nbformat": 4,
 "nbformat_minor": 2
}
